{
 "cells": [
  {
   "cell_type": "markdown",
   "metadata": {},
   "source": [
    "# Выбор локации для скважины"
   ]
  },
  {
   "cell_type": "markdown",
   "metadata": {},
   "source": [
    "Заказчиком является добывающая компания.\n",
    "\n",
    "Требуется подготовить модель машинного обучения, которая должна предсказать в каком из регионов производить добычу нефти. Модель поможет оптимизировать добычу нефти, чтобы не начинать разработку в заведомо убыточных регионах. \n",
    "\n",
    "Бюджет на разработку скважин в регионе — 10 млрд рублей.\n",
    "Один баррель сырья приносит 450 рублей дохода. \n",
    "Вероятность убытков должна быть меньше 2,5%.\n",
    "\n",
    "**Данные**\n",
    "\n",
    "Предоставлены пробы нефти в трёх регионах: в каждом 10 000 месторождений, где измерили качество нефти и объём её запасов. \n",
    " - geo_data_0.csv  (для региона \"0\")\n",
    " - geo_data_1.csv  (для региона \"1\")\n",
    " - geo_data_2.csv  (для региона \"2\")\n",
    "\n",
    "Признаки:\n",
    " - id — уникальный идентификатор скважины;\n",
    " - f0, f1, f2 — три признака точек (неважно, что они означают, но сами признаки значимы);\n",
    " - product — объём запасов в скважине (тыс. баррелей) - целевой параметр"
   ]
  },
  {
   "cell_type": "markdown",
   "metadata": {},
   "source": [
    "## План работ"
   ]
  },
  {
   "cell_type": "markdown",
   "metadata": {},
   "source": [
    "- Загрузить библиотеки и данные\n",
    "- Провести исследовательский анализ\n",
    "- Создание пайплайна и подбор гиперпараметров с помощью кросс-валидации (оценка объемов запасов)\n",
    "- Рассчет прибыли и рисков\n",
    "- Выбор наиболее подходящего региона"
   ]
  },
  {
   "cell_type": "markdown",
   "metadata": {},
   "source": [
    "## Загрузка и подготовка данных"
   ]
  },
  {
   "cell_type": "markdown",
   "metadata": {},
   "source": [
    "### Загрузка библиотек и датасетов"
   ]
  },
  {
   "cell_type": "code",
   "execution_count": 1,
   "metadata": {},
   "outputs": [],
   "source": [
    "#установка недостающих библиотек  и недостающих обновлений в окружение\n",
    "!pip install shap -q\n",
    "!pip install phik -q\n",
    "!pip install -U scikit-learn -q"
   ]
  },
  {
   "cell_type": "code",
   "execution_count": 2,
   "metadata": {},
   "outputs": [],
   "source": [
    "#импорт библиотек и определение констант\n",
    "import pandas as pd\n",
    "import matplotlib.pyplot as plt\n",
    "import seaborn as sns\n",
    "import numpy as np\n",
    "\n",
    "from sklearn.model_selection import (\n",
    "    train_test_split, \n",
    "    GridSearchCV\n",
    ")\n",
    "\n",
    "from sklearn.impute import SimpleImputer\n",
    "from sklearn.pipeline import Pipeline\n",
    "from sklearn.compose import ColumnTransformer\n",
    "from sklearn import tree\n",
    "\n",
    "\n",
    "from sklearn.preprocessing import (\n",
    "    StandardScaler,\n",
    "    MinMaxScaler\n",
    ")\n",
    "\n",
    "from sklearn.linear_model import LinearRegression \n",
    "\n",
    "from sklearn.metrics import root_mean_squared_error\n",
    "\n",
    "import warnings\n",
    "\n",
    "RANDOM_STATE = 42\n",
    "\n",
    "# константы для рассчета безубыточности\n",
    "BUDGET = 10_000_000_000  # бюджет на разработку скважин в регионе\n",
    "PRICE_THOUSAND_BARREL = 450_000 # доход с одной тысячи барелей"
   ]
  },
  {
   "cell_type": "code",
   "execution_count": 3,
   "metadata": {},
   "outputs": [],
   "source": [
    "#игнорирование предупреждений\n",
    "#warnings.filterwarnings('ignore')"
   ]
  },
  {
   "cell_type": "code",
   "execution_count": 4,
   "metadata": {
    "scrolled": true
   },
   "outputs": [
    {
     "data": {
      "text/html": [
       "<div>\n",
       "<style scoped>\n",
       "    .dataframe tbody tr th:only-of-type {\n",
       "        vertical-align: middle;\n",
       "    }\n",
       "\n",
       "    .dataframe tbody tr th {\n",
       "        vertical-align: top;\n",
       "    }\n",
       "\n",
       "    .dataframe thead th {\n",
       "        text-align: right;\n",
       "    }\n",
       "</style>\n",
       "<table border=\"1\" class=\"dataframe\">\n",
       "  <thead>\n",
       "    <tr style=\"text-align: right;\">\n",
       "      <th></th>\n",
       "      <th>id</th>\n",
       "      <th>f0</th>\n",
       "      <th>f1</th>\n",
       "      <th>f2</th>\n",
       "      <th>product</th>\n",
       "    </tr>\n",
       "  </thead>\n",
       "  <tbody>\n",
       "    <tr>\n",
       "      <th>0</th>\n",
       "      <td>txEyH</td>\n",
       "      <td>0.705745</td>\n",
       "      <td>-0.497823</td>\n",
       "      <td>1.221170</td>\n",
       "      <td>105.280062</td>\n",
       "    </tr>\n",
       "    <tr>\n",
       "      <th>1</th>\n",
       "      <td>2acmU</td>\n",
       "      <td>1.334711</td>\n",
       "      <td>-0.340164</td>\n",
       "      <td>4.365080</td>\n",
       "      <td>73.037750</td>\n",
       "    </tr>\n",
       "    <tr>\n",
       "      <th>2</th>\n",
       "      <td>409Wp</td>\n",
       "      <td>1.022732</td>\n",
       "      <td>0.151990</td>\n",
       "      <td>1.419926</td>\n",
       "      <td>85.265647</td>\n",
       "    </tr>\n",
       "    <tr>\n",
       "      <th>3</th>\n",
       "      <td>iJLyR</td>\n",
       "      <td>-0.032172</td>\n",
       "      <td>0.139033</td>\n",
       "      <td>2.978566</td>\n",
       "      <td>168.620776</td>\n",
       "    </tr>\n",
       "    <tr>\n",
       "      <th>4</th>\n",
       "      <td>Xdl7t</td>\n",
       "      <td>1.988431</td>\n",
       "      <td>0.155413</td>\n",
       "      <td>4.751769</td>\n",
       "      <td>154.036647</td>\n",
       "    </tr>\n",
       "  </tbody>\n",
       "</table>\n",
       "</div>"
      ],
      "text/plain": [
       "      id        f0        f1        f2     product\n",
       "0  txEyH  0.705745 -0.497823  1.221170  105.280062\n",
       "1  2acmU  1.334711 -0.340164  4.365080   73.037750\n",
       "2  409Wp  1.022732  0.151990  1.419926   85.265647\n",
       "3  iJLyR -0.032172  0.139033  2.978566  168.620776\n",
       "4  Xdl7t  1.988431  0.155413  4.751769  154.036647"
      ]
     },
     "metadata": {},
     "output_type": "display_data"
    },
    {
     "name": "stdout",
     "output_type": "stream",
     "text": [
      "<class 'pandas.core.frame.DataFrame'>\n",
      "RangeIndex: 100000 entries, 0 to 99999\n",
      "Data columns (total 5 columns):\n",
      " #   Column   Non-Null Count   Dtype  \n",
      "---  ------   --------------   -----  \n",
      " 0   id       100000 non-null  object \n",
      " 1   f0       100000 non-null  float64\n",
      " 2   f1       100000 non-null  float64\n",
      " 3   f2       100000 non-null  float64\n",
      " 4   product  100000 non-null  float64\n",
      "dtypes: float64(4), object(1)\n",
      "memory usage: 3.8+ MB\n"
     ]
    }
   ],
   "source": [
    "#загрузка файла geo_data_0.csv\n",
    "data_0 = pd.read_csv('/datasets/geo_data_0.csv')\n",
    "display(data_0.head())\n",
    "data_0.info()"
   ]
  },
  {
   "cell_type": "code",
   "execution_count": 5,
   "metadata": {},
   "outputs": [
    {
     "data": {
      "text/html": [
       "<div>\n",
       "<style scoped>\n",
       "    .dataframe tbody tr th:only-of-type {\n",
       "        vertical-align: middle;\n",
       "    }\n",
       "\n",
       "    .dataframe tbody tr th {\n",
       "        vertical-align: top;\n",
       "    }\n",
       "\n",
       "    .dataframe thead th {\n",
       "        text-align: right;\n",
       "    }\n",
       "</style>\n",
       "<table border=\"1\" class=\"dataframe\">\n",
       "  <thead>\n",
       "    <tr style=\"text-align: right;\">\n",
       "      <th></th>\n",
       "      <th>id</th>\n",
       "      <th>f0</th>\n",
       "      <th>f1</th>\n",
       "      <th>f2</th>\n",
       "      <th>product</th>\n",
       "    </tr>\n",
       "  </thead>\n",
       "  <tbody>\n",
       "    <tr>\n",
       "      <th>0</th>\n",
       "      <td>kBEdx</td>\n",
       "      <td>-15.001348</td>\n",
       "      <td>-8.276000</td>\n",
       "      <td>-0.005876</td>\n",
       "      <td>3.179103</td>\n",
       "    </tr>\n",
       "    <tr>\n",
       "      <th>1</th>\n",
       "      <td>62mP7</td>\n",
       "      <td>14.272088</td>\n",
       "      <td>-3.475083</td>\n",
       "      <td>0.999183</td>\n",
       "      <td>26.953261</td>\n",
       "    </tr>\n",
       "    <tr>\n",
       "      <th>2</th>\n",
       "      <td>vyE1P</td>\n",
       "      <td>6.263187</td>\n",
       "      <td>-5.948386</td>\n",
       "      <td>5.001160</td>\n",
       "      <td>134.766305</td>\n",
       "    </tr>\n",
       "    <tr>\n",
       "      <th>3</th>\n",
       "      <td>KcrkZ</td>\n",
       "      <td>-13.081196</td>\n",
       "      <td>-11.506057</td>\n",
       "      <td>4.999415</td>\n",
       "      <td>137.945408</td>\n",
       "    </tr>\n",
       "    <tr>\n",
       "      <th>4</th>\n",
       "      <td>AHL4O</td>\n",
       "      <td>12.702195</td>\n",
       "      <td>-8.147433</td>\n",
       "      <td>5.004363</td>\n",
       "      <td>134.766305</td>\n",
       "    </tr>\n",
       "  </tbody>\n",
       "</table>\n",
       "</div>"
      ],
      "text/plain": [
       "      id         f0         f1        f2     product\n",
       "0  kBEdx -15.001348  -8.276000 -0.005876    3.179103\n",
       "1  62mP7  14.272088  -3.475083  0.999183   26.953261\n",
       "2  vyE1P   6.263187  -5.948386  5.001160  134.766305\n",
       "3  KcrkZ -13.081196 -11.506057  4.999415  137.945408\n",
       "4  AHL4O  12.702195  -8.147433  5.004363  134.766305"
      ]
     },
     "metadata": {},
     "output_type": "display_data"
    },
    {
     "name": "stdout",
     "output_type": "stream",
     "text": [
      "<class 'pandas.core.frame.DataFrame'>\n",
      "RangeIndex: 100000 entries, 0 to 99999\n",
      "Data columns (total 5 columns):\n",
      " #   Column   Non-Null Count   Dtype  \n",
      "---  ------   --------------   -----  \n",
      " 0   id       100000 non-null  object \n",
      " 1   f0       100000 non-null  float64\n",
      " 2   f1       100000 non-null  float64\n",
      " 3   f2       100000 non-null  float64\n",
      " 4   product  100000 non-null  float64\n",
      "dtypes: float64(4), object(1)\n",
      "memory usage: 3.8+ MB\n"
     ]
    }
   ],
   "source": [
    "#загрузка файла geo_data_1.csv\n",
    "data_1 = pd.read_csv('/datasets/geo_data_1.csv')\n",
    "display(data_1.head())\n",
    "data_1.info()"
   ]
  },
  {
   "cell_type": "code",
   "execution_count": 6,
   "metadata": {},
   "outputs": [
    {
     "data": {
      "text/html": [
       "<div>\n",
       "<style scoped>\n",
       "    .dataframe tbody tr th:only-of-type {\n",
       "        vertical-align: middle;\n",
       "    }\n",
       "\n",
       "    .dataframe tbody tr th {\n",
       "        vertical-align: top;\n",
       "    }\n",
       "\n",
       "    .dataframe thead th {\n",
       "        text-align: right;\n",
       "    }\n",
       "</style>\n",
       "<table border=\"1\" class=\"dataframe\">\n",
       "  <thead>\n",
       "    <tr style=\"text-align: right;\">\n",
       "      <th></th>\n",
       "      <th>id</th>\n",
       "      <th>f0</th>\n",
       "      <th>f1</th>\n",
       "      <th>f2</th>\n",
       "      <th>product</th>\n",
       "    </tr>\n",
       "  </thead>\n",
       "  <tbody>\n",
       "    <tr>\n",
       "      <th>0</th>\n",
       "      <td>fwXo0</td>\n",
       "      <td>-1.146987</td>\n",
       "      <td>0.963328</td>\n",
       "      <td>-0.828965</td>\n",
       "      <td>27.758673</td>\n",
       "    </tr>\n",
       "    <tr>\n",
       "      <th>1</th>\n",
       "      <td>WJtFt</td>\n",
       "      <td>0.262778</td>\n",
       "      <td>0.269839</td>\n",
       "      <td>-2.530187</td>\n",
       "      <td>56.069697</td>\n",
       "    </tr>\n",
       "    <tr>\n",
       "      <th>2</th>\n",
       "      <td>ovLUW</td>\n",
       "      <td>0.194587</td>\n",
       "      <td>0.289035</td>\n",
       "      <td>-5.586433</td>\n",
       "      <td>62.871910</td>\n",
       "    </tr>\n",
       "    <tr>\n",
       "      <th>3</th>\n",
       "      <td>q6cA6</td>\n",
       "      <td>2.236060</td>\n",
       "      <td>-0.553760</td>\n",
       "      <td>0.930038</td>\n",
       "      <td>114.572842</td>\n",
       "    </tr>\n",
       "    <tr>\n",
       "      <th>4</th>\n",
       "      <td>WPMUX</td>\n",
       "      <td>-0.515993</td>\n",
       "      <td>1.716266</td>\n",
       "      <td>5.899011</td>\n",
       "      <td>149.600746</td>\n",
       "    </tr>\n",
       "  </tbody>\n",
       "</table>\n",
       "</div>"
      ],
      "text/plain": [
       "      id        f0        f1        f2     product\n",
       "0  fwXo0 -1.146987  0.963328 -0.828965   27.758673\n",
       "1  WJtFt  0.262778  0.269839 -2.530187   56.069697\n",
       "2  ovLUW  0.194587  0.289035 -5.586433   62.871910\n",
       "3  q6cA6  2.236060 -0.553760  0.930038  114.572842\n",
       "4  WPMUX -0.515993  1.716266  5.899011  149.600746"
      ]
     },
     "metadata": {},
     "output_type": "display_data"
    },
    {
     "name": "stdout",
     "output_type": "stream",
     "text": [
      "<class 'pandas.core.frame.DataFrame'>\n",
      "RangeIndex: 100000 entries, 0 to 99999\n",
      "Data columns (total 5 columns):\n",
      " #   Column   Non-Null Count   Dtype  \n",
      "---  ------   --------------   -----  \n",
      " 0   id       100000 non-null  object \n",
      " 1   f0       100000 non-null  float64\n",
      " 2   f1       100000 non-null  float64\n",
      " 3   f2       100000 non-null  float64\n",
      " 4   product  100000 non-null  float64\n",
      "dtypes: float64(4), object(1)\n",
      "memory usage: 3.8+ MB\n"
     ]
    }
   ],
   "source": [
    "#загрузка файла geo_data_2.csv\n",
    "data_2 = pd.read_csv('/datasets/geo_data_2.csv')\n",
    "display(data_2.head())\n",
    "data_2.info()"
   ]
  },
  {
   "cell_type": "markdown",
   "metadata": {},
   "source": [
    "**Вывод**\n",
    "\n",
    "Были получены три файла:\n",
    "\n",
    "- geo_data_0.csv\n",
    "     - число строк: 100000\n",
    "     - число столбцов: 5\n",
    "     - пустые значения: нет\n",
    "     - типы данных: соответствуют данным в файлах\n",
    "     - переименование столбцов: не требуется\n",
    "\n",
    "- geo_data_1.csv\n",
    "     - число строк: 100000\n",
    "     - число столбцов: 5\n",
    "     - пустые значения: нет\n",
    "     - типы данных: соответствуют данным в файлах\n",
    "     - переименование столбцов: не требуется\n",
    "\n",
    "- geo_data_2.csv\n",
    "     - число строк: 100000\n",
    "     - число столбцов: 5\n",
    "     - пустые значения: нет\n",
    "     - типы данных: соответствуют данным в файлах\n",
    "     - переименование столбцов: не требуется"
   ]
  },
  {
   "cell_type": "markdown",
   "metadata": {},
   "source": [
    "### Предобработка данных"
   ]
  },
  {
   "cell_type": "markdown",
   "metadata": {},
   "source": [
    "#### Поиск явных дубликатов"
   ]
  },
  {
   "cell_type": "code",
   "execution_count": 7,
   "metadata": {},
   "outputs": [
    {
     "data": {
      "text/plain": [
       "0"
      ]
     },
     "execution_count": 7,
     "metadata": {},
     "output_type": "execute_result"
    }
   ],
   "source": [
    "#поиск дубликатов\n",
    "pd.concat([data_0, data_1, data_2]).duplicated().sum()"
   ]
  },
  {
   "cell_type": "markdown",
   "metadata": {},
   "source": [
    "**Вывод**\n",
    "\n",
    "Явные дубликаты не обнаружены"
   ]
  },
  {
   "cell_type": "markdown",
   "metadata": {},
   "source": [
    "#### Поиск неявных дубликатов"
   ]
  },
  {
   "cell_type": "code",
   "execution_count": 8,
   "metadata": {},
   "outputs": [
    {
     "name": "stdout",
     "output_type": "stream",
     "text": [
      "Число дублей номеров id: 10\n"
     ]
    }
   ],
   "source": [
    "# проверка наличия дублей id в файле data_0\n",
    "len_0 = len(data_0) - len(data_0['id'].unique())\n",
    "print('Число дублей номеров id:', (len_0 ))"
   ]
  },
  {
   "cell_type": "code",
   "execution_count": 9,
   "metadata": {},
   "outputs": [
    {
     "name": "stdout",
     "output_type": "stream",
     "text": [
      "Число дублей номеров id: 4\n"
     ]
    }
   ],
   "source": [
    "# проверка наличия дублей id в файле data_1\n",
    "len_1 = len(data_1) - len(data_1['id'].unique())\n",
    "print('Число дублей номеров id:', len_1 )"
   ]
  },
  {
   "cell_type": "code",
   "execution_count": 10,
   "metadata": {},
   "outputs": [
    {
     "name": "stdout",
     "output_type": "stream",
     "text": [
      "Число дублей номеров id: 4\n"
     ]
    }
   ],
   "source": [
    "# проверка наличия дублей id в файле data_2\n",
    "len_2 = len(data_2) - len(data_2['id'].unique())\n",
    "print('Число дублей номеров id:', len_2 )"
   ]
  },
  {
   "cell_type": "code",
   "execution_count": 11,
   "metadata": {},
   "outputs": [],
   "source": [
    "def del_id_dupl(df, len_):\n",
    "    \n",
    "    \"\"\"\n",
    "    функция для удаления строк с дубликатами id. \n",
    "    На вход принимает датафрейм и количество задублированных id\n",
    "    \"\"\"\n",
    "    # отбор задублированных id\n",
    "    index_dupl = (df['id']\n",
    "                    .value_counts()  # подсчет количества строк для каждого id\n",
    "                    .sort_values(ascending=False)  # сортиировка по убыванию\n",
    "                    .head(len_)  # берем только верхнюю часть с дублями\n",
    "                    .index)   # получение списка id дублей\n",
    "    df = df.query('id not in @index_dupl')  # удаление дублей из датасета\n",
    "    \n",
    "    print('Число дублей номеров id:', (len(df) - len(df['id'].unique())) )    # прооверка количества дублей после удаления\n",
    "    print('******************')\n",
    "    print(df.info())\n",
    "    return df\n",
    "    "
   ]
  },
  {
   "cell_type": "code",
   "execution_count": 12,
   "metadata": {},
   "outputs": [
    {
     "name": "stdout",
     "output_type": "stream",
     "text": [
      "Число дублей номеров id: 0\n",
      "******************\n",
      "<class 'pandas.core.frame.DataFrame'>\n",
      "Int64Index: 99980 entries, 0 to 99999\n",
      "Data columns (total 5 columns):\n",
      " #   Column   Non-Null Count  Dtype  \n",
      "---  ------   --------------  -----  \n",
      " 0   id       99980 non-null  object \n",
      " 1   f0       99980 non-null  float64\n",
      " 2   f1       99980 non-null  float64\n",
      " 3   f2       99980 non-null  float64\n",
      " 4   product  99980 non-null  float64\n",
      "dtypes: float64(4), object(1)\n",
      "memory usage: 4.6+ MB\n",
      "None\n"
     ]
    }
   ],
   "source": [
    "data_0 = del_id_dupl(data_0, len_0)"
   ]
  },
  {
   "cell_type": "code",
   "execution_count": 13,
   "metadata": {},
   "outputs": [
    {
     "name": "stdout",
     "output_type": "stream",
     "text": [
      "Число дублей номеров id: 0\n",
      "******************\n",
      "<class 'pandas.core.frame.DataFrame'>\n",
      "Int64Index: 99992 entries, 0 to 99999\n",
      "Data columns (total 5 columns):\n",
      " #   Column   Non-Null Count  Dtype  \n",
      "---  ------   --------------  -----  \n",
      " 0   id       99992 non-null  object \n",
      " 1   f0       99992 non-null  float64\n",
      " 2   f1       99992 non-null  float64\n",
      " 3   f2       99992 non-null  float64\n",
      " 4   product  99992 non-null  float64\n",
      "dtypes: float64(4), object(1)\n",
      "memory usage: 4.6+ MB\n",
      "None\n"
     ]
    }
   ],
   "source": [
    "data_1 = del_id_dupl(data_1, len_1)"
   ]
  },
  {
   "cell_type": "code",
   "execution_count": 14,
   "metadata": {},
   "outputs": [
    {
     "name": "stdout",
     "output_type": "stream",
     "text": [
      "Число дублей номеров id: 0\n",
      "******************\n",
      "<class 'pandas.core.frame.DataFrame'>\n",
      "Int64Index: 99992 entries, 0 to 99999\n",
      "Data columns (total 5 columns):\n",
      " #   Column   Non-Null Count  Dtype  \n",
      "---  ------   --------------  -----  \n",
      " 0   id       99992 non-null  object \n",
      " 1   f0       99992 non-null  float64\n",
      " 2   f1       99992 non-null  float64\n",
      " 3   f2       99992 non-null  float64\n",
      " 4   product  99992 non-null  float64\n",
      "dtypes: float64(4), object(1)\n",
      "memory usage: 4.6+ MB\n",
      "None\n"
     ]
    }
   ],
   "source": [
    "data_2 = del_id_dupl(data_2, len_2)"
   ]
  },
  {
   "cell_type": "code",
   "execution_count": 15,
   "metadata": {},
   "outputs": [
    {
     "data": {
      "text/plain": [
       "0"
      ]
     },
     "execution_count": 15,
     "metadata": {},
     "output_type": "execute_result"
    }
   ],
   "source": [
    "#поиск дубликатов значений параметров (после удаления id)\n",
    "pd.concat([data_0, data_1, data_2]).drop(['id'], axis=1).duplicated().sum()"
   ]
  },
  {
   "cell_type": "markdown",
   "metadata": {},
   "source": [
    "**Вывод**\n",
    "\n",
    "Обнаружено, что во всех трех датасетах есть незначительное количетсов задублированных номеров id. Такие данные из датасетов были удалены."
   ]
  },
  {
   "cell_type": "markdown",
   "metadata": {},
   "source": [
    "### Исследовательский анализ данных"
   ]
  },
  {
   "cell_type": "code",
   "execution_count": 16,
   "metadata": {},
   "outputs": [],
   "source": [
    "def hist_box_diagramm(df, list):\n",
    "    \"\"\"\n",
    "    функция для строительства гистограммы и ящика с усами.\n",
    "    на вход получает датафрейм и список полей для которых нужно построить графики\n",
    "    \"\"\"\n",
    "    for element in list:   \n",
    "        \n",
    "        # создание объекта из двух: гстограммы и ящика с усами\n",
    "        f, (ax_box, ax_hist) = plt.subplots(2, sharex=True, gridspec_kw={'height_ratios': (.15, .85)})\n",
    "        \n",
    "        # назначение графика каждой переменной\n",
    "        sns.boxplot(df[element], orient='h', ax=ax_box)\n",
    "        sns.histplot(df, x=element);\n",
    "        \n",
    "        print(f\"Графики для поля: {element}\")\n",
    "\n",
    "        # удаление подписи для оси х\n",
    "        ax_box.set(xlabel='')\n",
    "        plt.show()"
   ]
  },
  {
   "cell_type": "code",
   "execution_count": 17,
   "metadata": {
    "scrolled": true
   },
   "outputs": [
    {
     "name": "stderr",
     "output_type": "stream",
     "text": [
      "/opt/conda/lib/python3.9/site-packages/seaborn/_decorators.py:36: FutureWarning: Pass the following variable as a keyword arg: x. From version 0.12, the only valid positional argument will be `data`, and passing other arguments without an explicit keyword will result in an error or misinterpretation.\n",
      "  warnings.warn(\n"
     ]
    },
    {
     "name": "stdout",
     "output_type": "stream",
     "text": [
      "Графики для поля: f0\n"
     ]
    },
    {
     "data": {
      "image/png": "[encoded data removed]",
      "text/plain": [
       "<Figure size 432x288 with 2 Axes>"
      ]
     },
     "metadata": {
      "needs_background": "light"
     },
     "output_type": "display_data"
    },
    {
     "name": "stderr",
     "output_type": "stream",
     "text": [
      "/opt/conda/lib/python3.9/site-packages/seaborn/_decorators.py:36: FutureWarning: Pass the following variable as a keyword arg: x. From version 0.12, the only valid positional argument will be `data`, and passing other arguments without an explicit keyword will result in an error or misinterpretation.\n",
      "  warnings.warn(\n"
     ]
    },
    {
     "name": "stdout",
     "output_type": "stream",
     "text": [
      "Графики для поля: f1\n"
     ]
    },
    {
     "data": {
      "image/png": "[encoded data removed]",
      "text/plain": [
       "<Figure size 432x288 with 2 Axes>"
      ]
     },
     "metadata": {
      "needs_background": "light"
     },
     "output_type": "display_data"
    },
    {
     "name": "stderr",
     "output_type": "stream",
     "text": [
      "/opt/conda/lib/python3.9/site-packages/seaborn/_decorators.py:36: FutureWarning: Pass the following variable as a keyword arg: x. From version 0.12, the only valid positional argument will be `data`, and passing other arguments without an explicit keyword will result in an error or misinterpretation.\n",
      "  warnings.warn(\n"
     ]
    },
    {
     "name": "stdout",
     "output_type": "stream",
     "text": [
      "Графики для поля: f2\n"
     ]
    },
    {
     "data": {
      "image/png": "[encoded data removed]",
      "text/plain": [
       "<Figure size 432x288 with 2 Axes>"
      ]
     },
     "metadata": {
      "needs_background": "light"
     },
     "output_type": "display_data"
    },
    {
     "name": "stderr",
     "output_type": "stream",
     "text": [
      "/opt/conda/lib/python3.9/site-packages/seaborn/_decorators.py:36: FutureWarning: Pass the following variable as a keyword arg: x. From version 0.12, the only valid positional argument will be `data`, and passing other arguments without an explicit keyword will result in an error or misinterpretation.\n",
      "  warnings.warn(\n"
     ]
    },
    {
     "name": "stdout",
     "output_type": "stream",
     "text": [
      "Графики для поля: product\n"
     ]
    },
    {
     "data": {
      "image/png": "[encoded data removed]",
      "text/plain": [
       "<Figure size 432x288 with 2 Axes>"
      ]
     },
     "metadata": {
      "needs_background": "light"
     },
     "output_type": "display_data"
    }
   ],
   "source": [
    "hist_box_diagramm(data_0, ['f0', 'f1', 'f2', 'product'])"
   ]
  },
  {
   "cell_type": "code",
   "execution_count": 18,
   "metadata": {},
   "outputs": [
    {
     "name": "stderr",
     "output_type": "stream",
     "text": [
      "/opt/conda/lib/python3.9/site-packages/seaborn/_decorators.py:36: FutureWarning: Pass the following variable as a keyword arg: x. From version 0.12, the only valid positional argument will be `data`, and passing other arguments without an explicit keyword will result in an error or misinterpretation.\n",
      "  warnings.warn(\n"
     ]
    },
    {
     "name": "stdout",
     "output_type": "stream",
     "text": [
      "Графики для поля: f0\n"
     ]
    },
    {
     "data": {
      "image/png": "[encoded data removed]",
      "text/plain": [
       "<Figure size 432x288 with 2 Axes>"
      ]
     },
     "metadata": {
      "needs_background": "light"
     },
     "output_type": "display_data"
    },
    {
     "name": "stderr",
     "output_type": "stream",
     "text": [
      "/opt/conda/lib/python3.9/site-packages/seaborn/_decorators.py:36: FutureWarning: Pass the following variable as a keyword arg: x. From version 0.12, the only valid positional argument will be `data`, and passing other arguments without an explicit keyword will result in an error or misinterpretation.\n",
      "  warnings.warn(\n"
     ]
    },
    {
     "name": "stdout",
     "output_type": "stream",
     "text": [
      "Графики для поля: f1\n"
     ]
    },
    {
     "data": {
      "image/png": "[encoded data removed]",
      "text/plain": [
       "<Figure size 432x288 with 2 Axes>"
      ]
     },
     "metadata": {
      "needs_background": "light"
     },
     "output_type": "display_data"
    },
    {
     "name": "stderr",
     "output_type": "stream",
     "text": [
      "/opt/conda/lib/python3.9/site-packages/seaborn/_decorators.py:36: FutureWarning: Pass the following variable as a keyword arg: x. From version 0.12, the only valid positional argument will be `data`, and passing other arguments without an explicit keyword will result in an error or misinterpretation.\n",
      "  warnings.warn(\n"
     ]
    },
    {
     "name": "stdout",
     "output_type": "stream",
     "text": [
      "Графики для поля: f2\n"
     ]
    },
    {
     "data": {
      "image/png": "[encoded data removed]",
      "text/plain": [
       "<Figure size 432x288 with 2 Axes>"
      ]
     },
     "metadata": {
      "needs_background": "light"
     },
     "output_type": "display_data"
    },
    {
     "name": "stderr",
     "output_type": "stream",
     "text": [
      "/opt/conda/lib/python3.9/site-packages/seaborn/_decorators.py:36: FutureWarning: Pass the following variable as a keyword arg: x. From version 0.12, the only valid positional argument will be `data`, and passing other arguments without an explicit keyword will result in an error or misinterpretation.\n",
      "  warnings.warn(\n"
     ]
    },
    {
     "name": "stdout",
     "output_type": "stream",
     "text": [
      "Графики для поля: product\n"
     ]
    },
    {
     "data": {
      "image/png": "[encoded data removed]",
      "text/plain": [
       "<Figure size 432x288 with 2 Axes>"
      ]
     },
     "metadata": {
      "needs_background": "light"
     },
     "output_type": "display_data"
    }
   ],
   "source": [
    "hist_box_diagramm(data_1, ['f0', 'f1', 'f2', 'product'])"
   ]
  },
  {
   "cell_type": "code",
   "execution_count": 19,
   "metadata": {},
   "outputs": [
    {
     "name": "stderr",
     "output_type": "stream",
     "text": [
      "/opt/conda/lib/python3.9/site-packages/seaborn/_decorators.py:36: FutureWarning: Pass the following variable as a keyword arg: x. From version 0.12, the only valid positional argument will be `data`, and passing other arguments without an explicit keyword will result in an error or misinterpretation.\n",
      "  warnings.warn(\n"
     ]
    },
    {
     "name": "stdout",
     "output_type": "stream",
     "text": [
      "Графики для поля: f0\n"
     ]
    },
    {
     "data": {
      "image/png": "[encoded data removed]",
      "text/plain": [
       "<Figure size 432x288 with 2 Axes>"
      ]
     },
     "metadata": {
      "needs_background": "light"
     },
     "output_type": "display_data"
    },
    {
     "name": "stderr",
     "output_type": "stream",
     "text": [
      "/opt/conda/lib/python3.9/site-packages/seaborn/_decorators.py:36: FutureWarning: Pass the following variable as a keyword arg: x. From version 0.12, the only valid positional argument will be `data`, and passing other arguments without an explicit keyword will result in an error or misinterpretation.\n",
      "  warnings.warn(\n"
     ]
    },
    {
     "name": "stdout",
     "output_type": "stream",
     "text": [
      "Графики для поля: f1\n"
     ]
    },
    {
     "data": {
      "image/png": "[encoded data removed]",
      "text/plain": [
       "<Figure size 432x288 with 2 Axes>"
      ]
     },
     "metadata": {
      "needs_background": "light"
     },
     "output_type": "display_data"
    },
    {
     "name": "stderr",
     "output_type": "stream",
     "text": [
      "/opt/conda/lib/python3.9/site-packages/seaborn/_decorators.py:36: FutureWarning: Pass the following variable as a keyword arg: x. From version 0.12, the only valid positional argument will be `data`, and passing other arguments without an explicit keyword will result in an error or misinterpretation.\n",
      "  warnings.warn(\n"
     ]
    },
    {
     "name": "stdout",
     "output_type": "stream",
     "text": [
      "Графики для поля: f2\n"
     ]
    },
    {
     "data": {
      "image/png": "[encoded data removed]",
      "text/plain": [
       "<Figure size 432x288 with 2 Axes>"
      ]
     },
     "metadata": {
      "needs_background": "light"
     },
     "output_type": "display_data"
    },
    {
     "name": "stderr",
     "output_type": "stream",
     "text": [
      "/opt/conda/lib/python3.9/site-packages/seaborn/_decorators.py:36: FutureWarning: Pass the following variable as a keyword arg: x. From version 0.12, the only valid positional argument will be `data`, and passing other arguments without an explicit keyword will result in an error or misinterpretation.\n",
      "  warnings.warn(\n"
     ]
    },
    {
     "name": "stdout",
     "output_type": "stream",
     "text": [
      "Графики для поля: product\n"
     ]
    },
    {
     "data": {
      "image/png": "[encoded data removed]",
      "text/plain": [
       "<Figure size 432x288 with 2 Axes>"
      ]
     },
     "metadata": {
      "needs_background": "light"
     },
     "output_type": "display_data"
    }
   ],
   "source": [
    "hist_box_diagramm(data_2, ['f0', 'f1', 'f2', 'product'])"
   ]
  },
  {
   "cell_type": "code",
   "execution_count": 20,
   "metadata": {},
   "outputs": [],
   "source": [
    "def corr_num(df, list):\n",
    "    \"\"\"\n",
    "    функция, которая строит матрицу корреляций Пирсона. На вход получает датафрейм и список числовых параметров\n",
    "    для которых требуется найти корреляцию. На выходе выдает матрицу корреляции\n",
    "    \"\"\"\n",
    "    plt.figure(figsize=(5, 4));\n",
    "    sns.heatmap(df\n",
    "                .loc[:, list]  #отбор нужных столбцов\n",
    "                .corr(), annot=True, cmap='coolwarm', vmin=-1 # построение матрицы корреляции\n",
    "               );\n",
    "    plt.title('Корреляционная матрица между числовыми параметрами');"
   ]
  },
  {
   "cell_type": "code",
   "execution_count": 21,
   "metadata": {},
   "outputs": [
    {
     "data": {
      "image/png": "[encoded data removed]",
      "text/plain": [
       "<Figure size 360x288 with 2 Axes>"
      ]
     },
     "metadata": {
      "needs_background": "light"
     },
     "output_type": "display_data"
    }
   ],
   "source": [
    "corr_num(data_0, ['f0', 'f1', 'f2', 'product'])"
   ]
  },
  {
   "cell_type": "code",
   "execution_count": 22,
   "metadata": {},
   "outputs": [
    {
     "data": {
      "image/png": "[encoded data removed]",
      "text/plain": [
       "<Figure size 360x288 with 2 Axes>"
      ]
     },
     "metadata": {
      "needs_background": "light"
     },
     "output_type": "display_data"
    }
   ],
   "source": [
    "corr_num(data_1, ['f0', 'f1', 'f2', 'product'])"
   ]
  },
  {
   "cell_type": "code",
   "execution_count": 23,
   "metadata": {},
   "outputs": [
    {
     "data": {
      "image/png": "[encoded data removed]",
      "text/plain": [
       "<Figure size 360x288 with 2 Axes>"
      ]
     },
     "metadata": {
      "needs_background": "light"
     },
     "output_type": "display_data"
    }
   ],
   "source": [
    "corr_num(data_2, ['f0', 'f1', 'f2', 'product'])"
   ]
  },
  {
   "cell_type": "markdown",
   "metadata": {},
   "source": [
    "Корреляционный анализ показал, что коррелияция между f2 и product для датасета geo_data_1.csv равна 1. Стоит проверить не являются ли данные в одном столбце результатом умножения данных из другого столбца на коэффициент."
   ]
  },
  {
   "cell_type": "code",
   "execution_count": 24,
   "metadata": {},
   "outputs": [
    {
     "data": {
      "text/plain": [
       "91757"
      ]
     },
     "execution_count": 24,
     "metadata": {},
     "output_type": "execute_result"
    }
   ],
   "source": [
    "# проверка является ли папраметр f0 результатом прямого умножения целевого параметра на коэффициент\n",
    "\n",
    "# отбор строк с ненулевым значением product\n",
    "data = data_1.query('product != 0')\n",
    "# рассчет коэффициентов\n",
    "coef = data['f2'] / data['product']\n",
    "# проверка количества различных коэффициентов\n",
    "len(coef.unique())"
   ]
  },
  {
   "cell_type": "code",
   "execution_count": 25,
   "metadata": {},
   "outputs": [
    {
     "data": {
      "image/png": "[encoded data removed]",
      "text/plain": [
       "<Figure size 432x288 with 1 Axes>"
      ]
     },
     "metadata": {
      "needs_background": "light"
     },
     "output_type": "display_data"
    }
   ],
   "source": [
    "# график коэффициентов\n",
    "coef.hist(bins=50);"
   ]
  },
  {
   "cell_type": "markdown",
   "metadata": {},
   "source": [
    "**Вывод**\n",
    "\n",
    "По результатам исследования данных понятно, что распределения данных в трех регионах разные. Поэтому необходимо обучать три разные модели (для каждого региона свою). Более того, судя по всему, данные для параметров f2 и product для датасета geo_data_1.csv собирались спобом отличным от двух других регионов, что видно на графиках для этих параметров.\n",
    "\n",
    "\n",
    "Корреляционный анализ показал, что коррелияция между f2 и product для датасета geo_data_1.csv равна 1. Проведена проверка не являются ли данные в одном столбце результатом умножения данных из другого столбца на коэффициент. Нет, не являются. Удаление признаков не требуется."
   ]
  },
  {
   "cell_type": "markdown",
   "metadata": {},
   "source": [
    "## Обучение и проверка модели"
   ]
  },
  {
   "cell_type": "markdown",
   "metadata": {},
   "source": [
    "### Создание переменных для пайплайна"
   ]
  },
  {
   "cell_type": "code",
   "execution_count": 26,
   "metadata": {},
   "outputs": [],
   "source": [
    "#количественные признаки\n",
    "num_columns = ['f0', 'f1', 'f2']"
   ]
  },
  {
   "cell_type": "code",
   "execution_count": 27,
   "metadata": {},
   "outputs": [],
   "source": [
    "def train_test_split_func(df, RANDOM_STATE):\n",
    "    \"\"\"\n",
    "    Функция для разбиения датафрейма на тренировочные и тестовые выборки.\n",
    "    На вход получает датафрейм и RANDOM_STATE, на выход отдает 4 выборки (2 тренировочне, 2 тестовые) \n",
    "    с разбиением 75/25  тренировочные/тестовые\n",
    "    \"\"\"\n",
    "    X = df.drop(['id', 'product'], axis=1)\n",
    "    y = df['product']\n",
    "\n",
    "    X_train, X_test, y_train, y_test = train_test_split(X, y, test_size=0.25, random_state=RANDOM_STATE)\n",
    "    return X_train, X_test, y_train, y_test"
   ]
  },
  {
   "cell_type": "code",
   "execution_count": 28,
   "metadata": {},
   "outputs": [
    {
     "data": {
      "text/plain": [
       "((74985, 3), (24995, 3), (74985,), (24995,))"
      ]
     },
     "execution_count": 28,
     "metadata": {},
     "output_type": "execute_result"
    }
   ],
   "source": [
    "#деление на тренировочные и тестовые выборки\n",
    "X0_train, X0_test, y0_train, y0_test = train_test_split_func(data_0, RANDOM_STATE)\n",
    "X0_train.shape, X0_test.shape, y0_train.shape, y0_test.shape"
   ]
  },
  {
   "cell_type": "code",
   "execution_count": 29,
   "metadata": {},
   "outputs": [
    {
     "data": {
      "text/plain": [
       "((74994, 3), (24998, 3), (74994,), (24998,))"
      ]
     },
     "execution_count": 29,
     "metadata": {},
     "output_type": "execute_result"
    }
   ],
   "source": [
    "#деление на тренировочные и тестовые выборки и параллельное удаление признака f2 из датасета\n",
    "X1_train, X1_test, y1_train, y1_test = train_test_split_func(data_1, RANDOM_STATE)\n",
    "X1_train.shape, X1_test.shape, y1_train.shape, y1_test.shape"
   ]
  },
  {
   "cell_type": "code",
   "execution_count": 30,
   "metadata": {},
   "outputs": [
    {
     "data": {
      "text/plain": [
       "((74994, 3), (24998, 3), (74994,), (24998,))"
      ]
     },
     "execution_count": 30,
     "metadata": {},
     "output_type": "execute_result"
    }
   ],
   "source": [
    "#деление на тренировочные и тестовые выборки\n",
    "X2_train, X2_test, y2_train, y2_test = train_test_split_func(data_2, RANDOM_STATE)\n",
    "X2_train.shape, X2_test.shape, y2_train.shape, y2_test.shape"
   ]
  },
  {
   "cell_type": "markdown",
   "metadata": {},
   "source": [
    "**Вывод**\n",
    "\n",
    "Соданы обучающие и тренировочные выборки для всех трех моделей. Также созданы переменные со списками числовых параметров."
   ]
  },
  {
   "cell_type": "markdown",
   "metadata": {},
   "source": [
    "### Создание пайплайна"
   ]
  },
  {
   "cell_type": "code",
   "execution_count": 31,
   "metadata": {},
   "outputs": [],
   "source": [
    "def pipe_line_cv(num_list):\n",
    "    \"\"\"\n",
    "    функция с пайплайном. принимает на вход список наименований числовых параметров.\n",
    "    на выходе отдает модель кроссвалидации готовой для обучения\n",
    "    \"\"\"\n",
    "    # пайплайн для препроцессинга\n",
    "    data_preprocessor = ColumnTransformer(\n",
    "        [\n",
    "            ('num', MinMaxScaler(), num_list)\n",
    "        ], \n",
    "        remainder='passthrough'\n",
    "    ) \n",
    "\n",
    "    # итоговый пайплайн: подготовка данных и модель\n",
    "    pipe_final = Pipeline(\n",
    "        [\n",
    "            ('preprocessor', data_preprocessor),\n",
    "            ('models', LinearRegression())\n",
    "        ]\n",
    "    ) \n",
    "\n",
    "    #параметры для кросс-валидации\n",
    "    param_distributions = [\n",
    "        # словарь для модели LinearRegression()\n",
    "        {\n",
    "            'models': [LinearRegression()],\n",
    "            'preprocessor__num': [StandardScaler(), MinMaxScaler(), 'passthrough']  \n",
    "        }\n",
    "    ]\n",
    "\n",
    "    #кросс-валидация\n",
    "    search_cv = GridSearchCV(\n",
    "        pipe_final, \n",
    "        param_distributions, \n",
    "        cv=5, \n",
    "        scoring='neg_mean_squared_error', \n",
    "        n_jobs=-1,\n",
    "        error_score='raise'\n",
    "    )\n",
    "    return search_cv"
   ]
  },
  {
   "cell_type": "code",
   "execution_count": 32,
   "metadata": {},
   "outputs": [],
   "source": [
    "GridCV_0 = pipe_line_cv(num_columns)"
   ]
  },
  {
   "cell_type": "code",
   "execution_count": 33,
   "metadata": {},
   "outputs": [],
   "source": [
    "GridCV_0.fit(X0_train, y0_train);"
   ]
  },
  {
   "cell_type": "code",
   "execution_count": 34,
   "metadata": {},
   "outputs": [
    {
     "name": "stdout",
     "output_type": "stream",
     "text": [
      "Метрика лучшей модели на тренировочной выборке: 37.67199756191733\n",
      "Метрика RMSE на тестовой выборке: 37.76114714593895\n"
     ]
    }
   ],
   "source": [
    "#вывод метрики для лучшей модели на теринировочной выборке\n",
    "print ('Метрика лучшей модели на тренировочной выборке:', ((-1) * GridCV_0.best_score_) ** 0.5 )\n",
    "\n",
    "# предсказание на тестовых данных и вывод метрики для предсказания\n",
    "y0_test_pred = GridCV_0.predict(X0_test)\n",
    "print(f'Метрика RMSE на тестовой выборке: {root_mean_squared_error(y0_test, y0_test_pred)}')"
   ]
  },
  {
   "cell_type": "code",
   "execution_count": 35,
   "metadata": {},
   "outputs": [
    {
     "data": {
      "text/html": [
       "<style>#sk-container-id-1 {\n",
       "  /* Definition of color scheme common for light and dark mode */\n",
       "  --sklearn-color-text: black;\n",
       "  --sklearn-color-line: gray;\n",
       "  /* Definition of color scheme for unfitted estimators */\n",
       "  --sklearn-color-unfitted-level-0: #fff5e6;\n",
       "  --sklearn-color-unfitted-level-1: #f6e4d2;\n",
       "  --sklearn-color-unfitted-level-2: #ffe0b3;\n",
       "  --sklearn-color-unfitted-level-3: chocolate;\n",
       "  /* Definition of color scheme for fitted estimators */\n",
       "  --sklearn-color-fitted-level-0: #f0f8ff;\n",
       "  --sklearn-color-fitted-level-1: #d4ebff;\n",
       "  --sklearn-color-fitted-level-2: #b3dbfd;\n",
       "  --sklearn-color-fitted-level-3: cornflowerblue;\n",
       "\n",
       "  /* Specific color for light theme */\n",
       "  --sklearn-color-text-on-default-background: var(--sg-text-color, var(--theme-code-foreground, var(--jp-content-font-color1, black)));\n",
       "  --sklearn-color-background: var(--sg-background-color, var(--theme-background, var(--jp-layout-color0, white)));\n",
       "  --sklearn-color-border-box: var(--sg-text-color, var(--theme-code-foreground, var(--jp-content-font-color1, black)));\n",
       "  --sklearn-color-icon: #696969;\n",
       "\n",
       "  @media (prefers-color-scheme: dark) {\n",
       "    /* Redefinition of color scheme for dark theme */\n",
       "    --sklearn-color-text-on-default-background: var(--sg-text-color, var(--theme-code-foreground, var(--jp-content-font-color1, white)));\n",
       "    --sklearn-color-background: var(--sg-background-color, var(--theme-background, var(--jp-layout-color0, #111)));\n",
       "    --sklearn-color-border-box: var(--sg-text-color, var(--theme-code-foreground, var(--jp-content-font-color1, white)));\n",
       "    --sklearn-color-icon: #878787;\n",
       "  }\n",
       "}\n",
       "\n",
       "#sk-container-id-1 {\n",
       "  color: var(--sklearn-color-text);\n",
       "}\n",
       "\n",
       "#sk-container-id-1 pre {\n",
       "  padding: 0;\n",
       "}\n",
       "\n",
       "#sk-container-id-1 input.sk-hidden--visually {\n",
       "  border: 0;\n",
       "  clip: rect(1px 1px 1px 1px);\n",
       "  clip: rect(1px, 1px, 1px, 1px);\n",
       "  height: 1px;\n",
       "  margin: -1px;\n",
       "  overflow: hidden;\n",
       "  padding: 0;\n",
       "  position: absolute;\n",
       "  width: 1px;\n",
       "}\n",
       "\n",
       "#sk-container-id-1 div.sk-dashed-wrapped {\n",
       "  border: 1px dashed var(--sklearn-color-line);\n",
       "  margin: 0 0.4em 0.5em 0.4em;\n",
       "  box-sizing: border-box;\n",
       "  padding-bottom: 0.4em;\n",
       "  background-color: var(--sklearn-color-background);\n",
       "}\n",
       "\n",
       "#sk-container-id-1 div.sk-container {\n",
       "  /* jupyter's `normalize.less` sets `[hidden] { display: none; }`\n",
       "     but bootstrap.min.css set `[hidden] { display: none !important; }`\n",
       "     so we also need the `!important` here to be able to override the\n",
       "     default hidden behavior on the sphinx rendered scikit-learn.org.\n",
       "     See: https://github.com/scikit-learn/scikit-learn/issues/21755 */\n",
       "  display: inline-block !important;\n",
       "  position: relative;\n",
       "}\n",
       "\n",
       "#sk-container-id-1 div.sk-text-repr-fallback {\n",
       "  display: none;\n",
       "}\n",
       "\n",
       "div.sk-parallel-item,\n",
       "div.sk-serial,\n",
       "div.sk-item {\n",
       "  /* draw centered vertical line to link estimators */\n",
       "  background-image: linear-gradient(var(--sklearn-color-text-on-default-background), var(--sklearn-color-text-on-default-background));\n",
       "  background-size: 2px 100%;\n",
       "  background-repeat: no-repeat;\n",
       "  background-position: center center;\n",
       "}\n",
       "\n",
       "/* Parallel-specific style estimator block */\n",
       "\n",
       "#sk-container-id-1 div.sk-parallel-item::after {\n",
       "  content: \"\";\n",
       "  width: 100%;\n",
       "  border-bottom: 2px solid var(--sklearn-color-text-on-default-background);\n",
       "  flex-grow: 1;\n",
       "}\n",
       "\n",
       "#sk-container-id-1 div.sk-parallel {\n",
       "  display: flex;\n",
       "  align-items: stretch;\n",
       "  justify-content: center;\n",
       "  background-color: var(--sklearn-color-background);\n",
       "  position: relative;\n",
       "}\n",
       "\n",
       "#sk-container-id-1 div.sk-parallel-item {\n",
       "  display: flex;\n",
       "  flex-direction: column;\n",
       "}\n",
       "\n",
       "#sk-container-id-1 div.sk-parallel-item:first-child::after {\n",
       "  align-self: flex-end;\n",
       "  width: 50%;\n",
       "}\n",
       "\n",
       "#sk-container-id-1 div.sk-parallel-item:last-child::after {\n",
       "  align-self: flex-start;\n",
       "  width: 50%;\n",
       "}\n",
       "\n",
       "#sk-container-id-1 div.sk-parallel-item:only-child::after {\n",
       "  width: 0;\n",
       "}\n",
       "\n",
       "/* Serial-specific style estimator block */\n",
       "\n",
       "#sk-container-id-1 div.sk-serial {\n",
       "  display: flex;\n",
       "  flex-direction: column;\n",
       "  align-items: center;\n",
       "  background-color: var(--sklearn-color-background);\n",
       "  padding-right: 1em;\n",
       "  padding-left: 1em;\n",
       "}\n",
       "\n",
       "\n",
       "/* Toggleable style: style used for estimator/Pipeline/ColumnTransformer box that is\n",
       "clickable and can be expanded/collapsed.\n",
       "- Pipeline and ColumnTransformer use this feature and define the default style\n",
       "- Estimators will overwrite some part of the style using the `sk-estimator` class\n",
       "*/\n",
       "\n",
       "/* Pipeline and ColumnTransformer style (default) */\n",
       "\n",
       "#sk-container-id-1 div.sk-toggleable {\n",
       "  /* Default theme specific background. It is overwritten whether we have a\n",
       "  specific estimator or a Pipeline/ColumnTransformer */\n",
       "  background-color: var(--sklearn-color-background);\n",
       "}\n",
       "\n",
       "/* Toggleable label */\n",
       "#sk-container-id-1 label.sk-toggleable__label {\n",
       "  cursor: pointer;\n",
       "  display: block;\n",
       "  width: 100%;\n",
       "  margin-bottom: 0;\n",
       "  padding: 0.5em;\n",
       "  box-sizing: border-box;\n",
       "  text-align: center;\n",
       "}\n",
       "\n",
       "#sk-container-id-1 label.sk-toggleable__label-arrow:before {\n",
       "  /* Arrow on the left of the label */\n",
       "  content: \"▸\";\n",
       "  float: left;\n",
       "  margin-right: 0.25em;\n",
       "  color: var(--sklearn-color-icon);\n",
       "}\n",
       "\n",
       "#sk-container-id-1 label.sk-toggleable__label-arrow:hover:before {\n",
       "  color: var(--sklearn-color-text);\n",
       "}\n",
       "\n",
       "/* Toggleable content - dropdown */\n",
       "\n",
       "#sk-container-id-1 div.sk-toggleable__content {\n",
       "  max-height: 0;\n",
       "  max-width: 0;\n",
       "  overflow: hidden;\n",
       "  text-align: left;\n",
       "  /* unfitted */\n",
       "  background-color: var(--sklearn-color-unfitted-level-0);\n",
       "}\n",
       "\n",
       "#sk-container-id-1 div.sk-toggleable__content.fitted {\n",
       "  /* fitted */\n",
       "  background-color: var(--sklearn-color-fitted-level-0);\n",
       "}\n",
       "\n",
       "#sk-container-id-1 div.sk-toggleable__content pre {\n",
       "  margin: 0.2em;\n",
       "  border-radius: 0.25em;\n",
       "  color: var(--sklearn-color-text);\n",
       "  /* unfitted */\n",
       "  background-color: var(--sklearn-color-unfitted-level-0);\n",
       "}\n",
       "\n",
       "#sk-container-id-1 div.sk-toggleable__content.fitted pre {\n",
       "  /* unfitted */\n",
       "  background-color: var(--sklearn-color-fitted-level-0);\n",
       "}\n",
       "\n",
       "#sk-container-id-1 input.sk-toggleable__control:checked~div.sk-toggleable__content {\n",
       "  /* Expand drop-down */\n",
       "  max-height: 200px;\n",
       "  max-width: 100%;\n",
       "  overflow: auto;\n",
       "}\n",
       "\n",
       "#sk-container-id-1 input.sk-toggleable__control:checked~label.sk-toggleable__label-arrow:before {\n",
       "  content: \"▾\";\n",
       "}\n",
       "\n",
       "/* Pipeline/ColumnTransformer-specific style */\n",
       "\n",
       "#sk-container-id-1 div.sk-label input.sk-toggleable__control:checked~label.sk-toggleable__label {\n",
       "  color: var(--sklearn-color-text);\n",
       "  background-color: var(--sklearn-color-unfitted-level-2);\n",
       "}\n",
       "\n",
       "#sk-container-id-1 div.sk-label.fitted input.sk-toggleable__control:checked~label.sk-toggleable__label {\n",
       "  background-color: var(--sklearn-color-fitted-level-2);\n",
       "}\n",
       "\n",
       "/* Estimator-specific style */\n",
       "\n",
       "/* Colorize estimator box */\n",
       "#sk-container-id-1 div.sk-estimator input.sk-toggleable__control:checked~label.sk-toggleable__label {\n",
       "  /* unfitted */\n",
       "  background-color: var(--sklearn-color-unfitted-level-2);\n",
       "}\n",
       "\n",
       "#sk-container-id-1 div.sk-estimator.fitted input.sk-toggleable__control:checked~label.sk-toggleable__label {\n",
       "  /* fitted */\n",
       "  background-color: var(--sklearn-color-fitted-level-2);\n",
       "}\n",
       "\n",
       "#sk-container-id-1 div.sk-label label.sk-toggleable__label,\n",
       "#sk-container-id-1 div.sk-label label {\n",
       "  /* The background is the default theme color */\n",
       "  color: var(--sklearn-color-text-on-default-background);\n",
       "}\n",
       "\n",
       "/* On hover, darken the color of the background */\n",
       "#sk-container-id-1 div.sk-label:hover label.sk-toggleable__label {\n",
       "  color: var(--sklearn-color-text);\n",
       "  background-color: var(--sklearn-color-unfitted-level-2);\n",
       "}\n",
       "\n",
       "/* Label box, darken color on hover, fitted */\n",
       "#sk-container-id-1 div.sk-label.fitted:hover label.sk-toggleable__label.fitted {\n",
       "  color: var(--sklearn-color-text);\n",
       "  background-color: var(--sklearn-color-fitted-level-2);\n",
       "}\n",
       "\n",
       "/* Estimator label */\n",
       "\n",
       "#sk-container-id-1 div.sk-label label {\n",
       "  font-family: monospace;\n",
       "  font-weight: bold;\n",
       "  display: inline-block;\n",
       "  line-height: 1.2em;\n",
       "}\n",
       "\n",
       "#sk-container-id-1 div.sk-label-container {\n",
       "  text-align: center;\n",
       "}\n",
       "\n",
       "/* Estimator-specific */\n",
       "#sk-container-id-1 div.sk-estimator {\n",
       "  font-family: monospace;\n",
       "  border: 1px dotted var(--sklearn-color-border-box);\n",
       "  border-radius: 0.25em;\n",
       "  box-sizing: border-box;\n",
       "  margin-bottom: 0.5em;\n",
       "  /* unfitted */\n",
       "  background-color: var(--sklearn-color-unfitted-level-0);\n",
       "}\n",
       "\n",
       "#sk-container-id-1 div.sk-estimator.fitted {\n",
       "  /* fitted */\n",
       "  background-color: var(--sklearn-color-fitted-level-0);\n",
       "}\n",
       "\n",
       "/* on hover */\n",
       "#sk-container-id-1 div.sk-estimator:hover {\n",
       "  /* unfitted */\n",
       "  background-color: var(--sklearn-color-unfitted-level-2);\n",
       "}\n",
       "\n",
       "#sk-container-id-1 div.sk-estimator.fitted:hover {\n",
       "  /* fitted */\n",
       "  background-color: var(--sklearn-color-fitted-level-2);\n",
       "}\n",
       "\n",
       "/* Specification for estimator info (e.g. \"i\" and \"?\") */\n",
       "\n",
       "/* Common style for \"i\" and \"?\" */\n",
       "\n",
       ".sk-estimator-doc-link,\n",
       "a:link.sk-estimator-doc-link,\n",
       "a:visited.sk-estimator-doc-link {\n",
       "  float: right;\n",
       "  font-size: smaller;\n",
       "  line-height: 1em;\n",
       "  font-family: monospace;\n",
       "  background-color: var(--sklearn-color-background);\n",
       "  border-radius: 1em;\n",
       "  height: 1em;\n",
       "  width: 1em;\n",
       "  text-decoration: none !important;\n",
       "  margin-left: 1ex;\n",
       "  /* unfitted */\n",
       "  border: var(--sklearn-color-unfitted-level-1) 1pt solid;\n",
       "  color: var(--sklearn-color-unfitted-level-1);\n",
       "}\n",
       "\n",
       ".sk-estimator-doc-link.fitted,\n",
       "a:link.sk-estimator-doc-link.fitted,\n",
       "a:visited.sk-estimator-doc-link.fitted {\n",
       "  /* fitted */\n",
       "  border: var(--sklearn-color-fitted-level-1) 1pt solid;\n",
       "  color: var(--sklearn-color-fitted-level-1);\n",
       "}\n",
       "\n",
       "/* On hover */\n",
       "div.sk-estimator:hover .sk-estimator-doc-link:hover,\n",
       ".sk-estimator-doc-link:hover,\n",
       "div.sk-label-container:hover .sk-estimator-doc-link:hover,\n",
       ".sk-estimator-doc-link:hover {\n",
       "  /* unfitted */\n",
       "  background-color: var(--sklearn-color-unfitted-level-3);\n",
       "  color: var(--sklearn-color-background);\n",
       "  text-decoration: none;\n",
       "}\n",
       "\n",
       "div.sk-estimator.fitted:hover .sk-estimator-doc-link.fitted:hover,\n",
       ".sk-estimator-doc-link.fitted:hover,\n",
       "div.sk-label-container:hover .sk-estimator-doc-link.fitted:hover,\n",
       ".sk-estimator-doc-link.fitted:hover {\n",
       "  /* fitted */\n",
       "  background-color: var(--sklearn-color-fitted-level-3);\n",
       "  color: var(--sklearn-color-background);\n",
       "  text-decoration: none;\n",
       "}\n",
       "\n",
       "/* Span, style for the box shown on hovering the info icon */\n",
       ".sk-estimator-doc-link span {\n",
       "  display: none;\n",
       "  z-index: 9999;\n",
       "  position: relative;\n",
       "  font-weight: normal;\n",
       "  right: .2ex;\n",
       "  padding: .5ex;\n",
       "  margin: .5ex;\n",
       "  width: min-content;\n",
       "  min-width: 20ex;\n",
       "  max-width: 50ex;\n",
       "  color: var(--sklearn-color-text);\n",
       "  box-shadow: 2pt 2pt 4pt #999;\n",
       "  /* unfitted */\n",
       "  background: var(--sklearn-color-unfitted-level-0);\n",
       "  border: .5pt solid var(--sklearn-color-unfitted-level-3);\n",
       "}\n",
       "\n",
       ".sk-estimator-doc-link.fitted span {\n",
       "  /* fitted */\n",
       "  background: var(--sklearn-color-fitted-level-0);\n",
       "  border: var(--sklearn-color-fitted-level-3);\n",
       "}\n",
       "\n",
       ".sk-estimator-doc-link:hover span {\n",
       "  display: block;\n",
       "}\n",
       "\n",
       "/* \"?\"-specific style due to the `<a>` HTML tag */\n",
       "\n",
       "#sk-container-id-1 a.estimator_doc_link {\n",
       "  float: right;\n",
       "  font-size: 1rem;\n",
       "  line-height: 1em;\n",
       "  font-family: monospace;\n",
       "  background-color: var(--sklearn-color-background);\n",
       "  border-radius: 1rem;\n",
       "  height: 1rem;\n",
       "  width: 1rem;\n",
       "  text-decoration: none;\n",
       "  /* unfitted */\n",
       "  color: var(--sklearn-color-unfitted-level-1);\n",
       "  border: var(--sklearn-color-unfitted-level-1) 1pt solid;\n",
       "}\n",
       "\n",
       "#sk-container-id-1 a.estimator_doc_link.fitted {\n",
       "  /* fitted */\n",
       "  border: var(--sklearn-color-fitted-level-1) 1pt solid;\n",
       "  color: var(--sklearn-color-fitted-level-1);\n",
       "}\n",
       "\n",
       "/* On hover */\n",
       "#sk-container-id-1 a.estimator_doc_link:hover {\n",
       "  /* unfitted */\n",
       "  background-color: var(--sklearn-color-unfitted-level-3);\n",
       "  color: var(--sklearn-color-background);\n",
       "  text-decoration: none;\n",
       "}\n",
       "\n",
       "#sk-container-id-1 a.estimator_doc_link.fitted:hover {\n",
       "  /* fitted */\n",
       "  background-color: var(--sklearn-color-fitted-level-3);\n",
       "}\n",
       "</style><div id=\"sk-container-id-1\" class=\"sk-top-container\"><div class=\"sk-text-repr-fallback\"><pre>Pipeline(steps=[(&#x27;preprocessor&#x27;,\n",
       "                 ColumnTransformer(remainder=&#x27;passthrough&#x27;,\n",
       "                                   transformers=[(&#x27;num&#x27;, StandardScaler(),\n",
       "                                                  [&#x27;f0&#x27;, &#x27;f1&#x27;, &#x27;f2&#x27;])])),\n",
       "                (&#x27;models&#x27;, LinearRegression())])</pre><b>In a Jupyter environment, please rerun this cell to show the HTML representation or trust the notebook. <br />On GitHub, the HTML representation is unable to render, please try loading this page with nbviewer.org.</b></div><div class=\"sk-container\" hidden><div class=\"sk-item sk-dashed-wrapped\"><div class=\"sk-label-container\"><div class=\"sk-label fitted sk-toggleable\"><input class=\"sk-toggleable__control sk-hidden--visually\" id=\"sk-estimator-id-1\" type=\"checkbox\" ><label for=\"sk-estimator-id-1\" class=\"sk-toggleable__label fitted sk-toggleable__label-arrow fitted\">&nbsp;&nbsp;Pipeline<a class=\"sk-estimator-doc-link fitted\" rel=\"noreferrer\" target=\"_blank\" href=\"https://scikit-learn.org/1.4/modules/generated/sklearn.pipeline.Pipeline.html\">?<span>Documentation for Pipeline</span></a><span class=\"sk-estimator-doc-link fitted\">i<span>Fitted</span></span></label><div class=\"sk-toggleable__content fitted\"><pre>Pipeline(steps=[(&#x27;preprocessor&#x27;,\n",
       "                 ColumnTransformer(remainder=&#x27;passthrough&#x27;,\n",
       "                                   transformers=[(&#x27;num&#x27;, StandardScaler(),\n",
       "                                                  [&#x27;f0&#x27;, &#x27;f1&#x27;, &#x27;f2&#x27;])])),\n",
       "                (&#x27;models&#x27;, LinearRegression())])</pre></div> </div></div><div class=\"sk-serial\"><div class=\"sk-item sk-dashed-wrapped\"><div class=\"sk-label-container\"><div class=\"sk-label fitted sk-toggleable\"><input class=\"sk-toggleable__control sk-hidden--visually\" id=\"sk-estimator-id-2\" type=\"checkbox\" ><label for=\"sk-estimator-id-2\" class=\"sk-toggleable__label fitted sk-toggleable__label-arrow fitted\">&nbsp;preprocessor: ColumnTransformer<a class=\"sk-estimator-doc-link fitted\" rel=\"noreferrer\" target=\"_blank\" href=\"https://scikit-learn.org/1.4/modules/generated/sklearn.compose.ColumnTransformer.html\">?<span>Documentation for preprocessor: ColumnTransformer</span></a></label><div class=\"sk-toggleable__content fitted\"><pre>ColumnTransformer(remainder=&#x27;passthrough&#x27;,\n",
       "                  transformers=[(&#x27;num&#x27;, StandardScaler(), [&#x27;f0&#x27;, &#x27;f1&#x27;, &#x27;f2&#x27;])])</pre></div> </div></div><div class=\"sk-parallel\"><div class=\"sk-parallel-item\"><div class=\"sk-item\"><div class=\"sk-label-container\"><div class=\"sk-label fitted sk-toggleable\"><input class=\"sk-toggleable__control sk-hidden--visually\" id=\"sk-estimator-id-3\" type=\"checkbox\" ><label for=\"sk-estimator-id-3\" class=\"sk-toggleable__label fitted sk-toggleable__label-arrow fitted\">num</label><div class=\"sk-toggleable__content fitted\"><pre>[&#x27;f0&#x27;, &#x27;f1&#x27;, &#x27;f2&#x27;]</pre></div> </div></div><div class=\"sk-serial\"><div class=\"sk-item\"><div class=\"sk-estimator fitted sk-toggleable\"><input class=\"sk-toggleable__control sk-hidden--visually\" id=\"sk-estimator-id-4\" type=\"checkbox\" ><label for=\"sk-estimator-id-4\" class=\"sk-toggleable__label fitted sk-toggleable__label-arrow fitted\">&nbsp;StandardScaler<a class=\"sk-estimator-doc-link fitted\" rel=\"noreferrer\" target=\"_blank\" href=\"https://scikit-learn.org/1.4/modules/generated/sklearn.preprocessing.StandardScaler.html\">?<span>Documentation for StandardScaler</span></a></label><div class=\"sk-toggleable__content fitted\"><pre>StandardScaler()</pre></div> </div></div></div></div></div><div class=\"sk-parallel-item\"><div class=\"sk-item\"><div class=\"sk-label-container\"><div class=\"sk-label fitted sk-toggleable\"><input class=\"sk-toggleable__control sk-hidden--visually\" id=\"sk-estimator-id-5\" type=\"checkbox\" ><label for=\"sk-estimator-id-5\" class=\"sk-toggleable__label fitted sk-toggleable__label-arrow fitted\">remainder</label><div class=\"sk-toggleable__content fitted\"><pre>[]</pre></div> </div></div><div class=\"sk-serial\"><div class=\"sk-item\"><div class=\"sk-estimator fitted sk-toggleable\"><input class=\"sk-toggleable__control sk-hidden--visually\" id=\"sk-estimator-id-6\" type=\"checkbox\" ><label for=\"sk-estimator-id-6\" class=\"sk-toggleable__label fitted sk-toggleable__label-arrow fitted\">passthrough</label><div class=\"sk-toggleable__content fitted\"><pre>passthrough</pre></div> </div></div></div></div></div></div></div><div class=\"sk-item\"><div class=\"sk-estimator fitted sk-toggleable\"><input class=\"sk-toggleable__control sk-hidden--visually\" id=\"sk-estimator-id-7\" type=\"checkbox\" ><label for=\"sk-estimator-id-7\" class=\"sk-toggleable__label fitted sk-toggleable__label-arrow fitted\">&nbsp;LinearRegression<a class=\"sk-estimator-doc-link fitted\" rel=\"noreferrer\" target=\"_blank\" href=\"https://scikit-learn.org/1.4/modules/generated/sklearn.linear_model.LinearRegression.html\">?<span>Documentation for LinearRegression</span></a></label><div class=\"sk-toggleable__content fitted\"><pre>LinearRegression()</pre></div> </div></div></div></div></div></div>"
      ],
      "text/plain": [
       "Pipeline(steps=[('preprocessor',\n",
       "                 ColumnTransformer(remainder='passthrough',\n",
       "                                   transformers=[('num', StandardScaler(),\n",
       "                                                  ['f0', 'f1', 'f2'])])),\n",
       "                ('models', LinearRegression())])"
      ]
     },
     "execution_count": 35,
     "metadata": {},
     "output_type": "execute_result"
    }
   ],
   "source": [
    "GridCV_0.best_estimator_"
   ]
  },
  {
   "cell_type": "code",
   "execution_count": 36,
   "metadata": {},
   "outputs": [],
   "source": [
    "GridCV_1 = pipe_line_cv(num_columns)"
   ]
  },
  {
   "cell_type": "code",
   "execution_count": 37,
   "metadata": {},
   "outputs": [],
   "source": [
    "GridCV_1.fit(X1_train, y1_train);"
   ]
  },
  {
   "cell_type": "code",
   "execution_count": 38,
   "metadata": {},
   "outputs": [
    {
     "name": "stdout",
     "output_type": "stream",
     "text": [
      "Метрика лучшей модели на тренировочной выборке: 0.8896263088165363\n",
      "Метрика RMSE на тестовой выборке: 0.892863589877732\n"
     ]
    }
   ],
   "source": [
    "#вывод метрики для лучшей модели на теринировочной выборке\n",
    "print ('Метрика лучшей модели на тренировочной выборке:', ((-1) * GridCV_1.best_score_) ** 0.5 )\n",
    "\n",
    "# предсказание на тестовых данных и вывод метрики для предсказания\n",
    "y1_test_pred = GridCV_1.predict(X1_test)\n",
    "print(f'Метрика RMSE на тестовой выборке: {root_mean_squared_error(y1_test, y1_test_pred)}')"
   ]
  },
  {
   "cell_type": "code",
   "execution_count": 39,
   "metadata": {},
   "outputs": [
    {
     "data": {
      "text/html": [
       "<style>#sk-container-id-2 {\n",
       "  /* Definition of color scheme common for light and dark mode */\n",
       "  --sklearn-color-text: black;\n",
       "  --sklearn-color-line: gray;\n",
       "  /* Definition of color scheme for unfitted estimators */\n",
       "  --sklearn-color-unfitted-level-0: #fff5e6;\n",
       "  --sklearn-color-unfitted-level-1: #f6e4d2;\n",
       "  --sklearn-color-unfitted-level-2: #ffe0b3;\n",
       "  --sklearn-color-unfitted-level-3: chocolate;\n",
       "  /* Definition of color scheme for fitted estimators */\n",
       "  --sklearn-color-fitted-level-0: #f0f8ff;\n",
       "  --sklearn-color-fitted-level-1: #d4ebff;\n",
       "  --sklearn-color-fitted-level-2: #b3dbfd;\n",
       "  --sklearn-color-fitted-level-3: cornflowerblue;\n",
       "\n",
       "  /* Specific color for light theme */\n",
       "  --sklearn-color-text-on-default-background: var(--sg-text-color, var(--theme-code-foreground, var(--jp-content-font-color1, black)));\n",
       "  --sklearn-color-background: var(--sg-background-color, var(--theme-background, var(--jp-layout-color0, white)));\n",
       "  --sklearn-color-border-box: var(--sg-text-color, var(--theme-code-foreground, var(--jp-content-font-color1, black)));\n",
       "  --sklearn-color-icon: #696969;\n",
       "\n",
       "  @media (prefers-color-scheme: dark) {\n",
       "    /* Redefinition of color scheme for dark theme */\n",
       "    --sklearn-color-text-on-default-background: var(--sg-text-color, var(--theme-code-foreground, var(--jp-content-font-color1, white)));\n",
       "    --sklearn-color-background: var(--sg-background-color, var(--theme-background, var(--jp-layout-color0, #111)));\n",
       "    --sklearn-color-border-box: var(--sg-text-color, var(--theme-code-foreground, var(--jp-content-font-color1, white)));\n",
       "    --sklearn-color-icon: #878787;\n",
       "  }\n",
       "}\n",
       "\n",
       "#sk-container-id-2 {\n",
       "  color: var(--sklearn-color-text);\n",
       "}\n",
       "\n",
       "#sk-container-id-2 pre {\n",
       "  padding: 0;\n",
       "}\n",
       "\n",
       "#sk-container-id-2 input.sk-hidden--visually {\n",
       "  border: 0;\n",
       "  clip: rect(1px 1px 1px 1px);\n",
       "  clip: rect(1px, 1px, 1px, 1px);\n",
       "  height: 1px;\n",
       "  margin: -1px;\n",
       "  overflow: hidden;\n",
       "  padding: 0;\n",
       "  position: absolute;\n",
       "  width: 1px;\n",
       "}\n",
       "\n",
       "#sk-container-id-2 div.sk-dashed-wrapped {\n",
       "  border: 1px dashed var(--sklearn-color-line);\n",
       "  margin: 0 0.4em 0.5em 0.4em;\n",
       "  box-sizing: border-box;\n",
       "  padding-bottom: 0.4em;\n",
       "  background-color: var(--sklearn-color-background);\n",
       "}\n",
       "\n",
       "#sk-container-id-2 div.sk-container {\n",
       "  /* jupyter's `normalize.less` sets `[hidden] { display: none; }`\n",
       "     but bootstrap.min.css set `[hidden] { display: none !important; }`\n",
       "     so we also need the `!important` here to be able to override the\n",
       "     default hidden behavior on the sphinx rendered scikit-learn.org.\n",
       "     See: https://github.com/scikit-learn/scikit-learn/issues/21755 */\n",
       "  display: inline-block !important;\n",
       "  position: relative;\n",
       "}\n",
       "\n",
       "#sk-container-id-2 div.sk-text-repr-fallback {\n",
       "  display: none;\n",
       "}\n",
       "\n",
       "div.sk-parallel-item,\n",
       "div.sk-serial,\n",
       "div.sk-item {\n",
       "  /* draw centered vertical line to link estimators */\n",
       "  background-image: linear-gradient(var(--sklearn-color-text-on-default-background), var(--sklearn-color-text-on-default-background));\n",
       "  background-size: 2px 100%;\n",
       "  background-repeat: no-repeat;\n",
       "  background-position: center center;\n",
       "}\n",
       "\n",
       "/* Parallel-specific style estimator block */\n",
       "\n",
       "#sk-container-id-2 div.sk-parallel-item::after {\n",
       "  content: \"\";\n",
       "  width: 100%;\n",
       "  border-bottom: 2px solid var(--sklearn-color-text-on-default-background);\n",
       "  flex-grow: 1;\n",
       "}\n",
       "\n",
       "#sk-container-id-2 div.sk-parallel {\n",
       "  display: flex;\n",
       "  align-items: stretch;\n",
       "  justify-content: center;\n",
       "  background-color: var(--sklearn-color-background);\n",
       "  position: relative;\n",
       "}\n",
       "\n",
       "#sk-container-id-2 div.sk-parallel-item {\n",
       "  display: flex;\n",
       "  flex-direction: column;\n",
       "}\n",
       "\n",
       "#sk-container-id-2 div.sk-parallel-item:first-child::after {\n",
       "  align-self: flex-end;\n",
       "  width: 50%;\n",
       "}\n",
       "\n",
       "#sk-container-id-2 div.sk-parallel-item:last-child::after {\n",
       "  align-self: flex-start;\n",
       "  width: 50%;\n",
       "}\n",
       "\n",
       "#sk-container-id-2 div.sk-parallel-item:only-child::after {\n",
       "  width: 0;\n",
       "}\n",
       "\n",
       "/* Serial-specific style estimator block */\n",
       "\n",
       "#sk-container-id-2 div.sk-serial {\n",
       "  display: flex;\n",
       "  flex-direction: column;\n",
       "  align-items: center;\n",
       "  background-color: var(--sklearn-color-background);\n",
       "  padding-right: 1em;\n",
       "  padding-left: 1em;\n",
       "}\n",
       "\n",
       "\n",
       "/* Toggleable style: style used for estimator/Pipeline/ColumnTransformer box that is\n",
       "clickable and can be expanded/collapsed.\n",
       "- Pipeline and ColumnTransformer use this feature and define the default style\n",
       "- Estimators will overwrite some part of the style using the `sk-estimator` class\n",
       "*/\n",
       "\n",
       "/* Pipeline and ColumnTransformer style (default) */\n",
       "\n",
       "#sk-container-id-2 div.sk-toggleable {\n",
       "  /* Default theme specific background. It is overwritten whether we have a\n",
       "  specific estimator or a Pipeline/ColumnTransformer */\n",
       "  background-color: var(--sklearn-color-background);\n",
       "}\n",
       "\n",
       "/* Toggleable label */\n",
       "#sk-container-id-2 label.sk-toggleable__label {\n",
       "  cursor: pointer;\n",
       "  display: block;\n",
       "  width: 100%;\n",
       "  margin-bottom: 0;\n",
       "  padding: 0.5em;\n",
       "  box-sizing: border-box;\n",
       "  text-align: center;\n",
       "}\n",
       "\n",
       "#sk-container-id-2 label.sk-toggleable__label-arrow:before {\n",
       "  /* Arrow on the left of the label */\n",
       "  content: \"▸\";\n",
       "  float: left;\n",
       "  margin-right: 0.25em;\n",
       "  color: var(--sklearn-color-icon);\n",
       "}\n",
       "\n",
       "#sk-container-id-2 label.sk-toggleable__label-arrow:hover:before {\n",
       "  color: var(--sklearn-color-text);\n",
       "}\n",
       "\n",
       "/* Toggleable content - dropdown */\n",
       "\n",
       "#sk-container-id-2 div.sk-toggleable__content {\n",
       "  max-height: 0;\n",
       "  max-width: 0;\n",
       "  overflow: hidden;\n",
       "  text-align: left;\n",
       "  /* unfitted */\n",
       "  background-color: var(--sklearn-color-unfitted-level-0);\n",
       "}\n",
       "\n",
       "#sk-container-id-2 div.sk-toggleable__content.fitted {\n",
       "  /* fitted */\n",
       "  background-color: var(--sklearn-color-fitted-level-0);\n",
       "}\n",
       "\n",
       "#sk-container-id-2 div.sk-toggleable__content pre {\n",
       "  margin: 0.2em;\n",
       "  border-radius: 0.25em;\n",
       "  color: var(--sklearn-color-text);\n",
       "  /* unfitted */\n",
       "  background-color: var(--sklearn-color-unfitted-level-0);\n",
       "}\n",
       "\n",
       "#sk-container-id-2 div.sk-toggleable__content.fitted pre {\n",
       "  /* unfitted */\n",
       "  background-color: var(--sklearn-color-fitted-level-0);\n",
       "}\n",
       "\n",
       "#sk-container-id-2 input.sk-toggleable__control:checked~div.sk-toggleable__content {\n",
       "  /* Expand drop-down */\n",
       "  max-height: 200px;\n",
       "  max-width: 100%;\n",
       "  overflow: auto;\n",
       "}\n",
       "\n",
       "#sk-container-id-2 input.sk-toggleable__control:checked~label.sk-toggleable__label-arrow:before {\n",
       "  content: \"▾\";\n",
       "}\n",
       "\n",
       "/* Pipeline/ColumnTransformer-specific style */\n",
       "\n",
       "#sk-container-id-2 div.sk-label input.sk-toggleable__control:checked~label.sk-toggleable__label {\n",
       "  color: var(--sklearn-color-text);\n",
       "  background-color: var(--sklearn-color-unfitted-level-2);\n",
       "}\n",
       "\n",
       "#sk-container-id-2 div.sk-label.fitted input.sk-toggleable__control:checked~label.sk-toggleable__label {\n",
       "  background-color: var(--sklearn-color-fitted-level-2);\n",
       "}\n",
       "\n",
       "/* Estimator-specific style */\n",
       "\n",
       "/* Colorize estimator box */\n",
       "#sk-container-id-2 div.sk-estimator input.sk-toggleable__control:checked~label.sk-toggleable__label {\n",
       "  /* unfitted */\n",
       "  background-color: var(--sklearn-color-unfitted-level-2);\n",
       "}\n",
       "\n",
       "#sk-container-id-2 div.sk-estimator.fitted input.sk-toggleable__control:checked~label.sk-toggleable__label {\n",
       "  /* fitted */\n",
       "  background-color: var(--sklearn-color-fitted-level-2);\n",
       "}\n",
       "\n",
       "#sk-container-id-2 div.sk-label label.sk-toggleable__label,\n",
       "#sk-container-id-2 div.sk-label label {\n",
       "  /* The background is the default theme color */\n",
       "  color: var(--sklearn-color-text-on-default-background);\n",
       "}\n",
       "\n",
       "/* On hover, darken the color of the background */\n",
       "#sk-container-id-2 div.sk-label:hover label.sk-toggleable__label {\n",
       "  color: var(--sklearn-color-text);\n",
       "  background-color: var(--sklearn-color-unfitted-level-2);\n",
       "}\n",
       "\n",
       "/* Label box, darken color on hover, fitted */\n",
       "#sk-container-id-2 div.sk-label.fitted:hover label.sk-toggleable__label.fitted {\n",
       "  color: var(--sklearn-color-text);\n",
       "  background-color: var(--sklearn-color-fitted-level-2);\n",
       "}\n",
       "\n",
       "/* Estimator label */\n",
       "\n",
       "#sk-container-id-2 div.sk-label label {\n",
       "  font-family: monospace;\n",
       "  font-weight: bold;\n",
       "  display: inline-block;\n",
       "  line-height: 1.2em;\n",
       "}\n",
       "\n",
       "#sk-container-id-2 div.sk-label-container {\n",
       "  text-align: center;\n",
       "}\n",
       "\n",
       "/* Estimator-specific */\n",
       "#sk-container-id-2 div.sk-estimator {\n",
       "  font-family: monospace;\n",
       "  border: 1px dotted var(--sklearn-color-border-box);\n",
       "  border-radius: 0.25em;\n",
       "  box-sizing: border-box;\n",
       "  margin-bottom: 0.5em;\n",
       "  /* unfitted */\n",
       "  background-color: var(--sklearn-color-unfitted-level-0);\n",
       "}\n",
       "\n",
       "#sk-container-id-2 div.sk-estimator.fitted {\n",
       "  /* fitted */\n",
       "  background-color: var(--sklearn-color-fitted-level-0);\n",
       "}\n",
       "\n",
       "/* on hover */\n",
       "#sk-container-id-2 div.sk-estimator:hover {\n",
       "  /* unfitted */\n",
       "  background-color: var(--sklearn-color-unfitted-level-2);\n",
       "}\n",
       "\n",
       "#sk-container-id-2 div.sk-estimator.fitted:hover {\n",
       "  /* fitted */\n",
       "  background-color: var(--sklearn-color-fitted-level-2);\n",
       "}\n",
       "\n",
       "/* Specification for estimator info (e.g. \"i\" and \"?\") */\n",
       "\n",
       "/* Common style for \"i\" and \"?\" */\n",
       "\n",
       ".sk-estimator-doc-link,\n",
       "a:link.sk-estimator-doc-link,\n",
       "a:visited.sk-estimator-doc-link {\n",
       "  float: right;\n",
       "  font-size: smaller;\n",
       "  line-height: 1em;\n",
       "  font-family: monospace;\n",
       "  background-color: var(--sklearn-color-background);\n",
       "  border-radius: 1em;\n",
       "  height: 1em;\n",
       "  width: 1em;\n",
       "  text-decoration: none !important;\n",
       "  margin-left: 1ex;\n",
       "  /* unfitted */\n",
       "  border: var(--sklearn-color-unfitted-level-1) 1pt solid;\n",
       "  color: var(--sklearn-color-unfitted-level-1);\n",
       "}\n",
       "\n",
       ".sk-estimator-doc-link.fitted,\n",
       "a:link.sk-estimator-doc-link.fitted,\n",
       "a:visited.sk-estimator-doc-link.fitted {\n",
       "  /* fitted */\n",
       "  border: var(--sklearn-color-fitted-level-1) 1pt solid;\n",
       "  color: var(--sklearn-color-fitted-level-1);\n",
       "}\n",
       "\n",
       "/* On hover */\n",
       "div.sk-estimator:hover .sk-estimator-doc-link:hover,\n",
       ".sk-estimator-doc-link:hover,\n",
       "div.sk-label-container:hover .sk-estimator-doc-link:hover,\n",
       ".sk-estimator-doc-link:hover {\n",
       "  /* unfitted */\n",
       "  background-color: var(--sklearn-color-unfitted-level-3);\n",
       "  color: var(--sklearn-color-background);\n",
       "  text-decoration: none;\n",
       "}\n",
       "\n",
       "div.sk-estimator.fitted:hover .sk-estimator-doc-link.fitted:hover,\n",
       ".sk-estimator-doc-link.fitted:hover,\n",
       "div.sk-label-container:hover .sk-estimator-doc-link.fitted:hover,\n",
       ".sk-estimator-doc-link.fitted:hover {\n",
       "  /* fitted */\n",
       "  background-color: var(--sklearn-color-fitted-level-3);\n",
       "  color: var(--sklearn-color-background);\n",
       "  text-decoration: none;\n",
       "}\n",
       "\n",
       "/* Span, style for the box shown on hovering the info icon */\n",
       ".sk-estimator-doc-link span {\n",
       "  display: none;\n",
       "  z-index: 9999;\n",
       "  position: relative;\n",
       "  font-weight: normal;\n",
       "  right: .2ex;\n",
       "  padding: .5ex;\n",
       "  margin: .5ex;\n",
       "  width: min-content;\n",
       "  min-width: 20ex;\n",
       "  max-width: 50ex;\n",
       "  color: var(--sklearn-color-text);\n",
       "  box-shadow: 2pt 2pt 4pt #999;\n",
       "  /* unfitted */\n",
       "  background: var(--sklearn-color-unfitted-level-0);\n",
       "  border: .5pt solid var(--sklearn-color-unfitted-level-3);\n",
       "}\n",
       "\n",
       ".sk-estimator-doc-link.fitted span {\n",
       "  /* fitted */\n",
       "  background: var(--sklearn-color-fitted-level-0);\n",
       "  border: var(--sklearn-color-fitted-level-3);\n",
       "}\n",
       "\n",
       ".sk-estimator-doc-link:hover span {\n",
       "  display: block;\n",
       "}\n",
       "\n",
       "/* \"?\"-specific style due to the `<a>` HTML tag */\n",
       "\n",
       "#sk-container-id-2 a.estimator_doc_link {\n",
       "  float: right;\n",
       "  font-size: 1rem;\n",
       "  line-height: 1em;\n",
       "  font-family: monospace;\n",
       "  background-color: var(--sklearn-color-background);\n",
       "  border-radius: 1rem;\n",
       "  height: 1rem;\n",
       "  width: 1rem;\n",
       "  text-decoration: none;\n",
       "  /* unfitted */\n",
       "  color: var(--sklearn-color-unfitted-level-1);\n",
       "  border: var(--sklearn-color-unfitted-level-1) 1pt solid;\n",
       "}\n",
       "\n",
       "#sk-container-id-2 a.estimator_doc_link.fitted {\n",
       "  /* fitted */\n",
       "  border: var(--sklearn-color-fitted-level-1) 1pt solid;\n",
       "  color: var(--sklearn-color-fitted-level-1);\n",
       "}\n",
       "\n",
       "/* On hover */\n",
       "#sk-container-id-2 a.estimator_doc_link:hover {\n",
       "  /* unfitted */\n",
       "  background-color: var(--sklearn-color-unfitted-level-3);\n",
       "  color: var(--sklearn-color-background);\n",
       "  text-decoration: none;\n",
       "}\n",
       "\n",
       "#sk-container-id-2 a.estimator_doc_link.fitted:hover {\n",
       "  /* fitted */\n",
       "  background-color: var(--sklearn-color-fitted-level-3);\n",
       "}\n",
       "</style><div id=\"sk-container-id-2\" class=\"sk-top-container\"><div class=\"sk-text-repr-fallback\"><pre>Pipeline(steps=[(&#x27;preprocessor&#x27;,\n",
       "                 ColumnTransformer(remainder=&#x27;passthrough&#x27;,\n",
       "                                   transformers=[(&#x27;num&#x27;, StandardScaler(),\n",
       "                                                  [&#x27;f0&#x27;, &#x27;f1&#x27;, &#x27;f2&#x27;])])),\n",
       "                (&#x27;models&#x27;, LinearRegression())])</pre><b>In a Jupyter environment, please rerun this cell to show the HTML representation or trust the notebook. <br />On GitHub, the HTML representation is unable to render, please try loading this page with nbviewer.org.</b></div><div class=\"sk-container\" hidden><div class=\"sk-item sk-dashed-wrapped\"><div class=\"sk-label-container\"><div class=\"sk-label fitted sk-toggleable\"><input class=\"sk-toggleable__control sk-hidden--visually\" id=\"sk-estimator-id-8\" type=\"checkbox\" ><label for=\"sk-estimator-id-8\" class=\"sk-toggleable__label fitted sk-toggleable__label-arrow fitted\">&nbsp;&nbsp;Pipeline<a class=\"sk-estimator-doc-link fitted\" rel=\"noreferrer\" target=\"_blank\" href=\"https://scikit-learn.org/1.4/modules/generated/sklearn.pipeline.Pipeline.html\">?<span>Documentation for Pipeline</span></a><span class=\"sk-estimator-doc-link fitted\">i<span>Fitted</span></span></label><div class=\"sk-toggleable__content fitted\"><pre>Pipeline(steps=[(&#x27;preprocessor&#x27;,\n",
       "                 ColumnTransformer(remainder=&#x27;passthrough&#x27;,\n",
       "                                   transformers=[(&#x27;num&#x27;, StandardScaler(),\n",
       "                                                  [&#x27;f0&#x27;, &#x27;f1&#x27;, &#x27;f2&#x27;])])),\n",
       "                (&#x27;models&#x27;, LinearRegression())])</pre></div> </div></div><div class=\"sk-serial\"><div class=\"sk-item sk-dashed-wrapped\"><div class=\"sk-label-container\"><div class=\"sk-label fitted sk-toggleable\"><input class=\"sk-toggleable__control sk-hidden--visually\" id=\"sk-estimator-id-9\" type=\"checkbox\" ><label for=\"sk-estimator-id-9\" class=\"sk-toggleable__label fitted sk-toggleable__label-arrow fitted\">&nbsp;preprocessor: ColumnTransformer<a class=\"sk-estimator-doc-link fitted\" rel=\"noreferrer\" target=\"_blank\" href=\"https://scikit-learn.org/1.4/modules/generated/sklearn.compose.ColumnTransformer.html\">?<span>Documentation for preprocessor: ColumnTransformer</span></a></label><div class=\"sk-toggleable__content fitted\"><pre>ColumnTransformer(remainder=&#x27;passthrough&#x27;,\n",
       "                  transformers=[(&#x27;num&#x27;, StandardScaler(), [&#x27;f0&#x27;, &#x27;f1&#x27;, &#x27;f2&#x27;])])</pre></div> </div></div><div class=\"sk-parallel\"><div class=\"sk-parallel-item\"><div class=\"sk-item\"><div class=\"sk-label-container\"><div class=\"sk-label fitted sk-toggleable\"><input class=\"sk-toggleable__control sk-hidden--visually\" id=\"sk-estimator-id-10\" type=\"checkbox\" ><label for=\"sk-estimator-id-10\" class=\"sk-toggleable__label fitted sk-toggleable__label-arrow fitted\">num</label><div class=\"sk-toggleable__content fitted\"><pre>[&#x27;f0&#x27;, &#x27;f1&#x27;, &#x27;f2&#x27;]</pre></div> </div></div><div class=\"sk-serial\"><div class=\"sk-item\"><div class=\"sk-estimator fitted sk-toggleable\"><input class=\"sk-toggleable__control sk-hidden--visually\" id=\"sk-estimator-id-11\" type=\"checkbox\" ><label for=\"sk-estimator-id-11\" class=\"sk-toggleable__label fitted sk-toggleable__label-arrow fitted\">&nbsp;StandardScaler<a class=\"sk-estimator-doc-link fitted\" rel=\"noreferrer\" target=\"_blank\" href=\"https://scikit-learn.org/1.4/modules/generated/sklearn.preprocessing.StandardScaler.html\">?<span>Documentation for StandardScaler</span></a></label><div class=\"sk-toggleable__content fitted\"><pre>StandardScaler()</pre></div> </div></div></div></div></div><div class=\"sk-parallel-item\"><div class=\"sk-item\"><div class=\"sk-label-container\"><div class=\"sk-label fitted sk-toggleable\"><input class=\"sk-toggleable__control sk-hidden--visually\" id=\"sk-estimator-id-12\" type=\"checkbox\" ><label for=\"sk-estimator-id-12\" class=\"sk-toggleable__label fitted sk-toggleable__label-arrow fitted\">remainder</label><div class=\"sk-toggleable__content fitted\"><pre>[]</pre></div> </div></div><div class=\"sk-serial\"><div class=\"sk-item\"><div class=\"sk-estimator fitted sk-toggleable\"><input class=\"sk-toggleable__control sk-hidden--visually\" id=\"sk-estimator-id-13\" type=\"checkbox\" ><label for=\"sk-estimator-id-13\" class=\"sk-toggleable__label fitted sk-toggleable__label-arrow fitted\">passthrough</label><div class=\"sk-toggleable__content fitted\"><pre>passthrough</pre></div> </div></div></div></div></div></div></div><div class=\"sk-item\"><div class=\"sk-estimator fitted sk-toggleable\"><input class=\"sk-toggleable__control sk-hidden--visually\" id=\"sk-estimator-id-14\" type=\"checkbox\" ><label for=\"sk-estimator-id-14\" class=\"sk-toggleable__label fitted sk-toggleable__label-arrow fitted\">&nbsp;LinearRegression<a class=\"sk-estimator-doc-link fitted\" rel=\"noreferrer\" target=\"_blank\" href=\"https://scikit-learn.org/1.4/modules/generated/sklearn.linear_model.LinearRegression.html\">?<span>Documentation for LinearRegression</span></a></label><div class=\"sk-toggleable__content fitted\"><pre>LinearRegression()</pre></div> </div></div></div></div></div></div>"
      ],
      "text/plain": [
       "Pipeline(steps=[('preprocessor',\n",
       "                 ColumnTransformer(remainder='passthrough',\n",
       "                                   transformers=[('num', StandardScaler(),\n",
       "                                                  ['f0', 'f1', 'f2'])])),\n",
       "                ('models', LinearRegression())])"
      ]
     },
     "execution_count": 39,
     "metadata": {},
     "output_type": "execute_result"
    }
   ],
   "source": [
    "GridCV_0.best_estimator_"
   ]
  },
  {
   "cell_type": "code",
   "execution_count": 40,
   "metadata": {},
   "outputs": [],
   "source": [
    "GridCV_2 = pipe_line_cv(num_columns)"
   ]
  },
  {
   "cell_type": "code",
   "execution_count": 41,
   "metadata": {},
   "outputs": [],
   "source": [
    "GridCV_2.fit(X2_train, y2_train);"
   ]
  },
  {
   "cell_type": "code",
   "execution_count": 42,
   "metadata": {},
   "outputs": [
    {
     "name": "stdout",
     "output_type": "stream",
     "text": [
      "Метрика лучшей модели на тренировочной выборке: 40.030251883468594\n",
      "Метрика RMSE на тестовой выборке: 40.13115560413051\n"
     ]
    }
   ],
   "source": [
    "#вывод метрики для лучшей модели на теринировочной выборке\n",
    "print ('Метрика лучшей модели на тренировочной выборке:', ((-1) * GridCV_2.best_score_) ** 0.5 )\n",
    "\n",
    "# предсказание на тестовых данных и вывод метрики для предсказания\n",
    "y2_test_pred = GridCV_2.predict(X2_test)\n",
    "print(f'Метрика RMSE на тестовой выборке: {root_mean_squared_error(y2_test, y2_test_pred)}')"
   ]
  },
  {
   "cell_type": "code",
   "execution_count": 43,
   "metadata": {
    "scrolled": true
   },
   "outputs": [
    {
     "data": {
      "text/html": [
       "<style>#sk-container-id-3 {\n",
       "  /* Definition of color scheme common for light and dark mode */\n",
       "  --sklearn-color-text: black;\n",
       "  --sklearn-color-line: gray;\n",
       "  /* Definition of color scheme for unfitted estimators */\n",
       "  --sklearn-color-unfitted-level-0: #fff5e6;\n",
       "  --sklearn-color-unfitted-level-1: #f6e4d2;\n",
       "  --sklearn-color-unfitted-level-2: #ffe0b3;\n",
       "  --sklearn-color-unfitted-level-3: chocolate;\n",
       "  /* Definition of color scheme for fitted estimators */\n",
       "  --sklearn-color-fitted-level-0: #f0f8ff;\n",
       "  --sklearn-color-fitted-level-1: #d4ebff;\n",
       "  --sklearn-color-fitted-level-2: #b3dbfd;\n",
       "  --sklearn-color-fitted-level-3: cornflowerblue;\n",
       "\n",
       "  /* Specific color for light theme */\n",
       "  --sklearn-color-text-on-default-background: var(--sg-text-color, var(--theme-code-foreground, var(--jp-content-font-color1, black)));\n",
       "  --sklearn-color-background: var(--sg-background-color, var(--theme-background, var(--jp-layout-color0, white)));\n",
       "  --sklearn-color-border-box: var(--sg-text-color, var(--theme-code-foreground, var(--jp-content-font-color1, black)));\n",
       "  --sklearn-color-icon: #696969;\n",
       "\n",
       "  @media (prefers-color-scheme: dark) {\n",
       "    /* Redefinition of color scheme for dark theme */\n",
       "    --sklearn-color-text-on-default-background: var(--sg-text-color, var(--theme-code-foreground, var(--jp-content-font-color1, white)));\n",
       "    --sklearn-color-background: var(--sg-background-color, var(--theme-background, var(--jp-layout-color0, #111)));\n",
       "    --sklearn-color-border-box: var(--sg-text-color, var(--theme-code-foreground, var(--jp-content-font-color1, white)));\n",
       "    --sklearn-color-icon: #878787;\n",
       "  }\n",
       "}\n",
       "\n",
       "#sk-container-id-3 {\n",
       "  color: var(--sklearn-color-text);\n",
       "}\n",
       "\n",
       "#sk-container-id-3 pre {\n",
       "  padding: 0;\n",
       "}\n",
       "\n",
       "#sk-container-id-3 input.sk-hidden--visually {\n",
       "  border: 0;\n",
       "  clip: rect(1px 1px 1px 1px);\n",
       "  clip: rect(1px, 1px, 1px, 1px);\n",
       "  height: 1px;\n",
       "  margin: -1px;\n",
       "  overflow: hidden;\n",
       "  padding: 0;\n",
       "  position: absolute;\n",
       "  width: 1px;\n",
       "}\n",
       "\n",
       "#sk-container-id-3 div.sk-dashed-wrapped {\n",
       "  border: 1px dashed var(--sklearn-color-line);\n",
       "  margin: 0 0.4em 0.5em 0.4em;\n",
       "  box-sizing: border-box;\n",
       "  padding-bottom: 0.4em;\n",
       "  background-color: var(--sklearn-color-background);\n",
       "}\n",
       "\n",
       "#sk-container-id-3 div.sk-container {\n",
       "  /* jupyter's `normalize.less` sets `[hidden] { display: none; }`\n",
       "     but bootstrap.min.css set `[hidden] { display: none !important; }`\n",
       "     so we also need the `!important` here to be able to override the\n",
       "     default hidden behavior on the sphinx rendered scikit-learn.org.\n",
       "     See: https://github.com/scikit-learn/scikit-learn/issues/21755 */\n",
       "  display: inline-block !important;\n",
       "  position: relative;\n",
       "}\n",
       "\n",
       "#sk-container-id-3 div.sk-text-repr-fallback {\n",
       "  display: none;\n",
       "}\n",
       "\n",
       "div.sk-parallel-item,\n",
       "div.sk-serial,\n",
       "div.sk-item {\n",
       "  /* draw centered vertical line to link estimators */\n",
       "  background-image: linear-gradient(var(--sklearn-color-text-on-default-background), var(--sklearn-color-text-on-default-background));\n",
       "  background-size: 2px 100%;\n",
       "  background-repeat: no-repeat;\n",
       "  background-position: center center;\n",
       "}\n",
       "\n",
       "/* Parallel-specific style estimator block */\n",
       "\n",
       "#sk-container-id-3 div.sk-parallel-item::after {\n",
       "  content: \"\";\n",
       "  width: 100%;\n",
       "  border-bottom: 2px solid var(--sklearn-color-text-on-default-background);\n",
       "  flex-grow: 1;\n",
       "}\n",
       "\n",
       "#sk-container-id-3 div.sk-parallel {\n",
       "  display: flex;\n",
       "  align-items: stretch;\n",
       "  justify-content: center;\n",
       "  background-color: var(--sklearn-color-background);\n",
       "  position: relative;\n",
       "}\n",
       "\n",
       "#sk-container-id-3 div.sk-parallel-item {\n",
       "  display: flex;\n",
       "  flex-direction: column;\n",
       "}\n",
       "\n",
       "#sk-container-id-3 div.sk-parallel-item:first-child::after {\n",
       "  align-self: flex-end;\n",
       "  width: 50%;\n",
       "}\n",
       "\n",
       "#sk-container-id-3 div.sk-parallel-item:last-child::after {\n",
       "  align-self: flex-start;\n",
       "  width: 50%;\n",
       "}\n",
       "\n",
       "#sk-container-id-3 div.sk-parallel-item:only-child::after {\n",
       "  width: 0;\n",
       "}\n",
       "\n",
       "/* Serial-specific style estimator block */\n",
       "\n",
       "#sk-container-id-3 div.sk-serial {\n",
       "  display: flex;\n",
       "  flex-direction: column;\n",
       "  align-items: center;\n",
       "  background-color: var(--sklearn-color-background);\n",
       "  padding-right: 1em;\n",
       "  padding-left: 1em;\n",
       "}\n",
       "\n",
       "\n",
       "/* Toggleable style: style used for estimator/Pipeline/ColumnTransformer box that is\n",
       "clickable and can be expanded/collapsed.\n",
       "- Pipeline and ColumnTransformer use this feature and define the default style\n",
       "- Estimators will overwrite some part of the style using the `sk-estimator` class\n",
       "*/\n",
       "\n",
       "/* Pipeline and ColumnTransformer style (default) */\n",
       "\n",
       "#sk-container-id-3 div.sk-toggleable {\n",
       "  /* Default theme specific background. It is overwritten whether we have a\n",
       "  specific estimator or a Pipeline/ColumnTransformer */\n",
       "  background-color: var(--sklearn-color-background);\n",
       "}\n",
       "\n",
       "/* Toggleable label */\n",
       "#sk-container-id-3 label.sk-toggleable__label {\n",
       "  cursor: pointer;\n",
       "  display: block;\n",
       "  width: 100%;\n",
       "  margin-bottom: 0;\n",
       "  padding: 0.5em;\n",
       "  box-sizing: border-box;\n",
       "  text-align: center;\n",
       "}\n",
       "\n",
       "#sk-container-id-3 label.sk-toggleable__label-arrow:before {\n",
       "  /* Arrow on the left of the label */\n",
       "  content: \"▸\";\n",
       "  float: left;\n",
       "  margin-right: 0.25em;\n",
       "  color: var(--sklearn-color-icon);\n",
       "}\n",
       "\n",
       "#sk-container-id-3 label.sk-toggleable__label-arrow:hover:before {\n",
       "  color: var(--sklearn-color-text);\n",
       "}\n",
       "\n",
       "/* Toggleable content - dropdown */\n",
       "\n",
       "#sk-container-id-3 div.sk-toggleable__content {\n",
       "  max-height: 0;\n",
       "  max-width: 0;\n",
       "  overflow: hidden;\n",
       "  text-align: left;\n",
       "  /* unfitted */\n",
       "  background-color: var(--sklearn-color-unfitted-level-0);\n",
       "}\n",
       "\n",
       "#sk-container-id-3 div.sk-toggleable__content.fitted {\n",
       "  /* fitted */\n",
       "  background-color: var(--sklearn-color-fitted-level-0);\n",
       "}\n",
       "\n",
       "#sk-container-id-3 div.sk-toggleable__content pre {\n",
       "  margin: 0.2em;\n",
       "  border-radius: 0.25em;\n",
       "  color: var(--sklearn-color-text);\n",
       "  /* unfitted */\n",
       "  background-color: var(--sklearn-color-unfitted-level-0);\n",
       "}\n",
       "\n",
       "#sk-container-id-3 div.sk-toggleable__content.fitted pre {\n",
       "  /* unfitted */\n",
       "  background-color: var(--sklearn-color-fitted-level-0);\n",
       "}\n",
       "\n",
       "#sk-container-id-3 input.sk-toggleable__control:checked~div.sk-toggleable__content {\n",
       "  /* Expand drop-down */\n",
       "  max-height: 200px;\n",
       "  max-width: 100%;\n",
       "  overflow: auto;\n",
       "}\n",
       "\n",
       "#sk-container-id-3 input.sk-toggleable__control:checked~label.sk-toggleable__label-arrow:before {\n",
       "  content: \"▾\";\n",
       "}\n",
       "\n",
       "/* Pipeline/ColumnTransformer-specific style */\n",
       "\n",
       "#sk-container-id-3 div.sk-label input.sk-toggleable__control:checked~label.sk-toggleable__label {\n",
       "  color: var(--sklearn-color-text);\n",
       "  background-color: var(--sklearn-color-unfitted-level-2);\n",
       "}\n",
       "\n",
       "#sk-container-id-3 div.sk-label.fitted input.sk-toggleable__control:checked~label.sk-toggleable__label {\n",
       "  background-color: var(--sklearn-color-fitted-level-2);\n",
       "}\n",
       "\n",
       "/* Estimator-specific style */\n",
       "\n",
       "/* Colorize estimator box */\n",
       "#sk-container-id-3 div.sk-estimator input.sk-toggleable__control:checked~label.sk-toggleable__label {\n",
       "  /* unfitted */\n",
       "  background-color: var(--sklearn-color-unfitted-level-2);\n",
       "}\n",
       "\n",
       "#sk-container-id-3 div.sk-estimator.fitted input.sk-toggleable__control:checked~label.sk-toggleable__label {\n",
       "  /* fitted */\n",
       "  background-color: var(--sklearn-color-fitted-level-2);\n",
       "}\n",
       "\n",
       "#sk-container-id-3 div.sk-label label.sk-toggleable__label,\n",
       "#sk-container-id-3 div.sk-label label {\n",
       "  /* The background is the default theme color */\n",
       "  color: var(--sklearn-color-text-on-default-background);\n",
       "}\n",
       "\n",
       "/* On hover, darken the color of the background */\n",
       "#sk-container-id-3 div.sk-label:hover label.sk-toggleable__label {\n",
       "  color: var(--sklearn-color-text);\n",
       "  background-color: var(--sklearn-color-unfitted-level-2);\n",
       "}\n",
       "\n",
       "/* Label box, darken color on hover, fitted */\n",
       "#sk-container-id-3 div.sk-label.fitted:hover label.sk-toggleable__label.fitted {\n",
       "  color: var(--sklearn-color-text);\n",
       "  background-color: var(--sklearn-color-fitted-level-2);\n",
       "}\n",
       "\n",
       "/* Estimator label */\n",
       "\n",
       "#sk-container-id-3 div.sk-label label {\n",
       "  font-family: monospace;\n",
       "  font-weight: bold;\n",
       "  display: inline-block;\n",
       "  line-height: 1.2em;\n",
       "}\n",
       "\n",
       "#sk-container-id-3 div.sk-label-container {\n",
       "  text-align: center;\n",
       "}\n",
       "\n",
       "/* Estimator-specific */\n",
       "#sk-container-id-3 div.sk-estimator {\n",
       "  font-family: monospace;\n",
       "  border: 1px dotted var(--sklearn-color-border-box);\n",
       "  border-radius: 0.25em;\n",
       "  box-sizing: border-box;\n",
       "  margin-bottom: 0.5em;\n",
       "  /* unfitted */\n",
       "  background-color: var(--sklearn-color-unfitted-level-0);\n",
       "}\n",
       "\n",
       "#sk-container-id-3 div.sk-estimator.fitted {\n",
       "  /* fitted */\n",
       "  background-color: var(--sklearn-color-fitted-level-0);\n",
       "}\n",
       "\n",
       "/* on hover */\n",
       "#sk-container-id-3 div.sk-estimator:hover {\n",
       "  /* unfitted */\n",
       "  background-color: var(--sklearn-color-unfitted-level-2);\n",
       "}\n",
       "\n",
       "#sk-container-id-3 div.sk-estimator.fitted:hover {\n",
       "  /* fitted */\n",
       "  background-color: var(--sklearn-color-fitted-level-2);\n",
       "}\n",
       "\n",
       "/* Specification for estimator info (e.g. \"i\" and \"?\") */\n",
       "\n",
       "/* Common style for \"i\" and \"?\" */\n",
       "\n",
       ".sk-estimator-doc-link,\n",
       "a:link.sk-estimator-doc-link,\n",
       "a:visited.sk-estimator-doc-link {\n",
       "  float: right;\n",
       "  font-size: smaller;\n",
       "  line-height: 1em;\n",
       "  font-family: monospace;\n",
       "  background-color: var(--sklearn-color-background);\n",
       "  border-radius: 1em;\n",
       "  height: 1em;\n",
       "  width: 1em;\n",
       "  text-decoration: none !important;\n",
       "  margin-left: 1ex;\n",
       "  /* unfitted */\n",
       "  border: var(--sklearn-color-unfitted-level-1) 1pt solid;\n",
       "  color: var(--sklearn-color-unfitted-level-1);\n",
       "}\n",
       "\n",
       ".sk-estimator-doc-link.fitted,\n",
       "a:link.sk-estimator-doc-link.fitted,\n",
       "a:visited.sk-estimator-doc-link.fitted {\n",
       "  /* fitted */\n",
       "  border: var(--sklearn-color-fitted-level-1) 1pt solid;\n",
       "  color: var(--sklearn-color-fitted-level-1);\n",
       "}\n",
       "\n",
       "/* On hover */\n",
       "div.sk-estimator:hover .sk-estimator-doc-link:hover,\n",
       ".sk-estimator-doc-link:hover,\n",
       "div.sk-label-container:hover .sk-estimator-doc-link:hover,\n",
       ".sk-estimator-doc-link:hover {\n",
       "  /* unfitted */\n",
       "  background-color: var(--sklearn-color-unfitted-level-3);\n",
       "  color: var(--sklearn-color-background);\n",
       "  text-decoration: none;\n",
       "}\n",
       "\n",
       "div.sk-estimator.fitted:hover .sk-estimator-doc-link.fitted:hover,\n",
       ".sk-estimator-doc-link.fitted:hover,\n",
       "div.sk-label-container:hover .sk-estimator-doc-link.fitted:hover,\n",
       ".sk-estimator-doc-link.fitted:hover {\n",
       "  /* fitted */\n",
       "  background-color: var(--sklearn-color-fitted-level-3);\n",
       "  color: var(--sklearn-color-background);\n",
       "  text-decoration: none;\n",
       "}\n",
       "\n",
       "/* Span, style for the box shown on hovering the info icon */\n",
       ".sk-estimator-doc-link span {\n",
       "  display: none;\n",
       "  z-index: 9999;\n",
       "  position: relative;\n",
       "  font-weight: normal;\n",
       "  right: .2ex;\n",
       "  padding: .5ex;\n",
       "  margin: .5ex;\n",
       "  width: min-content;\n",
       "  min-width: 20ex;\n",
       "  max-width: 50ex;\n",
       "  color: var(--sklearn-color-text);\n",
       "  box-shadow: 2pt 2pt 4pt #999;\n",
       "  /* unfitted */\n",
       "  background: var(--sklearn-color-unfitted-level-0);\n",
       "  border: .5pt solid var(--sklearn-color-unfitted-level-3);\n",
       "}\n",
       "\n",
       ".sk-estimator-doc-link.fitted span {\n",
       "  /* fitted */\n",
       "  background: var(--sklearn-color-fitted-level-0);\n",
       "  border: var(--sklearn-color-fitted-level-3);\n",
       "}\n",
       "\n",
       ".sk-estimator-doc-link:hover span {\n",
       "  display: block;\n",
       "}\n",
       "\n",
       "/* \"?\"-specific style due to the `<a>` HTML tag */\n",
       "\n",
       "#sk-container-id-3 a.estimator_doc_link {\n",
       "  float: right;\n",
       "  font-size: 1rem;\n",
       "  line-height: 1em;\n",
       "  font-family: monospace;\n",
       "  background-color: var(--sklearn-color-background);\n",
       "  border-radius: 1rem;\n",
       "  height: 1rem;\n",
       "  width: 1rem;\n",
       "  text-decoration: none;\n",
       "  /* unfitted */\n",
       "  color: var(--sklearn-color-unfitted-level-1);\n",
       "  border: var(--sklearn-color-unfitted-level-1) 1pt solid;\n",
       "}\n",
       "\n",
       "#sk-container-id-3 a.estimator_doc_link.fitted {\n",
       "  /* fitted */\n",
       "  border: var(--sklearn-color-fitted-level-1) 1pt solid;\n",
       "  color: var(--sklearn-color-fitted-level-1);\n",
       "}\n",
       "\n",
       "/* On hover */\n",
       "#sk-container-id-3 a.estimator_doc_link:hover {\n",
       "  /* unfitted */\n",
       "  background-color: var(--sklearn-color-unfitted-level-3);\n",
       "  color: var(--sklearn-color-background);\n",
       "  text-decoration: none;\n",
       "}\n",
       "\n",
       "#sk-container-id-3 a.estimator_doc_link.fitted:hover {\n",
       "  /* fitted */\n",
       "  background-color: var(--sklearn-color-fitted-level-3);\n",
       "}\n",
       "</style><div id=\"sk-container-id-3\" class=\"sk-top-container\"><div class=\"sk-text-repr-fallback\"><pre>Pipeline(steps=[(&#x27;preprocessor&#x27;,\n",
       "                 ColumnTransformer(remainder=&#x27;passthrough&#x27;,\n",
       "                                   transformers=[(&#x27;num&#x27;, StandardScaler(),\n",
       "                                                  [&#x27;f0&#x27;, &#x27;f1&#x27;, &#x27;f2&#x27;])])),\n",
       "                (&#x27;models&#x27;, LinearRegression())])</pre><b>In a Jupyter environment, please rerun this cell to show the HTML representation or trust the notebook. <br />On GitHub, the HTML representation is unable to render, please try loading this page with nbviewer.org.</b></div><div class=\"sk-container\" hidden><div class=\"sk-item sk-dashed-wrapped\"><div class=\"sk-label-container\"><div class=\"sk-label fitted sk-toggleable\"><input class=\"sk-toggleable__control sk-hidden--visually\" id=\"sk-estimator-id-15\" type=\"checkbox\" ><label for=\"sk-estimator-id-15\" class=\"sk-toggleable__label fitted sk-toggleable__label-arrow fitted\">&nbsp;&nbsp;Pipeline<a class=\"sk-estimator-doc-link fitted\" rel=\"noreferrer\" target=\"_blank\" href=\"https://scikit-learn.org/1.4/modules/generated/sklearn.pipeline.Pipeline.html\">?<span>Documentation for Pipeline</span></a><span class=\"sk-estimator-doc-link fitted\">i<span>Fitted</span></span></label><div class=\"sk-toggleable__content fitted\"><pre>Pipeline(steps=[(&#x27;preprocessor&#x27;,\n",
       "                 ColumnTransformer(remainder=&#x27;passthrough&#x27;,\n",
       "                                   transformers=[(&#x27;num&#x27;, StandardScaler(),\n",
       "                                                  [&#x27;f0&#x27;, &#x27;f1&#x27;, &#x27;f2&#x27;])])),\n",
       "                (&#x27;models&#x27;, LinearRegression())])</pre></div> </div></div><div class=\"sk-serial\"><div class=\"sk-item sk-dashed-wrapped\"><div class=\"sk-label-container\"><div class=\"sk-label fitted sk-toggleable\"><input class=\"sk-toggleable__control sk-hidden--visually\" id=\"sk-estimator-id-16\" type=\"checkbox\" ><label for=\"sk-estimator-id-16\" class=\"sk-toggleable__label fitted sk-toggleable__label-arrow fitted\">&nbsp;preprocessor: ColumnTransformer<a class=\"sk-estimator-doc-link fitted\" rel=\"noreferrer\" target=\"_blank\" href=\"https://scikit-learn.org/1.4/modules/generated/sklearn.compose.ColumnTransformer.html\">?<span>Documentation for preprocessor: ColumnTransformer</span></a></label><div class=\"sk-toggleable__content fitted\"><pre>ColumnTransformer(remainder=&#x27;passthrough&#x27;,\n",
       "                  transformers=[(&#x27;num&#x27;, StandardScaler(), [&#x27;f0&#x27;, &#x27;f1&#x27;, &#x27;f2&#x27;])])</pre></div> </div></div><div class=\"sk-parallel\"><div class=\"sk-parallel-item\"><div class=\"sk-item\"><div class=\"sk-label-container\"><div class=\"sk-label fitted sk-toggleable\"><input class=\"sk-toggleable__control sk-hidden--visually\" id=\"sk-estimator-id-17\" type=\"checkbox\" ><label for=\"sk-estimator-id-17\" class=\"sk-toggleable__label fitted sk-toggleable__label-arrow fitted\">num</label><div class=\"sk-toggleable__content fitted\"><pre>[&#x27;f0&#x27;, &#x27;f1&#x27;, &#x27;f2&#x27;]</pre></div> </div></div><div class=\"sk-serial\"><div class=\"sk-item\"><div class=\"sk-estimator fitted sk-toggleable\"><input class=\"sk-toggleable__control sk-hidden--visually\" id=\"sk-estimator-id-18\" type=\"checkbox\" ><label for=\"sk-estimator-id-18\" class=\"sk-toggleable__label fitted sk-toggleable__label-arrow fitted\">&nbsp;StandardScaler<a class=\"sk-estimator-doc-link fitted\" rel=\"noreferrer\" target=\"_blank\" href=\"https://scikit-learn.org/1.4/modules/generated/sklearn.preprocessing.StandardScaler.html\">?<span>Documentation for StandardScaler</span></a></label><div class=\"sk-toggleable__content fitted\"><pre>StandardScaler()</pre></div> </div></div></div></div></div><div class=\"sk-parallel-item\"><div class=\"sk-item\"><div class=\"sk-label-container\"><div class=\"sk-label fitted sk-toggleable\"><input class=\"sk-toggleable__control sk-hidden--visually\" id=\"sk-estimator-id-19\" type=\"checkbox\" ><label for=\"sk-estimator-id-19\" class=\"sk-toggleable__label fitted sk-toggleable__label-arrow fitted\">remainder</label><div class=\"sk-toggleable__content fitted\"><pre>[]</pre></div> </div></div><div class=\"sk-serial\"><div class=\"sk-item\"><div class=\"sk-estimator fitted sk-toggleable\"><input class=\"sk-toggleable__control sk-hidden--visually\" id=\"sk-estimator-id-20\" type=\"checkbox\" ><label for=\"sk-estimator-id-20\" class=\"sk-toggleable__label fitted sk-toggleable__label-arrow fitted\">passthrough</label><div class=\"sk-toggleable__content fitted\"><pre>passthrough</pre></div> </div></div></div></div></div></div></div><div class=\"sk-item\"><div class=\"sk-estimator fitted sk-toggleable\"><input class=\"sk-toggleable__control sk-hidden--visually\" id=\"sk-estimator-id-21\" type=\"checkbox\" ><label for=\"sk-estimator-id-21\" class=\"sk-toggleable__label fitted sk-toggleable__label-arrow fitted\">&nbsp;LinearRegression<a class=\"sk-estimator-doc-link fitted\" rel=\"noreferrer\" target=\"_blank\" href=\"https://scikit-learn.org/1.4/modules/generated/sklearn.linear_model.LinearRegression.html\">?<span>Documentation for LinearRegression</span></a></label><div class=\"sk-toggleable__content fitted\"><pre>LinearRegression()</pre></div> </div></div></div></div></div></div>"
      ],
      "text/plain": [
       "Pipeline(steps=[('preprocessor',\n",
       "                 ColumnTransformer(remainder='passthrough',\n",
       "                                   transformers=[('num', StandardScaler(),\n",
       "                                                  ['f0', 'f1', 'f2'])])),\n",
       "                ('models', LinearRegression())])"
      ]
     },
     "execution_count": 43,
     "metadata": {},
     "output_type": "execute_result"
    }
   ],
   "source": [
    "GridCV_0.best_estimator_"
   ]
  },
  {
   "cell_type": "markdown",
   "metadata": {},
   "source": [
    "**Вывод**\n",
    "\n",
    "Было обучено три модели. Для каждого региона своя модель.\n",
    "Была использована модель LinearRegression(). В качестве гипперпараметров использовалась разнаые методы масштабирования. Для всех трех моделей лучшим масшатбированием было выбран StandardScaler().\n",
    "\n",
    "Сравенение метрик.\n",
    "\n",
    "Для региона 0:\n",
    "- Метрика лучшей модели на тренировочной выборке: 37.67199756191733\n",
    "- Метрика RMSE на тестовой выборке: 37.76114714593895\n",
    "\n",
    "Для региона 1:\n",
    "- Метрика лучшей модели на тренировочной выборке: 0.8896263088165363\n",
    "- Метрика RMSE на тестовой выборке: 0.892863589877732\n",
    "\n",
    "Для региона 2:\n",
    "- Метрика лучшей модели на тренировочной выборке: 40.030251883468594\n",
    "- Метрика RMSE на тестовой выборке: 40.13115560413051\n",
    "\n",
    "Для региона 1 такой низкий уровень метрики обсусловлен тем, что в данных для этого региона очень высокая корреляция между признаком f2 и объемом продукта, что привело к такой низкой метрике."
   ]
  },
  {
   "cell_type": "markdown",
   "metadata": {},
   "source": [
    "### Анализ значимости признаков"
   ]
  },
  {
   "cell_type": "code",
   "execution_count": 44,
   "metadata": {},
   "outputs": [],
   "source": [
    "def feture_importance(model):\n",
    "    # собираем датафрейм с наименованиями фичей и коэффициентами значимости\n",
    "    feature_importances = pd.DataFrame(\n",
    "        {\n",
    "            'feature': model.best_estimator_['preprocessor'].get_feature_names_out(),\n",
    "            'importance': model.best_estimator_['models'].coef_\n",
    "        }).sort_values('importance', ascending=False)  #сортировка по убыванию значимости\n",
    "\n",
    "    # построение гистограммы с важностью признаков\n",
    "    plt.figure(figsize=(8, 4))\n",
    "\n",
    "    ax = sns.barplot(x='importance', y='feature', data=feature_importances)\n",
    "\n",
    "    ax.set_title('Важность признаков', fontsize=16)\n",
    "    ax.set_xlabel('Важность (доля)', fontsize=14)\n",
    "    ax.set_ylabel('Признак', fontsize=14)\n",
    "\n",
    "    # отображаем график\n",
    "    plt.show()"
   ]
  },
  {
   "cell_type": "code",
   "execution_count": 45,
   "metadata": {},
   "outputs": [
    {
     "data": {
      "image/png": "[encoded data removed]",
      "text/plain": [
       "<Figure size 576x288 with 1 Axes>"
      ]
     },
     "metadata": {
      "needs_background": "light"
     },
     "output_type": "display_data"
    }
   ],
   "source": [
    "# важность признаков для GridCV_0\n",
    "feture_importance(GridCV_0)"
   ]
  },
  {
   "cell_type": "code",
   "execution_count": 46,
   "metadata": {},
   "outputs": [
    {
     "data": {
      "image/png": "[encoded data removed]",
      "text/plain": [
       "<Figure size 576x288 with 1 Axes>"
      ]
     },
     "metadata": {
      "needs_background": "light"
     },
     "output_type": "display_data"
    }
   ],
   "source": [
    "# важность признаков для GridCV_1\n",
    "feture_importance(GridCV_1)"
   ]
  },
  {
   "cell_type": "code",
   "execution_count": 47,
   "metadata": {},
   "outputs": [
    {
     "data": {
      "image/png": "[encoded data removed]",
      "text/plain": [
       "<Figure size 576x288 with 1 Axes>"
      ]
     },
     "metadata": {
      "needs_background": "light"
     },
     "output_type": "display_data"
    }
   ],
   "source": [
    "# важность признаков для GridCV_2\n",
    "feture_importance(GridCV_2)"
   ]
  },
  {
   "cell_type": "markdown",
   "metadata": {},
   "source": [
    "**Вывод**\n",
    "\n",
    "Наиболее значимый параметр для предсказания объема продукта - f2.\n",
    "Он оказывает наибольшее влияние на предсказание целевой переменной. Что также подвтерждается корреляционным анализом."
   ]
  },
  {
   "cell_type": "markdown",
   "metadata": {},
   "source": [
    "## Подготовка к расчёту прибыли"
   ]
  },
  {
   "cell_type": "code",
   "execution_count": 48,
   "metadata": {},
   "outputs": [],
   "source": [
    "def merge_test(df, X_test, y_test_pred):\n",
    "    \"\"\"\n",
    "    Функция для объединения тестовой выборки с предсказанным целевым признаком. \n",
    "    И добавлением id из исходного датасета.\n",
    "    На вход принимает исходный датасет, тестовую выборку, предсказанный целевой признак.\n",
    "    Возвращает датаферейм: тестовый датасет с предсказанным целевым признаком и id\n",
    "    \"\"\"\n",
    "    X_test['product_pred'] = y_test_pred\n",
    "    data_pred = X_test.join(df.loc[:, ['id', 'product']], how='left')\n",
    "    display(data_pred.head())\n",
    "    return data_pred"
   ]
  },
  {
   "cell_type": "code",
   "execution_count": 49,
   "metadata": {},
   "outputs": [
    {
     "data": {
      "text/html": [
       "<div>\n",
       "<style scoped>\n",
       "    .dataframe tbody tr th:only-of-type {\n",
       "        vertical-align: middle;\n",
       "    }\n",
       "\n",
       "    .dataframe tbody tr th {\n",
       "        vertical-align: top;\n",
       "    }\n",
       "\n",
       "    .dataframe thead th {\n",
       "        text-align: right;\n",
       "    }\n",
       "</style>\n",
       "<table border=\"1\" class=\"dataframe\">\n",
       "  <thead>\n",
       "    <tr style=\"text-align: right;\">\n",
       "      <th></th>\n",
       "      <th>f0</th>\n",
       "      <th>f1</th>\n",
       "      <th>f2</th>\n",
       "      <th>product_pred</th>\n",
       "      <th>id</th>\n",
       "      <th>product</th>\n",
       "    </tr>\n",
       "  </thead>\n",
       "  <tbody>\n",
       "    <tr>\n",
       "      <th>68295</th>\n",
       "      <td>0.096378</td>\n",
       "      <td>-0.200314</td>\n",
       "      <td>9.052483</td>\n",
       "      <td>140.415284</td>\n",
       "      <td>TvPMt</td>\n",
       "      <td>111.261742</td>\n",
       "    </tr>\n",
       "    <tr>\n",
       "      <th>40561</th>\n",
       "      <td>-0.268458</td>\n",
       "      <td>0.921819</td>\n",
       "      <td>3.194225</td>\n",
       "      <td>84.683193</td>\n",
       "      <td>T5p0r</td>\n",
       "      <td>3.240789</td>\n",
       "    </tr>\n",
       "    <tr>\n",
       "      <th>54254</th>\n",
       "      <td>1.604150</td>\n",
       "      <td>-0.317233</td>\n",
       "      <td>7.668558</td>\n",
       "      <td>138.812581</td>\n",
       "      <td>0Wa6d</td>\n",
       "      <td>156.430554</td>\n",
       "    </tr>\n",
       "    <tr>\n",
       "      <th>70638</th>\n",
       "      <td>1.577117</td>\n",
       "      <td>-0.495010</td>\n",
       "      <td>4.082067</td>\n",
       "      <td>117.496790</td>\n",
       "      <td>gfrG6</td>\n",
       "      <td>137.684050</td>\n",
       "    </tr>\n",
       "    <tr>\n",
       "      <th>44361</th>\n",
       "      <td>0.313237</td>\n",
       "      <td>-0.206565</td>\n",
       "      <td>-0.910742</td>\n",
       "      <td>75.558549</td>\n",
       "      <td>wCChH</td>\n",
       "      <td>126.213790</td>\n",
       "    </tr>\n",
       "  </tbody>\n",
       "</table>\n",
       "</div>"
      ],
      "text/plain": [
       "             f0        f1        f2  product_pred     id     product\n",
       "68295  0.096378 -0.200314  9.052483    140.415284  TvPMt  111.261742\n",
       "40561 -0.268458  0.921819  3.194225     84.683193  T5p0r    3.240789\n",
       "54254  1.604150 -0.317233  7.668558    138.812581  0Wa6d  156.430554\n",
       "70638  1.577117 -0.495010  4.082067    117.496790  gfrG6  137.684050\n",
       "44361  0.313237 -0.206565 -0.910742     75.558549  wCChH  126.213790"
      ]
     },
     "metadata": {},
     "output_type": "display_data"
    }
   ],
   "source": [
    "# создание датасета по региону 0 с предсказанными данными\n",
    "data_0_pred = merge_test(data_0, X0_test, y0_test_pred)"
   ]
  },
  {
   "cell_type": "code",
   "execution_count": 50,
   "metadata": {},
   "outputs": [
    {
     "data": {
      "text/html": [
       "<div>\n",
       "<style scoped>\n",
       "    .dataframe tbody tr th:only-of-type {\n",
       "        vertical-align: middle;\n",
       "    }\n",
       "\n",
       "    .dataframe tbody tr th {\n",
       "        vertical-align: top;\n",
       "    }\n",
       "\n",
       "    .dataframe thead th {\n",
       "        text-align: right;\n",
       "    }\n",
       "</style>\n",
       "<table border=\"1\" class=\"dataframe\">\n",
       "  <thead>\n",
       "    <tr style=\"text-align: right;\">\n",
       "      <th></th>\n",
       "      <th>f0</th>\n",
       "      <th>f1</th>\n",
       "      <th>f2</th>\n",
       "      <th>product_pred</th>\n",
       "      <th>id</th>\n",
       "      <th>product</th>\n",
       "    </tr>\n",
       "  </thead>\n",
       "  <tbody>\n",
       "    <tr>\n",
       "      <th>33968</th>\n",
       "      <td>0.518707</td>\n",
       "      <td>-5.983575</td>\n",
       "      <td>0.001335</td>\n",
       "      <td>1.745802</td>\n",
       "      <td>XObi5</td>\n",
       "      <td>0.000000</td>\n",
       "    </tr>\n",
       "    <tr>\n",
       "      <th>22856</th>\n",
       "      <td>-9.630271</td>\n",
       "      <td>-11.453777</td>\n",
       "      <td>2.996499</td>\n",
       "      <td>84.064523</td>\n",
       "      <td>0LdCb</td>\n",
       "      <td>84.038886</td>\n",
       "    </tr>\n",
       "    <tr>\n",
       "      <th>19451</th>\n",
       "      <td>7.486573</td>\n",
       "      <td>-11.046265</td>\n",
       "      <td>4.006074</td>\n",
       "      <td>108.784312</td>\n",
       "      <td>90oSG</td>\n",
       "      <td>107.813044</td>\n",
       "    </tr>\n",
       "    <tr>\n",
       "      <th>9735</th>\n",
       "      <td>10.448037</td>\n",
       "      <td>0.297406</td>\n",
       "      <td>1.011815</td>\n",
       "      <td>27.400959</td>\n",
       "      <td>HijQj</td>\n",
       "      <td>26.953261</td>\n",
       "    </tr>\n",
       "    <tr>\n",
       "      <th>7132</th>\n",
       "      <td>12.857577</td>\n",
       "      <td>-7.534200</td>\n",
       "      <td>0.010287</td>\n",
       "      <td>0.233071</td>\n",
       "      <td>yHiJJ</td>\n",
       "      <td>0.000000</td>\n",
       "    </tr>\n",
       "  </tbody>\n",
       "</table>\n",
       "</div>"
      ],
      "text/plain": [
       "              f0         f1        f2  product_pred     id     product\n",
       "33968   0.518707  -5.983575  0.001335      1.745802  XObi5    0.000000\n",
       "22856  -9.630271 -11.453777  2.996499     84.064523  0LdCb   84.038886\n",
       "19451   7.486573 -11.046265  4.006074    108.784312  90oSG  107.813044\n",
       "9735   10.448037   0.297406  1.011815     27.400959  HijQj   26.953261\n",
       "7132   12.857577  -7.534200  0.010287      0.233071  yHiJJ    0.000000"
      ]
     },
     "metadata": {},
     "output_type": "display_data"
    }
   ],
   "source": [
    "# создание датасета по региону 1 с предсказанными данными\n",
    "data_1_pred = merge_test(data_1, X1_test, y1_test_pred)"
   ]
  },
  {
   "cell_type": "code",
   "execution_count": 51,
   "metadata": {},
   "outputs": [
    {
     "data": {
      "text/html": [
       "<div>\n",
       "<style scoped>\n",
       "    .dataframe tbody tr th:only-of-type {\n",
       "        vertical-align: middle;\n",
       "    }\n",
       "\n",
       "    .dataframe tbody tr th {\n",
       "        vertical-align: top;\n",
       "    }\n",
       "\n",
       "    .dataframe thead th {\n",
       "        text-align: right;\n",
       "    }\n",
       "</style>\n",
       "<table border=\"1\" class=\"dataframe\">\n",
       "  <thead>\n",
       "    <tr style=\"text-align: right;\">\n",
       "      <th></th>\n",
       "      <th>f0</th>\n",
       "      <th>f1</th>\n",
       "      <th>f2</th>\n",
       "      <th>product_pred</th>\n",
       "      <th>id</th>\n",
       "      <th>product</th>\n",
       "    </tr>\n",
       "  </thead>\n",
       "  <tbody>\n",
       "    <tr>\n",
       "      <th>33967</th>\n",
       "      <td>2.320681</td>\n",
       "      <td>-1.526151</td>\n",
       "      <td>3.003304</td>\n",
       "      <td>97.751163</td>\n",
       "      <td>DhRli</td>\n",
       "      <td>58.166745</td>\n",
       "    </tr>\n",
       "    <tr>\n",
       "      <th>22854</th>\n",
       "      <td>-0.714721</td>\n",
       "      <td>1.985878</td>\n",
       "      <td>2.593923</td>\n",
       "      <td>95.522584</td>\n",
       "      <td>TYMUG</td>\n",
       "      <td>179.573608</td>\n",
       "    </tr>\n",
       "    <tr>\n",
       "      <th>19449</th>\n",
       "      <td>-2.924051</td>\n",
       "      <td>2.719300</td>\n",
       "      <td>5.318565</td>\n",
       "      <td>111.332198</td>\n",
       "      <td>OnmV5</td>\n",
       "      <td>160.193413</td>\n",
       "    </tr>\n",
       "    <tr>\n",
       "      <th>9732</th>\n",
       "      <td>0.500312</td>\n",
       "      <td>-1.925757</td>\n",
       "      <td>-3.053501</td>\n",
       "      <td>62.984886</td>\n",
       "      <td>qju6o</td>\n",
       "      <td>34.079047</td>\n",
       "    </tr>\n",
       "    <tr>\n",
       "      <th>7129</th>\n",
       "      <td>-2.202068</td>\n",
       "      <td>2.999640</td>\n",
       "      <td>10.552605</td>\n",
       "      <td>141.426676</td>\n",
       "      <td>FbzYP</td>\n",
       "      <td>138.077543</td>\n",
       "    </tr>\n",
       "  </tbody>\n",
       "</table>\n",
       "</div>"
      ],
      "text/plain": [
       "             f0        f1         f2  product_pred     id     product\n",
       "33967  2.320681 -1.526151   3.003304     97.751163  DhRli   58.166745\n",
       "22854 -0.714721  1.985878   2.593923     95.522584  TYMUG  179.573608\n",
       "19449 -2.924051  2.719300   5.318565    111.332198  OnmV5  160.193413\n",
       "9732   0.500312 -1.925757  -3.053501     62.984886  qju6o   34.079047\n",
       "7129  -2.202068  2.999640  10.552605    141.426676  FbzYP  138.077543"
      ]
     },
     "metadata": {},
     "output_type": "display_data"
    }
   ],
   "source": [
    "# создание датасета по региону 2 с предсказанными данными\n",
    "data_2_pred = merge_test(data_2, X2_test, y2_test_pred)"
   ]
  },
  {
   "cell_type": "code",
   "execution_count": 52,
   "metadata": {},
   "outputs": [
    {
     "name": "stdout",
     "output_type": "stream",
     "text": [
      "Точка безубыточности: 111.11 тыс. баррелей\n"
     ]
    }
   ],
   "source": [
    "# рассчет безубыточности. тыс баррелей, который надо добыть из одной скважины, чтобы выйти в 0 (точка безубыточности)\n",
    "break_even = BUDGET / PRICE_THOUSAND_BARREL / 200\n",
    "print(f\"Точка безубыточности: {round(break_even, 2)} тыс. баррелей\")"
   ]
  },
  {
   "cell_type": "code",
   "execution_count": 53,
   "metadata": {},
   "outputs": [
    {
     "name": "stdout",
     "output_type": "stream",
     "text": [
      "Средний объем в месторождении 0: 92.37 тыс. баррелей\n"
     ]
    }
   ],
   "source": [
    "print('Средний объем в месторождении 0:', round(data_0_pred['product'].mean(),2), 'тыс. баррелей')"
   ]
  },
  {
   "cell_type": "code",
   "execution_count": 54,
   "metadata": {},
   "outputs": [
    {
     "name": "stdout",
     "output_type": "stream",
     "text": [
      "Средний объем в месторождении 1: 69.16 тыс. баррелей\n"
     ]
    }
   ],
   "source": [
    "print('Средний объем в месторождении 1:', round(data_1_pred['product'].mean(),2), 'тыс. баррелей')"
   ]
  },
  {
   "cell_type": "code",
   "execution_count": 55,
   "metadata": {},
   "outputs": [
    {
     "name": "stdout",
     "output_type": "stream",
     "text": [
      "Средний объем в месторождении 2: 95.06 тыс. баррелей\n"
     ]
    }
   ],
   "source": [
    "print('Средний объем в месторождении 2:', round(data_2_pred['product'].mean(),2), 'тыс. баррелей')"
   ]
  },
  {
   "cell_type": "markdown",
   "metadata": {},
   "source": [
    "**Вывод**\n",
    "\n",
    "Было проведены предварительный работы для подготовки рассчета доходности скважин.\n",
    "\n",
    "Были созданы датасеты с объединенными данными (предсказанными и истинными).\n",
    "\n",
    "Рассчитана точка безубыточности для добычи нефти из одной скважины: 111.11 тыс баррелей\n",
    "\n",
    "Также рассчитаны средние объемы месторождений в регионах (тыс баррелей):\n",
    " - 92.37\n",
    " - 69.16\n",
    " - 95.06\n",
    "\n",
    "Откуда видно, что регион \"1\" сильно отстает от двух других по среднему объему скважины. Также видно, что средний объем меньше точки безубыточности."
   ]
  },
  {
   "cell_type": "markdown",
   "metadata": {},
   "source": [
    "## Расчёт прибыли и рисков "
   ]
  },
  {
   "cell_type": "code",
   "execution_count": 56,
   "metadata": {},
   "outputs": [],
   "source": [
    "def top100_product(df, price_thousand_barrel = PRICE_THOUSAND_BARREL):\n",
    "    \"\"\"\n",
    "    функция для суммирования количества нефти для 100 лучших месторождений в регионе и подсчета прибыли для них.\n",
    "    на вход получает датафрейм с предсказанными значениями по каждому месторождению региона и стоимость прибыли для\n",
    "    одной тысячи баррелей\n",
    "    на выход отдает информацию о сумме 100 наибольших меторождений\n",
    "    \"\"\"\n",
    "    top100 = df.sort_values(by='product', ascending=False).head(100)['product'].sum()\n",
    "    print(f\"Суммарное количество нефти в 100 месторождениях с наибльшим предсказанием объема нефти: \\\n",
    "{round(top100, 2)} тыс. баррелей\")\n",
    "    print(f\"Прибыль для этого количетсва сырья составит: {round(top100 * price_thousand_barrel / 1e6, 2)} млн рублей\")\n",
    "    "
   ]
  },
  {
   "cell_type": "code",
   "execution_count": 57,
   "metadata": {},
   "outputs": [
    {
     "name": "stdout",
     "output_type": "stream",
     "text": [
      "Суммарное количество нефти в 100 месторождениях с наибльшим предсказанием объема нефти: 18437.42 тыс. баррелей\n",
      "Прибыль для этого количетсва сырья составит: 8296.84 млн рублей\n"
     ]
    }
   ],
   "source": [
    "# подсчет нефти для 10 лучших месторождений\n",
    "top100_product(data_0_pred)"
   ]
  },
  {
   "cell_type": "code",
   "execution_count": 58,
   "metadata": {},
   "outputs": [
    {
     "name": "stdout",
     "output_type": "stream",
     "text": [
      "Суммарное количество нефти в 100 месторождениях с наибльшим предсказанием объема нефти: 13794.54 тыс. баррелей\n",
      "Прибыль для этого количетсва сырья составит: 6207.54 млн рублей\n"
     ]
    }
   ],
   "source": [
    "# подсчет нефти для 10 лучших месторождений\n",
    "top100_product(data_1_pred)"
   ]
  },
  {
   "cell_type": "code",
   "execution_count": 59,
   "metadata": {
    "scrolled": true
   },
   "outputs": [
    {
     "name": "stdout",
     "output_type": "stream",
     "text": [
      "Суммарное количество нефти в 100 месторождениях с наибльшим предсказанием объема нефти: 18893.78 тыс. баррелей\n",
      "Прибыль для этого количетсва сырья составит: 8502.2 млн рублей\n"
     ]
    }
   ],
   "source": [
    "# подсчет нефти для 10 лучших месторождений\n",
    "top100_product(data_2_pred)"
   ]
  },
  {
   "cell_type": "code",
   "execution_count": 60,
   "metadata": {},
   "outputs": [],
   "source": [
    "def revenue(df, price_thousand_barrel = PRICE_THOUSAND_BARREL, budget = BUDGET):\n",
    "    \"\"\"\n",
    "    функция для подсчета среднего значения прибыли двухсот лучших месторождений (за вычетом бюджетных средств)\n",
    "    на вход получает датасет. на выходе: среднее значение\n",
    "    \"\"\"\n",
    "    \n",
    "    # отбор 200 лучших скважин и рассчет прибыли по каждой скважине\n",
    "    df_sort = df.sort_values(by='product_pred', ascending=False).head(200)\n",
    "    df_sort['revenue'] = df_sort['product'] * price_thousand_barrel\n",
    "    \n",
    "    #рассчет прибыли\n",
    "    revenue = df_sort['revenue'].sum() - budget\n",
    "    \n",
    "    return revenue"
   ]
  },
  {
   "cell_type": "code",
   "execution_count": 61,
   "metadata": {},
   "outputs": [],
   "source": [
    "def part_neg(series):\n",
    "    \"\"\"\n",
    "    функция для подсчета процента отрицательных значений в серии\n",
    "    на вход получает серию, на выходе отдает число\n",
    "    \"\"\"\n",
    "           \n",
    "    # подсчет и возврат процента отрицательных значений в выборке\n",
    "    return (series < 0).mean() * 100"
   ]
  },
  {
   "cell_type": "code",
   "execution_count": 62,
   "metadata": {},
   "outputs": [],
   "source": [
    "def confidence_interval(data, revenue = revenue, part_neg = part_neg):\n",
    "    \"\"\"\n",
    "    функция для рассчета как для предсказанных так и для истинных значений product: \n",
    "    1. 95% доверительного интервала для средней прибыли скважины\n",
    "    2. Процент шахт с отрицательной прибылью\n",
    "    на вход получает датасет, на выходе получаем 4 доверительных интервала (для прибыли, для отрицательной прибыли, \n",
    "    выполненные на истинных значениях и на предсказанных)\n",
    "    \"\"\"\n",
    "    state = np.random.RandomState(12345)\n",
    "    \n",
    "    reven_value = []\n",
    "    \n",
    "    \n",
    "    # делаем 1000 выборок. Для каждой рассчитываем среднюю прибыль\n",
    "    # на предсказанных и на истинных данных\n",
    "    for i in range(1000):\n",
    "        data_subsample = data.sample(500, replace=True, random_state=state)\n",
    "        reven_value.append(revenue(data_subsample)) \n",
    "    \n",
    "    #рассчет квантилей для прибыли \n",
    "    reven_value = pd.Series(reven_value)\n",
    "    lower = reven_value.quantile(0.025) / 1e6 # приведение к млн руб\n",
    "    upper = reven_value.quantile(0.975) / 1e6\n",
    "    \n",
    "    # рассчет средней прибыли\n",
    "    reven_value_mean = reven_value.mean() / 1e6 # приведение к млн руб\n",
    "\n",
    "    \n",
    "            \n",
    "    # подсчет процента отрицательных значений в выборке\n",
    "    neg = part_neg(reven_value)\n",
    "    \n",
    "    print(f\"95% доверительный интервал для прибыли: ({lower:.2f}, {upper:.2f}), млн руб.\")\n",
    "    print(f\"Среднее значение прибыли: {reven_value_mean:.2f}, руб.\")\n",
    "    print(f\"Процент шахт с отрицательной прибылью: {neg:.2f}%\")    "
   ]
  },
  {
   "cell_type": "code",
   "execution_count": 63,
   "metadata": {},
   "outputs": [
    {
     "name": "stdout",
     "output_type": "stream",
     "text": [
      "95% доверительный интервал для прибыли: (-101.79, 931.56), млн руб.\n",
      "Среднее значение прибыли: 396.71, руб.\n",
      "Процент шахт с отрицательной прибылью: 7.20%\n"
     ]
    }
   ],
   "source": [
    "# подсчет доверительных интервалов для data_0_pred\n",
    "confidence_interval(data_0_pred)"
   ]
  },
  {
   "cell_type": "code",
   "execution_count": 64,
   "metadata": {},
   "outputs": [
    {
     "name": "stdout",
     "output_type": "stream",
     "text": [
      "95% доверительный интервал для прибыли: (90.89, 894.38), млн руб.\n",
      "Среднее значение прибыли: 488.47, руб.\n",
      "Процент шахт с отрицательной прибылью: 1.00%\n"
     ]
    }
   ],
   "source": [
    "# подсчет доверительных интервалов для data_1_pred\n",
    "confidence_interval(data_1_pred)"
   ]
  },
  {
   "cell_type": "code",
   "execution_count": 65,
   "metadata": {},
   "outputs": [
    {
     "name": "stdout",
     "output_type": "stream",
     "text": [
      "95% доверительный интервал для прибыли: (-120.49, 897.14), млн руб.\n",
      "Среднее значение прибыли: 357.47, руб.\n",
      "Процент шахт с отрицательной прибылью: 7.30%\n"
     ]
    }
   ],
   "source": [
    "# подсчет доверительных интервалов для data_2_pred\n",
    "confidence_interval(data_2_pred)"
   ]
  },
  {
   "cell_type": "markdown",
   "metadata": {},
   "source": [
    "**Вывод**\n",
    "\n",
    "Был производен подсчет прибыли для 100 лучших месторождений (с наибольшим запасом нефти). Для всех трех регионов 100 месторождений недостаточно, чтобы восполнить бюджетные затраты.\n",
    "\n",
    "Была рассчитана средняя прибыль, доверительный интервал для прибыли и вероятность отрицательной прибыли:\n",
    "\n",
    "Регион 0\n",
    " - 95% доверительный интервал для прибыли: (-101.79, 931.56), млн руб.\n",
    " - Среднее значение прибыли: 396.71, руб.\n",
    " - Процент шахт с отрицательной прибылью: 7.20%\n",
    "\n",
    "Регион 1\n",
    " - 95% доверительный интервал для прибыли: (90.89, 894.38), млн руб.\n",
    " - Среднее значение прибыли: 488.47, руб.\n",
    " - Процент шахт с отрицательной прибылью: 1.00%\n",
    "\n",
    "Регион 2\n",
    " - 95% доверительный интервал для прибыли: (-120.49, 897.14), млн руб.\n",
    " - Среднее значение прибыли: 357.47, руб.\n",
    " - Процент шахт с отрицательной прибылью: 7.30%\n",
    " \n",
    "у регионов 0 и 2 высокая вероятность получить отрицательную прибыль. Тогда как результаты по региону 1 обнадеживают. Следует выбрать регион 1 для разработки."
   ]
  },
  {
   "cell_type": "markdown",
   "metadata": {},
   "source": [
    "## Выводы"
   ]
  },
  {
   "cell_type": "markdown",
   "metadata": {},
   "source": [
    "Было получено три датасета (каждый для отдельно взятого региона).\n",
    "Данные, кроме идентификатора месторождения, содержали три параметра (f0, f1, f2), характерезующие месторождение и колчество нефти в месторождении (целевая переменная).\n",
    "\n",
    "Во всех трех датасетах было обнаружено незначительное количество задвоившихся id, которые были удалены из датасетов. \n",
    "\n",
    "Т.к. распределения параметров разное в разных регионах, для каждого региона была обучена отдельная модель.\n",
    "Модель: LinearRegression(). Масштабирование признаков: StandartScaler().\n",
    "Для оценки качетсва модели исопльзовалась метрика RMSE.\n",
    "Для региона 0:\n",
    "- Метрика лучшей модели на тренировочной выборке: 37.67\n",
    "- Метрика RMSE на тестовой выборке: 37.76\n",
    "\n",
    "Для региона 1:\n",
    "- Метрика лучшей модели на тренировочной выборке: 0.89\n",
    "- Метрика RMSE на тестовой выборке: 0.89\n",
    "\n",
    "Для региона 2:\n",
    "- Метрика лучшей модели на тренировочной выборке: 40.03\n",
    "- Метрика RMSE на тестовой выборке: 40.13\n",
    "\n",
    "Для региона 1 такой низкий уровень метрики обсусловлен тем, что в данных для этого региона очень высокая корреляция между признаком f2 и объемом продукта, что привело к такой низкой метрике.\n",
    "\n",
    "Кроме того, анализ значимости признаков также показал, что признак f2 оказывает наибольшие влияние на объем нефти в месторождении для всех регионов.\n",
    "\n",
    "Анализ 95% доверительных интервалов для всех регионов показал, что лучшим для разработки является регион 1 со следующими значениями параметров:\n",
    " - 95% доверительный интервал для прибыли: (90.89, 894.38), млн руб.\n",
    " - Среднее значение прибыли: 488.47, руб.\n",
    " - Процент шахт с отрицательной прибылью: 1.00%"
   ]
  },
  {
   "cell_type": "code",
   "execution_count": null,
   "metadata": {},
   "outputs": [],
   "source": []
  }
 ],
 "metadata": {
  "ExecuteTimeLog": [
   {
    "duration": 47,
    "start_time": "2024-01-17T18:57:57.121Z"
   },
   {
    "duration": 12567,
    "start_time": "2024-01-17T18:58:01.791Z"
   },
   {
    "duration": 2519,
    "start_time": "2024-01-17T18:58:18.023Z"
   },
   {
    "duration": 3,
    "start_time": "2024-01-17T18:58:24.567Z"
   },
   {
    "duration": 161,
    "start_time": "2024-01-17T18:58:25.231Z"
   },
   {
    "duration": 521,
    "start_time": "2024-01-17T18:59:05.658Z"
   },
   {
    "duration": 153,
    "start_time": "2024-01-17T19:00:04.572Z"
   },
   {
    "duration": 153,
    "start_time": "2024-01-17T19:00:14.683Z"
   },
   {
    "duration": 573,
    "start_time": "2024-01-17T19:00:18.882Z"
   },
   {
    "duration": 575,
    "start_time": "2024-01-17T19:00:23.042Z"
   },
   {
    "duration": 45,
    "start_time": "2024-01-18T18:33:29.876Z"
   },
   {
    "duration": 12773,
    "start_time": "2024-01-18T18:34:05.911Z"
   },
   {
    "duration": 2581,
    "start_time": "2024-01-18T18:34:18.687Z"
   },
   {
    "duration": 2,
    "start_time": "2024-01-18T18:34:21.270Z"
   },
   {
    "duration": 533,
    "start_time": "2024-01-18T18:34:21.274Z"
   },
   {
    "duration": 549,
    "start_time": "2024-01-18T18:34:21.808Z"
   },
   {
    "duration": 523,
    "start_time": "2024-01-18T18:34:22.359Z"
   },
   {
    "duration": 151,
    "start_time": "2024-01-18T18:34:22.884Z"
   },
   {
    "duration": 15,
    "start_time": "2024-01-18T18:35:44.878Z"
   },
   {
    "duration": 24,
    "start_time": "2024-01-18T18:35:51.693Z"
   },
   {
    "duration": 15,
    "start_time": "2024-01-18T18:37:20.719Z"
   },
   {
    "duration": 161,
    "start_time": "2024-01-18T18:37:33.935Z"
   },
   {
    "duration": 164,
    "start_time": "2024-01-18T18:38:51.328Z"
   },
   {
    "duration": 53,
    "start_time": "2024-01-18T18:39:29.000Z"
   },
   {
    "duration": 89,
    "start_time": "2024-01-18T18:40:18.769Z"
   },
   {
    "duration": 121,
    "start_time": "2024-01-18T18:40:28.057Z"
   },
   {
    "duration": 80,
    "start_time": "2024-01-18T18:40:41.075Z"
   },
   {
    "duration": 91,
    "start_time": "2024-01-18T18:40:50.675Z"
   },
   {
    "duration": 91,
    "start_time": "2024-01-18T18:41:28.026Z"
   },
   {
    "duration": 7530,
    "start_time": "2024-01-18T18:41:45.075Z"
   },
   {
    "duration": 2331,
    "start_time": "2024-01-18T18:41:52.607Z"
   },
   {
    "duration": 2,
    "start_time": "2024-01-18T18:41:54.940Z"
   },
   {
    "duration": 167,
    "start_time": "2024-01-18T18:41:54.943Z"
   },
   {
    "duration": 138,
    "start_time": "2024-01-18T18:41:55.112Z"
   },
   {
    "duration": 150,
    "start_time": "2024-01-18T18:41:55.252Z"
   },
   {
    "duration": 36,
    "start_time": "2024-01-18T18:41:55.403Z"
   },
   {
    "duration": 168,
    "start_time": "2024-01-18T18:41:55.441Z"
   },
   {
    "duration": 92,
    "start_time": "2024-01-18T18:41:55.610Z"
   },
   {
    "duration": 95,
    "start_time": "2024-01-18T18:42:06.195Z"
   },
   {
    "duration": 59,
    "start_time": "2024-01-18T18:42:17.770Z"
   },
   {
    "duration": 51,
    "start_time": "2024-01-18T18:42:26.533Z"
   },
   {
    "duration": 94,
    "start_time": "2024-01-18T18:43:30.212Z"
   },
   {
    "duration": 223,
    "start_time": "2024-01-18T18:43:34.091Z"
   },
   {
    "duration": 7,
    "start_time": "2024-01-18T18:43:43.732Z"
   },
   {
    "duration": 102,
    "start_time": "2024-01-18T18:44:00.747Z"
   },
   {
    "duration": 101,
    "start_time": "2024-01-18T18:45:18.748Z"
   },
   {
    "duration": 11,
    "start_time": "2024-01-18T18:49:23.863Z"
   },
   {
    "duration": 5,
    "start_time": "2024-01-18T18:49:26.351Z"
   },
   {
    "duration": 3107,
    "start_time": "2024-01-18T18:49:26.951Z"
   },
   {
    "duration": 4,
    "start_time": "2024-01-18T18:53:15.786Z"
   },
   {
    "duration": 3173,
    "start_time": "2024-01-18T18:53:16.210Z"
   },
   {
    "duration": 363,
    "start_time": "2024-01-18T18:54:14.107Z"
   },
   {
    "duration": 19,
    "start_time": "2024-01-18T19:04:57.037Z"
   },
   {
    "duration": 19,
    "start_time": "2024-01-18T19:05:11.028Z"
   },
   {
    "duration": 17,
    "start_time": "2024-01-18T19:05:16.060Z"
   },
   {
    "duration": 161,
    "start_time": "2024-01-18T19:06:41.598Z"
   },
   {
    "duration": 16,
    "start_time": "2024-01-18T19:08:09.079Z"
   },
   {
    "duration": 26,
    "start_time": "2024-01-18T19:08:32.703Z"
   },
   {
    "duration": 14,
    "start_time": "2024-01-18T19:09:29.120Z"
   },
   {
    "duration": 19,
    "start_time": "2024-01-18T19:09:30.176Z"
   },
   {
    "duration": 16,
    "start_time": "2024-01-18T19:09:30.719Z"
   },
   {
    "duration": 1157,
    "start_time": "2024-01-18T19:10:03.258Z"
   },
   {
    "duration": 1280,
    "start_time": "2024-01-18T19:10:26.841Z"
   },
   {
    "duration": 1435,
    "start_time": "2024-01-18T19:10:36.616Z"
   },
   {
    "duration": 306,
    "start_time": "2024-01-18T19:11:02.185Z"
   },
   {
    "duration": 4,
    "start_time": "2024-01-18T19:13:57.219Z"
   },
   {
    "duration": 357,
    "start_time": "2024-01-18T19:13:57.723Z"
   },
   {
    "duration": 449,
    "start_time": "2024-01-18T19:14:09.755Z"
   },
   {
    "duration": 294,
    "start_time": "2024-01-18T19:14:17.203Z"
   },
   {
    "duration": 31,
    "start_time": "2024-01-18T19:27:44.861Z"
   },
   {
    "duration": 3,
    "start_time": "2024-01-18T19:27:49.444Z"
   },
   {
    "duration": 29,
    "start_time": "2024-01-18T19:27:50.869Z"
   },
   {
    "duration": 15,
    "start_time": "2024-01-18T19:28:19.655Z"
   },
   {
    "duration": 15,
    "start_time": "2024-01-18T19:29:42.286Z"
   },
   {
    "duration": 3,
    "start_time": "2024-01-18T19:32:56.482Z"
   },
   {
    "duration": 4,
    "start_time": "2024-01-18T19:34:02.285Z"
   },
   {
    "duration": 14,
    "start_time": "2024-01-18T19:34:02.731Z"
   },
   {
    "duration": 4,
    "start_time": "2024-01-18T19:34:13.426Z"
   },
   {
    "duration": 13,
    "start_time": "2024-01-18T19:34:42.251Z"
   },
   {
    "duration": 15,
    "start_time": "2024-01-18T19:34:55.323Z"
   },
   {
    "duration": 16,
    "start_time": "2024-01-18T19:35:00.220Z"
   },
   {
    "duration": 11,
    "start_time": "2024-01-18T19:35:04.148Z"
   },
   {
    "duration": 12,
    "start_time": "2024-01-18T19:35:04.483Z"
   },
   {
    "duration": 11,
    "start_time": "2024-01-18T19:35:04.780Z"
   },
   {
    "duration": 3,
    "start_time": "2024-01-18T19:42:02.819Z"
   },
   {
    "duration": 12,
    "start_time": "2024-01-18T19:42:03.521Z"
   },
   {
    "duration": 12,
    "start_time": "2024-01-18T19:42:04.002Z"
   },
   {
    "duration": 12,
    "start_time": "2024-01-18T19:42:04.401Z"
   },
   {
    "duration": 50,
    "start_time": "2024-01-21T14:25:19.907Z"
   },
   {
    "duration": 13871,
    "start_time": "2024-01-21T14:25:28.165Z"
   },
   {
    "duration": 2527,
    "start_time": "2024-01-21T14:25:42.039Z"
   },
   {
    "duration": 3,
    "start_time": "2024-01-21T14:25:44.568Z"
   },
   {
    "duration": 457,
    "start_time": "2024-01-21T14:25:44.573Z"
   },
   {
    "duration": 214,
    "start_time": "2024-01-21T14:25:45.032Z"
   },
   {
    "duration": 224,
    "start_time": "2024-01-21T14:25:45.247Z"
   },
   {
    "duration": 207,
    "start_time": "2024-01-21T14:25:45.475Z"
   },
   {
    "duration": 15,
    "start_time": "2024-01-21T14:25:45.684Z"
   },
   {
    "duration": 15,
    "start_time": "2024-01-21T14:25:45.701Z"
   },
   {
    "duration": 14,
    "start_time": "2024-01-21T14:25:45.718Z"
   },
   {
    "duration": 195,
    "start_time": "2024-01-21T14:25:45.733Z"
   },
   {
    "duration": 0,
    "start_time": "2024-01-21T14:25:45.930Z"
   },
   {
    "duration": 0,
    "start_time": "2024-01-21T14:25:45.931Z"
   },
   {
    "duration": 0,
    "start_time": "2024-01-21T14:25:45.932Z"
   },
   {
    "duration": 0,
    "start_time": "2024-01-21T14:25:45.933Z"
   },
   {
    "duration": 0,
    "start_time": "2024-01-21T14:25:45.934Z"
   },
   {
    "duration": 0,
    "start_time": "2024-01-21T14:25:45.934Z"
   },
   {
    "duration": 0,
    "start_time": "2024-01-21T14:25:45.935Z"
   },
   {
    "duration": 0,
    "start_time": "2024-01-21T14:25:45.936Z"
   },
   {
    "duration": 0,
    "start_time": "2024-01-21T14:25:45.937Z"
   },
   {
    "duration": 0,
    "start_time": "2024-01-21T14:25:45.938Z"
   },
   {
    "duration": 0,
    "start_time": "2024-01-21T14:25:45.939Z"
   },
   {
    "duration": 0,
    "start_time": "2024-01-21T14:25:45.940Z"
   },
   {
    "duration": 0,
    "start_time": "2024-01-21T14:25:45.941Z"
   },
   {
    "duration": 0,
    "start_time": "2024-01-21T14:25:45.942Z"
   },
   {
    "duration": 0,
    "start_time": "2024-01-21T14:25:45.943Z"
   },
   {
    "duration": 0,
    "start_time": "2024-01-21T14:25:45.944Z"
   },
   {
    "duration": 0,
    "start_time": "2024-01-21T14:25:45.945Z"
   },
   {
    "duration": 0,
    "start_time": "2024-01-21T14:25:45.946Z"
   },
   {
    "duration": 0,
    "start_time": "2024-01-21T14:25:45.948Z"
   },
   {
    "duration": 0,
    "start_time": "2024-01-21T14:25:45.948Z"
   },
   {
    "duration": 0,
    "start_time": "2024-01-21T14:25:45.949Z"
   },
   {
    "duration": 0,
    "start_time": "2024-01-21T14:25:45.982Z"
   },
   {
    "duration": 0,
    "start_time": "2024-01-21T14:25:45.984Z"
   },
   {
    "duration": 0,
    "start_time": "2024-01-21T14:25:45.984Z"
   },
   {
    "duration": 64,
    "start_time": "2024-01-21T14:26:19.234Z"
   },
   {
    "duration": 90,
    "start_time": "2024-01-21T14:26:41.154Z"
   },
   {
    "duration": 85,
    "start_time": "2024-01-21T14:26:56.202Z"
   },
   {
    "duration": 59,
    "start_time": "2024-01-21T14:27:08.835Z"
   },
   {
    "duration": 60,
    "start_time": "2024-01-21T14:27:58.075Z"
   },
   {
    "duration": 4,
    "start_time": "2024-01-21T14:28:01.355Z"
   },
   {
    "duration": 17,
    "start_time": "2024-01-21T14:28:19.118Z"
   },
   {
    "duration": 53,
    "start_time": "2024-01-21T14:28:22.571Z"
   },
   {
    "duration": 1540,
    "start_time": "2024-01-21T14:28:57.957Z"
   },
   {
    "duration": 66,
    "start_time": "2024-01-21T14:29:14.092Z"
   },
   {
    "duration": 61,
    "start_time": "2024-01-21T14:29:19.723Z"
   },
   {
    "duration": 15,
    "start_time": "2024-01-21T14:31:14.357Z"
   },
   {
    "duration": 14,
    "start_time": "2024-01-21T14:31:25.284Z"
   },
   {
    "duration": 37,
    "start_time": "2024-01-21T14:33:08.661Z"
   },
   {
    "duration": 44,
    "start_time": "2024-01-21T14:33:31.815Z"
   },
   {
    "duration": 55,
    "start_time": "2024-01-21T14:33:37.288Z"
   },
   {
    "duration": 27,
    "start_time": "2024-01-21T14:33:39.535Z"
   },
   {
    "duration": 14,
    "start_time": "2024-01-21T14:33:52.959Z"
   },
   {
    "duration": 4,
    "start_time": "2024-01-21T14:34:04.329Z"
   },
   {
    "duration": 20,
    "start_time": "2024-01-21T14:34:21.422Z"
   },
   {
    "duration": 55,
    "start_time": "2024-01-21T14:36:15.343Z"
   },
   {
    "duration": 50,
    "start_time": "2024-01-21T14:36:24.141Z"
   },
   {
    "duration": 51,
    "start_time": "2024-01-21T14:36:39.151Z"
   },
   {
    "duration": 56,
    "start_time": "2024-01-21T14:36:48.392Z"
   },
   {
    "duration": 52,
    "start_time": "2024-01-21T14:37:03.559Z"
   },
   {
    "duration": 54,
    "start_time": "2024-01-21T14:37:13.632Z"
   },
   {
    "duration": 94,
    "start_time": "2024-01-21T14:41:03.666Z"
   },
   {
    "duration": 6,
    "start_time": "2024-01-21T14:41:45.386Z"
   },
   {
    "duration": 86,
    "start_time": "2024-01-21T14:43:30.483Z"
   },
   {
    "duration": 88,
    "start_time": "2024-01-21T14:44:04.619Z"
   },
   {
    "duration": 6,
    "start_time": "2024-01-21T14:44:13.259Z"
   },
   {
    "duration": 17,
    "start_time": "2024-01-21T14:44:13.691Z"
   },
   {
    "duration": 3,
    "start_time": "2024-01-21T14:44:43.572Z"
   },
   {
    "duration": 27,
    "start_time": "2024-01-21T14:44:44.076Z"
   },
   {
    "duration": 4,
    "start_time": "2024-01-21T14:44:53.955Z"
   },
   {
    "duration": 7928,
    "start_time": "2024-01-21T14:45:43.121Z"
   },
   {
    "duration": 2422,
    "start_time": "2024-01-21T14:45:51.051Z"
   },
   {
    "duration": 3,
    "start_time": "2024-01-21T14:45:53.474Z"
   },
   {
    "duration": 177,
    "start_time": "2024-01-21T14:45:53.479Z"
   },
   {
    "duration": 140,
    "start_time": "2024-01-21T14:45:53.657Z"
   },
   {
    "duration": 151,
    "start_time": "2024-01-21T14:45:53.799Z"
   },
   {
    "duration": 185,
    "start_time": "2024-01-21T14:45:53.952Z"
   },
   {
    "duration": 16,
    "start_time": "2024-01-21T14:45:54.138Z"
   },
   {
    "duration": 27,
    "start_time": "2024-01-21T14:45:54.155Z"
   },
   {
    "duration": 22,
    "start_time": "2024-01-21T14:45:54.186Z"
   },
   {
    "duration": 4,
    "start_time": "2024-01-21T14:45:54.210Z"
   },
   {
    "duration": 110,
    "start_time": "2024-01-21T14:45:54.222Z"
   },
   {
    "duration": 55,
    "start_time": "2024-01-21T14:45:54.333Z"
   },
   {
    "duration": 13,
    "start_time": "2024-01-21T14:45:54.389Z"
   },
   {
    "duration": 179,
    "start_time": "2024-01-21T14:45:54.403Z"
   },
   {
    "duration": 0,
    "start_time": "2024-01-21T14:45:54.584Z"
   },
   {
    "duration": 0,
    "start_time": "2024-01-21T14:45:54.585Z"
   },
   {
    "duration": 0,
    "start_time": "2024-01-21T14:45:54.586Z"
   },
   {
    "duration": 0,
    "start_time": "2024-01-21T14:45:54.587Z"
   },
   {
    "duration": 0,
    "start_time": "2024-01-21T14:45:54.588Z"
   },
   {
    "duration": 0,
    "start_time": "2024-01-21T14:45:54.590Z"
   },
   {
    "duration": 0,
    "start_time": "2024-01-21T14:45:54.591Z"
   },
   {
    "duration": 0,
    "start_time": "2024-01-21T14:45:54.592Z"
   },
   {
    "duration": 0,
    "start_time": "2024-01-21T14:45:54.593Z"
   },
   {
    "duration": 0,
    "start_time": "2024-01-21T14:45:54.594Z"
   },
   {
    "duration": 0,
    "start_time": "2024-01-21T14:45:54.595Z"
   },
   {
    "duration": 0,
    "start_time": "2024-01-21T14:45:54.596Z"
   },
   {
    "duration": 0,
    "start_time": "2024-01-21T14:45:54.597Z"
   },
   {
    "duration": 0,
    "start_time": "2024-01-21T14:45:54.598Z"
   },
   {
    "duration": 0,
    "start_time": "2024-01-21T14:45:54.599Z"
   },
   {
    "duration": 0,
    "start_time": "2024-01-21T14:45:54.600Z"
   },
   {
    "duration": 0,
    "start_time": "2024-01-21T14:45:54.601Z"
   },
   {
    "duration": 0,
    "start_time": "2024-01-21T14:45:54.603Z"
   },
   {
    "duration": 0,
    "start_time": "2024-01-21T14:45:54.604Z"
   },
   {
    "duration": 0,
    "start_time": "2024-01-21T14:45:54.605Z"
   },
   {
    "duration": 0,
    "start_time": "2024-01-21T14:45:54.607Z"
   },
   {
    "duration": 0,
    "start_time": "2024-01-21T14:45:54.609Z"
   },
   {
    "duration": 0,
    "start_time": "2024-01-21T14:45:54.610Z"
   },
   {
    "duration": 6,
    "start_time": "2024-01-21T14:46:40.989Z"
   },
   {
    "duration": 114,
    "start_time": "2024-01-21T14:46:42.461Z"
   },
   {
    "duration": 46,
    "start_time": "2024-01-21T14:47:16.174Z"
   },
   {
    "duration": 60,
    "start_time": "2024-01-21T14:47:24.774Z"
   },
   {
    "duration": 55,
    "start_time": "2024-01-21T14:49:30.593Z"
   },
   {
    "duration": 67,
    "start_time": "2024-01-21T14:49:43.471Z"
   },
   {
    "duration": 13,
    "start_time": "2024-01-21T14:50:09.488Z"
   },
   {
    "duration": 84,
    "start_time": "2024-01-21T14:50:27.175Z"
   },
   {
    "duration": 90,
    "start_time": "2024-01-21T14:50:36.839Z"
   },
   {
    "duration": 131,
    "start_time": "2024-01-21T14:52:15.186Z"
   },
   {
    "duration": 4,
    "start_time": "2024-01-21T14:54:16.866Z"
   },
   {
    "duration": 1351,
    "start_time": "2024-01-21T14:54:17.537Z"
   },
   {
    "duration": 1308,
    "start_time": "2024-01-21T14:54:20.464Z"
   },
   {
    "duration": 1578,
    "start_time": "2024-01-21T14:54:24.657Z"
   },
   {
    "duration": 3,
    "start_time": "2024-01-21T14:54:28.322Z"
   },
   {
    "duration": 339,
    "start_time": "2024-01-21T14:54:31.673Z"
   },
   {
    "duration": 472,
    "start_time": "2024-01-21T14:54:32.135Z"
   },
   {
    "duration": 363,
    "start_time": "2024-01-21T14:54:33.449Z"
   },
   {
    "duration": 2,
    "start_time": "2024-01-21T16:54:48.017Z"
   },
   {
    "duration": 3,
    "start_time": "2024-01-21T16:54:48.680Z"
   },
   {
    "duration": 12,
    "start_time": "2024-01-21T16:54:49.584Z"
   },
   {
    "duration": 12,
    "start_time": "2024-01-21T16:54:50.087Z"
   },
   {
    "duration": 14,
    "start_time": "2024-01-21T16:54:50.480Z"
   },
   {
    "duration": 3,
    "start_time": "2024-01-21T16:54:53.536Z"
   },
   {
    "duration": 3,
    "start_time": "2024-01-21T16:54:54.071Z"
   },
   {
    "duration": 2,
    "start_time": "2024-01-21T16:54:54.488Z"
   },
   {
    "duration": 16,
    "start_time": "2024-01-21T16:55:00.199Z"
   },
   {
    "duration": 12,
    "start_time": "2024-01-21T16:55:12.964Z"
   },
   {
    "duration": 3,
    "start_time": "2024-01-21T16:55:19.688Z"
   },
   {
    "duration": 45,
    "start_time": "2024-01-21T16:55:28.048Z"
   },
   {
    "duration": 3,
    "start_time": "2024-01-21T16:58:59.425Z"
   },
   {
    "duration": 42,
    "start_time": "2024-01-21T16:59:01.641Z"
   },
   {
    "duration": 3,
    "start_time": "2024-01-21T16:59:57.089Z"
   },
   {
    "duration": 179,
    "start_time": "2024-01-21T16:59:58.249Z"
   },
   {
    "duration": 3,
    "start_time": "2024-01-21T17:00:28.784Z"
   },
   {
    "duration": 2186,
    "start_time": "2024-01-21T17:00:30.201Z"
   },
   {
    "duration": 2,
    "start_time": "2024-01-21T17:00:45.953Z"
   },
   {
    "duration": 13,
    "start_time": "2024-01-21T17:00:47.338Z"
   },
   {
    "duration": 2,
    "start_time": "2024-01-21T17:02:11.402Z"
   },
   {
    "duration": 2167,
    "start_time": "2024-01-21T17:02:12.626Z"
   },
   {
    "duration": 12,
    "start_time": "2024-01-21T17:02:22.657Z"
   },
   {
    "duration": 14,
    "start_time": "2024-01-21T17:02:34.346Z"
   },
   {
    "duration": 6,
    "start_time": "2024-01-21T17:02:42.122Z"
   },
   {
    "duration": 89,
    "start_time": "2024-01-21T17:03:24.395Z"
   },
   {
    "duration": 23,
    "start_time": "2024-01-21T17:03:36.851Z"
   },
   {
    "duration": 6,
    "start_time": "2024-01-21T17:03:53.554Z"
   },
   {
    "duration": 13,
    "start_time": "2024-01-21T17:04:02.330Z"
   },
   {
    "duration": 2,
    "start_time": "2024-01-21T17:04:37.475Z"
   },
   {
    "duration": 1920,
    "start_time": "2024-01-21T17:04:38.163Z"
   },
   {
    "duration": 12,
    "start_time": "2024-01-21T17:04:40.922Z"
   },
   {
    "duration": 8,
    "start_time": "2024-01-21T17:04:43.197Z"
   },
   {
    "duration": 3,
    "start_time": "2024-01-21T17:04:53.434Z"
   },
   {
    "duration": 2113,
    "start_time": "2024-01-21T17:04:53.874Z"
   },
   {
    "duration": 12,
    "start_time": "2024-01-21T17:04:55.990Z"
   },
   {
    "duration": 5,
    "start_time": "2024-01-21T17:04:57.731Z"
   },
   {
    "duration": 8011,
    "start_time": "2024-01-21T17:06:36.655Z"
   },
   {
    "duration": 2480,
    "start_time": "2024-01-21T17:06:44.668Z"
   },
   {
    "duration": 2,
    "start_time": "2024-01-21T17:06:47.150Z"
   },
   {
    "duration": 197,
    "start_time": "2024-01-21T17:06:47.154Z"
   },
   {
    "duration": 165,
    "start_time": "2024-01-21T17:06:47.353Z"
   },
   {
    "duration": 147,
    "start_time": "2024-01-21T17:06:47.520Z"
   },
   {
    "duration": 195,
    "start_time": "2024-01-21T17:06:47.669Z"
   },
   {
    "duration": 24,
    "start_time": "2024-01-21T17:06:47.866Z"
   },
   {
    "duration": 16,
    "start_time": "2024-01-21T17:06:47.891Z"
   },
   {
    "duration": 17,
    "start_time": "2024-01-21T17:06:47.910Z"
   },
   {
    "duration": 4,
    "start_time": "2024-01-21T17:06:47.929Z"
   },
   {
    "duration": 124,
    "start_time": "2024-01-21T17:06:47.935Z"
   },
   {
    "duration": 86,
    "start_time": "2024-01-21T17:06:48.061Z"
   },
   {
    "duration": 92,
    "start_time": "2024-01-21T17:06:48.149Z"
   },
   {
    "duration": 126,
    "start_time": "2024-01-21T17:06:48.243Z"
   },
   {
    "duration": 4,
    "start_time": "2024-01-21T17:06:48.370Z"
   },
   {
    "duration": 1401,
    "start_time": "2024-01-21T17:06:48.381Z"
   },
   {
    "duration": 1189,
    "start_time": "2024-01-21T17:06:49.784Z"
   },
   {
    "duration": 1597,
    "start_time": "2024-01-21T17:06:50.981Z"
   },
   {
    "duration": 4,
    "start_time": "2024-01-21T17:06:52.582Z"
   },
   {
    "duration": 338,
    "start_time": "2024-01-21T17:06:52.587Z"
   },
   {
    "duration": 502,
    "start_time": "2024-01-21T17:06:52.927Z"
   },
   {
    "duration": 357,
    "start_time": "2024-01-21T17:06:53.431Z"
   },
   {
    "duration": 2,
    "start_time": "2024-01-21T17:06:53.790Z"
   },
   {
    "duration": 39,
    "start_time": "2024-01-21T17:06:53.794Z"
   },
   {
    "duration": 19,
    "start_time": "2024-01-21T17:06:53.835Z"
   },
   {
    "duration": 26,
    "start_time": "2024-01-21T17:06:53.855Z"
   },
   {
    "duration": 14,
    "start_time": "2024-01-21T17:06:53.886Z"
   },
   {
    "duration": 8,
    "start_time": "2024-01-21T17:06:53.902Z"
   },
   {
    "duration": 21,
    "start_time": "2024-01-21T17:06:53.912Z"
   },
   {
    "duration": 19,
    "start_time": "2024-01-21T17:06:53.934Z"
   },
   {
    "duration": 31,
    "start_time": "2024-01-21T17:06:53.954Z"
   },
   {
    "duration": 2197,
    "start_time": "2024-01-21T17:06:53.986Z"
   },
   {
    "duration": 10,
    "start_time": "2024-01-21T17:06:56.184Z"
   },
   {
    "duration": 183,
    "start_time": "2024-01-21T17:06:56.199Z"
   },
   {
    "duration": 177,
    "start_time": "2024-01-21T17:06:56.385Z"
   },
   {
    "duration": 0,
    "start_time": "2024-01-21T17:06:56.564Z"
   },
   {
    "duration": 0,
    "start_time": "2024-01-21T17:06:56.565Z"
   },
   {
    "duration": 42,
    "start_time": "2024-01-21T17:13:34.479Z"
   },
   {
    "duration": 985,
    "start_time": "2024-01-21T17:13:47.424Z"
   },
   {
    "duration": 1097,
    "start_time": "2024-01-21T17:14:06.057Z"
   },
   {
    "duration": 943,
    "start_time": "2024-01-21T17:14:45.584Z"
   },
   {
    "duration": 1082,
    "start_time": "2024-01-21T17:15:10.200Z"
   },
   {
    "duration": 574,
    "start_time": "2024-01-21T17:15:25.985Z"
   },
   {
    "duration": 1039,
    "start_time": "2024-01-21T17:15:53.688Z"
   },
   {
    "duration": 590,
    "start_time": "2024-01-21T17:16:06.048Z"
   },
   {
    "duration": 598,
    "start_time": "2024-01-21T17:16:17.361Z"
   },
   {
    "duration": 1083,
    "start_time": "2024-01-21T17:16:35.712Z"
   },
   {
    "duration": 1055,
    "start_time": "2024-01-21T17:16:46.577Z"
   },
   {
    "duration": 952,
    "start_time": "2024-01-21T17:16:51.745Z"
   },
   {
    "duration": 718,
    "start_time": "2024-01-21T17:16:55.897Z"
   },
   {
    "duration": 968,
    "start_time": "2024-01-21T17:16:59.553Z"
   },
   {
    "duration": 1090,
    "start_time": "2024-01-21T17:17:03.651Z"
   },
   {
    "duration": 986,
    "start_time": "2024-01-21T17:17:15.145Z"
   },
   {
    "duration": 1094,
    "start_time": "2024-01-21T17:17:19.721Z"
   },
   {
    "duration": 1091,
    "start_time": "2024-01-21T17:17:23.738Z"
   },
   {
    "duration": 631,
    "start_time": "2024-01-21T17:17:27.122Z"
   },
   {
    "duration": 613,
    "start_time": "2024-01-21T17:17:32.994Z"
   },
   {
    "duration": 615,
    "start_time": "2024-01-21T17:18:13.489Z"
   },
   {
    "duration": 742,
    "start_time": "2024-01-21T17:18:20.978Z"
   },
   {
    "duration": 592,
    "start_time": "2024-01-21T17:18:29.553Z"
   },
   {
    "duration": 3,
    "start_time": "2024-01-21T19:00:42.633Z"
   },
   {
    "duration": 15,
    "start_time": "2024-01-21T19:00:44.957Z"
   },
   {
    "duration": 5,
    "start_time": "2024-01-21T19:06:44.861Z"
   },
   {
    "duration": 5,
    "start_time": "2024-01-21T19:06:51.837Z"
   },
   {
    "duration": 1849,
    "start_time": "2024-01-21T19:06:53.038Z"
   },
   {
    "duration": 14,
    "start_time": "2024-01-21T19:07:36.189Z"
   },
   {
    "duration": 5,
    "start_time": "2024-01-21T19:07:45.461Z"
   },
   {
    "duration": 4,
    "start_time": "2024-01-21T19:08:47.901Z"
   },
   {
    "duration": 25,
    "start_time": "2024-01-21T19:08:53.159Z"
   },
   {
    "duration": 10,
    "start_time": "2024-01-21T19:09:11.254Z"
   },
   {
    "duration": 11,
    "start_time": "2024-01-21T19:09:38.120Z"
   },
   {
    "duration": 5,
    "start_time": "2024-01-21T19:13:56.792Z"
   },
   {
    "duration": 3,
    "start_time": "2024-01-21T19:14:24.278Z"
   },
   {
    "duration": 2440,
    "start_time": "2024-01-21T19:15:02.542Z"
   },
   {
    "duration": 10,
    "start_time": "2024-01-21T19:15:06.022Z"
   },
   {
    "duration": 8698,
    "start_time": "2024-01-21T19:15:28.253Z"
   },
   {
    "duration": 2445,
    "start_time": "2024-01-21T19:15:36.954Z"
   },
   {
    "duration": 2,
    "start_time": "2024-01-21T19:15:39.401Z"
   },
   {
    "duration": 181,
    "start_time": "2024-01-21T19:15:39.405Z"
   },
   {
    "duration": 144,
    "start_time": "2024-01-21T19:15:39.588Z"
   },
   {
    "duration": 168,
    "start_time": "2024-01-21T19:15:39.733Z"
   },
   {
    "duration": 202,
    "start_time": "2024-01-21T19:15:39.902Z"
   },
   {
    "duration": 23,
    "start_time": "2024-01-21T19:15:40.105Z"
   },
   {
    "duration": 18,
    "start_time": "2024-01-21T19:15:40.130Z"
   },
   {
    "duration": 36,
    "start_time": "2024-01-21T19:15:40.152Z"
   },
   {
    "duration": 6,
    "start_time": "2024-01-21T19:15:40.190Z"
   },
   {
    "duration": 115,
    "start_time": "2024-01-21T19:15:40.197Z"
   },
   {
    "duration": 106,
    "start_time": "2024-01-21T19:15:40.315Z"
   },
   {
    "duration": 96,
    "start_time": "2024-01-21T19:15:40.423Z"
   },
   {
    "duration": 116,
    "start_time": "2024-01-21T19:15:40.520Z"
   },
   {
    "duration": 4,
    "start_time": "2024-01-21T19:15:40.638Z"
   },
   {
    "duration": 1402,
    "start_time": "2024-01-21T19:15:40.643Z"
   },
   {
    "duration": 1246,
    "start_time": "2024-01-21T19:15:42.047Z"
   },
   {
    "duration": 1613,
    "start_time": "2024-01-21T19:15:43.295Z"
   },
   {
    "duration": 3,
    "start_time": "2024-01-21T19:15:44.910Z"
   },
   {
    "duration": 338,
    "start_time": "2024-01-21T19:15:44.915Z"
   },
   {
    "duration": 445,
    "start_time": "2024-01-21T19:15:45.255Z"
   },
   {
    "duration": 306,
    "start_time": "2024-01-21T19:15:45.702Z"
   },
   {
    "duration": 3,
    "start_time": "2024-01-21T19:15:46.009Z"
   },
   {
    "duration": 12,
    "start_time": "2024-01-21T19:15:46.013Z"
   },
   {
    "duration": 13,
    "start_time": "2024-01-21T19:15:46.026Z"
   },
   {
    "duration": 10,
    "start_time": "2024-01-21T19:15:46.040Z"
   },
   {
    "duration": 10,
    "start_time": "2024-01-21T19:15:46.053Z"
   },
   {
    "duration": 5,
    "start_time": "2024-01-21T19:15:46.082Z"
   },
   {
    "duration": 5,
    "start_time": "2024-01-21T19:15:46.088Z"
   },
   {
    "duration": 1790,
    "start_time": "2024-01-21T19:15:46.094Z"
   },
   {
    "duration": 14,
    "start_time": "2024-01-21T19:15:47.886Z"
   },
   {
    "duration": 263,
    "start_time": "2024-01-21T19:15:47.987Z"
   },
   {
    "duration": 0,
    "start_time": "2024-01-21T19:15:48.252Z"
   },
   {
    "duration": 0,
    "start_time": "2024-01-21T19:15:48.253Z"
   },
   {
    "duration": 0,
    "start_time": "2024-01-21T19:15:48.254Z"
   },
   {
    "duration": 0,
    "start_time": "2024-01-21T19:15:48.255Z"
   },
   {
    "duration": 0,
    "start_time": "2024-01-21T19:15:48.256Z"
   },
   {
    "duration": 4,
    "start_time": "2024-01-21T19:17:16.978Z"
   },
   {
    "duration": 25,
    "start_time": "2024-01-21T19:19:56.833Z"
   },
   {
    "duration": 12,
    "start_time": "2024-01-21T19:20:10.643Z"
   },
   {
    "duration": 24,
    "start_time": "2024-01-21T19:20:25.433Z"
   },
   {
    "duration": 16,
    "start_time": "2024-01-21T19:20:36.729Z"
   },
   {
    "duration": 17,
    "start_time": "2024-01-21T19:20:45.873Z"
   },
   {
    "duration": 13,
    "start_time": "2024-01-21T19:21:16.704Z"
   },
   {
    "duration": 16,
    "start_time": "2024-01-21T19:21:17.329Z"
   },
   {
    "duration": 13,
    "start_time": "2024-01-21T19:21:18.937Z"
   },
   {
    "duration": 13,
    "start_time": "2024-01-21T19:21:56.224Z"
   },
   {
    "duration": 17,
    "start_time": "2024-01-21T19:21:58.345Z"
   },
   {
    "duration": 16,
    "start_time": "2024-01-21T19:21:58.913Z"
   },
   {
    "duration": 4,
    "start_time": "2024-01-21T19:26:20.187Z"
   },
   {
    "duration": 1155,
    "start_time": "2024-01-21T19:26:21.113Z"
   },
   {
    "duration": 2,
    "start_time": "2024-01-21T19:26:45.883Z"
   },
   {
    "duration": 1893,
    "start_time": "2024-01-21T19:26:46.698Z"
   },
   {
    "duration": 20,
    "start_time": "2024-01-21T19:26:49.875Z"
   },
   {
    "duration": 16,
    "start_time": "2024-01-21T19:27:22.188Z"
   },
   {
    "duration": 24,
    "start_time": "2024-01-21T19:27:43.731Z"
   },
   {
    "duration": 12,
    "start_time": "2024-01-21T19:28:04.203Z"
   },
   {
    "duration": 4,
    "start_time": "2024-01-21T19:29:34.876Z"
   },
   {
    "duration": 3,
    "start_time": "2024-01-21T19:29:40.844Z"
   },
   {
    "duration": 1277,
    "start_time": "2024-01-21T19:29:41.612Z"
   },
   {
    "duration": 8617,
    "start_time": "2024-01-21T19:30:52.309Z"
   },
   {
    "duration": 2433,
    "start_time": "2024-01-21T19:31:00.928Z"
   },
   {
    "duration": 2,
    "start_time": "2024-01-21T19:31:03.362Z"
   },
   {
    "duration": 168,
    "start_time": "2024-01-21T19:31:03.366Z"
   },
   {
    "duration": 143,
    "start_time": "2024-01-21T19:31:03.535Z"
   },
   {
    "duration": 152,
    "start_time": "2024-01-21T19:31:03.681Z"
   },
   {
    "duration": 234,
    "start_time": "2024-01-21T19:31:03.834Z"
   },
   {
    "duration": 24,
    "start_time": "2024-01-21T19:31:04.069Z"
   },
   {
    "duration": 14,
    "start_time": "2024-01-21T19:31:04.096Z"
   },
   {
    "duration": 29,
    "start_time": "2024-01-21T19:31:04.112Z"
   },
   {
    "duration": 4,
    "start_time": "2024-01-21T19:31:04.142Z"
   },
   {
    "duration": 101,
    "start_time": "2024-01-21T19:31:04.147Z"
   },
   {
    "duration": 101,
    "start_time": "2024-01-21T19:31:04.250Z"
   },
   {
    "duration": 100,
    "start_time": "2024-01-21T19:31:04.353Z"
   },
   {
    "duration": 121,
    "start_time": "2024-01-21T19:31:04.455Z"
   },
   {
    "duration": 6,
    "start_time": "2024-01-21T19:31:04.578Z"
   },
   {
    "duration": 1358,
    "start_time": "2024-01-21T19:31:04.586Z"
   },
   {
    "duration": 1237,
    "start_time": "2024-01-21T19:31:05.946Z"
   },
   {
    "duration": 1627,
    "start_time": "2024-01-21T19:31:07.185Z"
   },
   {
    "duration": 4,
    "start_time": "2024-01-21T19:31:08.813Z"
   },
   {
    "duration": 350,
    "start_time": "2024-01-21T19:31:08.818Z"
   },
   {
    "duration": 446,
    "start_time": "2024-01-21T19:31:09.169Z"
   },
   {
    "duration": 329,
    "start_time": "2024-01-21T19:31:09.617Z"
   },
   {
    "duration": 2,
    "start_time": "2024-01-21T19:31:09.948Z"
   },
   {
    "duration": 49,
    "start_time": "2024-01-21T19:31:09.952Z"
   },
   {
    "duration": 35,
    "start_time": "2024-01-21T19:31:10.003Z"
   },
   {
    "duration": 22,
    "start_time": "2024-01-21T19:31:10.039Z"
   },
   {
    "duration": 13,
    "start_time": "2024-01-21T19:31:10.064Z"
   },
   {
    "duration": 9,
    "start_time": "2024-01-21T19:31:10.078Z"
   },
   {
    "duration": 201,
    "start_time": "2024-01-21T19:31:10.089Z"
   },
   {
    "duration": 0,
    "start_time": "2024-01-21T19:31:10.292Z"
   },
   {
    "duration": 0,
    "start_time": "2024-01-21T19:31:10.294Z"
   },
   {
    "duration": 0,
    "start_time": "2024-01-21T19:31:10.295Z"
   },
   {
    "duration": 0,
    "start_time": "2024-01-21T19:31:10.297Z"
   },
   {
    "duration": 0,
    "start_time": "2024-01-21T19:31:10.298Z"
   },
   {
    "duration": 0,
    "start_time": "2024-01-21T19:31:10.300Z"
   },
   {
    "duration": 0,
    "start_time": "2024-01-21T19:31:10.301Z"
   },
   {
    "duration": 0,
    "start_time": "2024-01-21T19:31:10.302Z"
   },
   {
    "duration": 0,
    "start_time": "2024-01-21T19:31:10.304Z"
   },
   {
    "duration": 0,
    "start_time": "2024-01-21T19:31:10.305Z"
   },
   {
    "duration": 0,
    "start_time": "2024-01-21T19:31:10.307Z"
   },
   {
    "duration": 5,
    "start_time": "2024-01-21T19:31:33.660Z"
   },
   {
    "duration": 2,
    "start_time": "2024-01-21T19:31:34.748Z"
   },
   {
    "duration": 1893,
    "start_time": "2024-01-21T19:31:36.996Z"
   },
   {
    "duration": 10,
    "start_time": "2024-01-21T19:31:40.196Z"
   },
   {
    "duration": 3,
    "start_time": "2024-01-21T19:31:41.731Z"
   },
   {
    "duration": 1775,
    "start_time": "2024-01-21T19:31:42.412Z"
   },
   {
    "duration": 9,
    "start_time": "2024-01-21T19:31:44.900Z"
   },
   {
    "duration": 3,
    "start_time": "2024-01-21T19:31:47.652Z"
   },
   {
    "duration": 1708,
    "start_time": "2024-01-21T19:31:48.076Z"
   },
   {
    "duration": 12,
    "start_time": "2024-01-21T19:31:50.268Z"
   },
   {
    "duration": 11,
    "start_time": "2024-01-21T19:32:49.908Z"
   },
   {
    "duration": 11,
    "start_time": "2024-01-21T19:33:36.637Z"
   },
   {
    "duration": 188425,
    "start_time": "2024-01-21T19:33:47.661Z"
   },
   {
    "duration": 0,
    "start_time": "2024-01-21T19:36:56.088Z"
   },
   {
    "duration": 12,
    "start_time": "2024-01-21T19:44:41.258Z"
   },
   {
    "duration": 10,
    "start_time": "2024-01-21T19:45:26.209Z"
   },
   {
    "duration": 13,
    "start_time": "2024-01-21T19:45:42.521Z"
   },
   {
    "duration": 4,
    "start_time": "2024-01-21T19:45:53.465Z"
   },
   {
    "duration": 13,
    "start_time": "2024-01-21T19:47:13.388Z"
   },
   {
    "duration": 23,
    "start_time": "2024-01-21T19:47:46.283Z"
   },
   {
    "duration": 9,
    "start_time": "2024-01-21T19:47:55.435Z"
   },
   {
    "duration": 140,
    "start_time": "2024-01-21T19:47:56.667Z"
   },
   {
    "duration": 117,
    "start_time": "2024-01-21T19:48:10.107Z"
   },
   {
    "duration": 107,
    "start_time": "2024-01-21T19:50:21.460Z"
   },
   {
    "duration": 9,
    "start_time": "2024-01-21T19:50:26.300Z"
   },
   {
    "duration": 119,
    "start_time": "2024-01-21T19:51:10.527Z"
   },
   {
    "duration": 120,
    "start_time": "2024-01-21T19:51:29.812Z"
   },
   {
    "duration": 117,
    "start_time": "2024-01-21T19:51:30.268Z"
   },
   {
    "duration": 4,
    "start_time": "2024-01-21T19:52:06.930Z"
   },
   {
    "duration": 127,
    "start_time": "2024-01-21T19:52:07.516Z"
   },
   {
    "duration": 112,
    "start_time": "2024-01-21T19:52:08.381Z"
   },
   {
    "duration": 129,
    "start_time": "2024-01-21T19:52:09.134Z"
   },
   {
    "duration": 44,
    "start_time": "2024-01-22T13:36:27.579Z"
   },
   {
    "duration": 13016,
    "start_time": "2024-01-22T13:36:36.663Z"
   },
   {
    "duration": 2500,
    "start_time": "2024-01-22T13:36:49.681Z"
   },
   {
    "duration": 2,
    "start_time": "2024-01-22T13:36:52.182Z"
   },
   {
    "duration": 396,
    "start_time": "2024-01-22T13:36:52.186Z"
   },
   {
    "duration": 206,
    "start_time": "2024-01-22T13:36:52.584Z"
   },
   {
    "duration": 227,
    "start_time": "2024-01-22T13:36:52.792Z"
   },
   {
    "duration": 182,
    "start_time": "2024-01-22T13:36:53.021Z"
   },
   {
    "duration": 18,
    "start_time": "2024-01-22T13:36:53.205Z"
   },
   {
    "duration": 14,
    "start_time": "2024-01-22T13:36:53.233Z"
   },
   {
    "duration": 15,
    "start_time": "2024-01-22T13:36:53.249Z"
   },
   {
    "duration": 8,
    "start_time": "2024-01-22T13:36:53.266Z"
   },
   {
    "duration": 112,
    "start_time": "2024-01-22T13:36:53.275Z"
   },
   {
    "duration": 96,
    "start_time": "2024-01-22T13:36:53.388Z"
   },
   {
    "duration": 95,
    "start_time": "2024-01-22T13:36:53.486Z"
   },
   {
    "duration": 118,
    "start_time": "2024-01-22T13:36:53.582Z"
   },
   {
    "duration": 5,
    "start_time": "2024-01-22T13:36:53.701Z"
   },
   {
    "duration": 1264,
    "start_time": "2024-01-22T13:36:53.707Z"
   },
   {
    "duration": 1166,
    "start_time": "2024-01-22T13:36:54.973Z"
   },
   {
    "duration": 1400,
    "start_time": "2024-01-22T13:36:56.141Z"
   },
   {
    "duration": 3,
    "start_time": "2024-01-22T13:36:57.542Z"
   },
   {
    "duration": 352,
    "start_time": "2024-01-22T13:36:57.546Z"
   },
   {
    "duration": 437,
    "start_time": "2024-01-22T13:36:57.899Z"
   },
   {
    "duration": 295,
    "start_time": "2024-01-22T13:36:58.338Z"
   },
   {
    "duration": 160,
    "start_time": "2024-01-22T13:37:11.778Z"
   },
   {
    "duration": 3,
    "start_time": "2024-01-22T13:37:21.395Z"
   },
   {
    "duration": 9,
    "start_time": "2024-01-22T13:37:33.107Z"
   },
   {
    "duration": 16,
    "start_time": "2024-01-22T13:37:40.170Z"
   },
   {
    "duration": 14,
    "start_time": "2024-01-22T13:37:51.595Z"
   },
   {
    "duration": 9,
    "start_time": "2024-01-22T13:38:02.394Z"
   },
   {
    "duration": 347,
    "start_time": "2024-01-22T13:39:48.270Z"
   },
   {
    "duration": 241,
    "start_time": "2024-01-22T13:39:56.643Z"
   },
   {
    "duration": 183,
    "start_time": "2024-01-22T13:40:49.994Z"
   },
   {
    "duration": 293,
    "start_time": "2024-01-22T13:41:06.058Z"
   },
   {
    "duration": 274,
    "start_time": "2024-01-22T13:41:26.084Z"
   },
   {
    "duration": 138,
    "start_time": "2024-01-22T13:42:00.434Z"
   },
   {
    "duration": 94,
    "start_time": "2024-01-22T13:42:06.219Z"
   },
   {
    "duration": 16,
    "start_time": "2024-01-22T13:43:02.378Z"
   },
   {
    "duration": 215,
    "start_time": "2024-01-22T13:44:23.625Z"
   },
   {
    "duration": 11,
    "start_time": "2024-01-22T13:45:31.337Z"
   },
   {
    "duration": 16,
    "start_time": "2024-01-22T13:45:40.754Z"
   },
   {
    "duration": 16,
    "start_time": "2024-01-22T13:45:46.531Z"
   },
   {
    "duration": 13,
    "start_time": "2024-01-22T13:45:51.178Z"
   },
   {
    "duration": 14,
    "start_time": "2024-01-22T13:46:40.490Z"
   },
   {
    "duration": 8,
    "start_time": "2024-01-22T13:46:48.161Z"
   },
   {
    "duration": 52,
    "start_time": "2024-01-22T13:48:04.025Z"
   },
   {
    "duration": 17,
    "start_time": "2024-01-22T13:48:13.577Z"
   },
   {
    "duration": 17,
    "start_time": "2024-01-22T13:48:20.681Z"
   },
   {
    "duration": 14,
    "start_time": "2024-01-22T13:48:38.386Z"
   },
   {
    "duration": 16,
    "start_time": "2024-01-22T13:48:40.000Z"
   },
   {
    "duration": 119,
    "start_time": "2024-01-22T13:48:44.274Z"
   },
   {
    "duration": 174,
    "start_time": "2024-01-22T13:48:57.289Z"
   },
   {
    "duration": 4590,
    "start_time": "2024-01-22T14:09:00.123Z"
   },
   {
    "duration": 4325,
    "start_time": "2024-01-22T14:09:32.779Z"
   },
   {
    "duration": 7628,
    "start_time": "2024-01-22T14:29:59.294Z"
   },
   {
    "duration": 2352,
    "start_time": "2024-01-22T14:30:06.924Z"
   },
   {
    "duration": 2,
    "start_time": "2024-01-22T14:30:09.278Z"
   },
   {
    "duration": 186,
    "start_time": "2024-01-22T14:30:09.282Z"
   },
   {
    "duration": 146,
    "start_time": "2024-01-22T14:30:09.470Z"
   },
   {
    "duration": 154,
    "start_time": "2024-01-22T14:30:09.618Z"
   },
   {
    "duration": 200,
    "start_time": "2024-01-22T14:30:09.774Z"
   },
   {
    "duration": 17,
    "start_time": "2024-01-22T14:30:09.976Z"
   },
   {
    "duration": 16,
    "start_time": "2024-01-22T14:30:09.994Z"
   },
   {
    "duration": 35,
    "start_time": "2024-01-22T14:30:10.014Z"
   },
   {
    "duration": 4,
    "start_time": "2024-01-22T14:30:10.051Z"
   },
   {
    "duration": 116,
    "start_time": "2024-01-22T14:30:10.057Z"
   },
   {
    "duration": 104,
    "start_time": "2024-01-22T14:30:10.175Z"
   },
   {
    "duration": 106,
    "start_time": "2024-01-22T14:30:10.280Z"
   },
   {
    "duration": 121,
    "start_time": "2024-01-22T14:30:10.388Z"
   },
   {
    "duration": 4,
    "start_time": "2024-01-22T14:30:10.510Z"
   },
   {
    "duration": 1369,
    "start_time": "2024-01-22T14:30:10.515Z"
   },
   {
    "duration": 1164,
    "start_time": "2024-01-22T14:30:11.886Z"
   },
   {
    "duration": 1484,
    "start_time": "2024-01-22T14:30:13.051Z"
   },
   {
    "duration": 4,
    "start_time": "2024-01-22T14:30:14.537Z"
   },
   {
    "duration": 321,
    "start_time": "2024-01-22T14:30:14.542Z"
   },
   {
    "duration": 458,
    "start_time": "2024-01-22T14:30:14.865Z"
   },
   {
    "duration": 328,
    "start_time": "2024-01-22T14:30:15.326Z"
   },
   {
    "duration": 12,
    "start_time": "2024-01-22T14:30:15.656Z"
   },
   {
    "duration": 220,
    "start_time": "2024-01-22T14:30:15.670Z"
   },
   {
    "duration": 2,
    "start_time": "2024-01-22T14:30:15.892Z"
   },
   {
    "duration": 21,
    "start_time": "2024-01-22T14:30:15.895Z"
   },
   {
    "duration": 22,
    "start_time": "2024-01-22T14:30:15.919Z"
   },
   {
    "duration": 35,
    "start_time": "2024-01-22T14:30:15.942Z"
   },
   {
    "duration": 23,
    "start_time": "2024-01-22T14:30:15.978Z"
   },
   {
    "duration": 6,
    "start_time": "2024-01-22T14:30:16.003Z"
   },
   {
    "duration": 11,
    "start_time": "2024-01-22T14:30:16.011Z"
   },
   {
    "duration": 2213,
    "start_time": "2024-01-22T14:30:16.023Z"
   },
   {
    "duration": 10,
    "start_time": "2024-01-22T14:30:18.238Z"
   },
   {
    "duration": 188,
    "start_time": "2024-01-22T14:30:18.251Z"
   },
   {
    "duration": 25,
    "start_time": "2024-01-22T14:30:18.441Z"
   },
   {
    "duration": 2170,
    "start_time": "2024-01-22T14:30:18.468Z"
   },
   {
    "duration": 98,
    "start_time": "2024-01-22T14:30:20.640Z"
   },
   {
    "duration": 200,
    "start_time": "2024-01-22T14:30:20.740Z"
   },
   {
    "duration": 4,
    "start_time": "2024-01-22T14:30:20.942Z"
   },
   {
    "duration": 2090,
    "start_time": "2024-01-22T14:30:20.948Z"
   },
   {
    "duration": 9,
    "start_time": "2024-01-22T14:30:23.040Z"
   },
   {
    "duration": 184,
    "start_time": "2024-01-22T14:30:23.051Z"
   },
   {
    "duration": 9,
    "start_time": "2024-01-22T14:30:23.237Z"
   },
   {
    "duration": 9,
    "start_time": "2024-01-22T14:30:23.247Z"
   },
   {
    "duration": 114,
    "start_time": "2024-01-22T14:30:23.258Z"
   },
   {
    "duration": 107,
    "start_time": "2024-01-22T14:30:23.374Z"
   },
   {
    "duration": 123,
    "start_time": "2024-01-22T14:30:23.483Z"
   },
   {
    "duration": 3,
    "start_time": "2024-01-22T14:30:23.608Z"
   },
   {
    "duration": 87,
    "start_time": "2024-01-22T14:30:23.612Z"
   },
   {
    "duration": 0,
    "start_time": "2024-01-22T14:30:23.701Z"
   },
   {
    "duration": 0,
    "start_time": "2024-01-22T14:30:23.703Z"
   },
   {
    "duration": 9,
    "start_time": "2024-01-22T14:38:19.342Z"
   },
   {
    "duration": 11,
    "start_time": "2024-01-22T14:39:04.783Z"
   },
   {
    "duration": 9,
    "start_time": "2024-01-22T14:39:20.671Z"
   },
   {
    "duration": 8,
    "start_time": "2024-01-22T14:39:56.414Z"
   },
   {
    "duration": 166,
    "start_time": "2024-01-22T14:42:05.078Z"
   },
   {
    "duration": 11,
    "start_time": "2024-01-22T14:42:19.830Z"
   },
   {
    "duration": 187,
    "start_time": "2024-01-22T14:45:00.269Z"
   },
   {
    "duration": 161,
    "start_time": "2024-01-22T14:45:07.165Z"
   },
   {
    "duration": 3,
    "start_time": "2024-01-22T14:46:59.518Z"
   },
   {
    "duration": 152,
    "start_time": "2024-01-22T14:47:27.053Z"
   },
   {
    "duration": 12,
    "start_time": "2024-01-22T14:47:32.365Z"
   },
   {
    "duration": 160,
    "start_time": "2024-01-22T14:48:51.452Z"
   },
   {
    "duration": 13,
    "start_time": "2024-01-22T14:48:57.788Z"
   },
   {
    "duration": 12,
    "start_time": "2024-01-22T14:49:14.509Z"
   },
   {
    "duration": 14,
    "start_time": "2024-01-22T14:50:49.508Z"
   },
   {
    "duration": 168,
    "start_time": "2024-01-22T14:52:04.556Z"
   },
   {
    "duration": 17,
    "start_time": "2024-01-22T14:52:06.581Z"
   },
   {
    "duration": 2,
    "start_time": "2024-01-22T14:52:28.444Z"
   },
   {
    "duration": 157,
    "start_time": "2024-01-22T14:52:28.932Z"
   },
   {
    "duration": 12,
    "start_time": "2024-01-22T14:52:29.879Z"
   },
   {
    "duration": 188,
    "start_time": "2024-01-22T14:52:48.148Z"
   },
   {
    "duration": 11,
    "start_time": "2024-01-22T14:52:50.189Z"
   },
   {
    "duration": 12,
    "start_time": "2024-01-22T14:52:57.669Z"
   },
   {
    "duration": 173,
    "start_time": "2024-01-22T14:53:03.884Z"
   },
   {
    "duration": 11,
    "start_time": "2024-01-22T14:53:04.462Z"
   },
   {
    "duration": 6,
    "start_time": "2024-01-22T14:53:24.142Z"
   },
   {
    "duration": 22,
    "start_time": "2024-01-22T14:53:43.260Z"
   },
   {
    "duration": 22,
    "start_time": "2024-01-22T14:53:50.908Z"
   },
   {
    "duration": 16,
    "start_time": "2024-01-22T14:53:54.843Z"
   },
   {
    "duration": 51,
    "start_time": "2024-01-22T15:01:52.420Z"
   },
   {
    "duration": 10,
    "start_time": "2024-01-22T15:01:58.411Z"
   },
   {
    "duration": 14,
    "start_time": "2024-01-22T15:02:02.572Z"
   },
   {
    "duration": 16,
    "start_time": "2024-01-22T15:04:04.595Z"
   },
   {
    "duration": 9,
    "start_time": "2024-01-22T15:05:51.659Z"
   },
   {
    "duration": 17,
    "start_time": "2024-01-22T15:05:55.787Z"
   },
   {
    "duration": 5,
    "start_time": "2024-01-22T15:06:50.756Z"
   },
   {
    "duration": 15,
    "start_time": "2024-01-22T15:06:57.179Z"
   },
   {
    "duration": 11,
    "start_time": "2024-01-22T15:07:06.810Z"
   },
   {
    "duration": 4,
    "start_time": "2024-01-22T15:08:02.434Z"
   },
   {
    "duration": 10,
    "start_time": "2024-01-22T15:08:03.923Z"
   },
   {
    "duration": 11,
    "start_time": "2024-01-22T15:08:04.738Z"
   },
   {
    "duration": 4,
    "start_time": "2024-01-22T15:08:27.898Z"
   },
   {
    "duration": 22,
    "start_time": "2024-01-22T15:08:28.330Z"
   },
   {
    "duration": 3,
    "start_time": "2024-01-22T15:08:41.267Z"
   },
   {
    "duration": 15,
    "start_time": "2024-01-22T15:08:41.987Z"
   },
   {
    "duration": 21,
    "start_time": "2024-01-22T15:09:04.666Z"
   },
   {
    "duration": 21,
    "start_time": "2024-01-22T15:09:17.523Z"
   },
   {
    "duration": 3,
    "start_time": "2024-01-22T15:33:48.724Z"
   },
   {
    "duration": 19,
    "start_time": "2024-01-22T15:33:49.730Z"
   },
   {
    "duration": 17,
    "start_time": "2024-01-22T15:33:50.402Z"
   },
   {
    "duration": 17,
    "start_time": "2024-01-22T15:33:50.786Z"
   },
   {
    "duration": 5,
    "start_time": "2024-01-22T15:51:42.519Z"
   },
   {
    "duration": 5,
    "start_time": "2024-01-22T15:51:50.229Z"
   },
   {
    "duration": 5,
    "start_time": "2024-01-22T15:51:53.574Z"
   },
   {
    "duration": 13,
    "start_time": "2024-01-22T15:54:27.182Z"
   },
   {
    "duration": 4,
    "start_time": "2024-01-22T15:54:32.942Z"
   },
   {
    "duration": 3,
    "start_time": "2024-01-22T15:54:40.174Z"
   },
   {
    "duration": 4,
    "start_time": "2024-01-22T15:54:53.806Z"
   },
   {
    "duration": 4,
    "start_time": "2024-01-22T15:55:02.005Z"
   },
   {
    "duration": 7703,
    "start_time": "2024-01-22T18:03:53.103Z"
   },
   {
    "duration": 2472,
    "start_time": "2024-01-22T18:04:00.808Z"
   },
   {
    "duration": 3,
    "start_time": "2024-01-22T18:04:03.282Z"
   },
   {
    "duration": 306,
    "start_time": "2024-01-22T18:04:03.287Z"
   },
   {
    "duration": 148,
    "start_time": "2024-01-22T18:04:03.595Z"
   },
   {
    "duration": 159,
    "start_time": "2024-01-22T18:04:03.745Z"
   },
   {
    "duration": 218,
    "start_time": "2024-01-22T18:04:03.905Z"
   },
   {
    "duration": 18,
    "start_time": "2024-01-22T18:04:04.125Z"
   },
   {
    "duration": 25,
    "start_time": "2024-01-22T18:04:04.145Z"
   },
   {
    "duration": 24,
    "start_time": "2024-01-22T18:04:04.173Z"
   },
   {
    "duration": 10,
    "start_time": "2024-01-22T18:04:04.198Z"
   },
   {
    "duration": 116,
    "start_time": "2024-01-22T18:04:04.232Z"
   },
   {
    "duration": 120,
    "start_time": "2024-01-22T18:04:04.350Z"
   },
   {
    "duration": 106,
    "start_time": "2024-01-22T18:04:04.472Z"
   },
   {
    "duration": 139,
    "start_time": "2024-01-22T18:04:04.580Z"
   },
   {
    "duration": 5,
    "start_time": "2024-01-22T18:04:04.721Z"
   },
   {
    "duration": 1350,
    "start_time": "2024-01-22T18:04:04.733Z"
   },
   {
    "duration": 1258,
    "start_time": "2024-01-22T18:04:06.084Z"
   },
   {
    "duration": 3108,
    "start_time": "2024-01-22T18:04:07.343Z"
   },
   {
    "duration": 6,
    "start_time": "2024-01-22T18:04:10.453Z"
   },
   {
    "duration": 673,
    "start_time": "2024-01-22T18:04:10.460Z"
   },
   {
    "duration": 737,
    "start_time": "2024-01-22T18:04:11.135Z"
   },
   {
    "duration": 592,
    "start_time": "2024-01-22T18:04:11.874Z"
   },
   {
    "duration": 67,
    "start_time": "2024-01-22T18:04:12.468Z"
   },
   {
    "duration": 524,
    "start_time": "2024-01-22T18:04:12.537Z"
   },
   {
    "duration": 4,
    "start_time": "2024-01-22T18:04:13.063Z"
   },
   {
    "duration": 65,
    "start_time": "2024-01-22T18:04:13.069Z"
   },
   {
    "duration": 18,
    "start_time": "2024-01-22T18:04:13.139Z"
   },
   {
    "duration": 77,
    "start_time": "2024-01-22T18:04:13.160Z"
   },
   {
    "duration": 20,
    "start_time": "2024-01-22T18:04:13.239Z"
   },
   {
    "duration": 7,
    "start_time": "2024-01-22T18:04:13.261Z"
   },
   {
    "duration": 64,
    "start_time": "2024-01-22T18:04:13.269Z"
   },
   {
    "duration": 2512,
    "start_time": "2024-01-22T18:04:13.335Z"
   },
   {
    "duration": 94,
    "start_time": "2024-01-22T18:04:15.849Z"
   },
   {
    "duration": 31,
    "start_time": "2024-01-22T18:04:16.034Z"
   },
   {
    "duration": 66,
    "start_time": "2024-01-22T18:04:16.067Z"
   },
   {
    "duration": 2003,
    "start_time": "2024-01-22T18:04:16.135Z"
   },
   {
    "duration": 103,
    "start_time": "2024-01-22T18:04:18.139Z"
   },
   {
    "duration": 189,
    "start_time": "2024-01-22T18:04:18.244Z"
   },
   {
    "duration": 4,
    "start_time": "2024-01-22T18:04:18.435Z"
   },
   {
    "duration": 1898,
    "start_time": "2024-01-22T18:04:18.442Z"
   },
   {
    "duration": 96,
    "start_time": "2024-01-22T18:04:20.342Z"
   },
   {
    "duration": 100,
    "start_time": "2024-01-22T18:04:20.440Z"
   },
   {
    "duration": 91,
    "start_time": "2024-01-22T18:04:20.542Z"
   },
   {
    "duration": 126,
    "start_time": "2024-01-22T18:04:20.635Z"
   },
   {
    "duration": 114,
    "start_time": "2024-01-22T18:04:20.763Z"
   },
   {
    "duration": 135,
    "start_time": "2024-01-22T18:04:20.879Z"
   },
   {
    "duration": 3,
    "start_time": "2024-01-22T18:04:21.016Z"
   },
   {
    "duration": 35,
    "start_time": "2024-01-22T18:04:21.021Z"
   },
   {
    "duration": 18,
    "start_time": "2024-01-22T18:04:21.058Z"
   },
   {
    "duration": 23,
    "start_time": "2024-01-22T18:04:21.078Z"
   },
   {
    "duration": 5,
    "start_time": "2024-01-22T18:04:21.103Z"
   },
   {
    "duration": 6,
    "start_time": "2024-01-22T18:04:21.134Z"
   },
   {
    "duration": 9,
    "start_time": "2024-01-22T18:04:21.141Z"
   },
   {
    "duration": 6,
    "start_time": "2024-01-22T18:04:21.152Z"
   },
   {
    "duration": 82,
    "start_time": "2024-01-22T18:04:21.159Z"
   },
   {
    "duration": 0,
    "start_time": "2024-01-22T18:04:21.242Z"
   },
   {
    "duration": 0,
    "start_time": "2024-01-22T18:04:21.244Z"
   },
   {
    "duration": 3,
    "start_time": "2024-01-22T18:07:45.727Z"
   },
   {
    "duration": 4,
    "start_time": "2024-01-22T18:08:07.807Z"
   },
   {
    "duration": 7568,
    "start_time": "2024-01-22T18:11:42.505Z"
   },
   {
    "duration": 1216,
    "start_time": "2024-01-22T18:11:50.076Z"
   },
   {
    "duration": 2,
    "start_time": "2024-01-22T18:11:51.296Z"
   },
   {
    "duration": 172,
    "start_time": "2024-01-22T18:11:51.300Z"
   },
   {
    "duration": 142,
    "start_time": "2024-01-22T18:11:51.473Z"
   },
   {
    "duration": 146,
    "start_time": "2024-01-22T18:11:51.616Z"
   },
   {
    "duration": 219,
    "start_time": "2024-01-22T18:11:51.763Z"
   },
   {
    "duration": 15,
    "start_time": "2024-01-22T18:11:51.983Z"
   },
   {
    "duration": 37,
    "start_time": "2024-01-22T18:11:51.999Z"
   },
   {
    "duration": 15,
    "start_time": "2024-01-22T18:11:52.038Z"
   },
   {
    "duration": 5,
    "start_time": "2024-01-22T18:11:52.054Z"
   },
   {
    "duration": 124,
    "start_time": "2024-01-22T18:11:52.060Z"
   },
   {
    "duration": 105,
    "start_time": "2024-01-22T18:11:52.185Z"
   },
   {
    "duration": 102,
    "start_time": "2024-01-22T18:11:52.291Z"
   },
   {
    "duration": 129,
    "start_time": "2024-01-22T18:11:52.395Z"
   },
   {
    "duration": 9,
    "start_time": "2024-01-22T18:11:52.526Z"
   },
   {
    "duration": 1277,
    "start_time": "2024-01-22T18:11:52.537Z"
   },
   {
    "duration": 1320,
    "start_time": "2024-01-22T18:11:53.815Z"
   },
   {
    "duration": 1550,
    "start_time": "2024-01-22T18:11:55.136Z"
   },
   {
    "duration": 3,
    "start_time": "2024-01-22T18:11:56.687Z"
   },
   {
    "duration": 346,
    "start_time": "2024-01-22T18:11:56.692Z"
   },
   {
    "duration": 305,
    "start_time": "2024-01-22T18:11:57.040Z"
   },
   {
    "duration": 321,
    "start_time": "2024-01-22T18:11:57.346Z"
   },
   {
    "duration": 20,
    "start_time": "2024-01-22T18:11:57.669Z"
   },
   {
    "duration": 196,
    "start_time": "2024-01-22T18:11:57.690Z"
   },
   {
    "duration": 3,
    "start_time": "2024-01-22T18:11:57.888Z"
   },
   {
    "duration": 14,
    "start_time": "2024-01-22T18:11:57.893Z"
   },
   {
    "duration": 32,
    "start_time": "2024-01-22T18:11:57.912Z"
   },
   {
    "duration": 21,
    "start_time": "2024-01-22T18:11:57.946Z"
   },
   {
    "duration": 22,
    "start_time": "2024-01-22T18:11:57.969Z"
   },
   {
    "duration": 6,
    "start_time": "2024-01-22T18:11:57.994Z"
   },
   {
    "duration": 6,
    "start_time": "2024-01-22T18:11:58.002Z"
   },
   {
    "duration": 2310,
    "start_time": "2024-01-22T18:11:58.034Z"
   },
   {
    "duration": 97,
    "start_time": "2024-01-22T18:12:00.346Z"
   },
   {
    "duration": 189,
    "start_time": "2024-01-22T18:12:00.445Z"
   },
   {
    "duration": 95,
    "start_time": "2024-01-22T18:12:00.635Z"
   },
   {
    "duration": 2005,
    "start_time": "2024-01-22T18:12:00.731Z"
   },
   {
    "duration": 12,
    "start_time": "2024-01-22T18:12:02.737Z"
   },
   {
    "duration": 201,
    "start_time": "2024-01-22T18:12:02.751Z"
   },
   {
    "duration": 66,
    "start_time": "2024-01-22T18:12:02.954Z"
   },
   {
    "duration": 1914,
    "start_time": "2024-01-22T18:12:03.022Z"
   },
   {
    "duration": 97,
    "start_time": "2024-01-22T18:12:04.939Z"
   },
   {
    "duration": 121,
    "start_time": "2024-01-22T18:12:05.039Z"
   },
   {
    "duration": 26,
    "start_time": "2024-01-22T18:12:05.161Z"
   },
   {
    "duration": 155,
    "start_time": "2024-01-22T18:12:05.189Z"
   },
   {
    "duration": 119,
    "start_time": "2024-01-22T18:12:05.346Z"
   },
   {
    "duration": 250,
    "start_time": "2024-01-22T18:12:05.466Z"
   },
   {
    "duration": 4,
    "start_time": "2024-01-22T18:12:05.718Z"
   },
   {
    "duration": 27,
    "start_time": "2024-01-22T18:12:05.732Z"
   },
   {
    "duration": 40,
    "start_time": "2024-01-22T18:12:05.763Z"
   },
   {
    "duration": 55,
    "start_time": "2024-01-22T18:12:05.805Z"
   },
   {
    "duration": 25,
    "start_time": "2024-01-22T18:12:05.862Z"
   },
   {
    "duration": 26,
    "start_time": "2024-01-22T18:12:05.888Z"
   },
   {
    "duration": 25,
    "start_time": "2024-01-22T18:12:05.915Z"
   },
   {
    "duration": 27,
    "start_time": "2024-01-22T18:12:05.942Z"
   },
   {
    "duration": 88,
    "start_time": "2024-01-22T18:12:05.971Z"
   },
   {
    "duration": 0,
    "start_time": "2024-01-22T18:12:06.060Z"
   },
   {
    "duration": 0,
    "start_time": "2024-01-22T18:12:06.062Z"
   },
   {
    "duration": 22,
    "start_time": "2024-01-22T18:16:28.379Z"
   },
   {
    "duration": 16,
    "start_time": "2024-01-22T18:16:41.551Z"
   },
   {
    "duration": 15,
    "start_time": "2024-01-22T18:16:57.364Z"
   },
   {
    "duration": 15,
    "start_time": "2024-01-22T18:17:10.702Z"
   },
   {
    "duration": 20,
    "start_time": "2024-01-22T18:17:11.099Z"
   },
   {
    "duration": 11,
    "start_time": "2024-01-22T18:18:30.957Z"
   },
   {
    "duration": 4,
    "start_time": "2024-01-22T18:21:49.167Z"
   },
   {
    "duration": 11,
    "start_time": "2024-01-22T18:22:10.288Z"
   },
   {
    "duration": 4,
    "start_time": "2024-01-22T18:22:18.878Z"
   },
   {
    "duration": 9,
    "start_time": "2024-01-22T18:22:19.406Z"
   },
   {
    "duration": 9,
    "start_time": "2024-01-22T18:22:41.710Z"
   },
   {
    "duration": 10,
    "start_time": "2024-01-22T18:22:42.838Z"
   },
   {
    "duration": 3,
    "start_time": "2024-01-22T18:27:16.194Z"
   },
   {
    "duration": 8,
    "start_time": "2024-01-22T18:27:16.665Z"
   },
   {
    "duration": 3,
    "start_time": "2024-01-22T18:28:35.914Z"
   },
   {
    "duration": 8,
    "start_time": "2024-01-22T18:28:36.210Z"
   },
   {
    "duration": 3,
    "start_time": "2024-01-22T18:28:57.342Z"
   },
   {
    "duration": 10,
    "start_time": "2024-01-22T18:28:58.130Z"
   },
   {
    "duration": 4,
    "start_time": "2024-01-22T18:29:10.922Z"
   },
   {
    "duration": 8,
    "start_time": "2024-01-22T18:29:11.810Z"
   },
   {
    "duration": 4,
    "start_time": "2024-01-22T18:29:17.268Z"
   },
   {
    "duration": 8,
    "start_time": "2024-01-22T18:30:20.559Z"
   },
   {
    "duration": 10,
    "start_time": "2024-01-22T18:30:20.979Z"
   },
   {
    "duration": 639,
    "start_time": "2024-01-22T18:36:32.311Z"
   },
   {
    "duration": 188,
    "start_time": "2024-01-22T18:39:57.362Z"
   },
   {
    "duration": 173,
    "start_time": "2024-01-22T18:40:18.424Z"
   },
   {
    "duration": 178,
    "start_time": "2024-01-22T18:40:49.113Z"
   },
   {
    "duration": 271,
    "start_time": "2024-01-22T18:47:26.174Z"
   },
   {
    "duration": 3,
    "start_time": "2024-01-22T19:57:36.412Z"
   },
   {
    "duration": 1931,
    "start_time": "2024-01-22T20:08:18.922Z"
   },
   {
    "duration": 17,
    "start_time": "2024-01-22T20:08:59.891Z"
   },
   {
    "duration": 3,
    "start_time": "2024-01-22T20:09:22.577Z"
   },
   {
    "duration": 1427,
    "start_time": "2024-01-22T20:09:23.034Z"
   },
   {
    "duration": 1382,
    "start_time": "2024-01-22T20:09:36.339Z"
   },
   {
    "duration": 4,
    "start_time": "2024-01-22T20:25:03.049Z"
   },
   {
    "duration": 3,
    "start_time": "2024-01-22T20:25:52.082Z"
   },
   {
    "duration": 1283,
    "start_time": "2024-01-22T20:25:52.770Z"
   },
   {
    "duration": 7622,
    "start_time": "2024-01-22T20:26:28.009Z"
   },
   {
    "duration": 1204,
    "start_time": "2024-01-22T20:26:35.633Z"
   },
   {
    "duration": 3,
    "start_time": "2024-01-22T20:26:36.839Z"
   },
   {
    "duration": 170,
    "start_time": "2024-01-22T20:26:36.843Z"
   },
   {
    "duration": 144,
    "start_time": "2024-01-22T20:26:37.014Z"
   },
   {
    "duration": 152,
    "start_time": "2024-01-22T20:26:37.159Z"
   },
   {
    "duration": 185,
    "start_time": "2024-01-22T20:26:37.312Z"
   },
   {
    "duration": 15,
    "start_time": "2024-01-22T20:26:37.499Z"
   },
   {
    "duration": 27,
    "start_time": "2024-01-22T20:26:37.516Z"
   },
   {
    "duration": 14,
    "start_time": "2024-01-22T20:26:37.545Z"
   },
   {
    "duration": 4,
    "start_time": "2024-01-22T20:26:37.560Z"
   },
   {
    "duration": 107,
    "start_time": "2024-01-22T20:26:37.566Z"
   },
   {
    "duration": 108,
    "start_time": "2024-01-22T20:26:37.675Z"
   },
   {
    "duration": 100,
    "start_time": "2024-01-22T20:26:37.785Z"
   },
   {
    "duration": 136,
    "start_time": "2024-01-22T20:26:37.886Z"
   },
   {
    "duration": 13,
    "start_time": "2024-01-22T20:26:38.024Z"
   },
   {
    "duration": 1204,
    "start_time": "2024-01-22T20:26:38.038Z"
   },
   {
    "duration": 1209,
    "start_time": "2024-01-22T20:26:39.244Z"
   },
   {
    "duration": 1419,
    "start_time": "2024-01-22T20:26:40.455Z"
   },
   {
    "duration": 3,
    "start_time": "2024-01-22T20:26:41.875Z"
   },
   {
    "duration": 340,
    "start_time": "2024-01-22T20:26:41.879Z"
   },
   {
    "duration": 318,
    "start_time": "2024-01-22T20:26:42.220Z"
   },
   {
    "duration": 311,
    "start_time": "2024-01-22T20:26:42.540Z"
   },
   {
    "duration": 15,
    "start_time": "2024-01-22T20:26:42.852Z"
   },
   {
    "duration": 184,
    "start_time": "2024-01-22T20:26:42.868Z"
   },
   {
    "duration": 2,
    "start_time": "2024-01-22T20:26:43.054Z"
   },
   {
    "duration": 5,
    "start_time": "2024-01-22T20:26:43.058Z"
   },
   {
    "duration": 14,
    "start_time": "2024-01-22T20:26:43.065Z"
   },
   {
    "duration": 14,
    "start_time": "2024-01-22T20:26:43.081Z"
   },
   {
    "duration": 43,
    "start_time": "2024-01-22T20:26:43.096Z"
   },
   {
    "duration": 5,
    "start_time": "2024-01-22T20:26:43.141Z"
   },
   {
    "duration": 6,
    "start_time": "2024-01-22T20:26:43.147Z"
   },
   {
    "duration": 2182,
    "start_time": "2024-01-22T20:26:43.154Z"
   },
   {
    "duration": 9,
    "start_time": "2024-01-22T20:26:45.338Z"
   },
   {
    "duration": 92,
    "start_time": "2024-01-22T20:26:45.349Z"
   },
   {
    "duration": 90,
    "start_time": "2024-01-22T20:26:45.443Z"
   },
   {
    "duration": 2106,
    "start_time": "2024-01-22T20:26:45.535Z"
   },
   {
    "duration": 99,
    "start_time": "2024-01-22T20:26:47.643Z"
   },
   {
    "duration": 94,
    "start_time": "2024-01-22T20:26:47.745Z"
   },
   {
    "duration": 92,
    "start_time": "2024-01-22T20:26:47.842Z"
   },
   {
    "duration": 2200,
    "start_time": "2024-01-22T20:26:47.935Z"
   },
   {
    "duration": 13,
    "start_time": "2024-01-22T20:26:50.137Z"
   },
   {
    "duration": 101,
    "start_time": "2024-01-22T20:26:50.233Z"
   },
   {
    "duration": 4,
    "start_time": "2024-01-22T20:26:50.336Z"
   },
   {
    "duration": 117,
    "start_time": "2024-01-22T20:26:50.341Z"
   },
   {
    "duration": 104,
    "start_time": "2024-01-22T20:26:50.460Z"
   },
   {
    "duration": 212,
    "start_time": "2024-01-22T20:26:50.565Z"
   },
   {
    "duration": 3,
    "start_time": "2024-01-22T20:26:50.779Z"
   },
   {
    "duration": 1414,
    "start_time": "2024-01-22T20:26:56.404Z"
   },
   {
    "duration": 1285,
    "start_time": "2024-01-22T20:27:15.601Z"
   },
   {
    "duration": 84,
    "start_time": "2024-01-22T20:27:42.162Z"
   },
   {
    "duration": 4,
    "start_time": "2024-01-22T20:27:47.314Z"
   },
   {
    "duration": 1214,
    "start_time": "2024-01-22T20:27:49.010Z"
   },
   {
    "duration": 24,
    "start_time": "2024-01-22T20:27:51.211Z"
   },
   {
    "duration": 18,
    "start_time": "2024-01-22T20:28:11.867Z"
   },
   {
    "duration": 25,
    "start_time": "2024-01-22T20:28:12.595Z"
   },
   {
    "duration": 3,
    "start_time": "2024-01-22T20:28:33.077Z"
   },
   {
    "duration": 5,
    "start_time": "2024-01-22T20:28:34.010Z"
   },
   {
    "duration": 3,
    "start_time": "2024-01-22T20:28:34.915Z"
   },
   {
    "duration": 4,
    "start_time": "2024-01-22T20:28:35.651Z"
   },
   {
    "duration": 7609,
    "start_time": "2024-01-23T08:30:13.167Z"
   },
   {
    "duration": 1256,
    "start_time": "2024-01-23T08:30:20.778Z"
   },
   {
    "duration": 2,
    "start_time": "2024-01-23T08:30:22.035Z"
   },
   {
    "duration": 171,
    "start_time": "2024-01-23T08:30:22.039Z"
   },
   {
    "duration": 136,
    "start_time": "2024-01-23T08:30:22.211Z"
   },
   {
    "duration": 147,
    "start_time": "2024-01-23T08:30:22.348Z"
   },
   {
    "duration": 205,
    "start_time": "2024-01-23T08:30:22.497Z"
   },
   {
    "duration": 14,
    "start_time": "2024-01-23T08:30:22.704Z"
   },
   {
    "duration": 14,
    "start_time": "2024-01-23T08:30:22.733Z"
   },
   {
    "duration": 16,
    "start_time": "2024-01-23T08:30:22.749Z"
   },
   {
    "duration": 5,
    "start_time": "2024-01-23T08:30:22.766Z"
   },
   {
    "duration": 121,
    "start_time": "2024-01-23T08:30:22.772Z"
   },
   {
    "duration": 101,
    "start_time": "2024-01-23T08:30:22.894Z"
   },
   {
    "duration": 93,
    "start_time": "2024-01-23T08:30:22.997Z"
   },
   {
    "duration": 132,
    "start_time": "2024-01-23T08:30:23.092Z"
   },
   {
    "duration": 7,
    "start_time": "2024-01-23T08:30:23.226Z"
   },
   {
    "duration": 1258,
    "start_time": "2024-01-23T08:30:23.235Z"
   },
   {
    "duration": 1217,
    "start_time": "2024-01-23T08:30:24.495Z"
   },
   {
    "duration": 1467,
    "start_time": "2024-01-23T08:30:25.714Z"
   },
   {
    "duration": 4,
    "start_time": "2024-01-23T08:30:27.182Z"
   },
   {
    "duration": 338,
    "start_time": "2024-01-23T08:30:27.187Z"
   },
   {
    "duration": 311,
    "start_time": "2024-01-23T08:30:27.536Z"
   },
   {
    "duration": 301,
    "start_time": "2024-01-23T08:30:27.849Z"
   },
   {
    "duration": 15,
    "start_time": "2024-01-23T08:30:28.152Z"
   },
   {
    "duration": 178,
    "start_time": "2024-01-23T08:30:28.169Z"
   },
   {
    "duration": 3,
    "start_time": "2024-01-23T08:30:28.349Z"
   },
   {
    "duration": 4,
    "start_time": "2024-01-23T08:30:28.354Z"
   },
   {
    "duration": 28,
    "start_time": "2024-01-23T08:30:28.362Z"
   },
   {
    "duration": 14,
    "start_time": "2024-01-23T08:30:28.391Z"
   },
   {
    "duration": 36,
    "start_time": "2024-01-23T08:30:28.406Z"
   },
   {
    "duration": 4,
    "start_time": "2024-01-23T08:30:28.443Z"
   },
   {
    "duration": 39,
    "start_time": "2024-01-23T08:30:28.449Z"
   },
   {
    "duration": 2152,
    "start_time": "2024-01-23T08:30:28.489Z"
   },
   {
    "duration": 11,
    "start_time": "2024-01-23T08:30:30.733Z"
   },
   {
    "duration": 195,
    "start_time": "2024-01-23T08:30:30.746Z"
   },
   {
    "duration": 29,
    "start_time": "2024-01-23T08:30:30.943Z"
   },
   {
    "duration": 2166,
    "start_time": "2024-01-23T08:30:30.974Z"
   },
   {
    "duration": 100,
    "start_time": "2024-01-23T08:30:33.142Z"
   },
   {
    "duration": 98,
    "start_time": "2024-01-23T08:30:33.244Z"
   },
   {
    "duration": 4,
    "start_time": "2024-01-23T08:30:33.434Z"
   },
   {
    "duration": 2293,
    "start_time": "2024-01-23T08:30:33.440Z"
   },
   {
    "duration": 11,
    "start_time": "2024-01-23T08:30:35.735Z"
   },
   {
    "duration": 175,
    "start_time": "2024-01-23T08:30:35.759Z"
   },
   {
    "duration": 5,
    "start_time": "2024-01-23T08:30:35.936Z"
   },
   {
    "duration": 127,
    "start_time": "2024-01-23T08:30:35.943Z"
   },
   {
    "duration": 107,
    "start_time": "2024-01-23T08:30:36.072Z"
   },
   {
    "duration": 225,
    "start_time": "2024-01-23T08:30:36.181Z"
   },
   {
    "duration": 4,
    "start_time": "2024-01-23T08:30:36.408Z"
   },
   {
    "duration": 32,
    "start_time": "2024-01-23T08:30:36.413Z"
   },
   {
    "duration": 18,
    "start_time": "2024-01-23T08:30:36.446Z"
   },
   {
    "duration": 38,
    "start_time": "2024-01-23T08:30:36.466Z"
   },
   {
    "duration": 3,
    "start_time": "2024-01-23T08:30:36.506Z"
   },
   {
    "duration": 5,
    "start_time": "2024-01-23T08:30:36.511Z"
   },
   {
    "duration": 17,
    "start_time": "2024-01-23T08:30:36.517Z"
   },
   {
    "duration": 6,
    "start_time": "2024-01-23T08:30:36.535Z"
   },
   {
    "duration": 8,
    "start_time": "2024-01-23T08:30:36.542Z"
   },
   {
    "duration": 15,
    "start_time": "2024-01-23T08:30:36.551Z"
   },
   {
    "duration": 7,
    "start_time": "2024-01-23T08:30:36.568Z"
   },
   {
    "duration": 9,
    "start_time": "2024-01-23T08:30:36.577Z"
   },
   {
    "duration": 3,
    "start_time": "2024-01-23T08:30:36.587Z"
   },
   {
    "duration": 1506,
    "start_time": "2024-01-23T08:30:36.591Z"
   },
   {
    "duration": 89,
    "start_time": "2024-01-23T08:30:38.098Z"
   },
   {
    "duration": 0,
    "start_time": "2024-01-23T08:30:38.189Z"
   },
   {
    "duration": 0,
    "start_time": "2024-01-23T08:30:38.190Z"
   },
   {
    "duration": 120,
    "start_time": "2024-01-23T08:41:00.504Z"
   },
   {
    "duration": 4,
    "start_time": "2024-01-23T08:41:03.767Z"
   },
   {
    "duration": 13,
    "start_time": "2024-01-23T08:41:04.152Z"
   },
   {
    "duration": 2516,
    "start_time": "2024-01-23T08:41:12.272Z"
   },
   {
    "duration": 2572,
    "start_time": "2024-01-23T08:41:33.264Z"
   },
   {
    "duration": 4,
    "start_time": "2024-01-23T08:44:32.439Z"
   },
   {
    "duration": 4,
    "start_time": "2024-01-23T08:49:43.838Z"
   },
   {
    "duration": 45,
    "start_time": "2024-01-23T08:50:25.575Z"
   },
   {
    "duration": 4,
    "start_time": "2024-01-23T08:51:17.934Z"
   },
   {
    "duration": 9832,
    "start_time": "2024-01-23T08:51:18.455Z"
   },
   {
    "duration": 19496,
    "start_time": "2024-01-23T08:52:51.878Z"
   },
   {
    "duration": 19239,
    "start_time": "2024-01-23T08:54:49.429Z"
   },
   {
    "duration": 42875,
    "start_time": "2024-01-23T08:56:06.309Z"
   },
   {
    "duration": 4,
    "start_time": "2024-01-23T08:57:44.613Z"
   },
   {
    "duration": 13370,
    "start_time": "2024-01-23T08:57:46.464Z"
   },
   {
    "duration": 13517,
    "start_time": "2024-01-23T08:58:55.437Z"
   },
   {
    "duration": 12729,
    "start_time": "2024-01-23T09:04:37.692Z"
   },
   {
    "duration": 6,
    "start_time": "2024-01-23T09:10:11.594Z"
   },
   {
    "duration": 12300,
    "start_time": "2024-01-23T09:10:40.658Z"
   },
   {
    "duration": 12534,
    "start_time": "2024-01-23T09:11:09.522Z"
   },
   {
    "duration": 12589,
    "start_time": "2024-01-23T09:11:22.058Z"
   },
   {
    "duration": 9,
    "start_time": "2024-01-23T09:14:22.489Z"
   },
   {
    "duration": 12282,
    "start_time": "2024-01-23T09:14:23.266Z"
   },
   {
    "duration": 6,
    "start_time": "2024-01-23T09:18:47.049Z"
   },
   {
    "duration": 12282,
    "start_time": "2024-01-23T09:18:47.497Z"
   },
   {
    "duration": 6,
    "start_time": "2024-01-23T09:19:31.641Z"
   },
   {
    "duration": 12266,
    "start_time": "2024-01-23T09:19:31.968Z"
   },
   {
    "duration": 12217,
    "start_time": "2024-01-23T09:19:50.792Z"
   },
   {
    "duration": 12523,
    "start_time": "2024-01-23T09:20:03.011Z"
   },
   {
    "duration": 7,
    "start_time": "2024-01-23T09:25:28.935Z"
   },
   {
    "duration": 4,
    "start_time": "2024-01-23T09:40:59.772Z"
   },
   {
    "duration": 7411,
    "start_time": "2024-01-23T09:41:07.344Z"
   },
   {
    "duration": 1271,
    "start_time": "2024-01-23T09:41:14.758Z"
   },
   {
    "duration": 4,
    "start_time": "2024-01-23T09:41:16.030Z"
   },
   {
    "duration": 210,
    "start_time": "2024-01-23T09:41:16.036Z"
   },
   {
    "duration": 141,
    "start_time": "2024-01-23T09:41:16.247Z"
   },
   {
    "duration": 148,
    "start_time": "2024-01-23T09:41:16.390Z"
   },
   {
    "duration": 194,
    "start_time": "2024-01-23T09:41:16.539Z"
   },
   {
    "duration": 14,
    "start_time": "2024-01-23T09:41:16.734Z"
   },
   {
    "duration": 20,
    "start_time": "2024-01-23T09:41:16.750Z"
   },
   {
    "duration": 31,
    "start_time": "2024-01-23T09:41:16.772Z"
   },
   {
    "duration": 10,
    "start_time": "2024-01-23T09:41:16.804Z"
   },
   {
    "duration": 104,
    "start_time": "2024-01-23T09:41:16.815Z"
   },
   {
    "duration": 87,
    "start_time": "2024-01-23T09:41:16.921Z"
   },
   {
    "duration": 110,
    "start_time": "2024-01-23T09:41:17.009Z"
   },
   {
    "duration": 117,
    "start_time": "2024-01-23T09:41:17.121Z"
   },
   {
    "duration": 4,
    "start_time": "2024-01-23T09:41:17.239Z"
   },
   {
    "duration": 1311,
    "start_time": "2024-01-23T09:41:17.244Z"
   },
   {
    "duration": 1243,
    "start_time": "2024-01-23T09:41:18.556Z"
   },
   {
    "duration": 1450,
    "start_time": "2024-01-23T09:41:19.800Z"
   },
   {
    "duration": 3,
    "start_time": "2024-01-23T09:41:21.252Z"
   },
   {
    "duration": 346,
    "start_time": "2024-01-23T09:41:21.256Z"
   },
   {
    "duration": 329,
    "start_time": "2024-01-23T09:41:21.604Z"
   },
   {
    "duration": 319,
    "start_time": "2024-01-23T09:41:21.935Z"
   },
   {
    "duration": 13,
    "start_time": "2024-01-23T09:41:22.256Z"
   },
   {
    "duration": 176,
    "start_time": "2024-01-23T09:41:22.270Z"
   },
   {
    "duration": 2,
    "start_time": "2024-01-23T09:41:22.448Z"
   },
   {
    "duration": 5,
    "start_time": "2024-01-23T09:41:22.451Z"
   },
   {
    "duration": 33,
    "start_time": "2024-01-23T09:41:22.460Z"
   },
   {
    "duration": 19,
    "start_time": "2024-01-23T09:41:22.495Z"
   },
   {
    "duration": 25,
    "start_time": "2024-01-23T09:41:22.515Z"
   },
   {
    "duration": 4,
    "start_time": "2024-01-23T09:41:22.541Z"
   },
   {
    "duration": 4,
    "start_time": "2024-01-23T09:41:22.546Z"
   },
   {
    "duration": 2185,
    "start_time": "2024-01-23T09:41:22.551Z"
   },
   {
    "duration": 9,
    "start_time": "2024-01-23T09:41:24.737Z"
   },
   {
    "duration": 185,
    "start_time": "2024-01-23T09:41:24.749Z"
   },
   {
    "duration": 3,
    "start_time": "2024-01-23T09:41:24.936Z"
   },
   {
    "duration": 2300,
    "start_time": "2024-01-23T09:41:24.940Z"
   },
   {
    "duration": 99,
    "start_time": "2024-01-23T09:41:27.242Z"
   },
   {
    "duration": 199,
    "start_time": "2024-01-23T09:41:27.343Z"
   },
   {
    "duration": 8,
    "start_time": "2024-01-23T09:41:27.544Z"
   },
   {
    "duration": 2181,
    "start_time": "2024-01-23T09:41:27.553Z"
   },
   {
    "duration": 20,
    "start_time": "2024-01-23T09:41:29.736Z"
   },
   {
    "duration": 106,
    "start_time": "2024-01-23T09:41:29.835Z"
   },
   {
    "duration": 16,
    "start_time": "2024-01-23T09:41:29.942Z"
   },
   {
    "duration": 130,
    "start_time": "2024-01-23T09:41:29.959Z"
   },
   {
    "duration": 103,
    "start_time": "2024-01-23T09:41:30.090Z"
   },
   {
    "duration": 210,
    "start_time": "2024-01-23T09:41:30.195Z"
   },
   {
    "duration": 3,
    "start_time": "2024-01-23T09:41:30.406Z"
   },
   {
    "duration": 53,
    "start_time": "2024-01-23T09:41:30.410Z"
   },
   {
    "duration": 66,
    "start_time": "2024-01-23T09:41:30.464Z"
   },
   {
    "duration": 98,
    "start_time": "2024-01-23T09:41:30.532Z"
   },
   {
    "duration": 66,
    "start_time": "2024-01-23T09:41:30.631Z"
   },
   {
    "duration": 75,
    "start_time": "2024-01-23T09:41:30.699Z"
   },
   {
    "duration": 100,
    "start_time": "2024-01-23T09:41:30.776Z"
   },
   {
    "duration": 26,
    "start_time": "2024-01-23T09:41:30.877Z"
   },
   {
    "duration": 71,
    "start_time": "2024-01-23T09:41:30.905Z"
   },
   {
    "duration": 81,
    "start_time": "2024-01-23T09:41:30.978Z"
   },
   {
    "duration": 47,
    "start_time": "2024-01-23T09:41:31.061Z"
   },
   {
    "duration": 30,
    "start_time": "2024-01-23T09:41:31.110Z"
   },
   {
    "duration": 57,
    "start_time": "2024-01-23T09:41:31.142Z"
   },
   {
    "duration": 40,
    "start_time": "2024-01-23T09:41:31.202Z"
   },
   {
    "duration": 12502,
    "start_time": "2024-01-23T09:41:31.244Z"
   },
   {
    "duration": 12259,
    "start_time": "2024-01-23T09:41:43.748Z"
   },
   {
    "duration": 12322,
    "start_time": "2024-01-23T09:41:56.008Z"
   },
   {
    "duration": 4,
    "start_time": "2024-01-23T12:35:16.845Z"
   },
   {
    "duration": 10,
    "start_time": "2024-01-23T12:35:18.340Z"
   },
   {
    "duration": 8,
    "start_time": "2024-01-23T12:35:18.700Z"
   },
   {
    "duration": 9,
    "start_time": "2024-01-23T12:35:19.020Z"
   },
   {
    "duration": 4,
    "start_time": "2024-01-23T12:44:00.771Z"
   },
   {
    "duration": 6,
    "start_time": "2024-01-23T12:52:40.260Z"
   },
   {
    "duration": 9,
    "start_time": "2024-01-23T12:53:00.746Z"
   },
   {
    "duration": 6911,
    "start_time": "2024-01-23T12:53:01.881Z"
   },
   {
    "duration": 5,
    "start_time": "2024-01-23T12:54:28.706Z"
   },
   {
    "duration": 6830,
    "start_time": "2024-01-23T12:54:29.345Z"
   },
   {
    "duration": 6,
    "start_time": "2024-01-23T12:55:10.921Z"
   },
   {
    "duration": 6553,
    "start_time": "2024-01-23T12:55:15.748Z"
   },
   {
    "duration": 6,
    "start_time": "2024-01-23T12:55:42.272Z"
   },
   {
    "duration": 6373,
    "start_time": "2024-01-23T12:55:42.856Z"
   },
   {
    "duration": 3,
    "start_time": "2024-01-23T12:56:20.153Z"
   },
   {
    "duration": 3,
    "start_time": "2024-01-23T12:56:20.570Z"
   },
   {
    "duration": 8,
    "start_time": "2024-01-23T12:56:20.953Z"
   },
   {
    "duration": 2696,
    "start_time": "2024-01-23T12:56:23.856Z"
   },
   {
    "duration": 6,
    "start_time": "2024-01-23T12:57:01.112Z"
   },
   {
    "duration": 2670,
    "start_time": "2024-01-23T12:57:01.484Z"
   },
   {
    "duration": 6,
    "start_time": "2024-01-23T12:57:14.265Z"
   },
   {
    "duration": 2608,
    "start_time": "2024-01-23T12:57:14.792Z"
   },
   {
    "duration": 6,
    "start_time": "2024-01-23T12:57:46.751Z"
   },
   {
    "duration": 2677,
    "start_time": "2024-01-23T12:57:47.263Z"
   },
   {
    "duration": 5,
    "start_time": "2024-01-23T12:57:56.872Z"
   },
   {
    "duration": 2631,
    "start_time": "2024-01-23T12:57:58.088Z"
   },
   {
    "duration": 6,
    "start_time": "2024-01-23T12:58:02.961Z"
   },
   {
    "duration": 2661,
    "start_time": "2024-01-23T12:58:03.304Z"
   },
   {
    "duration": 6,
    "start_time": "2024-01-23T12:59:00.519Z"
   },
   {
    "duration": 2741,
    "start_time": "2024-01-23T12:59:00.831Z"
   },
   {
    "duration": 2704,
    "start_time": "2024-01-23T12:59:05.016Z"
   },
   {
    "duration": 2628,
    "start_time": "2024-01-23T12:59:07.721Z"
   },
   {
    "duration": 5,
    "start_time": "2024-01-23T13:03:39.855Z"
   },
   {
    "duration": 2713,
    "start_time": "2024-01-23T13:03:40.430Z"
   },
   {
    "duration": 2591,
    "start_time": "2024-01-23T13:03:43.145Z"
   },
   {
    "duration": 2643,
    "start_time": "2024-01-23T13:03:45.738Z"
   },
   {
    "duration": 7459,
    "start_time": "2024-01-23T13:41:28.917Z"
   },
   {
    "duration": 2975,
    "start_time": "2024-01-23T13:41:36.378Z"
   },
   {
    "duration": 3,
    "start_time": "2024-01-23T13:41:39.354Z"
   },
   {
    "duration": 180,
    "start_time": "2024-01-23T13:41:39.358Z"
   },
   {
    "duration": 139,
    "start_time": "2024-01-23T13:41:39.540Z"
   },
   {
    "duration": 146,
    "start_time": "2024-01-23T13:41:39.681Z"
   },
   {
    "duration": 204,
    "start_time": "2024-01-23T13:41:39.829Z"
   },
   {
    "duration": 16,
    "start_time": "2024-01-23T13:41:40.035Z"
   },
   {
    "duration": 18,
    "start_time": "2024-01-23T13:41:40.053Z"
   },
   {
    "duration": 16,
    "start_time": "2024-01-23T13:41:40.074Z"
   },
   {
    "duration": 5,
    "start_time": "2024-01-23T13:41:40.092Z"
   },
   {
    "duration": 150,
    "start_time": "2024-01-23T13:41:40.098Z"
   },
   {
    "duration": 106,
    "start_time": "2024-01-23T13:41:40.250Z"
   },
   {
    "duration": 92,
    "start_time": "2024-01-23T13:41:40.357Z"
   },
   {
    "duration": 119,
    "start_time": "2024-01-23T13:41:40.450Z"
   },
   {
    "duration": 4,
    "start_time": "2024-01-23T13:41:40.570Z"
   },
   {
    "duration": 1240,
    "start_time": "2024-01-23T13:41:40.576Z"
   },
   {
    "duration": 1221,
    "start_time": "2024-01-23T13:41:41.818Z"
   },
   {
    "duration": 1417,
    "start_time": "2024-01-23T13:41:43.041Z"
   },
   {
    "duration": 4,
    "start_time": "2024-01-23T13:41:44.459Z"
   },
   {
    "duration": 346,
    "start_time": "2024-01-23T13:41:44.464Z"
   },
   {
    "duration": 330,
    "start_time": "2024-01-23T13:41:44.811Z"
   },
   {
    "duration": 326,
    "start_time": "2024-01-23T13:41:45.143Z"
   },
   {
    "duration": 13,
    "start_time": "2024-01-23T13:41:45.470Z"
   },
   {
    "duration": 175,
    "start_time": "2024-01-23T13:41:45.485Z"
   },
   {
    "duration": 5,
    "start_time": "2024-01-23T13:41:45.663Z"
   },
   {
    "duration": 35,
    "start_time": "2024-01-23T13:41:45.671Z"
   },
   {
    "duration": 31,
    "start_time": "2024-01-23T13:41:45.710Z"
   },
   {
    "duration": 16,
    "start_time": "2024-01-23T13:41:45.742Z"
   },
   {
    "duration": 39,
    "start_time": "2024-01-23T13:41:45.759Z"
   },
   {
    "duration": 10,
    "start_time": "2024-01-23T13:41:45.800Z"
   },
   {
    "duration": 16,
    "start_time": "2024-01-23T13:41:45.811Z"
   },
   {
    "duration": 2205,
    "start_time": "2024-01-23T13:41:45.828Z"
   },
   {
    "duration": 12,
    "start_time": "2024-01-23T13:41:48.035Z"
   },
   {
    "duration": 192,
    "start_time": "2024-01-23T13:41:48.049Z"
   },
   {
    "duration": 3,
    "start_time": "2024-01-23T13:41:48.242Z"
   },
   {
    "duration": 2187,
    "start_time": "2024-01-23T13:41:48.246Z"
   },
   {
    "duration": 99,
    "start_time": "2024-01-23T13:41:50.435Z"
   },
   {
    "duration": 97,
    "start_time": "2024-01-23T13:41:50.537Z"
   },
   {
    "duration": 38,
    "start_time": "2024-01-23T13:41:50.636Z"
   },
   {
    "duration": 2559,
    "start_time": "2024-01-23T13:41:50.676Z"
   },
   {
    "duration": 9,
    "start_time": "2024-01-23T13:41:53.236Z"
   },
   {
    "duration": 192,
    "start_time": "2024-01-23T13:41:53.247Z"
   },
   {
    "duration": 22,
    "start_time": "2024-01-23T13:41:53.440Z"
   },
   {
    "duration": 143,
    "start_time": "2024-01-23T13:41:53.464Z"
   },
   {
    "duration": 109,
    "start_time": "2024-01-23T13:41:53.608Z"
   },
   {
    "duration": 212,
    "start_time": "2024-01-23T13:41:53.719Z"
   },
   {
    "duration": 3,
    "start_time": "2024-01-23T13:41:53.933Z"
   },
   {
    "duration": 39,
    "start_time": "2024-01-23T13:41:53.938Z"
   },
   {
    "duration": 47,
    "start_time": "2024-01-23T13:41:53.978Z"
   },
   {
    "duration": 32,
    "start_time": "2024-01-23T13:41:54.026Z"
   },
   {
    "duration": 5,
    "start_time": "2024-01-23T13:41:54.059Z"
   },
   {
    "duration": 27,
    "start_time": "2024-01-23T13:41:54.065Z"
   },
   {
    "duration": 25,
    "start_time": "2024-01-23T13:41:54.093Z"
   },
   {
    "duration": 12,
    "start_time": "2024-01-23T13:41:54.119Z"
   },
   {
    "duration": 33,
    "start_time": "2024-01-23T13:41:54.133Z"
   },
   {
    "duration": 40,
    "start_time": "2024-01-23T13:41:54.167Z"
   },
   {
    "duration": 22,
    "start_time": "2024-01-23T13:41:54.208Z"
   },
   {
    "duration": 28,
    "start_time": "2024-01-23T13:41:54.232Z"
   },
   {
    "duration": 37,
    "start_time": "2024-01-23T13:41:54.261Z"
   },
   {
    "duration": 22,
    "start_time": "2024-01-23T13:41:54.300Z"
   },
   {
    "duration": 28,
    "start_time": "2024-01-23T13:41:54.324Z"
   },
   {
    "duration": 2636,
    "start_time": "2024-01-23T13:41:54.354Z"
   },
   {
    "duration": 2559,
    "start_time": "2024-01-23T13:41:56.992Z"
   },
   {
    "duration": 2625,
    "start_time": "2024-01-23T13:41:59.553Z"
   },
   {
    "duration": 80,
    "start_time": "2024-01-23T13:42:54.063Z"
   },
   {
    "duration": 7412,
    "start_time": "2024-01-23T13:43:46.978Z"
   },
   {
    "duration": 1359,
    "start_time": "2024-01-23T13:43:54.392Z"
   },
   {
    "duration": 2,
    "start_time": "2024-01-23T13:43:55.752Z"
   },
   {
    "duration": 180,
    "start_time": "2024-01-23T13:43:55.756Z"
   },
   {
    "duration": 139,
    "start_time": "2024-01-23T13:43:55.938Z"
   },
   {
    "duration": 139,
    "start_time": "2024-01-23T13:43:56.079Z"
   },
   {
    "duration": 190,
    "start_time": "2024-01-23T13:43:56.220Z"
   },
   {
    "duration": 23,
    "start_time": "2024-01-23T13:43:56.412Z"
   },
   {
    "duration": 15,
    "start_time": "2024-01-23T13:43:56.436Z"
   },
   {
    "duration": 19,
    "start_time": "2024-01-23T13:43:56.454Z"
   },
   {
    "duration": 5,
    "start_time": "2024-01-23T13:43:56.474Z"
   },
   {
    "duration": 104,
    "start_time": "2024-01-23T13:43:56.480Z"
   },
   {
    "duration": 87,
    "start_time": "2024-01-23T13:43:56.586Z"
   },
   {
    "duration": 89,
    "start_time": "2024-01-23T13:43:56.674Z"
   },
   {
    "duration": 123,
    "start_time": "2024-01-23T13:43:56.765Z"
   },
   {
    "duration": 4,
    "start_time": "2024-01-23T13:43:56.889Z"
   },
   {
    "duration": 1246,
    "start_time": "2024-01-23T13:43:56.895Z"
   },
   {
    "duration": 1215,
    "start_time": "2024-01-23T13:43:58.143Z"
   },
   {
    "duration": 1440,
    "start_time": "2024-01-23T13:43:59.360Z"
   },
   {
    "duration": 4,
    "start_time": "2024-01-23T13:44:00.801Z"
   },
   {
    "duration": 429,
    "start_time": "2024-01-23T13:44:00.806Z"
   },
   {
    "duration": 304,
    "start_time": "2024-01-23T13:44:01.237Z"
   },
   {
    "duration": 337,
    "start_time": "2024-01-23T13:44:01.543Z"
   },
   {
    "duration": 14,
    "start_time": "2024-01-23T13:44:01.882Z"
   },
   {
    "duration": 187,
    "start_time": "2024-01-23T13:44:01.897Z"
   },
   {
    "duration": 3,
    "start_time": "2024-01-23T13:44:02.085Z"
   },
   {
    "duration": 25,
    "start_time": "2024-01-23T13:44:02.089Z"
   },
   {
    "duration": 75,
    "start_time": "2024-01-23T13:44:02.118Z"
   },
   {
    "duration": 65,
    "start_time": "2024-01-23T13:44:02.194Z"
   },
   {
    "duration": 45,
    "start_time": "2024-01-23T13:44:02.260Z"
   },
   {
    "duration": 154,
    "start_time": "2024-01-23T13:44:02.306Z"
   },
   {
    "duration": 118,
    "start_time": "2024-01-23T13:44:02.462Z"
   },
   {
    "duration": 2259,
    "start_time": "2024-01-23T13:44:02.582Z"
   },
   {
    "duration": 9,
    "start_time": "2024-01-23T13:44:04.934Z"
   },
   {
    "duration": 190,
    "start_time": "2024-01-23T13:44:04.945Z"
   },
   {
    "duration": 4,
    "start_time": "2024-01-23T13:44:05.137Z"
   },
   {
    "duration": 2192,
    "start_time": "2024-01-23T13:44:05.142Z"
   },
   {
    "duration": 10,
    "start_time": "2024-01-23T13:44:07.335Z"
   },
   {
    "duration": 193,
    "start_time": "2024-01-23T13:44:07.347Z"
   },
   {
    "duration": 5,
    "start_time": "2024-01-23T13:44:07.542Z"
   },
   {
    "duration": 2095,
    "start_time": "2024-01-23T13:44:07.548Z"
   },
   {
    "duration": 190,
    "start_time": "2024-01-23T13:44:09.645Z"
   },
   {
    "duration": 101,
    "start_time": "2024-01-23T13:44:09.837Z"
   },
   {
    "duration": 12,
    "start_time": "2024-01-23T13:44:09.940Z"
   },
   {
    "duration": 123,
    "start_time": "2024-01-23T13:44:09.953Z"
   },
   {
    "duration": 105,
    "start_time": "2024-01-23T13:44:10.077Z"
   },
   {
    "duration": 230,
    "start_time": "2024-01-23T13:44:10.184Z"
   },
   {
    "duration": 3,
    "start_time": "2024-01-23T13:44:10.416Z"
   },
   {
    "duration": 31,
    "start_time": "2024-01-23T13:44:10.421Z"
   },
   {
    "duration": 28,
    "start_time": "2024-01-23T13:44:10.454Z"
   },
   {
    "duration": 18,
    "start_time": "2024-01-23T13:44:10.483Z"
   },
   {
    "duration": 3,
    "start_time": "2024-01-23T13:44:10.503Z"
   },
   {
    "duration": 32,
    "start_time": "2024-01-23T13:44:10.508Z"
   },
   {
    "duration": 39,
    "start_time": "2024-01-23T13:44:10.542Z"
   },
   {
    "duration": 11,
    "start_time": "2024-01-23T13:44:10.582Z"
   },
   {
    "duration": 19,
    "start_time": "2024-01-23T13:44:10.595Z"
   },
   {
    "duration": 62,
    "start_time": "2024-01-23T13:44:10.615Z"
   },
   {
    "duration": 23,
    "start_time": "2024-01-23T13:44:10.679Z"
   },
   {
    "duration": 28,
    "start_time": "2024-01-23T13:44:10.704Z"
   },
   {
    "duration": 13,
    "start_time": "2024-01-23T13:44:10.734Z"
   },
   {
    "duration": 33,
    "start_time": "2024-01-23T13:44:10.749Z"
   },
   {
    "duration": 38,
    "start_time": "2024-01-23T13:44:10.783Z"
   },
   {
    "duration": 2660,
    "start_time": "2024-01-23T13:44:10.822Z"
   },
   {
    "duration": 2564,
    "start_time": "2024-01-23T13:44:13.483Z"
   },
   {
    "duration": 2469,
    "start_time": "2024-01-23T13:44:16.049Z"
   },
   {
    "duration": 7550,
    "start_time": "2024-01-23T18:04:20.798Z"
   },
   {
    "duration": 5,
    "start_time": "2024-01-23T18:04:28.350Z"
   },
   {
    "duration": 26,
    "start_time": "2024-01-23T18:04:28.356Z"
   },
   {
    "duration": 178,
    "start_time": "2024-01-23T18:04:28.384Z"
   },
   {
    "duration": 145,
    "start_time": "2024-01-23T18:04:28.563Z"
   },
   {
    "duration": 152,
    "start_time": "2024-01-23T18:04:28.709Z"
   },
   {
    "duration": 172,
    "start_time": "2024-01-23T18:04:28.862Z"
   },
   {
    "duration": 18,
    "start_time": "2024-01-23T18:04:29.035Z"
   },
   {
    "duration": 26,
    "start_time": "2024-01-23T18:04:29.054Z"
   },
   {
    "duration": 29,
    "start_time": "2024-01-23T18:04:29.083Z"
   },
   {
    "duration": 17,
    "start_time": "2024-01-23T18:04:29.114Z"
   },
   {
    "duration": 105,
    "start_time": "2024-01-23T18:04:29.132Z"
   },
   {
    "duration": 82,
    "start_time": "2024-01-23T18:04:29.239Z"
   },
   {
    "duration": 86,
    "start_time": "2024-01-23T18:04:29.333Z"
   },
   {
    "duration": 133,
    "start_time": "2024-01-23T18:04:29.420Z"
   },
   {
    "duration": 4,
    "start_time": "2024-01-23T18:04:29.555Z"
   },
   {
    "duration": 1185,
    "start_time": "2024-01-23T18:04:29.560Z"
   },
   {
    "duration": 1241,
    "start_time": "2024-01-23T18:04:30.746Z"
   },
   {
    "duration": 1444,
    "start_time": "2024-01-23T18:04:31.989Z"
   },
   {
    "duration": 4,
    "start_time": "2024-01-23T18:04:33.434Z"
   },
   {
    "duration": 352,
    "start_time": "2024-01-23T18:04:33.439Z"
   },
   {
    "duration": 360,
    "start_time": "2024-01-23T18:04:33.793Z"
   },
   {
    "duration": 303,
    "start_time": "2024-01-23T18:04:34.154Z"
   },
   {
    "duration": 17,
    "start_time": "2024-01-23T18:04:34.460Z"
   },
   {
    "duration": 305,
    "start_time": "2024-01-23T18:04:34.479Z"
   },
   {
    "duration": 2,
    "start_time": "2024-01-23T18:04:34.786Z"
   },
   {
    "duration": 6,
    "start_time": "2024-01-23T18:04:34.789Z"
   },
   {
    "duration": 17,
    "start_time": "2024-01-23T18:04:34.797Z"
   },
   {
    "duration": 26,
    "start_time": "2024-01-23T18:04:34.815Z"
   },
   {
    "duration": 11,
    "start_time": "2024-01-23T18:04:34.843Z"
   },
   {
    "duration": 8,
    "start_time": "2024-01-23T18:04:34.856Z"
   },
   {
    "duration": 5,
    "start_time": "2024-01-23T18:04:34.865Z"
   },
   {
    "duration": 2173,
    "start_time": "2024-01-23T18:04:34.871Z"
   },
   {
    "duration": 92,
    "start_time": "2024-01-23T18:04:37.051Z"
   },
   {
    "duration": 195,
    "start_time": "2024-01-23T18:04:37.145Z"
   },
   {
    "duration": 28,
    "start_time": "2024-01-23T18:04:37.342Z"
   },
   {
    "duration": 2266,
    "start_time": "2024-01-23T18:04:37.371Z"
   },
   {
    "duration": 10,
    "start_time": "2024-01-23T18:04:39.638Z"
   },
   {
    "duration": 189,
    "start_time": "2024-01-23T18:04:39.650Z"
   },
   {
    "duration": 37,
    "start_time": "2024-01-23T18:04:39.840Z"
   },
   {
    "duration": 2356,
    "start_time": "2024-01-23T18:04:39.879Z"
   },
   {
    "duration": 10,
    "start_time": "2024-01-23T18:04:42.237Z"
   },
   {
    "duration": 184,
    "start_time": "2024-01-23T18:04:42.249Z"
   },
   {
    "duration": 8,
    "start_time": "2024-01-23T18:04:42.435Z"
   },
   {
    "duration": 128,
    "start_time": "2024-01-23T18:04:42.445Z"
   },
   {
    "duration": 111,
    "start_time": "2024-01-23T18:04:42.574Z"
   },
   {
    "duration": 121,
    "start_time": "2024-01-23T18:04:42.686Z"
   },
   {
    "duration": 3,
    "start_time": "2024-01-23T18:04:42.809Z"
   },
   {
    "duration": 35,
    "start_time": "2024-01-23T18:04:42.813Z"
   },
   {
    "duration": 30,
    "start_time": "2024-01-23T18:04:42.850Z"
   },
   {
    "duration": 29,
    "start_time": "2024-01-23T18:04:42.883Z"
   },
   {
    "duration": 19,
    "start_time": "2024-01-23T18:04:42.914Z"
   },
   {
    "duration": 4,
    "start_time": "2024-01-23T18:06:49.703Z"
   },
   {
    "duration": 11,
    "start_time": "2024-01-23T18:06:50.527Z"
   },
   {
    "duration": 9,
    "start_time": "2024-01-23T18:06:50.990Z"
   },
   {
    "duration": 9,
    "start_time": "2024-01-23T18:06:54.138Z"
   },
   {
    "duration": 3,
    "start_time": "2024-01-23T18:09:27.519Z"
   },
   {
    "duration": 3,
    "start_time": "2024-01-23T18:17:35.651Z"
   },
   {
    "duration": 5,
    "start_time": "2024-01-23T18:26:14.449Z"
   },
   {
    "duration": 1424,
    "start_time": "2024-01-23T18:26:16.625Z"
   },
   {
    "duration": 1511,
    "start_time": "2024-01-23T18:26:23.816Z"
   },
   {
    "duration": 1446,
    "start_time": "2024-01-23T18:26:25.328Z"
   },
   {
    "duration": 5,
    "start_time": "2024-01-23T18:33:53.829Z"
   },
   {
    "duration": 1486,
    "start_time": "2024-01-23T18:33:55.741Z"
   },
   {
    "duration": 5,
    "start_time": "2024-01-23T18:34:31.829Z"
   },
   {
    "duration": 1510,
    "start_time": "2024-01-23T18:34:33.493Z"
   },
   {
    "duration": 1465,
    "start_time": "2024-01-23T18:34:35.005Z"
   },
   {
    "duration": 1465,
    "start_time": "2024-01-23T18:34:36.472Z"
   },
   {
    "duration": 5,
    "start_time": "2024-01-23T18:36:39.400Z"
   },
   {
    "duration": 1461,
    "start_time": "2024-01-23T18:36:41.038Z"
   },
   {
    "duration": 5,
    "start_time": "2024-01-23T18:36:54.631Z"
   },
   {
    "duration": 1463,
    "start_time": "2024-01-23T18:36:55.794Z"
   },
   {
    "duration": 1507,
    "start_time": "2024-01-23T18:36:59.095Z"
   },
   {
    "duration": 1512,
    "start_time": "2024-01-23T18:37:05.862Z"
   },
   {
    "duration": 5,
    "start_time": "2024-01-23T18:37:20.319Z"
   },
   {
    "duration": 1497,
    "start_time": "2024-01-23T18:37:22.031Z"
   },
   {
    "duration": 1475,
    "start_time": "2024-01-23T18:37:23.533Z"
   },
   {
    "duration": 1564,
    "start_time": "2024-01-23T18:37:25.010Z"
   },
   {
    "duration": 7375,
    "start_time": "2024-01-23T18:49:46.192Z"
   },
   {
    "duration": 1176,
    "start_time": "2024-01-23T18:49:53.570Z"
   },
   {
    "duration": 3,
    "start_time": "2024-01-23T18:49:54.747Z"
   },
   {
    "duration": 174,
    "start_time": "2024-01-23T18:49:54.751Z"
   },
   {
    "duration": 137,
    "start_time": "2024-01-23T18:49:54.928Z"
   },
   {
    "duration": 141,
    "start_time": "2024-01-23T18:49:55.067Z"
   },
   {
    "duration": 182,
    "start_time": "2024-01-23T18:49:55.209Z"
   },
   {
    "duration": 14,
    "start_time": "2024-01-23T18:49:55.392Z"
   },
   {
    "duration": 32,
    "start_time": "2024-01-23T18:49:55.407Z"
   },
   {
    "duration": 15,
    "start_time": "2024-01-23T18:49:55.442Z"
   },
   {
    "duration": 4,
    "start_time": "2024-01-23T18:49:55.458Z"
   },
   {
    "duration": 113,
    "start_time": "2024-01-23T18:49:55.463Z"
   },
   {
    "duration": 99,
    "start_time": "2024-01-23T18:49:55.578Z"
   },
   {
    "duration": 98,
    "start_time": "2024-01-23T18:49:55.679Z"
   },
   {
    "duration": 134,
    "start_time": "2024-01-23T18:49:55.784Z"
   },
   {
    "duration": 4,
    "start_time": "2024-01-23T18:49:55.920Z"
   },
   {
    "duration": 1183,
    "start_time": "2024-01-23T18:49:55.925Z"
   },
   {
    "duration": 1187,
    "start_time": "2024-01-23T18:49:57.109Z"
   },
   {
    "duration": 1374,
    "start_time": "2024-01-23T18:49:58.297Z"
   },
   {
    "duration": 4,
    "start_time": "2024-01-23T18:49:59.673Z"
   },
   {
    "duration": 379,
    "start_time": "2024-01-23T18:49:59.679Z"
   },
   {
    "duration": 287,
    "start_time": "2024-01-23T18:50:00.060Z"
   },
   {
    "duration": 294,
    "start_time": "2024-01-23T18:50:00.348Z"
   },
   {
    "duration": 12,
    "start_time": "2024-01-23T18:50:00.644Z"
   },
   {
    "duration": 193,
    "start_time": "2024-01-23T18:50:00.658Z"
   },
   {
    "duration": 3,
    "start_time": "2024-01-23T18:50:00.852Z"
   },
   {
    "duration": 42,
    "start_time": "2024-01-23T18:50:00.856Z"
   },
   {
    "duration": 41,
    "start_time": "2024-01-23T18:50:00.901Z"
   },
   {
    "duration": 33,
    "start_time": "2024-01-23T18:50:00.943Z"
   },
   {
    "duration": 21,
    "start_time": "2024-01-23T18:50:00.978Z"
   },
   {
    "duration": 61,
    "start_time": "2024-01-23T18:50:01.001Z"
   },
   {
    "duration": 48,
    "start_time": "2024-01-23T18:50:01.064Z"
   },
   {
    "duration": 2519,
    "start_time": "2024-01-23T18:50:01.114Z"
   },
   {
    "duration": 13,
    "start_time": "2024-01-23T18:50:03.635Z"
   },
   {
    "duration": 91,
    "start_time": "2024-01-23T18:50:03.649Z"
   },
   {
    "duration": 92,
    "start_time": "2024-01-23T18:50:03.742Z"
   },
   {
    "duration": 2105,
    "start_time": "2024-01-23T18:50:03.835Z"
   },
   {
    "duration": 192,
    "start_time": "2024-01-23T18:50:05.942Z"
   },
   {
    "duration": 98,
    "start_time": "2024-01-23T18:50:06.136Z"
   },
   {
    "duration": 20,
    "start_time": "2024-01-23T18:50:06.236Z"
   },
   {
    "duration": 2380,
    "start_time": "2024-01-23T18:50:06.257Z"
   },
   {
    "duration": 10,
    "start_time": "2024-01-23T18:50:08.639Z"
   },
   {
    "duration": 181,
    "start_time": "2024-01-23T18:50:08.653Z"
   },
   {
    "duration": 6,
    "start_time": "2024-01-23T18:50:08.836Z"
   },
   {
    "duration": 146,
    "start_time": "2024-01-23T18:50:08.844Z"
   },
   {
    "duration": 112,
    "start_time": "2024-01-23T18:50:08.991Z"
   },
   {
    "duration": 216,
    "start_time": "2024-01-23T18:50:09.104Z"
   },
   {
    "duration": 11,
    "start_time": "2024-01-23T18:50:09.322Z"
   },
   {
    "duration": 25,
    "start_time": "2024-01-23T18:50:09.334Z"
   },
   {
    "duration": 18,
    "start_time": "2024-01-23T18:50:09.361Z"
   },
   {
    "duration": 18,
    "start_time": "2024-01-23T18:50:09.381Z"
   },
   {
    "duration": 4,
    "start_time": "2024-01-23T18:50:09.400Z"
   },
   {
    "duration": 4,
    "start_time": "2024-01-23T18:50:09.433Z"
   },
   {
    "duration": 9,
    "start_time": "2024-01-23T18:50:09.438Z"
   },
   {
    "duration": 6,
    "start_time": "2024-01-23T18:50:09.448Z"
   },
   {
    "duration": 4,
    "start_time": "2024-01-23T18:50:09.456Z"
   },
   {
    "duration": 13,
    "start_time": "2024-01-23T18:50:09.461Z"
   },
   {
    "duration": 10,
    "start_time": "2024-01-23T18:50:09.475Z"
   },
   {
    "duration": 50,
    "start_time": "2024-01-23T18:50:09.487Z"
   },
   {
    "duration": 4,
    "start_time": "2024-01-23T18:50:09.538Z"
   },
   {
    "duration": 7,
    "start_time": "2024-01-23T18:50:09.543Z"
   },
   {
    "duration": 8,
    "start_time": "2024-01-23T18:50:09.551Z"
   },
   {
    "duration": 1459,
    "start_time": "2024-01-23T18:50:09.560Z"
   },
   {
    "duration": 1446,
    "start_time": "2024-01-23T18:50:11.021Z"
   },
   {
    "duration": 1466,
    "start_time": "2024-01-23T18:50:12.468Z"
   },
   {
    "duration": 8,
    "start_time": "2024-04-14T19:49:01.523Z"
   },
   {
    "duration": 20642,
    "start_time": "2024-04-14T19:49:25.583Z"
   },
   {
    "duration": 1509,
    "start_time": "2024-04-14T19:49:46.228Z"
   },
   {
    "duration": 2,
    "start_time": "2024-04-14T19:49:47.739Z"
   },
   {
    "duration": 626,
    "start_time": "2024-04-14T19:49:47.743Z"
   },
   {
    "duration": 561,
    "start_time": "2024-04-14T19:49:48.370Z"
   },
   {
    "duration": 573,
    "start_time": "2024-04-14T19:49:48.933Z"
   },
   {
    "duration": 199,
    "start_time": "2024-04-14T19:49:49.508Z"
   },
   {
    "duration": 15,
    "start_time": "2024-04-14T19:49:49.709Z"
   },
   {
    "duration": 15,
    "start_time": "2024-04-14T19:49:49.725Z"
   },
   {
    "duration": 37,
    "start_time": "2024-04-14T19:49:49.742Z"
   },
   {
    "duration": 5,
    "start_time": "2024-04-14T19:49:49.780Z"
   },
   {
    "duration": 107,
    "start_time": "2024-04-14T19:49:49.786Z"
   },
   {
    "duration": 101,
    "start_time": "2024-04-14T19:49:49.894Z"
   },
   {
    "duration": 132,
    "start_time": "2024-04-14T19:49:49.997Z"
   },
   {
    "duration": 126,
    "start_time": "2024-04-14T19:49:50.131Z"
   },
   {
    "duration": 5,
    "start_time": "2024-04-14T19:49:50.258Z"
   },
   {
    "duration": 1365,
    "start_time": "2024-04-14T19:49:50.264Z"
   },
   {
    "duration": 1397,
    "start_time": "2024-04-14T19:49:51.631Z"
   },
   {
    "duration": 1667,
    "start_time": "2024-04-14T19:49:53.029Z"
   },
   {
    "duration": 4,
    "start_time": "2024-04-14T19:49:54.697Z"
   },
   {
    "duration": 438,
    "start_time": "2024-04-14T19:49:54.703Z"
   },
   {
    "duration": 354,
    "start_time": "2024-04-14T19:49:55.142Z"
   },
   {
    "duration": 329,
    "start_time": "2024-04-14T19:49:55.498Z"
   },
   {
    "duration": 14,
    "start_time": "2024-04-14T19:49:55.829Z"
   },
   {
    "duration": 203,
    "start_time": "2024-04-14T19:49:55.845Z"
   },
   {
    "duration": 3,
    "start_time": "2024-04-14T19:49:56.049Z"
   },
   {
    "duration": 10,
    "start_time": "2024-04-14T19:49:56.053Z"
   },
   {
    "duration": 17,
    "start_time": "2024-04-14T19:49:56.072Z"
   },
   {
    "duration": 17,
    "start_time": "2024-04-14T19:49:56.090Z"
   },
   {
    "duration": 17,
    "start_time": "2024-04-14T19:49:56.108Z"
   },
   {
    "duration": 5,
    "start_time": "2024-04-14T19:49:56.127Z"
   },
   {
    "duration": 18,
    "start_time": "2024-04-14T19:49:56.133Z"
   },
   {
    "duration": 2420,
    "start_time": "2024-04-14T19:49:56.153Z"
   },
   {
    "duration": 13,
    "start_time": "2024-04-14T19:49:58.575Z"
   },
   {
    "duration": 181,
    "start_time": "2024-04-14T19:49:58.593Z"
   },
   {
    "duration": 3,
    "start_time": "2024-04-14T19:49:58.776Z"
   },
   {
    "duration": 2295,
    "start_time": "2024-04-14T19:49:58.781Z"
   },
   {
    "duration": 95,
    "start_time": "2024-04-14T19:50:01.078Z"
   },
   {
    "duration": 138,
    "start_time": "2024-04-14T19:50:01.181Z"
   },
   {
    "duration": 67,
    "start_time": "2024-04-14T19:50:01.321Z"
   },
   {
    "duration": 1692,
    "start_time": "2024-04-14T19:50:01.390Z"
   },
   {
    "duration": 12,
    "start_time": "2024-04-14T19:50:03.173Z"
   },
   {
    "duration": 194,
    "start_time": "2024-04-14T19:50:03.187Z"
   },
   {
    "duration": 20,
    "start_time": "2024-04-14T19:50:03.383Z"
   },
   {
    "duration": 157,
    "start_time": "2024-04-14T19:50:03.404Z"
   },
   {
    "duration": 125,
    "start_time": "2024-04-14T19:50:03.562Z"
   },
   {
    "duration": 241,
    "start_time": "2024-04-14T19:50:03.688Z"
   },
   {
    "duration": 4,
    "start_time": "2024-04-14T19:50:03.934Z"
   },
   {
    "duration": 46,
    "start_time": "2024-04-14T19:50:03.939Z"
   },
   {
    "duration": 38,
    "start_time": "2024-04-14T19:50:03.987Z"
   },
   {
    "duration": 21,
    "start_time": "2024-04-14T19:50:04.027Z"
   },
   {
    "duration": 17,
    "start_time": "2024-04-14T19:50:04.050Z"
   },
   {
    "duration": 19,
    "start_time": "2024-04-14T19:50:04.068Z"
   },
   {
    "duration": 15,
    "start_time": "2024-04-14T19:50:04.088Z"
   },
   {
    "duration": 26,
    "start_time": "2024-04-14T19:50:04.105Z"
   },
   {
    "duration": 22,
    "start_time": "2024-04-14T19:50:04.133Z"
   },
   {
    "duration": 66,
    "start_time": "2024-04-14T19:50:04.157Z"
   },
   {
    "duration": 14,
    "start_time": "2024-04-14T19:50:04.225Z"
   },
   {
    "duration": 18,
    "start_time": "2024-04-14T19:50:04.240Z"
   },
   {
    "duration": 5,
    "start_time": "2024-04-14T19:50:04.259Z"
   },
   {
    "duration": 16,
    "start_time": "2024-04-14T19:50:04.266Z"
   },
   {
    "duration": 17,
    "start_time": "2024-04-14T19:50:04.284Z"
   },
   {
    "duration": 1620,
    "start_time": "2024-04-14T19:50:04.302Z"
   },
   {
    "duration": 1639,
    "start_time": "2024-04-14T19:50:05.924Z"
   },
   {
    "duration": 1601,
    "start_time": "2024-04-14T19:50:07.565Z"
   }
  ],
  "kernelspec": {
   "display_name": "Python 3 (ipykernel)",
   "language": "python",
   "name": "python3"
  },
  "language_info": {
   "codemirror_mode": {
    "name": "ipython",
    "version": 3
   },
   "file_extension": ".py",
   "mimetype": "text/x-python",
   "name": "python",
   "nbconvert_exporter": "python",
   "pygments_lexer": "ipython3",
   "version": "3.11.5"
  },
  "toc": {
   "base_numbering": 1,
   "nav_menu": {},
   "number_sections": true,
   "sideBar": true,
   "skip_h1_title": true,
   "title_cell": "Table of Contents",
   "title_sidebar": "Contents",
   "toc_cell": false,
   "toc_position": {
    "height": "calc(100% - 180px)",
    "left": "10px",
    "top": "150px",
    "width": "329.4px"
   },
   "toc_section_display": true,
   "toc_window_display": true
  }
 },
 "nbformat": 4,
 "nbformat_minor": 4
}
