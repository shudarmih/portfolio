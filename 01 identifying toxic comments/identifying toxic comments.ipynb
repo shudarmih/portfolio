{
 "cells": [
  {
   "cell_type": "markdown",
   "metadata": {
    "toc": true
   },
   "source": [
    "<h1>Содержание<span class=\"tocSkip\"></span></h1>\n",
    "<div class=\"toc\"><ul class=\"toc-item\"><li><span><a href=\"#Подготовка\" data-toc-modified-id=\"Подготовка-1\"><span class=\"toc-item-num\">1&nbsp;&nbsp;</span>Подготовка</a></span><ul class=\"toc-item\"><li><span><a href=\"#Загрузка-данных\" data-toc-modified-id=\"Загрузка-данных-1.1\"><span class=\"toc-item-num\">1.1&nbsp;&nbsp;</span>Загрузка данных</a></span></li><li><span><a href=\"#Удаление-лишнего-столбца\" data-toc-modified-id=\"Удаление-лишнего-столбца-1.2\"><span class=\"toc-item-num\">1.2&nbsp;&nbsp;</span>Удаление лишнего столбца</a></span></li><li><span><a href=\"#Выявление-дубликатов\" data-toc-modified-id=\"Выявление-дубликатов-1.3\"><span class=\"toc-item-num\">1.3&nbsp;&nbsp;</span>Выявление дубликатов</a></span></li><li><span><a href=\"#Ограничение-размера-датасета\" data-toc-modified-id=\"Ограничение-размера-датасета-1.4\"><span class=\"toc-item-num\">1.4&nbsp;&nbsp;</span>Ограничение размера датасета</a></span></li><li><span><a href=\"#Предобработка-данных\" data-toc-modified-id=\"Предобработка-данных-1.5\"><span class=\"toc-item-num\">1.5&nbsp;&nbsp;</span>Предобработка данных</a></span></li></ul></li><li><span><a href=\"#Обучение\" data-toc-modified-id=\"Обучение-2\"><span class=\"toc-item-num\">2&nbsp;&nbsp;</span>Обучение</a></span></li><li><span><a href=\"#Выводы\" data-toc-modified-id=\"Выводы-3\"><span class=\"toc-item-num\">3&nbsp;&nbsp;</span>Выводы</a></span></li><li><span><a href=\"#Чек-лист-проверки\" data-toc-modified-id=\"Чек-лист-проверки-4\"><span class=\"toc-item-num\">4&nbsp;&nbsp;</span>Чек-лист проверки</a></span></li></ul></div>"
   ]
  },
  {
   "cell_type": "markdown",
   "metadata": {},
   "source": [
    "# Определение токсичности комментариев"
   ]
  },
  {
   "cell_type": "markdown",
   "metadata": {},
   "source": [
    "Заказчик: интернет-магазин «Викишоп».\n",
    "\n",
    "Требуется создание модели для выявления токсичных комментариев для последующей отправки их на модерацию.\n",
    "Требование заказчика: качество модели необходимо оценивать по метрике F1 значение которой должно быть не меньше 0,75.\n",
    "\n",
    "**Описание данных**\n",
    "\n",
    "Файл: `toxic_comments.csv`.\n",
    " - *text*  - содержит текст комментария.\n",
    " - *toxic* - целевой признак (0 - нормальный комментарий, 1 - токсичный)."
   ]
  },
  {
   "cell_type": "markdown",
   "metadata": {},
   "source": [
    "## План работы"
   ]
  },
  {
   "cell_type": "markdown",
   "metadata": {},
   "source": [
    "- Загрузка необходимых библиотек\n",
    "- Загрузка данных и их анализ\n",
    "    - Проверка наличия пропусков\n",
    "    - Проверка наличия дубликатов\n",
    "- Предобработка данных\n",
    "    - Лемматизация и очистка\n",
    "    - Рассчет TF-IDF\n",
    "- Обучение нескольких моделей и выбор лучшей\n"
   ]
  },
  {
   "cell_type": "markdown",
   "metadata": {},
   "source": [
    "## Подготовка"
   ]
  },
  {
   "cell_type": "markdown",
   "metadata": {},
   "source": [
    "### Загрузка данных"
   ]
  },
  {
   "cell_type": "code",
   "execution_count": 1,
   "metadata": {},
   "outputs": [],
   "source": [
    "#установка недостающих библиотек  и недостающих обновлений в окружение\n",
    "!pip install -U scikit-learn -q\n",
    "!pip install -U spacy==3.2.0 -q"
   ]
  },
  {
   "cell_type": "code",
   "execution_count": 2,
   "metadata": {},
   "outputs": [],
   "source": [
    "#импорт библиотек и определение констант\n",
    "import pandas as pd\n",
    "import numpy as np\n",
    "import nltk\n",
    "from nltk.corpus import stopwords as nltk_stopwords\n",
    "import spacy\n",
    "import re \n",
    "from lightgbm import LGBMClassifier\n",
    "\n",
    "from sklearn.feature_extraction.text import TfidfVectorizer\n",
    "\n",
    "from sklearn.model_selection import (\n",
    "    train_test_split, \n",
    "    RandomizedSearchCV\n",
    ")\n",
    "\n",
    "from sklearn.pipeline import Pipeline\n",
    "from sklearn.linear_model import LogisticRegression\n",
    "from sklearn.neighbors import KNeighborsClassifier\n",
    "from sklearn.tree import DecisionTreeClassifier\n",
    "from sklearn.metrics import f1_score "
   ]
  },
  {
   "cell_type": "code",
   "execution_count": 3,
   "metadata": {},
   "outputs": [],
   "source": [
    "RANDOM_STATE = 42"
   ]
  },
  {
   "cell_type": "code",
   "execution_count": 4,
   "metadata": {},
   "outputs": [
    {
     "data": {
      "text/html": [
       "<div>\n",
       "<style scoped>\n",
       "    .dataframe tbody tr th:only-of-type {\n",
       "        vertical-align: middle;\n",
       "    }\n",
       "\n",
       "    .dataframe tbody tr th {\n",
       "        vertical-align: top;\n",
       "    }\n",
       "\n",
       "    .dataframe thead th {\n",
       "        text-align: right;\n",
       "    }\n",
       "</style>\n",
       "<table border=\"1\" class=\"dataframe\">\n",
       "  <thead>\n",
       "    <tr style=\"text-align: right;\">\n",
       "      <th></th>\n",
       "      <th>Unnamed: 0</th>\n",
       "      <th>text</th>\n",
       "      <th>toxic</th>\n",
       "    </tr>\n",
       "  </thead>\n",
       "  <tbody>\n",
       "    <tr>\n",
       "      <th>0</th>\n",
       "      <td>0</td>\n",
       "      <td>Explanation\\nWhy the edits made under my usern...</td>\n",
       "      <td>0</td>\n",
       "    </tr>\n",
       "    <tr>\n",
       "      <th>1</th>\n",
       "      <td>1</td>\n",
       "      <td>D'aww! He matches this background colour I'm s...</td>\n",
       "      <td>0</td>\n",
       "    </tr>\n",
       "    <tr>\n",
       "      <th>2</th>\n",
       "      <td>2</td>\n",
       "      <td>Hey man, I'm really not trying to edit war. It...</td>\n",
       "      <td>0</td>\n",
       "    </tr>\n",
       "    <tr>\n",
       "      <th>3</th>\n",
       "      <td>3</td>\n",
       "      <td>\"\\nMore\\nI can't make any real suggestions on ...</td>\n",
       "      <td>0</td>\n",
       "    </tr>\n",
       "    <tr>\n",
       "      <th>4</th>\n",
       "      <td>4</td>\n",
       "      <td>You, sir, are my hero. Any chance you remember...</td>\n",
       "      <td>0</td>\n",
       "    </tr>\n",
       "    <tr>\n",
       "      <th>5</th>\n",
       "      <td>5</td>\n",
       "      <td>\"\\n\\nCongratulations from me as well, use the ...</td>\n",
       "      <td>0</td>\n",
       "    </tr>\n",
       "    <tr>\n",
       "      <th>6</th>\n",
       "      <td>6</td>\n",
       "      <td>COCKSUCKER BEFORE YOU PISS AROUND ON MY WORK</td>\n",
       "      <td>1</td>\n",
       "    </tr>\n",
       "    <tr>\n",
       "      <th>7</th>\n",
       "      <td>7</td>\n",
       "      <td>Your vandalism to the Matt Shirvington article...</td>\n",
       "      <td>0</td>\n",
       "    </tr>\n",
       "    <tr>\n",
       "      <th>8</th>\n",
       "      <td>8</td>\n",
       "      <td>Sorry if the word 'nonsense' was offensive to ...</td>\n",
       "      <td>0</td>\n",
       "    </tr>\n",
       "    <tr>\n",
       "      <th>9</th>\n",
       "      <td>9</td>\n",
       "      <td>alignment on this subject and which are contra...</td>\n",
       "      <td>0</td>\n",
       "    </tr>\n",
       "  </tbody>\n",
       "</table>\n",
       "</div>"
      ],
      "text/plain": [
       "   Unnamed: 0                                               text  toxic\n",
       "0           0  Explanation\\nWhy the edits made under my usern...      0\n",
       "1           1  D'aww! He matches this background colour I'm s...      0\n",
       "2           2  Hey man, I'm really not trying to edit war. It...      0\n",
       "3           3  \"\\nMore\\nI can't make any real suggestions on ...      0\n",
       "4           4  You, sir, are my hero. Any chance you remember...      0\n",
       "5           5  \"\\n\\nCongratulations from me as well, use the ...      0\n",
       "6           6       COCKSUCKER BEFORE YOU PISS AROUND ON MY WORK      1\n",
       "7           7  Your vandalism to the Matt Shirvington article...      0\n",
       "8           8  Sorry if the word 'nonsense' was offensive to ...      0\n",
       "9           9  alignment on this subject and which are contra...      0"
      ]
     },
     "metadata": {},
     "output_type": "display_data"
    },
    {
     "name": "stdout",
     "output_type": "stream",
     "text": [
      "<class 'pandas.core.frame.DataFrame'>\n",
      "RangeIndex: 159292 entries, 0 to 159291\n",
      "Data columns (total 3 columns):\n",
      " #   Column      Non-Null Count   Dtype \n",
      "---  ------      --------------   ----- \n",
      " 0   Unnamed: 0  159292 non-null  int64 \n",
      " 1   text        159292 non-null  object\n",
      " 2   toxic       159292 non-null  int64 \n",
      "dtypes: int64(2), object(1)\n",
      "memory usage: 3.6+ MB\n"
     ]
    }
   ],
   "source": [
    "#загрузка файла toxic_comments.csv\n",
    "data = pd.read_csv('/datasets/toxic_comments.csv')\n",
    "display(data.head(10))\n",
    "data.info()"
   ]
  },
  {
   "cell_type": "markdown",
   "metadata": {},
   "source": [
    "**Вывод**\n",
    "\n",
    "Файл toxic_comments.csv\n",
    " - число строк: 159 292\n",
    " - число столбцов: 3\n",
    " - пустые значения: нет \n",
    " - типы данных: соответствуют данным в файле\n",
    " - переименование столбцов: не требуется\n",
    "    \n",
    "Один из столбцов требует удаления (не указанн в аннотации к файлу, содержит копию индексов)"
   ]
  },
  {
   "cell_type": "markdown",
   "metadata": {},
   "source": [
    "### Удаление лишнего столбца"
   ]
  },
  {
   "cell_type": "code",
   "execution_count": 5,
   "metadata": {},
   "outputs": [
    {
     "name": "stdout",
     "output_type": "stream",
     "text": [
      "<class 'pandas.core.frame.DataFrame'>\n",
      "RangeIndex: 159292 entries, 0 to 159291\n",
      "Data columns (total 2 columns):\n",
      " #   Column  Non-Null Count   Dtype \n",
      "---  ------  --------------   ----- \n",
      " 0   text    159292 non-null  object\n",
      " 1   toxic   159292 non-null  int64 \n",
      "dtypes: int64(1), object(1)\n",
      "memory usage: 2.4+ MB\n"
     ]
    }
   ],
   "source": [
    "# удаление \"лишнего\" столбца\n",
    "data = data.drop('Unnamed: 0', axis=1)\n",
    "data.info()"
   ]
  },
  {
   "cell_type": "markdown",
   "metadata": {},
   "source": [
    "**Вывод**\n",
    "\n",
    "Удаление проведено успешно."
   ]
  },
  {
   "cell_type": "markdown",
   "metadata": {},
   "source": [
    "### Выявление дубликатов"
   ]
  },
  {
   "cell_type": "code",
   "execution_count": 6,
   "metadata": {},
   "outputs": [
    {
     "data": {
      "text/plain": [
       "0"
      ]
     },
     "execution_count": 6,
     "metadata": {},
     "output_type": "execute_result"
    }
   ],
   "source": [
    "# выявление явных дубликатов\n",
    "data.duplicated().sum()"
   ]
  },
  {
   "cell_type": "code",
   "execution_count": 7,
   "metadata": {},
   "outputs": [
    {
     "data": {
      "text/plain": [
       "0"
      ]
     },
     "execution_count": 7,
     "metadata": {},
     "output_type": "execute_result"
    }
   ],
   "source": [
    "# выявление неявных дубликатов\n",
    "data['text'].duplicated().sum()"
   ]
  },
  {
   "cell_type": "markdown",
   "metadata": {},
   "source": [
    "**Вывод**\n",
    "\n",
    "Дубликаты не выявлены"
   ]
  },
  {
   "cell_type": "markdown",
   "metadata": {},
   "source": [
    "### Ограничение размера датасета"
   ]
  },
  {
   "cell_type": "code",
   "execution_count": 8,
   "metadata": {
    "scrolled": true
   },
   "outputs": [
    {
     "data": {
      "text/plain": [
       "0.10161213369158527"
      ]
     },
     "execution_count": 8,
     "metadata": {},
     "output_type": "execute_result"
    }
   ],
   "source": [
    "# подсчет доли токсичных записей в датасете\n",
    "data['toxic'].sum()/data.shape[0]"
   ]
  },
  {
   "cell_type": "markdown",
   "metadata": {},
   "source": [
    "В связи с ограничениями вычислительных мощностей, необходимо ограничить объем данных с сохранением дисбаланса классов для дальнейшей работы."
   ]
  },
  {
   "cell_type": "code",
   "execution_count": 9,
   "metadata": {},
   "outputs": [
    {
     "data": {
      "text/html": [
       "<div>\n",
       "<style scoped>\n",
       "    .dataframe tbody tr th:only-of-type {\n",
       "        vertical-align: middle;\n",
       "    }\n",
       "\n",
       "    .dataframe tbody tr th {\n",
       "        vertical-align: top;\n",
       "    }\n",
       "\n",
       "    .dataframe thead th {\n",
       "        text-align: right;\n",
       "    }\n",
       "</style>\n",
       "<table border=\"1\" class=\"dataframe\">\n",
       "  <thead>\n",
       "    <tr style=\"text-align: right;\">\n",
       "      <th></th>\n",
       "      <th>text</th>\n",
       "      <th>toxic</th>\n",
       "    </tr>\n",
       "  </thead>\n",
       "  <tbody>\n",
       "    <tr>\n",
       "      <th>0</th>\n",
       "      <td>Press \\n June 2011: Today Show, NBC: Today's M...</td>\n",
       "      <td>0</td>\n",
       "    </tr>\n",
       "    <tr>\n",
       "      <th>1</th>\n",
       "      <td>Contested deletion \\n\\nThis article should not...</td>\n",
       "      <td>0</td>\n",
       "    </tr>\n",
       "    <tr>\n",
       "      <th>2</th>\n",
       "      <td>\"\\n  Your latest edits have goen even further ...</td>\n",
       "      <td>0</td>\n",
       "    </tr>\n",
       "    <tr>\n",
       "      <th>3</th>\n",
       "      <td>\"\\nIt should not be deleted, but fixed. North ...</td>\n",
       "      <td>0</td>\n",
       "    </tr>\n",
       "    <tr>\n",
       "      <th>4</th>\n",
       "      <td>I'm back... \\n\\n...I haven't found the rusty k...</td>\n",
       "      <td>0</td>\n",
       "    </tr>\n",
       "  </tbody>\n",
       "</table>\n",
       "</div>"
      ],
      "text/plain": [
       "                                                text  toxic\n",
       "0  Press \\n June 2011: Today Show, NBC: Today's M...      0\n",
       "1  Contested deletion \\n\\nThis article should not...      0\n",
       "2  \"\\n  Your latest edits have goen even further ...      0\n",
       "3  \"\\nIt should not be deleted, but fixed. North ...      0\n",
       "4  I'm back... \\n\\n...I haven't found the rusty k...      0"
      ]
     },
     "execution_count": 9,
     "metadata": {},
     "output_type": "execute_result"
    }
   ],
   "source": [
    "# создание тестовой выборки с сохранением дисбаланса классов\n",
    "data_short = data.groupby('toxic').apply(lambda x: x.sample(frac=0.5, random_state=RANDOM_STATE)).reset_index(drop=True)\n",
    "data_short.head()"
   ]
  },
  {
   "cell_type": "code",
   "execution_count": 10,
   "metadata": {},
   "outputs": [
    {
     "data": {
      "text/plain": [
       "0    71553\n",
       "1     8093\n",
       "Name: toxic, dtype: int64"
      ]
     },
     "execution_count": 10,
     "metadata": {},
     "output_type": "execute_result"
    }
   ],
   "source": [
    "data_short.toxic.value_counts()"
   ]
  },
  {
   "cell_type": "markdown",
   "metadata": {},
   "source": [
    "**Вывод** \n",
    "В качестве датасета для текущей задачи был взять фрагмент исходного датасета размером 4000 записей с сохранением исходного дисбаланса классов."
   ]
  },
  {
   "cell_type": "markdown",
   "metadata": {},
   "source": [
    "### Предобработка данных"
   ]
  },
  {
   "cell_type": "code",
   "execution_count": 11,
   "metadata": {},
   "outputs": [],
   "source": [
    "# создание модели для лемматизации\n",
    "load_model = spacy.load('en_core_web_sm', disable = ['parser','ner'])"
   ]
  },
  {
   "cell_type": "code",
   "execution_count": 12,
   "metadata": {},
   "outputs": [],
   "source": [
    "def lemmat(text, model=load_model):\n",
    "    \"\"\"\n",
    "    функция для лемматизации английского текста. \n",
    "    На вход получает список текстов и задается по умолчанию модель для лемматизации.\n",
    "    на выходе функция возвращает список лемматизированного почищенного текста (оставляет символы только английского алфавита)\n",
    "    \"\"\"\n",
    "    lemm = model(text)\n",
    "    lemm = \" \".join(re.sub(r'[^a-zA-Z ]', \" \", str(lemm)).split()) #избавление от лишних символов и объединенеие всех слов\n",
    "    \n",
    "    return lemm"
   ]
  },
  {
   "cell_type": "code",
   "execution_count": 13,
   "metadata": {},
   "outputs": [],
   "source": [
    "# лемматизация  датасета\n",
    "data_short['text'] = data_short['text'].apply(lemmat)"
   ]
  },
  {
   "cell_type": "code",
   "execution_count": 14,
   "metadata": {
    "scrolled": true
   },
   "outputs": [
    {
     "name": "stderr",
     "output_type": "stream",
     "text": [
      "[nltk_data] Downloading package stopwords to /home/jovyan/nltk_data...\n",
      "[nltk_data]   Package stopwords is already up-to-date!\n"
     ]
    }
   ],
   "source": [
    "# создание переменной со стоп-словами\n",
    "nltk.download('stopwords')\n",
    "stopwords = list(nltk_stopwords.words('english'))"
   ]
  },
  {
   "cell_type": "code",
   "execution_count": 15,
   "metadata": {},
   "outputs": [
    {
     "name": "stdout",
     "output_type": "stream",
     "text": [
      "(59734, 1)\n",
      "(19912, 1)\n",
      "(59734,)\n",
      "(19912,)\n"
     ]
    }
   ],
   "source": [
    "# деление на тренировочные и тестовые выборки\n",
    "#разбиение датасета на тренировочне и тестовые выборки\n",
    "X = data_short.drop('toxic', axis=1)\n",
    "y = data_short['toxic']\n",
    "X_train, X_test, y_train, y_test = train_test_split(X, y, test_size=0.25, random_state=RANDOM_STATE, stratify=y)\n",
    "print(X_train.shape)\n",
    "print(X_test.shape)\n",
    "print(y_train.shape)\n",
    "print(y_test.shape)"
   ]
  },
  {
   "cell_type": "code",
   "execution_count": 16,
   "metadata": {},
   "outputs": [
    {
     "name": "stdout",
     "output_type": "stream",
     "text": [
      "(59734, 95531)\n"
     ]
    }
   ],
   "source": [
    "# рассчет tf-idf (обучение) на лемматизированных тренировочных данных\n",
    "count_tf_idf = TfidfVectorizer(stop_words=stopwords) \n",
    "\n",
    "X_train = count_tf_idf.fit_transform(X_train['text'])\n",
    "\n",
    "print(X_train.shape)"
   ]
  },
  {
   "cell_type": "code",
   "execution_count": 17,
   "metadata": {},
   "outputs": [
    {
     "name": "stdout",
     "output_type": "stream",
     "text": [
      "(19912, 95531)\n"
     ]
    }
   ],
   "source": [
    "# рассчет tf-idf на лемматизированных тестовых данных\n",
    "X_test = count_tf_idf.transform(X_test['text'])\n",
    "\n",
    "print(X_test.shape)"
   ]
  },
  {
   "cell_type": "markdown",
   "metadata": {},
   "source": [
    "**Вывод**\n",
    "\n",
    "Для дальнейшего обучения и тестирования модели машинного обучения была проведена лемматизация и произведен рассчет TF-IDF."
   ]
  },
  {
   "cell_type": "markdown",
   "metadata": {},
   "source": [
    "## Обучение"
   ]
  },
  {
   "cell_type": "code",
   "execution_count": 18,
   "metadata": {},
   "outputs": [],
   "source": [
    "# итоговый пайплайн: подготовка данных и модель\n",
    "pipe_final = Pipeline(\n",
    "    [\n",
    "        ('models', DecisionTreeClassifier(random_state=RANDOM_STATE))\n",
    "    ]\n",
    ") "
   ]
  },
  {
   "cell_type": "code",
   "execution_count": 19,
   "metadata": {},
   "outputs": [],
   "source": [
    "#параметры для кросс-валидации\n",
    "\n",
    "param_distributions = [\n",
    "     словарь для модели DecisionTreeRegressor()\n",
    "    {\n",
    "        'models': [DecisionTreeClassifier(random_state=RANDOM_STATE)],\n",
    "        'models__max_depth': range(24, 25),\n",
    "        'models__min_samples_split': range(8, 9),\n",
    "        'models__min_samples_leaf': range(8, 9)\n",
    "    },\n",
    "     словарь для модели LogisticRegression()\n",
    "    {\n",
    "        'models': [LogisticRegression()],\n",
    "        'models__penalty': [None],\n",
    "        'models__C': [7]\n",
    "    },\n",
    "     словарь для модели LGBMClassifier()\n",
    "    {\n",
    "        'models': [LGBMClassifier(random_state=RANDOM_STATE)],\n",
    "        'models__boosting_type': ['gbdt'],\n",
    "        'models__max_depth': range(24, 25),\n",
    "        'models__n_estimators' : [200]\n",
    "    },\n",
    "     словарь для модели KNeighborsClassifier()\n",
    "    {\n",
    "        'models': [KNeighborsClassifier(n_neighbors=50)]\n",
    "    }\n",
    "]"
   ]
  },
  {
   "cell_type": "code",
   "execution_count": 20,
   "metadata": {},
   "outputs": [],
   "source": [
    "#кросс-валидация\n",
    "search_cv = RandomizedSearchCV(\n",
    "    pipe_final, \n",
    "    param_distributions, \n",
    "    cv=5, \n",
    "    scoring='f1', \n",
    "    n_jobs=-1,\n",
    "    error_score='raise',\n",
    "    random_state=RANDOM_STATE\n",
    ")"
   ]
  },
  {
   "cell_type": "code",
   "execution_count": 21,
   "metadata": {},
   "outputs": [
    {
     "name": "stderr",
     "output_type": "stream",
     "text": [
      "/opt/conda/lib/python3.9/site-packages/sklearn/model_selection/_search.py:318: UserWarning: The total space of parameters 1 is smaller than n_iter=10. Running 1 iterations. For exhaustive searches, use GridSearchCV.\n",
      "  warnings.warn(\n",
      "/opt/conda/lib/python3.9/site-packages/sklearn/linear_model/_logistic.py:1186: UserWarning: Setting penalty=None will ignore the C and l1_ratio parameters\n",
      "  warnings.warn(\n",
      "/opt/conda/lib/python3.9/site-packages/sklearn/linear_model/_logistic.py:1186: UserWarning: Setting penalty=None will ignore the C and l1_ratio parameters\n",
      "  warnings.warn(\n",
      "/opt/conda/lib/python3.9/site-packages/sklearn/linear_model/_logistic.py:1186: UserWarning: Setting penalty=None will ignore the C and l1_ratio parameters\n",
      "  warnings.warn(\n",
      "/opt/conda/lib/python3.9/site-packages/sklearn/linear_model/_logistic.py:1186: UserWarning: Setting penalty=None will ignore the C and l1_ratio parameters\n",
      "  warnings.warn(\n",
      "/opt/conda/lib/python3.9/site-packages/sklearn/linear_model/_logistic.py:1186: UserWarning: Setting penalty=None will ignore the C and l1_ratio parameters\n",
      "  warnings.warn(\n",
      "/opt/conda/lib/python3.9/site-packages/sklearn/linear_model/_logistic.py:1186: UserWarning: Setting penalty=None will ignore the C and l1_ratio parameters\n",
      "  warnings.warn(\n"
     ]
    }
   ],
   "source": [
    "#обучение модели кросс-валидации\n",
    "search_cv.fit(X_train, y_train);"
   ]
  },
  {
   "cell_type": "code",
   "execution_count": 22,
   "metadata": {
    "scrolled": true
   },
   "outputs": [
    {
     "name": "stdout",
     "output_type": "stream",
     "text": [
      "Метрика лучшей модели на тренировочной выборке: 0.7532680275431878\n",
      "Метрика f1 на тестовой выборке: 0.7612529613056067\n"
     ]
    }
   ],
   "source": [
    "#вывод метрики для лучшей модели на теринировочной выборке\n",
    "print ('Метрика лучшей модели на тренировочной выборке:', search_cv.best_score_)\n",
    "\n",
    "# предсказание на тестовых данных и вывод метрики для предсказания\n",
    "y_test_pred = search_cv.predict(X_test)\n",
    "print(f'Метрика f1 на тестовой выборке: {f1_score(y_test, y_test_pred)}')"
   ]
  },
  {
   "cell_type": "code",
   "execution_count": 23,
   "metadata": {},
   "outputs": [
    {
     "name": "stdout",
     "output_type": "stream",
     "text": [
      "Лучшая модель и её параметры:\n",
      "\n",
      " Pipeline(steps=[('models', LogisticRegression(C=7, penalty=None))])\n"
     ]
    }
   ],
   "source": [
    "#вывод лучшей модели\n",
    "print('Лучшая модель и её параметры:\\n\\n', search_cv.best_estimator_)"
   ]
  },
  {
   "cell_type": "markdown",
   "metadata": {},
   "source": [
    "**Вывод**\n",
    "\n",
    "Был собран пайплайн, проведена кросс-валидация и оценено предсказание на обученной модели.\n",
    "\n",
    "В результате лучшей моделью стала: LogisticRegression() со следующими параметрами: C=7, penalty=None\n",
    "\n",
    "На модели были получены следующие метрики:\n",
    "- Метрика f1 лучшей модели на тренировочной выборке: 0.753\n",
    "- Метрика f1 на тестовой выборке: 0.761"
   ]
  },
  {
   "cell_type": "markdown",
   "metadata": {},
   "source": [
    "## Выводы"
   ]
  },
  {
   "cell_type": "markdown",
   "metadata": {},
   "source": [
    "От заказчика получен датасет toxic_comments.csv, который содержит 159 292 записей. В связи с невозможностью обрабатывать большие объемы текстов, пришлось сократить количество записей в датасете для обучения и тестирования до 4000. \n",
    "\n",
    "Была проведена лемматизация и очистка данных с последующим удалением образовавшихся дубликатов\n",
    "\n",
    "Был собран пайплайн, проведена кросс-валидация и оценено предсказание на обученной модели.\n",
    "\n",
    "В результате лучшей моделью была выбрана: LogisticRegression() со следующими параметрами: C=7, penalty=None\n",
    "\n",
    "На модели были получены следующие метрики:\n",
    "- Метрика f1 лучшей модели на тренировочной выборке: 0.753\n",
    "- Метрика f1 на тестовой выборке: 0.761"
   ]
  },
  {
   "cell_type": "code",
   "execution_count": null,
   "metadata": {},
   "outputs": [],
   "source": []
  }
 ],
 "metadata": {
  "ExecuteTimeLog": [
   {
    "duration": 6226,
    "start_time": "2024-03-16T19:46:43.038Z"
   },
   {
    "duration": 1380,
    "start_time": "2024-03-16T19:46:49.266Z"
   },
   {
    "duration": 0,
    "start_time": "2024-03-16T19:46:50.647Z"
   },
   {
    "duration": 0,
    "start_time": "2024-03-16T19:46:50.648Z"
   },
   {
    "duration": 56,
    "start_time": "2024-03-16T19:47:32.918Z"
   },
   {
    "duration": 2,
    "start_time": "2024-03-16T19:47:41.949Z"
   },
   {
    "duration": 2224,
    "start_time": "2024-03-16T19:47:42.205Z"
   },
   {
    "duration": 4,
    "start_time": "2024-03-16T19:48:19.182Z"
   },
   {
    "duration": 23,
    "start_time": "2024-03-16T19:54:16.980Z"
   },
   {
    "duration": 830,
    "start_time": "2024-03-16T19:56:40.021Z"
   },
   {
    "duration": 221,
    "start_time": "2024-03-16T19:58:07.108Z"
   },
   {
    "duration": 68,
    "start_time": "2024-03-16T19:59:52.845Z"
   },
   {
    "duration": 18,
    "start_time": "2024-03-16T20:01:23.470Z"
   },
   {
    "duration": 13,
    "start_time": "2024-03-16T20:02:39.493Z"
   },
   {
    "duration": 4,
    "start_time": "2024-03-16T20:02:48.182Z"
   },
   {
    "duration": 8,
    "start_time": "2024-03-16T20:02:53.150Z"
   },
   {
    "duration": 579,
    "start_time": "2024-03-16T20:03:30.990Z"
   },
   {
    "duration": 193730,
    "start_time": "2024-03-16T20:03:34.863Z"
   },
   {
    "duration": 2896,
    "start_time": "2024-03-16T20:10:53.611Z"
   },
   {
    "duration": 2175,
    "start_time": "2024-03-16T20:10:56.509Z"
   },
   {
    "duration": 3,
    "start_time": "2024-03-16T20:10:58.686Z"
   },
   {
    "duration": 2265,
    "start_time": "2024-03-16T20:10:58.690Z"
   },
   {
    "duration": 26,
    "start_time": "2024-03-16T20:11:00.956Z"
   },
   {
    "duration": 240,
    "start_time": "2024-03-16T20:11:00.983Z"
   },
   {
    "duration": 77,
    "start_time": "2024-03-16T20:11:01.225Z"
   },
   {
    "duration": 197680,
    "start_time": "2024-03-16T20:11:01.303Z"
   },
   {
    "duration": 2868,
    "start_time": "2024-03-16T20:20:46.920Z"
   },
   {
    "duration": 2488,
    "start_time": "2024-03-16T20:20:49.790Z"
   },
   {
    "duration": 2,
    "start_time": "2024-03-16T20:20:52.279Z"
   },
   {
    "duration": 2267,
    "start_time": "2024-03-16T20:20:52.283Z"
   },
   {
    "duration": 3,
    "start_time": "2024-03-16T20:21:12.815Z"
   },
   {
    "duration": 134,
    "start_time": "2024-03-18T12:56:24.257Z"
   },
   {
    "duration": 3004,
    "start_time": "2024-03-18T12:56:37.126Z"
   },
   {
    "duration": 1837,
    "start_time": "2024-03-18T12:56:40.133Z"
   },
   {
    "duration": 2,
    "start_time": "2024-03-18T12:56:41.972Z"
   },
   {
    "duration": 873,
    "start_time": "2024-03-18T12:56:41.975Z"
   },
   {
    "duration": 4,
    "start_time": "2024-03-18T12:56:42.850Z"
   },
   {
    "duration": 30,
    "start_time": "2024-03-18T12:56:42.856Z"
   },
   {
    "duration": 229,
    "start_time": "2024-03-18T12:56:42.902Z"
   },
   {
    "duration": 81,
    "start_time": "2024-03-18T12:56:43.133Z"
   },
   {
    "duration": 120,
    "start_time": "2024-03-18T12:56:46.864Z"
   },
   {
    "duration": 23,
    "start_time": "2024-03-18T12:56:55.120Z"
   },
   {
    "duration": 13,
    "start_time": "2024-03-18T12:57:05.576Z"
   },
   {
    "duration": 20,
    "start_time": "2024-03-18T12:57:49.416Z"
   },
   {
    "duration": 11,
    "start_time": "2024-03-18T12:57:50.423Z"
   },
   {
    "duration": 64,
    "start_time": "2024-03-18T12:59:06.912Z"
   },
   {
    "duration": 34,
    "start_time": "2024-03-18T13:00:08.814Z"
   },
   {
    "duration": 9522,
    "start_time": "2024-03-18T13:00:22.942Z"
   },
   {
    "duration": 32288,
    "start_time": "2024-03-18T13:00:52.870Z"
   },
   {
    "duration": 855,
    "start_time": "2024-03-18T13:02:25.519Z"
   },
   {
    "duration": 4092,
    "start_time": "2024-03-18T13:25:55.043Z"
   },
   {
    "duration": 289,
    "start_time": "2024-03-18T13:31:27.258Z"
   },
   {
    "duration": 2974,
    "start_time": "2024-03-18T13:31:35.394Z"
   },
   {
    "duration": 5,
    "start_time": "2024-03-18T13:31:38.371Z"
   },
   {
    "duration": 8,
    "start_time": "2024-03-18T13:31:38.377Z"
   },
   {
    "duration": 2194,
    "start_time": "2024-03-18T13:31:38.386Z"
   },
   {
    "duration": 3,
    "start_time": "2024-03-18T13:31:40.582Z"
   },
   {
    "duration": 29,
    "start_time": "2024-03-18T13:31:40.586Z"
   },
   {
    "duration": 213,
    "start_time": "2024-03-18T13:31:40.617Z"
   },
   {
    "duration": 71,
    "start_time": "2024-03-18T13:31:40.831Z"
   },
   {
    "duration": 30,
    "start_time": "2024-03-18T13:31:40.904Z"
   },
   {
    "duration": 2,
    "start_time": "2024-03-18T13:31:43.235Z"
   },
   {
    "duration": 91,
    "start_time": "2024-03-18T13:31:45.867Z"
   },
   {
    "duration": 13463,
    "start_time": "2024-03-18T13:32:24.172Z"
   },
   {
    "duration": 4417,
    "start_time": "2024-03-18T13:34:46.312Z"
   },
   {
    "duration": 9624,
    "start_time": "2024-03-18T13:35:04.873Z"
   },
   {
    "duration": 6,
    "start_time": "2024-03-18T13:35:27.089Z"
   },
   {
    "duration": 2,
    "start_time": "2024-03-18T13:35:29.593Z"
   },
   {
    "duration": 798,
    "start_time": "2024-03-18T13:35:29.937Z"
   },
   {
    "duration": 4,
    "start_time": "2024-03-18T13:35:32.220Z"
   },
   {
    "duration": 23,
    "start_time": "2024-03-18T13:35:35.185Z"
   },
   {
    "duration": 210,
    "start_time": "2024-03-18T13:35:37.322Z"
   },
   {
    "duration": 69,
    "start_time": "2024-03-18T13:35:37.777Z"
   },
   {
    "duration": 34,
    "start_time": "2024-03-18T13:35:42.194Z"
   },
   {
    "duration": 42,
    "start_time": "2024-03-18T13:35:44.988Z"
   },
   {
    "duration": 71,
    "start_time": "2024-03-18T13:35:45.849Z"
   },
   {
    "duration": 415,
    "start_time": "2024-03-18T13:36:10.746Z"
   },
   {
    "duration": 10,
    "start_time": "2024-03-18T13:36:15.490Z"
   },
   {
    "duration": 4,
    "start_time": "2024-03-18T13:36:19.266Z"
   },
   {
    "duration": 2,
    "start_time": "2024-03-18T13:37:21.084Z"
   },
   {
    "duration": 3,
    "start_time": "2024-03-18T13:37:24.260Z"
   },
   {
    "duration": 3,
    "start_time": "2024-03-18T13:37:36.756Z"
   },
   {
    "duration": 15,
    "start_time": "2024-03-18T13:38:54.277Z"
   },
   {
    "duration": 14,
    "start_time": "2024-03-18T13:39:00.917Z"
   },
   {
    "duration": 8,
    "start_time": "2024-03-18T13:39:14.270Z"
   },
   {
    "duration": 4,
    "start_time": "2024-03-18T13:39:42.318Z"
   },
   {
    "duration": 131,
    "start_time": "2024-03-18T13:40:49.631Z"
   },
   {
    "duration": 25,
    "start_time": "2024-03-18T13:41:39.168Z"
   },
   {
    "duration": 6,
    "start_time": "2024-03-18T13:42:32.041Z"
   },
   {
    "duration": 4,
    "start_time": "2024-03-18T13:44:58.554Z"
   },
   {
    "duration": 4,
    "start_time": "2024-03-18T13:45:03.835Z"
   },
   {
    "duration": 18,
    "start_time": "2024-03-18T13:48:51.101Z"
   },
   {
    "duration": 12,
    "start_time": "2024-03-18T13:49:11.149Z"
   },
   {
    "duration": 19,
    "start_time": "2024-03-18T13:49:32.279Z"
   },
   {
    "duration": 13,
    "start_time": "2024-03-18T13:49:51.965Z"
   },
   {
    "duration": 3,
    "start_time": "2024-03-18T13:49:56.110Z"
   },
   {
    "duration": 15,
    "start_time": "2024-03-18T13:50:09.309Z"
   },
   {
    "duration": 9,
    "start_time": "2024-03-18T13:50:21.981Z"
   },
   {
    "duration": 21,
    "start_time": "2024-03-18T13:50:55.862Z"
   },
   {
    "duration": 23,
    "start_time": "2024-03-18T13:51:16.502Z"
   },
   {
    "duration": 3,
    "start_time": "2024-03-18T13:51:24.758Z"
   },
   {
    "duration": 415,
    "start_time": "2024-03-18T13:51:25.278Z"
   },
   {
    "duration": 11,
    "start_time": "2024-03-18T13:51:25.694Z"
   },
   {
    "duration": 14,
    "start_time": "2024-03-18T13:51:33.654Z"
   },
   {
    "duration": 7,
    "start_time": "2024-03-18T13:51:47.079Z"
   },
   {
    "duration": 3,
    "start_time": "2024-03-18T13:51:50.913Z"
   },
   {
    "duration": 3,
    "start_time": "2024-03-18T13:51:57.054Z"
   },
   {
    "duration": 4,
    "start_time": "2024-03-18T13:52:02.278Z"
   },
   {
    "duration": 31,
    "start_time": "2024-03-18T13:52:13.894Z"
   },
   {
    "duration": 33946,
    "start_time": "2024-03-18T13:52:24.870Z"
   },
   {
    "duration": 5997,
    "start_time": "2024-03-18T19:06:11.039Z"
   },
   {
    "duration": 3454,
    "start_time": "2024-03-18T19:06:17.038Z"
   },
   {
    "duration": 3,
    "start_time": "2024-03-18T19:06:20.494Z"
   },
   {
    "duration": 806,
    "start_time": "2024-03-18T19:06:20.499Z"
   },
   {
    "duration": 4,
    "start_time": "2024-03-18T19:06:21.306Z"
   },
   {
    "duration": 62,
    "start_time": "2024-03-18T19:06:21.311Z"
   },
   {
    "duration": 225,
    "start_time": "2024-03-18T19:06:21.375Z"
   },
   {
    "duration": 68,
    "start_time": "2024-03-18T19:06:21.601Z"
   },
   {
    "duration": 43,
    "start_time": "2024-03-18T19:06:21.671Z"
   },
   {
    "duration": 3,
    "start_time": "2024-03-18T19:06:21.715Z"
   },
   {
    "duration": 467,
    "start_time": "2024-03-18T19:06:21.719Z"
   },
   {
    "duration": 32731,
    "start_time": "2024-03-18T19:06:25.082Z"
   },
   {
    "duration": 134,
    "start_time": "2024-03-18T19:07:33.059Z"
   },
   {
    "duration": 238,
    "start_time": "2024-03-18T19:08:18.242Z"
   },
   {
    "duration": 215,
    "start_time": "2024-03-18T19:10:25.525Z"
   },
   {
    "duration": 385,
    "start_time": "2024-03-18T19:13:47.548Z"
   },
   {
    "duration": 3,
    "start_time": "2024-03-18T19:15:03.157Z"
   },
   {
    "duration": 451,
    "start_time": "2024-03-18T19:15:04.956Z"
   },
   {
    "duration": 33277,
    "start_time": "2024-03-18T19:15:06.303Z"
   },
   {
    "duration": 3,
    "start_time": "2024-03-18T19:15:39.582Z"
   },
   {
    "duration": 242,
    "start_time": "2024-03-18T19:15:39.586Z"
   },
   {
    "duration": 384,
    "start_time": "2024-03-18T19:15:43.164Z"
   },
   {
    "duration": 5,
    "start_time": "2024-03-18T19:18:24.236Z"
   },
   {
    "duration": 293,
    "start_time": "2024-03-18T19:20:48.679Z"
   },
   {
    "duration": 25,
    "start_time": "2024-03-18T19:21:50.264Z"
   },
   {
    "duration": 26,
    "start_time": "2024-03-18T19:22:22.599Z"
   },
   {
    "duration": 21,
    "start_time": "2024-03-18T19:22:54.599Z"
   },
   {
    "duration": 27,
    "start_time": "2024-03-18T19:25:29.680Z"
   },
   {
    "duration": 70,
    "start_time": "2024-03-18T19:25:48.736Z"
   },
   {
    "duration": 24,
    "start_time": "2024-03-18T19:26:24.361Z"
   },
   {
    "duration": 35,
    "start_time": "2024-03-18T19:26:32.391Z"
   },
   {
    "duration": 33420,
    "start_time": "2024-03-18T19:27:39.520Z"
   },
   {
    "duration": 0,
    "start_time": "2024-03-18T19:30:36.435Z"
   },
   {
    "duration": 33447,
    "start_time": "2024-03-18T19:30:39.809Z"
   },
   {
    "duration": 29797,
    "start_time": "2024-03-18T19:31:37.158Z"
   },
   {
    "duration": 227,
    "start_time": "2024-03-18T19:33:43.554Z"
   },
   {
    "duration": 416,
    "start_time": "2024-03-18T19:33:48.658Z"
   },
   {
    "duration": 6255,
    "start_time": "2024-03-18T19:36:55.489Z"
   },
   {
    "duration": 5033,
    "start_time": "2024-03-18T19:37:01.746Z"
   },
   {
    "duration": 2,
    "start_time": "2024-03-18T19:37:06.780Z"
   },
   {
    "duration": 2224,
    "start_time": "2024-03-18T19:37:06.784Z"
   },
   {
    "duration": 5,
    "start_time": "2024-03-18T19:37:09.009Z"
   },
   {
    "duration": 39,
    "start_time": "2024-03-18T19:37:09.015Z"
   },
   {
    "duration": 232,
    "start_time": "2024-03-18T19:37:09.056Z"
   },
   {
    "duration": 69,
    "start_time": "2024-03-18T19:37:09.289Z"
   },
   {
    "duration": 69,
    "start_time": "2024-03-18T19:37:09.360Z"
   },
   {
    "duration": 3,
    "start_time": "2024-03-18T19:37:09.431Z"
   },
   {
    "duration": 433,
    "start_time": "2024-03-18T19:37:09.435Z"
   },
   {
    "duration": 34331,
    "start_time": "2024-03-18T19:37:09.870Z"
   },
   {
    "duration": 133,
    "start_time": "2024-03-18T19:37:44.203Z"
   },
   {
    "duration": 224,
    "start_time": "2024-03-18T19:37:44.337Z"
   },
   {
    "duration": 415,
    "start_time": "2024-03-18T19:37:44.563Z"
   },
   {
    "duration": 1461,
    "start_time": "2024-03-18T19:37:44.980Z"
   },
   {
    "duration": 49,
    "start_time": "2024-03-18T19:38:44.751Z"
   },
   {
    "duration": 6199,
    "start_time": "2024-03-18T19:38:53.105Z"
   },
   {
    "duration": 6070,
    "start_time": "2024-03-18T19:38:59.306Z"
   },
   {
    "duration": 2,
    "start_time": "2024-03-18T19:39:05.377Z"
   },
   {
    "duration": 2163,
    "start_time": "2024-03-18T19:39:05.381Z"
   },
   {
    "duration": 4,
    "start_time": "2024-03-18T19:39:07.545Z"
   },
   {
    "duration": 28,
    "start_time": "2024-03-18T19:39:07.550Z"
   },
   {
    "duration": 230,
    "start_time": "2024-03-18T19:39:07.580Z"
   },
   {
    "duration": 89,
    "start_time": "2024-03-18T19:39:07.812Z"
   },
   {
    "duration": 30,
    "start_time": "2024-03-18T19:39:07.902Z"
   },
   {
    "duration": 3,
    "start_time": "2024-03-18T19:39:07.935Z"
   },
   {
    "duration": 471,
    "start_time": "2024-03-18T19:39:07.940Z"
   },
   {
    "duration": 34408,
    "start_time": "2024-03-18T19:39:08.412Z"
   },
   {
    "duration": 207,
    "start_time": "2024-03-18T19:39:42.822Z"
   },
   {
    "duration": 231,
    "start_time": "2024-03-18T19:39:43.030Z"
   },
   {
    "duration": 408,
    "start_time": "2024-03-18T19:39:43.262Z"
   },
   {
    "duration": 6122,
    "start_time": "2024-03-18T19:40:09.772Z"
   },
   {
    "duration": 5034,
    "start_time": "2024-03-18T19:40:15.897Z"
   },
   {
    "duration": 3,
    "start_time": "2024-03-18T19:40:20.932Z"
   },
   {
    "duration": 2265,
    "start_time": "2024-03-18T19:40:20.936Z"
   },
   {
    "duration": 4,
    "start_time": "2024-03-18T19:40:23.203Z"
   },
   {
    "duration": 30,
    "start_time": "2024-03-18T19:40:23.208Z"
   },
   {
    "duration": 227,
    "start_time": "2024-03-18T19:40:23.240Z"
   },
   {
    "duration": 76,
    "start_time": "2024-03-18T19:40:23.468Z"
   },
   {
    "duration": 36,
    "start_time": "2024-03-18T19:40:23.546Z"
   },
   {
    "duration": 3,
    "start_time": "2024-03-18T19:40:23.584Z"
   },
   {
    "duration": 515,
    "start_time": "2024-03-18T19:40:23.588Z"
   },
   {
    "duration": 10393,
    "start_time": "2024-03-18T19:40:24.104Z"
   },
   {
    "duration": 121,
    "start_time": "2024-03-18T19:40:34.499Z"
   },
   {
    "duration": 72,
    "start_time": "2024-03-18T19:40:34.622Z"
   },
   {
    "duration": 116,
    "start_time": "2024-03-18T19:40:34.696Z"
   },
   {
    "duration": 21,
    "start_time": "2024-03-18T19:40:34.814Z"
   },
   {
    "duration": 28,
    "start_time": "2024-03-18T20:00:37.421Z"
   },
   {
    "duration": 127,
    "start_time": "2024-03-18T20:01:42.782Z"
   },
   {
    "duration": 68,
    "start_time": "2024-03-18T20:02:46.221Z"
   },
   {
    "duration": 3,
    "start_time": "2024-03-18T20:16:39.586Z"
   },
   {
    "duration": 289,
    "start_time": "2024-03-18T20:16:43.509Z"
   },
   {
    "duration": 77,
    "start_time": "2024-03-18T20:17:53.053Z"
   },
   {
    "duration": 18,
    "start_time": "2024-03-18T20:18:00.911Z"
   },
   {
    "duration": 4,
    "start_time": "2024-03-18T20:19:09.350Z"
   },
   {
    "duration": 3,
    "start_time": "2024-03-18T20:21:06.095Z"
   },
   {
    "duration": 5,
    "start_time": "2024-03-18T20:21:22.623Z"
   },
   {
    "duration": 3,
    "start_time": "2024-03-18T20:21:30.151Z"
   },
   {
    "duration": 38511,
    "start_time": "2024-03-18T20:21:34.710Z"
   },
   {
    "duration": 63,
    "start_time": "2024-03-18T20:22:21.240Z"
   },
   {
    "duration": 35,
    "start_time": "2024-03-18T20:22:26.368Z"
   },
   {
    "duration": 26,
    "start_time": "2024-03-18T20:22:30.976Z"
   },
   {
    "duration": 2,
    "start_time": "2024-03-18T20:23:29.544Z"
   },
   {
    "duration": 4,
    "start_time": "2024-03-18T20:23:29.904Z"
   },
   {
    "duration": 6,
    "start_time": "2024-03-18T20:23:30.361Z"
   },
   {
    "duration": 37686,
    "start_time": "2024-03-18T20:23:31.455Z"
   },
   {
    "duration": 66,
    "start_time": "2024-03-18T20:24:09.142Z"
   },
   {
    "duration": 6,
    "start_time": "2024-03-18T20:24:09.210Z"
   },
   {
    "duration": 29,
    "start_time": "2024-03-18T20:24:09.217Z"
   },
   {
    "duration": 61,
    "start_time": "2024-03-18T20:24:36.320Z"
   },
   {
    "duration": 3,
    "start_time": "2024-03-18T20:27:06.841Z"
   },
   {
    "duration": 3,
    "start_time": "2024-03-18T20:27:07.329Z"
   },
   {
    "duration": 39301,
    "start_time": "2024-03-18T20:27:08.017Z"
   },
   {
    "duration": 56,
    "start_time": "2024-03-18T20:27:47.319Z"
   },
   {
    "duration": 4,
    "start_time": "2024-03-18T20:27:47.377Z"
   },
   {
    "duration": 50,
    "start_time": "2024-03-18T20:27:47.383Z"
   },
   {
    "duration": 3,
    "start_time": "2024-03-18T20:28:47.091Z"
   },
   {
    "duration": 3,
    "start_time": "2024-03-18T20:28:47.450Z"
   },
   {
    "duration": 55970,
    "start_time": "2024-03-18T20:28:47.946Z"
   },
   {
    "duration": 54,
    "start_time": "2024-03-18T20:29:43.917Z"
   },
   {
    "duration": 4,
    "start_time": "2024-03-18T20:29:43.973Z"
   },
   {
    "duration": 46,
    "start_time": "2024-03-18T20:29:43.978Z"
   },
   {
    "duration": 16,
    "start_time": "2024-03-18T20:32:11.427Z"
   },
   {
    "duration": 3,
    "start_time": "2024-03-18T20:32:23.825Z"
   },
   {
    "duration": 53,
    "start_time": "2024-03-19T10:21:11.145Z"
   },
   {
    "duration": 6170,
    "start_time": "2024-03-19T10:21:17.912Z"
   },
   {
    "duration": 5,
    "start_time": "2024-03-19T10:21:24.084Z"
   },
   {
    "duration": 39,
    "start_time": "2024-03-19T10:21:24.090Z"
   },
   {
    "duration": 847,
    "start_time": "2024-03-19T10:21:24.131Z"
   },
   {
    "duration": 4,
    "start_time": "2024-03-19T10:21:24.979Z"
   },
   {
    "duration": 65,
    "start_time": "2024-03-19T10:21:24.985Z"
   },
   {
    "duration": 202,
    "start_time": "2024-03-19T10:21:25.053Z"
   },
   {
    "duration": 70,
    "start_time": "2024-03-19T10:21:25.257Z"
   },
   {
    "duration": 23,
    "start_time": "2024-03-19T10:21:29.359Z"
   },
   {
    "duration": 6,
    "start_time": "2024-03-19T10:21:30.967Z"
   },
   {
    "duration": 399,
    "start_time": "2024-03-19T10:21:31.527Z"
   },
   {
    "duration": 29217,
    "start_time": "2024-03-19T10:21:34.038Z"
   },
   {
    "duration": 126,
    "start_time": "2024-03-19T10:22:03.256Z"
   },
   {
    "duration": 183,
    "start_time": "2024-03-19T10:22:03.384Z"
   },
   {
    "duration": 330,
    "start_time": "2024-03-19T10:22:03.568Z"
   },
   {
    "duration": 42,
    "start_time": "2024-03-19T10:22:25.703Z"
   },
   {
    "duration": 6151,
    "start_time": "2024-03-19T10:22:41.197Z"
   },
   {
    "duration": 5040,
    "start_time": "2024-03-19T10:22:47.350Z"
   },
   {
    "duration": 3,
    "start_time": "2024-03-19T10:22:52.391Z"
   },
   {
    "duration": 2238,
    "start_time": "2024-03-19T10:22:52.395Z"
   },
   {
    "duration": 3,
    "start_time": "2024-03-19T10:22:54.635Z"
   },
   {
    "duration": 39,
    "start_time": "2024-03-19T10:22:54.640Z"
   },
   {
    "duration": 214,
    "start_time": "2024-03-19T10:22:54.680Z"
   },
   {
    "duration": 69,
    "start_time": "2024-03-19T10:22:54.895Z"
   },
   {
    "duration": 88,
    "start_time": "2024-03-19T10:22:54.965Z"
   },
   {
    "duration": 14,
    "start_time": "2024-03-19T10:22:55.054Z"
   },
   {
    "duration": 523,
    "start_time": "2024-03-19T10:22:55.069Z"
   },
   {
    "duration": 11178,
    "start_time": "2024-03-19T10:22:55.594Z"
   },
   {
    "duration": 134,
    "start_time": "2024-03-19T10:23:06.773Z"
   },
   {
    "duration": 80,
    "start_time": "2024-03-19T10:23:06.909Z"
   },
   {
    "duration": 125,
    "start_time": "2024-03-19T10:23:06.991Z"
   },
   {
    "duration": 217,
    "start_time": "2024-03-19T10:23:07.118Z"
   },
   {
    "duration": 171,
    "start_time": "2024-03-19T10:23:07.337Z"
   },
   {
    "duration": 266,
    "start_time": "2024-03-19T10:23:07.509Z"
   },
   {
    "duration": 0,
    "start_time": "2024-03-19T10:23:07.776Z"
   },
   {
    "duration": 0,
    "start_time": "2024-03-19T10:23:07.778Z"
   },
   {
    "duration": 0,
    "start_time": "2024-03-19T10:23:07.779Z"
   },
   {
    "duration": 0,
    "start_time": "2024-03-19T10:23:07.780Z"
   },
   {
    "duration": 0,
    "start_time": "2024-03-19T10:23:07.782Z"
   },
   {
    "duration": 0,
    "start_time": "2024-03-19T10:23:07.783Z"
   },
   {
    "duration": 2,
    "start_time": "2024-03-19T10:23:47.310Z"
   },
   {
    "duration": 3,
    "start_time": "2024-03-19T10:23:48.374Z"
   },
   {
    "duration": 15,
    "start_time": "2024-03-19T10:23:48.862Z"
   },
   {
    "duration": 13,
    "start_time": "2024-03-19T10:23:49.814Z"
   },
   {
    "duration": 73,
    "start_time": "2024-03-19T10:24:18.462Z"
   },
   {
    "duration": 3,
    "start_time": "2024-03-19T10:24:23.182Z"
   },
   {
    "duration": 39419,
    "start_time": "2024-03-19T10:24:23.990Z"
   },
   {
    "duration": 122,
    "start_time": "2024-03-19T10:25:03.412Z"
   },
   {
    "duration": 7,
    "start_time": "2024-03-19T10:25:03.535Z"
   },
   {
    "duration": 72,
    "start_time": "2024-03-19T10:25:03.543Z"
   },
   {
    "duration": 16,
    "start_time": "2024-03-19T10:29:43.173Z"
   },
   {
    "duration": 14,
    "start_time": "2024-03-19T10:29:51.429Z"
   },
   {
    "duration": 461,
    "start_time": "2024-03-19T10:30:24.758Z"
   },
   {
    "duration": 5,
    "start_time": "2024-03-19T10:30:38.093Z"
   },
   {
    "duration": 6,
    "start_time": "2024-03-19T10:30:58.317Z"
   },
   {
    "duration": 9,
    "start_time": "2024-03-19T10:32:02.573Z"
   },
   {
    "duration": 4,
    "start_time": "2024-03-19T10:45:40.790Z"
   },
   {
    "duration": 1685,
    "start_time": "2024-03-19T10:54:14.573Z"
   },
   {
    "duration": 872,
    "start_time": "2024-03-19T10:55:23.486Z"
   },
   {
    "duration": 1218,
    "start_time": "2024-03-19T10:55:24.360Z"
   },
   {
    "duration": 960,
    "start_time": "2024-03-19T10:55:31.365Z"
   },
   {
    "duration": 2,
    "start_time": "2024-03-19T10:56:08.382Z"
   },
   {
    "duration": 942,
    "start_time": "2024-03-19T10:56:11.997Z"
   },
   {
    "duration": 6041,
    "start_time": "2024-03-19T10:57:46.153Z"
   },
   {
    "duration": 3548,
    "start_time": "2024-03-19T10:57:52.196Z"
   },
   {
    "duration": 2,
    "start_time": "2024-03-19T10:57:55.746Z"
   },
   {
    "duration": 799,
    "start_time": "2024-03-19T10:57:55.749Z"
   },
   {
    "duration": 52,
    "start_time": "2024-03-19T10:57:56.550Z"
   },
   {
    "duration": 222,
    "start_time": "2024-03-19T10:57:56.605Z"
   },
   {
    "duration": 73,
    "start_time": "2024-03-19T10:57:56.829Z"
   },
   {
    "duration": 3,
    "start_time": "2024-03-19T10:57:56.904Z"
   },
   {
    "duration": 28,
    "start_time": "2024-03-19T10:57:56.908Z"
   },
   {
    "duration": 3,
    "start_time": "2024-03-19T10:57:56.937Z"
   },
   {
    "duration": 458,
    "start_time": "2024-03-19T10:57:56.942Z"
   },
   {
    "duration": 11017,
    "start_time": "2024-03-19T10:57:57.402Z"
   },
   {
    "duration": 126,
    "start_time": "2024-03-19T10:58:08.420Z"
   },
   {
    "duration": 73,
    "start_time": "2024-03-19T10:58:08.547Z"
   },
   {
    "duration": 120,
    "start_time": "2024-03-19T10:58:08.621Z"
   },
   {
    "duration": 2177,
    "start_time": "2024-03-19T10:58:08.742Z"
   },
   {
    "duration": 4946,
    "start_time": "2024-03-19T11:00:00.642Z"
   },
   {
    "duration": 3574,
    "start_time": "2024-03-19T11:00:05.590Z"
   },
   {
    "duration": 4,
    "start_time": "2024-03-19T11:00:09.165Z"
   },
   {
    "duration": 836,
    "start_time": "2024-03-19T11:00:09.170Z"
   },
   {
    "duration": 30,
    "start_time": "2024-03-19T11:00:10.008Z"
   },
   {
    "duration": 251,
    "start_time": "2024-03-19T11:00:10.040Z"
   },
   {
    "duration": 88,
    "start_time": "2024-03-19T11:00:10.292Z"
   },
   {
    "duration": 60,
    "start_time": "2024-03-19T11:00:10.382Z"
   },
   {
    "duration": 33,
    "start_time": "2024-03-19T11:00:10.444Z"
   },
   {
    "duration": 12,
    "start_time": "2024-03-19T11:00:10.479Z"
   },
   {
    "duration": 432,
    "start_time": "2024-03-19T11:00:10.492Z"
   },
   {
    "duration": 10972,
    "start_time": "2024-03-19T11:00:10.926Z"
   },
   {
    "duration": 125,
    "start_time": "2024-03-19T11:00:21.899Z"
   },
   {
    "duration": 74,
    "start_time": "2024-03-19T11:00:22.027Z"
   },
   {
    "duration": 123,
    "start_time": "2024-03-19T11:00:22.103Z"
   },
   {
    "duration": 217,
    "start_time": "2024-03-19T11:00:22.227Z"
   },
   {
    "duration": 1649,
    "start_time": "2024-03-19T11:00:22.445Z"
   },
   {
    "duration": 978,
    "start_time": "2024-03-19T11:00:24.095Z"
   },
   {
    "duration": 173,
    "start_time": "2024-03-19T11:00:25.075Z"
   },
   {
    "duration": 3,
    "start_time": "2024-03-19T11:00:25.250Z"
   },
   {
    "duration": 14,
    "start_time": "2024-03-19T11:00:25.255Z"
   },
   {
    "duration": 8,
    "start_time": "2024-03-19T11:00:25.270Z"
   },
   {
    "duration": 6162,
    "start_time": "2024-03-19T11:01:20.659Z"
   },
   {
    "duration": 5823,
    "start_time": "2024-03-19T11:01:26.823Z"
   },
   {
    "duration": 2,
    "start_time": "2024-03-19T11:01:32.648Z"
   },
   {
    "duration": 2208,
    "start_time": "2024-03-19T11:01:32.652Z"
   },
   {
    "duration": 21,
    "start_time": "2024-03-19T11:01:34.862Z"
   },
   {
    "duration": 258,
    "start_time": "2024-03-19T11:01:34.885Z"
   },
   {
    "duration": 78,
    "start_time": "2024-03-19T11:01:35.144Z"
   },
   {
    "duration": 47,
    "start_time": "2024-03-19T11:01:35.223Z"
   },
   {
    "duration": 94,
    "start_time": "2024-03-19T11:01:35.271Z"
   },
   {
    "duration": 14,
    "start_time": "2024-03-19T11:01:35.367Z"
   },
   {
    "duration": 458,
    "start_time": "2024-03-19T11:01:35.382Z"
   },
   {
    "duration": 10877,
    "start_time": "2024-03-19T11:01:35.842Z"
   },
   {
    "duration": 137,
    "start_time": "2024-03-19T11:01:46.720Z"
   },
   {
    "duration": 73,
    "start_time": "2024-03-19T11:01:46.859Z"
   },
   {
    "duration": 121,
    "start_time": "2024-03-19T11:01:46.933Z"
   },
   {
    "duration": 222,
    "start_time": "2024-03-19T11:01:47.055Z"
   },
   {
    "duration": 1649,
    "start_time": "2024-03-19T11:01:47.278Z"
   },
   {
    "duration": 949,
    "start_time": "2024-03-19T11:01:48.928Z"
   },
   {
    "duration": 180,
    "start_time": "2024-03-19T11:01:49.879Z"
   },
   {
    "duration": 3,
    "start_time": "2024-03-19T11:01:50.060Z"
   },
   {
    "duration": 12,
    "start_time": "2024-03-19T11:01:50.064Z"
   },
   {
    "duration": 9,
    "start_time": "2024-03-19T11:01:50.078Z"
   },
   {
    "duration": 5916,
    "start_time": "2024-03-19T11:02:52.147Z"
   },
   {
    "duration": 5119,
    "start_time": "2024-03-19T11:02:58.065Z"
   },
   {
    "duration": 3,
    "start_time": "2024-03-19T11:03:03.185Z"
   },
   {
    "duration": 2227,
    "start_time": "2024-03-19T11:03:03.190Z"
   },
   {
    "duration": 26,
    "start_time": "2024-03-19T11:03:05.418Z"
   },
   {
    "duration": 228,
    "start_time": "2024-03-19T11:03:05.446Z"
   },
   {
    "duration": 71,
    "start_time": "2024-03-19T11:03:05.676Z"
   },
   {
    "duration": 39,
    "start_time": "2024-03-19T11:03:05.749Z"
   },
   {
    "duration": 32,
    "start_time": "2024-03-19T11:03:05.790Z"
   },
   {
    "duration": 2,
    "start_time": "2024-03-19T11:03:05.824Z"
   },
   {
    "duration": 473,
    "start_time": "2024-03-19T11:03:05.827Z"
   },
   {
    "duration": 10922,
    "start_time": "2024-03-19T11:03:06.301Z"
   },
   {
    "duration": 116,
    "start_time": "2024-03-19T11:03:17.224Z"
   },
   {
    "duration": 75,
    "start_time": "2024-03-19T11:03:17.341Z"
   },
   {
    "duration": 115,
    "start_time": "2024-03-19T11:03:17.417Z"
   },
   {
    "duration": 209,
    "start_time": "2024-03-19T11:03:17.533Z"
   },
   {
    "duration": 1670,
    "start_time": "2024-03-19T11:03:17.743Z"
   },
   {
    "duration": 987,
    "start_time": "2024-03-19T11:03:19.414Z"
   },
   {
    "duration": 159,
    "start_time": "2024-03-19T11:03:20.403Z"
   },
   {
    "duration": 3,
    "start_time": "2024-03-19T11:03:20.563Z"
   },
   {
    "duration": 11,
    "start_time": "2024-03-19T11:03:20.567Z"
   },
   {
    "duration": 6,
    "start_time": "2024-03-19T11:03:20.579Z"
   },
   {
    "duration": 42,
    "start_time": "2024-03-19T11:03:57.317Z"
   },
   {
    "duration": 6057,
    "start_time": "2024-03-19T11:04:04.757Z"
   },
   {
    "duration": 4891,
    "start_time": "2024-03-19T11:04:10.816Z"
   },
   {
    "duration": 2,
    "start_time": "2024-03-19T11:04:15.709Z"
   },
   {
    "duration": 2189,
    "start_time": "2024-03-19T11:04:15.712Z"
   },
   {
    "duration": 25,
    "start_time": "2024-03-19T11:04:17.903Z"
   },
   {
    "duration": 230,
    "start_time": "2024-03-19T11:04:17.930Z"
   },
   {
    "duration": 68,
    "start_time": "2024-03-19T11:04:18.162Z"
   },
   {
    "duration": 23,
    "start_time": "2024-03-19T11:04:18.232Z"
   },
   {
    "duration": 28,
    "start_time": "2024-03-19T11:04:18.257Z"
   },
   {
    "duration": 3,
    "start_time": "2024-03-19T11:04:18.287Z"
   },
   {
    "duration": 456,
    "start_time": "2024-03-19T11:04:18.291Z"
   },
   {
    "duration": 8694,
    "start_time": "2024-03-19T11:04:18.749Z"
   },
   {
    "duration": 132,
    "start_time": "2024-03-19T11:04:27.444Z"
   },
   {
    "duration": 63,
    "start_time": "2024-03-19T11:04:27.578Z"
   },
   {
    "duration": 93,
    "start_time": "2024-03-19T11:04:27.642Z"
   },
   {
    "duration": 105,
    "start_time": "2024-03-19T11:04:27.737Z"
   },
   {
    "duration": 1386,
    "start_time": "2024-03-19T11:04:27.843Z"
   },
   {
    "duration": 768,
    "start_time": "2024-03-19T11:04:29.231Z"
   },
   {
    "duration": 119,
    "start_time": "2024-03-19T11:04:30.001Z"
   },
   {
    "duration": 2,
    "start_time": "2024-03-19T11:04:30.122Z"
   },
   {
    "duration": 59,
    "start_time": "2024-03-19T11:04:30.125Z"
   },
   {
    "duration": 66,
    "start_time": "2024-03-19T11:04:30.185Z"
   },
   {
    "duration": 27754,
    "start_time": "2024-03-19T11:04:30.252Z"
   },
   {
    "duration": 119,
    "start_time": "2024-03-19T11:04:58.007Z"
   },
   {
    "duration": 7,
    "start_time": "2024-03-19T11:04:58.128Z"
   },
   {
    "duration": 64,
    "start_time": "2024-03-19T11:04:58.149Z"
   },
   {
    "duration": 6012,
    "start_time": "2024-03-19T11:06:23.142Z"
   },
   {
    "duration": 3448,
    "start_time": "2024-03-19T11:06:29.156Z"
   },
   {
    "duration": 2,
    "start_time": "2024-03-19T11:06:32.605Z"
   },
   {
    "duration": 810,
    "start_time": "2024-03-19T11:06:32.609Z"
   },
   {
    "duration": 24,
    "start_time": "2024-03-19T11:06:33.420Z"
   },
   {
    "duration": 217,
    "start_time": "2024-03-19T11:06:33.446Z"
   },
   {
    "duration": 68,
    "start_time": "2024-03-19T11:06:33.665Z"
   },
   {
    "duration": 26,
    "start_time": "2024-03-19T11:06:33.734Z"
   },
   {
    "duration": 23,
    "start_time": "2024-03-19T11:06:33.761Z"
   },
   {
    "duration": 3,
    "start_time": "2024-03-19T11:06:33.786Z"
   },
   {
    "duration": 430,
    "start_time": "2024-03-19T11:06:33.790Z"
   },
   {
    "duration": 9812,
    "start_time": "2024-03-19T11:06:34.221Z"
   },
   {
    "duration": 133,
    "start_time": "2024-03-19T11:06:44.034Z"
   },
   {
    "duration": 96,
    "start_time": "2024-03-19T11:06:44.169Z"
   },
   {
    "duration": 109,
    "start_time": "2024-03-19T11:06:44.266Z"
   },
   {
    "duration": 154,
    "start_time": "2024-03-19T11:06:44.376Z"
   },
   {
    "duration": 1615,
    "start_time": "2024-03-19T11:06:44.532Z"
   },
   {
    "duration": 909,
    "start_time": "2024-03-19T11:06:46.148Z"
   },
   {
    "duration": 138,
    "start_time": "2024-03-19T11:06:47.058Z"
   },
   {
    "duration": 2,
    "start_time": "2024-03-19T11:06:47.202Z"
   },
   {
    "duration": 7,
    "start_time": "2024-03-19T11:06:47.205Z"
   },
   {
    "duration": 13,
    "start_time": "2024-03-19T11:06:47.213Z"
   },
   {
    "duration": 35092,
    "start_time": "2024-03-19T11:06:47.227Z"
   },
   {
    "duration": 135,
    "start_time": "2024-03-19T11:07:22.321Z"
   },
   {
    "duration": 45,
    "start_time": "2024-03-19T11:07:22.457Z"
   },
   {
    "duration": 40,
    "start_time": "2024-03-19T11:07:22.504Z"
   },
   {
    "duration": 9006,
    "start_time": "2024-03-19T11:58:52.354Z"
   },
   {
    "duration": 6010,
    "start_time": "2024-03-19T11:59:01.362Z"
   },
   {
    "duration": 2,
    "start_time": "2024-03-19T11:59:07.374Z"
   },
   {
    "duration": 2445,
    "start_time": "2024-03-19T11:59:07.378Z"
   },
   {
    "duration": 39,
    "start_time": "2024-03-19T11:59:09.825Z"
   },
   {
    "duration": 251,
    "start_time": "2024-03-19T11:59:09.866Z"
   },
   {
    "duration": 82,
    "start_time": "2024-03-19T11:59:10.118Z"
   },
   {
    "duration": 18,
    "start_time": "2024-03-19T11:59:10.201Z"
   },
   {
    "duration": 28,
    "start_time": "2024-03-19T11:59:10.221Z"
   },
   {
    "duration": 3,
    "start_time": "2024-03-19T11:59:10.251Z"
   },
   {
    "duration": 871,
    "start_time": "2024-03-19T11:59:10.256Z"
   },
   {
    "duration": 64,
    "start_time": "2024-03-19T11:59:11.128Z"
   },
   {
    "duration": 345,
    "start_time": "2024-03-19T11:59:11.194Z"
   },
   {
    "duration": 4,
    "start_time": "2024-03-19T11:59:32.770Z"
   },
   {
    "duration": 228,
    "start_time": "2024-03-19T11:59:47.233Z"
   },
   {
    "duration": 7,
    "start_time": "2024-03-19T11:59:54.874Z"
   },
   {
    "duration": 24,
    "start_time": "2024-03-19T12:00:04.472Z"
   },
   {
    "duration": 81,
    "start_time": "2024-03-19T13:37:19.244Z"
   },
   {
    "duration": 194,
    "start_time": "2024-03-19T13:39:21.575Z"
   },
   {
    "duration": 10473,
    "start_time": "2024-03-19T18:46:30.285Z"
   },
   {
    "duration": 4304,
    "start_time": "2024-03-19T18:46:40.761Z"
   },
   {
    "duration": 3,
    "start_time": "2024-03-19T18:46:45.067Z"
   },
   {
    "duration": 2374,
    "start_time": "2024-03-19T18:46:45.071Z"
   },
   {
    "duration": 33,
    "start_time": "2024-03-19T18:46:47.446Z"
   },
   {
    "duration": 229,
    "start_time": "2024-03-19T18:46:47.481Z"
   },
   {
    "duration": 72,
    "start_time": "2024-03-19T18:46:47.712Z"
   },
   {
    "duration": 12,
    "start_time": "2024-03-19T18:46:47.786Z"
   },
   {
    "duration": 25,
    "start_time": "2024-03-19T18:47:21.409Z"
   },
   {
    "duration": 31,
    "start_time": "2024-03-19T18:47:27.800Z"
   },
   {
    "duration": 5,
    "start_time": "2024-03-19T18:47:45.074Z"
   },
   {
    "duration": 332,
    "start_time": "2024-03-19T18:48:11.488Z"
   },
   {
    "duration": 38,
    "start_time": "2024-03-19T18:48:32.666Z"
   },
   {
    "duration": 43,
    "start_time": "2024-03-19T18:48:38.073Z"
   },
   {
    "duration": 38,
    "start_time": "2024-03-19T18:48:47.931Z"
   },
   {
    "duration": 32,
    "start_time": "2024-03-19T18:48:53.214Z"
   },
   {
    "duration": 16,
    "start_time": "2024-03-19T18:49:18.304Z"
   },
   {
    "duration": 4,
    "start_time": "2024-03-19T18:49:22.065Z"
   },
   {
    "duration": 13,
    "start_time": "2024-03-19T18:58:17.157Z"
   },
   {
    "duration": 13,
    "start_time": "2024-03-19T18:58:33.229Z"
   },
   {
    "duration": 22,
    "start_time": "2024-03-19T18:58:55.229Z"
   },
   {
    "duration": 22,
    "start_time": "2024-03-19T18:59:09.030Z"
   },
   {
    "duration": 14,
    "start_time": "2024-03-19T18:59:18.398Z"
   },
   {
    "duration": 16,
    "start_time": "2024-03-19T19:02:44.559Z"
   },
   {
    "duration": 5,
    "start_time": "2024-03-19T19:02:54.775Z"
   },
   {
    "duration": 6,
    "start_time": "2024-03-19T19:03:04.840Z"
   },
   {
    "duration": 4,
    "start_time": "2024-03-19T19:03:06.632Z"
   },
   {
    "duration": 13,
    "start_time": "2024-03-19T19:03:45.711Z"
   },
   {
    "duration": 5,
    "start_time": "2024-03-19T19:04:41.872Z"
   },
   {
    "duration": 42,
    "start_time": "2024-03-19T19:04:47.743Z"
   },
   {
    "duration": 6,
    "start_time": "2024-03-19T19:04:48.518Z"
   },
   {
    "duration": 4,
    "start_time": "2024-03-19T19:04:57.911Z"
   },
   {
    "duration": 5,
    "start_time": "2024-03-19T19:05:34.582Z"
   },
   {
    "duration": 18,
    "start_time": "2024-03-19T19:05:39.598Z"
   },
   {
    "duration": 6,
    "start_time": "2024-03-19T19:05:53.422Z"
   },
   {
    "duration": 5,
    "start_time": "2024-03-19T19:06:19.574Z"
   },
   {
    "duration": 19,
    "start_time": "2024-03-19T19:07:06.502Z"
   },
   {
    "duration": 42,
    "start_time": "2024-03-19T19:07:51.911Z"
   },
   {
    "duration": 8510,
    "start_time": "2024-03-19T19:08:56.271Z"
   },
   {
    "duration": 29,
    "start_time": "2024-03-19T19:09:13.791Z"
   },
   {
    "duration": 11796,
    "start_time": "2024-03-19T19:09:32.398Z"
   },
   {
    "duration": 27,
    "start_time": "2024-03-19T19:09:44.195Z"
   },
   {
    "duration": 3,
    "start_time": "2024-03-19T19:13:16.414Z"
   },
   {
    "duration": 28,
    "start_time": "2024-03-19T19:13:18.951Z"
   },
   {
    "duration": 12106,
    "start_time": "2024-03-19T19:13:20.541Z"
   },
   {
    "duration": 32,
    "start_time": "2024-03-19T19:13:32.648Z"
   },
   {
    "duration": 2,
    "start_time": "2024-03-19T19:17:56.760Z"
   },
   {
    "duration": 29,
    "start_time": "2024-03-19T19:17:58.271Z"
   },
   {
    "duration": 56,
    "start_time": "2024-03-19T19:18:34.399Z"
   },
   {
    "duration": 31,
    "start_time": "2024-03-19T19:18:44.760Z"
   },
   {
    "duration": 73,
    "start_time": "2024-03-19T19:35:22.927Z"
   },
   {
    "duration": 70,
    "start_time": "2024-03-19T19:35:31.311Z"
   },
   {
    "duration": 20,
    "start_time": "2024-03-19T19:35:57.478Z"
   },
   {
    "duration": 577,
    "start_time": "2024-03-19T19:36:05.582Z"
   },
   {
    "duration": 4,
    "start_time": "2024-03-19T19:36:08.218Z"
   },
   {
    "duration": 96,
    "start_time": "2024-03-19T19:36:25.374Z"
   },
   {
    "duration": 4,
    "start_time": "2024-03-19T19:36:45.111Z"
   },
   {
    "duration": 20,
    "start_time": "2024-03-19T19:38:54.539Z"
   },
   {
    "duration": 44,
    "start_time": "2024-03-19T19:39:02.045Z"
   },
   {
    "duration": 69,
    "start_time": "2024-03-19T19:40:56.823Z"
   },
   {
    "duration": 17093,
    "start_time": "2024-03-19T19:41:00.367Z"
   },
   {
    "duration": 9,
    "start_time": "2024-03-19T19:41:20.861Z"
   },
   {
    "duration": 5588,
    "start_time": "2024-03-19T19:41:55.673Z"
   },
   {
    "duration": 76,
    "start_time": "2024-03-19T19:43:14.306Z"
   },
   {
    "duration": 20,
    "start_time": "2024-03-19T19:44:47.460Z"
   },
   {
    "duration": 205,
    "start_time": "2024-03-19T19:44:56.188Z"
   },
   {
    "duration": 112,
    "start_time": "2024-03-19T19:44:57.468Z"
   },
   {
    "duration": 118,
    "start_time": "2024-03-19T19:45:43.965Z"
   },
   {
    "duration": 107,
    "start_time": "2024-03-19T19:46:42.815Z"
   },
   {
    "duration": 119,
    "start_time": "2024-03-19T19:47:18.967Z"
   },
   {
    "duration": 44,
    "start_time": "2024-03-19T19:47:46.288Z"
   },
   {
    "duration": 21,
    "start_time": "2024-03-19T19:48:34.560Z"
   },
   {
    "duration": 103,
    "start_time": "2024-03-19T19:48:49.633Z"
   },
   {
    "duration": 34,
    "start_time": "2024-03-19T19:48:50.401Z"
   },
   {
    "duration": 76,
    "start_time": "2024-03-19T19:49:17.185Z"
   },
   {
    "duration": 3,
    "start_time": "2024-03-19T19:52:03.301Z"
   },
   {
    "duration": 4,
    "start_time": "2024-03-19T19:52:03.892Z"
   },
   {
    "duration": 4,
    "start_time": "2024-03-19T19:52:13.435Z"
   },
   {
    "duration": 33638,
    "start_time": "2024-03-19T19:52:16.148Z"
   },
   {
    "duration": 26,
    "start_time": "2024-03-19T19:52:49.789Z"
   },
   {
    "duration": 114,
    "start_time": "2024-03-19T19:53:35.981Z"
   },
   {
    "duration": 37,
    "start_time": "2024-03-19T19:53:41.029Z"
   },
   {
    "duration": 25,
    "start_time": "2024-03-19T19:54:16.462Z"
   },
   {
    "duration": 4,
    "start_time": "2024-03-19T19:55:23.646Z"
   },
   {
    "duration": 25,
    "start_time": "2024-03-19T19:55:40.415Z"
   },
   {
    "duration": 34,
    "start_time": "2024-03-19T20:00:08.660Z"
   },
   {
    "duration": 6664,
    "start_time": "2024-03-19T20:00:29.136Z"
   },
   {
    "duration": 4333,
    "start_time": "2024-03-19T20:00:35.803Z"
   },
   {
    "duration": 3,
    "start_time": "2024-03-19T20:00:40.137Z"
   },
   {
    "duration": 950,
    "start_time": "2024-03-19T20:00:40.142Z"
   },
   {
    "duration": 38,
    "start_time": "2024-03-19T20:00:41.094Z"
   },
   {
    "duration": 242,
    "start_time": "2024-03-19T20:00:41.134Z"
   },
   {
    "duration": 71,
    "start_time": "2024-03-19T20:00:41.378Z"
   },
   {
    "duration": 5,
    "start_time": "2024-03-19T20:00:41.466Z"
   },
   {
    "duration": 29,
    "start_time": "2024-03-19T20:00:41.472Z"
   },
   {
    "duration": 64,
    "start_time": "2024-03-19T20:00:41.504Z"
   },
   {
    "duration": 12336,
    "start_time": "2024-03-19T20:00:41.570Z"
   },
   {
    "duration": 12,
    "start_time": "2024-03-19T20:00:53.908Z"
   },
   {
    "duration": 20,
    "start_time": "2024-03-19T20:00:53.922Z"
   },
   {
    "duration": 46,
    "start_time": "2024-03-19T20:00:53.944Z"
   },
   {
    "duration": 3,
    "start_time": "2024-03-19T20:00:53.992Z"
   },
   {
    "duration": 527,
    "start_time": "2024-03-19T20:00:53.996Z"
   },
   {
    "duration": 3,
    "start_time": "2024-03-19T20:00:54.525Z"
   },
   {
    "duration": 18830,
    "start_time": "2024-03-19T20:00:54.530Z"
   },
   {
    "duration": 5630,
    "start_time": "2024-03-19T20:01:13.365Z"
   },
   {
    "duration": 227,
    "start_time": "2024-03-19T20:01:18.997Z"
   },
   {
    "duration": 122,
    "start_time": "2024-03-19T20:01:19.226Z"
   },
   {
    "duration": 50,
    "start_time": "2024-03-19T20:01:19.351Z"
   },
   {
    "duration": 15,
    "start_time": "2024-03-19T20:01:19.402Z"
   },
   {
    "duration": 17,
    "start_time": "2024-03-19T20:01:19.419Z"
   },
   {
    "duration": 36,
    "start_time": "2024-03-19T20:01:19.438Z"
   },
   {
    "duration": 19,
    "start_time": "2024-03-19T20:01:19.475Z"
   },
   {
    "duration": 29948,
    "start_time": "2024-03-19T20:01:19.496Z"
   },
   {
    "duration": 9,
    "start_time": "2024-03-19T20:01:49.446Z"
   },
   {
    "duration": 32,
    "start_time": "2024-03-19T20:01:49.457Z"
   },
   {
    "duration": 44,
    "start_time": "2024-03-19T20:01:49.491Z"
   },
   {
    "duration": 50,
    "start_time": "2024-03-19T20:04:03.656Z"
   },
   {
    "duration": 32,
    "start_time": "2024-03-19T20:04:37.102Z"
   },
   {
    "duration": 442,
    "start_time": "2024-03-19T20:05:40.375Z"
   },
   {
    "duration": 5,
    "start_time": "2024-03-19T20:05:42.824Z"
   },
   {
    "duration": 27810,
    "start_time": "2024-03-19T20:06:07.872Z"
   },
   {
    "duration": 4,
    "start_time": "2024-03-19T20:06:35.684Z"
   },
   {
    "duration": 11,
    "start_time": "2024-03-19T20:08:32.794Z"
   },
   {
    "duration": 114,
    "start_time": "2024-03-19T20:08:49.841Z"
   },
   {
    "duration": 348,
    "start_time": "2024-03-19T20:09:10.178Z"
   },
   {
    "duration": 9,
    "start_time": "2024-03-19T20:09:17.923Z"
   },
   {
    "duration": 9,
    "start_time": "2024-03-19T20:09:18.659Z"
   },
   {
    "duration": 11,
    "start_time": "2024-03-19T20:10:02.341Z"
   },
   {
    "duration": 7,
    "start_time": "2024-03-19T20:10:03.106Z"
   },
   {
    "duration": 12,
    "start_time": "2024-03-19T20:10:23.116Z"
   },
   {
    "duration": 8,
    "start_time": "2024-03-19T20:10:23.436Z"
   },
   {
    "duration": 8,
    "start_time": "2024-03-19T20:10:40.627Z"
   },
   {
    "duration": 11,
    "start_time": "2024-03-19T20:11:06.253Z"
   },
   {
    "duration": 9,
    "start_time": "2024-03-19T20:11:06.723Z"
   },
   {
    "duration": 134,
    "start_time": "2024-03-19T20:11:20.908Z"
   },
   {
    "duration": 42,
    "start_time": "2024-03-19T20:11:36.438Z"
   },
   {
    "duration": 71,
    "start_time": "2024-03-19T20:12:42.741Z"
   },
   {
    "duration": 3,
    "start_time": "2024-03-19T20:12:52.588Z"
   },
   {
    "duration": 4,
    "start_time": "2024-03-19T20:12:52.901Z"
   },
   {
    "duration": 3,
    "start_time": "2024-03-19T20:12:57.437Z"
   },
   {
    "duration": 41860,
    "start_time": "2024-03-19T20:12:57.821Z"
   },
   {
    "duration": 14,
    "start_time": "2024-03-19T20:13:39.683Z"
   },
   {
    "duration": 69,
    "start_time": "2024-03-19T20:13:39.699Z"
   },
   {
    "duration": 35,
    "start_time": "2024-03-19T20:13:39.770Z"
   },
   {
    "duration": 74,
    "start_time": "2024-03-19T20:22:25.203Z"
   },
   {
    "duration": 6384,
    "start_time": "2024-03-19T20:26:41.788Z"
   },
   {
    "duration": 4278,
    "start_time": "2024-03-19T20:26:48.175Z"
   },
   {
    "duration": 3,
    "start_time": "2024-03-19T20:26:52.455Z"
   },
   {
    "duration": 929,
    "start_time": "2024-03-19T20:26:52.460Z"
   },
   {
    "duration": 38,
    "start_time": "2024-03-19T20:26:53.392Z"
   },
   {
    "duration": 248,
    "start_time": "2024-03-19T20:26:53.432Z"
   },
   {
    "duration": 84,
    "start_time": "2024-03-19T20:26:53.682Z"
   },
   {
    "duration": 6,
    "start_time": "2024-03-19T20:26:53.768Z"
   },
   {
    "duration": 40,
    "start_time": "2024-03-19T20:26:53.776Z"
   },
   {
    "duration": 527,
    "start_time": "2024-03-19T20:26:53.819Z"
   },
   {
    "duration": 4,
    "start_time": "2024-03-19T20:26:54.347Z"
   },
   {
    "duration": 28620,
    "start_time": "2024-03-19T20:26:54.353Z"
   },
   {
    "duration": 222,
    "start_time": "2024-03-19T20:27:22.975Z"
   },
   {
    "duration": 11,
    "start_time": "2024-03-19T20:27:23.199Z"
   },
   {
    "duration": 153,
    "start_time": "2024-03-19T20:27:23.212Z"
   },
   {
    "duration": 50,
    "start_time": "2024-03-19T20:27:23.367Z"
   },
   {
    "duration": 21,
    "start_time": "2024-03-19T20:27:23.419Z"
   },
   {
    "duration": 33,
    "start_time": "2024-03-19T20:27:23.442Z"
   },
   {
    "duration": 35,
    "start_time": "2024-03-19T20:27:23.477Z"
   },
   {
    "duration": 42462,
    "start_time": "2024-03-19T20:27:23.513Z"
   },
   {
    "duration": 19,
    "start_time": "2024-03-19T20:28:05.977Z"
   },
   {
    "duration": 75,
    "start_time": "2024-03-19T20:28:05.998Z"
   },
   {
    "duration": 35,
    "start_time": "2024-03-19T20:28:06.075Z"
   },
   {
    "duration": 45,
    "start_time": "2024-03-20T10:55:34.313Z"
   },
   {
    "duration": 8226,
    "start_time": "2024-03-20T10:55:47.410Z"
   },
   {
    "duration": 5538,
    "start_time": "2024-03-20T10:55:55.639Z"
   },
   {
    "duration": 2,
    "start_time": "2024-03-20T10:56:01.179Z"
   },
   {
    "duration": 988,
    "start_time": "2024-03-20T10:56:01.183Z"
   },
   {
    "duration": 41,
    "start_time": "2024-03-20T10:56:02.173Z"
   },
   {
    "duration": 240,
    "start_time": "2024-03-20T10:56:02.216Z"
   },
   {
    "duration": 67,
    "start_time": "2024-03-20T10:56:02.457Z"
   },
   {
    "duration": 26,
    "start_time": "2024-03-20T10:56:02.526Z"
   },
   {
    "duration": 45,
    "start_time": "2024-03-20T10:56:02.554Z"
   },
   {
    "duration": 5,
    "start_time": "2024-03-20T10:56:02.601Z"
   },
   {
    "duration": 6356,
    "start_time": "2024-03-20T11:10:56.390Z"
   },
   {
    "duration": 6,
    "start_time": "2024-03-20T11:11:02.748Z"
   },
   {
    "duration": 71,
    "start_time": "2024-03-20T11:11:02.755Z"
   },
   {
    "duration": 950,
    "start_time": "2024-03-20T11:11:02.828Z"
   },
   {
    "duration": 38,
    "start_time": "2024-03-20T11:11:07.815Z"
   },
   {
    "duration": 209,
    "start_time": "2024-03-20T11:11:10.613Z"
   },
   {
    "duration": 75,
    "start_time": "2024-03-20T11:11:11.141Z"
   },
   {
    "duration": 4,
    "start_time": "2024-03-20T11:11:13.950Z"
   },
   {
    "duration": 29,
    "start_time": "2024-03-20T11:11:24.485Z"
   },
   {
    "duration": 5,
    "start_time": "2024-03-20T11:11:25.350Z"
   },
   {
    "duration": 29,
    "start_time": "2024-03-20T11:11:34.854Z"
   },
   {
    "duration": 5,
    "start_time": "2024-03-20T11:11:35.725Z"
   },
   {
    "duration": 64,
    "start_time": "2024-03-20T11:12:22.598Z"
   },
   {
    "duration": 5984,
    "start_time": "2024-03-20T11:14:12.339Z"
   },
   {
    "duration": 4161,
    "start_time": "2024-03-20T11:14:18.325Z"
   },
   {
    "duration": 3,
    "start_time": "2024-03-20T11:14:22.488Z"
   },
   {
    "duration": 922,
    "start_time": "2024-03-20T11:14:22.493Z"
   },
   {
    "duration": 54,
    "start_time": "2024-03-20T11:14:23.416Z"
   },
   {
    "duration": 224,
    "start_time": "2024-03-20T11:14:23.471Z"
   },
   {
    "duration": 80,
    "start_time": "2024-03-20T11:14:23.697Z"
   },
   {
    "duration": 44,
    "start_time": "2024-03-20T11:14:23.778Z"
   },
   {
    "duration": 51,
    "start_time": "2024-03-20T11:14:23.824Z"
   },
   {
    "duration": 7,
    "start_time": "2024-03-20T11:14:23.878Z"
   },
   {
    "duration": 510,
    "start_time": "2024-03-20T11:14:23.889Z"
   },
   {
    "duration": 3,
    "start_time": "2024-03-20T11:14:24.401Z"
   },
   {
    "duration": 22996,
    "start_time": "2024-03-20T11:14:24.405Z"
   },
   {
    "duration": 134,
    "start_time": "2024-03-20T11:14:47.402Z"
   },
   {
    "duration": 12,
    "start_time": "2024-03-20T11:14:47.537Z"
   },
   {
    "duration": 134,
    "start_time": "2024-03-20T11:14:47.550Z"
   },
   {
    "duration": 33,
    "start_time": "2024-03-20T11:14:47.686Z"
   },
   {
    "duration": 29,
    "start_time": "2024-03-20T11:14:47.721Z"
   },
   {
    "duration": 19,
    "start_time": "2024-03-20T11:14:47.751Z"
   },
   {
    "duration": 26,
    "start_time": "2024-03-20T11:14:47.772Z"
   },
   {
    "duration": 27653,
    "start_time": "2024-03-20T11:14:47.799Z"
   },
   {
    "duration": 14,
    "start_time": "2024-03-20T11:15:15.454Z"
   },
   {
    "duration": 39,
    "start_time": "2024-03-20T11:15:15.470Z"
   },
   {
    "duration": 49,
    "start_time": "2024-03-20T11:15:15.510Z"
   },
   {
    "duration": 10492,
    "start_time": "2024-03-20T19:37:55.842Z"
   },
   {
    "duration": 4127,
    "start_time": "2024-03-20T19:38:06.336Z"
   },
   {
    "duration": 3,
    "start_time": "2024-03-20T19:38:10.464Z"
   },
   {
    "duration": 3227,
    "start_time": "2024-03-20T19:38:10.470Z"
   },
   {
    "duration": 40,
    "start_time": "2024-03-20T19:38:13.699Z"
   },
   {
    "duration": 237,
    "start_time": "2024-03-20T19:38:13.741Z"
   },
   {
    "duration": 73,
    "start_time": "2024-03-20T19:38:13.980Z"
   },
   {
    "duration": 7,
    "start_time": "2024-03-20T19:38:14.054Z"
   },
   {
    "duration": 45,
    "start_time": "2024-03-20T19:38:14.062Z"
   },
   {
    "duration": 5,
    "start_time": "2024-03-20T19:38:14.109Z"
   },
   {
    "duration": 522,
    "start_time": "2024-03-20T19:38:14.115Z"
   },
   {
    "duration": 4,
    "start_time": "2024-03-20T19:38:14.638Z"
   },
   {
    "duration": 23769,
    "start_time": "2024-03-20T19:38:14.644Z"
   },
   {
    "duration": 248,
    "start_time": "2024-03-20T19:38:38.415Z"
   },
   {
    "duration": 11,
    "start_time": "2024-03-20T19:38:38.664Z"
   },
   {
    "duration": 177,
    "start_time": "2024-03-20T19:38:38.677Z"
   },
   {
    "duration": 46,
    "start_time": "2024-03-20T19:38:38.855Z"
   },
   {
    "duration": 3,
    "start_time": "2024-03-20T19:38:38.902Z"
   },
   {
    "duration": 7,
    "start_time": "2024-03-20T19:38:38.907Z"
   },
   {
    "duration": 14,
    "start_time": "2024-03-20T19:38:38.916Z"
   },
   {
    "duration": 25570,
    "start_time": "2024-03-20T19:38:38.931Z"
   },
   {
    "duration": 9,
    "start_time": "2024-03-20T19:39:04.503Z"
   },
   {
    "duration": 31,
    "start_time": "2024-03-20T19:39:04.515Z"
   },
   {
    "duration": 85,
    "start_time": "2024-03-20T19:39:04.548Z"
   },
   {
    "duration": 3,
    "start_time": "2024-03-20T19:41:09.994Z"
   },
   {
    "duration": 5,
    "start_time": "2024-03-20T19:41:10.321Z"
   },
   {
    "duration": 3,
    "start_time": "2024-03-20T19:41:12.657Z"
   },
   {
    "duration": 327,
    "start_time": "2024-03-20T19:41:13.081Z"
   },
   {
    "duration": 23,
    "start_time": "2024-03-20T19:41:13.713Z"
   },
   {
    "duration": 4,
    "start_time": "2024-03-20T19:41:59.202Z"
   },
   {
    "duration": 3,
    "start_time": "2024-03-20T19:42:00.858Z"
   },
   {
    "duration": 26476,
    "start_time": "2024-03-20T19:42:02.113Z"
   },
   {
    "duration": 11,
    "start_time": "2024-03-20T19:42:28.591Z"
   },
   {
    "duration": 10,
    "start_time": "2024-03-20T19:42:28.604Z"
   },
   {
    "duration": 52,
    "start_time": "2024-03-20T19:42:28.616Z"
   },
   {
    "duration": 7,
    "start_time": "2024-03-20T19:44:00.365Z"
   },
   {
    "duration": 4,
    "start_time": "2024-03-20T19:44:01.947Z"
   },
   {
    "duration": 12536,
    "start_time": "2024-03-20T19:44:02.571Z"
   },
   {
    "duration": 8,
    "start_time": "2024-03-20T19:44:15.108Z"
   },
   {
    "duration": 54,
    "start_time": "2024-03-20T19:44:15.118Z"
   },
   {
    "duration": 46,
    "start_time": "2024-03-20T19:44:15.174Z"
   },
   {
    "duration": 4,
    "start_time": "2024-03-20T19:44:40.420Z"
   },
   {
    "duration": 3,
    "start_time": "2024-03-20T19:44:41.851Z"
   },
   {
    "duration": 2728,
    "start_time": "2024-03-20T19:44:42.483Z"
   },
   {
    "duration": 0,
    "start_time": "2024-03-20T19:44:45.213Z"
   },
   {
    "duration": 0,
    "start_time": "2024-03-20T19:44:45.214Z"
   },
   {
    "duration": 16,
    "start_time": "2024-03-20T19:44:45.244Z"
   },
   {
    "duration": 5,
    "start_time": "2024-03-20T19:45:02.052Z"
   },
   {
    "duration": 3072,
    "start_time": "2024-03-20T19:45:02.523Z"
   },
   {
    "duration": 0,
    "start_time": "2024-03-20T19:45:05.596Z"
   },
   {
    "duration": 5,
    "start_time": "2024-03-20T19:45:37.860Z"
   },
   {
    "duration": 4,
    "start_time": "2024-03-20T19:45:39.535Z"
   },
   {
    "duration": 15996,
    "start_time": "2024-03-20T19:45:40.004Z"
   },
   {
    "duration": 8,
    "start_time": "2024-03-20T19:45:56.001Z"
   },
   {
    "duration": 11,
    "start_time": "2024-03-20T19:45:56.010Z"
   },
   {
    "duration": 30,
    "start_time": "2024-03-20T19:45:56.023Z"
   },
   {
    "duration": 4,
    "start_time": "2024-03-20T19:47:49.605Z"
   },
   {
    "duration": 4,
    "start_time": "2024-03-20T19:47:56.861Z"
   },
   {
    "duration": 3,
    "start_time": "2024-03-20T19:47:58.614Z"
   },
   {
    "duration": 9604,
    "start_time": "2024-03-20T19:47:59.396Z"
   },
   {
    "duration": 0,
    "start_time": "2024-03-20T19:48:09.001Z"
   },
   {
    "duration": 0,
    "start_time": "2024-03-20T19:48:09.002Z"
   },
   {
    "duration": 0,
    "start_time": "2024-03-20T19:48:09.003Z"
   },
   {
    "duration": 7,
    "start_time": "2024-03-20T19:48:20.302Z"
   },
   {
    "duration": 3,
    "start_time": "2024-03-20T19:48:21.669Z"
   },
   {
    "duration": 71194,
    "start_time": "2024-03-20T19:48:22.093Z"
   },
   {
    "duration": 100,
    "start_time": "2024-03-20T19:49:33.381Z"
   },
   {
    "duration": 4,
    "start_time": "2024-03-20T19:49:33.482Z"
   },
   {
    "duration": 53,
    "start_time": "2024-03-20T19:49:33.489Z"
   },
   {
    "duration": 6337,
    "start_time": "2024-03-20T19:50:47.577Z"
   },
   {
    "duration": 4214,
    "start_time": "2024-03-20T19:50:53.917Z"
   },
   {
    "duration": 3,
    "start_time": "2024-03-20T19:50:58.133Z"
   },
   {
    "duration": 955,
    "start_time": "2024-03-20T19:50:58.138Z"
   },
   {
    "duration": 39,
    "start_time": "2024-03-20T19:50:59.095Z"
   },
   {
    "duration": 242,
    "start_time": "2024-03-20T19:50:59.136Z"
   },
   {
    "duration": 75,
    "start_time": "2024-03-20T19:50:59.381Z"
   },
   {
    "duration": 10,
    "start_time": "2024-03-20T19:50:59.459Z"
   },
   {
    "duration": 38,
    "start_time": "2024-03-20T19:50:59.481Z"
   },
   {
    "duration": 5,
    "start_time": "2024-03-20T19:50:59.522Z"
   },
   {
    "duration": 524,
    "start_time": "2024-03-20T19:50:59.529Z"
   },
   {
    "duration": 4,
    "start_time": "2024-03-20T19:51:00.054Z"
   },
   {
    "duration": 117154,
    "start_time": "2024-03-20T19:51:00.060Z"
   },
   {
    "duration": 146,
    "start_time": "2024-03-20T19:52:57.215Z"
   },
   {
    "duration": 18,
    "start_time": "2024-03-20T19:52:57.363Z"
   },
   {
    "duration": 575,
    "start_time": "2024-03-20T19:52:57.383Z"
   },
   {
    "duration": 173,
    "start_time": "2024-03-20T19:52:57.959Z"
   },
   {
    "duration": 2,
    "start_time": "2024-03-20T19:52:58.134Z"
   },
   {
    "duration": 12,
    "start_time": "2024-03-20T19:52:58.138Z"
   },
   {
    "duration": 6,
    "start_time": "2024-03-20T19:52:58.152Z"
   },
   {
    "duration": 237162,
    "start_time": "2024-03-20T19:52:58.159Z"
   },
   {
    "duration": 0,
    "start_time": "2024-03-20T19:56:55.323Z"
   },
   {
    "duration": 0,
    "start_time": "2024-03-20T19:56:55.324Z"
   },
   {
    "duration": 0,
    "start_time": "2024-03-20T19:56:55.325Z"
   },
   {
    "duration": 3,
    "start_time": "2024-03-20T19:58:24.621Z"
   },
   {
    "duration": 3,
    "start_time": "2024-03-20T19:58:30.901Z"
   },
   {
    "duration": 59041,
    "start_time": "2024-03-20T19:58:32.445Z"
   },
   {
    "duration": 92,
    "start_time": "2024-03-20T19:59:31.490Z"
   },
   {
    "duration": 114,
    "start_time": "2024-03-20T19:59:31.584Z"
   },
   {
    "duration": 37,
    "start_time": "2024-03-20T19:59:31.699Z"
   },
   {
    "duration": 45,
    "start_time": "2024-03-20T20:02:06.560Z"
   },
   {
    "duration": 6337,
    "start_time": "2024-03-20T20:02:14.672Z"
   },
   {
    "duration": 3974,
    "start_time": "2024-03-20T20:02:21.012Z"
   },
   {
    "duration": 2,
    "start_time": "2024-03-20T20:02:24.988Z"
   },
   {
    "duration": 954,
    "start_time": "2024-03-20T20:02:24.993Z"
   },
   {
    "duration": 51,
    "start_time": "2024-03-20T20:02:25.949Z"
   },
   {
    "duration": 221,
    "start_time": "2024-03-20T20:02:26.002Z"
   },
   {
    "duration": 80,
    "start_time": "2024-03-20T20:02:26.225Z"
   },
   {
    "duration": 5,
    "start_time": "2024-03-20T20:02:26.307Z"
   },
   {
    "duration": 48,
    "start_time": "2024-03-20T20:02:26.313Z"
   },
   {
    "duration": 20,
    "start_time": "2024-03-20T20:02:26.363Z"
   },
   {
    "duration": 505,
    "start_time": "2024-03-20T20:02:26.385Z"
   },
   {
    "duration": 3,
    "start_time": "2024-03-20T20:02:26.892Z"
   },
   {
    "duration": 225974,
    "start_time": "2024-03-20T20:02:26.897Z"
   },
   {
    "duration": 191,
    "start_time": "2024-03-20T20:06:12.873Z"
   },
   {
    "duration": 18,
    "start_time": "2024-03-20T20:06:13.066Z"
   },
   {
    "duration": 1082,
    "start_time": "2024-03-20T20:06:13.086Z"
   },
   {
    "duration": 325,
    "start_time": "2024-03-20T20:06:14.170Z"
   },
   {
    "duration": 4,
    "start_time": "2024-03-20T20:06:14.497Z"
   },
   {
    "duration": 5,
    "start_time": "2024-03-20T20:06:14.502Z"
   },
   {
    "duration": 8,
    "start_time": "2024-03-20T20:06:14.508Z"
   },
   {
    "duration": 82872,
    "start_time": "2024-03-20T20:06:14.517Z"
   },
   {
    "duration": 92,
    "start_time": "2024-03-20T20:07:37.392Z"
   },
   {
    "duration": 7,
    "start_time": "2024-03-20T20:07:37.486Z"
   },
   {
    "duration": 89,
    "start_time": "2024-03-20T20:07:37.495Z"
   },
   {
    "duration": 3,
    "start_time": "2024-03-20T20:10:31.558Z"
   },
   {
    "duration": 5,
    "start_time": "2024-03-20T20:10:35.397Z"
   },
   {
    "duration": 3,
    "start_time": "2024-03-20T20:10:36.677Z"
   },
   {
    "duration": 154788,
    "start_time": "2024-03-20T20:10:37.094Z"
   },
   {
    "duration": 94,
    "start_time": "2024-03-20T20:13:11.889Z"
   },
   {
    "duration": 3,
    "start_time": "2024-03-20T20:13:11.985Z"
   },
   {
    "duration": 24,
    "start_time": "2024-03-20T20:13:11.990Z"
   },
   {
    "duration": 6376,
    "start_time": "2024-03-20T20:16:25.508Z"
   },
   {
    "duration": 4065,
    "start_time": "2024-03-20T20:16:31.886Z"
   },
   {
    "duration": 3,
    "start_time": "2024-03-20T20:16:35.953Z"
   },
   {
    "duration": 933,
    "start_time": "2024-03-20T20:16:35.958Z"
   },
   {
    "duration": 39,
    "start_time": "2024-03-20T20:16:36.892Z"
   },
   {
    "duration": 229,
    "start_time": "2024-03-20T20:16:36.933Z"
   },
   {
    "duration": 73,
    "start_time": "2024-03-20T20:16:37.164Z"
   },
   {
    "duration": 14,
    "start_time": "2024-03-20T20:16:37.240Z"
   },
   {
    "duration": 67,
    "start_time": "2024-03-20T20:16:37.256Z"
   },
   {
    "duration": 5,
    "start_time": "2024-03-20T20:16:37.327Z"
   },
   {
    "duration": 512,
    "start_time": "2024-03-20T20:16:37.333Z"
   },
   {
    "duration": 4,
    "start_time": "2024-03-20T20:16:37.846Z"
   },
   {
    "duration": 334605,
    "start_time": "2024-03-20T20:16:37.851Z"
   },
   {
    "duration": 255,
    "start_time": "2024-03-20T20:22:12.458Z"
   },
   {
    "duration": 38,
    "start_time": "2024-03-20T20:22:12.715Z"
   },
   {
    "duration": 1817,
    "start_time": "2024-03-20T20:22:12.755Z"
   },
   {
    "duration": 498,
    "start_time": "2024-03-20T20:22:14.574Z"
   },
   {
    "duration": 6,
    "start_time": "2024-03-20T20:22:15.074Z"
   },
   {
    "duration": 14,
    "start_time": "2024-03-20T20:22:15.082Z"
   },
   {
    "duration": 11,
    "start_time": "2024-03-20T20:22:15.098Z"
   },
   {
    "duration": 217569,
    "start_time": "2024-03-20T20:22:15.111Z"
   },
   {
    "duration": 102,
    "start_time": "2024-03-20T20:25:52.687Z"
   },
   {
    "duration": 10,
    "start_time": "2024-03-20T20:25:52.790Z"
   },
   {
    "duration": 56,
    "start_time": "2024-03-20T20:25:52.801Z"
   },
   {
    "duration": 4,
    "start_time": "2024-03-20T20:27:35.578Z"
   },
   {
    "duration": 4,
    "start_time": "2024-03-20T20:27:39.680Z"
   },
   {
    "duration": 44860,
    "start_time": "2024-03-20T20:27:40.297Z"
   },
   {
    "duration": 0,
    "start_time": "2024-03-20T20:28:25.159Z"
   },
   {
    "duration": 0,
    "start_time": "2024-03-20T20:28:25.160Z"
   },
   {
    "duration": 0,
    "start_time": "2024-03-20T20:28:25.162Z"
   },
   {
    "duration": 6254,
    "start_time": "2024-03-20T20:28:35.649Z"
   },
   {
    "duration": 4060,
    "start_time": "2024-03-20T20:28:41.906Z"
   },
   {
    "duration": 2,
    "start_time": "2024-03-20T20:28:45.968Z"
   },
   {
    "duration": 936,
    "start_time": "2024-03-20T20:28:45.972Z"
   },
   {
    "duration": 38,
    "start_time": "2024-03-20T20:28:46.909Z"
   },
   {
    "duration": 227,
    "start_time": "2024-03-20T20:28:46.949Z"
   },
   {
    "duration": 74,
    "start_time": "2024-03-20T20:28:47.179Z"
   },
   {
    "duration": 5,
    "start_time": "2024-03-20T20:28:47.254Z"
   },
   {
    "duration": 81,
    "start_time": "2024-03-20T20:28:47.260Z"
   },
   {
    "duration": 5,
    "start_time": "2024-03-20T20:28:47.344Z"
   },
   {
    "duration": 496,
    "start_time": "2024-03-20T20:28:47.350Z"
   },
   {
    "duration": 3,
    "start_time": "2024-03-20T20:28:47.848Z"
   },
   {
    "duration": 557020,
    "start_time": "2024-03-20T20:28:47.853Z"
   },
   {
    "duration": 150,
    "start_time": "2024-03-20T20:38:04.875Z"
   },
   {
    "duration": 35,
    "start_time": "2024-03-20T20:38:05.026Z"
   },
   {
    "duration": 2664,
    "start_time": "2024-03-20T20:38:05.063Z"
   },
   {
    "duration": 838,
    "start_time": "2024-03-20T20:38:07.729Z"
   },
   {
    "duration": 3,
    "start_time": "2024-03-20T20:38:08.569Z"
   },
   {
    "duration": 4,
    "start_time": "2024-03-20T20:38:08.581Z"
   },
   {
    "duration": 6,
    "start_time": "2024-03-20T20:38:08.586Z"
   },
   {
    "duration": 107690,
    "start_time": "2024-03-20T20:38:08.593Z"
   },
   {
    "duration": 101,
    "start_time": "2024-03-20T20:39:56.286Z"
   },
   {
    "duration": 4,
    "start_time": "2024-03-20T20:39:56.389Z"
   },
   {
    "duration": 19,
    "start_time": "2024-03-20T20:39:56.395Z"
   }
  ],
  "kernelspec": {
   "display_name": "Python 3 (ipykernel)",
   "language": "python",
   "name": "python3"
  },
  "language_info": {
   "codemirror_mode": {
    "name": "ipython",
    "version": 3
   },
   "file_extension": ".py",
   "mimetype": "text/x-python",
   "name": "python",
   "nbconvert_exporter": "python",
   "pygments_lexer": "ipython3",
   "version": "3.11.5"
  },
  "toc": {
   "base_numbering": 1,
   "nav_menu": {},
   "number_sections": true,
   "sideBar": true,
   "skip_h1_title": true,
   "title_cell": "Содержание",
   "title_sidebar": "Contents",
   "toc_cell": true,
   "toc_position": {
    "height": "calc(100% - 180px)",
    "left": "10px",
    "top": "150px",
    "width": "302.375px"
   },
   "toc_section_display": true,
   "toc_window_display": true
  }
 },
 "nbformat": 4,
 "nbformat_minor": 4
}
