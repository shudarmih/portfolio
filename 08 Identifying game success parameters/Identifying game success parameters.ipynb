{
 "cells": [
  {
   "cell_type": "markdown",
   "metadata": {},
   "source": [
    "# Выявление параметров успешности игр в интернет-магазине \"Стримчик\""
   ]
  },
  {
   "cell_type": "markdown",
   "metadata": {},
   "source": [
    "## Вводная информация"
   ]
  },
  {
   "cell_type": "markdown",
   "metadata": {},
   "source": [
    "Заказчик: интернет-магазин компьютерных игр. \n",
    "\n",
    "Требуется разработать принцип работы с данными, чтобы можно было прогнозировать продажи на следующий год. Нужно выявить определяющие успешность игры закономерности, что позволит сделать ставку на потенциально популярный продукт и спланировать рекламные кампании.\n"
   ]
  },
  {
   "cell_type": "markdown",
   "metadata": {},
   "source": [
    "**Данные**\n",
    "\n",
    "    Name — название игры\n",
    "    Platform — платформа\n",
    "    Year_of_Release — год выпуска\n",
    "    Genre — жанр игры\n",
    "    NA_sales — продажи в Северной Америке (миллионы проданных копий)\n",
    "    EU_sales — продажи в Европе (миллионы проданных копий)\n",
    "    JP_sales — продажи в Японии (миллионы проданных копий)\n",
    "    Other_sales — продажи в других странах (миллионы проданных копий)\n",
    "    Critic_Score — оценка критиков (максимум 100)\n",
    "    User_Score — оценка пользователей (максимум 10)\n",
    "    Rating — рейтинг от организации ESRB (англ. Entertainment Software Rating Board). Эта ассоциация определяет рейтинг компьютерных игр и присваивает им подходящую возрастную категорию. ESRB оценивает игровой контент и присваивает ему подходящую возрастную категорию, например, «Для взрослых», «Для детей младшего возраста» или «Для подростков»\n",
    "\n",
    "Данные за 2016 год могут быть неполными."
   ]
  },
  {
   "cell_type": "markdown",
   "metadata": {},
   "source": [
    "## Загрузка данных"
   ]
  },
  {
   "cell_type": "code",
   "execution_count": 1,
   "metadata": {},
   "outputs": [],
   "source": [
    "#импорт библиотек\n",
    "import pandas as pd\n",
    "import matplotlib.pyplot as plt\n",
    "import seaborn as sns\n",
    "import numpy as np\n",
    "from scipy import stats as st\n",
    "from scipy.stats import norm\n",
    "from math import sqrt"
   ]
  },
  {
   "cell_type": "code",
   "execution_count": 2,
   "metadata": {},
   "outputs": [],
   "source": [
    "#загрузка данных\n",
    "data = pd.read_csv('/datasets/games.csv')"
   ]
  },
  {
   "cell_type": "markdown",
   "metadata": {},
   "source": [
    "## Предобработка данных"
   ]
  },
  {
   "cell_type": "markdown",
   "metadata": {},
   "source": [
    "### Обзор данных"
   ]
  },
  {
   "cell_type": "code",
   "execution_count": 20,
   "metadata": {},
   "outputs": [
    {
     "data": {
      "text/html": [
       "<div>\n",
       "<style scoped>\n",
       "    .dataframe tbody tr th:only-of-type {\n",
       "        vertical-align: middle;\n",
       "    }\n",
       "\n",
       "    .dataframe tbody tr th {\n",
       "        vertical-align: top;\n",
       "    }\n",
       "\n",
       "    .dataframe thead th {\n",
       "        text-align: right;\n",
       "    }\n",
       "</style>\n",
       "<table border=\"1\" class=\"dataframe\">\n",
       "  <thead>\n",
       "    <tr style=\"text-align: right;\">\n",
       "      <th></th>\n",
       "      <th>Name</th>\n",
       "      <th>Platform</th>\n",
       "      <th>Year_of_Release</th>\n",
       "      <th>Genre</th>\n",
       "      <th>NA_sales</th>\n",
       "      <th>EU_sales</th>\n",
       "      <th>JP_sales</th>\n",
       "      <th>Other_sales</th>\n",
       "      <th>Critic_Score</th>\n",
       "      <th>User_Score</th>\n",
       "      <th>Rating</th>\n",
       "    </tr>\n",
       "  </thead>\n",
       "  <tbody>\n",
       "    <tr>\n",
       "      <th>0</th>\n",
       "      <td>Wii Sports</td>\n",
       "      <td>Wii</td>\n",
       "      <td>2006.0</td>\n",
       "      <td>Sports</td>\n",
       "      <td>41.36</td>\n",
       "      <td>28.96</td>\n",
       "      <td>3.77</td>\n",
       "      <td>8.45</td>\n",
       "      <td>76.0</td>\n",
       "      <td>8</td>\n",
       "      <td>E</td>\n",
       "    </tr>\n",
       "    <tr>\n",
       "      <th>1</th>\n",
       "      <td>Super Mario Bros.</td>\n",
       "      <td>NES</td>\n",
       "      <td>1985.0</td>\n",
       "      <td>Platform</td>\n",
       "      <td>29.08</td>\n",
       "      <td>3.58</td>\n",
       "      <td>6.81</td>\n",
       "      <td>0.77</td>\n",
       "      <td>NaN</td>\n",
       "      <td>NaN</td>\n",
       "      <td>NaN</td>\n",
       "    </tr>\n",
       "    <tr>\n",
       "      <th>2</th>\n",
       "      <td>Mario Kart Wii</td>\n",
       "      <td>Wii</td>\n",
       "      <td>2008.0</td>\n",
       "      <td>Racing</td>\n",
       "      <td>15.68</td>\n",
       "      <td>12.76</td>\n",
       "      <td>3.79</td>\n",
       "      <td>3.29</td>\n",
       "      <td>82.0</td>\n",
       "      <td>8.3</td>\n",
       "      <td>E</td>\n",
       "    </tr>\n",
       "    <tr>\n",
       "      <th>3</th>\n",
       "      <td>Wii Sports Resort</td>\n",
       "      <td>Wii</td>\n",
       "      <td>2009.0</td>\n",
       "      <td>Sports</td>\n",
       "      <td>15.61</td>\n",
       "      <td>10.93</td>\n",
       "      <td>3.28</td>\n",
       "      <td>2.95</td>\n",
       "      <td>80.0</td>\n",
       "      <td>8</td>\n",
       "      <td>E</td>\n",
       "    </tr>\n",
       "    <tr>\n",
       "      <th>4</th>\n",
       "      <td>Pokemon Red/Pokemon Blue</td>\n",
       "      <td>GB</td>\n",
       "      <td>1996.0</td>\n",
       "      <td>Role-Playing</td>\n",
       "      <td>11.27</td>\n",
       "      <td>8.89</td>\n",
       "      <td>10.22</td>\n",
       "      <td>1.00</td>\n",
       "      <td>NaN</td>\n",
       "      <td>NaN</td>\n",
       "      <td>NaN</td>\n",
       "    </tr>\n",
       "    <tr>\n",
       "      <th>5</th>\n",
       "      <td>Tetris</td>\n",
       "      <td>GB</td>\n",
       "      <td>1989.0</td>\n",
       "      <td>Puzzle</td>\n",
       "      <td>23.20</td>\n",
       "      <td>2.26</td>\n",
       "      <td>4.22</td>\n",
       "      <td>0.58</td>\n",
       "      <td>NaN</td>\n",
       "      <td>NaN</td>\n",
       "      <td>NaN</td>\n",
       "    </tr>\n",
       "    <tr>\n",
       "      <th>6</th>\n",
       "      <td>New Super Mario Bros.</td>\n",
       "      <td>DS</td>\n",
       "      <td>2006.0</td>\n",
       "      <td>Platform</td>\n",
       "      <td>11.28</td>\n",
       "      <td>9.14</td>\n",
       "      <td>6.50</td>\n",
       "      <td>2.88</td>\n",
       "      <td>89.0</td>\n",
       "      <td>8.5</td>\n",
       "      <td>E</td>\n",
       "    </tr>\n",
       "    <tr>\n",
       "      <th>7</th>\n",
       "      <td>Wii Play</td>\n",
       "      <td>Wii</td>\n",
       "      <td>2006.0</td>\n",
       "      <td>Misc</td>\n",
       "      <td>13.96</td>\n",
       "      <td>9.18</td>\n",
       "      <td>2.93</td>\n",
       "      <td>2.84</td>\n",
       "      <td>58.0</td>\n",
       "      <td>6.6</td>\n",
       "      <td>E</td>\n",
       "    </tr>\n",
       "    <tr>\n",
       "      <th>8</th>\n",
       "      <td>New Super Mario Bros. Wii</td>\n",
       "      <td>Wii</td>\n",
       "      <td>2009.0</td>\n",
       "      <td>Platform</td>\n",
       "      <td>14.44</td>\n",
       "      <td>6.94</td>\n",
       "      <td>4.70</td>\n",
       "      <td>2.24</td>\n",
       "      <td>87.0</td>\n",
       "      <td>8.4</td>\n",
       "      <td>E</td>\n",
       "    </tr>\n",
       "    <tr>\n",
       "      <th>9</th>\n",
       "      <td>Duck Hunt</td>\n",
       "      <td>NES</td>\n",
       "      <td>1984.0</td>\n",
       "      <td>Shooter</td>\n",
       "      <td>26.93</td>\n",
       "      <td>0.63</td>\n",
       "      <td>0.28</td>\n",
       "      <td>0.47</td>\n",
       "      <td>NaN</td>\n",
       "      <td>NaN</td>\n",
       "      <td>NaN</td>\n",
       "    </tr>\n",
       "  </tbody>\n",
       "</table>\n",
       "</div>"
      ],
      "text/plain": [
       "                        Name Platform  Year_of_Release         Genre  \\\n",
       "0                 Wii Sports      Wii           2006.0        Sports   \n",
       "1          Super Mario Bros.      NES           1985.0      Platform   \n",
       "2             Mario Kart Wii      Wii           2008.0        Racing   \n",
       "3          Wii Sports Resort      Wii           2009.0        Sports   \n",
       "4   Pokemon Red/Pokemon Blue       GB           1996.0  Role-Playing   \n",
       "5                     Tetris       GB           1989.0        Puzzle   \n",
       "6      New Super Mario Bros.       DS           2006.0      Platform   \n",
       "7                   Wii Play      Wii           2006.0          Misc   \n",
       "8  New Super Mario Bros. Wii      Wii           2009.0      Platform   \n",
       "9                  Duck Hunt      NES           1984.0       Shooter   \n",
       "\n",
       "   NA_sales  EU_sales  JP_sales  Other_sales  Critic_Score User_Score Rating  \n",
       "0     41.36     28.96      3.77         8.45          76.0          8      E  \n",
       "1     29.08      3.58      6.81         0.77           NaN        NaN    NaN  \n",
       "2     15.68     12.76      3.79         3.29          82.0        8.3      E  \n",
       "3     15.61     10.93      3.28         2.95          80.0          8      E  \n",
       "4     11.27      8.89     10.22         1.00           NaN        NaN    NaN  \n",
       "5     23.20      2.26      4.22         0.58           NaN        NaN    NaN  \n",
       "6     11.28      9.14      6.50         2.88          89.0        8.5      E  \n",
       "7     13.96      9.18      2.93         2.84          58.0        6.6      E  \n",
       "8     14.44      6.94      4.70         2.24          87.0        8.4      E  \n",
       "9     26.93      0.63      0.28         0.47           NaN        NaN    NaN  "
      ]
     },
     "execution_count": 20,
     "metadata": {},
     "output_type": "execute_result"
    }
   ],
   "source": [
    "#несколько строк\n",
    "data.head(10)"
   ]
  },
  {
   "cell_type": "code",
   "execution_count": 21,
   "metadata": {},
   "outputs": [
    {
     "name": "stdout",
     "output_type": "stream",
     "text": [
      "<class 'pandas.core.frame.DataFrame'>\n",
      "RangeIndex: 16715 entries, 0 to 16714\n",
      "Data columns (total 11 columns):\n",
      " #   Column           Non-Null Count  Dtype  \n",
      "---  ------           --------------  -----  \n",
      " 0   Name             16713 non-null  object \n",
      " 1   Platform         16715 non-null  object \n",
      " 2   Year_of_Release  16446 non-null  float64\n",
      " 3   Genre            16713 non-null  object \n",
      " 4   NA_sales         16715 non-null  float64\n",
      " 5   EU_sales         16715 non-null  float64\n",
      " 6   JP_sales         16715 non-null  float64\n",
      " 7   Other_sales      16715 non-null  float64\n",
      " 8   Critic_Score     8137 non-null   float64\n",
      " 9   User_Score       10014 non-null  object \n",
      " 10  Rating           9949 non-null   object \n",
      "dtypes: float64(6), object(5)\n",
      "memory usage: 1.4+ MB\n"
     ]
    }
   ],
   "source": [
    "#информация о датасете\n",
    "data.info()"
   ]
  },
  {
   "cell_type": "code",
   "execution_count": 22,
   "metadata": {
    "scrolled": true
   },
   "outputs": [
    {
     "name": "stdout",
     "output_type": "stream",
     "text": [
      "Имена полей в датасете:  Index(['name', 'platform', 'year_of_release', 'genre', 'na_sales', 'eu_sales',\n",
      "       'jp_sales', 'other_sales', 'critic_score', 'user_score', 'rating'],\n",
      "      dtype='object')\n"
     ]
    }
   ],
   "source": [
    "#приведем наименования колонок к стандарту PEP8\n",
    "data.columns = ['name', 'platform', 'year_of_release', 'genre', 'na_sales', 'eu_sales', \n",
    "                'jp_sales', 'other_sales', 'critic_score', 'user_score', 'rating']\n",
    "print('Имена полей в датасете: ', data.columns)"
   ]
  },
  {
   "cell_type": "markdown",
   "metadata": {},
   "source": [
    "### Обработка дубликаторв"
   ]
  },
  {
   "cell_type": "code",
   "execution_count": 23,
   "metadata": {},
   "outputs": [
    {
     "name": "stdout",
     "output_type": "stream",
     "text": [
      "Количество дублирующихся строк в датасете:  0\n"
     ]
    }
   ],
   "source": [
    "#посчитаем количество дубликатов\n",
    "print('Количество дублирующихся строк в датасете: ', data.duplicated().sum())"
   ]
  },
  {
   "cell_type": "markdown",
   "metadata": {},
   "source": [
    "### Обработка пропущенных значений"
   ]
  },
  {
   "cell_type": "code",
   "execution_count": 24,
   "metadata": {},
   "outputs": [],
   "source": [
    "#заполнение строк в которых есть пустое значение в заданном поле\n",
    "def filling_nans(df, field, meaning):\n",
    "    nan_before = df[field].isna().sum()\n",
    "    df[field] = df[field].fillna(meaning)\n",
    "    nan_after = df[field].isna().sum()\n",
    "    return nan_before, nan_after # возвращает число строк в которых есть пустые значения до и после их заполнения"
   ]
  },
  {
   "cell_type": "code",
   "execution_count": 25,
   "metadata": {},
   "outputs": [
    {
     "name": "stdout",
     "output_type": "stream",
     "text": [
      "Количество пропущенных значений в поле name:  2\n",
      "Количество пропущенных значений в поле name после заполнения пропусков:  0\n"
     ]
    }
   ],
   "source": [
    "#обработка пропущенных значений в поле name\n",
    "before, after = filling_nans(data, 'name', 'unknown')\n",
    "print('Количество пропущенных значений в поле name: ', before)\n",
    "print('Количество пропущенных значений в поле name после заполнения пропусков: ', after)"
   ]
  },
  {
   "cell_type": "code",
   "execution_count": 26,
   "metadata": {
    "scrolled": true
   },
   "outputs": [
    {
     "name": "stdout",
     "output_type": "stream",
     "text": [
      "Количество пропущенных значений в поле name:  2\n",
      "Количество пропущенных значений в поле name после удаления пропусков:  0\n"
     ]
    }
   ],
   "source": [
    "#обработка пропущенных значений в поле genre. Удаление\n",
    "print('Количество пропущенных значений в поле name: ', data['genre'].isna().sum())\n",
    "data = data.dropna(subset=['genre'])\n",
    "print('Количество пропущенных значений в поле name после удаления пропусков: ', data['genre'].isna().sum())\n",
    "data = data.reset_index()"
   ]
  },
  {
   "cell_type": "code",
   "execution_count": 27,
   "metadata": {
    "scrolled": true
   },
   "outputs": [
    {
     "name": "stdout",
     "output_type": "stream",
     "text": [
      "Количество пропущенных значений в поле rating:  6764\n",
      "Количество пропущенных значений в поле genre после заполнения пропусков:  0\n"
     ]
    }
   ],
   "source": [
    "#обработка пропущенных значений в поле rating\n",
    "before, after = filling_nans(data, 'rating', 'unknown')\n",
    "print('Количество пропущенных значений в поле rating: ', before)\n",
    "print('Количество пропущенных значений в поле genre после заполнения пропусков: ', after)"
   ]
  },
  {
   "cell_type": "code",
   "execution_count": 28,
   "metadata": {},
   "outputs": [
    {
     "data": {
      "text/plain": [
       "Series([], dtype: int64)"
      ]
     },
     "execution_count": 28,
     "metadata": {},
     "output_type": "execute_result"
    }
   ],
   "source": [
    "#проверим есть ли значения critic_score = 0\n",
    "data.query('critic_score == 0').value_counts()"
   ]
  },
  {
   "cell_type": "code",
   "execution_count": 29,
   "metadata": {},
   "outputs": [
    {
     "data": {
      "text/plain": [
       "Series([], dtype: int64)"
      ]
     },
     "execution_count": 29,
     "metadata": {},
     "output_type": "execute_result"
    }
   ],
   "source": [
    "#проверим есть ли значения user_score = 0\n",
    "data.query('user_score == 0').value_counts()"
   ]
  },
  {
   "cell_type": "markdown",
   "metadata": {},
   "source": [
    "В датасете не обнаружены нулевые значения для полей:\n",
    "- critic_score\n",
    "- user_score\n",
    "\n",
    "Судя по всему эти значения являются пустыми, т.к. для соответсвующих игр еще не было оценок. Заполним пустые значения для этих трех полей нулем."
   ]
  },
  {
   "cell_type": "code",
   "execution_count": 30,
   "metadata": {},
   "outputs": [
    {
     "name": "stdout",
     "output_type": "stream",
     "text": [
      "Количество пропущенных значений в поле critic_score:  8576\n",
      "Количество пропущенных значений в поле critic_score после заполнения пропусков:  0\n"
     ]
    }
   ],
   "source": [
    "#обработка пропущенных значений в поле critic_score\n",
    "before, after = filling_nans(data, 'critic_score', 0)\n",
    "print('Количество пропущенных значений в поле critic_score: ', before)\n",
    "print('Количество пропущенных значений в поле critic_score после заполнения пропусков: ', after)"
   ]
  },
  {
   "cell_type": "code",
   "execution_count": 31,
   "metadata": {},
   "outputs": [
    {
     "name": "stdout",
     "output_type": "stream",
     "text": [
      "Количество пропущенных значений в поле user_score:  6699\n",
      "Количество пропущенных значений в поле user_score после заполнения пропусков:  0\n"
     ]
    }
   ],
   "source": [
    "#обработка пропущенных значений в поле user_score\n",
    "before, after = filling_nans(data, 'user_score', 0)\n",
    "print('Количество пропущенных значений в поле user_score: ', before)\n",
    "print('Количество пропущенных значений в поле user_score после заполнения пропусков: ', after)"
   ]
  },
  {
   "cell_type": "code",
   "execution_count": 32,
   "metadata": {},
   "outputs": [],
   "source": [
    "#заполнение пустых значений в поле year_of_release медианными значениями, сгруппированными по платформе релиза игры\n",
    "for t in data['platform'].unique():\n",
    "    data.loc[(data['platform'] == t) & (data['year_of_release'].isna()), 'year_of_release'] = \\\n",
    "    data.loc[(data['platform'] == t), 'year_of_release'].median()"
   ]
  },
  {
   "cell_type": "code",
   "execution_count": 33,
   "metadata": {},
   "outputs": [
    {
     "data": {
      "text/plain": [
       "index              0\n",
       "name               0\n",
       "platform           0\n",
       "year_of_release    0\n",
       "genre              0\n",
       "na_sales           0\n",
       "eu_sales           0\n",
       "jp_sales           0\n",
       "other_sales        0\n",
       "critic_score       0\n",
       "user_score         0\n",
       "rating             0\n",
       "dtype: int64"
      ]
     },
     "execution_count": 33,
     "metadata": {},
     "output_type": "execute_result"
    }
   ],
   "source": [
    "#проверим наличие пустых значений в датасете\n",
    "data.isna().sum()"
   ]
  },
  {
   "cell_type": "markdown",
   "metadata": {},
   "source": [
    "### Изменение типов данных"
   ]
  },
  {
   "cell_type": "code",
   "execution_count": 34,
   "metadata": {},
   "outputs": [],
   "source": [
    "#функция для изменения типа столбца датафрейма\n",
    "def change_type(df, field, new_type):\n",
    "    df[field] = df[field].astype(new_type)\n",
    "    return df"
   ]
  },
  {
   "cell_type": "code",
   "execution_count": 35,
   "metadata": {},
   "outputs": [],
   "source": [
    "#изменение типов данных critic_score и year_of_release\n",
    "change_type(data, 'critic_score', int)\n",
    "change_type(data, 'year_of_release', int);"
   ]
  },
  {
   "cell_type": "code",
   "execution_count": 36,
   "metadata": {},
   "outputs": [
    {
     "data": {
      "text/plain": [
       "array(['8', 0, '8.3', '8.5', '6.6', '8.4', '8.6', '7.7', '6.3', '7.4',\n",
       "       '8.2', '9', '7.9', '8.1', '8.7', '7.1', '3.4', '5.3', '4.8', '3.2',\n",
       "       '8.9', '6.4', '7.8', '7.5', '2.6', '7.2', '9.2', '7', '7.3', '4.3',\n",
       "       '7.6', '5.7', '5', '9.1', '6.5', 'tbd', '8.8', '6.9', '9.4', '6.8',\n",
       "       '6.1', '6.7', '5.4', '4', '4.9', '4.5', '9.3', '6.2', '4.2', '6',\n",
       "       '3.7', '4.1', '5.8', '5.6', '5.5', '4.4', '4.6', '5.9', '3.9',\n",
       "       '3.1', '2.9', '5.2', '3.3', '4.7', '5.1', '3.5', '2.5', '1.9', '3',\n",
       "       '2.7', '2.2', '2', '9.5', '2.1', '3.6', '2.8', '1.8', '3.8', '0',\n",
       "       '1.6', '9.6', '2.4', '1.7', '1.1', '0.3', '1.5', '0.7', '1.2',\n",
       "       '2.3', '0.5', '1.3', '0.2', '0.6', '1.4', '0.9', '1', '9.7'],\n",
       "      dtype=object)"
      ]
     },
     "execution_count": 36,
     "metadata": {},
     "output_type": "execute_result"
    }
   ],
   "source": [
    "#посмотрим уникальные данные в поле user_score\n",
    "data['user_score'].unique()"
   ]
  },
  {
   "cell_type": "code",
   "execution_count": 37,
   "metadata": {},
   "outputs": [],
   "source": [
    "#замена значения tbd на 0\n",
    "for i in range(0, data.shape[0]):\n",
    "    if data.loc[i, 'user_score'] == 'tbd':\n",
    "        data.loc[i, 'user_score'] = 10"
   ]
  },
  {
   "cell_type": "code",
   "execution_count": 38,
   "metadata": {},
   "outputs": [],
   "source": [
    "#изменение типов данных user_score на float\n",
    "change_type(data, 'user_score', float);"
   ]
  },
  {
   "cell_type": "markdown",
   "metadata": {},
   "source": [
    "### Вывод к разделу 3"
   ]
  },
  {
   "cell_type": "markdown",
   "metadata": {},
   "source": [
    "Датасет состоит из 16 715 строк. Содержит 11 колонок.\n",
    "Не содержит дубликатов.\n",
    "Заполнены пропущенные значения в полях `name` и `rating` значением `unknown`.\n",
    "Удалены две строки, которые содержали пустые значения в поле `genre`.\n",
    "\n",
    "Пропущенные значения в полях:\n",
    "- `critic_score`\n",
    "- `user_score`\n",
    "Заполнены значением `0`. Т.к. судя по всему это те игры для которых еще не проставлены какие-либо оценки пользователями и критиками.\n",
    "\n",
    "Пропущенные значения в поле `year_of_release` заполнены медианными значениями, рассчитанными из данных сгруппированных по платформе релиза игры.\n",
    "\n",
    "Для следующих полей был изменен тип переменной на `int`:\n",
    "- `year_of_release`\n",
    "- `critic_score`\n",
    "\n",
    "Для поля `user_score` в ряде строк было значение типа `str` `tbd`. Для того, чтобы можно было далее проводить манипуляции с числовыми значениями, значение `tbd` заменено на 20 (чтобы можно было отделить эти значения при необходимости) и тип поля заменен на `float`."
   ]
  },
  {
   "cell_type": "markdown",
   "metadata": {},
   "source": [
    "## Исследовательский анализ данных"
   ]
  },
  {
   "cell_type": "markdown",
   "metadata": {},
   "source": [
    "### Анализ количества игр выпускаемых в разные годы"
   ]
  },
  {
   "cell_type": "code",
   "execution_count": 39,
   "metadata": {},
   "outputs": [
    {
     "data": {
      "text/html": [
       "<div>\n",
       "<style scoped>\n",
       "    .dataframe tbody tr th:only-of-type {\n",
       "        vertical-align: middle;\n",
       "    }\n",
       "\n",
       "    .dataframe tbody tr th {\n",
       "        vertical-align: top;\n",
       "    }\n",
       "\n",
       "    .dataframe thead th {\n",
       "        text-align: right;\n",
       "    }\n",
       "</style>\n",
       "<table border=\"1\" class=\"dataframe\">\n",
       "  <thead>\n",
       "    <tr style=\"text-align: right;\">\n",
       "      <th></th>\n",
       "      <th>name</th>\n",
       "    </tr>\n",
       "    <tr>\n",
       "      <th>year_of_release</th>\n",
       "      <th></th>\n",
       "    </tr>\n",
       "  </thead>\n",
       "  <tbody>\n",
       "    <tr>\n",
       "      <th>1980</th>\n",
       "      <td>9</td>\n",
       "    </tr>\n",
       "    <tr>\n",
       "      <th>1981</th>\n",
       "      <td>46</td>\n",
       "    </tr>\n",
       "    <tr>\n",
       "      <th>1982</th>\n",
       "      <td>53</td>\n",
       "    </tr>\n",
       "    <tr>\n",
       "      <th>1983</th>\n",
       "      <td>17</td>\n",
       "    </tr>\n",
       "    <tr>\n",
       "      <th>1984</th>\n",
       "      <td>14</td>\n",
       "    </tr>\n",
       "    <tr>\n",
       "      <th>1985</th>\n",
       "      <td>14</td>\n",
       "    </tr>\n",
       "    <tr>\n",
       "      <th>1986</th>\n",
       "      <td>21</td>\n",
       "    </tr>\n",
       "    <tr>\n",
       "      <th>1987</th>\n",
       "      <td>16</td>\n",
       "    </tr>\n",
       "    <tr>\n",
       "      <th>1988</th>\n",
       "      <td>15</td>\n",
       "    </tr>\n",
       "    <tr>\n",
       "      <th>1989</th>\n",
       "      <td>17</td>\n",
       "    </tr>\n",
       "    <tr>\n",
       "      <th>1990</th>\n",
       "      <td>16</td>\n",
       "    </tr>\n",
       "    <tr>\n",
       "      <th>1991</th>\n",
       "      <td>41</td>\n",
       "    </tr>\n",
       "    <tr>\n",
       "      <th>1992</th>\n",
       "      <td>43</td>\n",
       "    </tr>\n",
       "    <tr>\n",
       "      <th>1993</th>\n",
       "      <td>60</td>\n",
       "    </tr>\n",
       "    <tr>\n",
       "      <th>1994</th>\n",
       "      <td>121</td>\n",
       "    </tr>\n",
       "    <tr>\n",
       "      <th>1995</th>\n",
       "      <td>219</td>\n",
       "    </tr>\n",
       "    <tr>\n",
       "      <th>1996</th>\n",
       "      <td>263</td>\n",
       "    </tr>\n",
       "    <tr>\n",
       "      <th>1997</th>\n",
       "      <td>290</td>\n",
       "    </tr>\n",
       "    <tr>\n",
       "      <th>1998</th>\n",
       "      <td>386</td>\n",
       "    </tr>\n",
       "    <tr>\n",
       "      <th>1999</th>\n",
       "      <td>341</td>\n",
       "    </tr>\n",
       "    <tr>\n",
       "      <th>2000</th>\n",
       "      <td>350</td>\n",
       "    </tr>\n",
       "    <tr>\n",
       "      <th>2001</th>\n",
       "      <td>482</td>\n",
       "    </tr>\n",
       "    <tr>\n",
       "      <th>2002</th>\n",
       "      <td>829</td>\n",
       "    </tr>\n",
       "    <tr>\n",
       "      <th>2003</th>\n",
       "      <td>800</td>\n",
       "    </tr>\n",
       "    <tr>\n",
       "      <th>2004</th>\n",
       "      <td>783</td>\n",
       "    </tr>\n",
       "    <tr>\n",
       "      <th>2005</th>\n",
       "      <td>973</td>\n",
       "    </tr>\n",
       "    <tr>\n",
       "      <th>2006</th>\n",
       "      <td>1006</td>\n",
       "    </tr>\n",
       "    <tr>\n",
       "      <th>2007</th>\n",
       "      <td>1197</td>\n",
       "    </tr>\n",
       "    <tr>\n",
       "      <th>2008</th>\n",
       "      <td>1457</td>\n",
       "    </tr>\n",
       "    <tr>\n",
       "      <th>2009</th>\n",
       "      <td>1476</td>\n",
       "    </tr>\n",
       "    <tr>\n",
       "      <th>2010</th>\n",
       "      <td>1302</td>\n",
       "    </tr>\n",
       "    <tr>\n",
       "      <th>2011</th>\n",
       "      <td>1161</td>\n",
       "    </tr>\n",
       "    <tr>\n",
       "      <th>2012</th>\n",
       "      <td>653</td>\n",
       "    </tr>\n",
       "    <tr>\n",
       "      <th>2013</th>\n",
       "      <td>552</td>\n",
       "    </tr>\n",
       "    <tr>\n",
       "      <th>2014</th>\n",
       "      <td>582</td>\n",
       "    </tr>\n",
       "    <tr>\n",
       "      <th>2015</th>\n",
       "      <td>606</td>\n",
       "    </tr>\n",
       "    <tr>\n",
       "      <th>2016</th>\n",
       "      <td>502</td>\n",
       "    </tr>\n",
       "  </tbody>\n",
       "</table>\n",
       "</div>"
      ],
      "text/plain": [
       "                 name\n",
       "year_of_release      \n",
       "1980                9\n",
       "1981               46\n",
       "1982               53\n",
       "1983               17\n",
       "1984               14\n",
       "1985               14\n",
       "1986               21\n",
       "1987               16\n",
       "1988               15\n",
       "1989               17\n",
       "1990               16\n",
       "1991               41\n",
       "1992               43\n",
       "1993               60\n",
       "1994              121\n",
       "1995              219\n",
       "1996              263\n",
       "1997              290\n",
       "1998              386\n",
       "1999              341\n",
       "2000              350\n",
       "2001              482\n",
       "2002              829\n",
       "2003              800\n",
       "2004              783\n",
       "2005              973\n",
       "2006             1006\n",
       "2007             1197\n",
       "2008             1457\n",
       "2009             1476\n",
       "2010             1302\n",
       "2011             1161\n",
       "2012              653\n",
       "2013              552\n",
       "2014              582\n",
       "2015              606\n",
       "2016              502"
      ]
     },
     "execution_count": 39,
     "metadata": {},
     "output_type": "execute_result"
    }
   ],
   "source": [
    "#сгруппируем игры по годам выпуска\n",
    "data_years_pivot = data.pivot_table(index = 'year_of_release', values = 'name', aggfunc='count')\n",
    "data_years_pivot"
   ]
  },
  {
   "cell_type": "code",
   "execution_count": 40,
   "metadata": {},
   "outputs": [
    {
     "data": {
      "image/png": "[encoded data removed]",
      "text/plain": [
       "<Figure size 864x864 with 1 Axes>"
      ]
     },
     "metadata": {
      "needs_background": "light"
     },
     "output_type": "display_data"
    }
   ],
   "source": [
    "#данные по релизу игр по годам\n",
    "data_years_pivot['name'].plot(kind='bar', figsize=(12, 12), title='Количество релизов игр по годам', \n",
    "                              xlabel='Год релиза', ylabel='Количество релизов, шт');\n",
    "plt.xticks(rotation=-45);"
   ]
  },
  {
   "cell_type": "markdown",
   "metadata": {},
   "source": [
    "**Вывод**\n",
    "\n",
    "Релизы игр были на стабильно низком уровне до 1994 года (ниже 100 релизов в год). После этого пошел стабильный рост до 2009 года (до уровня 1476 релизов). После этого пошла небольшая ежегодная убыль, а в 2012 году произошел резкий спад до, примерно, 600 релизов в год и такой уровень сохраняется до сих пор."
   ]
  },
  {
   "cell_type": "markdown",
   "metadata": {},
   "source": [
    "### Анализ продаж по платформам"
   ]
  },
  {
   "cell_type": "code",
   "execution_count": 41,
   "metadata": {},
   "outputs": [
    {
     "data": {
      "text/html": [
       "<div>\n",
       "<style scoped>\n",
       "    .dataframe tbody tr th:only-of-type {\n",
       "        vertical-align: middle;\n",
       "    }\n",
       "\n",
       "    .dataframe tbody tr th {\n",
       "        vertical-align: top;\n",
       "    }\n",
       "\n",
       "    .dataframe thead th {\n",
       "        text-align: right;\n",
       "    }\n",
       "</style>\n",
       "<table border=\"1\" class=\"dataframe\">\n",
       "  <thead>\n",
       "    <tr style=\"text-align: right;\">\n",
       "      <th></th>\n",
       "      <th>index</th>\n",
       "      <th>name</th>\n",
       "      <th>platform</th>\n",
       "      <th>year_of_release</th>\n",
       "      <th>genre</th>\n",
       "      <th>na_sales</th>\n",
       "      <th>eu_sales</th>\n",
       "      <th>jp_sales</th>\n",
       "      <th>other_sales</th>\n",
       "      <th>critic_score</th>\n",
       "      <th>user_score</th>\n",
       "      <th>rating</th>\n",
       "      <th>total_sales</th>\n",
       "    </tr>\n",
       "  </thead>\n",
       "  <tbody>\n",
       "    <tr>\n",
       "      <th>0</th>\n",
       "      <td>0</td>\n",
       "      <td>Wii Sports</td>\n",
       "      <td>Wii</td>\n",
       "      <td>2006</td>\n",
       "      <td>Sports</td>\n",
       "      <td>41.36</td>\n",
       "      <td>28.96</td>\n",
       "      <td>3.77</td>\n",
       "      <td>8.45</td>\n",
       "      <td>76</td>\n",
       "      <td>8.0</td>\n",
       "      <td>E</td>\n",
       "      <td>82.54</td>\n",
       "    </tr>\n",
       "    <tr>\n",
       "      <th>1</th>\n",
       "      <td>1</td>\n",
       "      <td>Super Mario Bros.</td>\n",
       "      <td>NES</td>\n",
       "      <td>1985</td>\n",
       "      <td>Platform</td>\n",
       "      <td>29.08</td>\n",
       "      <td>3.58</td>\n",
       "      <td>6.81</td>\n",
       "      <td>0.77</td>\n",
       "      <td>0</td>\n",
       "      <td>0.0</td>\n",
       "      <td>unknown</td>\n",
       "      <td>40.24</td>\n",
       "    </tr>\n",
       "    <tr>\n",
       "      <th>2</th>\n",
       "      <td>2</td>\n",
       "      <td>Mario Kart Wii</td>\n",
       "      <td>Wii</td>\n",
       "      <td>2008</td>\n",
       "      <td>Racing</td>\n",
       "      <td>15.68</td>\n",
       "      <td>12.76</td>\n",
       "      <td>3.79</td>\n",
       "      <td>3.29</td>\n",
       "      <td>82</td>\n",
       "      <td>8.3</td>\n",
       "      <td>E</td>\n",
       "      <td>35.52</td>\n",
       "    </tr>\n",
       "    <tr>\n",
       "      <th>3</th>\n",
       "      <td>3</td>\n",
       "      <td>Wii Sports Resort</td>\n",
       "      <td>Wii</td>\n",
       "      <td>2009</td>\n",
       "      <td>Sports</td>\n",
       "      <td>15.61</td>\n",
       "      <td>10.93</td>\n",
       "      <td>3.28</td>\n",
       "      <td>2.95</td>\n",
       "      <td>80</td>\n",
       "      <td>8.0</td>\n",
       "      <td>E</td>\n",
       "      <td>32.77</td>\n",
       "    </tr>\n",
       "    <tr>\n",
       "      <th>4</th>\n",
       "      <td>4</td>\n",
       "      <td>Pokemon Red/Pokemon Blue</td>\n",
       "      <td>GB</td>\n",
       "      <td>1996</td>\n",
       "      <td>Role-Playing</td>\n",
       "      <td>11.27</td>\n",
       "      <td>8.89</td>\n",
       "      <td>10.22</td>\n",
       "      <td>1.00</td>\n",
       "      <td>0</td>\n",
       "      <td>0.0</td>\n",
       "      <td>unknown</td>\n",
       "      <td>31.38</td>\n",
       "    </tr>\n",
       "  </tbody>\n",
       "</table>\n",
       "</div>"
      ],
      "text/plain": [
       "   index                      name platform  year_of_release         genre  \\\n",
       "0      0                Wii Sports      Wii             2006        Sports   \n",
       "1      1         Super Mario Bros.      NES             1985      Platform   \n",
       "2      2            Mario Kart Wii      Wii             2008        Racing   \n",
       "3      3         Wii Sports Resort      Wii             2009        Sports   \n",
       "4      4  Pokemon Red/Pokemon Blue       GB             1996  Role-Playing   \n",
       "\n",
       "   na_sales  eu_sales  jp_sales  other_sales  critic_score  user_score  \\\n",
       "0     41.36     28.96      3.77         8.45            76         8.0   \n",
       "1     29.08      3.58      6.81         0.77             0         0.0   \n",
       "2     15.68     12.76      3.79         3.29            82         8.3   \n",
       "3     15.61     10.93      3.28         2.95            80         8.0   \n",
       "4     11.27      8.89     10.22         1.00             0         0.0   \n",
       "\n",
       "    rating  total_sales  \n",
       "0        E        82.54  \n",
       "1  unknown        40.24  \n",
       "2        E        35.52  \n",
       "3        E        32.77  \n",
       "4  unknown        31.38  "
      ]
     },
     "execution_count": 41,
     "metadata": {},
     "output_type": "execute_result"
    }
   ],
   "source": [
    "#добавление поля с суммой всех продаж по всем континентам\n",
    "pd.options.mode.chained_assignment = None\n",
    "data['total_sales'] = data[['na_sales', 'eu_sales', 'jp_sales', 'other_sales']].sum(axis=1)\n",
    "data.head()"
   ]
  },
  {
   "cell_type": "code",
   "execution_count": 42,
   "metadata": {},
   "outputs": [
    {
     "data": {
      "text/html": [
       "<div>\n",
       "<style scoped>\n",
       "    .dataframe tbody tr th:only-of-type {\n",
       "        vertical-align: middle;\n",
       "    }\n",
       "\n",
       "    .dataframe tbody tr th {\n",
       "        vertical-align: top;\n",
       "    }\n",
       "\n",
       "    .dataframe thead th {\n",
       "        text-align: right;\n",
       "    }\n",
       "</style>\n",
       "<table border=\"1\" class=\"dataframe\">\n",
       "  <thead>\n",
       "    <tr style=\"text-align: right;\">\n",
       "      <th></th>\n",
       "      <th>total_sales</th>\n",
       "    </tr>\n",
       "    <tr>\n",
       "      <th>platform</th>\n",
       "      <th></th>\n",
       "    </tr>\n",
       "  </thead>\n",
       "  <tbody>\n",
       "    <tr>\n",
       "      <th>PS2</th>\n",
       "      <td>1255.77</td>\n",
       "    </tr>\n",
       "    <tr>\n",
       "      <th>X360</th>\n",
       "      <td>971.42</td>\n",
       "    </tr>\n",
       "    <tr>\n",
       "      <th>PS3</th>\n",
       "      <td>939.65</td>\n",
       "    </tr>\n",
       "    <tr>\n",
       "      <th>Wii</th>\n",
       "      <td>907.51</td>\n",
       "    </tr>\n",
       "    <tr>\n",
       "      <th>DS</th>\n",
       "      <td>806.12</td>\n",
       "    </tr>\n",
       "    <tr>\n",
       "      <th>PS</th>\n",
       "      <td>730.86</td>\n",
       "    </tr>\n",
       "    <tr>\n",
       "      <th>GBA</th>\n",
       "      <td>317.85</td>\n",
       "    </tr>\n",
       "    <tr>\n",
       "      <th>PS4</th>\n",
       "      <td>314.14</td>\n",
       "    </tr>\n",
       "    <tr>\n",
       "      <th>PSP</th>\n",
       "      <td>294.05</td>\n",
       "    </tr>\n",
       "    <tr>\n",
       "      <th>PC</th>\n",
       "      <td>259.52</td>\n",
       "    </tr>\n",
       "    <tr>\n",
       "      <th>3DS</th>\n",
       "      <td>259.00</td>\n",
       "    </tr>\n",
       "    <tr>\n",
       "      <th>XB</th>\n",
       "      <td>257.74</td>\n",
       "    </tr>\n",
       "    <tr>\n",
       "      <th>GB</th>\n",
       "      <td>255.46</td>\n",
       "    </tr>\n",
       "    <tr>\n",
       "      <th>NES</th>\n",
       "      <td>251.05</td>\n",
       "    </tr>\n",
       "    <tr>\n",
       "      <th>N64</th>\n",
       "      <td>218.68</td>\n",
       "    </tr>\n",
       "    <tr>\n",
       "      <th>SNES</th>\n",
       "      <td>200.04</td>\n",
       "    </tr>\n",
       "    <tr>\n",
       "      <th>GC</th>\n",
       "      <td>198.93</td>\n",
       "    </tr>\n",
       "    <tr>\n",
       "      <th>XOne</th>\n",
       "      <td>159.32</td>\n",
       "    </tr>\n",
       "    <tr>\n",
       "      <th>2600</th>\n",
       "      <td>96.98</td>\n",
       "    </tr>\n",
       "    <tr>\n",
       "      <th>WiiU</th>\n",
       "      <td>82.19</td>\n",
       "    </tr>\n",
       "    <tr>\n",
       "      <th>PSV</th>\n",
       "      <td>54.07</td>\n",
       "    </tr>\n",
       "    <tr>\n",
       "      <th>SAT</th>\n",
       "      <td>33.59</td>\n",
       "    </tr>\n",
       "    <tr>\n",
       "      <th>GEN</th>\n",
       "      <td>28.35</td>\n",
       "    </tr>\n",
       "    <tr>\n",
       "      <th>DC</th>\n",
       "      <td>15.95</td>\n",
       "    </tr>\n",
       "    <tr>\n",
       "      <th>SCD</th>\n",
       "      <td>1.86</td>\n",
       "    </tr>\n",
       "    <tr>\n",
       "      <th>NG</th>\n",
       "      <td>1.44</td>\n",
       "    </tr>\n",
       "    <tr>\n",
       "      <th>WS</th>\n",
       "      <td>1.42</td>\n",
       "    </tr>\n",
       "    <tr>\n",
       "      <th>TG16</th>\n",
       "      <td>0.16</td>\n",
       "    </tr>\n",
       "    <tr>\n",
       "      <th>3DO</th>\n",
       "      <td>0.10</td>\n",
       "    </tr>\n",
       "    <tr>\n",
       "      <th>GG</th>\n",
       "      <td>0.04</td>\n",
       "    </tr>\n",
       "    <tr>\n",
       "      <th>PCFX</th>\n",
       "      <td>0.03</td>\n",
       "    </tr>\n",
       "  </tbody>\n",
       "</table>\n",
       "</div>"
      ],
      "text/plain": [
       "          total_sales\n",
       "platform             \n",
       "PS2           1255.77\n",
       "X360           971.42\n",
       "PS3            939.65\n",
       "Wii            907.51\n",
       "DS             806.12\n",
       "PS             730.86\n",
       "GBA            317.85\n",
       "PS4            314.14\n",
       "PSP            294.05\n",
       "PC             259.52\n",
       "3DS            259.00\n",
       "XB             257.74\n",
       "GB             255.46\n",
       "NES            251.05\n",
       "N64            218.68\n",
       "SNES           200.04\n",
       "GC             198.93\n",
       "XOne           159.32\n",
       "2600            96.98\n",
       "WiiU            82.19\n",
       "PSV             54.07\n",
       "SAT             33.59\n",
       "GEN             28.35\n",
       "DC              15.95\n",
       "SCD              1.86\n",
       "NG               1.44\n",
       "WS               1.42\n",
       "TG16             0.16\n",
       "3DO              0.10\n",
       "GG               0.04\n",
       "PCFX             0.03"
      ]
     },
     "execution_count": 42,
     "metadata": {},
     "output_type": "execute_result"
    }
   ],
   "source": [
    "#сводная таблица по релизам по годам и платформам\n",
    "platform_sales_pivot = data.pivot_table(index='platform', values='total_sales', aggfunc='sum')\n",
    "platform_sales_pivot.sort_values('total_sales', ascending=False)"
   ]
  },
  {
   "cell_type": "markdown",
   "metadata": {},
   "source": [
    "Для дальнейшего анализа возьму первые 6 платформ, т.к. они сильно опережают остальные по продажам:\n",
    "- PS2\n",
    "- X360\n",
    "- PS3\n",
    "- Wii\n",
    "- DS\n",
    "- PS"
   ]
  },
  {
   "cell_type": "code",
   "execution_count": 43,
   "metadata": {},
   "outputs": [],
   "source": [
    "#обор данных по интересующим платформам в отдельный датасет\n",
    "data_top_platform = data.query('platform in [\"PS2\", \"X360\", \"PS3\", \"Wii\", \"DS\", \"PS\"]')"
   ]
  },
  {
   "cell_type": "code",
   "execution_count": 50,
   "metadata": {},
   "outputs": [
    {
     "data": {
      "image/png": "[encoded data removed]",
      "text/plain": [
       "<Figure size 1008x864 with 1 Axes>"
      ]
     },
     "metadata": {
      "needs_background": "light"
     },
     "output_type": "display_data"
    }
   ],
   "source": [
    "#сводная таблица по топовым платформам по годам\n",
    "top_platform_sales_pivot = data_top_platform.pivot_table(index='year_of_release', values='total_sales', \n",
    "                                                         columns='platform', aggfunc='sum')\n",
    "top_platform_sales_pivot.plot(kind='bar', figsize=(14, 12), title='Количество релизов на платформе за год', \n",
    "                              xlabel='Год релиза', ylabel='Количество релизов на платформе, шт');\n",
    "plt.xticks(rotation=-45);\n",
    "plt.legend(title='Платформа');\n"
   ]
  },
  {
   "cell_type": "markdown",
   "metadata": {},
   "source": [
    "**Вывод**\n",
    "\n",
    "Платформы с наибольшими продажами:\n",
    "- PS2\n",
    "- X360\n",
    "- PS3\n",
    "- Wii\n",
    "- DS\n",
    "- PS\n",
    "\n",
    "Анализ показал, что новые платформы появляется и исчезают в среднем за 11 лет."
   ]
  },
  {
   "cell_type": "markdown",
   "metadata": {},
   "source": [
    "### Отбор данных за актуальный период"
   ]
  },
  {
   "cell_type": "code",
   "execution_count": 45,
   "metadata": {},
   "outputs": [
    {
     "data": {
      "text/plain": [
       "2895"
      ]
     },
     "execution_count": 45,
     "metadata": {},
     "output_type": "execute_result"
    }
   ],
   "source": [
    "#отбор актуальных данных для дальнейшей работы\n",
    "data_actual = data.query('year_of_release > 2011')\n",
    "data_actual.shape[0]"
   ]
  },
  {
   "cell_type": "markdown",
   "metadata": {},
   "source": [
    "**Вывод**\n",
    "\n",
    "Согласно полученным данным в разделе 4.1 последнее изменение поведения продаж произошло после 2011 года. Упало где-то до 600 штук и остается стабильным до текущего момента. Актуальный период: 2011 - наст.вр. В новом датасете 2895 строк."
   ]
  },
  {
   "cell_type": "markdown",
   "metadata": {},
   "source": [
    "### Платформы, лидирующие по продажам"
   ]
  },
  {
   "cell_type": "code",
   "execution_count": 46,
   "metadata": {},
   "outputs": [
    {
     "data": {
      "text/html": [
       "<div>\n",
       "<style scoped>\n",
       "    .dataframe tbody tr th:only-of-type {\n",
       "        vertical-align: middle;\n",
       "    }\n",
       "\n",
       "    .dataframe tbody tr th {\n",
       "        vertical-align: top;\n",
       "    }\n",
       "\n",
       "    .dataframe thead th {\n",
       "        text-align: right;\n",
       "    }\n",
       "</style>\n",
       "<table border=\"1\" class=\"dataframe\">\n",
       "  <thead>\n",
       "    <tr style=\"text-align: right;\">\n",
       "      <th></th>\n",
       "      <th>total_sales</th>\n",
       "    </tr>\n",
       "    <tr>\n",
       "      <th>platform</th>\n",
       "      <th></th>\n",
       "    </tr>\n",
       "  </thead>\n",
       "  <tbody>\n",
       "    <tr>\n",
       "      <th>PS4</th>\n",
       "      <td>314.14</td>\n",
       "    </tr>\n",
       "    <tr>\n",
       "      <th>PS3</th>\n",
       "      <td>288.79</td>\n",
       "    </tr>\n",
       "    <tr>\n",
       "      <th>X360</th>\n",
       "      <td>236.54</td>\n",
       "    </tr>\n",
       "    <tr>\n",
       "      <th>3DS</th>\n",
       "      <td>195.80</td>\n",
       "    </tr>\n",
       "    <tr>\n",
       "      <th>XOne</th>\n",
       "      <td>159.32</td>\n",
       "    </tr>\n",
       "    <tr>\n",
       "      <th>WiiU</th>\n",
       "      <td>82.19</td>\n",
       "    </tr>\n",
       "    <tr>\n",
       "      <th>PC</th>\n",
       "      <td>62.65</td>\n",
       "    </tr>\n",
       "    <tr>\n",
       "      <th>PSV</th>\n",
       "      <td>49.44</td>\n",
       "    </tr>\n",
       "    <tr>\n",
       "      <th>Wii</th>\n",
       "      <td>35.37</td>\n",
       "    </tr>\n",
       "    <tr>\n",
       "      <th>DS</th>\n",
       "      <td>12.55</td>\n",
       "    </tr>\n",
       "    <tr>\n",
       "      <th>PSP</th>\n",
       "      <td>11.19</td>\n",
       "    </tr>\n",
       "  </tbody>\n",
       "</table>\n",
       "</div>"
      ],
      "text/plain": [
       "          total_sales\n",
       "platform             \n",
       "PS4            314.14\n",
       "PS3            288.79\n",
       "X360           236.54\n",
       "3DS            195.80\n",
       "XOne           159.32\n",
       "WiiU            82.19\n",
       "PC              62.65\n",
       "PSV             49.44\n",
       "Wii             35.37\n",
       "DS              12.55\n",
       "PSP             11.19"
      ]
     },
     "execution_count": 46,
     "metadata": {},
     "output_type": "execute_result"
    }
   ],
   "source": [
    "#сводная таблица по релизам по годам и платформам\n",
    "platform_sales_actual_pivot = data_actual.pivot_table(index='platform', values='total_sales', aggfunc='sum')\n",
    "platform_sales_actual_pivot.sort_values('total_sales', ascending=False)"
   ]
  },
  {
   "cell_type": "code",
   "execution_count": 49,
   "metadata": {},
   "outputs": [
    {
     "data": {
      "image/png": "[encoded data removed]",
      "text/plain": [
       "<Figure size 1008x864 with 1 Axes>"
      ]
     },
     "metadata": {
      "needs_background": "light"
     },
     "output_type": "display_data"
    }
   ],
   "source": [
    "#сводная таблица по актуальным платформам по годам\n",
    "platform_actual_pivot = data_actual.pivot_table(index='year_of_release', values='total_sales', \n",
    "                                                columns='platform', aggfunc='sum')\n",
    "platform_actual_pivot.plot(kind='bar', figsize=(14, 12), title='Количество релизов на платформе за год', \n",
    "                            xlabel='Год релиза', ylabel='Количество релизов на платформе, шт');\n",
    "plt.xticks(rotation=-45);\n",
    "plt.legend(title='Платформа');\n"
   ]
  },
  {
   "cell_type": "markdown",
   "metadata": {},
   "source": [
    "**Вывод**\n",
    "\n",
    "С 2012 по 2015 годы по продажам лидирую платформы:\n",
    "- PS3 \n",
    "- PS4\n",
    "- X360\n",
    "\n",
    "При этом продажи по PS3 и X360 начали снижаться, тогда как для PS4 продажи год от года растут. \n",
    "Также виден рост по платформе XOne. По всем остальным наблюдается спад."
   ]
  },
  {
   "cell_type": "markdown",
   "metadata": {},
   "source": [
    "### \"Ящик с усами\" по продажам по платформам"
   ]
  },
  {
   "cell_type": "code",
   "execution_count": 48,
   "metadata": {},
   "outputs": [
    {
     "data": {
      "image/png": "[encoded data removed]",
      "text/plain": [
       "<Figure size 1080x576 with 1 Axes>"
      ]
     },
     "metadata": {
      "needs_background": "light"
     },
     "output_type": "display_data"
    }
   ],
   "source": [
    "#ящик с усами по годам для \n",
    "plt.figure(figsize=(15,8))\n",
    "sns.boxplot(x=data_actual['platform'], y=data_actual['total_sales']);\n",
    "plt.xlabel('Платформа')\n",
    "plt.ylabel('Общее число продаж, млн')\n",
    "plt.ylim(0, 3);\n"
   ]
  },
  {
   "cell_type": "markdown",
   "metadata": {},
   "source": [
    "**Вывод**\n",
    "\n",
    "Чем больше продаж на платформе, тем больше разброс значений, тем дальше выбросы от медианы. Но есть и исключения, например, платформа DS, которая показывает крайне малое количество выбросов и, вообще, продажи для этой платформы распределины очень \"сжато\" (малое расстояние между 1 и 3 квартилями)\n",
    "Все медианы по всем платформам находятся на уровне не выше 0,4."
   ]
  },
  {
   "cell_type": "markdown",
   "metadata": {},
   "source": [
    "### Влияние отзывов на продажи"
   ]
  },
  {
   "cell_type": "code",
   "execution_count": 32,
   "metadata": {},
   "outputs": [],
   "source": [
    "#отбор данных для одной популярной платформы\n",
    "data_for_corr_x360 = data_actual.query('platform == \"X360\"')\n",
    "data_for_corr_ps3 = data_actual.query('platform == \"PS3\"')\n",
    "data_for_corr_ps4 = data_actual.query('platform == \"PS4\"')"
   ]
  },
  {
   "cell_type": "code",
   "execution_count": 33,
   "metadata": {},
   "outputs": [],
   "source": [
    "#сброс индексов\n",
    "data_for_corr_x360 = data_for_corr_x360.reset_index(drop=True)\n",
    "data_for_corr_ps3 = data_for_corr_ps3.reset_index(drop=True)\n",
    "data_for_corr_ps4 = data_for_corr_ps4.reset_index(drop=True)"
   ]
  },
  {
   "cell_type": "markdown",
   "metadata": {},
   "source": [
    "#### Анализ продаж для платформы X360"
   ]
  },
  {
   "cell_type": "code",
   "execution_count": 34,
   "metadata": {},
   "outputs": [
    {
     "name": "stdout",
     "output_type": "stream",
     "text": [
      "Матрица рассеяния между оценками и продажами на платформе X360\n"
     ]
    },
    {
     "data": {
      "image/png": "[encoded data removed]",
      "text/plain": [
       "<Figure size 1080x1080 with 9 Axes>"
      ]
     },
     "metadata": {
      "needs_background": "light"
     },
     "output_type": "display_data"
    }
   ],
   "source": [
    "#построим матрицу диаграмм рассеяния\n",
    "pd.plotting.scatter_matrix(data_for_corr_x360.loc[:,['total_sales', 'critic_score', 'user_score']], figsize=(15, 15));\n",
    "print('Матрица рассеяния между оценками и продажами на платформе X360');"
   ]
  },
  {
   "cell_type": "code",
   "execution_count": 35,
   "metadata": {},
   "outputs": [
    {
     "data": {
      "image/png": "[encoded data removed]",
      "text/plain": [
       "<Figure size 720x576 with 2 Axes>"
      ]
     },
     "metadata": {
      "needs_background": "light"
     },
     "output_type": "display_data"
    }
   ],
   "source": [
    "#построим матрицу корреляций для 'total_sales', 'critic_score', 'user_score'\n",
    "plt.figure(figsize=(10, 8));\n",
    "sns.heatmap(data_for_corr_x360\n",
    "            .loc[:, ['total_sales', 'critic_score', 'user_score']]  #отбор нужных столбцов\n",
    "            .query('critic_score!=0 and user_score!=0 and user_score!=10')  #отбор ненулевых значений\n",
    "            .corr(), annot=True, cmap='coolwarm', vmin=-1 # построение матрицы корреляции\n",
    "           );\n",
    "plt.title('Корреляционная матрица между оценками и продажами на платформе X360');"
   ]
  },
  {
   "cell_type": "markdown",
   "metadata": {},
   "source": [
    "#### Анализ продаж для платформы PS3"
   ]
  },
  {
   "cell_type": "code",
   "execution_count": 36,
   "metadata": {},
   "outputs": [
    {
     "name": "stdout",
     "output_type": "stream",
     "text": [
      "Матрица рассеяния между оценками и продажами на платформе PS3\n"
     ]
    },
    {
     "data": {
      "image/png": "[encoded data removed]",
      "text/plain": [
       "<Figure size 1080x1080 with 9 Axes>"
      ]
     },
     "metadata": {
      "needs_background": "light"
     },
     "output_type": "display_data"
    }
   ],
   "source": [
    "#построим матрицу диаграмм рассеяния\n",
    "pd.plotting.scatter_matrix(data_for_corr_ps3.loc[:,['total_sales', 'critic_score', 'user_score']], figsize=(15, 15));\n",
    "print('Матрица рассеяния между оценками и продажами на платформе PS3');"
   ]
  },
  {
   "cell_type": "code",
   "execution_count": 37,
   "metadata": {},
   "outputs": [
    {
     "data": {
      "image/png": "[encoded data removed]",
      "text/plain": [
       "<Figure size 720x576 with 2 Axes>"
      ]
     },
     "metadata": {
      "needs_background": "light"
     },
     "output_type": "display_data"
    }
   ],
   "source": [
    "#построим матрицу корреляций для 'total_sales', 'critic_score', 'user_score'\n",
    "plt.figure(figsize=(10, 8));\n",
    "sns.heatmap(data_for_corr_ps3\n",
    "            .loc[:, ['total_sales', 'critic_score', 'user_score']]  #отбор нужных столбцов\n",
    "            .query('critic_score!=0 and user_score!=0 and user_score!=10')  #отбор ненулевых значений\n",
    "            .corr(), annot=True, cmap='coolwarm', vmin=-1 # построение матрицы корреляции\n",
    "           );\n",
    "plt.title('Корреляционная матрица между оценками и продажами на платформе PS3');"
   ]
  },
  {
   "cell_type": "markdown",
   "metadata": {},
   "source": [
    "#### Анализ продаж для платформы PS4"
   ]
  },
  {
   "cell_type": "code",
   "execution_count": 38,
   "metadata": {},
   "outputs": [
    {
     "name": "stdout",
     "output_type": "stream",
     "text": [
      "Матрица рассеяния между оценками и продажами на платформе PS4\n"
     ]
    },
    {
     "data": {
      "image/png": "[encoded data removed]",
      "text/plain": [
       "<Figure size 1080x1080 with 9 Axes>"
      ]
     },
     "metadata": {
      "needs_background": "light"
     },
     "output_type": "display_data"
    }
   ],
   "source": [
    "#построим матрицу диаграмм рассеяния\n",
    "pd.plotting.scatter_matrix(data_for_corr_ps4.loc[:,['total_sales', 'critic_score', 'user_score']], figsize=(15, 15));\n",
    "print('Матрица рассеяния между оценками и продажами на платформе PS4');"
   ]
  },
  {
   "cell_type": "code",
   "execution_count": 39,
   "metadata": {},
   "outputs": [
    {
     "data": {
      "image/png": "[encoded data removed]",
      "text/plain": [
       "<Figure size 720x576 with 2 Axes>"
      ]
     },
     "metadata": {
      "needs_background": "light"
     },
     "output_type": "display_data"
    }
   ],
   "source": [
    "#построим матрицу корреляций для 'total_sales', 'critic_score', 'user_score'\n",
    "plt.figure(figsize=(10, 8));\n",
    "sns.heatmap(data_for_corr_ps4\n",
    "            .loc[:, ['total_sales', 'critic_score', 'user_score']]  #отбор нужных столбцов\n",
    "            .query('critic_score!=0 and user_score!=0 and user_score!=10')  #отбор ненулевых значений\n",
    "            .corr(), annot=True, cmap='coolwarm', vmin=-1 # построение матрицы корреляции\n",
    "           );\n",
    "\n",
    "plt.title('Корреляционная матрица между оценками и продажами на платформе PS4');"
   ]
  },
  {
   "cell_type": "markdown",
   "metadata": {},
   "source": [
    "**Вывод**\n",
    "\n",
    "Корреляционный анализ проведен на топ-3 платформах:\n",
    "- X360\n",
    "- PS3\n",
    "- PS4\n",
    "\n",
    "Наблюдается незначительная положительная корреляции между продажами и оценками пользователей и критиков."
   ]
  },
  {
   "cell_type": "markdown",
   "metadata": {},
   "source": [
    "### Распределение игр по жанрам"
   ]
  },
  {
   "cell_type": "code",
   "execution_count": 40,
   "metadata": {
    "scrolled": true
   },
   "outputs": [
    {
     "data": {
      "text/html": [
       "<div>\n",
       "<style scoped>\n",
       "    .dataframe tbody tr th:only-of-type {\n",
       "        vertical-align: middle;\n",
       "    }\n",
       "\n",
       "    .dataframe tbody tr th {\n",
       "        vertical-align: top;\n",
       "    }\n",
       "\n",
       "    .dataframe thead th {\n",
       "        text-align: right;\n",
       "    }\n",
       "</style>\n",
       "<table border=\"1\" class=\"dataframe\">\n",
       "  <thead>\n",
       "    <tr style=\"text-align: right;\">\n",
       "      <th></th>\n",
       "      <th>total_sales</th>\n",
       "      <th>median_sales</th>\n",
       "      <th>count_of_games</th>\n",
       "    </tr>\n",
       "    <tr>\n",
       "      <th>genre</th>\n",
       "      <th></th>\n",
       "      <th></th>\n",
       "      <th></th>\n",
       "    </tr>\n",
       "  </thead>\n",
       "  <tbody>\n",
       "    <tr>\n",
       "      <th>Shooter</th>\n",
       "      <td>304.80</td>\n",
       "      <td>0.435</td>\n",
       "      <td>236</td>\n",
       "    </tr>\n",
       "    <tr>\n",
       "      <th>Sports</th>\n",
       "      <td>181.09</td>\n",
       "      <td>0.240</td>\n",
       "      <td>269</td>\n",
       "    </tr>\n",
       "    <tr>\n",
       "      <th>Platform</th>\n",
       "      <td>61.00</td>\n",
       "      <td>0.210</td>\n",
       "      <td>85</td>\n",
       "    </tr>\n",
       "    <tr>\n",
       "      <th>Role-Playing</th>\n",
       "      <td>193.09</td>\n",
       "      <td>0.140</td>\n",
       "      <td>372</td>\n",
       "    </tr>\n",
       "    <tr>\n",
       "      <th>Racing</th>\n",
       "      <td>53.59</td>\n",
       "      <td>0.135</td>\n",
       "      <td>116</td>\n",
       "    </tr>\n",
       "    <tr>\n",
       "      <th>Fighting</th>\n",
       "      <td>44.49</td>\n",
       "      <td>0.130</td>\n",
       "      <td>109</td>\n",
       "    </tr>\n",
       "    <tr>\n",
       "      <th>Action</th>\n",
       "      <td>441.52</td>\n",
       "      <td>0.120</td>\n",
       "      <td>1032</td>\n",
       "    </tr>\n",
       "    <tr>\n",
       "      <th>Misc</th>\n",
       "      <td>85.04</td>\n",
       "      <td>0.120</td>\n",
       "      <td>192</td>\n",
       "    </tr>\n",
       "    <tr>\n",
       "      <th>Simulation</th>\n",
       "      <td>35.61</td>\n",
       "      <td>0.120</td>\n",
       "      <td>82</td>\n",
       "    </tr>\n",
       "    <tr>\n",
       "      <th>Strategy</th>\n",
       "      <td>13.34</td>\n",
       "      <td>0.080</td>\n",
       "      <td>71</td>\n",
       "    </tr>\n",
       "    <tr>\n",
       "      <th>Puzzle</th>\n",
       "      <td>4.89</td>\n",
       "      <td>0.045</td>\n",
       "      <td>28</td>\n",
       "    </tr>\n",
       "    <tr>\n",
       "      <th>Adventure</th>\n",
       "      <td>29.52</td>\n",
       "      <td>0.030</td>\n",
       "      <td>303</td>\n",
       "    </tr>\n",
       "  </tbody>\n",
       "</table>\n",
       "</div>"
      ],
      "text/plain": [
       "              total_sales  median_sales  count_of_games\n",
       "genre                                                  \n",
       "Shooter            304.80         0.435             236\n",
       "Sports             181.09         0.240             269\n",
       "Platform            61.00         0.210              85\n",
       "Role-Playing       193.09         0.140             372\n",
       "Racing              53.59         0.135             116\n",
       "Fighting            44.49         0.130             109\n",
       "Action             441.52         0.120            1032\n",
       "Misc                85.04         0.120             192\n",
       "Simulation          35.61         0.120              82\n",
       "Strategy            13.34         0.080              71\n",
       "Puzzle               4.89         0.045              28\n",
       "Adventure           29.52         0.030             303"
      ]
     },
     "execution_count": 40,
     "metadata": {},
     "output_type": "execute_result"
    }
   ],
   "source": [
    "#сводная таблица с подсчетом продаж и количества игр по жанрам\n",
    "data_genre_pivot = data_actual.pivot_table(index='genre', values='total_sales', aggfunc=['sum', 'median', 'count'])\n",
    "data_genre_pivot.columns = ['total_sales', 'median_sales', 'count_of_games']  #переименование столбцов\n",
    "data_genre_pivot = data_genre_pivot.sort_values('median_sales', ascending=False)  #сортировка\n",
    "data_genre_pivot"
   ]
  },
  {
   "cell_type": "code",
   "execution_count": 41,
   "metadata": {},
   "outputs": [
    {
     "data": {
      "image/png": "[encoded data removed]",
      "text/plain": [
       "<Figure size 576x432 with 1 Axes>"
      ]
     },
     "metadata": {
      "needs_background": "light"
     },
     "output_type": "display_data"
    }
   ],
   "source": [
    "#график медианных значений продаж по платформам\n",
    "data_genre_pivot['median_sales'].plot(kind='bar', figsize=(8, 6), title='Медианное количество продаж игр по жанрам', \n",
    "                              xlabel='Жанр', ylabel='Медианное количество продаж');\n",
    "plt.xticks(rotation=-45);"
   ]
  },
  {
   "cell_type": "markdown",
   "metadata": {},
   "source": [
    "**Вывод**\n",
    "\n",
    "Жанр, который в среднем на игру приносит больше всего и лидирует с большим отрывом - это `Shooter` (0.438 - медиана)\n",
    "\n",
    "Второе и третье места занимают жанры `Sports` и `Platform` (медиана 0.240 и 0.210 соответсвенно)."
   ]
  },
  {
   "cell_type": "markdown",
   "metadata": {},
   "source": [
    "## Портрет пользователя каждого региона"
   ]
  },
  {
   "cell_type": "markdown",
   "metadata": {},
   "source": [
    "### Топ-5 популярных платформ"
   ]
  },
  {
   "cell_type": "code",
   "execution_count": 42,
   "metadata": {},
   "outputs": [],
   "source": [
    "#получение данных о продажах по топ5 какой-либо группы для региона\n",
    "def top5_sales_continent(group, cont_sales):\n",
    "    \n",
    "    #рассчет продаж по группам (сводная таблица)\n",
    "    data_actual_cont = data_actual.pivot_table(index=group, values=cont_sales, aggfunc='sum') \n",
    "    \n",
    "    #сброс индексов и сортировка по убыванию\n",
    "    data_actual_cont = data_actual_cont.sort_values(cont_sales, ascending=False).reset_index() \n",
    "    \n",
    "    total_sales = 0  #суммарное количество продаж\n",
    "    other_sales = 0  #суммарное количетство продаж для топ5 платформ\n",
    "\n",
    "    for i in range (0, data_actual_cont.shape[0]):  #подсчет суммарного количество продаж\n",
    "        total_sales += data_actual_cont.loc[i, cont_sales]\n",
    "        \n",
    "    for i in range (5, data_actual_cont.shape[0]):  #подсчет суммарного количества продаж для топ5\n",
    "        other_sales += data_actual_cont.loc[i, cont_sales]\n",
    "    \n",
    "    #берем 5 верхних строк (топ) и добавляем к ним строку с суммарным количеством оставшихся платформ\n",
    "    data_actual_cont = data_actual_cont.head().append({group : 'other', cont_sales : other_sales}, ignore_index=True)  \n",
    "    \n",
    "    #добавление долей продаж по региону\n",
    "    data_actual_cont['part'] = (data_actual_cont[cont_sales] / total_sales * 100).round(1)  \n",
    "    \n",
    "    #набор цветов для диаграммы\n",
    "    colors = ['#4F6272', '#B7C3F3', '#DD7596', '#8EB897', '#7F6272', '#D7C3F3']\n",
    "    # создание диаграммы \"пирог\"\n",
    "    return plt.pie(data_actual_cont['part'], labels=data_actual_cont[group], labeldistance=1.15, \n",
    "                   wedgeprops = { 'linewidth' : 1, 'edgecolor' : 'white' }, colors=colors, \n",
    "                   data=data_actual_cont['part'], autopct='%.1f%%')"
   ]
  },
  {
   "cell_type": "code",
   "execution_count": 43,
   "metadata": {},
   "outputs": [
    {
     "name": "stdout",
     "output_type": "stream",
     "text": [
      "Доли продаж на самых популярных платформах в Северной Америке\n"
     ]
    },
    {
     "data": {
      "image/png": "[encoded data removed]",
      "text/plain": [
       "<Figure size 432x288 with 1 Axes>"
      ]
     },
     "metadata": {},
     "output_type": "display_data"
    }
   ],
   "source": [
    "#рассчет топ5 платформ для сев.ам.\n",
    "print('Доли продаж на самых популярных платформах в Северной Америке')\n",
    "top5_sales_continent('platform', 'na_sales');"
   ]
  },
  {
   "cell_type": "code",
   "execution_count": 44,
   "metadata": {},
   "outputs": [
    {
     "name": "stdout",
     "output_type": "stream",
     "text": [
      "Доли продаж на самых популярных платформах в Европе\n"
     ]
    },
    {
     "data": {
      "image/png": "[encoded data removed]",
      "text/plain": [
       "<Figure size 432x288 with 1 Axes>"
      ]
     },
     "metadata": {},
     "output_type": "display_data"
    }
   ],
   "source": [
    "#рассчет топ5 платформ для европы\n",
    "print('Доли продаж на самых популярных платформах в Европе')\n",
    "top5_sales_continent('platform', 'eu_sales');"
   ]
  },
  {
   "cell_type": "code",
   "execution_count": 45,
   "metadata": {},
   "outputs": [
    {
     "name": "stdout",
     "output_type": "stream",
     "text": [
      "Доли продаж на самых популярных платформах в Японии\n"
     ]
    },
    {
     "data": {
      "image/png": "[encoded data removed]",
      "text/plain": [
       "<Figure size 432x288 with 1 Axes>"
      ]
     },
     "metadata": {},
     "output_type": "display_data"
    }
   ],
   "source": [
    "#рассчет топ5 платформ для японии\n",
    "print('Доли продаж на самых популярных платформах в Японии')\n",
    "top5_sales_continent('platform', 'jp_sales');"
   ]
  },
  {
   "cell_type": "code",
   "execution_count": 46,
   "metadata": {},
   "outputs": [
    {
     "name": "stdout",
     "output_type": "stream",
     "text": [
      "Доли продаж на самых популярных платформах в прочих регионах мира\n"
     ]
    },
    {
     "data": {
      "image/png": "[encoded data removed]",
      "text/plain": [
       "<Figure size 432x288 with 1 Axes>"
      ]
     },
     "metadata": {},
     "output_type": "display_data"
    }
   ],
   "source": [
    "#рассчет топ5 платформ для остальных регионов\n",
    "print('Доли продаж на самых популярных платформах в прочих регионах мира')\n",
    "top5_sales_continent('platform', 'other_sales');"
   ]
  },
  {
   "cell_type": "markdown",
   "metadata": {},
   "source": [
    "**Вывод**\n",
    "\n",
    "На разных контенентах популярные платформы немного разнятся.\n",
    "\n",
    "На фоне всех регионов особенно выделяется Япония. В ней топ-5 входят платформы: PSV PSP и WiiU, которые не входят в топы в других регионах мира.\n",
    "\n",
    "Во всех остальных регионах примерно одинаково популярны: PS3, PS4, X360, XOne, 3DS."
   ]
  },
  {
   "cell_type": "markdown",
   "metadata": {},
   "source": [
    "### Топ-5 популярных жанров"
   ]
  },
  {
   "cell_type": "code",
   "execution_count": 47,
   "metadata": {},
   "outputs": [
    {
     "name": "stdout",
     "output_type": "stream",
     "text": [
      "Доли продаж игр по самым популярным жанрам в Северной Америке\n"
     ]
    },
    {
     "data": {
      "image/png": "[encoded data removed]",
      "text/plain": [
       "<Figure size 432x288 with 1 Axes>"
      ]
     },
     "metadata": {},
     "output_type": "display_data"
    }
   ],
   "source": [
    "#рассчет топ5 жанров для сев.ам.\n",
    "print('Доли продаж игр по самым популярным жанрам в Северной Америке')\n",
    "top5_sales_continent('genre', 'na_sales');"
   ]
  },
  {
   "cell_type": "code",
   "execution_count": 48,
   "metadata": {},
   "outputs": [
    {
     "name": "stdout",
     "output_type": "stream",
     "text": [
      "Доли продаж игр по самым популярным жанрам в Европе\n"
     ]
    },
    {
     "data": {
      "image/png": "[encoded data removed]",
      "text/plain": [
       "<Figure size 432x288 with 1 Axes>"
      ]
     },
     "metadata": {},
     "output_type": "display_data"
    }
   ],
   "source": [
    "#рассчет топ5 жанров для европы\n",
    "print('Доли продаж игр по самым популярным жанрам в Европе')\n",
    "top5_sales_continent('genre', 'eu_sales');"
   ]
  },
  {
   "cell_type": "code",
   "execution_count": 49,
   "metadata": {},
   "outputs": [
    {
     "name": "stdout",
     "output_type": "stream",
     "text": [
      "Доли продаж игр по самым популярным жанрам в Японии\n"
     ]
    },
    {
     "data": {
      "image/png": "[encoded data removed]",
      "text/plain": [
       "<Figure size 432x288 with 1 Axes>"
      ]
     },
     "metadata": {},
     "output_type": "display_data"
    }
   ],
   "source": [
    "#рассчет топ5 жанров для японии.\n",
    "print('Доли продаж игр по самым популярным жанрам в Японии')\n",
    "top5_sales_continent('genre', 'jp_sales');"
   ]
  },
  {
   "cell_type": "code",
   "execution_count": 50,
   "metadata": {},
   "outputs": [
    {
     "name": "stdout",
     "output_type": "stream",
     "text": [
      "Доли продаж игр по самым популярным жанрам в прочих регионах мира\n"
     ]
    },
    {
     "data": {
      "image/png": "[encoded data removed]",
      "text/plain": [
       "<Figure size 432x288 with 1 Axes>"
      ]
     },
     "metadata": {},
     "output_type": "display_data"
    }
   ],
   "source": [
    "#рассчет топ5 жанров для остальных регионов\n",
    "print('Доли продаж игр по самым популярным жанрам в прочих регионах мира')\n",
    "top5_sales_continent('genre', 'other_sales');"
   ]
  },
  {
   "cell_type": "markdown",
   "metadata": {},
   "source": [
    "**Вывод**\n",
    "\n",
    "В плане жанров Япония опять же выделяется. Во всех регионах самый популярный жанр - Action. Тогда как в Японии - Role-Playing. Также в Японии присутсвуют в топе жанры: Simulation и Fighting, которые не присутсвуют в топ-5 по всему остальному миру.\n",
    "\n",
    "Во всех остальных регионах топ-5 выглядит следующим образом:\n",
    "- Acrion\n",
    "- Shooter\n",
    "- Sports\n",
    "- Role_Playing\n",
    "- Misc"
   ]
  },
  {
   "cell_type": "markdown",
   "metadata": {},
   "source": [
    "### Влияние рейтинга ESRB на продажи"
   ]
  },
  {
   "cell_type": "code",
   "execution_count": 51,
   "metadata": {},
   "outputs": [],
   "source": [
    "#подсчет продаж по рейтингу для региона\n",
    "def rating_region(region):\n",
    "    rating_sales_pivot = data_actual.pivot_table(index='rating', values=region, aggfunc='sum')\n",
    "    return rating_sales_pivot.sort_values(region, ascending=False)"
   ]
  },
  {
   "cell_type": "code",
   "execution_count": 52,
   "metadata": {},
   "outputs": [
    {
     "data": {
      "text/html": [
       "<div>\n",
       "<style scoped>\n",
       "    .dataframe tbody tr th:only-of-type {\n",
       "        vertical-align: middle;\n",
       "    }\n",
       "\n",
       "    .dataframe tbody tr th {\n",
       "        vertical-align: top;\n",
       "    }\n",
       "\n",
       "    .dataframe thead th {\n",
       "        text-align: right;\n",
       "    }\n",
       "</style>\n",
       "<table border=\"1\" class=\"dataframe\">\n",
       "  <thead>\n",
       "    <tr style=\"text-align: right;\">\n",
       "      <th></th>\n",
       "      <th>na_sales</th>\n",
       "    </tr>\n",
       "    <tr>\n",
       "      <th>rating</th>\n",
       "      <th></th>\n",
       "    </tr>\n",
       "  </thead>\n",
       "  <tbody>\n",
       "    <tr>\n",
       "      <th>M</th>\n",
       "      <td>231.57</td>\n",
       "    </tr>\n",
       "    <tr>\n",
       "      <th>E</th>\n",
       "      <td>114.49</td>\n",
       "    </tr>\n",
       "    <tr>\n",
       "      <th>unknown</th>\n",
       "      <td>103.59</td>\n",
       "    </tr>\n",
       "    <tr>\n",
       "      <th>E10+</th>\n",
       "      <td>75.96</td>\n",
       "    </tr>\n",
       "    <tr>\n",
       "      <th>T</th>\n",
       "      <td>66.31</td>\n",
       "    </tr>\n",
       "  </tbody>\n",
       "</table>\n",
       "</div>"
      ],
      "text/plain": [
       "         na_sales\n",
       "rating           \n",
       "M          231.57\n",
       "E          114.49\n",
       "unknown    103.59\n",
       "E10+        75.96\n",
       "T           66.31"
      ]
     },
     "execution_count": 52,
     "metadata": {},
     "output_type": "execute_result"
    }
   ],
   "source": [
    "#рассчет продаж по рейтингу для сев.ам.\n",
    "rating_region('na_sales')"
   ]
  },
  {
   "cell_type": "code",
   "execution_count": 53,
   "metadata": {},
   "outputs": [
    {
     "data": {
      "text/html": [
       "<div>\n",
       "<style scoped>\n",
       "    .dataframe tbody tr th:only-of-type {\n",
       "        vertical-align: middle;\n",
       "    }\n",
       "\n",
       "    .dataframe tbody tr th {\n",
       "        vertical-align: top;\n",
       "    }\n",
       "\n",
       "    .dataframe thead th {\n",
       "        text-align: right;\n",
       "    }\n",
       "</style>\n",
       "<table border=\"1\" class=\"dataframe\">\n",
       "  <thead>\n",
       "    <tr style=\"text-align: right;\">\n",
       "      <th></th>\n",
       "      <th>eu_sales</th>\n",
       "    </tr>\n",
       "    <tr>\n",
       "      <th>rating</th>\n",
       "      <th></th>\n",
       "    </tr>\n",
       "  </thead>\n",
       "  <tbody>\n",
       "    <tr>\n",
       "      <th>M</th>\n",
       "      <td>193.96</td>\n",
       "    </tr>\n",
       "    <tr>\n",
       "      <th>E</th>\n",
       "      <td>113.05</td>\n",
       "    </tr>\n",
       "    <tr>\n",
       "      <th>unknown</th>\n",
       "      <td>91.50</td>\n",
       "    </tr>\n",
       "    <tr>\n",
       "      <th>E10+</th>\n",
       "      <td>55.56</td>\n",
       "    </tr>\n",
       "    <tr>\n",
       "      <th>T</th>\n",
       "      <td>53.01</td>\n",
       "    </tr>\n",
       "  </tbody>\n",
       "</table>\n",
       "</div>"
      ],
      "text/plain": [
       "         eu_sales\n",
       "rating           \n",
       "M          193.96\n",
       "E          113.05\n",
       "unknown     91.50\n",
       "E10+        55.56\n",
       "T           53.01"
      ]
     },
     "execution_count": 53,
     "metadata": {},
     "output_type": "execute_result"
    }
   ],
   "source": [
    "#рассчет продаж по рейтингу для сев.ам.\n",
    "rating_region('eu_sales')"
   ]
  },
  {
   "cell_type": "code",
   "execution_count": 54,
   "metadata": {},
   "outputs": [
    {
     "data": {
      "text/html": [
       "<div>\n",
       "<style scoped>\n",
       "    .dataframe tbody tr th:only-of-type {\n",
       "        vertical-align: middle;\n",
       "    }\n",
       "\n",
       "    .dataframe tbody tr th {\n",
       "        vertical-align: top;\n",
       "    }\n",
       "\n",
       "    .dataframe thead th {\n",
       "        text-align: right;\n",
       "    }\n",
       "</style>\n",
       "<table border=\"1\" class=\"dataframe\">\n",
       "  <thead>\n",
       "    <tr style=\"text-align: right;\">\n",
       "      <th></th>\n",
       "      <th>jp_sales</th>\n",
       "    </tr>\n",
       "    <tr>\n",
       "      <th>rating</th>\n",
       "      <th></th>\n",
       "    </tr>\n",
       "  </thead>\n",
       "  <tbody>\n",
       "    <tr>\n",
       "      <th>unknown</th>\n",
       "      <td>108.89</td>\n",
       "    </tr>\n",
       "    <tr>\n",
       "      <th>E</th>\n",
       "      <td>28.33</td>\n",
       "    </tr>\n",
       "    <tr>\n",
       "      <th>T</th>\n",
       "      <td>26.09</td>\n",
       "    </tr>\n",
       "    <tr>\n",
       "      <th>M</th>\n",
       "      <td>21.20</td>\n",
       "    </tr>\n",
       "    <tr>\n",
       "      <th>E10+</th>\n",
       "      <td>8.19</td>\n",
       "    </tr>\n",
       "  </tbody>\n",
       "</table>\n",
       "</div>"
      ],
      "text/plain": [
       "         jp_sales\n",
       "rating           \n",
       "unknown    108.89\n",
       "E           28.33\n",
       "T           26.09\n",
       "M           21.20\n",
       "E10+         8.19"
      ]
     },
     "execution_count": 54,
     "metadata": {},
     "output_type": "execute_result"
    }
   ],
   "source": [
    "#рассчет продаж по рейтингу для сев.ам.\n",
    "rating_region('jp_sales')"
   ]
  },
  {
   "cell_type": "code",
   "execution_count": 55,
   "metadata": {},
   "outputs": [
    {
     "data": {
      "text/html": [
       "<div>\n",
       "<style scoped>\n",
       "    .dataframe tbody tr th:only-of-type {\n",
       "        vertical-align: middle;\n",
       "    }\n",
       "\n",
       "    .dataframe tbody tr th {\n",
       "        vertical-align: top;\n",
       "    }\n",
       "\n",
       "    .dataframe thead th {\n",
       "        text-align: right;\n",
       "    }\n",
       "</style>\n",
       "<table border=\"1\" class=\"dataframe\">\n",
       "  <thead>\n",
       "    <tr style=\"text-align: right;\">\n",
       "      <th></th>\n",
       "      <th>other_sales</th>\n",
       "    </tr>\n",
       "    <tr>\n",
       "      <th>rating</th>\n",
       "      <th></th>\n",
       "    </tr>\n",
       "  </thead>\n",
       "  <tbody>\n",
       "    <tr>\n",
       "      <th>M</th>\n",
       "      <td>63.38</td>\n",
       "    </tr>\n",
       "    <tr>\n",
       "      <th>E</th>\n",
       "      <td>31.46</td>\n",
       "    </tr>\n",
       "    <tr>\n",
       "      <th>unknown</th>\n",
       "      <td>27.19</td>\n",
       "    </tr>\n",
       "    <tr>\n",
       "      <th>T</th>\n",
       "      <td>17.98</td>\n",
       "    </tr>\n",
       "    <tr>\n",
       "      <th>E10+</th>\n",
       "      <td>16.27</td>\n",
       "    </tr>\n",
       "  </tbody>\n",
       "</table>\n",
       "</div>"
      ],
      "text/plain": [
       "         other_sales\n",
       "rating              \n",
       "M              63.38\n",
       "E              31.46\n",
       "unknown        27.19\n",
       "T              17.98\n",
       "E10+           16.27"
      ]
     },
     "execution_count": 55,
     "metadata": {},
     "output_type": "execute_result"
    }
   ],
   "source": [
    "#рассчет продаж по рейтингу для сев.ам.\n",
    "rating_region('other_sales')"
   ]
  },
  {
   "cell_type": "markdown",
   "metadata": {},
   "source": [
    "**Вывод**\n",
    "\n",
    "По текущим данным трудно судить о реальном положении дел, т.к. оклоло 40% записей в датасете не имеет рейтинга.\n",
    "Если оценивать те данные, которые имеются в распоряжении, то во всем мире, кроме Японии, наиболее продаваемыми являются игры с рейтингом М (для взрослых).Далее идут игры для всех, потом для тех, кто старше 10 лет, потом для тех, кто старше 13 лет.\n",
    "\n",
    "В Японии самыми продаваемыми играми идут игры с рейтингом E (для всех), потом дети старше 13 лет, потом взрослые, потом дети старше 10 лет."
   ]
  },
  {
   "cell_type": "markdown",
   "metadata": {},
   "source": [
    "## Проверка гипотез"
   ]
  },
  {
   "cell_type": "markdown",
   "metadata": {},
   "source": [
    "### Средние пользовательские рейтинги платформ Xbox One и PC одинаковые"
   ]
  },
  {
   "cell_type": "markdown",
   "metadata": {},
   "source": [
    "Гипотезы:\n",
    "\n",
    "H0 - средние пользовательские рейтинги для платформ Xbox One и PC одинаковые\n",
    "\n",
    "H1 - средние пользовательские рейтинги для платформ Xbox One и PC не равны"
   ]
  },
  {
   "cell_type": "code",
   "execution_count": 56,
   "metadata": {
    "scrolled": true
   },
   "outputs": [
    {
     "name": "stdout",
     "output_type": "stream",
     "text": [
      "pvalue = 0.3571533292689786\n",
      "Нулевую гипотезу не можем отвергнуть\n"
     ]
    }
   ],
   "source": [
    "#проверяем гипотезу H0\n",
    "alpha = 0.05\n",
    "\n",
    "result = st.ttest_ind(data_actual.query('platform == \"XOne\"')['user_score'], \n",
    "                      data_actual.query('platform == \"PC\"')['user_score'], \n",
    "                      alternative='two-sided')\n",
    "\n",
    "print('pvalue =', result.pvalue)\n",
    "\n",
    "if result.pvalue > alpha:\n",
    "    print('Нулевую гипотезу не можем отвергнуть')\n",
    "else:\n",
    "    print('Нулевую гипотезу отвергаем')"
   ]
  },
  {
   "cell_type": "markdown",
   "metadata": {},
   "source": [
    "**Вывод**\n",
    "\n",
    "Невозможно опровергнуть, что средние пользовательские рейтинги платформ Xbox One и PC равны."
   ]
  },
  {
   "cell_type": "markdown",
   "metadata": {},
   "source": [
    "### Средние пользовательские рейтинги жанров Action и Sports разные"
   ]
  },
  {
   "cell_type": "markdown",
   "metadata": {},
   "source": [
    "Гипотезы:\n",
    "\n",
    "H0 - средние пользовательские рейтинги жанров Action и Sports одинаковые\n",
    "\n",
    "H1 - средние пользовательские рейтинги жанров Action и Sports не равны"
   ]
  },
  {
   "cell_type": "code",
   "execution_count": 57,
   "metadata": {},
   "outputs": [
    {
     "name": "stdout",
     "output_type": "stream",
     "text": [
      "pvalue = 0.0029460914760781293\n",
      "Нулевую гипотезу отвергаем\n"
     ]
    }
   ],
   "source": [
    "#проверяем гипотезу H0\n",
    "alpha = 0.05\n",
    "\n",
    "result = st.ttest_ind(data_actual.query('genre == \"Action\"')['user_score'], \n",
    "                      data_actual.query('genre ==\"Sports\"')['user_score'], \n",
    "                      alternative='two-sided')\n",
    "\n",
    "print('pvalue =', result.pvalue)\n",
    "\n",
    "if result.pvalue > alpha:\n",
    "    print('Нулевую гипотезу не можем отвергнуть')\n",
    "else:\n",
    "    print('Нулевую гипотезу отвергаем')"
   ]
  },
  {
   "cell_type": "markdown",
   "metadata": {},
   "source": [
    "**Вывод**\n",
    "\n",
    "Пользовательские рейтинги для жанров Action и Sports не равны."
   ]
  },
  {
   "cell_type": "markdown",
   "metadata": {},
   "source": [
    "## Выводы"
   ]
  },
  {
   "cell_type": "markdown",
   "metadata": {},
   "source": [
    "На текущий момент актуальным периодом, который можно использовать для прогноза продаж в следующем году: 2012 - наст.вр. В этот период продажи игр из года в год имеют стабильное значение.\n",
    "\n",
    "В результате исследования выявлено, что после появления новой платформы, игры для нее продаются в течение примерно 11 лет. В текущий момент популярны следующие платформы у покупателей:\n",
    "- PS3\n",
    "- PS4 \n",
    "- X360 \n",
    "- 3DS \n",
    "- XOne \n",
    "\n",
    "Платформы PS4 и XOne находятся сейчас в первой половине своего 11-летнего цикла продаж. Поэтому продажи год от года для этих платформ растут.\n",
    "\n",
    "Остальные платформы показывают ежегодное падение.\n",
    "\n",
    "Медианное значение продаж по всем платформам не превышает значения 0.4 млн.\n",
    "\n",
    "Жанр, который в среднем на игру приносит больше всего продаж - это `Shooter` (0.438 - медиана количества продаж)\n",
    "\n",
    "Наблюдается незначительная положительная корреляции между продажами и оценками пользователей и критиков.\n",
    "\n",
    "Если рассматривать продажи по регионам, то стоит все регионы разделить на две группы: Япония и остальные регионы.\n",
    "\n",
    "Топ-5 популярных платформ в Японии:\n",
    "- PSV\n",
    "- PSP\n",
    "- WiiU\n",
    "- PS3\n",
    "- 3DS\n",
    "\n",
    "Топ-5 популярных платформ в остальном мире:\n",
    "- PS3\n",
    "- PS4\n",
    "- X360\n",
    "- XOne\n",
    "- 3DS\n",
    "\n",
    "Топ-5 популярных жанров в Японии:\n",
    "- Role-Playing\n",
    "- Simulation\n",
    "- Fighting\n",
    "- Acrion\n",
    "- Misc\n",
    "\n",
    "Топ-5 популярных жанров в остальном мире:\n",
    "- Acrion\n",
    "- Shooter\n",
    "- Sports\n",
    "- Role_Playing\n",
    "- Misc\n",
    "\n",
    "Анализ данных по возрастному рейтингу требует дополнительной проработки. У 40% игр в датасете отсутвует возрастной рейтинг. Необходимо искать причину этого явления. Анализ имеющихся данных проведен, но его нельзя считать окончательным.\n",
    "\n",
    "Возрастной рейтинг в Японии (по убыванию количества продаж) (на первые две катигории приходится более 60% продаж):\n",
    "- E \n",
    "- T \n",
    "- M \n",
    "- E10+ \n",
    "\n",
    "Возрастной рейтинг в остальном мире (по убыванию количества продаж) (на первые две катигори приходится более 50% продаж):\n",
    "- М \n",
    "- E\n",
    "- E10\n",
    "- T"
   ]
  },
  {
   "cell_type": "code",
   "execution_count": null,
   "metadata": {},
   "outputs": [],
   "source": []
  }
 ],
 "metadata": {
  "ExecuteTimeLog": [
   {
    "duration": 4,
    "start_time": "2023-10-30T09:42:11.594Z"
   },
   {
    "duration": 1234,
    "start_time": "2023-10-30T11:20:32.747Z"
   },
   {
    "duration": 103,
    "start_time": "2023-10-30T11:20:35.172Z"
   },
   {
    "duration": 3,
    "start_time": "2023-10-30T11:21:32.274Z"
   },
   {
    "duration": 37,
    "start_time": "2023-10-30T11:23:21.997Z"
   },
   {
    "duration": 20,
    "start_time": "2023-10-30T11:24:07.491Z"
   },
   {
    "duration": 110,
    "start_time": "2023-10-30T12:47:31.856Z"
   },
   {
    "duration": 9,
    "start_time": "2023-10-30T12:47:42.007Z"
   },
   {
    "duration": 8,
    "start_time": "2023-10-30T12:47:49.905Z"
   },
   {
    "duration": 83,
    "start_time": "2023-10-30T12:48:01.565Z"
   },
   {
    "duration": 72,
    "start_time": "2023-10-30T12:49:22.262Z"
   },
   {
    "duration": 76,
    "start_time": "2023-10-30T12:49:31.329Z"
   },
   {
    "duration": 78,
    "start_time": "2023-10-30T12:49:42.265Z"
   },
   {
    "duration": 103,
    "start_time": "2023-10-30T12:49:47.460Z"
   },
   {
    "duration": 95,
    "start_time": "2023-10-30T12:50:10.363Z"
   },
   {
    "duration": 9,
    "start_time": "2023-10-30T12:51:05.978Z"
   },
   {
    "duration": 8,
    "start_time": "2023-10-30T12:51:14.355Z"
   },
   {
    "duration": 4,
    "start_time": "2023-10-30T12:51:18.319Z"
   },
   {
    "duration": 111,
    "start_time": "2023-10-30T12:51:33.369Z"
   },
   {
    "duration": 8,
    "start_time": "2023-10-30T12:51:39.570Z"
   },
   {
    "duration": 4,
    "start_time": "2023-10-30T12:52:23.139Z"
   },
   {
    "duration": 5,
    "start_time": "2023-10-30T12:52:36.997Z"
   },
   {
    "duration": 19,
    "start_time": "2023-10-30T12:55:08.336Z"
   },
   {
    "duration": 14,
    "start_time": "2023-10-30T12:55:13.592Z"
   },
   {
    "duration": 6,
    "start_time": "2023-10-30T12:56:08.077Z"
   },
   {
    "duration": 8,
    "start_time": "2023-10-30T12:56:14.802Z"
   },
   {
    "duration": 14,
    "start_time": "2023-10-30T12:57:21.414Z"
   },
   {
    "duration": 4,
    "start_time": "2023-10-30T12:57:54.378Z"
   },
   {
    "duration": 77,
    "start_time": "2023-10-30T12:58:01.011Z"
   },
   {
    "duration": 5,
    "start_time": "2023-10-30T12:58:05.171Z"
   },
   {
    "duration": 7,
    "start_time": "2023-10-30T12:58:32.610Z"
   },
   {
    "duration": 9,
    "start_time": "2023-10-30T13:02:39.322Z"
   },
   {
    "duration": 6,
    "start_time": "2023-10-30T13:02:48.466Z"
   },
   {
    "duration": 176,
    "start_time": "2023-10-30T13:04:31.338Z"
   },
   {
    "duration": 74,
    "start_time": "2023-10-30T13:08:45.528Z"
   },
   {
    "duration": 72,
    "start_time": "2023-10-30T13:08:50.935Z"
   },
   {
    "duration": 3,
    "start_time": "2023-10-30T13:09:19.593Z"
   },
   {
    "duration": 3,
    "start_time": "2023-10-30T13:09:53.618Z"
   },
   {
    "duration": 4,
    "start_time": "2023-10-30T13:10:13.042Z"
   },
   {
    "duration": 1285,
    "start_time": "2023-10-30T13:11:03.495Z"
   },
   {
    "duration": 54,
    "start_time": "2023-10-30T13:11:04.782Z"
   },
   {
    "duration": 20,
    "start_time": "2023-10-30T13:11:04.838Z"
   },
   {
    "duration": 17,
    "start_time": "2023-10-30T13:11:04.860Z"
   },
   {
    "duration": 112,
    "start_time": "2023-10-30T13:11:04.879Z"
   },
   {
    "duration": 32,
    "start_time": "2023-10-30T13:11:04.993Z"
   },
   {
    "duration": 5,
    "start_time": "2023-10-30T13:11:08.550Z"
   },
   {
    "duration": 9,
    "start_time": "2023-10-30T13:11:11.338Z"
   },
   {
    "duration": 8,
    "start_time": "2023-10-30T13:14:20.439Z"
   },
   {
    "duration": 147,
    "start_time": "2023-10-30T13:15:14.574Z"
   },
   {
    "duration": 3,
    "start_time": "2023-10-30T13:15:56.605Z"
   },
   {
    "duration": 9,
    "start_time": "2023-10-30T13:15:59.167Z"
   },
   {
    "duration": 3,
    "start_time": "2023-10-30T13:16:17.637Z"
   },
   {
    "duration": 1367,
    "start_time": "2023-10-30T13:16:19.101Z"
   },
   {
    "duration": 4,
    "start_time": "2023-10-30T13:17:26.861Z"
   },
   {
    "duration": 9,
    "start_time": "2023-10-30T13:17:28.652Z"
   },
   {
    "duration": 7,
    "start_time": "2023-10-30T13:17:40.932Z"
   },
   {
    "duration": 4,
    "start_time": "2023-10-30T13:17:50.196Z"
   },
   {
    "duration": 20,
    "start_time": "2023-10-30T13:17:51.077Z"
   },
   {
    "duration": 3,
    "start_time": "2023-10-30T13:18:03.407Z"
   },
   {
    "duration": 11,
    "start_time": "2023-10-30T13:18:04.246Z"
   },
   {
    "duration": 7,
    "start_time": "2023-10-30T13:19:24.069Z"
   },
   {
    "duration": 3,
    "start_time": "2023-10-30T13:34:14.491Z"
   },
   {
    "duration": 3,
    "start_time": "2023-10-30T13:34:34.914Z"
   },
   {
    "duration": 13,
    "start_time": "2023-10-30T13:35:39.758Z"
   },
   {
    "duration": 3,
    "start_time": "2023-10-30T13:37:51.049Z"
   },
   {
    "duration": 1718,
    "start_time": "2023-10-30T13:37:53.041Z"
   },
   {
    "duration": 20,
    "start_time": "2023-10-30T13:38:05.018Z"
   },
   {
    "duration": 3,
    "start_time": "2023-10-30T13:41:17.992Z"
   },
   {
    "duration": 22,
    "start_time": "2023-10-30T13:41:19.688Z"
   },
   {
    "duration": 491,
    "start_time": "2023-10-30T13:42:10.265Z"
   },
   {
    "duration": 3,
    "start_time": "2023-10-30T13:48:58.946Z"
   },
   {
    "duration": 13,
    "start_time": "2023-10-30T13:52:32.091Z"
   },
   {
    "duration": 29,
    "start_time": "2023-10-30T13:54:10.467Z"
   },
   {
    "duration": 29,
    "start_time": "2023-10-30T13:54:18.811Z"
   },
   {
    "duration": 25,
    "start_time": "2023-10-30T13:54:24.230Z"
   },
   {
    "duration": 47,
    "start_time": "2023-10-30T13:54:33.219Z"
   },
   {
    "duration": 10,
    "start_time": "2023-10-30T13:54:42.315Z"
   },
   {
    "duration": 19,
    "start_time": "2023-10-30T13:55:01.900Z"
   },
   {
    "duration": 8,
    "start_time": "2023-10-30T13:55:39.538Z"
   },
   {
    "duration": 9,
    "start_time": "2023-10-30T13:58:16.763Z"
   },
   {
    "duration": 14,
    "start_time": "2023-10-30T13:58:47.760Z"
   },
   {
    "duration": 7,
    "start_time": "2023-10-30T13:59:41.287Z"
   },
   {
    "duration": 22,
    "start_time": "2023-10-30T14:00:12.660Z"
   },
   {
    "duration": 17,
    "start_time": "2023-10-30T14:01:51.988Z"
   },
   {
    "duration": 3,
    "start_time": "2023-10-30T14:02:32.771Z"
   },
   {
    "duration": 19,
    "start_time": "2023-10-30T14:02:56.318Z"
   },
   {
    "duration": 1564,
    "start_time": "2023-10-30T14:03:46.935Z"
   },
   {
    "duration": 163,
    "start_time": "2023-10-30T14:04:06.940Z"
   },
   {
    "duration": 192,
    "start_time": "2023-10-30T14:04:16.380Z"
   },
   {
    "duration": 186,
    "start_time": "2023-10-30T14:04:29.083Z"
   },
   {
    "duration": 217,
    "start_time": "2023-10-30T14:10:00.635Z"
   },
   {
    "duration": 136,
    "start_time": "2023-10-30T14:10:26.782Z"
   },
   {
    "duration": 216331,
    "start_time": "2023-10-30T14:10:38.071Z"
   },
   {
    "duration": 10,
    "start_time": "2023-10-30T14:20:33.367Z"
   },
   {
    "duration": 137,
    "start_time": "2023-10-30T14:28:20.901Z"
   },
   {
    "duration": 166,
    "start_time": "2023-10-30T14:28:28.288Z"
   },
   {
    "duration": 207,
    "start_time": "2023-10-30T14:28:56.436Z"
   },
   {
    "duration": 214,
    "start_time": "2023-10-30T14:30:10.389Z"
   },
   {
    "duration": 220,
    "start_time": "2023-10-30T14:30:33.937Z"
   },
   {
    "duration": 203,
    "start_time": "2023-10-30T14:30:59.832Z"
   },
   {
    "duration": 200,
    "start_time": "2023-10-30T14:31:06.928Z"
   },
   {
    "duration": 202,
    "start_time": "2023-10-30T14:31:23.426Z"
   },
   {
    "duration": 276,
    "start_time": "2023-10-30T14:34:45.130Z"
   },
   {
    "duration": 209,
    "start_time": "2023-10-30T14:34:56.739Z"
   },
   {
    "duration": 215,
    "start_time": "2023-10-30T14:35:13.787Z"
   },
   {
    "duration": 1086,
    "start_time": "2023-10-30T14:38:06.724Z"
   },
   {
    "duration": 2121,
    "start_time": "2023-10-30T14:38:19.874Z"
   },
   {
    "duration": 216,
    "start_time": "2023-10-30T14:39:03.741Z"
   },
   {
    "duration": 222,
    "start_time": "2023-10-30T14:39:12.347Z"
   },
   {
    "duration": 184,
    "start_time": "2023-10-30T14:39:19.594Z"
   },
   {
    "duration": 218,
    "start_time": "2023-10-30T14:39:24.266Z"
   },
   {
    "duration": 215,
    "start_time": "2023-10-30T14:40:21.844Z"
   },
   {
    "duration": 167,
    "start_time": "2023-10-30T14:40:35.459Z"
   },
   {
    "duration": 175,
    "start_time": "2023-10-30T14:40:42.067Z"
   },
   {
    "duration": 12,
    "start_time": "2023-10-30T14:41:49.482Z"
   },
   {
    "duration": 11,
    "start_time": "2023-10-30T14:46:11.962Z"
   },
   {
    "duration": 10,
    "start_time": "2023-10-30T14:46:22.938Z"
   },
   {
    "duration": 11,
    "start_time": "2023-10-30T14:46:27.385Z"
   },
   {
    "duration": 9,
    "start_time": "2023-10-30T14:46:37.091Z"
   },
   {
    "duration": 9,
    "start_time": "2023-10-30T14:46:44.298Z"
   },
   {
    "duration": 6,
    "start_time": "2023-10-30T14:47:00.796Z"
   },
   {
    "duration": 7,
    "start_time": "2023-10-30T14:49:09.234Z"
   },
   {
    "duration": 8,
    "start_time": "2023-10-30T14:49:14.146Z"
   },
   {
    "duration": 7,
    "start_time": "2023-10-30T14:49:27.505Z"
   },
   {
    "duration": 6,
    "start_time": "2023-10-30T14:49:32.746Z"
   },
   {
    "duration": 210,
    "start_time": "2023-10-30T14:50:17.458Z"
   },
   {
    "duration": 2004,
    "start_time": "2023-10-30T14:50:44.097Z"
   },
   {
    "duration": 4,
    "start_time": "2023-10-30T14:51:34.938Z"
   },
   {
    "duration": 10,
    "start_time": "2023-10-30T14:52:02.131Z"
   },
   {
    "duration": 5,
    "start_time": "2023-10-30T14:52:13.010Z"
   },
   {
    "duration": 19,
    "start_time": "2023-10-30T14:54:13.001Z"
   },
   {
    "duration": 5,
    "start_time": "2023-10-30T14:55:29.067Z"
   },
   {
    "duration": 10,
    "start_time": "2023-10-30T14:55:43.720Z"
   },
   {
    "duration": 5,
    "start_time": "2023-10-30T14:55:55.280Z"
   },
   {
    "duration": 3,
    "start_time": "2023-10-30T14:56:32.480Z"
   },
   {
    "duration": 3,
    "start_time": "2023-10-30T14:57:05.648Z"
   },
   {
    "duration": 3,
    "start_time": "2023-10-30T14:57:52.879Z"
   },
   {
    "duration": 175,
    "start_time": "2023-10-30T17:04:32.335Z"
   },
   {
    "duration": 179,
    "start_time": "2023-10-30T17:04:40.667Z"
   },
   {
    "duration": 196,
    "start_time": "2023-10-30T17:05:09.206Z"
   },
   {
    "duration": 204,
    "start_time": "2023-10-30T17:05:16.055Z"
   },
   {
    "duration": 200,
    "start_time": "2023-10-30T17:05:33.686Z"
   },
   {
    "duration": 207,
    "start_time": "2023-10-30T17:05:46.871Z"
   },
   {
    "duration": 207,
    "start_time": "2023-10-30T17:05:59.113Z"
   },
   {
    "duration": 15,
    "start_time": "2023-10-30T17:42:23.312Z"
   },
   {
    "duration": 17,
    "start_time": "2023-10-30T17:42:26.327Z"
   },
   {
    "duration": 13,
    "start_time": "2023-10-30T17:42:27.935Z"
   },
   {
    "duration": 10,
    "start_time": "2023-10-30T17:48:53.214Z"
   },
   {
    "duration": 12,
    "start_time": "2023-10-30T17:48:55.652Z"
   },
   {
    "duration": 15,
    "start_time": "2023-10-30T17:48:57.805Z"
   },
   {
    "duration": 3,
    "start_time": "2023-10-30T17:49:51.988Z"
   },
   {
    "duration": 4,
    "start_time": "2023-10-30T17:50:45.406Z"
   },
   {
    "duration": 22,
    "start_time": "2023-10-30T17:51:17.942Z"
   },
   {
    "duration": 11,
    "start_time": "2023-10-30T17:53:24.626Z"
   },
   {
    "duration": 26,
    "start_time": "2023-10-30T17:54:44.074Z"
   },
   {
    "duration": 13,
    "start_time": "2023-10-30T17:54:58.018Z"
   },
   {
    "duration": 15,
    "start_time": "2023-10-30T17:55:45.659Z"
   },
   {
    "duration": 1355,
    "start_time": "2023-10-30T17:56:20.018Z"
   },
   {
    "duration": 71,
    "start_time": "2023-10-30T17:56:21.375Z"
   },
   {
    "duration": 24,
    "start_time": "2023-10-30T17:56:21.447Z"
   },
   {
    "duration": 38,
    "start_time": "2023-10-30T17:56:21.474Z"
   },
   {
    "duration": 7,
    "start_time": "2023-10-30T17:56:21.515Z"
   },
   {
    "duration": 20,
    "start_time": "2023-10-30T17:56:21.525Z"
   },
   {
    "duration": 31,
    "start_time": "2023-10-30T17:56:21.547Z"
   },
   {
    "duration": 50,
    "start_time": "2023-10-30T17:56:21.580Z"
   },
   {
    "duration": 22,
    "start_time": "2023-10-30T17:56:21.631Z"
   },
   {
    "duration": 33,
    "start_time": "2023-10-30T17:56:21.655Z"
   },
   {
    "duration": 30,
    "start_time": "2023-10-30T17:56:21.689Z"
   },
   {
    "duration": 11,
    "start_time": "2023-10-30T17:56:21.723Z"
   },
   {
    "duration": 17,
    "start_time": "2023-10-30T17:56:21.736Z"
   },
   {
    "duration": 28,
    "start_time": "2023-10-30T17:56:21.755Z"
   },
   {
    "duration": 29,
    "start_time": "2023-10-30T17:56:21.784Z"
   },
   {
    "duration": 178,
    "start_time": "2023-10-30T17:56:21.815Z"
   },
   {
    "duration": 0,
    "start_time": "2023-10-30T17:56:21.995Z"
   },
   {
    "duration": 0,
    "start_time": "2023-10-30T17:56:21.996Z"
   },
   {
    "duration": 0,
    "start_time": "2023-10-30T17:56:21.998Z"
   },
   {
    "duration": 0,
    "start_time": "2023-10-30T17:56:21.999Z"
   },
   {
    "duration": 0,
    "start_time": "2023-10-30T17:56:22.001Z"
   },
   {
    "duration": 0,
    "start_time": "2023-10-30T17:56:22.003Z"
   },
   {
    "duration": 0,
    "start_time": "2023-10-30T17:56:22.005Z"
   },
   {
    "duration": 0,
    "start_time": "2023-10-30T17:56:22.007Z"
   },
   {
    "duration": 0,
    "start_time": "2023-10-30T17:56:22.009Z"
   },
   {
    "duration": 15,
    "start_time": "2023-10-30T17:57:04.922Z"
   },
   {
    "duration": 13,
    "start_time": "2023-10-30T18:17:33.104Z"
   },
   {
    "duration": 3,
    "start_time": "2023-10-30T18:20:35.153Z"
   },
   {
    "duration": 7,
    "start_time": "2023-10-30T18:23:42.219Z"
   },
   {
    "duration": 16,
    "start_time": "2023-10-30T18:25:54.175Z"
   },
   {
    "duration": 9,
    "start_time": "2023-10-30T18:26:14.855Z"
   },
   {
    "duration": 6,
    "start_time": "2023-10-30T18:26:41.021Z"
   },
   {
    "duration": 6,
    "start_time": "2023-10-30T18:27:05.958Z"
   },
   {
    "duration": 6,
    "start_time": "2023-10-30T18:30:00.535Z"
   },
   {
    "duration": 18,
    "start_time": "2023-10-30T18:32:23.762Z"
   },
   {
    "duration": 11,
    "start_time": "2023-10-30T18:32:31.475Z"
   },
   {
    "duration": 11,
    "start_time": "2023-10-30T18:32:55.818Z"
   },
   {
    "duration": 16,
    "start_time": "2023-10-30T18:33:51.651Z"
   },
   {
    "duration": 16,
    "start_time": "2023-10-30T18:34:05.843Z"
   },
   {
    "duration": 11,
    "start_time": "2023-10-30T18:34:33.603Z"
   },
   {
    "duration": 11,
    "start_time": "2023-10-30T18:34:53.179Z"
   },
   {
    "duration": 25,
    "start_time": "2023-10-30T18:38:02.078Z"
   },
   {
    "duration": 15,
    "start_time": "2023-10-30T18:38:51.263Z"
   },
   {
    "duration": 1586,
    "start_time": "2023-10-30T18:43:32.657Z"
   },
   {
    "duration": 107,
    "start_time": "2023-10-30T18:43:54.969Z"
   },
   {
    "duration": 105,
    "start_time": "2023-10-30T18:44:55.209Z"
   },
   {
    "duration": 20,
    "start_time": "2023-10-30T18:45:11.323Z"
   },
   {
    "duration": 11,
    "start_time": "2023-10-30T18:46:12.778Z"
   },
   {
    "duration": 4,
    "start_time": "2023-10-30T18:50:18.407Z"
   },
   {
    "duration": 1118,
    "start_time": "2023-10-30T18:52:44.238Z"
   },
   {
    "duration": 1004,
    "start_time": "2023-10-30T18:53:33.440Z"
   },
   {
    "duration": 277,
    "start_time": "2023-10-31T09:22:51.043Z"
   },
   {
    "duration": 14,
    "start_time": "2023-10-31T09:23:04.943Z"
   },
   {
    "duration": 72,
    "start_time": "2023-10-31T09:23:19.861Z"
   },
   {
    "duration": 124,
    "start_time": "2023-10-31T09:23:26.717Z"
   },
   {
    "duration": 151,
    "start_time": "2023-10-31T09:23:39.581Z"
   },
   {
    "duration": 128,
    "start_time": "2023-10-31T09:23:45.045Z"
   },
   {
    "duration": 157,
    "start_time": "2023-10-31T09:23:48.949Z"
   },
   {
    "duration": 188,
    "start_time": "2023-10-31T09:24:08.157Z"
   },
   {
    "duration": 122,
    "start_time": "2023-10-31T09:24:37.637Z"
   },
   {
    "duration": 448,
    "start_time": "2023-10-31T09:24:46.701Z"
   },
   {
    "duration": 1191,
    "start_time": "2023-10-31T09:25:10.349Z"
   },
   {
    "duration": 61,
    "start_time": "2023-10-31T09:25:11.546Z"
   },
   {
    "duration": 20,
    "start_time": "2023-10-31T09:25:11.609Z"
   },
   {
    "duration": 43,
    "start_time": "2023-10-31T09:25:11.631Z"
   },
   {
    "duration": 27,
    "start_time": "2023-10-31T09:25:11.677Z"
   },
   {
    "duration": 48,
    "start_time": "2023-10-31T09:25:11.706Z"
   },
   {
    "duration": 35,
    "start_time": "2023-10-31T09:25:11.756Z"
   },
   {
    "duration": 55,
    "start_time": "2023-10-31T09:25:11.793Z"
   },
   {
    "duration": 33,
    "start_time": "2023-10-31T09:25:11.850Z"
   },
   {
    "duration": 58,
    "start_time": "2023-10-31T09:25:11.885Z"
   },
   {
    "duration": 45,
    "start_time": "2023-10-31T09:25:11.945Z"
   },
   {
    "duration": 24,
    "start_time": "2023-10-31T09:25:11.992Z"
   },
   {
    "duration": 36,
    "start_time": "2023-10-31T09:25:12.017Z"
   },
   {
    "duration": 29,
    "start_time": "2023-10-31T09:25:12.056Z"
   },
   {
    "duration": 145,
    "start_time": "2023-10-31T09:25:12.087Z"
   },
   {
    "duration": 9,
    "start_time": "2023-10-31T09:25:12.233Z"
   },
   {
    "duration": 400,
    "start_time": "2023-10-31T09:25:15.181Z"
   },
   {
    "duration": 1207,
    "start_time": "2023-10-31T09:25:36.640Z"
   },
   {
    "duration": 56,
    "start_time": "2023-10-31T09:25:37.849Z"
   },
   {
    "duration": 22,
    "start_time": "2023-10-31T09:25:37.906Z"
   },
   {
    "duration": 21,
    "start_time": "2023-10-31T09:25:37.929Z"
   },
   {
    "duration": 5,
    "start_time": "2023-10-31T09:25:37.952Z"
   },
   {
    "duration": 45,
    "start_time": "2023-10-31T09:25:37.958Z"
   },
   {
    "duration": 4,
    "start_time": "2023-10-31T09:25:38.004Z"
   },
   {
    "duration": 16,
    "start_time": "2023-10-31T09:25:38.009Z"
   },
   {
    "duration": 20,
    "start_time": "2023-10-31T09:25:38.026Z"
   },
   {
    "duration": 20,
    "start_time": "2023-10-31T09:25:38.048Z"
   },
   {
    "duration": 30,
    "start_time": "2023-10-31T09:25:38.070Z"
   },
   {
    "duration": 11,
    "start_time": "2023-10-31T09:25:38.102Z"
   },
   {
    "duration": 19,
    "start_time": "2023-10-31T09:25:38.115Z"
   },
   {
    "duration": 10,
    "start_time": "2023-10-31T09:25:38.137Z"
   },
   {
    "duration": 129,
    "start_time": "2023-10-31T09:25:38.148Z"
   },
   {
    "duration": 9,
    "start_time": "2023-10-31T09:25:38.278Z"
   },
   {
    "duration": 3,
    "start_time": "2023-10-31T09:25:38.301Z"
   },
   {
    "duration": 7,
    "start_time": "2023-10-31T09:25:38.305Z"
   },
   {
    "duration": 6,
    "start_time": "2023-10-31T09:25:38.314Z"
   },
   {
    "duration": 28,
    "start_time": "2023-10-31T09:25:38.321Z"
   },
   {
    "duration": 937,
    "start_time": "2023-10-31T09:25:38.351Z"
   },
   {
    "duration": 112,
    "start_time": "2023-10-31T09:25:39.290Z"
   },
   {
    "duration": 0,
    "start_time": "2023-10-31T09:25:39.404Z"
   },
   {
    "duration": 0,
    "start_time": "2023-10-31T09:25:39.405Z"
   },
   {
    "duration": 0,
    "start_time": "2023-10-31T09:25:39.406Z"
   },
   {
    "duration": 0,
    "start_time": "2023-10-31T09:25:39.407Z"
   },
   {
    "duration": 0,
    "start_time": "2023-10-31T09:25:39.408Z"
   },
   {
    "duration": 0,
    "start_time": "2023-10-31T09:25:39.410Z"
   },
   {
    "duration": 0,
    "start_time": "2023-10-31T09:25:39.411Z"
   },
   {
    "duration": 103,
    "start_time": "2023-10-31T09:34:21.505Z"
   },
   {
    "duration": 9,
    "start_time": "2023-10-31T10:32:11.341Z"
   },
   {
    "duration": 10,
    "start_time": "2023-10-31T10:32:34.340Z"
   },
   {
    "duration": 22,
    "start_time": "2023-10-31T10:32:41.892Z"
   },
   {
    "duration": 153,
    "start_time": "2023-10-31T10:33:45.965Z"
   },
   {
    "duration": 16,
    "start_time": "2023-10-31T10:33:57.029Z"
   },
   {
    "duration": 167,
    "start_time": "2023-10-31T10:35:04.173Z"
   },
   {
    "duration": 152,
    "start_time": "2023-10-31T10:35:17.099Z"
   },
   {
    "duration": 10,
    "start_time": "2023-10-31T10:38:40.972Z"
   },
   {
    "duration": 380,
    "start_time": "2023-10-31T10:38:43.780Z"
   },
   {
    "duration": 292,
    "start_time": "2023-10-31T10:38:52.795Z"
   },
   {
    "duration": 306,
    "start_time": "2023-10-31T10:39:18.435Z"
   },
   {
    "duration": 305,
    "start_time": "2023-10-31T10:43:23.675Z"
   },
   {
    "duration": 318,
    "start_time": "2023-10-31T10:43:28.883Z"
   },
   {
    "duration": 865,
    "start_time": "2023-10-31T10:43:35.819Z"
   },
   {
    "duration": 325,
    "start_time": "2023-10-31T10:43:39.587Z"
   },
   {
    "duration": 22,
    "start_time": "2023-10-31T14:46:50.446Z"
   },
   {
    "duration": 7,
    "start_time": "2023-10-31T14:47:09.772Z"
   },
   {
    "duration": 8,
    "start_time": "2023-10-31T14:47:23.090Z"
   },
   {
    "duration": 10,
    "start_time": "2023-10-31T14:48:01.470Z"
   },
   {
    "duration": 5,
    "start_time": "2023-10-31T14:50:08.598Z"
   },
   {
    "duration": 6,
    "start_time": "2023-10-31T14:51:33.813Z"
   },
   {
    "duration": 4,
    "start_time": "2023-10-31T14:51:39.852Z"
   },
   {
    "duration": 5,
    "start_time": "2023-10-31T14:53:35.333Z"
   },
   {
    "duration": 6,
    "start_time": "2023-10-31T14:56:33.359Z"
   },
   {
    "duration": 6,
    "start_time": "2023-10-31T14:56:40.797Z"
   },
   {
    "duration": 27,
    "start_time": "2023-10-31T14:56:49.396Z"
   },
   {
    "duration": 18,
    "start_time": "2023-10-31T14:57:02.693Z"
   },
   {
    "duration": 16,
    "start_time": "2023-10-31T15:00:11.206Z"
   },
   {
    "duration": 13,
    "start_time": "2023-10-31T15:00:21.804Z"
   },
   {
    "duration": 54,
    "start_time": "2023-10-31T15:00:29.939Z"
   },
   {
    "duration": 16,
    "start_time": "2023-10-31T15:01:19.117Z"
   },
   {
    "duration": 1673,
    "start_time": "2023-10-31T15:01:36.619Z"
   },
   {
    "duration": 1540,
    "start_time": "2023-10-31T15:01:45.909Z"
   },
   {
    "duration": 1706,
    "start_time": "2023-10-31T15:02:20.268Z"
   },
   {
    "duration": 1823,
    "start_time": "2023-10-31T15:02:57.092Z"
   },
   {
    "duration": 1721,
    "start_time": "2023-10-31T15:03:11.339Z"
   },
   {
    "duration": 1361,
    "start_time": "2023-10-31T15:05:55.979Z"
   },
   {
    "duration": 1010,
    "start_time": "2023-10-31T15:06:27.499Z"
   },
   {
    "duration": 10,
    "start_time": "2023-10-31T15:09:37.507Z"
   },
   {
    "duration": 310,
    "start_time": "2023-10-31T15:09:39.130Z"
   },
   {
    "duration": 12,
    "start_time": "2023-10-31T15:10:21.379Z"
   },
   {
    "duration": 11,
    "start_time": "2023-10-31T15:10:27.011Z"
   },
   {
    "duration": 9,
    "start_time": "2023-10-31T15:10:40.211Z"
   },
   {
    "duration": 10,
    "start_time": "2023-10-31T15:10:47.228Z"
   },
   {
    "duration": 30,
    "start_time": "2023-10-31T15:20:53.585Z"
   },
   {
    "duration": 9,
    "start_time": "2023-10-31T18:12:00.613Z"
   },
   {
    "duration": 1188,
    "start_time": "2023-10-31T18:13:57.835Z"
   },
   {
    "duration": 55,
    "start_time": "2023-10-31T18:13:59.025Z"
   },
   {
    "duration": 21,
    "start_time": "2023-10-31T18:13:59.081Z"
   },
   {
    "duration": 22,
    "start_time": "2023-10-31T18:13:59.104Z"
   },
   {
    "duration": 29,
    "start_time": "2023-10-31T18:13:59.127Z"
   },
   {
    "duration": 27,
    "start_time": "2023-10-31T18:13:59.158Z"
   },
   {
    "duration": 5,
    "start_time": "2023-10-31T18:13:59.187Z"
   },
   {
    "duration": 28,
    "start_time": "2023-10-31T18:13:59.194Z"
   },
   {
    "duration": 44,
    "start_time": "2023-10-31T18:13:59.223Z"
   },
   {
    "duration": 14,
    "start_time": "2023-10-31T18:13:59.270Z"
   },
   {
    "duration": 12,
    "start_time": "2023-10-31T18:13:59.286Z"
   },
   {
    "duration": 15,
    "start_time": "2023-10-31T18:13:59.299Z"
   },
   {
    "duration": 9,
    "start_time": "2023-10-31T18:13:59.316Z"
   },
   {
    "duration": 13,
    "start_time": "2023-10-31T18:13:59.327Z"
   },
   {
    "duration": 134,
    "start_time": "2023-10-31T18:13:59.342Z"
   },
   {
    "duration": 11,
    "start_time": "2023-10-31T18:13:59.478Z"
   },
   {
    "duration": 6,
    "start_time": "2023-10-31T18:13:59.502Z"
   },
   {
    "duration": 28,
    "start_time": "2023-10-31T18:13:59.509Z"
   },
   {
    "duration": 27,
    "start_time": "2023-10-31T18:13:59.539Z"
   },
   {
    "duration": 55,
    "start_time": "2023-10-31T18:13:59.568Z"
   },
   {
    "duration": 38,
    "start_time": "2023-10-31T18:13:59.625Z"
   },
   {
    "duration": 389,
    "start_time": "2023-10-31T18:13:59.665Z"
   },
   {
    "duration": 210,
    "start_time": "2023-10-31T18:14:00.056Z"
   },
   {
    "duration": 0,
    "start_time": "2023-10-31T18:14:00.268Z"
   },
   {
    "duration": 0,
    "start_time": "2023-10-31T18:14:00.269Z"
   },
   {
    "duration": 0,
    "start_time": "2023-10-31T18:14:00.270Z"
   },
   {
    "duration": 18,
    "start_time": "2023-10-31T18:14:08.880Z"
   },
   {
    "duration": 11,
    "start_time": "2023-10-31T18:14:11.705Z"
   },
   {
    "duration": 10,
    "start_time": "2023-10-31T18:14:18.258Z"
   },
   {
    "duration": 17,
    "start_time": "2023-10-31T18:14:35.161Z"
   },
   {
    "duration": 76,
    "start_time": "2023-10-31T18:17:19.131Z"
   },
   {
    "duration": 73,
    "start_time": "2023-10-31T18:17:26.627Z"
   },
   {
    "duration": 134,
    "start_time": "2023-10-31T18:17:34.731Z"
   },
   {
    "duration": 57,
    "start_time": "2023-10-31T18:17:45.627Z"
   },
   {
    "duration": 2896,
    "start_time": "2023-10-31T18:17:55.926Z"
   },
   {
    "duration": 2728,
    "start_time": "2023-10-31T18:18:11.140Z"
   },
   {
    "duration": 9,
    "start_time": "2023-10-31T18:18:49.150Z"
   },
   {
    "duration": 9,
    "start_time": "2023-10-31T18:18:52.421Z"
   },
   {
    "duration": 7,
    "start_time": "2023-10-31T18:18:57.691Z"
   },
   {
    "duration": 551,
    "start_time": "2023-10-31T18:18:59.652Z"
   },
   {
    "duration": 485,
    "start_time": "2023-10-31T18:19:32.860Z"
   },
   {
    "duration": 660,
    "start_time": "2023-10-31T18:19:56.380Z"
   },
   {
    "duration": 531,
    "start_time": "2023-10-31T18:20:02.884Z"
   },
   {
    "duration": 503,
    "start_time": "2023-10-31T18:20:35.253Z"
   },
   {
    "duration": 507,
    "start_time": "2023-10-31T18:21:12.679Z"
   },
   {
    "duration": 729,
    "start_time": "2023-10-31T18:21:25.134Z"
   },
   {
    "duration": 11,
    "start_time": "2023-10-31T18:22:52.127Z"
   },
   {
    "duration": 10,
    "start_time": "2023-10-31T18:22:58.214Z"
   },
   {
    "duration": 1196,
    "start_time": "2023-10-31T18:23:13.726Z"
   },
   {
    "duration": 16,
    "start_time": "2023-10-31T18:25:09.944Z"
   },
   {
    "duration": 8,
    "start_time": "2023-10-31T18:25:33.793Z"
   },
   {
    "duration": 4,
    "start_time": "2023-10-31T18:25:37.690Z"
   },
   {
    "duration": 10,
    "start_time": "2023-10-31T18:25:45.664Z"
   },
   {
    "duration": 9,
    "start_time": "2023-10-31T18:25:49.185Z"
   },
   {
    "duration": 10,
    "start_time": "2023-10-31T18:25:52.843Z"
   },
   {
    "duration": 9,
    "start_time": "2023-10-31T18:25:58.680Z"
   },
   {
    "duration": 5,
    "start_time": "2023-10-31T18:26:01.328Z"
   },
   {
    "duration": 6,
    "start_time": "2023-10-31T18:26:53.034Z"
   },
   {
    "duration": 11,
    "start_time": "2023-10-31T18:27:57.657Z"
   },
   {
    "duration": 4,
    "start_time": "2023-10-31T18:28:15.058Z"
   },
   {
    "duration": 4,
    "start_time": "2023-10-31T18:28:30.321Z"
   },
   {
    "duration": 4,
    "start_time": "2023-10-31T18:28:37.947Z"
   },
   {
    "duration": 5,
    "start_time": "2023-10-31T18:30:48.163Z"
   },
   {
    "duration": 1218,
    "start_time": "2023-10-31T18:33:13.131Z"
   },
   {
    "duration": 56,
    "start_time": "2023-10-31T18:33:14.351Z"
   },
   {
    "duration": 21,
    "start_time": "2023-10-31T18:33:14.409Z"
   },
   {
    "duration": 17,
    "start_time": "2023-10-31T18:33:14.432Z"
   },
   {
    "duration": 10,
    "start_time": "2023-10-31T18:33:14.451Z"
   },
   {
    "duration": 58,
    "start_time": "2023-10-31T18:33:14.463Z"
   },
   {
    "duration": 90,
    "start_time": "2023-10-31T18:33:14.523Z"
   },
   {
    "duration": 51,
    "start_time": "2023-10-31T18:33:14.615Z"
   },
   {
    "duration": 31,
    "start_time": "2023-10-31T18:33:14.668Z"
   },
   {
    "duration": 151,
    "start_time": "2023-10-31T18:33:14.702Z"
   },
   {
    "duration": 52,
    "start_time": "2023-10-31T18:33:14.855Z"
   },
   {
    "duration": 12,
    "start_time": "2023-10-31T18:33:14.909Z"
   },
   {
    "duration": 25,
    "start_time": "2023-10-31T18:33:14.922Z"
   },
   {
    "duration": 17,
    "start_time": "2023-10-31T18:33:14.949Z"
   },
   {
    "duration": 118,
    "start_time": "2023-10-31T18:33:14.968Z"
   },
   {
    "duration": 17,
    "start_time": "2023-10-31T18:33:15.088Z"
   },
   {
    "duration": 43,
    "start_time": "2023-10-31T18:33:15.107Z"
   },
   {
    "duration": 27,
    "start_time": "2023-10-31T18:33:15.152Z"
   },
   {
    "duration": 43,
    "start_time": "2023-10-31T18:33:15.181Z"
   },
   {
    "duration": 22,
    "start_time": "2023-10-31T18:33:15.227Z"
   },
   {
    "duration": 48,
    "start_time": "2023-10-31T18:33:15.251Z"
   },
   {
    "duration": 335,
    "start_time": "2023-10-31T18:33:15.301Z"
   },
   {
    "duration": 74,
    "start_time": "2023-10-31T18:33:15.638Z"
   },
   {
    "duration": 0,
    "start_time": "2023-10-31T18:33:15.714Z"
   },
   {
    "duration": 0,
    "start_time": "2023-10-31T18:33:15.715Z"
   },
   {
    "duration": 0,
    "start_time": "2023-10-31T18:33:15.716Z"
   },
   {
    "duration": 0,
    "start_time": "2023-10-31T18:33:15.717Z"
   },
   {
    "duration": 0,
    "start_time": "2023-10-31T18:33:15.718Z"
   },
   {
    "duration": 0,
    "start_time": "2023-10-31T18:33:15.719Z"
   },
   {
    "duration": 0,
    "start_time": "2023-10-31T18:33:15.720Z"
   },
   {
    "duration": 0,
    "start_time": "2023-10-31T18:33:15.722Z"
   },
   {
    "duration": 0,
    "start_time": "2023-10-31T18:33:15.723Z"
   },
   {
    "duration": 0,
    "start_time": "2023-10-31T18:33:15.724Z"
   },
   {
    "duration": 0,
    "start_time": "2023-10-31T18:33:15.725Z"
   },
   {
    "duration": 16,
    "start_time": "2023-10-31T18:33:41.277Z"
   },
   {
    "duration": 17,
    "start_time": "2023-10-31T18:33:42.333Z"
   },
   {
    "duration": 8,
    "start_time": "2023-10-31T18:33:47.980Z"
   },
   {
    "duration": 508,
    "start_time": "2023-10-31T18:33:48.829Z"
   },
   {
    "duration": 4,
    "start_time": "2023-10-31T18:33:49.532Z"
   },
   {
    "duration": 4,
    "start_time": "2023-10-31T18:33:51.885Z"
   },
   {
    "duration": 9,
    "start_time": "2023-10-31T18:35:15.886Z"
   },
   {
    "duration": 12,
    "start_time": "2023-10-31T18:35:23.486Z"
   },
   {
    "duration": 4,
    "start_time": "2023-10-31T18:38:50.727Z"
   },
   {
    "duration": 14,
    "start_time": "2023-10-31T18:39:29.753Z"
   },
   {
    "duration": 5,
    "start_time": "2023-10-31T18:40:04.801Z"
   },
   {
    "duration": 23,
    "start_time": "2023-10-31T18:40:10.536Z"
   },
   {
    "duration": 13,
    "start_time": "2023-10-31T18:40:29.473Z"
   },
   {
    "duration": 94,
    "start_time": "2023-10-31T18:41:02.513Z"
   },
   {
    "duration": 13,
    "start_time": "2023-10-31T18:41:12.178Z"
   },
   {
    "duration": 105,
    "start_time": "2023-10-31T18:43:01.371Z"
   },
   {
    "duration": 1237,
    "start_time": "2023-10-31T18:44:17.171Z"
   },
   {
    "duration": 14,
    "start_time": "2023-10-31T18:44:45.206Z"
   },
   {
    "duration": 6,
    "start_time": "2023-10-31T18:52:17.372Z"
   },
   {
    "duration": 8,
    "start_time": "2023-10-31T18:52:32.276Z"
   },
   {
    "duration": 7,
    "start_time": "2023-10-31T18:52:53.612Z"
   },
   {
    "duration": 8,
    "start_time": "2023-10-31T18:55:11.776Z"
   },
   {
    "duration": 14,
    "start_time": "2023-10-31T18:56:21.984Z"
   },
   {
    "duration": 304,
    "start_time": "2023-10-31T18:58:48.713Z"
   },
   {
    "duration": 68,
    "start_time": "2023-10-31T19:03:09.373Z"
   },
   {
    "duration": 555,
    "start_time": "2023-10-31T19:05:51.281Z"
   },
   {
    "duration": 233,
    "start_time": "2023-10-31T19:06:09.831Z"
   },
   {
    "duration": 110,
    "start_time": "2023-10-31T19:07:12.288Z"
   },
   {
    "duration": 212,
    "start_time": "2023-10-31T19:07:25.569Z"
   },
   {
    "duration": 266,
    "start_time": "2023-10-31T19:13:29.958Z"
   },
   {
    "duration": 303,
    "start_time": "2023-10-31T19:14:18.557Z"
   },
   {
    "duration": 15,
    "start_time": "2023-10-31T19:14:26.063Z"
   },
   {
    "duration": 348,
    "start_time": "2023-10-31T19:14:30.390Z"
   },
   {
    "duration": 8,
    "start_time": "2023-11-01T14:43:31.246Z"
   },
   {
    "duration": 222,
    "start_time": "2023-11-01T14:43:49.238Z"
   },
   {
    "duration": 220,
    "start_time": "2023-11-01T14:44:24.288Z"
   },
   {
    "duration": 213,
    "start_time": "2023-11-01T14:44:33.670Z"
   },
   {
    "duration": 8,
    "start_time": "2023-11-01T14:45:01.453Z"
   },
   {
    "duration": 183,
    "start_time": "2023-11-01T14:45:04.101Z"
   },
   {
    "duration": 1224,
    "start_time": "2023-11-01T14:45:37.811Z"
   },
   {
    "duration": 58,
    "start_time": "2023-11-01T14:45:39.037Z"
   },
   {
    "duration": 21,
    "start_time": "2023-11-01T14:45:39.097Z"
   },
   {
    "duration": 17,
    "start_time": "2023-11-01T14:45:39.120Z"
   },
   {
    "duration": 21,
    "start_time": "2023-11-01T14:45:39.139Z"
   },
   {
    "duration": 26,
    "start_time": "2023-11-01T14:45:39.161Z"
   },
   {
    "duration": 13,
    "start_time": "2023-11-01T14:45:39.189Z"
   },
   {
    "duration": 21,
    "start_time": "2023-11-01T14:45:39.204Z"
   },
   {
    "duration": 13,
    "start_time": "2023-11-01T14:45:39.226Z"
   },
   {
    "duration": 32,
    "start_time": "2023-11-01T14:45:39.241Z"
   },
   {
    "duration": 11,
    "start_time": "2023-11-01T14:45:39.275Z"
   },
   {
    "duration": 19,
    "start_time": "2023-11-01T14:45:39.288Z"
   },
   {
    "duration": 20,
    "start_time": "2023-11-01T14:45:39.308Z"
   },
   {
    "duration": 10,
    "start_time": "2023-11-01T14:45:39.330Z"
   },
   {
    "duration": 121,
    "start_time": "2023-11-01T14:45:39.342Z"
   },
   {
    "duration": 9,
    "start_time": "2023-11-01T14:45:39.465Z"
   },
   {
    "duration": 15,
    "start_time": "2023-11-01T14:45:39.476Z"
   },
   {
    "duration": 11,
    "start_time": "2023-11-01T14:45:39.493Z"
   },
   {
    "duration": 26,
    "start_time": "2023-11-01T14:45:39.506Z"
   },
   {
    "duration": 30,
    "start_time": "2023-11-01T14:45:39.534Z"
   },
   {
    "duration": 20,
    "start_time": "2023-11-01T14:45:39.565Z"
   },
   {
    "duration": 330,
    "start_time": "2023-11-01T14:45:39.587Z"
   },
   {
    "duration": 17,
    "start_time": "2023-11-01T14:45:39.918Z"
   },
   {
    "duration": 22,
    "start_time": "2023-11-01T14:45:39.936Z"
   },
   {
    "duration": 12,
    "start_time": "2023-11-01T14:45:39.959Z"
   },
   {
    "duration": 535,
    "start_time": "2023-11-01T14:45:39.973Z"
   },
   {
    "duration": 9,
    "start_time": "2023-11-01T14:45:40.509Z"
   },
   {
    "duration": 58,
    "start_time": "2023-11-01T14:45:40.521Z"
   },
   {
    "duration": 337,
    "start_time": "2023-11-01T14:45:40.581Z"
   },
   {
    "duration": 126,
    "start_time": "2023-11-01T14:45:40.919Z"
   },
   {
    "duration": 0,
    "start_time": "2023-11-01T14:45:41.046Z"
   },
   {
    "duration": 0,
    "start_time": "2023-11-01T14:45:41.048Z"
   },
   {
    "duration": 1,
    "start_time": "2023-11-01T14:45:41.049Z"
   },
   {
    "duration": 0,
    "start_time": "2023-11-01T14:45:41.051Z"
   },
   {
    "duration": 0,
    "start_time": "2023-11-01T14:45:41.052Z"
   },
   {
    "duration": 332,
    "start_time": "2023-11-01T14:45:47.531Z"
   },
   {
    "duration": 7,
    "start_time": "2023-11-01T14:46:02.365Z"
   },
   {
    "duration": 166,
    "start_time": "2023-11-01T14:46:04.438Z"
   },
   {
    "duration": 9,
    "start_time": "2023-11-01T14:46:32.605Z"
   },
   {
    "duration": 185,
    "start_time": "2023-11-01T14:46:33.725Z"
   },
   {
    "duration": 7,
    "start_time": "2023-11-01T14:47:14.285Z"
   },
   {
    "duration": 192,
    "start_time": "2023-11-01T14:47:14.959Z"
   },
   {
    "duration": 6,
    "start_time": "2023-11-01T14:47:30.709Z"
   },
   {
    "duration": 221,
    "start_time": "2023-11-01T14:47:32.812Z"
   },
   {
    "duration": 250,
    "start_time": "2023-11-01T14:49:13.159Z"
   },
   {
    "duration": 102,
    "start_time": "2023-11-01T14:57:11.027Z"
   },
   {
    "duration": 16,
    "start_time": "2023-11-01T14:57:17.003Z"
   },
   {
    "duration": 18,
    "start_time": "2023-11-01T14:57:25.308Z"
   },
   {
    "duration": 447,
    "start_time": "2023-11-01T14:58:01.555Z"
   },
   {
    "duration": 105,
    "start_time": "2023-11-01T15:00:55.754Z"
   },
   {
    "duration": 10,
    "start_time": "2023-11-01T15:01:01.418Z"
   },
   {
    "duration": 1739,
    "start_time": "2023-11-01T15:01:16.489Z"
   },
   {
    "duration": 22,
    "start_time": "2023-11-01T15:02:01.160Z"
   },
   {
    "duration": 1785,
    "start_time": "2023-11-01T15:02:04.402Z"
   },
   {
    "duration": 1875,
    "start_time": "2023-11-01T15:02:35.568Z"
   },
   {
    "duration": 3122,
    "start_time": "2023-11-01T15:02:40.649Z"
   },
   {
    "duration": 1307,
    "start_time": "2023-11-01T15:02:52.744Z"
   },
   {
    "duration": 1848,
    "start_time": "2023-11-01T15:02:58.728Z"
   },
   {
    "duration": 1531,
    "start_time": "2023-11-01T15:07:23.646Z"
   },
   {
    "duration": 2556,
    "start_time": "2023-11-01T15:15:01.475Z"
   },
   {
    "duration": 1485,
    "start_time": "2023-11-01T15:16:14.171Z"
   },
   {
    "duration": 6,
    "start_time": "2023-11-01T15:16:28.499Z"
   },
   {
    "duration": 1590,
    "start_time": "2023-11-01T15:16:34.002Z"
   },
   {
    "duration": 9,
    "start_time": "2023-11-02T10:02:04.091Z"
   },
   {
    "duration": 24,
    "start_time": "2023-11-02T10:02:07.698Z"
   },
   {
    "duration": 22,
    "start_time": "2023-11-02T10:02:17.057Z"
   },
   {
    "duration": 1751,
    "start_time": "2023-11-02T10:02:21.785Z"
   },
   {
    "duration": 4,
    "start_time": "2023-11-02T10:02:33.994Z"
   },
   {
    "duration": 5,
    "start_time": "2023-11-02T10:02:44.771Z"
   },
   {
    "duration": 1462,
    "start_time": "2023-11-02T11:00:02.097Z"
   },
   {
    "duration": 58,
    "start_time": "2023-11-02T11:00:03.562Z"
   },
   {
    "duration": 361,
    "start_time": "2023-11-02T11:00:03.622Z"
   },
   {
    "duration": 574,
    "start_time": "2023-11-02T11:00:03.985Z"
   },
   {
    "duration": 128,
    "start_time": "2023-11-02T11:00:04.562Z"
   },
   {
    "duration": 126,
    "start_time": "2023-11-02T11:00:04.692Z"
   },
   {
    "duration": 33,
    "start_time": "2023-11-02T11:00:04.820Z"
   },
   {
    "duration": 75,
    "start_time": "2023-11-02T11:00:04.855Z"
   },
   {
    "duration": 41,
    "start_time": "2023-11-02T11:00:04.932Z"
   },
   {
    "duration": 65,
    "start_time": "2023-11-02T11:00:04.974Z"
   },
   {
    "duration": 69,
    "start_time": "2023-11-02T11:00:05.041Z"
   },
   {
    "duration": 85,
    "start_time": "2023-11-02T11:00:05.111Z"
   },
   {
    "duration": 135,
    "start_time": "2023-11-02T11:00:05.198Z"
   },
   {
    "duration": 205,
    "start_time": "2023-11-02T11:00:05.336Z"
   },
   {
    "duration": 432,
    "start_time": "2023-11-02T11:00:05.544Z"
   },
   {
    "duration": 24,
    "start_time": "2023-11-02T11:00:05.978Z"
   },
   {
    "duration": 187,
    "start_time": "2023-11-02T11:00:06.004Z"
   },
   {
    "duration": 112,
    "start_time": "2023-11-02T11:00:06.193Z"
   },
   {
    "duration": 65,
    "start_time": "2023-11-02T11:00:06.307Z"
   },
   {
    "duration": 30,
    "start_time": "2023-11-02T11:00:06.374Z"
   },
   {
    "duration": 56,
    "start_time": "2023-11-02T11:00:06.406Z"
   },
   {
    "duration": 561,
    "start_time": "2023-11-02T11:00:06.463Z"
   },
   {
    "duration": 18,
    "start_time": "2023-11-02T11:00:07.025Z"
   },
   {
    "duration": 279,
    "start_time": "2023-11-02T11:00:07.045Z"
   },
   {
    "duration": 138,
    "start_time": "2023-11-02T11:00:07.326Z"
   },
   {
    "duration": 706,
    "start_time": "2023-11-02T11:00:07.466Z"
   },
   {
    "duration": 8,
    "start_time": "2023-11-02T11:00:08.174Z"
   },
   {
    "duration": 15,
    "start_time": "2023-11-02T11:00:08.201Z"
   },
   {
    "duration": 388,
    "start_time": "2023-11-02T11:00:08.217Z"
   },
   {
    "duration": 385,
    "start_time": "2023-11-02T11:00:08.607Z"
   },
   {
    "duration": 165,
    "start_time": "2023-11-02T11:00:08.994Z"
   },
   {
    "duration": 0,
    "start_time": "2023-11-02T11:00:09.161Z"
   },
   {
    "duration": 0,
    "start_time": "2023-11-02T11:00:09.162Z"
   },
   {
    "duration": 0,
    "start_time": "2023-11-02T11:00:09.163Z"
   },
   {
    "duration": 0,
    "start_time": "2023-11-02T11:00:09.164Z"
   },
   {
    "duration": 0,
    "start_time": "2023-11-02T11:00:09.165Z"
   },
   {
    "duration": 24,
    "start_time": "2023-11-02T11:00:22.672Z"
   },
   {
    "duration": 1817,
    "start_time": "2023-11-02T11:00:27.727Z"
   },
   {
    "duration": 52,
    "start_time": "2023-11-02T11:00:48.063Z"
   },
   {
    "duration": 452,
    "start_time": "2023-11-02T11:00:59.527Z"
   },
   {
    "duration": 21,
    "start_time": "2023-11-02T11:01:42.910Z"
   },
   {
    "duration": 6,
    "start_time": "2023-11-02T11:02:30.710Z"
   },
   {
    "duration": 25,
    "start_time": "2023-11-02T11:02:41.951Z"
   },
   {
    "duration": 792,
    "start_time": "2023-11-02T11:02:49.646Z"
   },
   {
    "duration": 5,
    "start_time": "2023-11-02T11:05:19.717Z"
   },
   {
    "duration": 23,
    "start_time": "2023-11-02T11:06:25.399Z"
   },
   {
    "duration": 760,
    "start_time": "2023-11-02T11:07:17.750Z"
   },
   {
    "duration": 3,
    "start_time": "2023-11-02T11:16:24.870Z"
   },
   {
    "duration": 24,
    "start_time": "2023-11-02T11:16:25.990Z"
   },
   {
    "duration": 25,
    "start_time": "2023-11-02T11:16:26.614Z"
   },
   {
    "duration": 852,
    "start_time": "2023-11-02T11:16:28.805Z"
   },
   {
    "duration": 747,
    "start_time": "2023-11-02T11:17:13.349Z"
   },
   {
    "duration": 76,
    "start_time": "2023-11-02T11:18:50.679Z"
   },
   {
    "duration": 346,
    "start_time": "2023-11-02T11:19:03.774Z"
   },
   {
    "duration": 34,
    "start_time": "2023-11-02T11:20:58.901Z"
   },
   {
    "duration": 34,
    "start_time": "2023-11-02T11:21:17.038Z"
   },
   {
    "duration": 33,
    "start_time": "2023-11-02T11:21:40.694Z"
   },
   {
    "duration": 31,
    "start_time": "2023-11-02T11:22:02.503Z"
   },
   {
    "duration": 29,
    "start_time": "2023-11-02T11:22:56.590Z"
   },
   {
    "duration": 30,
    "start_time": "2023-11-02T11:23:12.837Z"
   },
   {
    "duration": 27,
    "start_time": "2023-11-02T11:23:23.894Z"
   },
   {
    "duration": 26,
    "start_time": "2023-11-02T11:23:30.045Z"
   },
   {
    "duration": 82,
    "start_time": "2023-11-02T11:25:08.622Z"
   },
   {
    "duration": 137,
    "start_time": "2023-11-02T11:25:16.676Z"
   },
   {
    "duration": 48,
    "start_time": "2023-11-02T11:25:23.053Z"
   },
   {
    "duration": 16,
    "start_time": "2023-11-02T11:28:01.284Z"
   },
   {
    "duration": 26,
    "start_time": "2023-11-02T11:28:10.806Z"
   },
   {
    "duration": 12,
    "start_time": "2023-11-02T11:28:27.933Z"
   },
   {
    "duration": 26,
    "start_time": "2023-11-02T11:28:39.645Z"
   },
   {
    "duration": 26,
    "start_time": "2023-11-02T11:28:43.688Z"
   },
   {
    "duration": 23,
    "start_time": "2023-11-02T11:28:48.854Z"
   },
   {
    "duration": 29,
    "start_time": "2023-11-02T11:29:06.621Z"
   },
   {
    "duration": 30,
    "start_time": "2023-11-02T11:29:12.212Z"
   },
   {
    "duration": 30,
    "start_time": "2023-11-02T11:29:25.261Z"
   },
   {
    "duration": 23,
    "start_time": "2023-11-02T11:29:33.526Z"
   },
   {
    "duration": 27,
    "start_time": "2023-11-02T11:29:40.716Z"
   },
   {
    "duration": 344,
    "start_time": "2023-11-02T11:29:55.364Z"
   },
   {
    "duration": 408,
    "start_time": "2023-11-02T11:32:05.493Z"
   },
   {
    "duration": 338,
    "start_time": "2023-11-02T11:32:22.756Z"
   },
   {
    "duration": 328,
    "start_time": "2023-11-02T11:32:29.892Z"
   },
   {
    "duration": 82,
    "start_time": "2023-11-02T11:33:14.212Z"
   },
   {
    "duration": 1548,
    "start_time": "2023-11-02T11:34:54.475Z"
   },
   {
    "duration": 6,
    "start_time": "2023-11-02T11:36:11.842Z"
   },
   {
    "duration": 3,
    "start_time": "2023-11-02T11:36:18.032Z"
   },
   {
    "duration": 7,
    "start_time": "2023-11-02T11:36:21.627Z"
   },
   {
    "duration": 23,
    "start_time": "2023-11-02T11:36:27.907Z"
   },
   {
    "duration": 4,
    "start_time": "2023-11-02T11:36:35.730Z"
   },
   {
    "duration": 674,
    "start_time": "2023-11-02T11:36:47.883Z"
   },
   {
    "duration": 346,
    "start_time": "2023-11-02T11:36:55.475Z"
   },
   {
    "duration": 1212,
    "start_time": "2023-11-02T11:37:50.830Z"
   },
   {
    "duration": 57,
    "start_time": "2023-11-02T11:37:52.044Z"
   },
   {
    "duration": 19,
    "start_time": "2023-11-02T11:37:52.102Z"
   },
   {
    "duration": 15,
    "start_time": "2023-11-02T11:37:52.123Z"
   },
   {
    "duration": 26,
    "start_time": "2023-11-02T11:37:52.140Z"
   },
   {
    "duration": 23,
    "start_time": "2023-11-02T11:37:52.168Z"
   },
   {
    "duration": 3,
    "start_time": "2023-11-02T11:37:52.201Z"
   },
   {
    "duration": 36,
    "start_time": "2023-11-02T11:37:52.206Z"
   },
   {
    "duration": 31,
    "start_time": "2023-11-02T11:37:52.244Z"
   },
   {
    "duration": 19,
    "start_time": "2023-11-02T11:37:52.278Z"
   },
   {
    "duration": 34,
    "start_time": "2023-11-02T11:37:52.299Z"
   },
   {
    "duration": 11,
    "start_time": "2023-11-02T11:37:52.334Z"
   },
   {
    "duration": 23,
    "start_time": "2023-11-02T11:37:52.346Z"
   },
   {
    "duration": 40,
    "start_time": "2023-11-02T11:37:52.371Z"
   },
   {
    "duration": 126,
    "start_time": "2023-11-02T11:37:52.413Z"
   },
   {
    "duration": 11,
    "start_time": "2023-11-02T11:37:52.540Z"
   },
   {
    "duration": 21,
    "start_time": "2023-11-02T11:37:52.553Z"
   },
   {
    "duration": 20,
    "start_time": "2023-11-02T11:37:52.576Z"
   },
   {
    "duration": 10,
    "start_time": "2023-11-02T11:37:52.598Z"
   },
   {
    "duration": 20,
    "start_time": "2023-11-02T11:37:52.610Z"
   },
   {
    "duration": 32,
    "start_time": "2023-11-02T11:37:52.632Z"
   },
   {
    "duration": 354,
    "start_time": "2023-11-02T11:37:52.666Z"
   },
   {
    "duration": 18,
    "start_time": "2023-11-02T11:37:53.022Z"
   },
   {
    "duration": 22,
    "start_time": "2023-11-02T11:37:53.041Z"
   },
   {
    "duration": 7,
    "start_time": "2023-11-02T11:37:53.064Z"
   },
   {
    "duration": 572,
    "start_time": "2023-11-02T11:37:53.073Z"
   },
   {
    "duration": 9,
    "start_time": "2023-11-02T11:37:53.647Z"
   },
   {
    "duration": 42,
    "start_time": "2023-11-02T11:37:53.660Z"
   },
   {
    "duration": 345,
    "start_time": "2023-11-02T11:37:53.705Z"
   },
   {
    "duration": 373,
    "start_time": "2023-11-02T11:37:54.051Z"
   },
   {
    "duration": 6,
    "start_time": "2023-11-02T11:37:54.426Z"
   },
   {
    "duration": 17,
    "start_time": "2023-11-02T11:37:54.433Z"
   },
   {
    "duration": 27,
    "start_time": "2023-11-02T11:37:54.452Z"
   },
   {
    "duration": 25,
    "start_time": "2023-11-02T11:37:54.481Z"
   },
   {
    "duration": 756,
    "start_time": "2023-11-02T11:37:54.508Z"
   },
   {
    "duration": 353,
    "start_time": "2023-11-02T11:37:55.266Z"
   },
   {
    "duration": 102,
    "start_time": "2023-11-02T12:09:42.055Z"
   },
   {
    "duration": 8,
    "start_time": "2023-11-02T12:09:46.624Z"
   },
   {
    "duration": 10,
    "start_time": "2023-11-02T12:10:57.798Z"
   },
   {
    "duration": 15,
    "start_time": "2023-11-02T12:11:09.575Z"
   },
   {
    "duration": 16,
    "start_time": "2023-11-02T12:11:36.214Z"
   },
   {
    "duration": 16,
    "start_time": "2023-11-02T12:11:53.719Z"
   },
   {
    "duration": 87,
    "start_time": "2023-11-02T12:13:53.447Z"
   },
   {
    "duration": 20,
    "start_time": "2023-11-02T12:14:00.399Z"
   },
   {
    "duration": 22,
    "start_time": "2023-11-02T12:14:28.180Z"
   },
   {
    "duration": 8,
    "start_time": "2023-11-02T12:14:42.384Z"
   },
   {
    "duration": 21,
    "start_time": "2023-11-02T12:15:36.310Z"
   },
   {
    "duration": 129,
    "start_time": "2023-11-02T12:16:04.567Z"
   },
   {
    "duration": 33,
    "start_time": "2023-11-02T12:16:14.672Z"
   },
   {
    "duration": 15,
    "start_time": "2023-11-02T12:16:41.415Z"
   },
   {
    "duration": 22,
    "start_time": "2023-11-02T12:16:49.309Z"
   },
   {
    "duration": 19,
    "start_time": "2023-11-02T12:17:36.527Z"
   },
   {
    "duration": 23,
    "start_time": "2023-11-02T12:17:47.679Z"
   },
   {
    "duration": 23,
    "start_time": "2023-11-02T12:18:35.975Z"
   },
   {
    "duration": 24,
    "start_time": "2023-11-02T12:18:39.670Z"
   },
   {
    "duration": 22,
    "start_time": "2023-11-02T12:18:48.966Z"
   },
   {
    "duration": 18,
    "start_time": "2023-11-02T12:18:51.958Z"
   },
   {
    "duration": 16,
    "start_time": "2023-11-02T12:18:56.478Z"
   },
   {
    "duration": 23,
    "start_time": "2023-11-02T12:19:00.381Z"
   },
   {
    "duration": 21,
    "start_time": "2023-11-02T12:19:13.271Z"
   },
   {
    "duration": 21,
    "start_time": "2023-11-02T12:19:18.175Z"
   },
   {
    "duration": 23,
    "start_time": "2023-11-02T12:19:37.550Z"
   },
   {
    "duration": 338,
    "start_time": "2023-11-02T12:22:26.863Z"
   },
   {
    "duration": 292,
    "start_time": "2023-11-02T12:22:47.021Z"
   },
   {
    "duration": 1363,
    "start_time": "2023-11-02T12:35:50.484Z"
   },
   {
    "duration": 560,
    "start_time": "2023-11-02T12:36:46.243Z"
   },
   {
    "duration": 874,
    "start_time": "2023-11-02T12:37:05.420Z"
   },
   {
    "duration": 517,
    "start_time": "2023-11-02T12:38:23.996Z"
   },
   {
    "duration": 1170,
    "start_time": "2023-11-02T12:40:21.055Z"
   },
   {
    "duration": 56,
    "start_time": "2023-11-02T12:40:22.228Z"
   },
   {
    "duration": 19,
    "start_time": "2023-11-02T12:40:22.286Z"
   },
   {
    "duration": 30,
    "start_time": "2023-11-02T12:40:22.307Z"
   },
   {
    "duration": 33,
    "start_time": "2023-11-02T12:40:22.339Z"
   },
   {
    "duration": 48,
    "start_time": "2023-11-02T12:40:22.374Z"
   },
   {
    "duration": 4,
    "start_time": "2023-11-02T12:40:22.424Z"
   },
   {
    "duration": 49,
    "start_time": "2023-11-02T12:40:22.430Z"
   },
   {
    "duration": 28,
    "start_time": "2023-11-02T12:40:22.481Z"
   },
   {
    "duration": 34,
    "start_time": "2023-11-02T12:40:22.510Z"
   },
   {
    "duration": 50,
    "start_time": "2023-11-02T12:40:22.546Z"
   },
   {
    "duration": 33,
    "start_time": "2023-11-02T12:40:22.598Z"
   },
   {
    "duration": 29,
    "start_time": "2023-11-02T12:40:22.633Z"
   },
   {
    "duration": 54,
    "start_time": "2023-11-02T12:40:22.666Z"
   },
   {
    "duration": 135,
    "start_time": "2023-11-02T12:40:22.722Z"
   },
   {
    "duration": 9,
    "start_time": "2023-11-02T12:40:22.859Z"
   },
   {
    "duration": 26,
    "start_time": "2023-11-02T12:40:22.870Z"
   },
   {
    "duration": 28,
    "start_time": "2023-11-02T12:40:22.897Z"
   },
   {
    "duration": 22,
    "start_time": "2023-11-02T12:40:22.927Z"
   },
   {
    "duration": 25,
    "start_time": "2023-11-02T12:40:22.951Z"
   },
   {
    "duration": 58,
    "start_time": "2023-11-02T12:40:22.977Z"
   },
   {
    "duration": 359,
    "start_time": "2023-11-02T12:40:23.037Z"
   },
   {
    "duration": 18,
    "start_time": "2023-11-02T12:40:23.401Z"
   },
   {
    "duration": 17,
    "start_time": "2023-11-02T12:40:23.420Z"
   },
   {
    "duration": 16,
    "start_time": "2023-11-02T12:40:23.439Z"
   },
   {
    "duration": 538,
    "start_time": "2023-11-02T12:40:23.457Z"
   },
   {
    "duration": 9,
    "start_time": "2023-11-02T12:40:23.997Z"
   },
   {
    "duration": 14,
    "start_time": "2023-11-02T12:40:24.008Z"
   },
   {
    "duration": 360,
    "start_time": "2023-11-02T12:40:24.024Z"
   },
   {
    "duration": 414,
    "start_time": "2023-11-02T12:40:24.385Z"
   },
   {
    "duration": 7,
    "start_time": "2023-11-02T12:40:24.801Z"
   },
   {
    "duration": 23,
    "start_time": "2023-11-02T12:40:24.810Z"
   },
   {
    "duration": 29,
    "start_time": "2023-11-02T12:40:24.835Z"
   },
   {
    "duration": 11,
    "start_time": "2023-11-02T12:40:24.865Z"
   },
   {
    "duration": 644,
    "start_time": "2023-11-02T12:40:24.878Z"
   },
   {
    "duration": 306,
    "start_time": "2023-11-02T12:40:25.523Z"
   },
   {
    "duration": 22,
    "start_time": "2023-11-02T12:40:25.830Z"
   },
   {
    "duration": 428,
    "start_time": "2023-11-02T12:40:25.854Z"
   },
   {
    "duration": 112,
    "start_time": "2023-11-02T12:49:39.550Z"
   },
   {
    "duration": 271,
    "start_time": "2023-11-02T12:49:49.222Z"
   },
   {
    "duration": 24,
    "start_time": "2023-11-02T12:50:06.222Z"
   },
   {
    "duration": 7,
    "start_time": "2023-11-02T12:53:52.223Z"
   },
   {
    "duration": 12,
    "start_time": "2023-11-02T12:53:59.167Z"
   },
   {
    "duration": 10,
    "start_time": "2023-11-02T12:54:03.486Z"
   },
   {
    "duration": 15,
    "start_time": "2023-11-02T12:57:29.742Z"
   },
   {
    "duration": 1467,
    "start_time": "2023-11-02T12:59:26.549Z"
   },
   {
    "duration": 59,
    "start_time": "2023-11-02T12:59:28.018Z"
   },
   {
    "duration": 23,
    "start_time": "2023-11-02T12:59:28.079Z"
   },
   {
    "duration": 16,
    "start_time": "2023-11-02T12:59:28.104Z"
   },
   {
    "duration": 15,
    "start_time": "2023-11-02T12:59:28.121Z"
   },
   {
    "duration": 26,
    "start_time": "2023-11-02T12:59:28.138Z"
   },
   {
    "duration": 12,
    "start_time": "2023-11-02T12:59:28.167Z"
   },
   {
    "duration": 10,
    "start_time": "2023-11-02T12:59:28.202Z"
   },
   {
    "duration": 15,
    "start_time": "2023-11-02T12:59:28.214Z"
   },
   {
    "duration": 10,
    "start_time": "2023-11-02T12:59:28.233Z"
   },
   {
    "duration": 58,
    "start_time": "2023-11-02T12:59:28.246Z"
   },
   {
    "duration": 17,
    "start_time": "2023-11-02T12:59:28.307Z"
   },
   {
    "duration": 60,
    "start_time": "2023-11-02T12:59:28.326Z"
   },
   {
    "duration": 22,
    "start_time": "2023-11-02T12:59:28.388Z"
   },
   {
    "duration": 160,
    "start_time": "2023-11-02T12:59:28.413Z"
   },
   {
    "duration": 27,
    "start_time": "2023-11-02T12:59:28.575Z"
   },
   {
    "duration": 4,
    "start_time": "2023-11-02T12:59:28.605Z"
   },
   {
    "duration": 25,
    "start_time": "2023-11-02T12:59:28.611Z"
   },
   {
    "duration": 8,
    "start_time": "2023-11-02T12:59:28.638Z"
   },
   {
    "duration": 37,
    "start_time": "2023-11-02T12:59:28.648Z"
   },
   {
    "duration": 27,
    "start_time": "2023-11-02T12:59:28.687Z"
   },
   {
    "duration": 379,
    "start_time": "2023-11-02T12:59:28.717Z"
   },
   {
    "duration": 18,
    "start_time": "2023-11-02T12:59:29.101Z"
   },
   {
    "duration": 46,
    "start_time": "2023-11-02T12:59:29.121Z"
   },
   {
    "duration": 97,
    "start_time": "2023-11-02T12:59:29.169Z"
   },
   {
    "duration": 608,
    "start_time": "2023-11-02T12:59:29.268Z"
   },
   {
    "duration": 23,
    "start_time": "2023-11-02T12:59:29.879Z"
   },
   {
    "duration": 17,
    "start_time": "2023-11-02T12:59:29.905Z"
   },
   {
    "duration": 387,
    "start_time": "2023-11-02T12:59:29.923Z"
   },
   {
    "duration": 380,
    "start_time": "2023-11-02T12:59:30.312Z"
   },
   {
    "duration": 6,
    "start_time": "2023-11-02T12:59:30.701Z"
   },
   {
    "duration": 49,
    "start_time": "2023-11-02T12:59:30.709Z"
   },
   {
    "duration": 87,
    "start_time": "2023-11-02T12:59:30.760Z"
   },
   {
    "duration": 39,
    "start_time": "2023-11-02T12:59:30.849Z"
   },
   {
    "duration": 714,
    "start_time": "2023-11-02T12:59:30.889Z"
   },
   {
    "duration": 332,
    "start_time": "2023-11-02T12:59:31.605Z"
   },
   {
    "duration": 23,
    "start_time": "2023-11-02T12:59:31.939Z"
   },
   {
    "duration": 14,
    "start_time": "2023-11-02T12:59:51.223Z"
   },
   {
    "duration": 1207,
    "start_time": "2023-11-02T13:01:19.817Z"
   },
   {
    "duration": 60,
    "start_time": "2023-11-02T13:01:21.026Z"
   },
   {
    "duration": 21,
    "start_time": "2023-11-02T13:01:21.088Z"
   },
   {
    "duration": 22,
    "start_time": "2023-11-02T13:01:21.111Z"
   },
   {
    "duration": 20,
    "start_time": "2023-11-02T13:01:21.135Z"
   },
   {
    "duration": 30,
    "start_time": "2023-11-02T13:01:21.157Z"
   },
   {
    "duration": 65,
    "start_time": "2023-11-02T13:01:21.189Z"
   },
   {
    "duration": 48,
    "start_time": "2023-11-02T13:01:21.256Z"
   },
   {
    "duration": 28,
    "start_time": "2023-11-02T13:01:21.306Z"
   },
   {
    "duration": 27,
    "start_time": "2023-11-02T13:01:21.336Z"
   },
   {
    "duration": 38,
    "start_time": "2023-11-02T13:01:21.365Z"
   },
   {
    "duration": 49,
    "start_time": "2023-11-02T13:01:21.405Z"
   },
   {
    "duration": 78,
    "start_time": "2023-11-02T13:01:21.455Z"
   },
   {
    "duration": 52,
    "start_time": "2023-11-02T13:01:21.536Z"
   },
   {
    "duration": 146,
    "start_time": "2023-11-02T13:01:21.590Z"
   },
   {
    "duration": 10,
    "start_time": "2023-11-02T13:01:21.738Z"
   },
   {
    "duration": 26,
    "start_time": "2023-11-02T13:01:21.750Z"
   },
   {
    "duration": 34,
    "start_time": "2023-11-02T13:01:21.778Z"
   },
   {
    "duration": 17,
    "start_time": "2023-11-02T13:01:21.814Z"
   },
   {
    "duration": 37,
    "start_time": "2023-11-02T13:01:21.833Z"
   },
   {
    "duration": 42,
    "start_time": "2023-11-02T13:01:21.872Z"
   },
   {
    "duration": 372,
    "start_time": "2023-11-02T13:01:21.916Z"
   },
   {
    "duration": 25,
    "start_time": "2023-11-02T13:01:22.290Z"
   },
   {
    "duration": 41,
    "start_time": "2023-11-02T13:01:22.317Z"
   },
   {
    "duration": 29,
    "start_time": "2023-11-02T13:01:22.360Z"
   },
   {
    "duration": 538,
    "start_time": "2023-11-02T13:01:22.390Z"
   },
   {
    "duration": 8,
    "start_time": "2023-11-02T13:01:22.930Z"
   },
   {
    "duration": 30,
    "start_time": "2023-11-02T13:01:22.940Z"
   },
   {
    "duration": 348,
    "start_time": "2023-11-02T13:01:22.972Z"
   },
   {
    "duration": 360,
    "start_time": "2023-11-02T13:01:23.321Z"
   },
   {
    "duration": 6,
    "start_time": "2023-11-02T13:01:23.683Z"
   },
   {
    "duration": 19,
    "start_time": "2023-11-02T13:01:23.690Z"
   },
   {
    "duration": 40,
    "start_time": "2023-11-02T13:01:23.711Z"
   },
   {
    "duration": 40,
    "start_time": "2023-11-02T13:01:23.753Z"
   },
   {
    "duration": 750,
    "start_time": "2023-11-02T13:01:23.794Z"
   },
   {
    "duration": 379,
    "start_time": "2023-11-02T13:01:24.546Z"
   },
   {
    "duration": 26,
    "start_time": "2023-11-02T13:01:24.927Z"
   },
   {
    "duration": 330,
    "start_time": "2023-11-02T13:01:28.400Z"
   },
   {
    "duration": 290,
    "start_time": "2023-11-02T13:01:38.017Z"
   },
   {
    "duration": 237,
    "start_time": "2023-11-02T13:01:43.232Z"
   },
   {
    "duration": 4,
    "start_time": "2023-11-02T13:51:27.984Z"
   },
   {
    "duration": 4,
    "start_time": "2023-11-02T13:51:37.264Z"
   },
   {
    "duration": 113,
    "start_time": "2023-11-02T13:56:20.071Z"
   },
   {
    "duration": 21,
    "start_time": "2023-11-02T13:56:26.207Z"
   },
   {
    "duration": 246,
    "start_time": "2023-11-02T13:56:30.431Z"
   },
   {
    "duration": 21,
    "start_time": "2023-11-02T14:12:49.886Z"
   },
   {
    "duration": 10,
    "start_time": "2023-11-02T14:14:44.757Z"
   },
   {
    "duration": 10,
    "start_time": "2023-11-02T14:14:56.877Z"
   },
   {
    "duration": 14,
    "start_time": "2023-11-02T14:16:14.540Z"
   },
   {
    "duration": 16,
    "start_time": "2023-11-02T14:16:52.300Z"
   },
   {
    "duration": 15,
    "start_time": "2023-11-02T14:17:00.488Z"
   },
   {
    "duration": 15,
    "start_time": "2023-11-02T14:17:18.067Z"
   },
   {
    "duration": 15,
    "start_time": "2023-11-02T14:18:03.477Z"
   },
   {
    "duration": 16,
    "start_time": "2023-11-02T14:20:07.835Z"
   },
   {
    "duration": 15,
    "start_time": "2023-11-02T14:20:55.436Z"
   },
   {
    "duration": 16,
    "start_time": "2023-11-02T14:21:00.757Z"
   },
   {
    "duration": 10,
    "start_time": "2023-11-02T14:23:27.652Z"
   },
   {
    "duration": 1524,
    "start_time": "2023-11-02T14:23:45.673Z"
   },
   {
    "duration": 6,
    "start_time": "2023-11-02T14:24:28.116Z"
   },
   {
    "duration": 7,
    "start_time": "2023-11-02T14:25:09.187Z"
   },
   {
    "duration": 6,
    "start_time": "2023-11-02T14:25:38.203Z"
   },
   {
    "duration": 12,
    "start_time": "2023-11-02T14:27:51.156Z"
   },
   {
    "duration": 14,
    "start_time": "2023-11-02T14:28:09.828Z"
   },
   {
    "duration": 1177,
    "start_time": "2023-11-02T14:28:38.245Z"
   },
   {
    "duration": 60,
    "start_time": "2023-11-02T14:28:39.423Z"
   },
   {
    "duration": 20,
    "start_time": "2023-11-02T14:28:39.484Z"
   },
   {
    "duration": 44,
    "start_time": "2023-11-02T14:28:39.506Z"
   },
   {
    "duration": 11,
    "start_time": "2023-11-02T14:28:39.553Z"
   },
   {
    "duration": 24,
    "start_time": "2023-11-02T14:28:39.565Z"
   },
   {
    "duration": 3,
    "start_time": "2023-11-02T14:28:39.591Z"
   },
   {
    "duration": 13,
    "start_time": "2023-11-02T14:28:39.596Z"
   },
   {
    "duration": 12,
    "start_time": "2023-11-02T14:28:39.611Z"
   },
   {
    "duration": 14,
    "start_time": "2023-11-02T14:28:39.625Z"
   },
   {
    "duration": 13,
    "start_time": "2023-11-02T14:28:39.641Z"
   },
   {
    "duration": 10,
    "start_time": "2023-11-02T14:28:39.656Z"
   },
   {
    "duration": 33,
    "start_time": "2023-11-02T14:28:39.668Z"
   },
   {
    "duration": 88,
    "start_time": "2023-11-02T14:28:39.704Z"
   },
   {
    "duration": 155,
    "start_time": "2023-11-02T14:28:39.794Z"
   },
   {
    "duration": 12,
    "start_time": "2023-11-02T14:28:39.951Z"
   },
   {
    "duration": 10,
    "start_time": "2023-11-02T14:28:39.965Z"
   },
   {
    "duration": 19,
    "start_time": "2023-11-02T14:28:39.977Z"
   },
   {
    "duration": 12,
    "start_time": "2023-11-02T14:28:39.998Z"
   },
   {
    "duration": 52,
    "start_time": "2023-11-02T14:28:40.013Z"
   },
   {
    "duration": 43,
    "start_time": "2023-11-02T14:28:40.067Z"
   },
   {
    "duration": 366,
    "start_time": "2023-11-02T14:28:40.112Z"
   },
   {
    "duration": 25,
    "start_time": "2023-11-02T14:28:40.480Z"
   },
   {
    "duration": 38,
    "start_time": "2023-11-02T14:28:40.507Z"
   },
   {
    "duration": 7,
    "start_time": "2023-11-02T14:28:40.547Z"
   },
   {
    "duration": 539,
    "start_time": "2023-11-02T14:28:40.556Z"
   },
   {
    "duration": 8,
    "start_time": "2023-11-02T14:28:41.101Z"
   },
   {
    "duration": 41,
    "start_time": "2023-11-02T14:28:41.110Z"
   },
   {
    "duration": 360,
    "start_time": "2023-11-02T14:28:41.153Z"
   },
   {
    "duration": 362,
    "start_time": "2023-11-02T14:28:41.515Z"
   },
   {
    "duration": 5,
    "start_time": "2023-11-02T14:28:41.879Z"
   },
   {
    "duration": 38,
    "start_time": "2023-11-02T14:28:41.886Z"
   },
   {
    "duration": 34,
    "start_time": "2023-11-02T14:28:41.926Z"
   },
   {
    "duration": 29,
    "start_time": "2023-11-02T14:28:41.962Z"
   },
   {
    "duration": 713,
    "start_time": "2023-11-02T14:28:41.993Z"
   },
   {
    "duration": 346,
    "start_time": "2023-11-02T14:28:42.708Z"
   },
   {
    "duration": 20,
    "start_time": "2023-11-02T14:28:43.056Z"
   },
   {
    "duration": 291,
    "start_time": "2023-11-02T14:28:43.078Z"
   },
   {
    "duration": 30,
    "start_time": "2023-11-02T14:28:43.371Z"
   },
   {
    "duration": 7,
    "start_time": "2023-11-02T14:28:47.419Z"
   },
   {
    "duration": 3,
    "start_time": "2023-11-02T14:32:13.170Z"
   },
   {
    "duration": 4,
    "start_time": "2023-11-02T14:32:42.723Z"
   },
   {
    "duration": 4,
    "start_time": "2023-11-02T14:33:32.459Z"
   },
   {
    "duration": 4,
    "start_time": "2023-11-02T14:35:57.282Z"
   },
   {
    "duration": 5,
    "start_time": "2023-11-02T14:40:24.434Z"
   },
   {
    "duration": 110,
    "start_time": "2023-11-02T14:40:42.804Z"
   },
   {
    "duration": 4,
    "start_time": "2023-11-02T14:41:03.274Z"
   },
   {
    "duration": 25,
    "start_time": "2023-11-02T14:41:04.546Z"
   },
   {
    "duration": 6,
    "start_time": "2023-11-02T14:41:38.730Z"
   },
   {
    "duration": 15,
    "start_time": "2023-11-02T14:41:40.594Z"
   },
   {
    "duration": 5,
    "start_time": "2023-11-02T14:42:00.483Z"
   },
   {
    "duration": 15,
    "start_time": "2023-11-02T14:42:02.305Z"
   },
   {
    "duration": 5,
    "start_time": "2023-11-02T14:42:10.721Z"
   },
   {
    "duration": 21,
    "start_time": "2023-11-02T14:42:11.377Z"
   },
   {
    "duration": 4,
    "start_time": "2023-11-02T14:42:30.010Z"
   },
   {
    "duration": 19,
    "start_time": "2023-11-02T14:42:31.162Z"
   },
   {
    "duration": 6,
    "start_time": "2023-11-02T14:47:53.449Z"
   },
   {
    "duration": 19,
    "start_time": "2023-11-02T14:47:53.882Z"
   },
   {
    "duration": 6,
    "start_time": "2023-11-02T14:51:07.305Z"
   },
   {
    "duration": 17,
    "start_time": "2023-11-02T14:51:09.001Z"
   },
   {
    "duration": 6,
    "start_time": "2023-11-02T14:52:46.578Z"
   },
   {
    "duration": 22,
    "start_time": "2023-11-02T14:52:47.817Z"
   },
   {
    "duration": 5,
    "start_time": "2023-11-02T14:53:03.720Z"
   },
   {
    "duration": 18,
    "start_time": "2023-11-02T14:53:04.209Z"
   },
   {
    "duration": 13,
    "start_time": "2023-11-02T14:57:07.432Z"
   },
   {
    "duration": 6,
    "start_time": "2023-11-02T14:57:10.248Z"
   },
   {
    "duration": 4,
    "start_time": "2023-11-02T14:57:29.240Z"
   },
   {
    "duration": 5,
    "start_time": "2023-11-02T14:57:32.871Z"
   },
   {
    "duration": 7,
    "start_time": "2023-11-02T14:57:43.112Z"
   },
   {
    "duration": 5,
    "start_time": "2023-11-02T14:58:27.984Z"
   },
   {
    "duration": 21,
    "start_time": "2023-11-02T14:58:28.559Z"
   },
   {
    "duration": 5,
    "start_time": "2023-11-02T14:59:16.352Z"
   },
   {
    "duration": 17,
    "start_time": "2023-11-02T14:59:17.088Z"
   },
   {
    "duration": 6,
    "start_time": "2023-11-02T15:03:09.671Z"
   },
   {
    "duration": 91,
    "start_time": "2023-11-02T15:03:11.046Z"
   },
   {
    "duration": 7,
    "start_time": "2023-11-02T15:05:22.030Z"
   },
   {
    "duration": 99,
    "start_time": "2023-11-02T15:05:24.044Z"
   },
   {
    "duration": 7,
    "start_time": "2023-11-02T15:06:09.382Z"
   },
   {
    "duration": 105,
    "start_time": "2023-11-02T15:06:10.008Z"
   },
   {
    "duration": 6,
    "start_time": "2023-11-02T15:06:19.887Z"
   },
   {
    "duration": 194,
    "start_time": "2023-11-02T15:06:20.319Z"
   },
   {
    "duration": 6,
    "start_time": "2023-11-02T15:06:30.167Z"
   },
   {
    "duration": 194,
    "start_time": "2023-11-02T15:06:30.799Z"
   },
   {
    "duration": 6,
    "start_time": "2023-11-02T15:06:35.254Z"
   },
   {
    "duration": 87,
    "start_time": "2023-11-02T15:06:35.655Z"
   },
   {
    "duration": 6,
    "start_time": "2023-11-02T15:06:39.822Z"
   },
   {
    "duration": 90,
    "start_time": "2023-11-02T15:06:40.367Z"
   },
   {
    "duration": 7,
    "start_time": "2023-11-02T15:06:43.334Z"
   },
   {
    "duration": 94,
    "start_time": "2023-11-02T15:06:43.758Z"
   },
   {
    "duration": 6,
    "start_time": "2023-11-02T15:06:53.391Z"
   },
   {
    "duration": 88,
    "start_time": "2023-11-02T15:06:53.958Z"
   },
   {
    "duration": 6,
    "start_time": "2023-11-02T15:06:57.871Z"
   },
   {
    "duration": 198,
    "start_time": "2023-11-02T15:06:58.670Z"
   },
   {
    "duration": 7,
    "start_time": "2023-11-02T15:07:02.175Z"
   },
   {
    "duration": 94,
    "start_time": "2023-11-02T15:07:03.567Z"
   },
   {
    "duration": 6,
    "start_time": "2023-11-02T15:07:07.159Z"
   },
   {
    "duration": 89,
    "start_time": "2023-11-02T15:07:07.750Z"
   },
   {
    "duration": 6,
    "start_time": "2023-11-02T15:07:21.999Z"
   },
   {
    "duration": 176,
    "start_time": "2023-11-02T15:07:23.327Z"
   },
   {
    "duration": 6,
    "start_time": "2023-11-02T15:07:31.577Z"
   },
   {
    "duration": 216,
    "start_time": "2023-11-02T15:07:32.447Z"
   },
   {
    "duration": 5,
    "start_time": "2023-11-02T15:07:39.895Z"
   },
   {
    "duration": 95,
    "start_time": "2023-11-02T15:07:40.182Z"
   },
   {
    "duration": 7,
    "start_time": "2023-11-02T15:07:46.447Z"
   },
   {
    "duration": 89,
    "start_time": "2023-11-02T15:07:46.967Z"
   },
   {
    "duration": 6,
    "start_time": "2023-11-02T15:07:56.950Z"
   },
   {
    "duration": 89,
    "start_time": "2023-11-02T15:07:57.383Z"
   },
   {
    "duration": 6,
    "start_time": "2023-11-02T15:08:01.246Z"
   },
   {
    "duration": 94,
    "start_time": "2023-11-02T15:08:01.711Z"
   },
   {
    "duration": 6,
    "start_time": "2023-11-02T15:08:09.694Z"
   },
   {
    "duration": 176,
    "start_time": "2023-11-02T15:08:10.031Z"
   },
   {
    "duration": 6,
    "start_time": "2023-11-02T15:08:52.079Z"
   },
   {
    "duration": 87,
    "start_time": "2023-11-02T15:08:53.135Z"
   },
   {
    "duration": 6,
    "start_time": "2023-11-02T15:08:57.671Z"
   },
   {
    "duration": 86,
    "start_time": "2023-11-02T15:08:58.183Z"
   },
   {
    "duration": 7,
    "start_time": "2023-11-02T15:09:04.095Z"
   },
   {
    "duration": 102,
    "start_time": "2023-11-02T15:09:04.462Z"
   },
   {
    "duration": 88,
    "start_time": "2023-11-02T15:09:24.430Z"
   },
   {
    "duration": 6,
    "start_time": "2023-11-02T15:10:15.550Z"
   },
   {
    "duration": 85,
    "start_time": "2023-11-02T15:10:16.390Z"
   },
   {
    "duration": 82,
    "start_time": "2023-11-02T15:10:59.806Z"
   },
   {
    "duration": 85,
    "start_time": "2023-11-02T15:11:21.046Z"
   },
   {
    "duration": 93,
    "start_time": "2023-11-02T15:11:39.118Z"
   },
   {
    "duration": 95,
    "start_time": "2023-11-02T15:16:33.039Z"
   },
   {
    "duration": 103,
    "start_time": "2023-11-02T15:16:35.501Z"
   },
   {
    "duration": 103,
    "start_time": "2023-11-02T15:16:35.901Z"
   },
   {
    "duration": 92,
    "start_time": "2023-11-02T15:16:36.309Z"
   },
   {
    "duration": 110,
    "start_time": "2023-11-02T15:16:38.346Z"
   },
   {
    "duration": 11,
    "start_time": "2023-11-02T15:23:52.853Z"
   },
   {
    "duration": 6,
    "start_time": "2023-11-02T15:24:12.573Z"
   },
   {
    "duration": 88,
    "start_time": "2023-11-02T15:24:13.244Z"
   },
   {
    "duration": 84,
    "start_time": "2023-11-02T15:24:26.220Z"
   },
   {
    "duration": 91,
    "start_time": "2023-11-02T15:24:27.325Z"
   },
   {
    "duration": 213,
    "start_time": "2023-11-02T15:24:32.181Z"
   },
   {
    "duration": 87,
    "start_time": "2023-11-02T15:28:36.644Z"
   },
   {
    "duration": 121,
    "start_time": "2023-11-02T15:28:44.591Z"
   },
   {
    "duration": 88,
    "start_time": "2023-11-02T15:28:46.797Z"
   },
   {
    "duration": 97,
    "start_time": "2023-11-02T15:28:48.941Z"
   },
   {
    "duration": 6,
    "start_time": "2023-11-02T15:34:12.493Z"
   },
   {
    "duration": 5,
    "start_time": "2023-11-02T15:34:15.766Z"
   },
   {
    "duration": 83,
    "start_time": "2023-11-02T15:35:40.339Z"
   },
   {
    "duration": 9,
    "start_time": "2023-11-02T15:35:44.964Z"
   },
   {
    "duration": 17,
    "start_time": "2023-11-02T15:35:50.476Z"
   },
   {
    "duration": 19,
    "start_time": "2023-11-02T15:38:40.492Z"
   },
   {
    "duration": 9,
    "start_time": "2023-11-02T15:42:50.884Z"
   },
   {
    "duration": 96,
    "start_time": "2023-11-02T15:42:55.908Z"
   },
   {
    "duration": 4,
    "start_time": "2023-11-02T15:43:16.164Z"
   },
   {
    "duration": 14,
    "start_time": "2023-11-02T15:43:17.508Z"
   },
   {
    "duration": 15,
    "start_time": "2023-11-02T15:43:26.595Z"
   },
   {
    "duration": 12,
    "start_time": "2023-11-02T15:43:33.847Z"
   },
   {
    "duration": 13,
    "start_time": "2023-11-02T15:43:43.220Z"
   },
   {
    "duration": 118,
    "start_time": "2023-11-02T15:45:36.356Z"
   },
   {
    "duration": 5,
    "start_time": "2023-11-02T15:50:53.395Z"
   },
   {
    "duration": 11,
    "start_time": "2023-11-02T16:00:04.755Z"
   },
   {
    "duration": 34,
    "start_time": "2023-11-02T16:00:33.020Z"
   },
   {
    "duration": 13,
    "start_time": "2023-11-02T16:00:40.541Z"
   },
   {
    "duration": 20,
    "start_time": "2023-11-02T16:00:56.019Z"
   },
   {
    "duration": 11,
    "start_time": "2023-11-02T16:01:40.675Z"
   },
   {
    "duration": 10,
    "start_time": "2023-11-02T16:01:56.980Z"
   },
   {
    "duration": 24,
    "start_time": "2023-11-02T16:02:05.195Z"
   },
   {
    "duration": 21,
    "start_time": "2023-11-02T16:02:15.980Z"
   },
   {
    "duration": 986,
    "start_time": "2023-11-02T18:14:36.182Z"
   },
   {
    "duration": 6,
    "start_time": "2023-11-02T18:15:23.212Z"
   },
   {
    "duration": 155,
    "start_time": "2023-11-02T18:15:44.740Z"
   },
   {
    "duration": 3,
    "start_time": "2023-11-02T18:15:45.340Z"
   },
   {
    "duration": 1221,
    "start_time": "2023-11-02T18:19:25.793Z"
   },
   {
    "duration": 59,
    "start_time": "2023-11-02T18:19:27.016Z"
   },
   {
    "duration": 20,
    "start_time": "2023-11-02T18:19:27.077Z"
   },
   {
    "duration": 15,
    "start_time": "2023-11-02T18:19:27.099Z"
   },
   {
    "duration": 4,
    "start_time": "2023-11-02T18:19:27.115Z"
   },
   {
    "duration": 20,
    "start_time": "2023-11-02T18:19:27.121Z"
   },
   {
    "duration": 3,
    "start_time": "2023-11-02T18:19:27.143Z"
   },
   {
    "duration": 18,
    "start_time": "2023-11-02T18:19:27.148Z"
   },
   {
    "duration": 37,
    "start_time": "2023-11-02T18:19:27.168Z"
   },
   {
    "duration": 7,
    "start_time": "2023-11-02T18:19:27.207Z"
   },
   {
    "duration": 32,
    "start_time": "2023-11-02T18:19:27.216Z"
   },
   {
    "duration": 31,
    "start_time": "2023-11-02T18:19:27.249Z"
   },
   {
    "duration": 41,
    "start_time": "2023-11-02T18:19:27.281Z"
   },
   {
    "duration": 17,
    "start_time": "2023-11-02T18:19:27.325Z"
   },
   {
    "duration": 166,
    "start_time": "2023-11-02T18:19:27.345Z"
   },
   {
    "duration": 10,
    "start_time": "2023-11-02T18:19:27.513Z"
   },
   {
    "duration": 19,
    "start_time": "2023-11-02T18:19:27.525Z"
   },
   {
    "duration": 9,
    "start_time": "2023-11-02T18:19:27.545Z"
   },
   {
    "duration": 9,
    "start_time": "2023-11-02T18:19:27.556Z"
   },
   {
    "duration": 1007,
    "start_time": "2023-11-02T18:19:27.567Z"
   },
   {
    "duration": 6,
    "start_time": "2023-11-02T18:19:28.576Z"
   },
   {
    "duration": 43,
    "start_time": "2023-11-02T18:19:28.584Z"
   },
   {
    "duration": 357,
    "start_time": "2023-11-02T18:19:28.629Z"
   },
   {
    "duration": 28,
    "start_time": "2023-11-02T18:19:28.988Z"
   },
   {
    "duration": 25,
    "start_time": "2023-11-02T18:19:29.018Z"
   },
   {
    "duration": 7,
    "start_time": "2023-11-02T18:19:29.045Z"
   },
   {
    "duration": 575,
    "start_time": "2023-11-02T18:19:29.054Z"
   },
   {
    "duration": 8,
    "start_time": "2023-11-02T18:19:29.632Z"
   },
   {
    "duration": 19,
    "start_time": "2023-11-02T18:19:29.642Z"
   },
   {
    "duration": 332,
    "start_time": "2023-11-02T18:19:29.663Z"
   },
   {
    "duration": 375,
    "start_time": "2023-11-02T18:19:29.997Z"
   },
   {
    "duration": 6,
    "start_time": "2023-11-02T18:19:30.374Z"
   },
   {
    "duration": 57,
    "start_time": "2023-11-02T18:19:30.381Z"
   },
   {
    "duration": 920,
    "start_time": "2023-11-02T18:19:30.440Z"
   },
   {
    "duration": 342,
    "start_time": "2023-11-02T18:19:31.361Z"
   },
   {
    "duration": 21,
    "start_time": "2023-11-02T18:19:31.705Z"
   },
   {
    "duration": 523,
    "start_time": "2023-11-02T18:19:31.728Z"
   },
   {
    "duration": 169,
    "start_time": "2023-11-02T18:19:32.253Z"
   },
   {
    "duration": 359,
    "start_time": "2023-11-02T18:19:32.423Z"
   },
   {
    "duration": 91,
    "start_time": "2023-11-02T18:19:32.784Z"
   },
   {
    "duration": 104,
    "start_time": "2023-11-02T18:19:32.876Z"
   },
   {
    "duration": 127,
    "start_time": "2023-11-02T18:19:32.981Z"
   },
   {
    "duration": 246,
    "start_time": "2023-11-02T18:19:33.110Z"
   },
   {
    "duration": 107,
    "start_time": "2023-11-02T18:19:33.358Z"
   },
   {
    "duration": 108,
    "start_time": "2023-11-02T18:19:33.467Z"
   },
   {
    "duration": 107,
    "start_time": "2023-11-02T18:19:33.577Z"
   },
   {
    "duration": 3,
    "start_time": "2023-11-02T18:19:33.686Z"
   },
   {
    "duration": 25,
    "start_time": "2023-11-02T18:19:33.700Z"
   },
   {
    "duration": 18,
    "start_time": "2023-11-02T18:19:33.727Z"
   },
   {
    "duration": 13,
    "start_time": "2023-11-02T18:19:33.746Z"
   },
   {
    "duration": 42,
    "start_time": "2023-11-02T18:19:33.760Z"
   },
   {
    "duration": 6,
    "start_time": "2023-11-02T18:19:33.804Z"
   },
   {
    "duration": 16,
    "start_time": "2023-11-02T18:19:33.812Z"
   },
   {
    "duration": 28,
    "start_time": "2023-11-02T18:19:33.831Z"
   },
   {
    "duration": 6,
    "start_time": "2023-11-02T18:21:26.544Z"
   },
   {
    "duration": 132,
    "start_time": "2023-11-02T18:21:41.905Z"
   },
   {
    "duration": 1235,
    "start_time": "2023-11-02T18:21:57.378Z"
   },
   {
    "duration": 59,
    "start_time": "2023-11-02T18:21:58.615Z"
   },
   {
    "duration": 20,
    "start_time": "2023-11-02T18:21:58.676Z"
   },
   {
    "duration": 29,
    "start_time": "2023-11-02T18:21:58.698Z"
   },
   {
    "duration": 10,
    "start_time": "2023-11-02T18:21:58.729Z"
   },
   {
    "duration": 23,
    "start_time": "2023-11-02T18:21:58.742Z"
   },
   {
    "duration": 16,
    "start_time": "2023-11-02T18:21:58.766Z"
   },
   {
    "duration": 25,
    "start_time": "2023-11-02T18:21:58.784Z"
   },
   {
    "duration": 7,
    "start_time": "2023-11-02T18:21:58.811Z"
   },
   {
    "duration": 19,
    "start_time": "2023-11-02T18:21:58.820Z"
   },
   {
    "duration": 25,
    "start_time": "2023-11-02T18:21:58.840Z"
   },
   {
    "duration": 11,
    "start_time": "2023-11-02T18:21:58.866Z"
   },
   {
    "duration": 21,
    "start_time": "2023-11-02T18:21:58.878Z"
   },
   {
    "duration": 11,
    "start_time": "2023-11-02T18:21:58.901Z"
   },
   {
    "duration": 137,
    "start_time": "2023-11-02T18:21:58.914Z"
   },
   {
    "duration": 10,
    "start_time": "2023-11-02T18:21:59.052Z"
   },
   {
    "duration": 39,
    "start_time": "2023-11-02T18:21:59.064Z"
   },
   {
    "duration": 18,
    "start_time": "2023-11-02T18:21:59.105Z"
   },
   {
    "duration": 99,
    "start_time": "2023-11-02T18:21:59.124Z"
   },
   {
    "duration": 0,
    "start_time": "2023-11-02T18:21:59.226Z"
   },
   {
    "duration": 0,
    "start_time": "2023-11-02T18:21:59.227Z"
   },
   {
    "duration": 0,
    "start_time": "2023-11-02T18:21:59.228Z"
   },
   {
    "duration": 0,
    "start_time": "2023-11-02T18:21:59.230Z"
   },
   {
    "duration": 0,
    "start_time": "2023-11-02T18:21:59.231Z"
   },
   {
    "duration": 0,
    "start_time": "2023-11-02T18:21:59.232Z"
   },
   {
    "duration": 0,
    "start_time": "2023-11-02T18:21:59.233Z"
   },
   {
    "duration": 0,
    "start_time": "2023-11-02T18:21:59.233Z"
   },
   {
    "duration": 0,
    "start_time": "2023-11-02T18:21:59.235Z"
   },
   {
    "duration": 0,
    "start_time": "2023-11-02T18:21:59.236Z"
   },
   {
    "duration": 0,
    "start_time": "2023-11-02T18:21:59.237Z"
   },
   {
    "duration": 0,
    "start_time": "2023-11-02T18:21:59.238Z"
   },
   {
    "duration": 0,
    "start_time": "2023-11-02T18:21:59.239Z"
   },
   {
    "duration": 0,
    "start_time": "2023-11-02T18:21:59.240Z"
   },
   {
    "duration": 0,
    "start_time": "2023-11-02T18:21:59.241Z"
   },
   {
    "duration": 0,
    "start_time": "2023-11-02T18:21:59.243Z"
   },
   {
    "duration": 0,
    "start_time": "2023-11-02T18:21:59.244Z"
   },
   {
    "duration": 0,
    "start_time": "2023-11-02T18:21:59.245Z"
   },
   {
    "duration": 0,
    "start_time": "2023-11-02T18:21:59.246Z"
   },
   {
    "duration": 0,
    "start_time": "2023-11-02T18:21:59.247Z"
   },
   {
    "duration": 0,
    "start_time": "2023-11-02T18:21:59.248Z"
   },
   {
    "duration": 0,
    "start_time": "2023-11-02T18:21:59.249Z"
   },
   {
    "duration": 0,
    "start_time": "2023-11-02T18:21:59.251Z"
   },
   {
    "duration": 0,
    "start_time": "2023-11-02T18:21:59.251Z"
   },
   {
    "duration": 0,
    "start_time": "2023-11-02T18:21:59.252Z"
   },
   {
    "duration": 0,
    "start_time": "2023-11-02T18:21:59.302Z"
   },
   {
    "duration": 0,
    "start_time": "2023-11-02T18:21:59.303Z"
   },
   {
    "duration": 0,
    "start_time": "2023-11-02T18:21:59.304Z"
   },
   {
    "duration": 0,
    "start_time": "2023-11-02T18:21:59.305Z"
   },
   {
    "duration": 0,
    "start_time": "2023-11-02T18:21:59.306Z"
   },
   {
    "duration": 0,
    "start_time": "2023-11-02T18:21:59.307Z"
   },
   {
    "duration": 1,
    "start_time": "2023-11-02T18:21:59.307Z"
   },
   {
    "duration": 0,
    "start_time": "2023-11-02T18:21:59.309Z"
   },
   {
    "duration": 0,
    "start_time": "2023-11-02T18:21:59.309Z"
   },
   {
    "duration": 0,
    "start_time": "2023-11-02T18:21:59.310Z"
   },
   {
    "duration": 6,
    "start_time": "2023-11-02T18:22:32.449Z"
   },
   {
    "duration": 1159,
    "start_time": "2023-11-02T18:22:42.759Z"
   },
   {
    "duration": 57,
    "start_time": "2023-11-02T18:22:43.920Z"
   },
   {
    "duration": 19,
    "start_time": "2023-11-02T18:22:43.978Z"
   },
   {
    "duration": 30,
    "start_time": "2023-11-02T18:22:43.999Z"
   },
   {
    "duration": 20,
    "start_time": "2023-11-02T18:22:44.030Z"
   },
   {
    "duration": 22,
    "start_time": "2023-11-02T18:22:44.052Z"
   },
   {
    "duration": 14,
    "start_time": "2023-11-02T18:22:44.076Z"
   },
   {
    "duration": 21,
    "start_time": "2023-11-02T18:22:44.092Z"
   },
   {
    "duration": 22,
    "start_time": "2023-11-02T18:22:44.115Z"
   },
   {
    "duration": 19,
    "start_time": "2023-11-02T18:22:44.140Z"
   },
   {
    "duration": 15,
    "start_time": "2023-11-02T18:22:44.161Z"
   },
   {
    "duration": 20,
    "start_time": "2023-11-02T18:22:44.177Z"
   },
   {
    "duration": 30,
    "start_time": "2023-11-02T18:22:44.198Z"
   },
   {
    "duration": 25,
    "start_time": "2023-11-02T18:22:44.230Z"
   },
   {
    "duration": 144,
    "start_time": "2023-11-02T18:22:44.256Z"
   },
   {
    "duration": 11,
    "start_time": "2023-11-02T18:22:44.402Z"
   },
   {
    "duration": 23,
    "start_time": "2023-11-02T18:22:44.414Z"
   },
   {
    "duration": 12,
    "start_time": "2023-11-02T18:22:44.438Z"
   },
   {
    "duration": 31,
    "start_time": "2023-11-02T18:22:44.452Z"
   },
   {
    "duration": 993,
    "start_time": "2023-11-02T18:22:44.485Z"
   },
   {
    "duration": 5,
    "start_time": "2023-11-02T18:22:45.480Z"
   },
   {
    "duration": 23,
    "start_time": "2023-11-02T18:22:45.501Z"
   },
   {
    "duration": 348,
    "start_time": "2023-11-02T18:22:45.526Z"
   },
   {
    "duration": 35,
    "start_time": "2023-11-02T18:22:45.876Z"
   },
   {
    "duration": 34,
    "start_time": "2023-11-02T18:22:45.913Z"
   },
   {
    "duration": 7,
    "start_time": "2023-11-02T18:22:45.949Z"
   },
   {
    "duration": 510,
    "start_time": "2023-11-02T18:22:45.958Z"
   },
   {
    "duration": 6,
    "start_time": "2023-11-02T18:22:46.472Z"
   },
   {
    "duration": 63,
    "start_time": "2023-11-02T18:22:46.480Z"
   },
   {
    "duration": 328,
    "start_time": "2023-11-02T18:22:46.546Z"
   },
   {
    "duration": 348,
    "start_time": "2023-11-02T18:22:46.876Z"
   },
   {
    "duration": 6,
    "start_time": "2023-11-02T18:22:47.226Z"
   },
   {
    "duration": 34,
    "start_time": "2023-11-02T18:22:47.233Z"
   },
   {
    "duration": 633,
    "start_time": "2023-11-02T18:22:47.269Z"
   },
   {
    "duration": 318,
    "start_time": "2023-11-02T18:22:47.904Z"
   },
   {
    "duration": 20,
    "start_time": "2023-11-02T18:22:48.223Z"
   },
   {
    "duration": 314,
    "start_time": "2023-11-02T18:22:48.244Z"
   },
   {
    "duration": 6,
    "start_time": "2023-11-02T18:22:48.560Z"
   },
   {
    "duration": 112,
    "start_time": "2023-11-02T18:22:48.568Z"
   },
   {
    "duration": 120,
    "start_time": "2023-11-02T18:22:48.682Z"
   },
   {
    "duration": 100,
    "start_time": "2023-11-02T18:22:48.803Z"
   },
   {
    "duration": 102,
    "start_time": "2023-11-02T18:22:48.905Z"
   },
   {
    "duration": 195,
    "start_time": "2023-11-02T18:22:49.008Z"
   },
   {
    "duration": 102,
    "start_time": "2023-11-02T18:22:49.205Z"
   },
   {
    "duration": 111,
    "start_time": "2023-11-02T18:22:49.308Z"
   },
   {
    "duration": 105,
    "start_time": "2023-11-02T18:22:49.421Z"
   },
   {
    "duration": 3,
    "start_time": "2023-11-02T18:22:49.528Z"
   },
   {
    "duration": 19,
    "start_time": "2023-11-02T18:22:49.533Z"
   },
   {
    "duration": 18,
    "start_time": "2023-11-02T18:22:49.554Z"
   },
   {
    "duration": 38,
    "start_time": "2023-11-02T18:22:49.573Z"
   },
   {
    "duration": 13,
    "start_time": "2023-11-02T18:22:49.612Z"
   },
   {
    "duration": 13,
    "start_time": "2023-11-02T18:22:49.626Z"
   },
   {
    "duration": 11,
    "start_time": "2023-11-02T18:22:49.641Z"
   },
   {
    "duration": 73,
    "start_time": "2023-11-02T18:22:49.654Z"
   },
   {
    "duration": 334,
    "start_time": "2023-11-02T18:23:45.067Z"
   },
   {
    "duration": 103,
    "start_time": "2023-11-02T18:45:53.681Z"
   },
   {
    "duration": 12,
    "start_time": "2023-11-02T18:47:43.121Z"
   },
   {
    "duration": 78,
    "start_time": "2023-11-02T18:50:01.420Z"
   },
   {
    "duration": 328,
    "start_time": "2023-11-02T18:51:32.668Z"
   },
   {
    "duration": 1183,
    "start_time": "2023-11-02T19:23:42.384Z"
   },
   {
    "duration": 54,
    "start_time": "2023-11-02T19:23:43.570Z"
   },
   {
    "duration": 19,
    "start_time": "2023-11-02T19:23:43.629Z"
   },
   {
    "duration": 15,
    "start_time": "2023-11-02T19:23:43.650Z"
   },
   {
    "duration": 20,
    "start_time": "2023-11-02T19:23:43.666Z"
   },
   {
    "duration": 28,
    "start_time": "2023-11-02T19:23:43.702Z"
   },
   {
    "duration": 9,
    "start_time": "2023-11-02T19:23:43.732Z"
   },
   {
    "duration": 13,
    "start_time": "2023-11-02T19:23:43.742Z"
   },
   {
    "duration": 13,
    "start_time": "2023-11-02T19:23:43.758Z"
   },
   {
    "duration": 12,
    "start_time": "2023-11-02T19:23:43.773Z"
   },
   {
    "duration": 23,
    "start_time": "2023-11-02T19:23:43.787Z"
   },
   {
    "duration": 11,
    "start_time": "2023-11-02T19:23:43.812Z"
   },
   {
    "duration": 27,
    "start_time": "2023-11-02T19:23:43.825Z"
   },
   {
    "duration": 24,
    "start_time": "2023-11-02T19:23:43.854Z"
   },
   {
    "duration": 110,
    "start_time": "2023-11-02T19:23:43.880Z"
   },
   {
    "duration": 12,
    "start_time": "2023-11-02T19:23:43.992Z"
   },
   {
    "duration": 3,
    "start_time": "2023-11-02T19:23:44.006Z"
   },
   {
    "duration": 22,
    "start_time": "2023-11-02T19:23:44.010Z"
   },
   {
    "duration": 29,
    "start_time": "2023-11-02T19:23:44.034Z"
   },
   {
    "duration": 1044,
    "start_time": "2023-11-02T19:23:44.065Z"
   },
   {
    "duration": 5,
    "start_time": "2023-11-02T19:23:45.110Z"
   },
   {
    "duration": 24,
    "start_time": "2023-11-02T19:23:45.116Z"
   },
   {
    "duration": 387,
    "start_time": "2023-11-02T19:23:45.142Z"
   },
   {
    "duration": 18,
    "start_time": "2023-11-02T19:23:45.532Z"
   },
   {
    "duration": 25,
    "start_time": "2023-11-02T19:23:45.551Z"
   },
   {
    "duration": 38,
    "start_time": "2023-11-02T19:23:45.578Z"
   },
   {
    "duration": 536,
    "start_time": "2023-11-02T19:23:45.619Z"
   },
   {
    "duration": 8,
    "start_time": "2023-11-02T19:23:46.157Z"
   },
   {
    "duration": 41,
    "start_time": "2023-11-02T19:23:46.166Z"
   },
   {
    "duration": 397,
    "start_time": "2023-11-02T19:23:46.209Z"
   },
   {
    "duration": 380,
    "start_time": "2023-11-02T19:23:46.608Z"
   },
   {
    "duration": 13,
    "start_time": "2023-11-02T19:23:46.990Z"
   },
   {
    "duration": 18,
    "start_time": "2023-11-02T19:23:47.005Z"
   },
   {
    "duration": 693,
    "start_time": "2023-11-02T19:23:47.025Z"
   },
   {
    "duration": 317,
    "start_time": "2023-11-02T19:23:47.721Z"
   },
   {
    "duration": 23,
    "start_time": "2023-11-02T19:23:48.039Z"
   },
   {
    "duration": 319,
    "start_time": "2023-11-02T19:23:48.063Z"
   },
   {
    "duration": 6,
    "start_time": "2023-11-02T19:23:48.383Z"
   },
   {
    "duration": 146,
    "start_time": "2023-11-02T19:23:48.391Z"
   },
   {
    "duration": 113,
    "start_time": "2023-11-02T19:23:48.539Z"
   },
   {
    "duration": 119,
    "start_time": "2023-11-02T19:23:48.654Z"
   },
   {
    "duration": 107,
    "start_time": "2023-11-02T19:23:48.775Z"
   },
   {
    "duration": 206,
    "start_time": "2023-11-02T19:23:48.884Z"
   },
   {
    "duration": 138,
    "start_time": "2023-11-02T19:23:49.092Z"
   },
   {
    "duration": 119,
    "start_time": "2023-11-02T19:23:49.232Z"
   },
   {
    "duration": 122,
    "start_time": "2023-11-02T19:23:49.353Z"
   },
   {
    "duration": 3,
    "start_time": "2023-11-02T19:23:49.477Z"
   },
   {
    "duration": 16,
    "start_time": "2023-11-02T19:23:49.501Z"
   },
   {
    "duration": 15,
    "start_time": "2023-11-02T19:23:49.519Z"
   },
   {
    "duration": 13,
    "start_time": "2023-11-02T19:23:49.536Z"
   },
   {
    "duration": 14,
    "start_time": "2023-11-02T19:23:49.551Z"
   },
   {
    "duration": 42,
    "start_time": "2023-11-02T19:23:49.567Z"
   },
   {
    "duration": 13,
    "start_time": "2023-11-02T19:23:49.611Z"
   },
   {
    "duration": 1349,
    "start_time": "2023-11-02T22:22:03.197Z"
   },
   {
    "duration": 113,
    "start_time": "2023-11-02T22:22:04.548Z"
   },
   {
    "duration": 25,
    "start_time": "2023-11-02T22:22:04.663Z"
   },
   {
    "duration": 39,
    "start_time": "2023-11-02T22:22:04.691Z"
   },
   {
    "duration": 5,
    "start_time": "2023-11-02T22:22:04.732Z"
   },
   {
    "duration": 33,
    "start_time": "2023-11-02T22:22:04.739Z"
   },
   {
    "duration": 8,
    "start_time": "2023-11-02T22:22:04.773Z"
   },
   {
    "duration": 9,
    "start_time": "2023-11-02T22:22:04.782Z"
   },
   {
    "duration": 11,
    "start_time": "2023-11-02T22:22:04.793Z"
   },
   {
    "duration": 21,
    "start_time": "2023-11-02T22:22:04.806Z"
   },
   {
    "duration": 37,
    "start_time": "2023-11-02T22:22:04.828Z"
   },
   {
    "duration": 10,
    "start_time": "2023-11-02T22:22:04.866Z"
   },
   {
    "duration": 6,
    "start_time": "2023-11-02T22:22:04.878Z"
   },
   {
    "duration": 7,
    "start_time": "2023-11-02T22:22:04.885Z"
   },
   {
    "duration": 115,
    "start_time": "2023-11-02T22:22:04.894Z"
   },
   {
    "duration": 10,
    "start_time": "2023-11-02T22:22:05.011Z"
   },
   {
    "duration": 5,
    "start_time": "2023-11-02T22:22:05.023Z"
   },
   {
    "duration": 27,
    "start_time": "2023-11-02T22:22:05.030Z"
   },
   {
    "duration": 40,
    "start_time": "2023-11-02T22:22:05.059Z"
   },
   {
    "duration": 935,
    "start_time": "2023-11-02T22:22:05.101Z"
   },
   {
    "duration": 4,
    "start_time": "2023-11-02T22:22:06.038Z"
   },
   {
    "duration": 105,
    "start_time": "2023-11-02T22:22:06.044Z"
   },
   {
    "duration": 344,
    "start_time": "2023-11-02T22:22:06.151Z"
   },
   {
    "duration": 18,
    "start_time": "2023-11-02T22:22:06.496Z"
   },
   {
    "duration": 50,
    "start_time": "2023-11-02T22:22:06.516Z"
   },
   {
    "duration": 48,
    "start_time": "2023-11-02T22:22:06.568Z"
   },
   {
    "duration": 563,
    "start_time": "2023-11-02T22:22:06.618Z"
   },
   {
    "duration": 17,
    "start_time": "2023-11-02T22:22:07.185Z"
   },
   {
    "duration": 36,
    "start_time": "2023-11-02T22:22:07.203Z"
   },
   {
    "duration": 338,
    "start_time": "2023-11-02T22:22:07.241Z"
   },
   {
    "duration": 337,
    "start_time": "2023-11-02T22:22:07.581Z"
   },
   {
    "duration": 5,
    "start_time": "2023-11-02T22:22:07.920Z"
   },
   {
    "duration": 35,
    "start_time": "2023-11-02T22:22:07.927Z"
   },
   {
    "duration": 674,
    "start_time": "2023-11-02T22:22:07.964Z"
   },
   {
    "duration": 399,
    "start_time": "2023-11-02T22:22:08.640Z"
   },
   {
    "duration": 21,
    "start_time": "2023-11-02T22:22:09.041Z"
   },
   {
    "duration": 302,
    "start_time": "2023-11-02T22:22:09.063Z"
   },
   {
    "duration": 7,
    "start_time": "2023-11-02T22:22:09.367Z"
   },
   {
    "duration": 120,
    "start_time": "2023-11-02T22:22:09.376Z"
   },
   {
    "duration": 91,
    "start_time": "2023-11-02T22:22:09.498Z"
   },
   {
    "duration": 155,
    "start_time": "2023-11-02T22:22:09.606Z"
   },
   {
    "duration": 104,
    "start_time": "2023-11-02T22:22:09.763Z"
   },
   {
    "duration": 196,
    "start_time": "2023-11-02T22:22:09.868Z"
   },
   {
    "duration": 102,
    "start_time": "2023-11-02T22:22:10.065Z"
   },
   {
    "duration": 100,
    "start_time": "2023-11-02T22:22:10.169Z"
   },
   {
    "duration": 94,
    "start_time": "2023-11-02T22:22:10.271Z"
   },
   {
    "duration": 3,
    "start_time": "2023-11-02T22:22:10.367Z"
   },
   {
    "duration": 30,
    "start_time": "2023-11-02T22:22:10.372Z"
   },
   {
    "duration": 13,
    "start_time": "2023-11-02T22:22:10.404Z"
   },
   {
    "duration": 12,
    "start_time": "2023-11-02T22:22:10.418Z"
   },
   {
    "duration": 12,
    "start_time": "2023-11-02T22:22:10.432Z"
   },
   {
    "duration": 17,
    "start_time": "2023-11-02T22:22:10.445Z"
   },
   {
    "duration": 40,
    "start_time": "2023-11-02T22:22:10.463Z"
   },
   {
    "duration": 8,
    "start_time": "2023-11-03T09:55:16.356Z"
   },
   {
    "duration": 11,
    "start_time": "2023-11-03T09:56:01.848Z"
   },
   {
    "duration": 9,
    "start_time": "2023-11-03T09:56:16.421Z"
   },
   {
    "duration": 411,
    "start_time": "2023-11-03T09:58:44.574Z"
   },
   {
    "duration": 337,
    "start_time": "2023-11-03T09:59:18.270Z"
   },
   {
    "duration": 343,
    "start_time": "2023-11-03T10:00:00.119Z"
   },
   {
    "duration": 440,
    "start_time": "2023-11-03T10:00:56.366Z"
   },
   {
    "duration": 343,
    "start_time": "2023-11-03T11:05:57.192Z"
   },
   {
    "duration": 364,
    "start_time": "2023-11-03T11:06:10.039Z"
   },
   {
    "duration": 330,
    "start_time": "2023-11-03T11:06:19.151Z"
   },
   {
    "duration": 337,
    "start_time": "2023-11-03T11:06:27.526Z"
   },
   {
    "duration": 17,
    "start_time": "2023-11-03T11:07:58.302Z"
   },
   {
    "duration": 605,
    "start_time": "2023-11-03T11:09:51.455Z"
   },
   {
    "duration": 353,
    "start_time": "2023-11-03T11:11:15.350Z"
   },
   {
    "duration": 386,
    "start_time": "2023-11-03T11:12:04.096Z"
   },
   {
    "duration": 360,
    "start_time": "2023-11-03T11:12:11.647Z"
   },
   {
    "duration": 646,
    "start_time": "2023-11-03T11:12:24.559Z"
   },
   {
    "duration": 273,
    "start_time": "2023-11-03T11:13:18.519Z"
   },
   {
    "duration": 405,
    "start_time": "2023-11-03T12:01:55.451Z"
   },
   {
    "duration": 12,
    "start_time": "2023-11-03T12:09:41.924Z"
   },
   {
    "duration": 15,
    "start_time": "2023-11-03T12:36:07.127Z"
   },
   {
    "duration": 12,
    "start_time": "2023-11-03T12:36:13.855Z"
   },
   {
    "duration": 273,
    "start_time": "2023-11-03T12:36:26.150Z"
   },
   {
    "duration": 120,
    "start_time": "2023-11-03T12:59:35.413Z"
   },
   {
    "duration": 207,
    "start_time": "2023-11-03T12:59:46.301Z"
   },
   {
    "duration": 227,
    "start_time": "2023-11-03T12:59:54.836Z"
   },
   {
    "duration": 310,
    "start_time": "2023-11-03T13:00:00.893Z"
   },
   {
    "duration": 223,
    "start_time": "2023-11-03T13:00:08.740Z"
   },
   {
    "duration": 139,
    "start_time": "2023-11-03T13:07:26.246Z"
   },
   {
    "duration": 231,
    "start_time": "2023-11-03T13:07:37.923Z"
   },
   {
    "duration": 16,
    "start_time": "2023-11-03T13:11:09.595Z"
   },
   {
    "duration": 307,
    "start_time": "2023-11-03T13:11:30.211Z"
   },
   {
    "duration": 266,
    "start_time": "2023-11-03T13:11:56.436Z"
   },
   {
    "duration": 394,
    "start_time": "2023-11-03T13:12:00.897Z"
   },
   {
    "duration": 335,
    "start_time": "2023-11-03T13:14:53.833Z"
   },
   {
    "duration": 286,
    "start_time": "2023-11-03T13:15:15.705Z"
   },
   {
    "duration": 283,
    "start_time": "2023-11-03T13:15:35.178Z"
   },
   {
    "duration": 284,
    "start_time": "2023-11-03T13:15:40.081Z"
   },
   {
    "duration": 271,
    "start_time": "2023-11-03T13:17:01.205Z"
   },
   {
    "duration": 391,
    "start_time": "2023-11-03T13:18:00.121Z"
   },
   {
    "duration": 10,
    "start_time": "2023-11-03T13:29:18.248Z"
   },
   {
    "duration": 1251,
    "start_time": "2023-11-03T13:30:24.588Z"
   },
   {
    "duration": 58,
    "start_time": "2023-11-03T13:30:25.841Z"
   },
   {
    "duration": 22,
    "start_time": "2023-11-03T13:30:25.901Z"
   },
   {
    "duration": 40,
    "start_time": "2023-11-03T13:30:25.925Z"
   },
   {
    "duration": 10,
    "start_time": "2023-11-03T13:30:25.967Z"
   },
   {
    "duration": 48,
    "start_time": "2023-11-03T13:30:25.979Z"
   },
   {
    "duration": 14,
    "start_time": "2023-11-03T13:30:26.028Z"
   },
   {
    "duration": 26,
    "start_time": "2023-11-03T13:30:26.044Z"
   },
   {
    "duration": 28,
    "start_time": "2023-11-03T13:30:26.072Z"
   },
   {
    "duration": 17,
    "start_time": "2023-11-03T13:30:26.102Z"
   },
   {
    "duration": 60,
    "start_time": "2023-11-03T13:30:26.121Z"
   },
   {
    "duration": 52,
    "start_time": "2023-11-03T13:30:26.183Z"
   },
   {
    "duration": 14,
    "start_time": "2023-11-03T13:30:26.238Z"
   },
   {
    "duration": 16,
    "start_time": "2023-11-03T13:30:26.256Z"
   },
   {
    "duration": 145,
    "start_time": "2023-11-03T13:30:26.274Z"
   },
   {
    "duration": 12,
    "start_time": "2023-11-03T13:30:26.421Z"
   },
   {
    "duration": 86,
    "start_time": "2023-11-03T13:30:26.435Z"
   },
   {
    "duration": 25,
    "start_time": "2023-11-03T13:30:26.522Z"
   },
   {
    "duration": 36,
    "start_time": "2023-11-03T13:30:26.548Z"
   },
   {
    "duration": 999,
    "start_time": "2023-11-03T13:30:26.586Z"
   },
   {
    "duration": 5,
    "start_time": "2023-11-03T13:30:27.587Z"
   },
   {
    "duration": 47,
    "start_time": "2023-11-03T13:30:27.602Z"
   },
   {
    "duration": 390,
    "start_time": "2023-11-03T13:30:27.651Z"
   },
   {
    "duration": 18,
    "start_time": "2023-11-03T13:30:28.042Z"
   },
   {
    "duration": 41,
    "start_time": "2023-11-03T13:30:28.062Z"
   },
   {
    "duration": 9,
    "start_time": "2023-11-03T13:30:28.105Z"
   },
   {
    "duration": 617,
    "start_time": "2023-11-03T13:30:28.115Z"
   },
   {
    "duration": 9,
    "start_time": "2023-11-03T13:30:28.734Z"
   },
   {
    "duration": 48,
    "start_time": "2023-11-03T13:30:28.744Z"
   },
   {
    "duration": 419,
    "start_time": "2023-11-03T13:30:28.794Z"
   },
   {
    "duration": 525,
    "start_time": "2023-11-03T13:30:29.215Z"
   },
   {
    "duration": 0,
    "start_time": "2023-11-03T13:30:29.743Z"
   },
   {
    "duration": 0,
    "start_time": "2023-11-03T13:30:29.745Z"
   },
   {
    "duration": 0,
    "start_time": "2023-11-03T13:30:29.747Z"
   },
   {
    "duration": 0,
    "start_time": "2023-11-03T13:30:29.749Z"
   },
   {
    "duration": 0,
    "start_time": "2023-11-03T13:30:29.751Z"
   },
   {
    "duration": 0,
    "start_time": "2023-11-03T13:30:29.752Z"
   },
   {
    "duration": 0,
    "start_time": "2023-11-03T13:30:29.754Z"
   },
   {
    "duration": 0,
    "start_time": "2023-11-03T13:30:29.755Z"
   },
   {
    "duration": 0,
    "start_time": "2023-11-03T13:30:29.757Z"
   },
   {
    "duration": 0,
    "start_time": "2023-11-03T13:30:29.758Z"
   },
   {
    "duration": 0,
    "start_time": "2023-11-03T13:30:29.759Z"
   },
   {
    "duration": 0,
    "start_time": "2023-11-03T13:30:29.760Z"
   },
   {
    "duration": 0,
    "start_time": "2023-11-03T13:30:29.761Z"
   },
   {
    "duration": 0,
    "start_time": "2023-11-03T13:30:29.763Z"
   },
   {
    "duration": 0,
    "start_time": "2023-11-03T13:30:29.764Z"
   },
   {
    "duration": 0,
    "start_time": "2023-11-03T13:30:29.801Z"
   },
   {
    "duration": 0,
    "start_time": "2023-11-03T13:30:29.803Z"
   },
   {
    "duration": 0,
    "start_time": "2023-11-03T13:30:29.804Z"
   },
   {
    "duration": 0,
    "start_time": "2023-11-03T13:30:29.806Z"
   },
   {
    "duration": 0,
    "start_time": "2023-11-03T13:30:29.808Z"
   },
   {
    "duration": 0,
    "start_time": "2023-11-03T13:30:29.810Z"
   },
   {
    "duration": 0,
    "start_time": "2023-11-03T13:30:29.812Z"
   },
   {
    "duration": 283,
    "start_time": "2023-11-03T13:30:57.768Z"
   },
   {
    "duration": 332,
    "start_time": "2023-11-03T13:31:04.179Z"
   },
   {
    "duration": 8,
    "start_time": "2023-11-03T13:31:04.513Z"
   },
   {
    "duration": 24,
    "start_time": "2023-11-03T13:31:04.523Z"
   },
   {
    "duration": 872,
    "start_time": "2023-11-03T13:31:04.550Z"
   },
   {
    "duration": 375,
    "start_time": "2023-11-03T13:31:05.424Z"
   },
   {
    "duration": 28,
    "start_time": "2023-11-03T13:31:05.802Z"
   },
   {
    "duration": 305,
    "start_time": "2023-11-03T13:31:05.832Z"
   },
   {
    "duration": 112,
    "start_time": "2023-11-03T13:31:06.139Z"
   },
   {
    "duration": 141,
    "start_time": "2023-11-03T13:31:06.254Z"
   },
   {
    "duration": 112,
    "start_time": "2023-11-03T13:31:06.400Z"
   },
   {
    "duration": 118,
    "start_time": "2023-11-03T13:31:06.514Z"
   },
   {
    "duration": 117,
    "start_time": "2023-11-03T13:31:06.633Z"
   },
   {
    "duration": 114,
    "start_time": "2023-11-03T13:31:06.752Z"
   },
   {
    "duration": 114,
    "start_time": "2023-11-03T13:31:06.868Z"
   },
   {
    "duration": 126,
    "start_time": "2023-11-03T13:31:06.984Z"
   },
   {
    "duration": 115,
    "start_time": "2023-11-03T13:31:07.113Z"
   },
   {
    "duration": 3,
    "start_time": "2023-11-03T13:31:07.230Z"
   },
   {
    "duration": 64,
    "start_time": "2023-11-03T13:31:07.235Z"
   },
   {
    "duration": 23,
    "start_time": "2023-11-03T13:31:07.302Z"
   },
   {
    "duration": 41,
    "start_time": "2023-11-03T13:31:07.328Z"
   },
   {
    "duration": 26,
    "start_time": "2023-11-03T13:31:07.372Z"
   },
   {
    "duration": 36,
    "start_time": "2023-11-03T13:31:07.400Z"
   },
   {
    "duration": 70,
    "start_time": "2023-11-03T13:31:07.437Z"
   },
   {
    "duration": 283,
    "start_time": "2023-11-03T13:35:46.159Z"
   },
   {
    "duration": 386,
    "start_time": "2023-11-03T13:35:52.152Z"
   },
   {
    "duration": 10,
    "start_time": "2023-11-03T13:37:12.015Z"
   },
   {
    "duration": 10,
    "start_time": "2023-11-03T13:37:34.959Z"
   },
   {
    "duration": 5,
    "start_time": "2023-11-03T13:37:36.086Z"
   },
   {
    "duration": 703,
    "start_time": "2023-11-03T13:37:58.447Z"
   },
   {
    "duration": 819,
    "start_time": "2023-11-03T13:39:44.018Z"
   },
   {
    "duration": 867,
    "start_time": "2023-11-03T13:40:00.170Z"
   },
   {
    "duration": 401,
    "start_time": "2023-11-03T13:40:39.863Z"
   },
   {
    "duration": 369,
    "start_time": "2023-11-03T13:40:50.791Z"
   },
   {
    "duration": 375,
    "start_time": "2023-11-03T13:41:25.263Z"
   },
   {
    "duration": 1341,
    "start_time": "2023-11-03T13:42:00.821Z"
   },
   {
    "duration": 64,
    "start_time": "2023-11-03T13:42:02.165Z"
   },
   {
    "duration": 24,
    "start_time": "2023-11-03T13:42:02.233Z"
   },
   {
    "duration": 37,
    "start_time": "2023-11-03T13:42:02.260Z"
   },
   {
    "duration": 92,
    "start_time": "2023-11-03T13:42:02.299Z"
   },
   {
    "duration": 72,
    "start_time": "2023-11-03T13:42:02.393Z"
   },
   {
    "duration": 64,
    "start_time": "2023-11-03T13:42:02.467Z"
   },
   {
    "duration": 99,
    "start_time": "2023-11-03T13:42:02.534Z"
   },
   {
    "duration": 63,
    "start_time": "2023-11-03T13:42:02.635Z"
   },
   {
    "duration": 71,
    "start_time": "2023-11-03T13:42:02.700Z"
   },
   {
    "duration": 49,
    "start_time": "2023-11-03T13:42:02.773Z"
   },
   {
    "duration": 48,
    "start_time": "2023-11-03T13:42:02.825Z"
   },
   {
    "duration": 59,
    "start_time": "2023-11-03T13:42:02.878Z"
   },
   {
    "duration": 55,
    "start_time": "2023-11-03T13:42:02.939Z"
   },
   {
    "duration": 153,
    "start_time": "2023-11-03T13:42:02.996Z"
   },
   {
    "duration": 10,
    "start_time": "2023-11-03T13:42:03.150Z"
   },
   {
    "duration": 23,
    "start_time": "2023-11-03T13:42:03.162Z"
   },
   {
    "duration": 16,
    "start_time": "2023-11-03T13:42:03.187Z"
   },
   {
    "duration": 25,
    "start_time": "2023-11-03T13:42:03.205Z"
   },
   {
    "duration": 1046,
    "start_time": "2023-11-03T13:42:03.232Z"
   },
   {
    "duration": 6,
    "start_time": "2023-11-03T13:42:04.280Z"
   },
   {
    "duration": 78,
    "start_time": "2023-11-03T13:42:04.288Z"
   },
   {
    "duration": 477,
    "start_time": "2023-11-03T13:42:04.368Z"
   },
   {
    "duration": 28,
    "start_time": "2023-11-03T13:42:04.847Z"
   },
   {
    "duration": 249,
    "start_time": "2023-11-03T13:42:04.878Z"
   },
   {
    "duration": 41,
    "start_time": "2023-11-03T13:42:05.129Z"
   },
   {
    "duration": 663,
    "start_time": "2023-11-03T13:42:05.172Z"
   },
   {
    "duration": 9,
    "start_time": "2023-11-03T13:42:05.837Z"
   },
   {
    "duration": 116,
    "start_time": "2023-11-03T13:42:05.848Z"
   },
   {
    "duration": 435,
    "start_time": "2023-11-03T13:42:05.966Z"
   },
   {
    "duration": 396,
    "start_time": "2023-11-03T13:42:06.403Z"
   },
   {
    "duration": 13,
    "start_time": "2023-11-03T13:42:06.802Z"
   },
   {
    "duration": 126,
    "start_time": "2023-11-03T13:42:06.824Z"
   },
   {
    "duration": 0,
    "start_time": "2023-11-03T13:42:06.952Z"
   },
   {
    "duration": 0,
    "start_time": "2023-11-03T13:42:06.953Z"
   },
   {
    "duration": 0,
    "start_time": "2023-11-03T13:42:06.955Z"
   },
   {
    "duration": 0,
    "start_time": "2023-11-03T13:42:06.956Z"
   },
   {
    "duration": 0,
    "start_time": "2023-11-03T13:42:06.958Z"
   },
   {
    "duration": 0,
    "start_time": "2023-11-03T13:42:06.959Z"
   },
   {
    "duration": 0,
    "start_time": "2023-11-03T13:42:06.961Z"
   },
   {
    "duration": 0,
    "start_time": "2023-11-03T13:42:06.962Z"
   },
   {
    "duration": 0,
    "start_time": "2023-11-03T13:42:06.964Z"
   },
   {
    "duration": 0,
    "start_time": "2023-11-03T13:42:06.966Z"
   },
   {
    "duration": 0,
    "start_time": "2023-11-03T13:42:06.967Z"
   },
   {
    "duration": 0,
    "start_time": "2023-11-03T13:42:06.969Z"
   },
   {
    "duration": 2,
    "start_time": "2023-11-03T13:42:07.002Z"
   },
   {
    "duration": 0,
    "start_time": "2023-11-03T13:42:07.005Z"
   },
   {
    "duration": 0,
    "start_time": "2023-11-03T13:42:07.006Z"
   },
   {
    "duration": 0,
    "start_time": "2023-11-03T13:42:07.007Z"
   },
   {
    "duration": 0,
    "start_time": "2023-11-03T13:42:07.007Z"
   },
   {
    "duration": 0,
    "start_time": "2023-11-03T13:42:07.008Z"
   },
   {
    "duration": 0,
    "start_time": "2023-11-03T13:42:07.010Z"
   },
   {
    "duration": 0,
    "start_time": "2023-11-03T13:42:07.011Z"
   },
   {
    "duration": 0,
    "start_time": "2023-11-03T13:42:07.012Z"
   },
   {
    "duration": 0,
    "start_time": "2023-11-03T13:42:07.013Z"
   },
   {
    "duration": 0,
    "start_time": "2023-11-03T13:42:07.014Z"
   },
   {
    "duration": 0,
    "start_time": "2023-11-03T13:42:07.015Z"
   },
   {
    "duration": 13,
    "start_time": "2023-11-03T13:42:50.557Z"
   },
   {
    "duration": 5,
    "start_time": "2023-11-03T13:42:51.063Z"
   },
   {
    "duration": 796,
    "start_time": "2023-11-03T13:42:55.906Z"
   },
   {
    "duration": 356,
    "start_time": "2023-11-03T13:42:56.705Z"
   },
   {
    "duration": 799,
    "start_time": "2023-11-03T13:42:57.063Z"
   },
   {
    "duration": 373,
    "start_time": "2023-11-03T13:42:57.865Z"
   },
   {
    "duration": 884,
    "start_time": "2023-11-03T13:42:58.240Z"
   },
   {
    "duration": 328,
    "start_time": "2023-11-03T13:42:59.126Z"
   },
   {
    "duration": 21,
    "start_time": "2023-11-03T13:42:59.456Z"
   },
   {
    "duration": 313,
    "start_time": "2023-11-03T13:42:59.480Z"
   },
   {
    "duration": 17,
    "start_time": "2023-11-03T13:42:59.795Z"
   },
   {
    "duration": 204,
    "start_time": "2023-11-03T13:42:59.819Z"
   },
   {
    "duration": 132,
    "start_time": "2023-11-03T13:43:00.026Z"
   },
   {
    "duration": 121,
    "start_time": "2023-11-03T13:43:00.160Z"
   },
   {
    "duration": 132,
    "start_time": "2023-11-03T13:43:00.284Z"
   },
   {
    "duration": 112,
    "start_time": "2023-11-03T13:43:00.420Z"
   },
   {
    "duration": 407,
    "start_time": "2023-11-03T13:43:00.535Z"
   },
   {
    "duration": 127,
    "start_time": "2023-11-03T13:43:00.944Z"
   },
   {
    "duration": 125,
    "start_time": "2023-11-03T13:43:01.073Z"
   },
   {
    "duration": 115,
    "start_time": "2023-11-03T13:43:01.200Z"
   },
   {
    "duration": 157,
    "start_time": "2023-11-03T13:43:01.317Z"
   },
   {
    "duration": 263,
    "start_time": "2023-11-03T13:43:01.476Z"
   },
   {
    "duration": 348,
    "start_time": "2023-11-03T13:43:01.741Z"
   },
   {
    "duration": 336,
    "start_time": "2023-11-03T13:43:02.091Z"
   },
   {
    "duration": 177,
    "start_time": "2023-11-03T13:43:02.429Z"
   },
   {
    "duration": 51,
    "start_time": "2023-11-03T13:43:02.611Z"
   },
   {
    "duration": 1143,
    "start_time": "2023-11-03T13:43:31.677Z"
   },
   {
    "duration": 1255,
    "start_time": "2023-11-03T13:43:46.086Z"
   },
   {
    "duration": 1085,
    "start_time": "2023-11-03T13:45:14.606Z"
   },
   {
    "duration": 1162,
    "start_time": "2023-11-03T13:47:08.070Z"
   },
   {
    "duration": 11,
    "start_time": "2023-11-03T13:47:29.294Z"
   },
   {
    "duration": 14,
    "start_time": "2023-11-03T13:48:04.566Z"
   },
   {
    "duration": 9,
    "start_time": "2023-11-03T13:50:25.589Z"
   },
   {
    "duration": 1378,
    "start_time": "2023-11-03T13:50:49.782Z"
   },
   {
    "duration": 64,
    "start_time": "2023-11-03T13:50:51.162Z"
   },
   {
    "duration": 22,
    "start_time": "2023-11-03T13:50:51.228Z"
   },
   {
    "duration": 16,
    "start_time": "2023-11-03T13:50:51.252Z"
   },
   {
    "duration": 38,
    "start_time": "2023-11-03T13:50:51.270Z"
   },
   {
    "duration": 20,
    "start_time": "2023-11-03T13:50:51.318Z"
   },
   {
    "duration": 9,
    "start_time": "2023-11-03T13:50:51.340Z"
   },
   {
    "duration": 22,
    "start_time": "2023-11-03T13:50:51.351Z"
   },
   {
    "duration": 38,
    "start_time": "2023-11-03T13:50:55.991Z"
   },
   {
    "duration": 12,
    "start_time": "2023-11-03T13:51:10.469Z"
   },
   {
    "duration": 14,
    "start_time": "2023-11-03T13:51:19.893Z"
   },
   {
    "duration": 1344,
    "start_time": "2023-11-03T13:51:31.942Z"
   },
   {
    "duration": 67,
    "start_time": "2023-11-03T13:51:33.288Z"
   },
   {
    "duration": 29,
    "start_time": "2023-11-03T13:51:33.357Z"
   },
   {
    "duration": 25,
    "start_time": "2023-11-03T13:51:33.388Z"
   },
   {
    "duration": 8,
    "start_time": "2023-11-03T13:51:33.416Z"
   },
   {
    "duration": 33,
    "start_time": "2023-11-03T13:51:33.427Z"
   },
   {
    "duration": 5,
    "start_time": "2023-11-03T13:51:33.463Z"
   },
   {
    "duration": 36,
    "start_time": "2023-11-03T13:51:33.470Z"
   },
   {
    "duration": 38,
    "start_time": "2023-11-03T13:51:33.508Z"
   },
   {
    "duration": 21,
    "start_time": "2023-11-03T13:51:33.548Z"
   },
   {
    "duration": 22,
    "start_time": "2023-11-03T13:51:33.571Z"
   },
   {
    "duration": 50,
    "start_time": "2023-11-03T13:51:33.595Z"
   },
   {
    "duration": 30,
    "start_time": "2023-11-03T13:51:33.648Z"
   },
   {
    "duration": 44,
    "start_time": "2023-11-03T13:51:33.682Z"
   },
   {
    "duration": 226,
    "start_time": "2023-11-03T13:51:33.728Z"
   },
   {
    "duration": 11,
    "start_time": "2023-11-03T13:51:33.956Z"
   },
   {
    "duration": 19,
    "start_time": "2023-11-03T13:51:33.970Z"
   },
   {
    "duration": 37,
    "start_time": "2023-11-03T13:51:33.991Z"
   },
   {
    "duration": 30,
    "start_time": "2023-11-03T13:51:34.030Z"
   },
   {
    "duration": 1533,
    "start_time": "2023-11-03T13:51:34.063Z"
   },
   {
    "duration": 0,
    "start_time": "2023-11-03T13:51:35.605Z"
   },
   {
    "duration": 0,
    "start_time": "2023-11-03T13:51:35.606Z"
   },
   {
    "duration": 0,
    "start_time": "2023-11-03T13:51:35.611Z"
   },
   {
    "duration": 0,
    "start_time": "2023-11-03T13:51:35.612Z"
   },
   {
    "duration": 0,
    "start_time": "2023-11-03T13:51:35.613Z"
   },
   {
    "duration": 0,
    "start_time": "2023-11-03T13:51:35.614Z"
   },
   {
    "duration": 0,
    "start_time": "2023-11-03T13:51:35.615Z"
   },
   {
    "duration": 0,
    "start_time": "2023-11-03T13:51:35.616Z"
   },
   {
    "duration": 0,
    "start_time": "2023-11-03T13:51:35.617Z"
   },
   {
    "duration": 0,
    "start_time": "2023-11-03T13:51:35.618Z"
   },
   {
    "duration": 0,
    "start_time": "2023-11-03T13:51:35.620Z"
   },
   {
    "duration": 0,
    "start_time": "2023-11-03T13:51:35.621Z"
   },
   {
    "duration": 0,
    "start_time": "2023-11-03T13:51:35.622Z"
   },
   {
    "duration": 0,
    "start_time": "2023-11-03T13:51:35.623Z"
   },
   {
    "duration": 0,
    "start_time": "2023-11-03T13:51:35.624Z"
   },
   {
    "duration": 0,
    "start_time": "2023-11-03T13:51:35.625Z"
   },
   {
    "duration": 0,
    "start_time": "2023-11-03T13:51:35.626Z"
   },
   {
    "duration": 0,
    "start_time": "2023-11-03T13:51:35.627Z"
   },
   {
    "duration": 0,
    "start_time": "2023-11-03T13:51:35.628Z"
   },
   {
    "duration": 1,
    "start_time": "2023-11-03T13:51:35.629Z"
   },
   {
    "duration": 0,
    "start_time": "2023-11-03T13:51:35.631Z"
   },
   {
    "duration": 0,
    "start_time": "2023-11-03T13:51:35.632Z"
   },
   {
    "duration": 0,
    "start_time": "2023-11-03T13:51:35.633Z"
   },
   {
    "duration": 0,
    "start_time": "2023-11-03T13:51:35.634Z"
   },
   {
    "duration": 0,
    "start_time": "2023-11-03T13:51:35.635Z"
   },
   {
    "duration": 0,
    "start_time": "2023-11-03T13:51:35.636Z"
   },
   {
    "duration": 0,
    "start_time": "2023-11-03T13:51:35.638Z"
   },
   {
    "duration": 0,
    "start_time": "2023-11-03T13:51:35.639Z"
   },
   {
    "duration": 0,
    "start_time": "2023-11-03T13:51:35.640Z"
   },
   {
    "duration": 0,
    "start_time": "2023-11-03T13:51:35.642Z"
   },
   {
    "duration": 0,
    "start_time": "2023-11-03T13:51:35.643Z"
   },
   {
    "duration": 0,
    "start_time": "2023-11-03T13:51:35.646Z"
   },
   {
    "duration": 0,
    "start_time": "2023-11-03T13:51:35.647Z"
   },
   {
    "duration": 0,
    "start_time": "2023-11-03T13:51:35.648Z"
   },
   {
    "duration": 0,
    "start_time": "2023-11-03T13:51:35.650Z"
   },
   {
    "duration": 1,
    "start_time": "2023-11-03T13:51:35.703Z"
   },
   {
    "duration": 0,
    "start_time": "2023-11-03T13:51:35.705Z"
   },
   {
    "duration": 15,
    "start_time": "2023-11-03T13:52:35.389Z"
   },
   {
    "duration": 1067,
    "start_time": "2023-11-03T13:52:42.190Z"
   },
   {
    "duration": 170,
    "start_time": "2023-11-03T13:52:46.909Z"
   },
   {
    "duration": 30,
    "start_time": "2023-11-03T13:52:47.082Z"
   },
   {
    "duration": 19,
    "start_time": "2023-11-03T13:52:47.114Z"
   },
   {
    "duration": 410,
    "start_time": "2023-11-03T13:52:47.135Z"
   },
   {
    "duration": 24,
    "start_time": "2023-11-03T13:52:47.548Z"
   },
   {
    "duration": 48,
    "start_time": "2023-11-03T13:52:47.574Z"
   },
   {
    "duration": 12,
    "start_time": "2023-11-03T13:52:47.624Z"
   },
   {
    "duration": 669,
    "start_time": "2023-11-03T13:52:47.638Z"
   },
   {
    "duration": 11,
    "start_time": "2023-11-03T13:52:48.308Z"
   },
   {
    "duration": 20,
    "start_time": "2023-11-03T13:52:48.321Z"
   },
   {
    "duration": 497,
    "start_time": "2023-11-03T13:52:48.343Z"
   },
   {
    "duration": 436,
    "start_time": "2023-11-03T13:52:48.842Z"
   },
   {
    "duration": 28,
    "start_time": "2023-11-03T13:52:49.280Z"
   },
   {
    "duration": 101,
    "start_time": "2023-11-03T13:52:49.312Z"
   },
   {
    "duration": 782,
    "start_time": "2023-11-03T13:52:49.414Z"
   },
   {
    "duration": 350,
    "start_time": "2023-11-03T13:52:50.204Z"
   },
   {
    "duration": 805,
    "start_time": "2023-11-03T13:52:50.556Z"
   },
   {
    "duration": 374,
    "start_time": "2023-11-03T13:52:51.363Z"
   },
   {
    "duration": 914,
    "start_time": "2023-11-03T13:52:51.738Z"
   },
   {
    "duration": 396,
    "start_time": "2023-11-03T13:52:52.653Z"
   },
   {
    "duration": 25,
    "start_time": "2023-11-03T13:52:53.052Z"
   },
   {
    "duration": 323,
    "start_time": "2023-11-03T13:52:53.079Z"
   },
   {
    "duration": 8,
    "start_time": "2023-11-03T13:52:53.408Z"
   },
   {
    "duration": 181,
    "start_time": "2023-11-03T13:52:53.418Z"
   },
   {
    "duration": 134,
    "start_time": "2023-11-03T13:52:53.601Z"
   },
   {
    "duration": 117,
    "start_time": "2023-11-03T13:52:53.737Z"
   },
   {
    "duration": 124,
    "start_time": "2023-11-03T13:52:53.855Z"
   },
   {
    "duration": 150,
    "start_time": "2023-11-03T13:52:53.982Z"
   },
   {
    "duration": 246,
    "start_time": "2023-11-03T13:52:54.135Z"
   },
   {
    "duration": 132,
    "start_time": "2023-11-03T13:52:54.383Z"
   },
   {
    "duration": 134,
    "start_time": "2023-11-03T13:52:54.519Z"
   },
   {
    "duration": 14,
    "start_time": "2023-11-03T13:52:54.655Z"
   },
   {
    "duration": 111,
    "start_time": "2023-11-03T13:52:54.672Z"
   },
   {
    "duration": 33,
    "start_time": "2023-11-03T13:52:54.786Z"
   },
   {
    "duration": 16,
    "start_time": "2023-11-03T13:52:54.824Z"
   },
   {
    "duration": 61,
    "start_time": "2023-11-03T13:52:54.843Z"
   },
   {
    "duration": 27,
    "start_time": "2023-11-03T13:52:54.906Z"
   },
   {
    "duration": 15,
    "start_time": "2023-11-03T13:52:54.935Z"
   },
   {
    "duration": 175,
    "start_time": "2023-11-03T13:59:10.077Z"
   },
   {
    "duration": 363,
    "start_time": "2023-11-03T13:59:40.948Z"
   },
   {
    "duration": 384,
    "start_time": "2023-11-03T14:01:08.667Z"
   },
   {
    "duration": 344,
    "start_time": "2023-11-03T14:01:41.442Z"
   },
   {
    "duration": 370,
    "start_time": "2023-11-03T14:01:55.364Z"
   },
   {
    "duration": 327,
    "start_time": "2023-11-03T14:02:12.035Z"
   },
   {
    "duration": 387,
    "start_time": "2023-11-03T14:02:27.405Z"
   },
   {
    "duration": 827,
    "start_time": "2023-11-03T14:03:32.739Z"
   },
   {
    "duration": 739,
    "start_time": "2023-11-03T14:03:52.186Z"
   },
   {
    "duration": 26,
    "start_time": "2023-11-03T14:09:06.635Z"
   },
   {
    "duration": 317,
    "start_time": "2023-11-03T14:09:11.764Z"
   },
   {
    "duration": 12,
    "start_time": "2023-11-03T14:16:59.596Z"
   },
   {
    "duration": 16,
    "start_time": "2023-11-03T14:17:08.996Z"
   },
   {
    "duration": 298,
    "start_time": "2023-11-03T14:23:41.951Z"
   },
   {
    "duration": 300,
    "start_time": "2023-11-03T14:28:40.350Z"
   },
   {
    "duration": 291,
    "start_time": "2023-11-03T14:28:49.190Z"
   },
   {
    "duration": 103,
    "start_time": "2023-11-03T14:28:52.885Z"
   },
   {
    "duration": 392,
    "start_time": "2023-11-03T14:28:55.686Z"
   },
   {
    "duration": 296,
    "start_time": "2023-11-03T14:29:01.181Z"
   },
   {
    "duration": 108,
    "start_time": "2023-11-03T14:32:34.054Z"
   },
   {
    "duration": 6,
    "start_time": "2023-11-03T14:32:39.654Z"
   },
   {
    "duration": 107,
    "start_time": "2023-11-03T14:32:42.240Z"
   },
   {
    "duration": 109,
    "start_time": "2023-11-03T14:32:46.109Z"
   },
   {
    "duration": 109,
    "start_time": "2023-11-03T14:32:48.774Z"
   },
   {
    "duration": 105,
    "start_time": "2023-11-03T14:32:50.878Z"
   },
   {
    "duration": 116,
    "start_time": "2023-11-03T14:32:54.232Z"
   },
   {
    "duration": 107,
    "start_time": "2023-11-03T14:32:56.021Z"
   },
   {
    "duration": 129,
    "start_time": "2023-11-03T14:32:56.623Z"
   },
   {
    "duration": 115,
    "start_time": "2023-11-03T14:32:58.574Z"
   },
   {
    "duration": 124,
    "start_time": "2023-11-03T15:24:41.430Z"
   },
   {
    "duration": 23,
    "start_time": "2023-11-03T15:28:53.405Z"
   },
   {
    "duration": 30,
    "start_time": "2023-11-03T15:32:01.716Z"
   },
   {
    "duration": 22,
    "start_time": "2023-11-03T16:24:58.323Z"
   },
   {
    "duration": 28,
    "start_time": "2023-11-03T16:25:10.150Z"
   },
   {
    "duration": 190,
    "start_time": "2023-11-03T16:26:34.824Z"
   },
   {
    "duration": 220,
    "start_time": "2023-11-03T16:26:50.383Z"
   },
   {
    "duration": 259,
    "start_time": "2023-11-03T16:27:42.919Z"
   },
   {
    "duration": 153,
    "start_time": "2023-11-03T16:28:01.928Z"
   },
   {
    "duration": 219,
    "start_time": "2023-11-03T16:29:30.065Z"
   },
   {
    "duration": 219,
    "start_time": "2023-11-03T16:29:37.688Z"
   },
   {
    "duration": 204,
    "start_time": "2023-11-03T16:29:46.289Z"
   },
   {
    "duration": 1212,
    "start_time": "2023-11-03T16:37:55.129Z"
   },
   {
    "duration": 58,
    "start_time": "2023-11-03T16:37:56.344Z"
   },
   {
    "duration": 23,
    "start_time": "2023-11-03T16:37:56.404Z"
   },
   {
    "duration": 23,
    "start_time": "2023-11-03T16:37:56.430Z"
   },
   {
    "duration": 37,
    "start_time": "2023-11-03T16:37:56.455Z"
   },
   {
    "duration": 55,
    "start_time": "2023-11-03T16:37:56.494Z"
   },
   {
    "duration": 86,
    "start_time": "2023-11-03T16:37:56.550Z"
   },
   {
    "duration": 71,
    "start_time": "2023-11-03T16:37:56.638Z"
   },
   {
    "duration": 24,
    "start_time": "2023-11-03T16:37:56.711Z"
   },
   {
    "duration": 9,
    "start_time": "2023-11-03T16:37:56.738Z"
   },
   {
    "duration": 30,
    "start_time": "2023-11-03T16:37:56.749Z"
   },
   {
    "duration": 28,
    "start_time": "2023-11-03T16:37:56.781Z"
   },
   {
    "duration": 30,
    "start_time": "2023-11-03T16:37:56.810Z"
   },
   {
    "duration": 61,
    "start_time": "2023-11-03T16:37:56.842Z"
   },
   {
    "duration": 124,
    "start_time": "2023-11-03T16:37:56.905Z"
   },
   {
    "duration": 12,
    "start_time": "2023-11-03T16:37:57.031Z"
   },
   {
    "duration": 27,
    "start_time": "2023-11-03T16:37:57.045Z"
   },
   {
    "duration": 17,
    "start_time": "2023-11-03T16:37:57.074Z"
   },
   {
    "duration": 18,
    "start_time": "2023-11-03T16:37:57.093Z"
   },
   {
    "duration": 975,
    "start_time": "2023-11-03T16:37:57.113Z"
   },
   {
    "duration": 5,
    "start_time": "2023-11-03T16:37:58.090Z"
   },
   {
    "duration": 38,
    "start_time": "2023-11-03T16:37:58.100Z"
   },
   {
    "duration": 388,
    "start_time": "2023-11-03T16:37:58.139Z"
   },
   {
    "duration": 19,
    "start_time": "2023-11-03T16:37:58.529Z"
   },
   {
    "duration": 53,
    "start_time": "2023-11-03T16:37:58.550Z"
   },
   {
    "duration": 10,
    "start_time": "2023-11-03T16:37:58.605Z"
   },
   {
    "duration": 586,
    "start_time": "2023-11-03T16:37:58.618Z"
   },
   {
    "duration": 8,
    "start_time": "2023-11-03T16:37:59.207Z"
   },
   {
    "duration": 44,
    "start_time": "2023-11-03T16:37:59.217Z"
   },
   {
    "duration": 379,
    "start_time": "2023-11-03T16:37:59.263Z"
   },
   {
    "duration": 390,
    "start_time": "2023-11-03T16:37:59.643Z"
   },
   {
    "duration": 10,
    "start_time": "2023-11-03T16:38:00.035Z"
   },
   {
    "duration": 82,
    "start_time": "2023-11-03T16:38:00.047Z"
   },
   {
    "duration": 715,
    "start_time": "2023-11-03T16:38:00.131Z"
   },
   {
    "duration": 390,
    "start_time": "2023-11-03T16:38:00.847Z"
   },
   {
    "duration": 729,
    "start_time": "2023-11-03T16:38:01.239Z"
   },
   {
    "duration": 359,
    "start_time": "2023-11-03T16:38:01.970Z"
   },
   {
    "duration": 807,
    "start_time": "2023-11-03T16:38:02.331Z"
   },
   {
    "duration": 317,
    "start_time": "2023-11-03T16:38:03.140Z"
   },
   {
    "duration": 100,
    "start_time": "2023-11-03T16:38:03.459Z"
   },
   {
    "duration": 0,
    "start_time": "2023-11-03T16:38:03.561Z"
   },
   {
    "duration": 0,
    "start_time": "2023-11-03T16:38:03.562Z"
   },
   {
    "duration": 0,
    "start_time": "2023-11-03T16:38:03.563Z"
   },
   {
    "duration": 0,
    "start_time": "2023-11-03T16:38:03.565Z"
   },
   {
    "duration": 0,
    "start_time": "2023-11-03T16:38:03.566Z"
   },
   {
    "duration": 0,
    "start_time": "2023-11-03T16:38:03.567Z"
   },
   {
    "duration": 0,
    "start_time": "2023-11-03T16:38:03.568Z"
   },
   {
    "duration": 0,
    "start_time": "2023-11-03T16:38:03.569Z"
   },
   {
    "duration": 0,
    "start_time": "2023-11-03T16:38:03.571Z"
   },
   {
    "duration": 0,
    "start_time": "2023-11-03T16:38:03.572Z"
   },
   {
    "duration": 0,
    "start_time": "2023-11-03T16:38:03.573Z"
   },
   {
    "duration": 0,
    "start_time": "2023-11-03T16:38:03.574Z"
   },
   {
    "duration": 0,
    "start_time": "2023-11-03T16:38:03.576Z"
   },
   {
    "duration": 0,
    "start_time": "2023-11-03T16:38:03.577Z"
   },
   {
    "duration": 0,
    "start_time": "2023-11-03T16:38:03.578Z"
   },
   {
    "duration": 0,
    "start_time": "2023-11-03T16:38:03.580Z"
   },
   {
    "duration": 0,
    "start_time": "2023-11-03T16:38:03.581Z"
   },
   {
    "duration": 0,
    "start_time": "2023-11-03T16:38:03.582Z"
   },
   {
    "duration": 34,
    "start_time": "2023-11-03T16:38:28.667Z"
   },
   {
    "duration": 186,
    "start_time": "2023-11-03T16:38:30.010Z"
   },
   {
    "duration": 189,
    "start_time": "2023-11-03T16:39:18.883Z"
   },
   {
    "duration": 1250,
    "start_time": "2023-11-03T16:39:26.397Z"
   },
   {
    "duration": 58,
    "start_time": "2023-11-03T16:39:27.650Z"
   },
   {
    "duration": 25,
    "start_time": "2023-11-03T16:39:27.713Z"
   },
   {
    "duration": 30,
    "start_time": "2023-11-03T16:39:27.740Z"
   },
   {
    "duration": 23,
    "start_time": "2023-11-03T16:39:27.772Z"
   },
   {
    "duration": 53,
    "start_time": "2023-11-03T16:39:27.797Z"
   },
   {
    "duration": 20,
    "start_time": "2023-11-03T16:39:27.852Z"
   },
   {
    "duration": 50,
    "start_time": "2023-11-03T16:39:27.874Z"
   },
   {
    "duration": 26,
    "start_time": "2023-11-03T16:39:27.926Z"
   },
   {
    "duration": 23,
    "start_time": "2023-11-03T16:39:27.955Z"
   },
   {
    "duration": 19,
    "start_time": "2023-11-03T16:39:27.980Z"
   },
   {
    "duration": 24,
    "start_time": "2023-11-03T16:39:28.001Z"
   },
   {
    "duration": 57,
    "start_time": "2023-11-03T16:39:28.027Z"
   },
   {
    "duration": 21,
    "start_time": "2023-11-03T16:39:28.086Z"
   },
   {
    "duration": 140,
    "start_time": "2023-11-03T16:39:28.109Z"
   },
   {
    "duration": 12,
    "start_time": "2023-11-03T16:39:28.251Z"
   },
   {
    "duration": 10,
    "start_time": "2023-11-03T16:39:28.265Z"
   },
   {
    "duration": 19,
    "start_time": "2023-11-03T16:39:28.276Z"
   },
   {
    "duration": 25,
    "start_time": "2023-11-03T16:39:28.300Z"
   },
   {
    "duration": 1025,
    "start_time": "2023-11-03T16:39:28.327Z"
   },
   {
    "duration": 6,
    "start_time": "2023-11-03T16:39:29.353Z"
   },
   {
    "duration": 25,
    "start_time": "2023-11-03T16:39:29.360Z"
   },
   {
    "duration": 392,
    "start_time": "2023-11-03T16:39:29.387Z"
   },
   {
    "duration": 32,
    "start_time": "2023-11-03T16:39:29.781Z"
   },
   {
    "duration": 19,
    "start_time": "2023-11-03T16:39:29.815Z"
   },
   {
    "duration": 9,
    "start_time": "2023-11-03T16:39:29.836Z"
   },
   {
    "duration": 585,
    "start_time": "2023-11-03T16:39:29.847Z"
   },
   {
    "duration": 7,
    "start_time": "2023-11-03T16:39:30.438Z"
   },
   {
    "duration": 132,
    "start_time": "2023-11-03T16:39:30.447Z"
   },
   {
    "duration": 659,
    "start_time": "2023-11-03T16:39:30.581Z"
   },
   {
    "duration": 391,
    "start_time": "2023-11-03T16:39:31.243Z"
   },
   {
    "duration": 12,
    "start_time": "2023-11-03T16:39:31.637Z"
   },
   {
    "duration": 90,
    "start_time": "2023-11-03T16:39:31.650Z"
   },
   {
    "duration": 931,
    "start_time": "2023-11-03T16:39:31.742Z"
   },
   {
    "duration": 356,
    "start_time": "2023-11-03T16:39:32.675Z"
   },
   {
    "duration": 711,
    "start_time": "2023-11-03T16:39:33.033Z"
   },
   {
    "duration": 382,
    "start_time": "2023-11-03T16:39:33.746Z"
   },
   {
    "duration": 892,
    "start_time": "2023-11-03T16:39:34.130Z"
   },
   {
    "duration": 341,
    "start_time": "2023-11-03T16:39:35.025Z"
   },
   {
    "duration": 39,
    "start_time": "2023-11-03T16:39:35.368Z"
   },
   {
    "duration": 212,
    "start_time": "2023-11-03T16:39:35.409Z"
   },
   {
    "duration": 6,
    "start_time": "2023-11-03T16:39:35.623Z"
   },
   {
    "duration": 188,
    "start_time": "2023-11-03T16:39:35.631Z"
   },
   {
    "duration": 120,
    "start_time": "2023-11-03T16:39:35.821Z"
   },
   {
    "duration": 114,
    "start_time": "2023-11-03T16:39:35.943Z"
   },
   {
    "duration": 129,
    "start_time": "2023-11-03T16:39:36.059Z"
   },
   {
    "duration": 400,
    "start_time": "2023-11-03T16:39:36.200Z"
   },
   {
    "duration": 224,
    "start_time": "2023-11-03T16:39:36.602Z"
   },
   {
    "duration": 136,
    "start_time": "2023-11-03T16:39:36.827Z"
   },
   {
    "duration": 149,
    "start_time": "2023-11-03T16:39:36.965Z"
   },
   {
    "duration": 3,
    "start_time": "2023-11-03T16:39:37.116Z"
   },
   {
    "duration": 66,
    "start_time": "2023-11-03T16:39:37.121Z"
   },
   {
    "duration": 120,
    "start_time": "2023-11-03T16:39:37.189Z"
   },
   {
    "duration": 253,
    "start_time": "2023-11-03T16:39:37.310Z"
   },
   {
    "duration": 554,
    "start_time": "2023-11-03T16:39:37.565Z"
   },
   {
    "duration": 68,
    "start_time": "2023-11-03T16:39:38.121Z"
   },
   {
    "duration": 70,
    "start_time": "2023-11-03T16:39:38.191Z"
   },
   {
    "duration": 1427,
    "start_time": "2023-11-03T16:54:34.919Z"
   },
   {
    "duration": 114,
    "start_time": "2023-11-03T16:54:36.348Z"
   },
   {
    "duration": 22,
    "start_time": "2023-11-03T16:54:36.464Z"
   },
   {
    "duration": 34,
    "start_time": "2023-11-03T16:54:36.489Z"
   },
   {
    "duration": 45,
    "start_time": "2023-11-03T16:54:36.525Z"
   },
   {
    "duration": 63,
    "start_time": "2023-11-03T16:54:36.572Z"
   },
   {
    "duration": 26,
    "start_time": "2023-11-03T16:54:36.637Z"
   },
   {
    "duration": 54,
    "start_time": "2023-11-03T16:54:36.664Z"
   },
   {
    "duration": 50,
    "start_time": "2023-11-03T16:54:36.720Z"
   },
   {
    "duration": 50,
    "start_time": "2023-11-03T16:54:36.772Z"
   },
   {
    "duration": 31,
    "start_time": "2023-11-03T16:54:36.824Z"
   },
   {
    "duration": 32,
    "start_time": "2023-11-03T16:54:36.856Z"
   },
   {
    "duration": 36,
    "start_time": "2023-11-03T16:54:36.889Z"
   },
   {
    "duration": 18,
    "start_time": "2023-11-03T16:54:36.928Z"
   },
   {
    "duration": 145,
    "start_time": "2023-11-03T16:54:36.948Z"
   },
   {
    "duration": 16,
    "start_time": "2023-11-03T16:54:37.095Z"
   },
   {
    "duration": 26,
    "start_time": "2023-11-03T16:54:37.113Z"
   },
   {
    "duration": 28,
    "start_time": "2023-11-03T16:54:37.141Z"
   },
   {
    "duration": 39,
    "start_time": "2023-11-03T16:54:37.171Z"
   },
   {
    "duration": 966,
    "start_time": "2023-11-03T16:54:37.213Z"
   },
   {
    "duration": 5,
    "start_time": "2023-11-03T16:54:38.181Z"
   },
   {
    "duration": 36,
    "start_time": "2023-11-03T16:54:38.187Z"
   },
   {
    "duration": 372,
    "start_time": "2023-11-03T16:54:38.225Z"
   },
   {
    "duration": 18,
    "start_time": "2023-11-03T16:54:38.602Z"
   },
   {
    "duration": 44,
    "start_time": "2023-11-03T16:54:38.621Z"
   },
   {
    "duration": 55,
    "start_time": "2023-11-03T16:54:38.666Z"
   },
   {
    "duration": 537,
    "start_time": "2023-11-03T16:54:38.723Z"
   },
   {
    "duration": 7,
    "start_time": "2023-11-03T16:54:39.265Z"
   },
   {
    "duration": 150,
    "start_time": "2023-11-03T16:54:39.274Z"
   },
   {
    "duration": 376,
    "start_time": "2023-11-03T16:54:39.426Z"
   },
   {
    "duration": 368,
    "start_time": "2023-11-03T16:54:39.804Z"
   },
   {
    "duration": 10,
    "start_time": "2023-11-03T16:54:40.175Z"
   },
   {
    "duration": 32,
    "start_time": "2023-11-03T16:54:40.188Z"
   },
   {
    "duration": 772,
    "start_time": "2023-11-03T16:54:40.222Z"
   },
   {
    "duration": 407,
    "start_time": "2023-11-03T16:54:40.997Z"
   },
   {
    "duration": 721,
    "start_time": "2023-11-03T16:54:41.405Z"
   },
   {
    "duration": 330,
    "start_time": "2023-11-03T16:54:42.128Z"
   },
   {
    "duration": 808,
    "start_time": "2023-11-03T16:54:42.460Z"
   },
   {
    "duration": 363,
    "start_time": "2023-11-03T16:54:43.269Z"
   },
   {
    "duration": 28,
    "start_time": "2023-11-03T16:54:43.635Z"
   },
   {
    "duration": 205,
    "start_time": "2023-11-03T16:54:43.665Z"
   },
   {
    "duration": 6,
    "start_time": "2023-11-03T16:54:43.872Z"
   },
   {
    "duration": 156,
    "start_time": "2023-11-03T16:54:43.880Z"
   },
   {
    "duration": 129,
    "start_time": "2023-11-03T16:54:44.038Z"
   },
   {
    "duration": 135,
    "start_time": "2023-11-03T16:54:44.169Z"
   },
   {
    "duration": 126,
    "start_time": "2023-11-03T16:54:44.306Z"
   },
   {
    "duration": 129,
    "start_time": "2023-11-03T16:54:44.434Z"
   },
   {
    "duration": 243,
    "start_time": "2023-11-03T16:54:44.564Z"
   },
   {
    "duration": 149,
    "start_time": "2023-11-03T16:54:44.810Z"
   },
   {
    "duration": 122,
    "start_time": "2023-11-03T16:54:44.960Z"
   },
   {
    "duration": 4,
    "start_time": "2023-11-03T16:54:45.084Z"
   },
   {
    "duration": 94,
    "start_time": "2023-11-03T16:54:45.100Z"
   },
   {
    "duration": 35,
    "start_time": "2023-11-03T16:54:45.196Z"
   },
   {
    "duration": 38,
    "start_time": "2023-11-03T16:54:45.233Z"
   },
   {
    "duration": 37,
    "start_time": "2023-11-03T16:54:45.273Z"
   },
   {
    "duration": 9,
    "start_time": "2023-11-03T16:54:45.312Z"
   },
   {
    "duration": 35,
    "start_time": "2023-11-03T16:54:45.323Z"
   },
   {
    "duration": 320,
    "start_time": "2023-11-03T18:26:15.296Z"
   },
   {
    "duration": 308,
    "start_time": "2023-11-03T18:26:46.000Z"
   },
   {
    "duration": 11,
    "start_time": "2023-11-03T18:29:07.048Z"
   },
   {
    "duration": 27,
    "start_time": "2023-11-03T18:29:17.794Z"
   },
   {
    "duration": 11,
    "start_time": "2023-11-03T18:30:50.611Z"
   },
   {
    "duration": 8,
    "start_time": "2023-11-03T18:34:14.718Z"
   },
   {
    "duration": 1287,
    "start_time": "2023-11-03T18:38:34.906Z"
   },
   {
    "duration": 55,
    "start_time": "2023-11-03T18:38:36.194Z"
   },
   {
    "duration": 90,
    "start_time": "2023-11-03T18:38:36.250Z"
   },
   {
    "duration": 32,
    "start_time": "2023-11-03T18:38:36.342Z"
   },
   {
    "duration": 7,
    "start_time": "2023-11-03T18:38:36.376Z"
   },
   {
    "duration": 22,
    "start_time": "2023-11-03T18:38:36.385Z"
   },
   {
    "duration": 3,
    "start_time": "2023-11-03T18:38:36.409Z"
   },
   {
    "duration": 20,
    "start_time": "2023-11-03T18:38:36.414Z"
   },
   {
    "duration": 15,
    "start_time": "2023-11-03T18:38:36.436Z"
   },
   {
    "duration": 9,
    "start_time": "2023-11-03T18:38:36.455Z"
   },
   {
    "duration": 41,
    "start_time": "2023-11-03T18:38:36.467Z"
   },
   {
    "duration": 11,
    "start_time": "2023-11-03T18:38:36.510Z"
   },
   {
    "duration": 7,
    "start_time": "2023-11-03T18:38:36.522Z"
   },
   {
    "duration": 14,
    "start_time": "2023-11-03T18:38:36.531Z"
   },
   {
    "duration": 154,
    "start_time": "2023-11-03T18:38:36.547Z"
   },
   {
    "duration": 11,
    "start_time": "2023-11-03T18:38:36.703Z"
   },
   {
    "duration": 11,
    "start_time": "2023-11-03T18:38:36.716Z"
   },
   {
    "duration": 10,
    "start_time": "2023-11-03T18:38:36.729Z"
   },
   {
    "duration": 29,
    "start_time": "2023-11-03T18:38:36.740Z"
   },
   {
    "duration": 947,
    "start_time": "2023-11-03T18:38:36.771Z"
   },
   {
    "duration": 4,
    "start_time": "2023-11-03T18:38:37.721Z"
   },
   {
    "duration": 18,
    "start_time": "2023-11-03T18:38:37.726Z"
   },
   {
    "duration": 380,
    "start_time": "2023-11-03T18:38:37.745Z"
   },
   {
    "duration": 18,
    "start_time": "2023-11-03T18:38:38.127Z"
   },
   {
    "duration": 24,
    "start_time": "2023-11-03T18:38:38.147Z"
   },
   {
    "duration": 36,
    "start_time": "2023-11-03T18:38:38.172Z"
   },
   {
    "duration": 590,
    "start_time": "2023-11-03T18:38:38.210Z"
   },
   {
    "duration": 10,
    "start_time": "2023-11-03T18:38:38.806Z"
   },
   {
    "duration": 25,
    "start_time": "2023-11-03T18:38:38.818Z"
   },
   {
    "duration": 378,
    "start_time": "2023-11-03T18:38:38.845Z"
   },
   {
    "duration": 376,
    "start_time": "2023-11-03T18:38:39.225Z"
   },
   {
    "duration": 10,
    "start_time": "2023-11-03T18:38:39.603Z"
   },
   {
    "duration": 24,
    "start_time": "2023-11-03T18:38:39.615Z"
   },
   {
    "duration": 701,
    "start_time": "2023-11-03T18:38:39.641Z"
   },
   {
    "duration": 402,
    "start_time": "2023-11-03T18:38:40.343Z"
   },
   {
    "duration": 686,
    "start_time": "2023-11-03T18:38:40.747Z"
   },
   {
    "duration": 320,
    "start_time": "2023-11-03T18:38:41.436Z"
   },
   {
    "duration": 777,
    "start_time": "2023-11-03T18:38:41.758Z"
   },
   {
    "duration": 418,
    "start_time": "2023-11-03T18:38:42.537Z"
   },
   {
    "duration": 45,
    "start_time": "2023-11-03T18:38:42.957Z"
   },
   {
    "duration": 208,
    "start_time": "2023-11-03T18:38:43.004Z"
   },
   {
    "duration": 6,
    "start_time": "2023-11-03T18:38:43.213Z"
   },
   {
    "duration": 131,
    "start_time": "2023-11-03T18:38:43.221Z"
   },
   {
    "duration": 117,
    "start_time": "2023-11-03T18:38:43.355Z"
   },
   {
    "duration": 139,
    "start_time": "2023-11-03T18:38:43.474Z"
   },
   {
    "duration": 121,
    "start_time": "2023-11-03T18:38:43.615Z"
   },
   {
    "duration": 114,
    "start_time": "2023-11-03T18:38:43.738Z"
   },
   {
    "duration": 225,
    "start_time": "2023-11-03T18:38:43.854Z"
   },
   {
    "duration": 126,
    "start_time": "2023-11-03T18:38:44.081Z"
   },
   {
    "duration": 132,
    "start_time": "2023-11-03T18:38:44.209Z"
   },
   {
    "duration": 3,
    "start_time": "2023-11-03T18:38:44.342Z"
   },
   {
    "duration": 68,
    "start_time": "2023-11-03T18:38:44.347Z"
   },
   {
    "duration": 18,
    "start_time": "2023-11-03T18:38:44.417Z"
   },
   {
    "duration": 15,
    "start_time": "2023-11-03T18:38:44.437Z"
   },
   {
    "duration": 20,
    "start_time": "2023-11-03T18:38:44.453Z"
   },
   {
    "duration": 31,
    "start_time": "2023-11-03T18:38:44.475Z"
   },
   {
    "duration": 9,
    "start_time": "2023-11-03T18:38:44.508Z"
   },
   {
    "duration": 1389,
    "start_time": "2023-11-03T18:54:18.287Z"
   },
   {
    "duration": 106,
    "start_time": "2023-11-03T18:54:19.679Z"
   },
   {
    "duration": 31,
    "start_time": "2023-11-03T18:54:19.787Z"
   },
   {
    "duration": 15,
    "start_time": "2023-11-03T18:54:19.820Z"
   },
   {
    "duration": 6,
    "start_time": "2023-11-03T18:54:19.837Z"
   },
   {
    "duration": 27,
    "start_time": "2023-11-03T18:54:19.845Z"
   },
   {
    "duration": 4,
    "start_time": "2023-11-03T18:54:19.874Z"
   },
   {
    "duration": 11,
    "start_time": "2023-11-03T18:54:19.906Z"
   },
   {
    "duration": 17,
    "start_time": "2023-11-03T18:54:19.918Z"
   },
   {
    "duration": 11,
    "start_time": "2023-11-03T18:54:19.938Z"
   },
   {
    "duration": 22,
    "start_time": "2023-11-03T18:54:19.950Z"
   },
   {
    "duration": 42,
    "start_time": "2023-11-03T18:54:19.974Z"
   },
   {
    "duration": 38,
    "start_time": "2023-11-03T18:54:20.018Z"
   },
   {
    "duration": 20,
    "start_time": "2023-11-03T18:54:20.057Z"
   },
   {
    "duration": 118,
    "start_time": "2023-11-03T18:54:20.078Z"
   },
   {
    "duration": 12,
    "start_time": "2023-11-03T18:54:20.198Z"
   },
   {
    "duration": 3,
    "start_time": "2023-11-03T18:54:20.212Z"
   },
   {
    "duration": 7,
    "start_time": "2023-11-03T18:54:20.216Z"
   },
   {
    "duration": 5,
    "start_time": "2023-11-03T18:54:20.224Z"
   },
   {
    "duration": 909,
    "start_time": "2023-11-03T18:54:20.230Z"
   },
   {
    "duration": 5,
    "start_time": "2023-11-03T18:54:21.140Z"
   },
   {
    "duration": 22,
    "start_time": "2023-11-03T18:54:21.146Z"
   },
   {
    "duration": 367,
    "start_time": "2023-11-03T18:54:21.169Z"
   },
   {
    "duration": 16,
    "start_time": "2023-11-03T18:54:21.537Z"
   },
   {
    "duration": 16,
    "start_time": "2023-11-03T18:54:21.554Z"
   },
   {
    "duration": 7,
    "start_time": "2023-11-03T18:54:21.572Z"
   },
   {
    "duration": 514,
    "start_time": "2023-11-03T18:54:21.606Z"
   },
   {
    "duration": 7,
    "start_time": "2023-11-03T18:54:22.123Z"
   },
   {
    "duration": 13,
    "start_time": "2023-11-03T18:54:22.131Z"
   },
   {
    "duration": 395,
    "start_time": "2023-11-03T18:54:22.146Z"
   },
   {
    "duration": 351,
    "start_time": "2023-11-03T18:54:22.543Z"
   },
   {
    "duration": 15,
    "start_time": "2023-11-03T18:54:22.895Z"
   },
   {
    "duration": 6,
    "start_time": "2023-11-03T18:54:22.912Z"
   },
   {
    "duration": 675,
    "start_time": "2023-11-03T18:54:22.920Z"
   },
   {
    "duration": 360,
    "start_time": "2023-11-03T18:54:23.597Z"
   },
   {
    "duration": 665,
    "start_time": "2023-11-03T18:54:23.959Z"
   },
   {
    "duration": 306,
    "start_time": "2023-11-03T18:54:24.626Z"
   },
   {
    "duration": 759,
    "start_time": "2023-11-03T18:54:24.934Z"
   },
   {
    "duration": 383,
    "start_time": "2023-11-03T18:54:25.694Z"
   },
   {
    "duration": 43,
    "start_time": "2023-11-03T18:54:26.079Z"
   },
   {
    "duration": 182,
    "start_time": "2023-11-03T18:54:26.125Z"
   },
   {
    "duration": 6,
    "start_time": "2023-11-03T18:54:26.308Z"
   },
   {
    "duration": 126,
    "start_time": "2023-11-03T18:54:26.315Z"
   },
   {
    "duration": 114,
    "start_time": "2023-11-03T18:54:26.443Z"
   },
   {
    "duration": 112,
    "start_time": "2023-11-03T18:54:26.559Z"
   },
   {
    "duration": 101,
    "start_time": "2023-11-03T18:54:26.673Z"
   },
   {
    "duration": 114,
    "start_time": "2023-11-03T18:54:26.775Z"
   },
   {
    "duration": 206,
    "start_time": "2023-11-03T18:54:26.890Z"
   },
   {
    "duration": 112,
    "start_time": "2023-11-03T18:54:27.097Z"
   },
   {
    "duration": 124,
    "start_time": "2023-11-03T18:54:27.211Z"
   },
   {
    "duration": 2,
    "start_time": "2023-11-03T18:54:27.337Z"
   },
   {
    "duration": 26,
    "start_time": "2023-11-03T18:54:27.341Z"
   },
   {
    "duration": 12,
    "start_time": "2023-11-03T18:54:27.368Z"
   },
   {
    "duration": 27,
    "start_time": "2023-11-03T18:54:27.381Z"
   },
   {
    "duration": 23,
    "start_time": "2023-11-03T18:54:27.410Z"
   },
   {
    "duration": 25,
    "start_time": "2023-11-03T18:54:27.435Z"
   },
   {
    "duration": 17,
    "start_time": "2023-11-03T18:54:27.462Z"
   },
   {
    "duration": 117,
    "start_time": "2023-11-04T11:28:51.729Z"
   },
   {
    "duration": 26,
    "start_time": "2023-11-04T11:29:03.723Z"
   },
   {
    "duration": 1236,
    "start_time": "2023-11-04T11:29:38.918Z"
   },
   {
    "duration": 60,
    "start_time": "2023-11-04T11:29:40.156Z"
   },
   {
    "duration": 21,
    "start_time": "2023-11-04T11:29:40.218Z"
   },
   {
    "duration": 18,
    "start_time": "2023-11-04T11:29:40.242Z"
   },
   {
    "duration": 5,
    "start_time": "2023-11-04T11:29:40.262Z"
   },
   {
    "duration": 50,
    "start_time": "2023-11-04T11:29:40.269Z"
   },
   {
    "duration": 4,
    "start_time": "2023-11-04T11:29:40.322Z"
   },
   {
    "duration": 13,
    "start_time": "2023-11-04T11:29:40.328Z"
   },
   {
    "duration": 16,
    "start_time": "2023-11-04T11:29:40.343Z"
   },
   {
    "duration": 13,
    "start_time": "2023-11-04T11:29:45.691Z"
   },
   {
    "duration": 11,
    "start_time": "2023-11-04T11:30:23.716Z"
   },
   {
    "duration": 118,
    "start_time": "2023-11-04T11:33:36.856Z"
   },
   {
    "duration": 10,
    "start_time": "2023-11-04T11:33:42.525Z"
   },
   {
    "duration": 6,
    "start_time": "2023-11-04T11:33:57.912Z"
   },
   {
    "duration": 5,
    "start_time": "2023-11-04T11:34:36.893Z"
   },
   {
    "duration": 17,
    "start_time": "2023-11-04T11:35:53.855Z"
   },
   {
    "duration": 14,
    "start_time": "2023-11-04T16:26:33.586Z"
   },
   {
    "duration": 3,
    "start_time": "2023-11-04T16:26:43.052Z"
   },
   {
    "duration": 60,
    "start_time": "2023-11-04T16:26:43.058Z"
   },
   {
    "duration": 19,
    "start_time": "2023-11-04T16:26:43.120Z"
   },
   {
    "duration": 23,
    "start_time": "2023-11-04T16:26:43.141Z"
   },
   {
    "duration": 37,
    "start_time": "2023-11-04T16:26:43.167Z"
   },
   {
    "duration": 23,
    "start_time": "2023-11-04T16:26:43.205Z"
   },
   {
    "duration": 4,
    "start_time": "2023-11-04T16:26:43.233Z"
   },
   {
    "duration": 14,
    "start_time": "2023-11-04T16:26:43.239Z"
   },
   {
    "duration": 55,
    "start_time": "2023-11-04T16:26:43.255Z"
   },
   {
    "duration": 9,
    "start_time": "2023-11-04T16:26:43.312Z"
   },
   {
    "duration": 19,
    "start_time": "2023-11-04T16:26:43.324Z"
   },
   {
    "duration": 11,
    "start_time": "2023-11-04T16:26:43.345Z"
   },
   {
    "duration": 21,
    "start_time": "2023-11-04T16:26:43.358Z"
   },
   {
    "duration": 27,
    "start_time": "2023-11-04T16:26:43.381Z"
   },
   {
    "duration": 123,
    "start_time": "2023-11-04T16:26:43.410Z"
   },
   {
    "duration": 10,
    "start_time": "2023-11-04T16:26:43.535Z"
   },
   {
    "duration": 4,
    "start_time": "2023-11-04T16:26:43.546Z"
   },
   {
    "duration": 23,
    "start_time": "2023-11-04T16:26:43.552Z"
   },
   {
    "duration": 26,
    "start_time": "2023-11-04T16:26:43.577Z"
   },
   {
    "duration": 961,
    "start_time": "2023-11-04T16:26:43.604Z"
   },
   {
    "duration": 6,
    "start_time": "2023-11-04T16:26:44.567Z"
   },
   {
    "duration": 56,
    "start_time": "2023-11-04T16:26:44.575Z"
   },
   {
    "duration": 432,
    "start_time": "2023-11-04T16:26:44.633Z"
   },
   {
    "duration": 17,
    "start_time": "2023-11-04T16:26:45.067Z"
   },
   {
    "duration": 58,
    "start_time": "2023-11-04T16:26:45.086Z"
   },
   {
    "duration": 36,
    "start_time": "2023-11-04T16:26:45.146Z"
   },
   {
    "duration": 587,
    "start_time": "2023-11-04T16:26:45.184Z"
   },
   {
    "duration": 9,
    "start_time": "2023-11-04T16:26:45.774Z"
   },
   {
    "duration": 21,
    "start_time": "2023-11-04T16:26:45.802Z"
   },
   {
    "duration": 371,
    "start_time": "2023-11-04T16:26:45.825Z"
   },
   {
    "duration": 372,
    "start_time": "2023-11-04T16:26:48.911Z"
   },
   {
    "duration": 349,
    "start_time": "2023-11-04T16:28:40.389Z"
   },
   {
    "duration": 565,
    "start_time": "2023-11-04T16:28:49.509Z"
   },
   {
    "duration": 1262,
    "start_time": "2023-11-10T08:00:29.967Z"
   },
   {
    "duration": 57,
    "start_time": "2023-11-10T08:00:31.234Z"
   }
  ],
  "kernelspec": {
   "display_name": "Python 3 (ipykernel)",
   "language": "python",
   "name": "python3"
  },
  "language_info": {
   "codemirror_mode": {
    "name": "ipython",
    "version": 3
   },
   "file_extension": ".py",
   "mimetype": "text/x-python",
   "name": "python",
   "nbconvert_exporter": "python",
   "pygments_lexer": "ipython3",
   "version": "3.11.5"
  },
  "toc": {
   "base_numbering": 1,
   "nav_menu": {},
   "number_sections": true,
   "sideBar": true,
   "skip_h1_title": true,
   "title_cell": "Table of Contents",
   "title_sidebar": "Contents",
   "toc_cell": false,
   "toc_position": {
    "height": "calc(100% - 180px)",
    "left": "10px",
    "top": "150px",
    "width": "332.4px"
   },
   "toc_section_display": true,
   "toc_window_display": true
  }
 },
 "nbformat": 4,
 "nbformat_minor": 4
}
