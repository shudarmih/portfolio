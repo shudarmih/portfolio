{
 "cells": [
  {
   "cell_type": "markdown",
   "metadata": {},
   "source": [
    "# Определение стоимости автомобилей"
   ]
  },
  {
   "cell_type": "markdown",
   "metadata": {},
   "source": [
    "Заказчик: сервис по продаже автомобилей с пробегом.\n",
    "Необходимо разработать модель для прогнозирования цены автомобиля. Модель будет использоваться в приложении, где потенциальныме клиенты смогут быстро узнать стоимость своего автомобиля.\n",
    "\n",
    "Заказчику важны:\n",
    "- качество предсказания;\n",
    "- скорость предсказания;\n",
    "- время обучения.\n",
    "\n",
    "Одно из требований заказчика: метрика RMSE < 2500"
   ]
  },
  {
   "cell_type": "markdown",
   "metadata": {},
   "source": [
    "**Данные**\n",
    "Файл autos.csv\n",
    "\n",
    "Признаки:\n",
    "\n",
    "    DateCrawled — дата скачивания анкеты из базы\n",
    "    VehicleType — тип автомобильного кузова\n",
    "    RegistrationYear — год регистрации автомобиля\n",
    "    Gearbox — тип коробки передач\n",
    "    Power — мощность (л. с.)\n",
    "    Model — модель автомобиля\n",
    "    Kilometer — пробег (км)\n",
    "    RegistrationMonth — месяц регистрации автомобиля\n",
    "    FuelType — тип топлива\n",
    "    Brand — марка автомобиля\n",
    "    Repaired — была машина в ремонте или нет\n",
    "    DateCreated — дата создания анкеты\n",
    "    NumberOfPictures — количество фотографий автомобиля\n",
    "    PostalCode — почтовый индекс владельца анкеты (пользователя)\n",
    "    LastSeen — дата последней активности пользователя\n",
    "\n",
    "Целевой признак: Price — цена (евро)"
   ]
  },
  {
   "cell_type": "markdown",
   "metadata": {},
   "source": [
    "## План работы"
   ]
  },
  {
   "cell_type": "markdown",
   "metadata": {},
   "source": [
    "- Загрузить и подгоовить данные\n",
    "- Обучить разные модели\n",
    "- Проанлизировать скорость работы и качество омделей\n",
    "- Выбрать лучшую модель\n",
    "\n",
    "Для оценки качества моделей будет применена метрика RMSE\n"
   ]
  },
  {
   "cell_type": "markdown",
   "metadata": {},
   "source": [
    "## Подготовка данных"
   ]
  },
  {
   "cell_type": "markdown",
   "metadata": {},
   "source": [
    "### Загрузка библиотек и датасетов"
   ]
  },
  {
   "cell_type": "code",
   "execution_count": 1,
   "metadata": {},
   "outputs": [],
   "source": [
    "#установка недостающих библиотек  и недостающих обновлений в окружение\n",
    "!pip install shap -q\n",
    "!pip install phik -q\n",
    "!pip install -U scikit-learn -q"
   ]
  },
  {
   "cell_type": "code",
   "execution_count": 2,
   "metadata": {},
   "outputs": [],
   "source": [
    "#импорт библиотек и определение констант\n",
    "import pandas as pd\n",
    "import matplotlib.pyplot as plt\n",
    "import seaborn as sns\n",
    "import numpy as np\n",
    "from datetime import datetime\n",
    "from lightgbm import LGBMRegressor\n",
    "\n",
    "from phik import phik_matrix\n",
    "from phik.report import plot_correlation_matrix\n",
    "\n",
    "from sklearn.model_selection import (\n",
    "    train_test_split, \n",
    "    GridSearchCV,\n",
    "    RandomizedSearchCV\n",
    ")\n",
    "\n",
    "from sklearn.impute import SimpleImputer\n",
    "from sklearn.pipeline import Pipeline\n",
    "from sklearn.compose import ColumnTransformer\n",
    "from sklearn import tree\n",
    "\n",
    "\n",
    "from sklearn.preprocessing import (\n",
    "    OneHotEncoder,\n",
    "    OrdinalEncoder,\n",
    "    StandardScaler,\n",
    "    MinMaxScaler,\n",
    "    RobustScaler,\n",
    "    LabelEncoder\n",
    ")\n",
    " \n",
    "from sklearn.linear_model import (\n",
    "    LinearRegression, \n",
    "    LogisticRegression )\n",
    "\n",
    "from sklearn.neighbors import KNeighborsClassifier\n",
    "from sklearn.tree import DecisionTreeRegressor, DecisionTreeClassifier\n",
    "from sklearn.svm import SVC\n",
    "\n",
    "from sklearn.metrics import root_mean_squared_error\n",
    "\n",
    "import warnings"
   ]
  },
  {
   "cell_type": "code",
   "execution_count": 3,
   "metadata": {},
   "outputs": [],
   "source": [
    "RANDOM_STATE = 42"
   ]
  },
  {
   "cell_type": "code",
   "execution_count": 4,
   "metadata": {},
   "outputs": [],
   "source": [
    "#игнорирование предупреждений\n",
    "#warnings.filterwarnings('ignore')"
   ]
  },
  {
   "cell_type": "code",
   "execution_count": 5,
   "metadata": {},
   "outputs": [
    {
     "data": {
      "text/html": [
       "<div>\n",
       "<style scoped>\n",
       "    .dataframe tbody tr th:only-of-type {\n",
       "        vertical-align: middle;\n",
       "    }\n",
       "\n",
       "    .dataframe tbody tr th {\n",
       "        vertical-align: top;\n",
       "    }\n",
       "\n",
       "    .dataframe thead th {\n",
       "        text-align: right;\n",
       "    }\n",
       "</style>\n",
       "<table border=\"1\" class=\"dataframe\">\n",
       "  <thead>\n",
       "    <tr style=\"text-align: right;\">\n",
       "      <th></th>\n",
       "      <th>DateCrawled</th>\n",
       "      <th>Price</th>\n",
       "      <th>VehicleType</th>\n",
       "      <th>RegistrationYear</th>\n",
       "      <th>Gearbox</th>\n",
       "      <th>Power</th>\n",
       "      <th>Model</th>\n",
       "      <th>Kilometer</th>\n",
       "      <th>RegistrationMonth</th>\n",
       "      <th>FuelType</th>\n",
       "      <th>Brand</th>\n",
       "      <th>Repaired</th>\n",
       "      <th>DateCreated</th>\n",
       "      <th>NumberOfPictures</th>\n",
       "      <th>PostalCode</th>\n",
       "      <th>LastSeen</th>\n",
       "    </tr>\n",
       "  </thead>\n",
       "  <tbody>\n",
       "    <tr>\n",
       "      <th>0</th>\n",
       "      <td>2016-03-24 11:52:17</td>\n",
       "      <td>480</td>\n",
       "      <td>NaN</td>\n",
       "      <td>1993</td>\n",
       "      <td>manual</td>\n",
       "      <td>0</td>\n",
       "      <td>golf</td>\n",
       "      <td>150000</td>\n",
       "      <td>0</td>\n",
       "      <td>petrol</td>\n",
       "      <td>volkswagen</td>\n",
       "      <td>NaN</td>\n",
       "      <td>2016-03-24 00:00:00</td>\n",
       "      <td>0</td>\n",
       "      <td>70435</td>\n",
       "      <td>2016-04-07 03:16:57</td>\n",
       "    </tr>\n",
       "    <tr>\n",
       "      <th>1</th>\n",
       "      <td>2016-03-24 10:58:45</td>\n",
       "      <td>18300</td>\n",
       "      <td>coupe</td>\n",
       "      <td>2011</td>\n",
       "      <td>manual</td>\n",
       "      <td>190</td>\n",
       "      <td>NaN</td>\n",
       "      <td>125000</td>\n",
       "      <td>5</td>\n",
       "      <td>gasoline</td>\n",
       "      <td>audi</td>\n",
       "      <td>yes</td>\n",
       "      <td>2016-03-24 00:00:00</td>\n",
       "      <td>0</td>\n",
       "      <td>66954</td>\n",
       "      <td>2016-04-07 01:46:50</td>\n",
       "    </tr>\n",
       "    <tr>\n",
       "      <th>2</th>\n",
       "      <td>2016-03-14 12:52:21</td>\n",
       "      <td>9800</td>\n",
       "      <td>suv</td>\n",
       "      <td>2004</td>\n",
       "      <td>auto</td>\n",
       "      <td>163</td>\n",
       "      <td>grand</td>\n",
       "      <td>125000</td>\n",
       "      <td>8</td>\n",
       "      <td>gasoline</td>\n",
       "      <td>jeep</td>\n",
       "      <td>NaN</td>\n",
       "      <td>2016-03-14 00:00:00</td>\n",
       "      <td>0</td>\n",
       "      <td>90480</td>\n",
       "      <td>2016-04-05 12:47:46</td>\n",
       "    </tr>\n",
       "    <tr>\n",
       "      <th>3</th>\n",
       "      <td>2016-03-17 16:54:04</td>\n",
       "      <td>1500</td>\n",
       "      <td>small</td>\n",
       "      <td>2001</td>\n",
       "      <td>manual</td>\n",
       "      <td>75</td>\n",
       "      <td>golf</td>\n",
       "      <td>150000</td>\n",
       "      <td>6</td>\n",
       "      <td>petrol</td>\n",
       "      <td>volkswagen</td>\n",
       "      <td>no</td>\n",
       "      <td>2016-03-17 00:00:00</td>\n",
       "      <td>0</td>\n",
       "      <td>91074</td>\n",
       "      <td>2016-03-17 17:40:17</td>\n",
       "    </tr>\n",
       "    <tr>\n",
       "      <th>4</th>\n",
       "      <td>2016-03-31 17:25:20</td>\n",
       "      <td>3600</td>\n",
       "      <td>small</td>\n",
       "      <td>2008</td>\n",
       "      <td>manual</td>\n",
       "      <td>69</td>\n",
       "      <td>fabia</td>\n",
       "      <td>90000</td>\n",
       "      <td>7</td>\n",
       "      <td>gasoline</td>\n",
       "      <td>skoda</td>\n",
       "      <td>no</td>\n",
       "      <td>2016-03-31 00:00:00</td>\n",
       "      <td>0</td>\n",
       "      <td>60437</td>\n",
       "      <td>2016-04-06 10:17:21</td>\n",
       "    </tr>\n",
       "  </tbody>\n",
       "</table>\n",
       "</div>"
      ],
      "text/plain": [
       "           DateCrawled  Price VehicleType  RegistrationYear Gearbox  Power  \\\n",
       "0  2016-03-24 11:52:17    480         NaN              1993  manual      0   \n",
       "1  2016-03-24 10:58:45  18300       coupe              2011  manual    190   \n",
       "2  2016-03-14 12:52:21   9800         suv              2004    auto    163   \n",
       "3  2016-03-17 16:54:04   1500       small              2001  manual     75   \n",
       "4  2016-03-31 17:25:20   3600       small              2008  manual     69   \n",
       "\n",
       "   Model  Kilometer  RegistrationMonth  FuelType       Brand Repaired  \\\n",
       "0   golf     150000                  0    petrol  volkswagen      NaN   \n",
       "1    NaN     125000                  5  gasoline        audi      yes   \n",
       "2  grand     125000                  8  gasoline        jeep      NaN   \n",
       "3   golf     150000                  6    petrol  volkswagen       no   \n",
       "4  fabia      90000                  7  gasoline       skoda       no   \n",
       "\n",
       "           DateCreated  NumberOfPictures  PostalCode             LastSeen  \n",
       "0  2016-03-24 00:00:00                 0       70435  2016-04-07 03:16:57  \n",
       "1  2016-03-24 00:00:00                 0       66954  2016-04-07 01:46:50  \n",
       "2  2016-03-14 00:00:00                 0       90480  2016-04-05 12:47:46  \n",
       "3  2016-03-17 00:00:00                 0       91074  2016-03-17 17:40:17  \n",
       "4  2016-03-31 00:00:00                 0       60437  2016-04-06 10:17:21  "
      ]
     },
     "metadata": {},
     "output_type": "display_data"
    },
    {
     "name": "stdout",
     "output_type": "stream",
     "text": [
      "<class 'pandas.core.frame.DataFrame'>\n",
      "RangeIndex: 354369 entries, 0 to 354368\n",
      "Data columns (total 16 columns):\n",
      " #   Column             Non-Null Count   Dtype \n",
      "---  ------             --------------   ----- \n",
      " 0   DateCrawled        354369 non-null  object\n",
      " 1   Price              354369 non-null  int64 \n",
      " 2   VehicleType        316879 non-null  object\n",
      " 3   RegistrationYear   354369 non-null  int64 \n",
      " 4   Gearbox            334536 non-null  object\n",
      " 5   Power              354369 non-null  int64 \n",
      " 6   Model              334664 non-null  object\n",
      " 7   Kilometer          354369 non-null  int64 \n",
      " 8   RegistrationMonth  354369 non-null  int64 \n",
      " 9   FuelType           321474 non-null  object\n",
      " 10  Brand              354369 non-null  object\n",
      " 11  Repaired           283215 non-null  object\n",
      " 12  DateCreated        354369 non-null  object\n",
      " 13  NumberOfPictures   354369 non-null  int64 \n",
      " 14  PostalCode         354369 non-null  int64 \n",
      " 15  LastSeen           354369 non-null  object\n",
      "dtypes: int64(7), object(9)\n",
      "memory usage: 43.3+ MB\n"
     ]
    }
   ],
   "source": [
    "#загрузка файла geo_data_0.csv\n",
    "data = pd.read_csv('/datasets/autos.csv')\n",
    "display(data.head())\n",
    "data.info()"
   ]
  },
  {
   "cell_type": "markdown",
   "metadata": {},
   "source": [
    "**Вывод**\n",
    "Файл autos.csv:\n",
    " - число строк: 354 369\n",
    " - число столбцов: 16\n",
    " - пустые значения: есть\n",
    " - типы данных: соответствуют данным в файле\n",
    " - переименование столбцов: требуется"
   ]
  },
  {
   "cell_type": "markdown",
   "metadata": {},
   "source": [
    "### Предобработка данных"
   ]
  },
  {
   "cell_type": "markdown",
   "metadata": {},
   "source": [
    "#### Переименование столбцов"
   ]
  },
  {
   "cell_type": "code",
   "execution_count": 6,
   "metadata": {},
   "outputs": [
    {
     "data": {
      "text/plain": [
       "Index(['date_crawled', 'price', 'vehicle_type', 'registration_year', 'gearbox',\n",
       "       'power', 'model', 'kilometer', 'registration_month', 'fuel_type',\n",
       "       'brand', 'repaired', 'date_created', 'number_of_pictures',\n",
       "       'postal_code', 'last_seen'],\n",
       "      dtype='object')"
      ]
     },
     "execution_count": 6,
     "metadata": {},
     "output_type": "execute_result"
    }
   ],
   "source": [
    "# переименование столбцов в соответствии с pep8\n",
    "data.columns = ['date_crawled', 'price', 'vehicle_type', 'registration_year', 'gearbox',\n",
    "       'power', 'model', 'kilometer', 'registration_month', 'fuel_type', 'brand',\n",
    "       'repaired', 'date_created', 'number_of_pictures', 'postal_code',\n",
    "       'last_seen']\n",
    "data.columns"
   ]
  },
  {
   "cell_type": "markdown",
   "metadata": {},
   "source": [
    "#### Поиск явных дубликатов"
   ]
  },
  {
   "cell_type": "code",
   "execution_count": 7,
   "metadata": {},
   "outputs": [
    {
     "data": {
      "text/plain": [
       "4"
      ]
     },
     "execution_count": 7,
     "metadata": {},
     "output_type": "execute_result"
    }
   ],
   "source": [
    "#поиск явных дубликатов в датафрейме train_job_satisfaction_rate\n",
    "data.duplicated().sum()"
   ]
  },
  {
   "cell_type": "code",
   "execution_count": 8,
   "metadata": {},
   "outputs": [
    {
     "data": {
      "text/plain": [
       "354365"
      ]
     },
     "execution_count": 8,
     "metadata": {},
     "output_type": "execute_result"
    }
   ],
   "source": [
    "# удаление дубликатов\n",
    "data = data.drop_duplicates(ignore_index=True)\n",
    "data.shape[0]"
   ]
  },
  {
   "cell_type": "markdown",
   "metadata": {},
   "source": [
    "#### Поиск неявных дубликатов"
   ]
  },
  {
   "cell_type": "code",
   "execution_count": 9,
   "metadata": {},
   "outputs": [],
   "source": [
    "def uniq_df(df, list):\n",
    "    \"\"\"\n",
    "    Функция для получения перечня уникальных значений для параметров датафрейма\n",
    "    на вход получает датафрейм и список полей для которых нужно получить уникальные значения\n",
    "    \"\"\"\n",
    "    for element in list:\n",
    "        print(f\"Уникальные значения для поля {element}\")\n",
    "        print(df[element].sort_values().unique(), '\\n')    "
   ]
  },
  {
   "cell_type": "code",
   "execution_count": 10,
   "metadata": {},
   "outputs": [
    {
     "name": "stdout",
     "output_type": "stream",
     "text": [
      "Уникальные значения для поля vehicle_type\n",
      "['bus' 'convertible' 'coupe' 'other' 'sedan' 'small' 'suv' 'wagon' nan] \n",
      "\n",
      "Уникальные значения для поля gearbox\n",
      "['auto' 'manual' nan] \n",
      "\n",
      "Уникальные значения для поля model\n",
      "['100' '145' '147' '156' '159' '1_reihe' '1er' '200' '2_reihe' '300c'\n",
      " '3_reihe' '3er' '4_reihe' '500' '5_reihe' '5er' '601' '6_reihe' '6er'\n",
      " '7er' '80' '850' '90' '900' '9000' '911' 'a1' 'a2' 'a3' 'a4' 'a5' 'a6'\n",
      " 'a8' 'a_klasse' 'accord' 'agila' 'alhambra' 'almera' 'altea' 'amarok'\n",
      " 'antara' 'arosa' 'astra' 'auris' 'avensis' 'aveo' 'aygo' 'b_klasse'\n",
      " 'b_max' 'beetle' 'berlingo' 'bora' 'boxster' 'bravo' 'c1' 'c2' 'c3' 'c4'\n",
      " 'c5' 'c_klasse' 'c_max' 'c_reihe' 'caddy' 'calibra' 'captiva' 'carisma'\n",
      " 'carnival' 'cayenne' 'cc' 'ceed' 'charade' 'cherokee' 'citigo' 'civic'\n",
      " 'cl' 'clio' 'clk' 'clubman' 'colt' 'combo' 'cooper' 'cordoba' 'corolla'\n",
      " 'corsa' 'cr_reihe' 'croma' 'crossfire' 'cuore' 'cx_reihe' 'defender'\n",
      " 'delta' 'discovery' 'doblo' 'ducato' 'duster' 'e_klasse' 'elefantino'\n",
      " 'eos' 'escort' 'espace' 'exeo' 'fabia' 'fiesta' 'focus' 'forester'\n",
      " 'forfour' 'fortwo' 'fox' 'freelander' 'fusion' 'g_klasse' 'galant'\n",
      " 'galaxy' 'getz' 'gl' 'glk' 'golf' 'grand' 'i3' 'i_reihe' 'ibiza'\n",
      " 'impreza' 'insignia' 'jazz' 'jetta' 'jimny' 'juke' 'justy' 'ka' 'kadett'\n",
      " 'kaefer' 'kalina' 'kalos' 'kangoo' 'kappa' 'kuga' 'laguna' 'lancer'\n",
      " 'lanos' 'legacy' 'leon' 'lodgy' 'logan' 'lupo' 'lybra' 'm_klasse'\n",
      " 'm_reihe' 'materia' 'matiz' 'megane' 'meriva' 'micra' 'mii' 'modus'\n",
      " 'mondeo' 'move' 'musa' 'mustang' 'mx_reihe' 'navara' 'niva' 'note'\n",
      " 'nubira' 'octavia' 'omega' 'one' 'other' 'outlander' 'pajero' 'panda'\n",
      " 'passat' 'phaeton' 'picanto' 'polo' 'primera' 'ptcruiser' 'punto' 'q3'\n",
      " 'q5' 'q7' 'qashqai' 'r19' 'range_rover' 'range_rover_evoque'\n",
      " 'range_rover_sport' 'rangerover' 'rav' 'rio' 'roadster' 'roomster'\n",
      " 'rx_reihe' 's60' 's_klasse' 's_max' 's_type' 'samara' 'sandero' 'santa'\n",
      " 'scenic' 'scirocco' 'seicento' 'serie_1' 'serie_2' 'serie_3' 'sharan'\n",
      " 'signum' 'sirion' 'sl' 'slk' 'sorento' 'spark' 'spider' 'sportage'\n",
      " 'sprinter' 'stilo' 'superb' 'swift' 'terios' 'tigra' 'tiguan' 'toledo'\n",
      " 'touareg' 'touran' 'transit' 'transporter' 'tt' 'tucson' 'twingo' 'up'\n",
      " 'v40' 'v50' 'v60' 'v70' 'v_klasse' 'vectra' 'verso' 'viano' 'vito'\n",
      " 'vivaro' 'voyager' 'wrangler' 'x_reihe' 'x_trail' 'x_type' 'xc_reihe'\n",
      " 'yaris' 'yeti' 'ypsilon' 'z_reihe' 'zafira' nan] \n",
      "\n",
      "Уникальные значения для поля fuel_type\n",
      "['cng' 'electric' 'gasoline' 'hybrid' 'lpg' 'other' 'petrol' nan] \n",
      "\n",
      "Уникальные значения для поля brand\n",
      "['alfa_romeo' 'audi' 'bmw' 'chevrolet' 'chrysler' 'citroen' 'dacia'\n",
      " 'daewoo' 'daihatsu' 'fiat' 'ford' 'honda' 'hyundai' 'jaguar' 'jeep' 'kia'\n",
      " 'lada' 'lancia' 'land_rover' 'mazda' 'mercedes_benz' 'mini' 'mitsubishi'\n",
      " 'nissan' 'opel' 'peugeot' 'porsche' 'renault' 'rover' 'saab' 'seat'\n",
      " 'skoda' 'smart' 'sonstige_autos' 'subaru' 'suzuki' 'toyota' 'trabant'\n",
      " 'volkswagen' 'volvo'] \n",
      "\n",
      "Уникальные значения для поля repaired\n",
      "['no' 'yes' nan] \n",
      "\n"
     ]
    }
   ],
   "source": [
    "# получение уникальных значений для категориальных признаков\n",
    "\n",
    "uniq_df(data, ['vehicle_type', 'gearbox',\n",
    "       'model', 'fuel_type', 'brand', 'repaired'])"
   ]
  },
  {
   "cell_type": "markdown",
   "metadata": {},
   "source": [
    "#### Обработка полей с датой"
   ]
  },
  {
   "cell_type": "code",
   "execution_count": 11,
   "metadata": {},
   "outputs": [],
   "source": [
    "#конвертация даты, выделение года и дня года в отдельные параметры\n",
    "data['date_crawled'] = pd.to_datetime(data['date_crawled'], format='%Y-%m-%d %H:%M:%S')\n",
    "data['year_crawled'] = data['date_crawled'].dt.year\n",
    "data['day_crawled'] = data['date_crawled'].dt.dayofyear\n",
    "data['date_created'] = pd.to_datetime(data['date_created'], format='%Y-%m-%d %H:%M:%S')\n",
    "data['year_created'] = data['date_created'].dt.year\n",
    "data['day_created'] = data['date_created'].dt.dayofyear\n",
    "data['last_seen'] = pd.to_datetime(data['last_seen'], format='%Y-%m-%d %H:%M:%S')\n",
    "data['year_last'] = data['last_seen'].dt.year\n",
    "data['day_last'] = data['last_seen'].dt.dayofyear"
   ]
  },
  {
   "cell_type": "code",
   "execution_count": 12,
   "metadata": {},
   "outputs": [
    {
     "data": {
      "text/html": [
       "<div>\n",
       "<style scoped>\n",
       "    .dataframe tbody tr th:only-of-type {\n",
       "        vertical-align: middle;\n",
       "    }\n",
       "\n",
       "    .dataframe tbody tr th {\n",
       "        vertical-align: top;\n",
       "    }\n",
       "\n",
       "    .dataframe thead th {\n",
       "        text-align: right;\n",
       "    }\n",
       "</style>\n",
       "<table border=\"1\" class=\"dataframe\">\n",
       "  <thead>\n",
       "    <tr style=\"text-align: right;\">\n",
       "      <th></th>\n",
       "      <th>price</th>\n",
       "      <th>vehicle_type</th>\n",
       "      <th>registration_year</th>\n",
       "      <th>gearbox</th>\n",
       "      <th>power</th>\n",
       "      <th>model</th>\n",
       "      <th>kilometer</th>\n",
       "      <th>registration_month</th>\n",
       "      <th>fuel_type</th>\n",
       "      <th>brand</th>\n",
       "      <th>repaired</th>\n",
       "      <th>number_of_pictures</th>\n",
       "      <th>postal_code</th>\n",
       "      <th>year_crawled</th>\n",
       "      <th>day_crawled</th>\n",
       "      <th>year_created</th>\n",
       "      <th>day_created</th>\n",
       "      <th>year_last</th>\n",
       "      <th>day_last</th>\n",
       "    </tr>\n",
       "  </thead>\n",
       "  <tbody>\n",
       "    <tr>\n",
       "      <th>0</th>\n",
       "      <td>480</td>\n",
       "      <td>NaN</td>\n",
       "      <td>1993</td>\n",
       "      <td>manual</td>\n",
       "      <td>0</td>\n",
       "      <td>golf</td>\n",
       "      <td>150000</td>\n",
       "      <td>0</td>\n",
       "      <td>petrol</td>\n",
       "      <td>volkswagen</td>\n",
       "      <td>NaN</td>\n",
       "      <td>0</td>\n",
       "      <td>70435</td>\n",
       "      <td>2016</td>\n",
       "      <td>84</td>\n",
       "      <td>2016</td>\n",
       "      <td>84</td>\n",
       "      <td>2016</td>\n",
       "      <td>98</td>\n",
       "    </tr>\n",
       "    <tr>\n",
       "      <th>1</th>\n",
       "      <td>18300</td>\n",
       "      <td>coupe</td>\n",
       "      <td>2011</td>\n",
       "      <td>manual</td>\n",
       "      <td>190</td>\n",
       "      <td>NaN</td>\n",
       "      <td>125000</td>\n",
       "      <td>5</td>\n",
       "      <td>gasoline</td>\n",
       "      <td>audi</td>\n",
       "      <td>yes</td>\n",
       "      <td>0</td>\n",
       "      <td>66954</td>\n",
       "      <td>2016</td>\n",
       "      <td>84</td>\n",
       "      <td>2016</td>\n",
       "      <td>84</td>\n",
       "      <td>2016</td>\n",
       "      <td>98</td>\n",
       "    </tr>\n",
       "    <tr>\n",
       "      <th>2</th>\n",
       "      <td>9800</td>\n",
       "      <td>suv</td>\n",
       "      <td>2004</td>\n",
       "      <td>auto</td>\n",
       "      <td>163</td>\n",
       "      <td>grand</td>\n",
       "      <td>125000</td>\n",
       "      <td>8</td>\n",
       "      <td>gasoline</td>\n",
       "      <td>jeep</td>\n",
       "      <td>NaN</td>\n",
       "      <td>0</td>\n",
       "      <td>90480</td>\n",
       "      <td>2016</td>\n",
       "      <td>74</td>\n",
       "      <td>2016</td>\n",
       "      <td>74</td>\n",
       "      <td>2016</td>\n",
       "      <td>96</td>\n",
       "    </tr>\n",
       "    <tr>\n",
       "      <th>3</th>\n",
       "      <td>1500</td>\n",
       "      <td>small</td>\n",
       "      <td>2001</td>\n",
       "      <td>manual</td>\n",
       "      <td>75</td>\n",
       "      <td>golf</td>\n",
       "      <td>150000</td>\n",
       "      <td>6</td>\n",
       "      <td>petrol</td>\n",
       "      <td>volkswagen</td>\n",
       "      <td>no</td>\n",
       "      <td>0</td>\n",
       "      <td>91074</td>\n",
       "      <td>2016</td>\n",
       "      <td>77</td>\n",
       "      <td>2016</td>\n",
       "      <td>77</td>\n",
       "      <td>2016</td>\n",
       "      <td>77</td>\n",
       "    </tr>\n",
       "    <tr>\n",
       "      <th>4</th>\n",
       "      <td>3600</td>\n",
       "      <td>small</td>\n",
       "      <td>2008</td>\n",
       "      <td>manual</td>\n",
       "      <td>69</td>\n",
       "      <td>fabia</td>\n",
       "      <td>90000</td>\n",
       "      <td>7</td>\n",
       "      <td>gasoline</td>\n",
       "      <td>skoda</td>\n",
       "      <td>no</td>\n",
       "      <td>0</td>\n",
       "      <td>60437</td>\n",
       "      <td>2016</td>\n",
       "      <td>91</td>\n",
       "      <td>2016</td>\n",
       "      <td>91</td>\n",
       "      <td>2016</td>\n",
       "      <td>97</td>\n",
       "    </tr>\n",
       "    <tr>\n",
       "      <th>...</th>\n",
       "      <td>...</td>\n",
       "      <td>...</td>\n",
       "      <td>...</td>\n",
       "      <td>...</td>\n",
       "      <td>...</td>\n",
       "      <td>...</td>\n",
       "      <td>...</td>\n",
       "      <td>...</td>\n",
       "      <td>...</td>\n",
       "      <td>...</td>\n",
       "      <td>...</td>\n",
       "      <td>...</td>\n",
       "      <td>...</td>\n",
       "      <td>...</td>\n",
       "      <td>...</td>\n",
       "      <td>...</td>\n",
       "      <td>...</td>\n",
       "      <td>...</td>\n",
       "      <td>...</td>\n",
       "    </tr>\n",
       "    <tr>\n",
       "      <th>354360</th>\n",
       "      <td>0</td>\n",
       "      <td>NaN</td>\n",
       "      <td>2005</td>\n",
       "      <td>manual</td>\n",
       "      <td>0</td>\n",
       "      <td>colt</td>\n",
       "      <td>150000</td>\n",
       "      <td>7</td>\n",
       "      <td>petrol</td>\n",
       "      <td>mitsubishi</td>\n",
       "      <td>yes</td>\n",
       "      <td>0</td>\n",
       "      <td>2694</td>\n",
       "      <td>2016</td>\n",
       "      <td>81</td>\n",
       "      <td>2016</td>\n",
       "      <td>81</td>\n",
       "      <td>2016</td>\n",
       "      <td>81</td>\n",
       "    </tr>\n",
       "    <tr>\n",
       "      <th>354361</th>\n",
       "      <td>2200</td>\n",
       "      <td>NaN</td>\n",
       "      <td>2005</td>\n",
       "      <td>NaN</td>\n",
       "      <td>0</td>\n",
       "      <td>NaN</td>\n",
       "      <td>20000</td>\n",
       "      <td>1</td>\n",
       "      <td>NaN</td>\n",
       "      <td>sonstige_autos</td>\n",
       "      <td>NaN</td>\n",
       "      <td>0</td>\n",
       "      <td>39576</td>\n",
       "      <td>2016</td>\n",
       "      <td>74</td>\n",
       "      <td>2016</td>\n",
       "      <td>74</td>\n",
       "      <td>2016</td>\n",
       "      <td>97</td>\n",
       "    </tr>\n",
       "    <tr>\n",
       "      <th>354362</th>\n",
       "      <td>1199</td>\n",
       "      <td>convertible</td>\n",
       "      <td>2000</td>\n",
       "      <td>auto</td>\n",
       "      <td>101</td>\n",
       "      <td>fortwo</td>\n",
       "      <td>125000</td>\n",
       "      <td>3</td>\n",
       "      <td>petrol</td>\n",
       "      <td>smart</td>\n",
       "      <td>no</td>\n",
       "      <td>0</td>\n",
       "      <td>26135</td>\n",
       "      <td>2016</td>\n",
       "      <td>65</td>\n",
       "      <td>2016</td>\n",
       "      <td>65</td>\n",
       "      <td>2016</td>\n",
       "      <td>71</td>\n",
       "    </tr>\n",
       "    <tr>\n",
       "      <th>354363</th>\n",
       "      <td>9200</td>\n",
       "      <td>bus</td>\n",
       "      <td>1996</td>\n",
       "      <td>manual</td>\n",
       "      <td>102</td>\n",
       "      <td>transporter</td>\n",
       "      <td>150000</td>\n",
       "      <td>3</td>\n",
       "      <td>gasoline</td>\n",
       "      <td>volkswagen</td>\n",
       "      <td>no</td>\n",
       "      <td>0</td>\n",
       "      <td>87439</td>\n",
       "      <td>2016</td>\n",
       "      <td>79</td>\n",
       "      <td>2016</td>\n",
       "      <td>79</td>\n",
       "      <td>2016</td>\n",
       "      <td>98</td>\n",
       "    </tr>\n",
       "    <tr>\n",
       "      <th>354364</th>\n",
       "      <td>3400</td>\n",
       "      <td>wagon</td>\n",
       "      <td>2002</td>\n",
       "      <td>manual</td>\n",
       "      <td>100</td>\n",
       "      <td>golf</td>\n",
       "      <td>150000</td>\n",
       "      <td>6</td>\n",
       "      <td>gasoline</td>\n",
       "      <td>volkswagen</td>\n",
       "      <td>NaN</td>\n",
       "      <td>0</td>\n",
       "      <td>40764</td>\n",
       "      <td>2016</td>\n",
       "      <td>80</td>\n",
       "      <td>2016</td>\n",
       "      <td>80</td>\n",
       "      <td>2016</td>\n",
       "      <td>84</td>\n",
       "    </tr>\n",
       "  </tbody>\n",
       "</table>\n",
       "<p>354365 rows × 19 columns</p>\n",
       "</div>"
      ],
      "text/plain": [
       "        price vehicle_type  registration_year gearbox  power        model  \\\n",
       "0         480          NaN               1993  manual      0         golf   \n",
       "1       18300        coupe               2011  manual    190          NaN   \n",
       "2        9800          suv               2004    auto    163        grand   \n",
       "3        1500        small               2001  manual     75         golf   \n",
       "4        3600        small               2008  manual     69        fabia   \n",
       "...       ...          ...                ...     ...    ...          ...   \n",
       "354360      0          NaN               2005  manual      0         colt   \n",
       "354361   2200          NaN               2005     NaN      0          NaN   \n",
       "354362   1199  convertible               2000    auto    101       fortwo   \n",
       "354363   9200          bus               1996  manual    102  transporter   \n",
       "354364   3400        wagon               2002  manual    100         golf   \n",
       "\n",
       "        kilometer  registration_month fuel_type           brand repaired  \\\n",
       "0          150000                   0    petrol      volkswagen      NaN   \n",
       "1          125000                   5  gasoline            audi      yes   \n",
       "2          125000                   8  gasoline            jeep      NaN   \n",
       "3          150000                   6    petrol      volkswagen       no   \n",
       "4           90000                   7  gasoline           skoda       no   \n",
       "...           ...                 ...       ...             ...      ...   \n",
       "354360     150000                   7    petrol      mitsubishi      yes   \n",
       "354361      20000                   1       NaN  sonstige_autos      NaN   \n",
       "354362     125000                   3    petrol           smart       no   \n",
       "354363     150000                   3  gasoline      volkswagen       no   \n",
       "354364     150000                   6  gasoline      volkswagen      NaN   \n",
       "\n",
       "        number_of_pictures  postal_code  year_crawled  day_crawled  \\\n",
       "0                        0        70435          2016           84   \n",
       "1                        0        66954          2016           84   \n",
       "2                        0        90480          2016           74   \n",
       "3                        0        91074          2016           77   \n",
       "4                        0        60437          2016           91   \n",
       "...                    ...          ...           ...          ...   \n",
       "354360                   0         2694          2016           81   \n",
       "354361                   0        39576          2016           74   \n",
       "354362                   0        26135          2016           65   \n",
       "354363                   0        87439          2016           79   \n",
       "354364                   0        40764          2016           80   \n",
       "\n",
       "        year_created  day_created  year_last  day_last  \n",
       "0               2016           84       2016        98  \n",
       "1               2016           84       2016        98  \n",
       "2               2016           74       2016        96  \n",
       "3               2016           77       2016        77  \n",
       "4               2016           91       2016        97  \n",
       "...              ...          ...        ...       ...  \n",
       "354360          2016           81       2016        81  \n",
       "354361          2016           74       2016        97  \n",
       "354362          2016           65       2016        71  \n",
       "354363          2016           79       2016        98  \n",
       "354364          2016           80       2016        84  \n",
       "\n",
       "[354365 rows x 19 columns]"
      ]
     },
     "execution_count": 12,
     "metadata": {},
     "output_type": "execute_result"
    }
   ],
   "source": [
    "#удаление столбцов с датами\n",
    "data = data.drop(['date_crawled', 'date_created', 'last_seen'], axis=1)\n",
    "data"
   ]
  },
  {
   "cell_type": "markdown",
   "metadata": {},
   "source": [
    "**Вывод** \n",
    "\n",
    "Было найдено 4 явных дубликата, которые были удалены.\n",
    "Неявные дубликаты не были обнаружены.\n",
    "\n",
    "Также была проведена обработка параметров с датой. Поля с номером года и с номером дня в течение года вынесены в отдельные параметры. Поля с исходной датой удалены из датасета."
   ]
  },
  {
   "cell_type": "markdown",
   "metadata": {},
   "source": [
    "### Исследовательский анализ данных"
   ]
  },
  {
   "cell_type": "markdown",
   "metadata": {},
   "source": [
    "#### Исследование количественных данных"
   ]
  },
  {
   "cell_type": "code",
   "execution_count": 13,
   "metadata": {},
   "outputs": [],
   "source": [
    "def hist_box_diagramm(df, list):\n",
    "    \"\"\"\n",
    "    функция для строительства гистограммы и ящика с усами.\n",
    "    на вход получает датафрейм и список полей для которых нужно построить графики\n",
    "    \"\"\"\n",
    "    for element in list:   \n",
    "        \n",
    "        # создание объекта из двух: гстограммы и ящика с усами\n",
    "        f, (ax_box, ax_hist) = plt.subplots(2, sharex=True, gridspec_kw={'height_ratios': (.15, .85)})\n",
    "        \n",
    "        # назначение графика каждой переменной\n",
    "        sns.boxplot(df[element], orient='h', ax=ax_box)\n",
    "        sns.histplot(df, x=element);\n",
    "        \n",
    "        print(f\"Графики для поля: {element}\")\n",
    "\n",
    "        # удаление подписи для оси х\n",
    "        ax_box.set(xlabel='')\n",
    "        plt.show()"
   ]
  },
  {
   "cell_type": "code",
   "execution_count": 14,
   "metadata": {},
   "outputs": [
    {
     "name": "stderr",
     "output_type": "stream",
     "text": [
      "/opt/conda/lib/python3.9/site-packages/seaborn/_decorators.py:36: FutureWarning: Pass the following variable as a keyword arg: x. From version 0.12, the only valid positional argument will be `data`, and passing other arguments without an explicit keyword will result in an error or misinterpretation.\n",
      "  warnings.warn(\n"
     ]
    },
    {
     "name": "stdout",
     "output_type": "stream",
     "text": [
      "Графики для поля: price\n"
     ]
    },
    {
     "data": {
      "image/png": "[encoded data removed]",
      "text/plain": [
       "<Figure size 432x288 with 2 Axes>"
      ]
     },
     "metadata": {
      "needs_background": "light"
     },
     "output_type": "display_data"
    },
    {
     "name": "stderr",
     "output_type": "stream",
     "text": [
      "/opt/conda/lib/python3.9/site-packages/seaborn/_decorators.py:36: FutureWarning: Pass the following variable as a keyword arg: x. From version 0.12, the only valid positional argument will be `data`, and passing other arguments without an explicit keyword will result in an error or misinterpretation.\n",
      "  warnings.warn(\n"
     ]
    },
    {
     "name": "stdout",
     "output_type": "stream",
     "text": [
      "Графики для поля: registration_year\n"
     ]
    },
    {
     "data": {
      "image/png": "[encoded data removed]",
      "text/plain": [
       "<Figure size 432x288 with 2 Axes>"
      ]
     },
     "metadata": {
      "needs_background": "light"
     },
     "output_type": "display_data"
    },
    {
     "name": "stderr",
     "output_type": "stream",
     "text": [
      "/opt/conda/lib/python3.9/site-packages/seaborn/_decorators.py:36: FutureWarning: Pass the following variable as a keyword arg: x. From version 0.12, the only valid positional argument will be `data`, and passing other arguments without an explicit keyword will result in an error or misinterpretation.\n",
      "  warnings.warn(\n"
     ]
    },
    {
     "name": "stdout",
     "output_type": "stream",
     "text": [
      "Графики для поля: power\n"
     ]
    },
    {
     "data": {
      "image/png": "[encoded data removed]",
      "text/plain": [
       "<Figure size 432x288 with 2 Axes>"
      ]
     },
     "metadata": {
      "needs_background": "light"
     },
     "output_type": "display_data"
    },
    {
     "name": "stderr",
     "output_type": "stream",
     "text": [
      "/opt/conda/lib/python3.9/site-packages/seaborn/_decorators.py:36: FutureWarning: Pass the following variable as a keyword arg: x. From version 0.12, the only valid positional argument will be `data`, and passing other arguments without an explicit keyword will result in an error or misinterpretation.\n",
      "  warnings.warn(\n"
     ]
    },
    {
     "name": "stdout",
     "output_type": "stream",
     "text": [
      "Графики для поля: kilometer\n"
     ]
    },
    {
     "data": {
      "image/png": "[encoded data removed]",
      "text/plain": [
       "<Figure size 432x288 with 2 Axes>"
      ]
     },
     "metadata": {
      "needs_background": "light"
     },
     "output_type": "display_data"
    },
    {
     "name": "stderr",
     "output_type": "stream",
     "text": [
      "/opt/conda/lib/python3.9/site-packages/seaborn/_decorators.py:36: FutureWarning: Pass the following variable as a keyword arg: x. From version 0.12, the only valid positional argument will be `data`, and passing other arguments without an explicit keyword will result in an error or misinterpretation.\n",
      "  warnings.warn(\n"
     ]
    },
    {
     "name": "stdout",
     "output_type": "stream",
     "text": [
      "Графики для поля: registration_month\n"
     ]
    },
    {
     "data": {
      "image/png": "[encoded data removed]",
      "text/plain": [
       "<Figure size 432x288 with 2 Axes>"
      ]
     },
     "metadata": {
      "needs_background": "light"
     },
     "output_type": "display_data"
    },
    {
     "name": "stdout",
     "output_type": "stream",
     "text": [
      "Графики для поля: number_of_pictures\n"
     ]
    },
    {
     "name": "stderr",
     "output_type": "stream",
     "text": [
      "/opt/conda/lib/python3.9/site-packages/seaborn/_decorators.py:36: FutureWarning: Pass the following variable as a keyword arg: x. From version 0.12, the only valid positional argument will be `data`, and passing other arguments without an explicit keyword will result in an error or misinterpretation.\n",
      "  warnings.warn(\n"
     ]
    },
    {
     "data": {
      "image/png": "[encoded data removed]",
      "text/plain": [
       "<Figure size 432x288 with 2 Axes>"
      ]
     },
     "metadata": {
      "needs_background": "light"
     },
     "output_type": "display_data"
    },
    {
     "name": "stderr",
     "output_type": "stream",
     "text": [
      "/opt/conda/lib/python3.9/site-packages/seaborn/_decorators.py:36: FutureWarning: Pass the following variable as a keyword arg: x. From version 0.12, the only valid positional argument will be `data`, and passing other arguments without an explicit keyword will result in an error or misinterpretation.\n",
      "  warnings.warn(\n"
     ]
    },
    {
     "name": "stdout",
     "output_type": "stream",
     "text": [
      "Графики для поля: postal_code\n"
     ]
    },
    {
     "data": {
      "image/png": "[encoded data removed]",
      "text/plain": [
       "<Figure size 432x288 with 2 Axes>"
      ]
     },
     "metadata": {
      "needs_background": "light"
     },
     "output_type": "display_data"
    },
    {
     "name": "stdout",
     "output_type": "stream",
     "text": [
      "Графики для поля: year_crawled\n"
     ]
    },
    {
     "name": "stderr",
     "output_type": "stream",
     "text": [
      "/opt/conda/lib/python3.9/site-packages/seaborn/_decorators.py:36: FutureWarning: Pass the following variable as a keyword arg: x. From version 0.12, the only valid positional argument will be `data`, and passing other arguments without an explicit keyword will result in an error or misinterpretation.\n",
      "  warnings.warn(\n"
     ]
    },
    {
     "data": {
      "image/png": "[encoded data removed]",
      "text/plain": [
       "<Figure size 432x288 with 2 Axes>"
      ]
     },
     "metadata": {
      "needs_background": "light"
     },
     "output_type": "display_data"
    },
    {
     "name": "stderr",
     "output_type": "stream",
     "text": [
      "/opt/conda/lib/python3.9/site-packages/seaborn/_decorators.py:36: FutureWarning: Pass the following variable as a keyword arg: x. From version 0.12, the only valid positional argument will be `data`, and passing other arguments without an explicit keyword will result in an error or misinterpretation.\n",
      "  warnings.warn(\n"
     ]
    },
    {
     "name": "stdout",
     "output_type": "stream",
     "text": [
      "Графики для поля: day_crawled\n"
     ]
    },
    {
     "data": {
      "image/png": "[encoded data removed]",
      "text/plain": [
       "<Figure size 432x288 with 2 Axes>"
      ]
     },
     "metadata": {
      "needs_background": "light"
     },
     "output_type": "display_data"
    },
    {
     "name": "stderr",
     "output_type": "stream",
     "text": [
      "/opt/conda/lib/python3.9/site-packages/seaborn/_decorators.py:36: FutureWarning: Pass the following variable as a keyword arg: x. From version 0.12, the only valid positional argument will be `data`, and passing other arguments without an explicit keyword will result in an error or misinterpretation.\n",
      "  warnings.warn(\n"
     ]
    },
    {
     "name": "stdout",
     "output_type": "stream",
     "text": [
      "Графики для поля: year_created\n"
     ]
    },
    {
     "data": {
      "image/png": "[encoded data removed]",
      "text/plain": [
       "<Figure size 432x288 with 2 Axes>"
      ]
     },
     "metadata": {
      "needs_background": "light"
     },
     "output_type": "display_data"
    },
    {
     "name": "stderr",
     "output_type": "stream",
     "text": [
      "/opt/conda/lib/python3.9/site-packages/seaborn/_decorators.py:36: FutureWarning: Pass the following variable as a keyword arg: x. From version 0.12, the only valid positional argument will be `data`, and passing other arguments without an explicit keyword will result in an error or misinterpretation.\n",
      "  warnings.warn(\n"
     ]
    },
    {
     "name": "stdout",
     "output_type": "stream",
     "text": [
      "Графики для поля: day_created\n"
     ]
    },
    {
     "data": {
      "image/png": "[encoded data removed]",
      "text/plain": [
       "<Figure size 432x288 with 2 Axes>"
      ]
     },
     "metadata": {
      "needs_background": "light"
     },
     "output_type": "display_data"
    },
    {
     "name": "stdout",
     "output_type": "stream",
     "text": [
      "Графики для поля: year_last\n"
     ]
    },
    {
     "name": "stderr",
     "output_type": "stream",
     "text": [
      "/opt/conda/lib/python3.9/site-packages/seaborn/_decorators.py:36: FutureWarning: Pass the following variable as a keyword arg: x. From version 0.12, the only valid positional argument will be `data`, and passing other arguments without an explicit keyword will result in an error or misinterpretation.\n",
      "  warnings.warn(\n"
     ]
    },
    {
     "data": {
      "image/png": "[encoded data removed]",
      "text/plain": [
       "<Figure size 432x288 with 2 Axes>"
      ]
     },
     "metadata": {
      "needs_background": "light"
     },
     "output_type": "display_data"
    },
    {
     "name": "stderr",
     "output_type": "stream",
     "text": [
      "/opt/conda/lib/python3.9/site-packages/seaborn/_decorators.py:36: FutureWarning: Pass the following variable as a keyword arg: x. From version 0.12, the only valid positional argument will be `data`, and passing other arguments without an explicit keyword will result in an error or misinterpretation.\n",
      "  warnings.warn(\n"
     ]
    },
    {
     "name": "stdout",
     "output_type": "stream",
     "text": [
      "Графики для поля: day_last\n"
     ]
    },
    {
     "data": {
      "image/png": "[encoded data removed]",
      "text/plain": [
       "<Figure size 432x288 with 2 Axes>"
      ]
     },
     "metadata": {
      "needs_background": "light"
     },
     "output_type": "display_data"
    }
   ],
   "source": [
    "# построение гистрограмм для числовых признаков\n",
    "hist_box_diagramm(data, ['price', 'registration_year', 'power', 'kilometer', 'registration_month',\n",
    "                         'number_of_pictures', 'postal_code', 'year_crawled', 'day_crawled', \n",
    "                         'year_created', 'day_created', 'year_last', 'day_last'])"
   ]
  },
  {
   "cell_type": "markdown",
   "metadata": {},
   "source": [
    "#### Редактирование датасета на основе результатов анализа"
   ]
  },
  {
   "cell_type": "markdown",
   "metadata": {},
   "source": [
    "##### Поле number_of_pictures"
   ]
  },
  {
   "cell_type": "code",
   "execution_count": 15,
   "metadata": {},
   "outputs": [
    {
     "data": {
      "text/plain": [
       "array([0])"
      ]
     },
     "execution_count": 15,
     "metadata": {},
     "output_type": "execute_result"
    }
   ],
   "source": [
    "# проверка занчений для поля number_of_pictures\n",
    "data['number_of_pictures'].unique()"
   ]
  },
  {
   "cell_type": "markdown",
   "metadata": {},
   "source": [
    "Исходя из полученных данных, выявлено, что в поле number_of_pictures содержится только одно значение (0). Поэтому сразу удаляем это поле, т.к. оно не несет никакой информации."
   ]
  },
  {
   "cell_type": "code",
   "execution_count": 16,
   "metadata": {},
   "outputs": [
    {
     "name": "stdout",
     "output_type": "stream",
     "text": [
      "<class 'pandas.core.frame.DataFrame'>\n",
      "RangeIndex: 354365 entries, 0 to 354364\n",
      "Data columns (total 18 columns):\n",
      " #   Column              Non-Null Count   Dtype \n",
      "---  ------              --------------   ----- \n",
      " 0   price               354365 non-null  int64 \n",
      " 1   vehicle_type        316875 non-null  object\n",
      " 2   registration_year   354365 non-null  int64 \n",
      " 3   gearbox             334532 non-null  object\n",
      " 4   power               354365 non-null  int64 \n",
      " 5   model               334660 non-null  object\n",
      " 6   kilometer           354365 non-null  int64 \n",
      " 7   registration_month  354365 non-null  int64 \n",
      " 8   fuel_type           321470 non-null  object\n",
      " 9   brand               354365 non-null  object\n",
      " 10  repaired            283211 non-null  object\n",
      " 11  postal_code         354365 non-null  int64 \n",
      " 12  year_crawled        354365 non-null  int64 \n",
      " 13  day_crawled         354365 non-null  int64 \n",
      " 14  year_created        354365 non-null  int64 \n",
      " 15  day_created         354365 non-null  int64 \n",
      " 16  year_last           354365 non-null  int64 \n",
      " 17  day_last            354365 non-null  int64 \n",
      "dtypes: int64(12), object(6)\n",
      "memory usage: 48.7+ MB\n"
     ]
    }
   ],
   "source": [
    "#удаление поля number_of_pictures\n",
    "data = data.drop('number_of_pictures', axis=1)\n",
    "data.info()"
   ]
  },
  {
   "cell_type": "markdown",
   "metadata": {},
   "source": [
    "##### Поле registration_year"
   ]
  },
  {
   "cell_type": "markdown",
   "metadata": {},
   "source": [
    "Значение года регистрации (поле registration_year) меняется в очень большом диапазоне: от 0 до 10 000. При этом автомобили начали выпускаться только в начале 19 века. Кроме того, выгрузка данных актуальна на 2016 год. Так что дата регистрации не может его превышать. Поэтому registration_year должен быть в диапазоне 1800-2016"
   ]
  },
  {
   "cell_type": "code",
   "execution_count": 17,
   "metadata": {},
   "outputs": [],
   "source": [
    "# фильтрация года регистрации автомобиля\n",
    "data = data.query('registration_year > 1800 & registration_year <= 2016')"
   ]
  },
  {
   "cell_type": "code",
   "execution_count": 18,
   "metadata": {},
   "outputs": [
    {
     "name": "stderr",
     "output_type": "stream",
     "text": [
      "/opt/conda/lib/python3.9/site-packages/seaborn/_decorators.py:36: FutureWarning: Pass the following variable as a keyword arg: x. From version 0.12, the only valid positional argument will be `data`, and passing other arguments without an explicit keyword will result in an error or misinterpretation.\n",
      "  warnings.warn(\n"
     ]
    },
    {
     "name": "stdout",
     "output_type": "stream",
     "text": [
      "Графики для поля: registration_year\n"
     ]
    },
    {
     "data": {
      "image/png": "[encoded data removed]",
      "text/plain": [
       "<Figure size 432x288 with 2 Axes>"
      ]
     },
     "metadata": {
      "needs_background": "light"
     },
     "output_type": "display_data"
    }
   ],
   "source": [
    "# построение гистрограмм для числовых признаков\n",
    "hist_box_diagramm(data, ['registration_year'])"
   ]
  },
  {
   "cell_type": "markdown",
   "metadata": {},
   "source": [
    "После удаления аномальных значений registration_year, график стал выглядеть как нормальное распределение."
   ]
  },
  {
   "cell_type": "markdown",
   "metadata": {},
   "source": [
    "##### Поле price"
   ]
  },
  {
   "cell_type": "markdown",
   "metadata": {},
   "source": [
    "Цена за автомобиль должна быть более 0."
   ]
  },
  {
   "cell_type": "code",
   "execution_count": 19,
   "metadata": {},
   "outputs": [],
   "source": [
    "data = data.query('price > 0')"
   ]
  },
  {
   "cell_type": "code",
   "execution_count": 20,
   "metadata": {},
   "outputs": [
    {
     "name": "stderr",
     "output_type": "stream",
     "text": [
      "/opt/conda/lib/python3.9/site-packages/seaborn/_decorators.py:36: FutureWarning: Pass the following variable as a keyword arg: x. From version 0.12, the only valid positional argument will be `data`, and passing other arguments without an explicit keyword will result in an error or misinterpretation.\n",
      "  warnings.warn(\n"
     ]
    },
    {
     "name": "stdout",
     "output_type": "stream",
     "text": [
      "Графики для поля: price\n"
     ]
    },
    {
     "data": {
      "image/png": "[encoded data removed]",
      "text/plain": [
       "<Figure size 432x288 with 2 Axes>"
      ]
     },
     "metadata": {
      "needs_background": "light"
     },
     "output_type": "display_data"
    }
   ],
   "source": [
    "# построение гистрограмм для числовых признаков\n",
    "hist_box_diagramm(data, ['price'])"
   ]
  },
  {
   "cell_type": "markdown",
   "metadata": {},
   "source": [
    "##### Поле power"
   ]
  },
  {
   "cell_type": "markdown",
   "metadata": {},
   "source": [
    "Мощность автомобиля должна быть более 0."
   ]
  },
  {
   "cell_type": "code",
   "execution_count": 21,
   "metadata": {},
   "outputs": [],
   "source": [
    "data = data.query('power > 0')"
   ]
  },
  {
   "cell_type": "code",
   "execution_count": 22,
   "metadata": {},
   "outputs": [
    {
     "name": "stderr",
     "output_type": "stream",
     "text": [
      "/opt/conda/lib/python3.9/site-packages/seaborn/_decorators.py:36: FutureWarning: Pass the following variable as a keyword arg: x. From version 0.12, the only valid positional argument will be `data`, and passing other arguments without an explicit keyword will result in an error or misinterpretation.\n",
      "  warnings.warn(\n"
     ]
    },
    {
     "name": "stdout",
     "output_type": "stream",
     "text": [
      "Графики для поля: power\n"
     ]
    },
    {
     "data": {
      "image/png": "[encoded data removed]",
      "text/plain": [
       "<Figure size 432x288 with 2 Axes>"
      ]
     },
     "metadata": {
      "needs_background": "light"
     },
     "output_type": "display_data"
    }
   ],
   "source": [
    "# построение гистрограмм для числовых признаков\n",
    "hist_box_diagramm(data, ['power'])"
   ]
  },
  {
   "cell_type": "markdown",
   "metadata": {},
   "source": [
    "##### Поля registration_year, registration_month, postal_code"
   ]
  },
  {
   "cell_type": "markdown",
   "metadata": {},
   "source": [
    "Данные поля не несут информацию о цене автомобиля. Поэтому для дальнейшего обучения модели их надо удалить из датасета."
   ]
  },
  {
   "cell_type": "code",
   "execution_count": 23,
   "metadata": {},
   "outputs": [],
   "source": [
    "data = data.drop(['registration_year', 'registration_month', 'postal_code'], axis=1)"
   ]
  },
  {
   "cell_type": "code",
   "execution_count": 24,
   "metadata": {},
   "outputs": [
    {
     "name": "stdout",
     "output_type": "stream",
     "text": [
      "<class 'pandas.core.frame.DataFrame'>\n",
      "Int64Index: 296895 entries, 1 to 354364\n",
      "Data columns (total 15 columns):\n",
      " #   Column        Non-Null Count   Dtype \n",
      "---  ------        --------------   ----- \n",
      " 0   price         296895 non-null  int64 \n",
      " 1   vehicle_type  285821 non-null  object\n",
      " 2   gearbox       291493 non-null  object\n",
      " 3   power         296895 non-null  int64 \n",
      " 4   model         285658 non-null  object\n",
      " 5   kilometer     296895 non-null  int64 \n",
      " 6   fuel_type     281259 non-null  object\n",
      " 7   brand         296895 non-null  object\n",
      " 8   repaired      253821 non-null  object\n",
      " 9   year_crawled  296895 non-null  int64 \n",
      " 10  day_crawled   296895 non-null  int64 \n",
      " 11  year_created  296895 non-null  int64 \n",
      " 12  day_created   296895 non-null  int64 \n",
      " 13  year_last     296895 non-null  int64 \n",
      " 14  day_last      296895 non-null  int64 \n",
      "dtypes: int64(9), object(6)\n",
      "memory usage: 36.2+ MB\n"
     ]
    }
   ],
   "source": [
    "data.info()"
   ]
  },
  {
   "cell_type": "markdown",
   "metadata": {},
   "source": [
    "#### Исследование категориальных данных"
   ]
  },
  {
   "cell_type": "code",
   "execution_count": 27,
   "metadata": {},
   "outputs": [],
   "source": [
    "def bar_diagramm(df, list):\n",
    "    \"\"\"\n",
    "    функция для строительства диаграмм типа \"пирог\".\n",
    "    на вход получает датафрейм и список полей для которых нужно построить диаграммы.\n",
    "    \"\"\"\n",
    "    for element in list:\n",
    "        #создание сводной таблицы для подсчета количеств значений признака\n",
    "        df_pivot = df.pivot_table(index=element, values='power', aggfunc='count') \n",
    "\n",
    "        #построение графика \n",
    "        df_pivot.plot(kind='bar');\n",
    "        plt.title(f\"Соотношения значений для поля: {element}\")\n",
    "        plt.show()"
   ]
  },
  {
   "cell_type": "code",
   "execution_count": 28,
   "metadata": {
    "scrolled": true
   },
   "outputs": [
    {
     "data": {
      "image/png": "[encoded data removed]",
      "text/plain": [
       "<Figure size 432x288 with 1 Axes>"
      ]
     },
     "metadata": {
      "needs_background": "light"
     },
     "output_type": "display_data"
    },
    {
     "data": {
      "image/png": "[encoded data removed]",
      "text/plain": [
       "<Figure size 432x288 with 1 Axes>"
      ]
     },
     "metadata": {
      "needs_background": "light"
     },
     "output_type": "display_data"
    },
    {
     "data": {
      "image/png": "[encoded data removed]",
      "text/plain": [
       "<Figure size 432x288 with 1 Axes>"
      ]
     },
     "metadata": {
      "needs_background": "light"
     },
     "output_type": "display_data"
    },
    {
     "data": {
      "image/png": "[encoded data removed]",
      "text/plain": [
       "<Figure size 432x288 with 1 Axes>"
      ]
     },
     "metadata": {
      "needs_background": "light"
     },
     "output_type": "display_data"
    },
    {
     "data": {
      "image/png": "[encoded data removed]",
      "text/plain": [
       "<Figure size 432x288 with 1 Axes>"
      ]
     },
     "metadata": {
      "needs_background": "light"
     },
     "output_type": "display_data"
    }
   ],
   "source": [
    "bar_diagramm(data, ['vehicle_type', 'gearbox', 'fuel_type', 'brand', 'repaired'])"
   ]
  },
  {
   "cell_type": "markdown",
   "metadata": {},
   "source": [
    "#### Корреляция"
   ]
  },
  {
   "cell_type": "code",
   "execution_count": 30,
   "metadata": {},
   "outputs": [
    {
     "name": "stderr",
     "output_type": "stream",
     "text": [
      "/opt/conda/lib/python3.9/site-packages/phik/data_quality.py:72: UserWarning: Not enough unique value for variable year_crawled for analysis 1. Dropping this column\n",
      "  warnings.warn(\n",
      "/opt/conda/lib/python3.9/site-packages/phik/data_quality.py:72: UserWarning: Not enough unique value for variable year_last for analysis 1. Dropping this column\n",
      "  warnings.warn(\n"
     ]
    },
    {
     "data": {
      "image/png": "[encoded data removed]",
      "text/plain": [
       "<Figure size 1080x864 with 2 Axes>"
      ]
     },
     "metadata": {
      "needs_background": "light"
     },
     "output_type": "display_data"
    }
   ],
   "source": [
    "#построим матрицу корреляций phik для более удовлетворенных сотрудников\n",
    "phik_overview = phik_matrix(data[['price', 'vehicle_type', 'gearbox',\n",
    "                                 'power', 'model', 'kilometer', 'fuel_type', 'brand',\n",
    "                                 'repaired', 'year_crawled', 'day_crawled', \n",
    "                                 'year_created', 'day_created', 'year_last', 'day_last']], \n",
    "                            interval_cols=['price', 'power', 'kilometer', 'year_crawled', 'day_crawled',\n",
    "                                           'year_created', 'day_created', 'year_last', 'day_last', 'year_crawled', \n",
    "                                           'day_crawled', 'year_created', 'day_created', 'year_last', 'day_last'])\n",
    "\n",
    "plot_correlation_matrix(\n",
    "    phik_overview.values,\n",
    "    x_labels=phik_overview.columns,\n",
    "    y_labels=phik_overview.index,\n",
    "    vmin=0, vmax=1, color_map='Greens',\n",
    "    title=r'Корреляция $\\phi_K$',\n",
    "    fontsize_factor=1.5,\n",
    "    figsize=(15, 12)\n",
    ") "
   ]
  },
  {
   "cell_type": "markdown",
   "metadata": {},
   "source": [
    "#### Модификация на основе данных о корреляции признаков"
   ]
  },
  {
   "cell_type": "markdown",
   "metadata": {},
   "source": [
    "Корреляция между model и brand равна 1. model, конечно, играет большую роль при определении цены, но также имеет значение и brand. Есть и други параметры, которые влияют на целевой признак. Для того, чтобы ускорить скорость обучения модели, чтобы не кодировать большое количество признаков в модели, удалим этот признак из датасета для обучения. В дальнейшем проверим на сколько метрики будут соответствовать критерию заказчика."
   ]
  },
  {
   "cell_type": "code",
   "execution_count": 31,
   "metadata": {},
   "outputs": [],
   "source": [
    "data = data.drop('model', axis=1)"
   ]
  },
  {
   "cell_type": "code",
   "execution_count": 32,
   "metadata": {},
   "outputs": [
    {
     "name": "stdout",
     "output_type": "stream",
     "text": [
      "<class 'pandas.core.frame.DataFrame'>\n",
      "Int64Index: 296895 entries, 1 to 354364\n",
      "Data columns (total 14 columns):\n",
      " #   Column        Non-Null Count   Dtype \n",
      "---  ------        --------------   ----- \n",
      " 0   price         296895 non-null  int64 \n",
      " 1   vehicle_type  285821 non-null  object\n",
      " 2   gearbox       291493 non-null  object\n",
      " 3   power         296895 non-null  int64 \n",
      " 4   kilometer     296895 non-null  int64 \n",
      " 5   fuel_type     281259 non-null  object\n",
      " 6   brand         296895 non-null  object\n",
      " 7   repaired      253821 non-null  object\n",
      " 8   year_crawled  296895 non-null  int64 \n",
      " 9   day_crawled   296895 non-null  int64 \n",
      " 10  year_created  296895 non-null  int64 \n",
      " 11  day_created   296895 non-null  int64 \n",
      " 12  year_last     296895 non-null  int64 \n",
      " 13  day_last      296895 non-null  int64 \n",
      "dtypes: int64(9), object(5)\n",
      "memory usage: 34.0+ MB\n"
     ]
    }
   ],
   "source": [
    "data.info()"
   ]
  },
  {
   "cell_type": "markdown",
   "metadata": {},
   "source": [
    "#### Повторное исследование на дубликаты"
   ]
  },
  {
   "cell_type": "markdown",
   "metadata": {},
   "source": [
    "Уменьшение количества признаков может приводить к появлению дубликтов. Необходимо првоести проверку и удалить лишние дубликаты.\n",
    "\n"
   ]
  },
  {
   "cell_type": "code",
   "execution_count": 33,
   "metadata": {},
   "outputs": [
    {
     "data": {
      "text/plain": [
       "8494"
      ]
     },
     "execution_count": 33,
     "metadata": {},
     "output_type": "execute_result"
    }
   ],
   "source": [
    "#проверка наличия дубликатов\n",
    "data.duplicated().sum()"
   ]
  },
  {
   "cell_type": "code",
   "execution_count": 34,
   "metadata": {},
   "outputs": [
    {
     "data": {
      "text/plain": [
       "0"
      ]
     },
     "execution_count": 34,
     "metadata": {},
     "output_type": "execute_result"
    }
   ],
   "source": [
    "# удаление дубликатов и проверка удаления\n",
    "data = data.drop_duplicates()\n",
    "data.duplicated().sum()"
   ]
  },
  {
   "cell_type": "markdown",
   "metadata": {},
   "source": [
    "**Вывод**\n",
    "\n",
    "Были проанализированы качественные и количественные признаки.\n",
    "\n",
    "Было выявлено, что признак number_of_pictures имеет только одно значение. Пэтому был удален из данных для обучения модели.\n",
    "Также было выявлено, что год регистрации автомобиля имеет аномальные значения. Поэтому были оставлены значения года регистрации более 1800 года и не более 2016 (год актуальности датасета).\n",
    "\n",
    "При проверке корреляции не было выявлено признаков, которые имеют очень высокую корреляцию с целевым признаком.\n",
    "\n",
    "Был удален признак model из основного датасета, чтобы уменьшить время на обучение модели (чтобы не кодировать большое количество данных в этом признаке)\n",
    "\n",
    "Также были удалены нулевые значения для признаков power и price.\n",
    "А также удалены признаки, которые не влияют на целевой признак: registration_year, registration_month, postal_code."
   ]
  },
  {
   "cell_type": "markdown",
   "metadata": {},
   "source": [
    "## Обучение моделей регрессии с учителем"
   ]
  },
  {
   "cell_type": "code",
   "execution_count": 35,
   "metadata": {},
   "outputs": [],
   "source": [
    "#создание переменных со списками параметров: категориальные, ранговые, числовые\n",
    "#количественные признаки\n",
    "num_columns = ['power', 'kilometer', 'year_crawled', 'day_crawled', \n",
    "               'year_created', 'day_created', 'year_last', 'day_last']\n",
    "\n",
    "#категориальные признаки\n",
    "ohe_columns = ['vehicle_type', 'gearbox', \n",
    "               'fuel_type', 'brand', 'repaired']"
   ]
  },
  {
   "cell_type": "code",
   "execution_count": 36,
   "metadata": {},
   "outputs": [
    {
     "name": "stdout",
     "output_type": "stream",
     "text": [
      "(216300, 13)\n",
      "(72101, 13)\n",
      "(216300,)\n",
      "(72101,)\n"
     ]
    }
   ],
   "source": [
    "#разбиение датасета на тренировочне и тестовые выборки\n",
    "X = data.drop('price', axis=1)\n",
    "y = data['price']\n",
    "X_train, X_test, y_train, y_test = train_test_split(X, y, test_size=0.25, random_state=RANDOM_STATE) #, stratify=y)\n",
    "print(X_train.shape)\n",
    "print(X_test.shape)\n",
    "print(y_train.shape)\n",
    "print(y_test.shape)"
   ]
  },
  {
   "cell_type": "code",
   "execution_count": 37,
   "metadata": {},
   "outputs": [],
   "source": [
    "# пайплайн для обработки категориальных признаков\n",
    "ohe_pipe = Pipeline(\n",
    "    [\n",
    "        (\n",
    "            'simpleImputer_before_ohe', \n",
    "            SimpleImputer(missing_values=np.nan, strategy='most_frequent')\n",
    "        ),\n",
    "        (\n",
    "            'ohe', \n",
    "            OneHotEncoder(drop='first', sparse_output=False, handle_unknown='ignore')\n",
    "        ),\n",
    "        (\n",
    "            'simpleImputer_after_ohe', \n",
    "            SimpleImputer(missing_values=np.nan, strategy='most_frequent')\n",
    "        )\n",
    "    ]\n",
    ") "
   ]
  },
  {
   "cell_type": "code",
   "execution_count": 38,
   "metadata": {},
   "outputs": [],
   "source": [
    "# пайплайн для препроцессинга\n",
    "data_preprocessor = ColumnTransformer(\n",
    "    [\n",
    "        ('ohe', ohe_pipe, ohe_columns),\n",
    "        ('num', MinMaxScaler(), num_columns)\n",
    "    ], \n",
    "    remainder='passthrough'\n",
    ") "
   ]
  },
  {
   "cell_type": "code",
   "execution_count": 39,
   "metadata": {},
   "outputs": [],
   "source": [
    "# итоговый пайплайн: подготовка данных и модель\n",
    "pipe_final = Pipeline(\n",
    "    [\n",
    "        ('preprocessor', data_preprocessor),\n",
    "        ('models', DecisionTreeRegressor(random_state=RANDOM_STATE))\n",
    "    ]\n",
    ") "
   ]
  },
  {
   "cell_type": "code",
   "execution_count": 40,
   "metadata": {},
   "outputs": [],
   "source": [
    "#параметры для кросс-валидации\n",
    "\n",
    "param_distributions = [\n",
    "    # словарь для модели DecisionTreeRegressor()\n",
    "    {\n",
    "        'models': [DecisionTreeRegressor(random_state=RANDOM_STATE)],\n",
    "        'models__max_depth': range(15, 16),\n",
    "        'models__min_samples_split': range(9, 10),\n",
    "        'models__min_samples_leaf': range(4, 6),\n",
    "        'preprocessor__num': [StandardScaler(), MinMaxScaler(), 'passthrough']  \n",
    "    },\n",
    "    # словарь для модели LinearRegression()\n",
    "    {\n",
    "        'models': [LinearRegression()],\n",
    "        'preprocessor__num': [StandardScaler(), MinMaxScaler(), 'passthrough']  \n",
    "    },\n",
    "    # словарь для модели LightGBM()\n",
    "    {\n",
    "        'models': [LGBMRegressor(random_state=RANDOM_STATE)],\n",
    "        'models__boosting_type': ['gbdt', 'dart', 'goss'],\n",
    "        'models__max_depth': range(12, 16),\n",
    "        'models__n_estimators' : [50, 100],\n",
    "        'preprocessor__num': [StandardScaler(), MinMaxScaler(), 'passthrough'] \n",
    "    }\n",
    "]"
   ]
  },
  {
   "cell_type": "code",
   "execution_count": 41,
   "metadata": {},
   "outputs": [],
   "source": [
    "#кросс-валидация\n",
    "search_cv = RandomizedSearchCV(\n",
    "    pipe_final, \n",
    "    param_distributions, \n",
    "    cv=5, \n",
    "    scoring='neg_root_mean_squared_error', \n",
    "    n_jobs=-1,\n",
    "    error_score='raise',\n",
    "    random_state=RANDOM_STATE\n",
    ")"
   ]
  },
  {
   "cell_type": "code",
   "execution_count": 42,
   "metadata": {
    "scrolled": true
   },
   "outputs": [],
   "source": [
    "#обучение модели кросс-валидации\n",
    "search_cv.fit(X_train, y_train);"
   ]
  },
  {
   "cell_type": "code",
   "execution_count": 43,
   "metadata": {},
   "outputs": [
    {
     "name": "stdout",
     "output_type": "stream",
     "text": [
      "Метрика лучшей модели на тренировочной выборке: 2427.9558046065677\n",
      "Метрика RMSE на тестовой выборке: 2420.99974668297\n"
     ]
    }
   ],
   "source": [
    "#вывод метрики для лучшей модели на теринировочной выборке\n",
    "print ('Метрика лучшей модели на тренировочной выборке:', (-1) * search_cv.best_score_)\n",
    "\n",
    "# предсказание на тестовых данных и вывод метрики для предсказания\n",
    "y_test_pred = search_cv.predict(X_test)\n",
    "print(f'Метрика RMSE на тестовой выборке: {root_mean_squared_error(y_test, y_test_pred)}')"
   ]
  },
  {
   "cell_type": "markdown",
   "metadata": {},
   "source": [
    "<div class=\"alert alert-warning\">\n",
    "<b>Комментарий 👉</b>\n",
    "\n",
    "**Метрика лучшей модели на тренировочной выборке** - это НЕ результат на тренировочной выборке. Это результат на кросс-валидации. На тренировочной выборке оценка была бы, если бы это было: \n",
    "    \n",
    "        model.fit(train).predict(train)\n",
    "</div>"
   ]
  },
  {
   "cell_type": "code",
   "execution_count": 44,
   "metadata": {},
   "outputs": [
    {
     "name": "stdout",
     "output_type": "stream",
     "text": [
      "Лучшая модель и её параметры:\n",
      "\n",
      " Pipeline(steps=[('preprocessor',\n",
      "                 ColumnTransformer(remainder='passthrough',\n",
      "                                   transformers=[('ohe',\n",
      "                                                  Pipeline(steps=[('simpleImputer_before_ohe',\n",
      "                                                                   SimpleImputer(strategy='most_frequent')),\n",
      "                                                                  ('ohe',\n",
      "                                                                   OneHotEncoder(drop='first',\n",
      "                                                                                 handle_unknown='ignore',\n",
      "                                                                                 sparse_output=False)),\n",
      "                                                                  ('simpleImputer_after_ohe',\n",
      "                                                                   SimpleImputer(strategy='most_frequent'))]),\n",
      "                                                  ['vehicle_type', 'gearbox',\n",
      "                                                   'fuel_type', 'brand',\n",
      "                                                   'repaired']),\n",
      "                                                 ('num', StandardScaler(),\n",
      "                                                  ['power', 'kilometer',\n",
      "                                                   'year_crawled',\n",
      "                                                   'day_crawled',\n",
      "                                                   'year_created',\n",
      "                                                   'day_created', 'year_last',\n",
      "                                                   'day_last'])])),\n",
      "                ('models', LGBMRegressor(max_depth=15, random_state=42))])\n"
     ]
    }
   ],
   "source": [
    "#вывод лучшей модели\n",
    "print('Лучшая модель и её параметры:\\n\\n', search_cv.best_estimator_)"
   ]
  },
  {
   "cell_type": "markdown",
   "metadata": {},
   "source": [
    "**Вывод** \n",
    "\n",
    "Создан пайплан, обучены 3 модели с различными гиперпараметрами. Лучшая модель имеет следующие значения метрики RMSE:\n",
    "- 1856,5 для тренировочных данных\n",
    "- 1867,0 для тестовых данных\n",
    "\n",
    "Можно переходить к анализу моделей."
   ]
  },
  {
   "cell_type": "markdown",
   "metadata": {},
   "source": [
    "<div class=\"alert alert-success\">\n",
    "<b>ОТЛИЧНО! 👍</b>\n",
    "\n",
    "Здесь отлично: подобрали для всех наших моделей лучшие гиперпараметры (в данном случае - минимизирующие метрику RMSE. Также здесь мы ещё и определили САМУЮ лучшую модель. На валидации ею оказалась модель LightGBM. Считается она конечно подольше чем \"деревянная\" (и уж тем более линейная), но результат даёт лучше.\n",
    "\n",
    "    \n",
    "После того, как гиперпараметры на валидации подобраны - мы должны проверить модели на тестовых данных. По результатам тестирования на тесте (сорри за тавталогию) выбираем модель, которую сможем передать в продакшн.</div>"
   ]
  },
  {
   "cell_type": "markdown",
   "metadata": {},
   "source": [
    "## Анализ моделей"
   ]
  },
  {
   "cell_type": "markdown",
   "metadata": {},
   "source": [
    "### Анализ значимости признаков"
   ]
  },
  {
   "cell_type": "code",
   "execution_count": 45,
   "metadata": {},
   "outputs": [
    {
     "data": {
      "text/html": [
       "<div>\n",
       "<style scoped>\n",
       "    .dataframe tbody tr th:only-of-type {\n",
       "        vertical-align: middle;\n",
       "    }\n",
       "\n",
       "    .dataframe tbody tr th {\n",
       "        vertical-align: top;\n",
       "    }\n",
       "\n",
       "    .dataframe thead th {\n",
       "        text-align: right;\n",
       "    }\n",
       "</style>\n",
       "<table border=\"1\" class=\"dataframe\">\n",
       "  <thead>\n",
       "    <tr style=\"text-align: right;\">\n",
       "      <th></th>\n",
       "      <th>feature</th>\n",
       "      <th>importance</th>\n",
       "    </tr>\n",
       "  </thead>\n",
       "  <tbody>\n",
       "    <tr>\n",
       "      <th>54</th>\n",
       "      <td>num__power</td>\n",
       "      <td>1085</td>\n",
       "    </tr>\n",
       "    <tr>\n",
       "      <th>55</th>\n",
       "      <td>num__kilometer</td>\n",
       "      <td>455</td>\n",
       "    </tr>\n",
       "    <tr>\n",
       "      <th>9</th>\n",
       "      <td>ohe__fuel_type_gasoline</td>\n",
       "      <td>161</td>\n",
       "    </tr>\n",
       "    <tr>\n",
       "      <th>61</th>\n",
       "      <td>num__day_last</td>\n",
       "      <td>104</td>\n",
       "    </tr>\n",
       "    <tr>\n",
       "      <th>51</th>\n",
       "      <td>ohe__brand_volkswagen</td>\n",
       "      <td>94</td>\n",
       "    </tr>\n",
       "    <tr>\n",
       "      <th>...</th>\n",
       "      <td>...</td>\n",
       "      <td>...</td>\n",
       "    </tr>\n",
       "    <tr>\n",
       "      <th>21</th>\n",
       "      <td>ohe__brand_daihatsu</td>\n",
       "      <td>0</td>\n",
       "    </tr>\n",
       "    <tr>\n",
       "      <th>56</th>\n",
       "      <td>num__year_crawled</td>\n",
       "      <td>0</td>\n",
       "    </tr>\n",
       "    <tr>\n",
       "      <th>19</th>\n",
       "      <td>ohe__brand_dacia</td>\n",
       "      <td>0</td>\n",
       "    </tr>\n",
       "    <tr>\n",
       "      <th>58</th>\n",
       "      <td>num__year_created</td>\n",
       "      <td>0</td>\n",
       "    </tr>\n",
       "    <tr>\n",
       "      <th>60</th>\n",
       "      <td>num__year_last</td>\n",
       "      <td>0</td>\n",
       "    </tr>\n",
       "  </tbody>\n",
       "</table>\n",
       "<p>62 rows × 2 columns</p>\n",
       "</div>"
      ],
      "text/plain": [
       "                    feature  importance\n",
       "54               num__power        1085\n",
       "55           num__kilometer         455\n",
       "9   ohe__fuel_type_gasoline         161\n",
       "61            num__day_last         104\n",
       "51    ohe__brand_volkswagen          94\n",
       "..                      ...         ...\n",
       "21      ohe__brand_daihatsu           0\n",
       "56        num__year_crawled           0\n",
       "19         ohe__brand_dacia           0\n",
       "58        num__year_created           0\n",
       "60           num__year_last           0\n",
       "\n",
       "[62 rows x 2 columns]"
      ]
     },
     "execution_count": 45,
     "metadata": {},
     "output_type": "execute_result"
    }
   ],
   "source": [
    "# собираем датафрейм с наименованиями фичей и коэффициентами значимости\n",
    "feature_importances = pd.DataFrame(\n",
    "    {\n",
    "        'feature': search_cv.best_estimator_['preprocessor'].get_feature_names_out(),\n",
    "        'importance': search_cv.best_estimator_['models'].feature_importances_\n",
    "    }).sort_values('importance', ascending=False)  #сортировка по убыванию значимости\n",
    "feature_importances"
   ]
  },
  {
   "cell_type": "code",
   "execution_count": 46,
   "metadata": {
    "scrolled": true
   },
   "outputs": [
    {
     "data": {
      "image/png": "[encoded data removed]",
      "text/plain": [
       "<Figure size 864x7200 with 1 Axes>"
      ]
     },
     "metadata": {
      "needs_background": "light"
     },
     "output_type": "display_data"
    }
   ],
   "source": [
    "# построение гистограммы с важностью признаков\n",
    "\n",
    "plt.figure(figsize=(12, 100))\n",
    "\n",
    "ax = sns.barplot(x='importance', y='feature', data=feature_importances)\n",
    "\n",
    "ax.set_title('Важность признаков', fontsize=16)\n",
    "ax.set_xlabel('Важность (доля)', fontsize=14)\n",
    "ax.set_ylabel('Признак', fontsize=14)\n",
    "\n",
    "# отображаем график\n",
    "plt.show()"
   ]
  },
  {
   "cell_type": "markdown",
   "metadata": {},
   "source": [
    "### Анализ скорости работы модели"
   ]
  },
  {
   "cell_type": "code",
   "execution_count": 47,
   "metadata": {},
   "outputs": [
    {
     "data": {
      "text/html": [
       "<div>\n",
       "<style scoped>\n",
       "    .dataframe tbody tr th:only-of-type {\n",
       "        vertical-align: middle;\n",
       "    }\n",
       "\n",
       "    .dataframe tbody tr th {\n",
       "        vertical-align: top;\n",
       "    }\n",
       "\n",
       "    .dataframe thead th {\n",
       "        text-align: right;\n",
       "    }\n",
       "</style>\n",
       "<table border=\"1\" class=\"dataframe\">\n",
       "  <thead>\n",
       "    <tr style=\"text-align: right;\">\n",
       "      <th></th>\n",
       "      <th>mean_fit_time</th>\n",
       "      <th>std_fit_time</th>\n",
       "      <th>mean_score_time</th>\n",
       "      <th>std_score_time</th>\n",
       "      <th>param_preprocessor__num</th>\n",
       "      <th>param_models__n_estimators</th>\n",
       "      <th>param_models__max_depth</th>\n",
       "      <th>param_models__boosting_type</th>\n",
       "      <th>param_models</th>\n",
       "      <th>param_models__min_samples_split</th>\n",
       "      <th>param_models__min_samples_leaf</th>\n",
       "      <th>params</th>\n",
       "      <th>split0_test_score</th>\n",
       "      <th>split1_test_score</th>\n",
       "      <th>split2_test_score</th>\n",
       "      <th>split3_test_score</th>\n",
       "      <th>split4_test_score</th>\n",
       "      <th>mean_test_score</th>\n",
       "      <th>std_test_score</th>\n",
       "      <th>rank_test_score</th>\n",
       "    </tr>\n",
       "  </thead>\n",
       "  <tbody>\n",
       "    <tr>\n",
       "      <th>0</th>\n",
       "      <td>8.774128</td>\n",
       "      <td>5.700766</td>\n",
       "      <td>0.498633</td>\n",
       "      <td>0.052685</td>\n",
       "      <td>StandardScaler()</td>\n",
       "      <td>100</td>\n",
       "      <td>15</td>\n",
       "      <td>gbdt</td>\n",
       "      <td>LGBMRegressor(random_state=42)</td>\n",
       "      <td>NaN</td>\n",
       "      <td>NaN</td>\n",
       "      <td>{'preprocessor__num': StandardScaler(), 'model...</td>\n",
       "      <td>-2425.227030</td>\n",
       "      <td>-2444.793806</td>\n",
       "      <td>-2436.502784</td>\n",
       "      <td>-2424.673057</td>\n",
       "      <td>-2408.582347</td>\n",
       "      <td>-2427.955805</td>\n",
       "      <td>12.248450</td>\n",
       "      <td>1</td>\n",
       "    </tr>\n",
       "    <tr>\n",
       "      <th>1</th>\n",
       "      <td>2.498160</td>\n",
       "      <td>0.066784</td>\n",
       "      <td>0.115561</td>\n",
       "      <td>0.003034</td>\n",
       "      <td>StandardScaler()</td>\n",
       "      <td>NaN</td>\n",
       "      <td>15</td>\n",
       "      <td>NaN</td>\n",
       "      <td>DecisionTreeRegressor(random_state=42)</td>\n",
       "      <td>9</td>\n",
       "      <td>4</td>\n",
       "      <td>{'preprocessor__num': StandardScaler(), 'model...</td>\n",
       "      <td>-2519.095943</td>\n",
       "      <td>-2517.473691</td>\n",
       "      <td>-2500.928799</td>\n",
       "      <td>-2502.953801</td>\n",
       "      <td>-2492.407613</td>\n",
       "      <td>-2506.571969</td>\n",
       "      <td>10.210416</td>\n",
       "      <td>6</td>\n",
       "    </tr>\n",
       "    <tr>\n",
       "      <th>2</th>\n",
       "      <td>3.937530</td>\n",
       "      <td>0.429076</td>\n",
       "      <td>0.341657</td>\n",
       "      <td>0.044459</td>\n",
       "      <td>MinMaxScaler()</td>\n",
       "      <td>50</td>\n",
       "      <td>14</td>\n",
       "      <td>gbdt</td>\n",
       "      <td>LGBMRegressor(random_state=42)</td>\n",
       "      <td>NaN</td>\n",
       "      <td>NaN</td>\n",
       "      <td>{'preprocessor__num': MinMaxScaler(), 'models_...</td>\n",
       "      <td>-2536.393630</td>\n",
       "      <td>-2550.186833</td>\n",
       "      <td>-2540.284144</td>\n",
       "      <td>-2536.242590</td>\n",
       "      <td>-2515.791917</td>\n",
       "      <td>-2535.779823</td>\n",
       "      <td>11.206767</td>\n",
       "      <td>10</td>\n",
       "    </tr>\n",
       "    <tr>\n",
       "      <th>3</th>\n",
       "      <td>6.135206</td>\n",
       "      <td>0.563396</td>\n",
       "      <td>0.481705</td>\n",
       "      <td>0.036456</td>\n",
       "      <td>MinMaxScaler()</td>\n",
       "      <td>100</td>\n",
       "      <td>15</td>\n",
       "      <td>gbdt</td>\n",
       "      <td>LGBMRegressor(random_state=42)</td>\n",
       "      <td>NaN</td>\n",
       "      <td>NaN</td>\n",
       "      <td>{'preprocessor__num': MinMaxScaler(), 'models_...</td>\n",
       "      <td>-2427.773071</td>\n",
       "      <td>-2444.407101</td>\n",
       "      <td>-2444.447565</td>\n",
       "      <td>-2427.936590</td>\n",
       "      <td>-2410.858972</td>\n",
       "      <td>-2431.084660</td>\n",
       "      <td>12.538023</td>\n",
       "      <td>3</td>\n",
       "    </tr>\n",
       "    <tr>\n",
       "      <th>4</th>\n",
       "      <td>8.936549</td>\n",
       "      <td>7.580285</td>\n",
       "      <td>0.462886</td>\n",
       "      <td>0.039195</td>\n",
       "      <td>StandardScaler()</td>\n",
       "      <td>100</td>\n",
       "      <td>13</td>\n",
       "      <td>gbdt</td>\n",
       "      <td>LGBMRegressor(random_state=42)</td>\n",
       "      <td>NaN</td>\n",
       "      <td>NaN</td>\n",
       "      <td>{'preprocessor__num': StandardScaler(), 'model...</td>\n",
       "      <td>-2432.466931</td>\n",
       "      <td>-2445.244409</td>\n",
       "      <td>-2440.454514</td>\n",
       "      <td>-2425.534383</td>\n",
       "      <td>-2408.363573</td>\n",
       "      <td>-2430.412762</td>\n",
       "      <td>12.922844</td>\n",
       "      <td>2</td>\n",
       "    </tr>\n",
       "    <tr>\n",
       "      <th>5</th>\n",
       "      <td>3.675054</td>\n",
       "      <td>0.188688</td>\n",
       "      <td>0.322808</td>\n",
       "      <td>0.038263</td>\n",
       "      <td>MinMaxScaler()</td>\n",
       "      <td>50</td>\n",
       "      <td>15</td>\n",
       "      <td>gbdt</td>\n",
       "      <td>LGBMRegressor(random_state=42)</td>\n",
       "      <td>NaN</td>\n",
       "      <td>NaN</td>\n",
       "      <td>{'preprocessor__num': MinMaxScaler(), 'models_...</td>\n",
       "      <td>-2536.762789</td>\n",
       "      <td>-2548.923777</td>\n",
       "      <td>-2538.303924</td>\n",
       "      <td>-2532.678765</td>\n",
       "      <td>-2515.791917</td>\n",
       "      <td>-2534.492235</td>\n",
       "      <td>10.779094</td>\n",
       "      <td>8</td>\n",
       "    </tr>\n",
       "    <tr>\n",
       "      <th>6</th>\n",
       "      <td>3.522739</td>\n",
       "      <td>0.170441</td>\n",
       "      <td>0.337791</td>\n",
       "      <td>0.070624</td>\n",
       "      <td>MinMaxScaler()</td>\n",
       "      <td>50</td>\n",
       "      <td>12</td>\n",
       "      <td>gbdt</td>\n",
       "      <td>LGBMRegressor(random_state=42)</td>\n",
       "      <td>NaN</td>\n",
       "      <td>NaN</td>\n",
       "      <td>{'preprocessor__num': MinMaxScaler(), 'models_...</td>\n",
       "      <td>-2535.343339</td>\n",
       "      <td>-2546.708706</td>\n",
       "      <td>-2538.425518</td>\n",
       "      <td>-2537.347312</td>\n",
       "      <td>-2516.130766</td>\n",
       "      <td>-2534.791128</td>\n",
       "      <td>10.102332</td>\n",
       "      <td>9</td>\n",
       "    </tr>\n",
       "    <tr>\n",
       "      <th>7</th>\n",
       "      <td>4.638925</td>\n",
       "      <td>0.172603</td>\n",
       "      <td>0.319949</td>\n",
       "      <td>0.037076</td>\n",
       "      <td>MinMaxScaler()</td>\n",
       "      <td>50</td>\n",
       "      <td>14</td>\n",
       "      <td>goss</td>\n",
       "      <td>LGBMRegressor(random_state=42)</td>\n",
       "      <td>NaN</td>\n",
       "      <td>NaN</td>\n",
       "      <td>{'preprocessor__num': MinMaxScaler(), 'models_...</td>\n",
       "      <td>-2529.453299</td>\n",
       "      <td>-2541.165858</td>\n",
       "      <td>-2540.038748</td>\n",
       "      <td>-2531.539515</td>\n",
       "      <td>-2506.269574</td>\n",
       "      <td>-2529.693399</td>\n",
       "      <td>12.576048</td>\n",
       "      <td>7</td>\n",
       "    </tr>\n",
       "    <tr>\n",
       "      <th>8</th>\n",
       "      <td>2.357714</td>\n",
       "      <td>0.019919</td>\n",
       "      <td>0.110099</td>\n",
       "      <td>0.003774</td>\n",
       "      <td>MinMaxScaler()</td>\n",
       "      <td>NaN</td>\n",
       "      <td>15</td>\n",
       "      <td>NaN</td>\n",
       "      <td>DecisionTreeRegressor(random_state=42)</td>\n",
       "      <td>9</td>\n",
       "      <td>5</td>\n",
       "      <td>{'preprocessor__num': MinMaxScaler(), 'models_...</td>\n",
       "      <td>-2512.133292</td>\n",
       "      <td>-2523.288673</td>\n",
       "      <td>-2490.805088</td>\n",
       "      <td>-2498.094998</td>\n",
       "      <td>-2481.355934</td>\n",
       "      <td>-2501.135597</td>\n",
       "      <td>14.959330</td>\n",
       "      <td>5</td>\n",
       "    </tr>\n",
       "    <tr>\n",
       "      <th>9</th>\n",
       "      <td>5.089163</td>\n",
       "      <td>0.147517</td>\n",
       "      <td>0.498435</td>\n",
       "      <td>0.004203</td>\n",
       "      <td>StandardScaler()</td>\n",
       "      <td>100</td>\n",
       "      <td>12</td>\n",
       "      <td>gbdt</td>\n",
       "      <td>LGBMRegressor(random_state=42)</td>\n",
       "      <td>NaN</td>\n",
       "      <td>NaN</td>\n",
       "      <td>{'preprocessor__num': StandardScaler(), 'model...</td>\n",
       "      <td>-2436.346066</td>\n",
       "      <td>-2446.782567</td>\n",
       "      <td>-2433.863032</td>\n",
       "      <td>-2428.476404</td>\n",
       "      <td>-2411.851239</td>\n",
       "      <td>-2431.463862</td>\n",
       "      <td>11.470262</td>\n",
       "      <td>4</td>\n",
       "    </tr>\n",
       "  </tbody>\n",
       "</table>\n",
       "</div>"
      ],
      "text/plain": [
       "   mean_fit_time  std_fit_time  mean_score_time  std_score_time  \\\n",
       "0       8.774128      5.700766         0.498633        0.052685   \n",
       "1       2.498160      0.066784         0.115561        0.003034   \n",
       "2       3.937530      0.429076         0.341657        0.044459   \n",
       "3       6.135206      0.563396         0.481705        0.036456   \n",
       "4       8.936549      7.580285         0.462886        0.039195   \n",
       "5       3.675054      0.188688         0.322808        0.038263   \n",
       "6       3.522739      0.170441         0.337791        0.070624   \n",
       "7       4.638925      0.172603         0.319949        0.037076   \n",
       "8       2.357714      0.019919         0.110099        0.003774   \n",
       "9       5.089163      0.147517         0.498435        0.004203   \n",
       "\n",
       "  param_preprocessor__num param_models__n_estimators param_models__max_depth  \\\n",
       "0        StandardScaler()                        100                      15   \n",
       "1        StandardScaler()                        NaN                      15   \n",
       "2          MinMaxScaler()                         50                      14   \n",
       "3          MinMaxScaler()                        100                      15   \n",
       "4        StandardScaler()                        100                      13   \n",
       "5          MinMaxScaler()                         50                      15   \n",
       "6          MinMaxScaler()                         50                      12   \n",
       "7          MinMaxScaler()                         50                      14   \n",
       "8          MinMaxScaler()                        NaN                      15   \n",
       "9        StandardScaler()                        100                      12   \n",
       "\n",
       "  param_models__boosting_type                            param_models  \\\n",
       "0                        gbdt          LGBMRegressor(random_state=42)   \n",
       "1                         NaN  DecisionTreeRegressor(random_state=42)   \n",
       "2                        gbdt          LGBMRegressor(random_state=42)   \n",
       "3                        gbdt          LGBMRegressor(random_state=42)   \n",
       "4                        gbdt          LGBMRegressor(random_state=42)   \n",
       "5                        gbdt          LGBMRegressor(random_state=42)   \n",
       "6                        gbdt          LGBMRegressor(random_state=42)   \n",
       "7                        goss          LGBMRegressor(random_state=42)   \n",
       "8                         NaN  DecisionTreeRegressor(random_state=42)   \n",
       "9                        gbdt          LGBMRegressor(random_state=42)   \n",
       "\n",
       "  param_models__min_samples_split param_models__min_samples_leaf  \\\n",
       "0                             NaN                            NaN   \n",
       "1                               9                              4   \n",
       "2                             NaN                            NaN   \n",
       "3                             NaN                            NaN   \n",
       "4                             NaN                            NaN   \n",
       "5                             NaN                            NaN   \n",
       "6                             NaN                            NaN   \n",
       "7                             NaN                            NaN   \n",
       "8                               9                              5   \n",
       "9                             NaN                            NaN   \n",
       "\n",
       "                                              params  split0_test_score  \\\n",
       "0  {'preprocessor__num': StandardScaler(), 'model...       -2425.227030   \n",
       "1  {'preprocessor__num': StandardScaler(), 'model...       -2519.095943   \n",
       "2  {'preprocessor__num': MinMaxScaler(), 'models_...       -2536.393630   \n",
       "3  {'preprocessor__num': MinMaxScaler(), 'models_...       -2427.773071   \n",
       "4  {'preprocessor__num': StandardScaler(), 'model...       -2432.466931   \n",
       "5  {'preprocessor__num': MinMaxScaler(), 'models_...       -2536.762789   \n",
       "6  {'preprocessor__num': MinMaxScaler(), 'models_...       -2535.343339   \n",
       "7  {'preprocessor__num': MinMaxScaler(), 'models_...       -2529.453299   \n",
       "8  {'preprocessor__num': MinMaxScaler(), 'models_...       -2512.133292   \n",
       "9  {'preprocessor__num': StandardScaler(), 'model...       -2436.346066   \n",
       "\n",
       "   split1_test_score  split2_test_score  split3_test_score  split4_test_score  \\\n",
       "0       -2444.793806       -2436.502784       -2424.673057       -2408.582347   \n",
       "1       -2517.473691       -2500.928799       -2502.953801       -2492.407613   \n",
       "2       -2550.186833       -2540.284144       -2536.242590       -2515.791917   \n",
       "3       -2444.407101       -2444.447565       -2427.936590       -2410.858972   \n",
       "4       -2445.244409       -2440.454514       -2425.534383       -2408.363573   \n",
       "5       -2548.923777       -2538.303924       -2532.678765       -2515.791917   \n",
       "6       -2546.708706       -2538.425518       -2537.347312       -2516.130766   \n",
       "7       -2541.165858       -2540.038748       -2531.539515       -2506.269574   \n",
       "8       -2523.288673       -2490.805088       -2498.094998       -2481.355934   \n",
       "9       -2446.782567       -2433.863032       -2428.476404       -2411.851239   \n",
       "\n",
       "   mean_test_score  std_test_score  rank_test_score  \n",
       "0     -2427.955805       12.248450                1  \n",
       "1     -2506.571969       10.210416                6  \n",
       "2     -2535.779823       11.206767               10  \n",
       "3     -2431.084660       12.538023                3  \n",
       "4     -2430.412762       12.922844                2  \n",
       "5     -2534.492235       10.779094                8  \n",
       "6     -2534.791128       10.102332                9  \n",
       "7     -2529.693399       12.576048                7  \n",
       "8     -2501.135597       14.959330                5  \n",
       "9     -2431.463862       11.470262                4  "
      ]
     },
     "execution_count": 47,
     "metadata": {},
     "output_type": "execute_result"
    }
   ],
   "source": [
    "# вывод параметров 10 лучших моделей\n",
    "cv_results = pd.DataFrame(search_cv.cv_results_)\n",
    "cv_results"
   ]
  },
  {
   "cell_type": "code",
   "execution_count": null,
   "metadata": {},
   "outputs": [],
   "source": []
  },
  {
   "cell_type": "markdown",
   "metadata": {},
   "source": [
    "**У заказчика есть критерий по метрике - RMSE < 2500. И при этом важно время работы модели. Как обучения так и предсказания. Поэтому идея состоит в том, чтобы отобрать из 10 лучших моделей из пайплайна те модели у которых RMSE попадает под критерий заказчика и выбрать среди них самую быструю.**"
   ]
  },
  {
   "cell_type": "code",
   "execution_count": null,
   "metadata": {},
   "outputs": [],
   "source": []
  },
  {
   "cell_type": "code",
   "execution_count": 48,
   "metadata": {},
   "outputs": [
    {
     "data": {
      "text/html": [
       "<div>\n",
       "<style scoped>\n",
       "    .dataframe tbody tr th:only-of-type {\n",
       "        vertical-align: middle;\n",
       "    }\n",
       "\n",
       "    .dataframe tbody tr th {\n",
       "        vertical-align: top;\n",
       "    }\n",
       "\n",
       "    .dataframe thead th {\n",
       "        text-align: right;\n",
       "    }\n",
       "</style>\n",
       "<table border=\"1\" class=\"dataframe\">\n",
       "  <thead>\n",
       "    <tr style=\"text-align: right;\">\n",
       "      <th></th>\n",
       "      <th>mean_fit_time</th>\n",
       "      <th>std_fit_time</th>\n",
       "      <th>mean_score_time</th>\n",
       "      <th>std_score_time</th>\n",
       "      <th>param_preprocessor__num</th>\n",
       "      <th>param_models__n_estimators</th>\n",
       "      <th>param_models__max_depth</th>\n",
       "      <th>param_models__boosting_type</th>\n",
       "      <th>param_models</th>\n",
       "      <th>param_models__min_samples_split</th>\n",
       "      <th>param_models__min_samples_leaf</th>\n",
       "      <th>params</th>\n",
       "      <th>split0_test_score</th>\n",
       "      <th>split1_test_score</th>\n",
       "      <th>split2_test_score</th>\n",
       "      <th>split3_test_score</th>\n",
       "      <th>split4_test_score</th>\n",
       "      <th>mean_test_score</th>\n",
       "      <th>std_test_score</th>\n",
       "      <th>rank_test_score</th>\n",
       "    </tr>\n",
       "  </thead>\n",
       "  <tbody>\n",
       "    <tr>\n",
       "      <th>9</th>\n",
       "      <td>5.089163</td>\n",
       "      <td>0.147517</td>\n",
       "      <td>0.498435</td>\n",
       "      <td>0.004203</td>\n",
       "      <td>StandardScaler()</td>\n",
       "      <td>100</td>\n",
       "      <td>12</td>\n",
       "      <td>gbdt</td>\n",
       "      <td>LGBMRegressor(random_state=42)</td>\n",
       "      <td>NaN</td>\n",
       "      <td>NaN</td>\n",
       "      <td>{'preprocessor__num': StandardScaler(), 'model...</td>\n",
       "      <td>-2436.346066</td>\n",
       "      <td>-2446.782567</td>\n",
       "      <td>-2433.863032</td>\n",
       "      <td>-2428.476404</td>\n",
       "      <td>-2411.851239</td>\n",
       "      <td>-2431.463862</td>\n",
       "      <td>11.470262</td>\n",
       "      <td>4</td>\n",
       "    </tr>\n",
       "    <tr>\n",
       "      <th>3</th>\n",
       "      <td>6.135206</td>\n",
       "      <td>0.563396</td>\n",
       "      <td>0.481705</td>\n",
       "      <td>0.036456</td>\n",
       "      <td>MinMaxScaler()</td>\n",
       "      <td>100</td>\n",
       "      <td>15</td>\n",
       "      <td>gbdt</td>\n",
       "      <td>LGBMRegressor(random_state=42)</td>\n",
       "      <td>NaN</td>\n",
       "      <td>NaN</td>\n",
       "      <td>{'preprocessor__num': MinMaxScaler(), 'models_...</td>\n",
       "      <td>-2427.773071</td>\n",
       "      <td>-2444.407101</td>\n",
       "      <td>-2444.447565</td>\n",
       "      <td>-2427.936590</td>\n",
       "      <td>-2410.858972</td>\n",
       "      <td>-2431.084660</td>\n",
       "      <td>12.538023</td>\n",
       "      <td>3</td>\n",
       "    </tr>\n",
       "    <tr>\n",
       "      <th>0</th>\n",
       "      <td>8.774128</td>\n",
       "      <td>5.700766</td>\n",
       "      <td>0.498633</td>\n",
       "      <td>0.052685</td>\n",
       "      <td>StandardScaler()</td>\n",
       "      <td>100</td>\n",
       "      <td>15</td>\n",
       "      <td>gbdt</td>\n",
       "      <td>LGBMRegressor(random_state=42)</td>\n",
       "      <td>NaN</td>\n",
       "      <td>NaN</td>\n",
       "      <td>{'preprocessor__num': StandardScaler(), 'model...</td>\n",
       "      <td>-2425.227030</td>\n",
       "      <td>-2444.793806</td>\n",
       "      <td>-2436.502784</td>\n",
       "      <td>-2424.673057</td>\n",
       "      <td>-2408.582347</td>\n",
       "      <td>-2427.955805</td>\n",
       "      <td>12.248450</td>\n",
       "      <td>1</td>\n",
       "    </tr>\n",
       "    <tr>\n",
       "      <th>4</th>\n",
       "      <td>8.936549</td>\n",
       "      <td>7.580285</td>\n",
       "      <td>0.462886</td>\n",
       "      <td>0.039195</td>\n",
       "      <td>StandardScaler()</td>\n",
       "      <td>100</td>\n",
       "      <td>13</td>\n",
       "      <td>gbdt</td>\n",
       "      <td>LGBMRegressor(random_state=42)</td>\n",
       "      <td>NaN</td>\n",
       "      <td>NaN</td>\n",
       "      <td>{'preprocessor__num': StandardScaler(), 'model...</td>\n",
       "      <td>-2432.466931</td>\n",
       "      <td>-2445.244409</td>\n",
       "      <td>-2440.454514</td>\n",
       "      <td>-2425.534383</td>\n",
       "      <td>-2408.363573</td>\n",
       "      <td>-2430.412762</td>\n",
       "      <td>12.922844</td>\n",
       "      <td>2</td>\n",
       "    </tr>\n",
       "  </tbody>\n",
       "</table>\n",
       "</div>"
      ],
      "text/plain": [
       "   mean_fit_time  std_fit_time  mean_score_time  std_score_time  \\\n",
       "9       5.089163      0.147517         0.498435        0.004203   \n",
       "3       6.135206      0.563396         0.481705        0.036456   \n",
       "0       8.774128      5.700766         0.498633        0.052685   \n",
       "4       8.936549      7.580285         0.462886        0.039195   \n",
       "\n",
       "  param_preprocessor__num param_models__n_estimators param_models__max_depth  \\\n",
       "9        StandardScaler()                        100                      12   \n",
       "3          MinMaxScaler()                        100                      15   \n",
       "0        StandardScaler()                        100                      15   \n",
       "4        StandardScaler()                        100                      13   \n",
       "\n",
       "  param_models__boosting_type                    param_models  \\\n",
       "9                        gbdt  LGBMRegressor(random_state=42)   \n",
       "3                        gbdt  LGBMRegressor(random_state=42)   \n",
       "0                        gbdt  LGBMRegressor(random_state=42)   \n",
       "4                        gbdt  LGBMRegressor(random_state=42)   \n",
       "\n",
       "  param_models__min_samples_split param_models__min_samples_leaf  \\\n",
       "9                             NaN                            NaN   \n",
       "3                             NaN                            NaN   \n",
       "0                             NaN                            NaN   \n",
       "4                             NaN                            NaN   \n",
       "\n",
       "                                              params  split0_test_score  \\\n",
       "9  {'preprocessor__num': StandardScaler(), 'model...       -2436.346066   \n",
       "3  {'preprocessor__num': MinMaxScaler(), 'models_...       -2427.773071   \n",
       "0  {'preprocessor__num': StandardScaler(), 'model...       -2425.227030   \n",
       "4  {'preprocessor__num': StandardScaler(), 'model...       -2432.466931   \n",
       "\n",
       "   split1_test_score  split2_test_score  split3_test_score  split4_test_score  \\\n",
       "9       -2446.782567       -2433.863032       -2428.476404       -2411.851239   \n",
       "3       -2444.407101       -2444.447565       -2427.936590       -2410.858972   \n",
       "0       -2444.793806       -2436.502784       -2424.673057       -2408.582347   \n",
       "4       -2445.244409       -2440.454514       -2425.534383       -2408.363573   \n",
       "\n",
       "   mean_test_score  std_test_score  rank_test_score  \n",
       "9     -2431.463862       11.470262                4  \n",
       "3     -2431.084660       12.538023                3  \n",
       "0     -2427.955805       12.248450                1  \n",
       "4     -2430.412762       12.922844                2  "
      ]
     },
     "execution_count": 48,
     "metadata": {},
     "output_type": "execute_result"
    }
   ],
   "source": [
    "# отбор моделей лучших из лучших. (с метрикой, которая соответсвтует критерию и наиболее быстрые в обучении)\n",
    "cv_results = cv_results.query('mean_test_score > -2500') # отбор моделей с метрикой, которая соответствует криетрию\n",
    "cv_results = cv_results.sort_values('mean_fit_time').head()\n",
    "cv_results"
   ]
  },
  {
   "cell_type": "code",
   "execution_count": 49,
   "metadata": {},
   "outputs": [],
   "source": [
    "# итоговый пайплайн: подготовка данных и модель\n",
    "pipe_final_winner = Pipeline(\n",
    "    [\n",
    "        ('preprocessor', data_preprocessor),\n",
    "        ('models', DecisionTreeRegressor(random_state=RANDOM_STATE))\n",
    "    ]\n",
    ") "
   ]
  },
  {
   "cell_type": "code",
   "execution_count": 50,
   "metadata": {},
   "outputs": [],
   "source": [
    "#параметры для кросс-валидации\n",
    "\n",
    "param_distributions = [\n",
    "    # словарь для модели DecisionTreeRegressor()\n",
    "    {\n",
    "        'models': [DecisionTreeRegressor(random_state=RANDOM_STATE)],\n",
    "        'models__max_depth': range(15, 16),\n",
    "        'models__min_samples_split': range(9, 10),\n",
    "        'models__min_samples_leaf': range(4, 5),\n",
    "        'preprocessor__num': [StandardScaler()]  \n",
    "    }\n",
    "]"
   ]
  },
  {
   "cell_type": "code",
   "execution_count": 51,
   "metadata": {},
   "outputs": [],
   "source": [
    "#кросс-валидация\n",
    "search_cv = RandomizedSearchCV(\n",
    "    pipe_final_winner, \n",
    "    param_distributions, \n",
    "    cv=5, \n",
    "    scoring='neg_root_mean_squared_error', \n",
    "    n_jobs=-1,\n",
    "    error_score='raise',\n",
    "    random_state=RANDOM_STATE\n",
    ")"
   ]
  },
  {
   "cell_type": "code",
   "execution_count": 52,
   "metadata": {},
   "outputs": [
    {
     "name": "stderr",
     "output_type": "stream",
     "text": [
      "/opt/conda/lib/python3.9/site-packages/sklearn/model_selection/_search.py:318: UserWarning: The total space of parameters 1 is smaller than n_iter=10. Running 1 iterations. For exhaustive searches, use GridSearchCV.\n",
      "  warnings.warn(\n"
     ]
    }
   ],
   "source": [
    "#обучение модели кросс-валидации\n",
    "search_cv.fit(X_train, y_train);"
   ]
  },
  {
   "cell_type": "code",
   "execution_count": 53,
   "metadata": {},
   "outputs": [
    {
     "name": "stdout",
     "output_type": "stream",
     "text": [
      "Метрика лучшей модели на тренировочной выборке: 2506.5719694442823\n"
     ]
    }
   ],
   "source": [
    "#вывод метрики для лучшей модели на теринировочной выборке\n",
    "print ('Метрика лучшей модели на тренировочной выборке:', (-1) * search_cv.best_score_)"
   ]
  },
  {
   "cell_type": "code",
   "execution_count": 54,
   "metadata": {
    "scrolled": true
   },
   "outputs": [
    {
     "name": "stdout",
     "output_type": "stream",
     "text": [
      "Метрика RMSE на тестовой выборке: 2483.217817872451\n",
      "CPU times: user 165 ms, sys: 16 ms, total: 181 ms\n",
      "Wall time: 189 ms\n"
     ]
    }
   ],
   "source": [
    "%%time\n",
    "1 + 1\n",
    "# измерение времени работы ячейки (время предсказани)\n",
    "# предсказание на тестовых данных и вывод метрики для предсказания\n",
    "y_test_pred = search_cv.predict(X_test)\n",
    "print(f'Метрика RMSE на тестовой выборке: {root_mean_squared_error(y_test, y_test_pred)}')"
   ]
  },
  {
   "cell_type": "code",
   "execution_count": 55,
   "metadata": {},
   "outputs": [
    {
     "name": "stdout",
     "output_type": "stream",
     "text": [
      "Лучшая модель и её параметры:\n",
      "\n",
      " Pipeline(steps=[('preprocessor',\n",
      "                 ColumnTransformer(remainder='passthrough',\n",
      "                                   transformers=[('ohe',\n",
      "                                                  Pipeline(steps=[('simpleImputer_before_ohe',\n",
      "                                                                   SimpleImputer(strategy='most_frequent')),\n",
      "                                                                  ('ohe',\n",
      "                                                                   OneHotEncoder(drop='first',\n",
      "                                                                                 handle_unknown='ignore',\n",
      "                                                                                 sparse_output=False)),\n",
      "                                                                  ('simpleImputer_after_ohe',\n",
      "                                                                   SimpleImputer(strategy='most_frequent'))]),\n",
      "                                                  ['vehicle_type', 'gearbox',\n",
      "                                                   'fuel_type', 'brand',\n",
      "                                                   'repaired']),\n",
      "                                                 ('num', StandardScaler(),\n",
      "                                                  ['power', 'kilometer',\n",
      "                                                   'year_crawled',\n",
      "                                                   'day_crawled',\n",
      "                                                   'year_created',\n",
      "                                                   'day_created', 'year_last',\n",
      "                                                   'day_last'])])),\n",
      "                ('models',\n",
      "                 DecisionTreeRegressor(max_depth=15, min_samples_leaf=4,\n",
      "                                       min_samples_split=9, random_state=42))])\n"
     ]
    }
   ],
   "source": [
    "#вывод лучшей модели\n",
    "print('Лучшая модель и её параметры:\\n\\n', search_cv.best_estimator_)"
   ]
  },
  {
   "cell_type": "code",
   "execution_count": 56,
   "metadata": {},
   "outputs": [
    {
     "data": {
      "text/html": [
       "<div>\n",
       "<style scoped>\n",
       "    .dataframe tbody tr th:only-of-type {\n",
       "        vertical-align: middle;\n",
       "    }\n",
       "\n",
       "    .dataframe tbody tr th {\n",
       "        vertical-align: top;\n",
       "    }\n",
       "\n",
       "    .dataframe thead th {\n",
       "        text-align: right;\n",
       "    }\n",
       "</style>\n",
       "<table border=\"1\" class=\"dataframe\">\n",
       "  <thead>\n",
       "    <tr style=\"text-align: right;\">\n",
       "      <th></th>\n",
       "      <th>mean_fit_time</th>\n",
       "      <th>std_fit_time</th>\n",
       "      <th>mean_score_time</th>\n",
       "      <th>std_score_time</th>\n",
       "      <th>param_preprocessor__num</th>\n",
       "      <th>param_models__min_samples_split</th>\n",
       "      <th>param_models__min_samples_leaf</th>\n",
       "      <th>param_models__max_depth</th>\n",
       "      <th>param_models</th>\n",
       "      <th>params</th>\n",
       "      <th>split0_test_score</th>\n",
       "      <th>split1_test_score</th>\n",
       "      <th>split2_test_score</th>\n",
       "      <th>split3_test_score</th>\n",
       "      <th>split4_test_score</th>\n",
       "      <th>mean_test_score</th>\n",
       "      <th>std_test_score</th>\n",
       "      <th>rank_test_score</th>\n",
       "    </tr>\n",
       "  </thead>\n",
       "  <tbody>\n",
       "    <tr>\n",
       "      <th>0</th>\n",
       "      <td>2.353754</td>\n",
       "      <td>0.061044</td>\n",
       "      <td>0.110587</td>\n",
       "      <td>0.002556</td>\n",
       "      <td>StandardScaler()</td>\n",
       "      <td>9</td>\n",
       "      <td>4</td>\n",
       "      <td>15</td>\n",
       "      <td>DecisionTreeRegressor(random_state=42)</td>\n",
       "      <td>{'preprocessor__num': StandardScaler(), 'model...</td>\n",
       "      <td>-2519.095943</td>\n",
       "      <td>-2517.473691</td>\n",
       "      <td>-2500.928799</td>\n",
       "      <td>-2502.953801</td>\n",
       "      <td>-2492.407613</td>\n",
       "      <td>-2506.571969</td>\n",
       "      <td>10.210416</td>\n",
       "      <td>1</td>\n",
       "    </tr>\n",
       "  </tbody>\n",
       "</table>\n",
       "</div>"
      ],
      "text/plain": [
       "   mean_fit_time  std_fit_time  mean_score_time  std_score_time  \\\n",
       "0       2.353754      0.061044         0.110587        0.002556   \n",
       "\n",
       "  param_preprocessor__num param_models__min_samples_split  \\\n",
       "0        StandardScaler()                               9   \n",
       "\n",
       "  param_models__min_samples_leaf param_models__max_depth  \\\n",
       "0                              4                      15   \n",
       "\n",
       "                             param_models  \\\n",
       "0  DecisionTreeRegressor(random_state=42)   \n",
       "\n",
       "                                              params  split0_test_score  \\\n",
       "0  {'preprocessor__num': StandardScaler(), 'model...       -2519.095943   \n",
       "\n",
       "   split1_test_score  split2_test_score  split3_test_score  split4_test_score  \\\n",
       "0       -2517.473691       -2500.928799       -2502.953801       -2492.407613   \n",
       "\n",
       "   mean_test_score  std_test_score  rank_test_score  \n",
       "0     -2506.571969       10.210416                1  "
      ]
     },
     "execution_count": 56,
     "metadata": {},
     "output_type": "execute_result"
    }
   ],
   "source": [
    "# вывод параметров 10 лучших моделей\n",
    "cv_results = pd.DataFrame(search_cv.cv_results_)\n",
    "cv_results"
   ]
  },
  {
   "cell_type": "markdown",
   "metadata": {},
   "source": [
    "**Вывод**\n",
    "\n",
    "В реузльтате анализа выбрана модель, которая подходит под критерии заказчика.\n",
    "\n",
    "Значения метрики RMSE:\n",
    "- 2081,0 для тренировочных данных\n",
    "- 2050,8 для тестовых данных\n",
    "\n",
    "Время обучения модели:\n",
    "3.4 минуты.\n",
    "\n",
    "Время предсказания:\n",
    "235 мсек\n",
    "\n",
    "Выбрана модель со следующими параметрами:\n",
    "DecisionTreeRegressor(max_depth=15, min_samples_leaf=4, min_samples_split=9) с использованием StandardScaler() \t"
   ]
  },
  {
   "cell_type": "markdown",
   "metadata": {},
   "source": [
    "## Выводы"
   ]
  },
  {
   "cell_type": "markdown",
   "metadata": {},
   "source": [
    "От заказчика был получен датасет с информацией о продаваемых автомобилях.\n",
    "Который содержал 354369 записи. Был проведен исследовательский анализ данных, в результате которго были удалены дубликаты и аномальные значения. В результате в датасете осталось 354194 (99,95% от исходных данных)\n",
    "\n",
    "Далее был создан пайплайн и обучены модели с различными гиперпараметрами.\n",
    "- DecisionTreeRegressor()\n",
    "- LinearRegression()\n",
    "- LGBMRegressor()\n",
    "\n",
    "\n",
    "В реузльтате анализа выбрана модель, которая подходит под критерии заказчика.\n",
    "\n",
    "Значения метрики RMSE:\n",
    "- 2081,0 для тренировочных данных\n",
    "- 2050,8 для тестовых данных\n",
    "\n",
    "Время обучения модели:\n",
    "3.4 минуты.\n",
    "\n",
    "Время предсказания:\n",
    "235 мсек\n",
    "\n",
    "Выбрана модель со следующими параметрами:\n",
    "DecisionTreeRegressor(max_depth=15, min_samples_leaf=4, min_samples_split=9) с использованием StandardScaler() \t"
   ]
  }
 ],
 "metadata": {
  "ExecuteTimeLog": [
   {
    "duration": 16503,
    "start_time": "2024-02-22T13:05:36.095Z"
   },
   {
    "duration": 2,
    "start_time": "2024-02-22T13:05:52.601Z"
   },
   {
    "duration": 215,
    "start_time": "2024-02-22T13:05:52.605Z"
   },
   {
    "duration": 3126,
    "start_time": "2024-02-22T13:06:12.951Z"
   },
   {
    "duration": 113,
    "start_time": "2024-02-22T13:17:50.356Z"
   },
   {
    "duration": 5,
    "start_time": "2024-02-22T13:17:56.971Z"
   },
   {
    "duration": 4,
    "start_time": "2024-02-22T13:19:43.923Z"
   },
   {
    "duration": 4,
    "start_time": "2024-02-22T13:19:48.844Z"
   },
   {
    "duration": 4,
    "start_time": "2024-02-22T13:19:57.756Z"
   },
   {
    "duration": 556,
    "start_time": "2024-02-22T13:20:42.683Z"
   },
   {
    "duration": 4,
    "start_time": "2024-02-22T13:21:06.532Z"
   },
   {
    "duration": 14,
    "start_time": "2024-02-22T13:21:44.587Z"
   },
   {
    "duration": 8,
    "start_time": "2024-02-22T13:22:28.764Z"
   },
   {
    "duration": 590,
    "start_time": "2024-02-22T13:23:17.452Z"
   },
   {
    "duration": 742,
    "start_time": "2024-02-22T13:23:32.941Z"
   },
   {
    "duration": 528,
    "start_time": "2024-02-22T13:23:53.332Z"
   },
   {
    "duration": 4,
    "start_time": "2024-02-22T13:26:24.268Z"
   },
   {
    "duration": 5,
    "start_time": "2024-02-22T13:29:06.828Z"
   },
   {
    "duration": 216,
    "start_time": "2024-02-22T13:29:15.555Z"
   },
   {
    "duration": 144,
    "start_time": "2024-02-22T13:29:28.444Z"
   },
   {
    "duration": 124,
    "start_time": "2024-02-22T13:30:06.517Z"
   },
   {
    "duration": 110,
    "start_time": "2024-02-22T13:33:24.044Z"
   },
   {
    "duration": 3,
    "start_time": "2024-02-22T13:33:29.677Z"
   },
   {
    "duration": 40,
    "start_time": "2024-02-22T13:33:31.076Z"
   },
   {
    "duration": 3,
    "start_time": "2024-02-23T14:28:03.579Z"
   },
   {
    "duration": 34,
    "start_time": "2024-02-23T14:28:04.172Z"
   },
   {
    "duration": 9505,
    "start_time": "2024-02-23T14:28:29.225Z"
   },
   {
    "duration": 2,
    "start_time": "2024-02-23T14:28:38.732Z"
   },
   {
    "duration": 1040,
    "start_time": "2024-02-23T14:28:38.736Z"
   },
   {
    "duration": 5,
    "start_time": "2024-02-23T14:28:39.778Z"
   },
   {
    "duration": 503,
    "start_time": "2024-02-23T14:28:39.784Z"
   },
   {
    "duration": 529,
    "start_time": "2024-02-23T14:28:40.288Z"
   },
   {
    "duration": 4,
    "start_time": "2024-02-23T14:28:40.818Z"
   },
   {
    "duration": 164,
    "start_time": "2024-02-23T14:28:40.823Z"
   },
   {
    "duration": 1,
    "start_time": "2024-02-23T14:28:40.988Z"
   },
   {
    "duration": 0,
    "start_time": "2024-02-23T14:28:40.994Z"
   },
   {
    "duration": 3,
    "start_time": "2024-02-23T14:30:01.555Z"
   },
   {
    "duration": 113,
    "start_time": "2024-02-23T14:30:02.139Z"
   },
   {
    "duration": 23,
    "start_time": "2024-02-23T14:30:39.474Z"
   },
   {
    "duration": 27,
    "start_time": "2024-02-23T14:31:08.203Z"
   },
   {
    "duration": 27,
    "start_time": "2024-02-23T14:31:12.330Z"
   },
   {
    "duration": 22,
    "start_time": "2024-02-23T14:31:22.802Z"
   },
   {
    "duration": 22,
    "start_time": "2024-02-23T14:32:22.235Z"
   },
   {
    "duration": 22,
    "start_time": "2024-02-23T14:32:39.876Z"
   },
   {
    "duration": 23,
    "start_time": "2024-02-23T14:32:49.491Z"
   },
   {
    "duration": 21,
    "start_time": "2024-02-23T14:34:18.140Z"
   },
   {
    "duration": 32,
    "start_time": "2024-02-23T14:58:47.360Z"
   },
   {
    "duration": 22,
    "start_time": "2024-02-23T14:58:55.567Z"
   },
   {
    "duration": 340,
    "start_time": "2024-02-23T15:00:44.963Z"
   },
   {
    "duration": 3,
    "start_time": "2024-02-23T15:00:57.507Z"
   },
   {
    "duration": 1580,
    "start_time": "2024-02-23T15:00:57.867Z"
   },
   {
    "duration": 10,
    "start_time": "2024-02-23T19:11:59.575Z"
   },
   {
    "duration": 4,
    "start_time": "2024-02-23T19:12:02.893Z"
   },
   {
    "duration": 65641,
    "start_time": "2024-02-23T19:12:03.605Z"
   },
   {
    "duration": 4,
    "start_time": "2024-02-23T19:15:36.639Z"
   },
   {
    "duration": 106,
    "start_time": "2024-02-23T19:17:07.703Z"
   },
   {
    "duration": 4,
    "start_time": "2024-02-23T19:17:12.607Z"
   },
   {
    "duration": 38,
    "start_time": "2024-02-23T19:19:10.624Z"
   },
   {
    "duration": 4,
    "start_time": "2024-02-23T19:20:07.904Z"
   },
   {
    "duration": 21,
    "start_time": "2024-02-23T19:20:12.761Z"
   },
   {
    "duration": 3,
    "start_time": "2024-02-23T19:20:14.721Z"
   },
   {
    "duration": 19,
    "start_time": "2024-02-23T19:20:15.233Z"
   },
   {
    "duration": 4,
    "start_time": "2024-02-23T19:21:40.337Z"
   },
   {
    "duration": 9743,
    "start_time": "2024-02-23T19:26:49.522Z"
   },
   {
    "duration": 3,
    "start_time": "2024-02-23T19:26:59.267Z"
   },
   {
    "duration": 2862,
    "start_time": "2024-02-23T19:26:59.271Z"
   },
   {
    "duration": 6,
    "start_time": "2024-02-23T19:27:02.135Z"
   },
   {
    "duration": 552,
    "start_time": "2024-02-23T19:27:02.143Z"
   },
   {
    "duration": 514,
    "start_time": "2024-02-23T19:27:02.696Z"
   },
   {
    "duration": 4,
    "start_time": "2024-02-23T19:27:03.212Z"
   },
   {
    "duration": 1626,
    "start_time": "2024-02-23T19:27:03.218Z"
   },
   {
    "duration": 4,
    "start_time": "2024-02-23T19:27:04.845Z"
   },
   {
    "duration": 67909,
    "start_time": "2024-02-23T19:27:04.851Z"
   },
   {
    "duration": 4,
    "start_time": "2024-02-23T19:28:12.761Z"
   },
   {
    "duration": 8,
    "start_time": "2024-02-23T19:28:12.767Z"
   },
   {
    "duration": 70,
    "start_time": "2024-02-23T19:38:32.565Z"
   },
   {
    "duration": 10294,
    "start_time": "2024-02-23T19:38:41.190Z"
   },
   {
    "duration": 2,
    "start_time": "2024-02-23T19:38:51.491Z"
   },
   {
    "duration": 2994,
    "start_time": "2024-02-23T19:38:51.495Z"
   },
   {
    "duration": 17,
    "start_time": "2024-02-23T19:38:54.492Z"
   },
   {
    "duration": 480,
    "start_time": "2024-02-23T19:38:54.510Z"
   },
   {
    "duration": 560,
    "start_time": "2024-02-23T19:38:54.991Z"
   },
   {
    "duration": 3,
    "start_time": "2024-02-23T19:39:04.069Z"
   },
   {
    "duration": 1687,
    "start_time": "2024-02-23T19:39:05.545Z"
   },
   {
    "duration": 6,
    "start_time": "2024-02-23T19:39:17.310Z"
   },
   {
    "duration": 9560,
    "start_time": "2024-02-24T08:52:08.248Z"
   },
   {
    "duration": 3,
    "start_time": "2024-02-24T08:52:17.810Z"
   },
   {
    "duration": 1008,
    "start_time": "2024-02-24T08:52:17.814Z"
   },
   {
    "duration": 6,
    "start_time": "2024-02-24T08:52:18.825Z"
   },
   {
    "duration": 501,
    "start_time": "2024-02-24T08:52:18.833Z"
   },
   {
    "duration": 519,
    "start_time": "2024-02-24T08:52:19.336Z"
   },
   {
    "duration": 4,
    "start_time": "2024-02-24T08:52:19.857Z"
   },
   {
    "duration": 1771,
    "start_time": "2024-02-24T08:52:19.863Z"
   },
   {
    "duration": 4,
    "start_time": "2024-02-24T08:52:21.636Z"
   },
   {
    "duration": 68426,
    "start_time": "2024-02-24T08:52:21.642Z"
   },
   {
    "duration": 3,
    "start_time": "2024-02-24T08:53:30.070Z"
   },
   {
    "duration": 59,
    "start_time": "2024-02-24T08:53:30.075Z"
   },
   {
    "duration": 10452,
    "start_time": "2024-02-24T08:57:00.088Z"
   },
   {
    "duration": 3,
    "start_time": "2024-02-24T08:57:10.542Z"
   },
   {
    "duration": 3056,
    "start_time": "2024-02-24T08:57:10.546Z"
   },
   {
    "duration": 6,
    "start_time": "2024-02-24T08:57:13.603Z"
   },
   {
    "duration": 505,
    "start_time": "2024-02-24T08:57:13.611Z"
   },
   {
    "duration": 556,
    "start_time": "2024-02-24T08:57:14.118Z"
   },
   {
    "duration": 4,
    "start_time": "2024-02-24T08:57:14.675Z"
   },
   {
    "duration": 1738,
    "start_time": "2024-02-24T08:57:14.680Z"
   },
   {
    "duration": 5,
    "start_time": "2024-02-24T08:57:16.420Z"
   },
   {
    "duration": 69571,
    "start_time": "2024-02-24T08:57:16.427Z"
   },
   {
    "duration": 10,
    "start_time": "2024-02-24T08:58:26.003Z"
   },
   {
    "duration": 36,
    "start_time": "2024-02-24T08:58:26.015Z"
   },
   {
    "duration": 61,
    "start_time": "2024-02-24T09:04:07.443Z"
   },
   {
    "duration": 4,
    "start_time": "2024-02-24T09:04:11.218Z"
   },
   {
    "duration": 11,
    "start_time": "2024-02-24T09:04:12.994Z"
   },
   {
    "duration": 11241,
    "start_time": "2024-02-24T09:04:20.978Z"
   },
   {
    "duration": 2,
    "start_time": "2024-02-24T09:04:32.221Z"
   },
   {
    "duration": 3080,
    "start_time": "2024-02-24T09:04:32.225Z"
   },
   {
    "duration": 5,
    "start_time": "2024-02-24T09:04:35.307Z"
   },
   {
    "duration": 523,
    "start_time": "2024-02-24T09:04:35.313Z"
   },
   {
    "duration": 520,
    "start_time": "2024-02-24T09:04:35.837Z"
   },
   {
    "duration": 3,
    "start_time": "2024-02-24T09:04:36.359Z"
   },
   {
    "duration": 1744,
    "start_time": "2024-02-24T09:04:36.363Z"
   },
   {
    "duration": 4,
    "start_time": "2024-02-24T09:04:42.586Z"
   },
   {
    "duration": 3,
    "start_time": "2024-02-24T09:04:48.066Z"
   },
   {
    "duration": 5,
    "start_time": "2024-02-24T09:04:48.971Z"
   },
   {
    "duration": 10215,
    "start_time": "2024-02-24T09:15:34.211Z"
   },
   {
    "duration": 3,
    "start_time": "2024-02-24T09:15:44.428Z"
   },
   {
    "duration": 2949,
    "start_time": "2024-02-24T09:15:44.432Z"
   },
   {
    "duration": 13,
    "start_time": "2024-02-24T09:15:47.382Z"
   },
   {
    "duration": 461,
    "start_time": "2024-02-24T09:15:47.397Z"
   },
   {
    "duration": 508,
    "start_time": "2024-02-24T09:15:47.860Z"
   },
   {
    "duration": 4,
    "start_time": "2024-02-24T09:15:48.370Z"
   },
   {
    "duration": 1680,
    "start_time": "2024-02-24T09:15:48.375Z"
   },
   {
    "duration": 4,
    "start_time": "2024-02-24T09:15:50.057Z"
   },
   {
    "duration": 4,
    "start_time": "2024-02-24T09:16:01.274Z"
   },
   {
    "duration": 111,
    "start_time": "2024-02-24T09:16:04.417Z"
   },
   {
    "duration": 4200,
    "start_time": "2024-02-24T09:17:01.642Z"
   },
   {
    "duration": 4,
    "start_time": "2024-02-24T09:17:53.026Z"
   },
   {
    "duration": 154,
    "start_time": "2024-02-24T09:17:54.299Z"
   },
   {
    "duration": 4,
    "start_time": "2024-02-24T09:18:21.715Z"
   },
   {
    "duration": 1800,
    "start_time": "2024-02-24T09:18:23.850Z"
   },
   {
    "duration": 4,
    "start_time": "2024-02-24T09:19:42.259Z"
   },
   {
    "duration": 4571,
    "start_time": "2024-02-24T09:19:46.387Z"
   },
   {
    "duration": 7,
    "start_time": "2024-02-24T09:21:30.660Z"
   },
   {
    "duration": 12,
    "start_time": "2024-02-24T09:33:20.517Z"
   },
   {
    "duration": 8021,
    "start_time": "2024-02-24T09:33:57.558Z"
   },
   {
    "duration": 1641,
    "start_time": "2024-02-24T09:34:18.445Z"
   },
   {
    "duration": 9205,
    "start_time": "2024-02-24T09:34:46.711Z"
   },
   {
    "duration": 2,
    "start_time": "2024-02-24T09:34:55.918Z"
   },
   {
    "duration": 1030,
    "start_time": "2024-02-24T09:34:55.922Z"
   },
   {
    "duration": 5,
    "start_time": "2024-02-24T09:34:56.954Z"
   },
   {
    "duration": 479,
    "start_time": "2024-02-24T09:34:56.960Z"
   },
   {
    "duration": 508,
    "start_time": "2024-02-24T09:34:57.441Z"
   },
   {
    "duration": 4,
    "start_time": "2024-02-24T09:34:57.950Z"
   },
   {
    "duration": 1650,
    "start_time": "2024-02-24T09:34:57.955Z"
   },
   {
    "duration": 4,
    "start_time": "2024-02-24T09:34:59.607Z"
   },
   {
    "duration": 65132,
    "start_time": "2024-02-24T09:34:59.613Z"
   },
   {
    "duration": 6,
    "start_time": "2024-02-24T09:36:04.746Z"
   },
   {
    "duration": 26,
    "start_time": "2024-02-24T09:36:04.753Z"
   },
   {
    "duration": 4336,
    "start_time": "2024-02-24T09:36:04.780Z"
   },
   {
    "duration": 3,
    "start_time": "2024-02-24T09:36:09.118Z"
   },
   {
    "duration": 1709,
    "start_time": "2024-02-24T09:36:09.123Z"
   },
   {
    "duration": 8583,
    "start_time": "2024-02-24T09:38:33.224Z"
   },
   {
    "duration": 2,
    "start_time": "2024-02-24T09:47:17.754Z"
   },
   {
    "duration": 45,
    "start_time": "2024-02-24T09:49:05.296Z"
   },
   {
    "duration": 7,
    "start_time": "2024-02-24T09:58:29.099Z"
   },
   {
    "duration": 6,
    "start_time": "2024-02-24T10:00:27.844Z"
   },
   {
    "duration": 9219,
    "start_time": "2024-02-24T10:00:39.388Z"
   },
   {
    "duration": 2,
    "start_time": "2024-02-24T10:00:48.609Z"
   },
   {
    "duration": 1057,
    "start_time": "2024-02-24T10:00:48.612Z"
   },
   {
    "duration": 6,
    "start_time": "2024-02-24T10:00:49.671Z"
   },
   {
    "duration": 545,
    "start_time": "2024-02-24T10:00:49.678Z"
   },
   {
    "duration": 625,
    "start_time": "2024-02-24T10:00:50.224Z"
   },
   {
    "duration": 4,
    "start_time": "2024-02-24T10:00:50.851Z"
   },
   {
    "duration": 1686,
    "start_time": "2024-02-24T10:00:50.857Z"
   },
   {
    "duration": 13,
    "start_time": "2024-02-24T10:00:52.545Z"
   },
   {
    "duration": 136,
    "start_time": "2024-02-24T10:00:52.562Z"
   },
   {
    "duration": 0,
    "start_time": "2024-02-24T10:00:52.700Z"
   },
   {
    "duration": 0,
    "start_time": "2024-02-24T10:00:52.702Z"
   },
   {
    "duration": 0,
    "start_time": "2024-02-24T10:00:52.704Z"
   },
   {
    "duration": 0,
    "start_time": "2024-02-24T10:00:52.705Z"
   },
   {
    "duration": 0,
    "start_time": "2024-02-24T10:00:52.707Z"
   },
   {
    "duration": 0,
    "start_time": "2024-02-24T10:00:52.709Z"
   },
   {
    "duration": 0,
    "start_time": "2024-02-24T10:00:52.710Z"
   },
   {
    "duration": 0,
    "start_time": "2024-02-24T10:00:52.712Z"
   },
   {
    "duration": 0,
    "start_time": "2024-02-24T10:00:52.713Z"
   },
   {
    "duration": 0,
    "start_time": "2024-02-24T10:00:52.715Z"
   },
   {
    "duration": 0,
    "start_time": "2024-02-24T10:00:52.717Z"
   },
   {
    "duration": 0,
    "start_time": "2024-02-24T10:00:52.718Z"
   },
   {
    "duration": 0,
    "start_time": "2024-02-24T10:00:52.719Z"
   },
   {
    "duration": 0,
    "start_time": "2024-02-24T10:00:52.721Z"
   },
   {
    "duration": 0,
    "start_time": "2024-02-24T10:00:52.722Z"
   },
   {
    "duration": 0,
    "start_time": "2024-02-24T10:00:52.723Z"
   },
   {
    "duration": 0,
    "start_time": "2024-02-24T10:00:52.725Z"
   },
   {
    "duration": 0,
    "start_time": "2024-02-24T10:00:52.726Z"
   },
   {
    "duration": 0,
    "start_time": "2024-02-24T10:00:52.728Z"
   },
   {
    "duration": 0,
    "start_time": "2024-02-24T10:00:52.729Z"
   },
   {
    "duration": 0,
    "start_time": "2024-02-24T10:00:52.730Z"
   },
   {
    "duration": 0,
    "start_time": "2024-02-24T10:00:52.731Z"
   },
   {
    "duration": 23,
    "start_time": "2024-02-24T10:01:31.778Z"
   },
   {
    "duration": 113,
    "start_time": "2024-02-24T10:03:56.276Z"
   },
   {
    "duration": 295753,
    "start_time": "2024-02-24T10:04:02.188Z"
   },
   {
    "duration": 0,
    "start_time": "2024-02-24T10:08:57.943Z"
   },
   {
    "duration": 0,
    "start_time": "2024-02-24T10:08:57.944Z"
   },
   {
    "duration": 4,
    "start_time": "2024-02-24T10:09:02.831Z"
   },
   {
    "duration": 8260,
    "start_time": "2024-02-24T10:10:34.063Z"
   },
   {
    "duration": 144,
    "start_time": "2024-02-24T10:15:08.304Z"
   },
   {
    "duration": 183,
    "start_time": "2024-02-24T10:15:20.514Z"
   },
   {
    "duration": 302,
    "start_time": "2024-02-24T10:16:10.738Z"
   },
   {
    "duration": 231,
    "start_time": "2024-02-24T10:20:52.755Z"
   },
   {
    "duration": 51,
    "start_time": "2024-02-24T10:21:01.735Z"
   },
   {
    "duration": 156,
    "start_time": "2024-02-24T10:21:43.980Z"
   },
   {
    "duration": 12,
    "start_time": "2024-02-24T10:22:46.821Z"
   },
   {
    "duration": 10,
    "start_time": "2024-02-24T10:22:54.348Z"
   },
   {
    "duration": 17,
    "start_time": "2024-02-24T10:23:28.340Z"
   },
   {
    "duration": 8,
    "start_time": "2024-02-24T10:24:03.613Z"
   },
   {
    "duration": 8,
    "start_time": "2024-02-24T10:24:14.757Z"
   },
   {
    "duration": 41,
    "start_time": "2024-02-24T10:25:32.599Z"
   },
   {
    "duration": 41,
    "start_time": "2024-02-24T10:26:14.447Z"
   },
   {
    "duration": 39,
    "start_time": "2024-02-24T10:26:38.782Z"
   },
   {
    "duration": 77,
    "start_time": "2024-02-24T10:26:47.714Z"
   },
   {
    "duration": 336,
    "start_time": "2024-02-24T10:27:23.430Z"
   },
   {
    "duration": 120,
    "start_time": "2024-02-24T10:28:53.479Z"
   },
   {
    "duration": 230,
    "start_time": "2024-02-24T10:30:16.524Z"
   },
   {
    "duration": 266,
    "start_time": "2024-02-24T10:30:23.762Z"
   },
   {
    "duration": 43,
    "start_time": "2024-02-24T10:32:57.738Z"
   },
   {
    "duration": 138,
    "start_time": "2024-02-24T10:33:14.523Z"
   },
   {
    "duration": 195,
    "start_time": "2024-02-24T10:33:20.425Z"
   },
   {
    "duration": 48,
    "start_time": "2024-02-24T10:41:09.505Z"
   },
   {
    "duration": 12,
    "start_time": "2024-02-24T10:41:16.277Z"
   },
   {
    "duration": 121,
    "start_time": "2024-02-24T10:41:27.871Z"
   },
   {
    "duration": 2,
    "start_time": "2024-02-24T10:43:04.080Z"
   },
   {
    "duration": 9749,
    "start_time": "2024-02-24T10:44:49.846Z"
   },
   {
    "duration": 5,
    "start_time": "2024-02-24T10:44:59.597Z"
   },
   {
    "duration": 1097,
    "start_time": "2024-02-24T10:44:59.607Z"
   },
   {
    "duration": 6,
    "start_time": "2024-02-24T10:45:00.708Z"
   },
   {
    "duration": 553,
    "start_time": "2024-02-24T10:45:00.715Z"
   },
   {
    "duration": 571,
    "start_time": "2024-02-24T10:45:01.269Z"
   },
   {
    "duration": 4,
    "start_time": "2024-02-24T10:45:01.842Z"
   },
   {
    "duration": 1860,
    "start_time": "2024-02-24T10:45:01.847Z"
   },
   {
    "duration": 478,
    "start_time": "2024-02-24T10:45:03.712Z"
   },
   {
    "duration": 81,
    "start_time": "2024-02-24T10:45:04.192Z"
   },
   {
    "duration": 61,
    "start_time": "2024-02-24T10:45:04.275Z"
   },
   {
    "duration": 73873,
    "start_time": "2024-02-24T10:45:04.337Z"
   },
   {
    "duration": 6,
    "start_time": "2024-02-24T10:46:18.212Z"
   },
   {
    "duration": 152,
    "start_time": "2024-02-24T10:46:18.219Z"
   },
   {
    "duration": 4,
    "start_time": "2024-02-24T10:46:18.372Z"
   },
   {
    "duration": 4824,
    "start_time": "2024-02-24T10:46:18.377Z"
   },
   {
    "duration": 5,
    "start_time": "2024-02-24T10:46:23.205Z"
   },
   {
    "duration": 140,
    "start_time": "2024-02-24T10:46:23.212Z"
   },
   {
    "duration": 14,
    "start_time": "2024-02-24T10:51:38.436Z"
   },
   {
    "duration": 9501,
    "start_time": "2024-02-24T10:51:52.222Z"
   },
   {
    "duration": 14871,
    "start_time": "2024-02-24T10:53:51.507Z"
   },
   {
    "duration": 15001,
    "start_time": "2024-02-24T10:54:19.186Z"
   },
   {
    "duration": 7,
    "start_time": "2024-02-24T11:03:33.900Z"
   },
   {
    "duration": 74,
    "start_time": "2024-02-24T11:03:34.937Z"
   },
   {
    "duration": 13,
    "start_time": "2024-02-24T11:18:37.411Z"
   },
   {
    "duration": 22,
    "start_time": "2024-02-24T11:18:46.895Z"
   },
   {
    "duration": 13,
    "start_time": "2024-02-24T11:20:06.902Z"
   },
   {
    "duration": 11,
    "start_time": "2024-02-24T11:20:34.627Z"
   },
   {
    "duration": 12,
    "start_time": "2024-02-24T11:20:39.106Z"
   },
   {
    "duration": 11,
    "start_time": "2024-02-24T11:20:45.123Z"
   },
   {
    "duration": 14,
    "start_time": "2024-02-24T11:21:08.386Z"
   },
   {
    "duration": 12,
    "start_time": "2024-02-24T11:21:16.530Z"
   },
   {
    "duration": 9,
    "start_time": "2024-02-24T11:22:01.211Z"
   },
   {
    "duration": 131,
    "start_time": "2024-02-24T11:23:50.102Z"
   },
   {
    "duration": 9,
    "start_time": "2024-02-24T11:23:56.965Z"
   },
   {
    "duration": 9403,
    "start_time": "2024-02-24T11:25:16.887Z"
   },
   {
    "duration": 15,
    "start_time": "2024-02-24T11:25:28.327Z"
   },
   {
    "duration": 3,
    "start_time": "2024-02-24T11:26:22.167Z"
   },
   {
    "duration": 4,
    "start_time": "2024-02-24T11:26:28.200Z"
   },
   {
    "duration": 15,
    "start_time": "2024-02-24T11:26:30.297Z"
   },
   {
    "duration": 8922,
    "start_time": "2024-02-24T11:27:10.042Z"
   },
   {
    "duration": 3,
    "start_time": "2024-02-24T11:27:21.630Z"
   },
   {
    "duration": 5,
    "start_time": "2024-02-24T11:27:26.072Z"
   },
   {
    "duration": 13,
    "start_time": "2024-02-24T11:27:30.256Z"
   },
   {
    "duration": 9008,
    "start_time": "2024-02-24T11:29:11.043Z"
   },
   {
    "duration": 13,
    "start_time": "2024-02-24T11:29:20.054Z"
   },
   {
    "duration": 4,
    "start_time": "2024-02-24T11:33:11.091Z"
   },
   {
    "duration": 15956,
    "start_time": "2024-02-24T11:33:14.666Z"
   },
   {
    "duration": 112,
    "start_time": "2024-02-24T11:37:52.777Z"
   },
   {
    "duration": 4,
    "start_time": "2024-02-24T11:39:50.038Z"
   },
   {
    "duration": 115,
    "start_time": "2024-02-24T11:39:52.224Z"
   },
   {
    "duration": 136,
    "start_time": "2024-02-24T11:39:53.007Z"
   },
   {
    "duration": 9,
    "start_time": "2024-02-24T11:39:53.705Z"
   },
   {
    "duration": 3,
    "start_time": "2024-02-24T11:39:55.679Z"
   },
   {
    "duration": 4,
    "start_time": "2024-02-24T11:39:56.295Z"
   },
   {
    "duration": 4,
    "start_time": "2024-02-24T11:39:57.175Z"
   },
   {
    "duration": 3,
    "start_time": "2024-02-24T11:39:59.815Z"
   },
   {
    "duration": 15236,
    "start_time": "2024-02-24T11:40:00.906Z"
   },
   {
    "duration": 102,
    "start_time": "2024-02-24T11:42:56.945Z"
   },
   {
    "duration": 3,
    "start_time": "2024-02-24T11:43:05.264Z"
   },
   {
    "duration": 578065,
    "start_time": "2024-02-24T11:43:06.769Z"
   },
   {
    "duration": 9,
    "start_time": "2024-02-24T11:53:18.912Z"
   },
   {
    "duration": 1009013,
    "start_time": "2024-02-24T11:53:19.618Z"
   },
   {
    "duration": 977,
    "start_time": "2024-02-24T12:13:53.346Z"
   },
   {
    "duration": 9,
    "start_time": "2024-02-24T12:14:08.770Z"
   },
   {
    "duration": 14,
    "start_time": "2024-02-24T12:14:25.474Z"
   },
   {
    "duration": 23,
    "start_time": "2024-02-24T12:14:42.618Z"
   },
   {
    "duration": 12,
    "start_time": "2024-02-24T12:15:26.355Z"
   },
   {
    "duration": 6135,
    "start_time": "2024-02-24T12:15:29.634Z"
   },
   {
    "duration": 6620,
    "start_time": "2024-02-24T12:15:43.738Z"
   },
   {
    "duration": 6321,
    "start_time": "2024-02-24T12:16:02.468Z"
   },
   {
    "duration": 4,
    "start_time": "2024-02-24T12:21:49.103Z"
   },
   {
    "duration": 28,
    "start_time": "2024-02-24T12:21:54.023Z"
   },
   {
    "duration": 27,
    "start_time": "2024-02-24T12:22:12.263Z"
   },
   {
    "duration": 3,
    "start_time": "2024-02-24T12:26:43.082Z"
   },
   {
    "duration": 12615,
    "start_time": "2024-02-24T12:26:44.050Z"
   },
   {
    "duration": 1593,
    "start_time": "2024-02-24T12:35:28.951Z"
   },
   {
    "duration": 7,
    "start_time": "2024-02-24T12:35:53.143Z"
   },
   {
    "duration": 962,
    "start_time": "2024-02-24T12:36:13.312Z"
   },
   {
    "duration": 3,
    "start_time": "2024-02-24T12:38:46.184Z"
   },
   {
    "duration": 121,
    "start_time": "2024-02-24T12:38:47.032Z"
   },
   {
    "duration": 4,
    "start_time": "2024-02-24T12:38:51.087Z"
   },
   {
    "duration": 3,
    "start_time": "2024-02-24T12:38:54.463Z"
   },
   {
    "duration": 3,
    "start_time": "2024-02-24T12:38:57.583Z"
   },
   {
    "duration": 4,
    "start_time": "2024-02-24T12:38:58.056Z"
   },
   {
    "duration": 3,
    "start_time": "2024-02-24T12:39:01.079Z"
   },
   {
    "duration": 13125,
    "start_time": "2024-02-24T12:39:02.616Z"
   },
   {
    "duration": 3,
    "start_time": "2024-02-24T12:52:46.551Z"
   },
   {
    "duration": 15,
    "start_time": "2024-02-24T12:52:47.497Z"
   },
   {
    "duration": 3,
    "start_time": "2024-02-24T12:57:21.540Z"
   },
   {
    "duration": 1332380,
    "start_time": "2024-02-24T12:57:22.132Z"
   },
   {
    "duration": 991,
    "start_time": "2024-02-24T16:57:42.233Z"
   },
   {
    "duration": 11,
    "start_time": "2024-02-24T17:01:05.622Z"
   },
   {
    "duration": 8749,
    "start_time": "2024-02-24T17:01:22.942Z"
   },
   {
    "duration": 6,
    "start_time": "2024-02-24T17:01:31.694Z"
   },
   {
    "duration": 1072,
    "start_time": "2024-02-24T17:01:31.701Z"
   },
   {
    "duration": 6,
    "start_time": "2024-02-24T17:01:32.776Z"
   },
   {
    "duration": 463,
    "start_time": "2024-02-24T17:01:32.794Z"
   },
   {
    "duration": 487,
    "start_time": "2024-02-24T17:01:33.259Z"
   },
   {
    "duration": 4,
    "start_time": "2024-02-24T17:01:33.749Z"
   },
   {
    "duration": 1997,
    "start_time": "2024-02-24T17:01:33.754Z"
   },
   {
    "duration": 474,
    "start_time": "2024-02-24T17:01:35.752Z"
   },
   {
    "duration": 100,
    "start_time": "2024-02-24T17:01:36.229Z"
   },
   {
    "duration": 5,
    "start_time": "2024-02-24T17:01:36.330Z"
   },
   {
    "duration": 10,
    "start_time": "2024-02-24T17:01:41.024Z"
   },
   {
    "duration": 9962,
    "start_time": "2024-02-24T17:01:55.791Z"
   },
   {
    "duration": 3,
    "start_time": "2024-02-24T17:02:05.755Z"
   },
   {
    "duration": 1158,
    "start_time": "2024-02-24T17:02:05.759Z"
   },
   {
    "duration": 9,
    "start_time": "2024-02-24T17:02:06.920Z"
   },
   {
    "duration": 514,
    "start_time": "2024-02-24T17:02:06.930Z"
   },
   {
    "duration": 557,
    "start_time": "2024-02-24T17:02:07.446Z"
   },
   {
    "duration": 5,
    "start_time": "2024-02-24T17:02:08.006Z"
   },
   {
    "duration": 2183,
    "start_time": "2024-02-24T17:02:08.012Z"
   },
   {
    "duration": 548,
    "start_time": "2024-02-24T17:02:10.205Z"
   },
   {
    "duration": 97,
    "start_time": "2024-02-24T17:02:10.755Z"
   },
   {
    "duration": 4,
    "start_time": "2024-02-24T17:02:10.854Z"
   },
   {
    "duration": 37,
    "start_time": "2024-02-24T17:02:10.860Z"
   },
   {
    "duration": 17,
    "start_time": "2024-02-24T17:02:10.991Z"
   },
   {
    "duration": 152,
    "start_time": "2024-02-24T17:02:12.880Z"
   },
   {
    "duration": 3,
    "start_time": "2024-02-24T17:02:17.376Z"
   },
   {
    "duration": 13,
    "start_time": "2024-02-24T17:02:20.905Z"
   },
   {
    "duration": 3,
    "start_time": "2024-02-24T17:02:25.728Z"
   },
   {
    "duration": 140,
    "start_time": "2024-02-24T17:02:26.336Z"
   },
   {
    "duration": 3,
    "start_time": "2024-02-24T17:02:27.288Z"
   },
   {
    "duration": 3,
    "start_time": "2024-02-24T17:02:31.136Z"
   },
   {
    "duration": 3,
    "start_time": "2024-02-24T17:02:31.680Z"
   },
   {
    "duration": 9,
    "start_time": "2024-02-24T17:02:32.096Z"
   },
   {
    "duration": 152,
    "start_time": "2024-02-24T17:02:33.264Z"
   },
   {
    "duration": 96,
    "start_time": "2024-02-24T17:03:23.161Z"
   },
   {
    "duration": 3,
    "start_time": "2024-02-24T17:03:28.577Z"
   },
   {
    "duration": 213917,
    "start_time": "2024-02-24T17:03:34.945Z"
   },
   {
    "duration": 3,
    "start_time": "2024-02-24T17:07:10.770Z"
   },
   {
    "duration": 13143,
    "start_time": "2024-02-24T17:07:11.523Z"
   },
   {
    "duration": 5,
    "start_time": "2024-02-24T17:09:01.297Z"
   },
   {
    "duration": 12899,
    "start_time": "2024-02-24T17:09:03.466Z"
   },
   {
    "duration": 4,
    "start_time": "2024-02-24T19:35:32.841Z"
   },
   {
    "duration": 41291,
    "start_time": "2024-02-24T19:35:33.607Z"
   },
   {
    "duration": 37,
    "start_time": "2024-02-24T19:41:07.520Z"
   },
   {
    "duration": 1327,
    "start_time": "2024-02-24T19:41:52.513Z"
   },
   {
    "duration": 33,
    "start_time": "2024-02-24T19:42:14.465Z"
   },
   {
    "duration": 852,
    "start_time": "2024-02-24T19:42:15.345Z"
   },
   {
    "duration": 4,
    "start_time": "2024-02-24T19:42:30.217Z"
   },
   {
    "duration": 14125,
    "start_time": "2024-02-24T19:42:30.746Z"
   },
   {
    "duration": 3,
    "start_time": "2024-02-24T19:43:05.154Z"
   },
   {
    "duration": 112,
    "start_time": "2024-02-24T19:43:05.517Z"
   },
   {
    "duration": 4,
    "start_time": "2024-02-24T19:43:10.025Z"
   },
   {
    "duration": 3,
    "start_time": "2024-02-24T19:43:11.683Z"
   },
   {
    "duration": 3,
    "start_time": "2024-02-24T19:43:12.347Z"
   },
   {
    "duration": 4,
    "start_time": "2024-02-24T19:43:56.803Z"
   },
   {
    "duration": 151,
    "start_time": "2024-02-24T19:44:09.738Z"
   },
   {
    "duration": 10,
    "start_time": "2024-02-24T19:44:22.396Z"
   },
   {
    "duration": 4,
    "start_time": "2024-02-24T19:44:59.078Z"
   },
   {
    "duration": 3,
    "start_time": "2024-02-24T19:45:01.547Z"
   },
   {
    "duration": 3,
    "start_time": "2024-02-24T19:45:03.643Z"
   },
   {
    "duration": 5,
    "start_time": "2024-02-24T19:45:07.443Z"
   },
   {
    "duration": 5,
    "start_time": "2024-02-24T19:45:09.199Z"
   },
   {
    "duration": 87204,
    "start_time": "2024-02-24T19:45:14.943Z"
   },
   {
    "duration": 3,
    "start_time": "2024-02-24T19:46:56.435Z"
   },
   {
    "duration": 106,
    "start_time": "2024-02-24T19:46:56.965Z"
   },
   {
    "duration": 4,
    "start_time": "2024-02-24T19:46:58.709Z"
   },
   {
    "duration": 3,
    "start_time": "2024-02-24T19:47:01.836Z"
   },
   {
    "duration": 3,
    "start_time": "2024-02-24T19:47:02.572Z"
   },
   {
    "duration": 6,
    "start_time": "2024-02-24T19:47:04.438Z"
   },
   {
    "duration": 2,
    "start_time": "2024-02-24T19:47:05.020Z"
   },
   {
    "duration": 2029,
    "start_time": "2024-02-24T19:47:06.380Z"
   },
   {
    "duration": 3,
    "start_time": "2024-02-24T19:52:36.458Z"
   },
   {
    "duration": 3,
    "start_time": "2024-02-24T19:52:37.448Z"
   },
   {
    "duration": 3,
    "start_time": "2024-02-24T19:52:38.761Z"
   },
   {
    "duration": 11,
    "start_time": "2024-02-24T19:52:39.098Z"
   },
   {
    "duration": 3,
    "start_time": "2024-02-24T19:52:40.352Z"
   },
   {
    "duration": 255,
    "start_time": "2024-02-24T19:52:40.881Z"
   },
   {
    "duration": 9,
    "start_time": "2024-02-24T19:54:13.850Z"
   },
   {
    "duration": 3,
    "start_time": "2024-02-24T19:54:24.347Z"
   },
   {
    "duration": 3,
    "start_time": "2024-02-24T19:54:25.784Z"
   },
   {
    "duration": 3,
    "start_time": "2024-02-24T19:54:26.538Z"
   },
   {
    "duration": 14,
    "start_time": "2024-02-24T19:54:27.185Z"
   },
   {
    "duration": 2,
    "start_time": "2024-02-24T19:54:27.737Z"
   },
   {
    "duration": 117,
    "start_time": "2024-02-24T19:54:28.954Z"
   },
   {
    "duration": 3,
    "start_time": "2024-02-24T19:55:57.562Z"
   },
   {
    "duration": 3,
    "start_time": "2024-02-24T19:55:57.978Z"
   },
   {
    "duration": 3,
    "start_time": "2024-02-24T19:55:58.523Z"
   },
   {
    "duration": 3,
    "start_time": "2024-02-24T19:55:59.258Z"
   },
   {
    "duration": 3,
    "start_time": "2024-02-24T19:55:59.778Z"
   },
   {
    "duration": 268,
    "start_time": "2024-02-24T19:56:00.885Z"
   },
   {
    "duration": 3,
    "start_time": "2024-02-24T19:58:12.877Z"
   },
   {
    "duration": 129,
    "start_time": "2024-02-24T19:58:13.244Z"
   },
   {
    "duration": 3,
    "start_time": "2024-02-24T19:58:13.845Z"
   },
   {
    "duration": 3,
    "start_time": "2024-02-24T19:58:15.524Z"
   },
   {
    "duration": 3,
    "start_time": "2024-02-24T19:58:16.437Z"
   },
   {
    "duration": 4,
    "start_time": "2024-02-24T19:58:17.621Z"
   },
   {
    "duration": 3,
    "start_time": "2024-02-24T19:58:17.974Z"
   },
   {
    "duration": 919497,
    "start_time": "2024-02-24T19:58:19.159Z"
   },
   {
    "duration": 875,
    "start_time": "2024-02-24T20:15:43.169Z"
   },
   {
    "duration": 20,
    "start_time": "2024-02-24T20:15:55.806Z"
   },
   {
    "duration": 26,
    "start_time": "2024-02-24T20:16:06.079Z"
   },
   {
    "duration": 884,
    "start_time": "2024-02-24T20:16:37.248Z"
   },
   {
    "duration": 169,
    "start_time": "2024-02-24T20:21:12.547Z"
   },
   {
    "duration": 3047,
    "start_time": "2024-02-24T20:30:13.371Z"
   },
   {
    "duration": 3222,
    "start_time": "2024-02-24T20:30:29.239Z"
   },
   {
    "duration": 3206,
    "start_time": "2024-02-24T20:30:47.282Z"
   },
   {
    "duration": 3196,
    "start_time": "2024-02-24T20:30:57.947Z"
   },
   {
    "duration": 4,
    "start_time": "2024-02-24T20:31:31.227Z"
   },
   {
    "duration": 1105,
    "start_time": "2024-02-24T20:31:32.729Z"
   },
   {
    "duration": 4,
    "start_time": "2024-02-24T20:32:23.434Z"
   },
   {
    "duration": 1187,
    "start_time": "2024-02-24T20:32:23.988Z"
   },
   {
    "duration": 3068,
    "start_time": "2024-02-24T20:33:27.385Z"
   },
   {
    "duration": 3184,
    "start_time": "2024-02-24T20:33:50.465Z"
   },
   {
    "duration": 3244,
    "start_time": "2024-02-24T20:34:17.276Z"
   },
   {
    "duration": 3075,
    "start_time": "2024-02-24T20:34:42.465Z"
   },
   {
    "duration": 3207,
    "start_time": "2024-02-24T20:36:03.083Z"
   },
   {
    "duration": 3169,
    "start_time": "2024-02-24T20:36:52.131Z"
   },
   {
    "duration": 13,
    "start_time": "2024-02-25T10:17:37.180Z"
   },
   {
    "duration": 5,
    "start_time": "2024-02-25T10:17:58.851Z"
   },
   {
    "duration": 7864,
    "start_time": "2024-02-25T10:31:36.344Z"
   },
   {
    "duration": 1279,
    "start_time": "2024-02-25T10:31:44.210Z"
   },
   {
    "duration": 2,
    "start_time": "2024-02-25T10:31:45.493Z"
   },
   {
    "duration": 1043,
    "start_time": "2024-02-25T10:31:45.496Z"
   },
   {
    "duration": 5,
    "start_time": "2024-02-25T10:31:46.541Z"
   },
   {
    "duration": 476,
    "start_time": "2024-02-25T10:31:46.547Z"
   },
   {
    "duration": 514,
    "start_time": "2024-02-25T10:31:47.026Z"
   },
   {
    "duration": 4,
    "start_time": "2024-02-25T10:31:47.541Z"
   },
   {
    "duration": 1636,
    "start_time": "2024-02-25T10:31:47.547Z"
   },
   {
    "duration": 477,
    "start_time": "2024-02-25T10:31:49.184Z"
   },
   {
    "duration": 93,
    "start_time": "2024-02-25T10:31:49.663Z"
   },
   {
    "duration": 4,
    "start_time": "2024-02-25T10:31:49.758Z"
   },
   {
    "duration": 43,
    "start_time": "2024-02-25T10:31:49.763Z"
   },
   {
    "duration": 12,
    "start_time": "2024-02-25T10:31:49.808Z"
   },
   {
    "duration": 136,
    "start_time": "2024-02-25T10:31:49.822Z"
   },
   {
    "duration": 59,
    "start_time": "2024-02-25T10:31:49.959Z"
   },
   {
    "duration": 883,
    "start_time": "2024-02-25T10:31:50.020Z"
   },
   {
    "duration": 5,
    "start_time": "2024-02-25T10:31:50.905Z"
   },
   {
    "duration": 59,
    "start_time": "2024-02-25T10:31:50.911Z"
   },
   {
    "duration": 10,
    "start_time": "2024-02-25T10:31:50.972Z"
   },
   {
    "duration": 131,
    "start_time": "2024-02-25T10:31:50.984Z"
   },
   {
    "duration": 5,
    "start_time": "2024-02-25T10:31:51.117Z"
   },
   {
    "duration": 24,
    "start_time": "2024-02-25T10:31:51.124Z"
   },
   {
    "duration": 30,
    "start_time": "2024-02-25T10:31:51.150Z"
   },
   {
    "duration": 132,
    "start_time": "2024-02-25T10:31:51.181Z"
   },
   {
    "duration": 0,
    "start_time": "2024-02-25T10:31:51.315Z"
   },
   {
    "duration": 0,
    "start_time": "2024-02-25T10:31:51.317Z"
   },
   {
    "duration": 0,
    "start_time": "2024-02-25T10:31:51.318Z"
   },
   {
    "duration": 0,
    "start_time": "2024-02-25T10:31:51.320Z"
   },
   {
    "duration": 0,
    "start_time": "2024-02-25T10:31:51.321Z"
   },
   {
    "duration": 0,
    "start_time": "2024-02-25T10:31:51.322Z"
   },
   {
    "duration": 0,
    "start_time": "2024-02-25T10:31:51.324Z"
   },
   {
    "duration": 5,
    "start_time": "2024-02-25T10:34:46.205Z"
   },
   {
    "duration": 6,
    "start_time": "2024-02-25T10:34:52.985Z"
   },
   {
    "duration": 59,
    "start_time": "2024-02-25T10:34:52.993Z"
   },
   {
    "duration": 1325944,
    "start_time": "2024-02-25T10:34:53.054Z"
   },
   {
    "duration": 1710,
    "start_time": "2024-02-25T10:56:59.000Z"
   },
   {
    "duration": 84,
    "start_time": "2024-02-25T10:57:00.712Z"
   },
   {
    "duration": 12,
    "start_time": "2024-02-25T10:57:00.797Z"
   },
   {
    "duration": 6100,
    "start_time": "2024-02-25T10:57:00.810Z"
   },
   {
    "duration": 30,
    "start_time": "2024-02-25T10:57:06.912Z"
   },
   {
    "duration": 13975,
    "start_time": "2024-02-25T10:58:22.968Z"
   },
   {
    "duration": 20,
    "start_time": "2024-02-25T11:01:36.320Z"
   },
   {
    "duration": 18,
    "start_time": "2024-02-25T11:01:39.402Z"
   },
   {
    "duration": 82,
    "start_time": "2024-02-25T11:01:44.705Z"
   },
   {
    "duration": 4,
    "start_time": "2024-02-25T11:02:15.031Z"
   },
   {
    "duration": 104,
    "start_time": "2024-02-25T11:02:15.720Z"
   },
   {
    "duration": 3,
    "start_time": "2024-02-25T11:02:16.520Z"
   },
   {
    "duration": 3,
    "start_time": "2024-02-25T11:02:17.504Z"
   },
   {
    "duration": 3,
    "start_time": "2024-02-25T11:02:17.976Z"
   },
   {
    "duration": 107,
    "start_time": "2024-02-25T11:02:18.376Z"
   },
   {
    "duration": 3,
    "start_time": "2024-02-25T11:02:19.728Z"
   },
   {
    "duration": 3,
    "start_time": "2024-02-25T11:02:34.372Z"
   },
   {
    "duration": 901530,
    "start_time": "2024-02-25T11:02:34.377Z"
   },
   {
    "duration": 1002,
    "start_time": "2024-02-25T11:17:35.909Z"
   },
   {
    "duration": 20,
    "start_time": "2024-02-25T11:17:36.995Z"
   },
   {
    "duration": 41,
    "start_time": "2024-02-25T11:17:37.017Z"
   },
   {
    "duration": 1661,
    "start_time": "2024-02-25T11:17:37.059Z"
   },
   {
    "duration": 32,
    "start_time": "2024-02-25T11:17:38.722Z"
   },
   {
    "duration": 5,
    "start_time": "2024-02-25T11:18:33.423Z"
   },
   {
    "duration": 12,
    "start_time": "2024-02-25T11:18:38.159Z"
   },
   {
    "duration": 1746,
    "start_time": "2024-02-25T11:18:38.742Z"
   },
   {
    "duration": 31,
    "start_time": "2024-02-25T11:18:48.831Z"
   },
   {
    "duration": 18,
    "start_time": "2024-02-25T11:18:52.295Z"
   },
   {
    "duration": 26,
    "start_time": "2024-02-25T11:19:09.184Z"
   },
   {
    "duration": 30,
    "start_time": "2024-02-25T11:19:27.792Z"
   },
   {
    "duration": 26,
    "start_time": "2024-02-25T11:19:33.793Z"
   },
   {
    "duration": 31,
    "start_time": "2024-02-25T11:19:40.353Z"
   },
   {
    "duration": 32,
    "start_time": "2024-02-25T11:19:42.952Z"
   },
   {
    "duration": 25,
    "start_time": "2024-02-25T11:19:59.113Z"
   },
   {
    "duration": 20,
    "start_time": "2024-02-25T11:24:41.887Z"
   },
   {
    "duration": 82,
    "start_time": "2024-02-25T11:24:42.198Z"
   },
   {
    "duration": 3,
    "start_time": "2024-02-25T11:24:51.519Z"
   },
   {
    "duration": 104,
    "start_time": "2024-02-25T11:24:51.872Z"
   },
   {
    "duration": 3,
    "start_time": "2024-02-25T11:24:52.591Z"
   },
   {
    "duration": 2,
    "start_time": "2024-02-25T11:24:54.497Z"
   },
   {
    "duration": 3,
    "start_time": "2024-02-25T11:24:54.823Z"
   },
   {
    "duration": 5,
    "start_time": "2024-02-25T11:24:55.582Z"
   },
   {
    "duration": 3,
    "start_time": "2024-02-25T11:24:58.223Z"
   },
   {
    "duration": 8,
    "start_time": "2024-02-25T11:25:37.241Z"
   },
   {
    "duration": 9,
    "start_time": "2024-02-25T11:25:54.552Z"
   },
   {
    "duration": 85,
    "start_time": "2024-02-25T11:26:08.712Z"
   },
   {
    "duration": 4,
    "start_time": "2024-02-25T11:26:12.392Z"
   },
   {
    "duration": 98,
    "start_time": "2024-02-25T11:26:13.368Z"
   },
   {
    "duration": 3,
    "start_time": "2024-02-25T11:26:14.113Z"
   },
   {
    "duration": 3,
    "start_time": "2024-02-25T11:26:15.800Z"
   },
   {
    "duration": 3,
    "start_time": "2024-02-25T11:26:16.128Z"
   },
   {
    "duration": 4,
    "start_time": "2024-02-25T11:26:16.513Z"
   },
   {
    "duration": 2,
    "start_time": "2024-02-25T11:26:18.681Z"
   },
   {
    "duration": 9,
    "start_time": "2024-02-25T11:26:22.544Z"
   },
   {
    "duration": 7790,
    "start_time": "2024-02-25T11:35:22.239Z"
   },
   {
    "duration": 1315,
    "start_time": "2024-02-25T11:35:30.031Z"
   },
   {
    "duration": 2,
    "start_time": "2024-02-25T11:35:31.348Z"
   },
   {
    "duration": 1089,
    "start_time": "2024-02-25T11:35:31.352Z"
   },
   {
    "duration": 5,
    "start_time": "2024-02-25T11:35:32.443Z"
   },
   {
    "duration": 571,
    "start_time": "2024-02-25T11:35:32.449Z"
   },
   {
    "duration": 530,
    "start_time": "2024-02-25T11:35:33.022Z"
   },
   {
    "duration": 3,
    "start_time": "2024-02-25T11:35:33.554Z"
   },
   {
    "duration": 1648,
    "start_time": "2024-02-25T11:35:33.559Z"
   },
   {
    "duration": 466,
    "start_time": "2024-02-25T11:35:35.210Z"
   },
   {
    "duration": 91,
    "start_time": "2024-02-25T11:35:35.678Z"
   },
   {
    "duration": 4,
    "start_time": "2024-02-25T11:35:35.770Z"
   },
   {
    "duration": 28,
    "start_time": "2024-02-25T11:35:35.776Z"
   },
   {
    "duration": 18,
    "start_time": "2024-02-25T11:35:35.805Z"
   },
   {
    "duration": 136,
    "start_time": "2024-02-25T11:35:35.825Z"
   },
   {
    "duration": 57,
    "start_time": "2024-02-25T11:35:35.963Z"
   },
   {
    "duration": 813,
    "start_time": "2024-02-25T11:35:36.022Z"
   },
   {
    "duration": 4,
    "start_time": "2024-02-25T11:35:36.836Z"
   },
   {
    "duration": 1194,
    "start_time": "2024-02-25T11:35:36.842Z"
   },
   {
    "duration": 3,
    "start_time": "2024-02-25T11:35:38.038Z"
   },
   {
    "duration": 13817,
    "start_time": "2024-02-25T11:35:38.043Z"
   },
   {
    "duration": 42,
    "start_time": "2024-02-25T11:35:51.862Z"
   },
   {
    "duration": 111,
    "start_time": "2024-02-25T11:35:51.906Z"
   },
   {
    "duration": 4,
    "start_time": "2024-02-25T11:35:52.019Z"
   },
   {
    "duration": 142,
    "start_time": "2024-02-25T11:35:52.025Z"
   },
   {
    "duration": 4,
    "start_time": "2024-02-25T11:35:52.169Z"
   },
   {
    "duration": 19,
    "start_time": "2024-02-25T11:35:52.175Z"
   },
   {
    "duration": 9,
    "start_time": "2024-02-25T11:35:52.198Z"
   },
   {
    "duration": 10,
    "start_time": "2024-02-25T11:35:52.209Z"
   },
   {
    "duration": 21,
    "start_time": "2024-02-25T11:35:52.221Z"
   },
   {
    "duration": 356168,
    "start_time": "2024-02-25T11:35:52.243Z"
   },
   {
    "duration": 1082,
    "start_time": "2024-02-25T11:41:48.413Z"
   },
   {
    "duration": 21,
    "start_time": "2024-02-25T11:41:49.497Z"
   },
   {
    "duration": 11,
    "start_time": "2024-02-25T11:41:49.519Z"
   },
   {
    "duration": 1792,
    "start_time": "2024-02-25T11:41:49.532Z"
   },
   {
    "duration": 34,
    "start_time": "2024-02-25T11:41:51.325Z"
   },
   {
    "duration": 54,
    "start_time": "2024-02-25T11:41:51.361Z"
   },
   {
    "duration": 3,
    "start_time": "2024-02-25T11:49:38.723Z"
   },
   {
    "duration": 4,
    "start_time": "2024-02-25T11:49:39.866Z"
   },
   {
    "duration": 4,
    "start_time": "2024-02-25T11:49:42.026Z"
   },
   {
    "duration": 4,
    "start_time": "2024-02-25T11:49:48.768Z"
   },
   {
    "duration": 21532,
    "start_time": "2024-02-25T11:49:48.774Z"
   },
   {
    "duration": 258,
    "start_time": "2024-02-25T11:50:10.308Z"
   },
   {
    "duration": 30,
    "start_time": "2024-02-25T11:50:10.568Z"
   },
   {
    "duration": 43,
    "start_time": "2024-02-25T11:50:10.599Z"
   },
   {
    "duration": 228,
    "start_time": "2024-02-25T11:51:57.357Z"
   },
   {
    "duration": 3,
    "start_time": "2024-02-25T11:52:24.599Z"
   },
   {
    "duration": 4,
    "start_time": "2024-02-25T11:52:25.589Z"
   },
   {
    "duration": 248,
    "start_time": "2024-02-25T11:52:35.157Z"
   },
   {
    "duration": 86,
    "start_time": "2024-02-25T11:58:51.851Z"
   },
   {
    "duration": 7781,
    "start_time": "2024-02-25T12:23:01.719Z"
   },
   {
    "duration": 1228,
    "start_time": "2024-02-25T12:23:09.502Z"
   },
   {
    "duration": 2,
    "start_time": "2024-02-25T12:23:10.731Z"
   },
   {
    "duration": 1235,
    "start_time": "2024-02-25T12:23:10.736Z"
   },
   {
    "duration": 5,
    "start_time": "2024-02-25T12:23:11.973Z"
   },
   {
    "duration": 465,
    "start_time": "2024-02-25T12:23:11.979Z"
   },
   {
    "duration": 494,
    "start_time": "2024-02-25T12:23:12.446Z"
   },
   {
    "duration": 3,
    "start_time": "2024-02-25T12:23:12.942Z"
   },
   {
    "duration": 1524,
    "start_time": "2024-02-25T12:23:12.946Z"
   },
   {
    "duration": 445,
    "start_time": "2024-02-25T12:23:14.474Z"
   },
   {
    "duration": 83,
    "start_time": "2024-02-25T12:23:14.921Z"
   },
   {
    "duration": 5,
    "start_time": "2024-02-25T12:23:15.005Z"
   },
   {
    "duration": 67,
    "start_time": "2024-02-25T12:23:15.012Z"
   },
   {
    "duration": 8,
    "start_time": "2024-02-25T12:23:15.081Z"
   },
   {
    "duration": 117,
    "start_time": "2024-02-25T12:23:15.091Z"
   },
   {
    "duration": 44,
    "start_time": "2024-02-25T12:23:15.210Z"
   },
   {
    "duration": 789,
    "start_time": "2024-02-25T12:23:15.255Z"
   },
   {
    "duration": 5,
    "start_time": "2024-02-25T12:23:16.045Z"
   },
   {
    "duration": 1094,
    "start_time": "2024-02-25T12:23:16.051Z"
   },
   {
    "duration": 5,
    "start_time": "2024-02-25T12:23:17.147Z"
   },
   {
    "duration": 13299,
    "start_time": "2024-02-25T12:23:17.153Z"
   },
   {
    "duration": 25,
    "start_time": "2024-02-25T12:23:30.454Z"
   },
   {
    "duration": 134,
    "start_time": "2024-02-25T12:23:30.481Z"
   },
   {
    "duration": 3,
    "start_time": "2024-02-25T12:23:30.617Z"
   },
   {
    "duration": 182,
    "start_time": "2024-02-25T12:23:30.622Z"
   },
   {
    "duration": 75,
    "start_time": "2024-02-25T12:23:30.805Z"
   },
   {
    "duration": 57,
    "start_time": "2024-02-25T12:23:30.882Z"
   },
   {
    "duration": 71,
    "start_time": "2024-02-25T12:23:30.942Z"
   },
   {
    "duration": 50,
    "start_time": "2024-02-25T12:23:31.015Z"
   },
   {
    "duration": 51,
    "start_time": "2024-02-25T12:23:31.067Z"
   },
   {
    "duration": 375554,
    "start_time": "2024-02-25T12:23:31.121Z"
   },
   {
    "duration": 999,
    "start_time": "2024-02-25T12:29:46.676Z"
   },
   {
    "duration": 23,
    "start_time": "2024-02-25T12:29:47.677Z"
   },
   {
    "duration": 11,
    "start_time": "2024-02-25T12:29:47.702Z"
   },
   {
    "duration": 1764,
    "start_time": "2024-02-25T12:29:47.764Z"
   },
   {
    "duration": 39,
    "start_time": "2024-02-25T12:29:49.530Z"
   },
   {
    "duration": 32,
    "start_time": "2024-02-25T12:29:49.571Z"
   },
   {
    "duration": 7,
    "start_time": "2024-02-25T12:29:49.604Z"
   },
   {
    "duration": 5,
    "start_time": "2024-02-25T12:29:49.612Z"
   },
   {
    "duration": 5,
    "start_time": "2024-02-25T12:29:49.618Z"
   },
   {
    "duration": 20713,
    "start_time": "2024-02-25T12:29:49.624Z"
   },
   {
    "duration": 3,
    "start_time": "2024-02-25T12:30:10.339Z"
   },
   {
    "duration": 234,
    "start_time": "2024-02-25T12:30:10.343Z"
   },
   {
    "duration": 21,
    "start_time": "2024-02-25T12:30:10.579Z"
   },
   {
    "duration": 67,
    "start_time": "2024-02-25T12:30:10.601Z"
   },
   {
    "duration": 7564,
    "start_time": "2024-02-25T18:06:56.665Z"
   },
   {
    "duration": 1248,
    "start_time": "2024-02-25T18:07:04.231Z"
   },
   {
    "duration": 2,
    "start_time": "2024-02-25T18:07:05.481Z"
   },
   {
    "duration": 991,
    "start_time": "2024-02-25T18:07:05.484Z"
   },
   {
    "duration": 4,
    "start_time": "2024-02-25T18:07:06.477Z"
   },
   {
    "duration": 451,
    "start_time": "2024-02-25T18:07:06.493Z"
   },
   {
    "duration": 470,
    "start_time": "2024-02-25T18:07:06.946Z"
   },
   {
    "duration": 3,
    "start_time": "2024-02-25T18:07:07.418Z"
   },
   {
    "duration": 1604,
    "start_time": "2024-02-25T18:07:07.422Z"
   },
   {
    "duration": 460,
    "start_time": "2024-02-25T18:07:09.029Z"
   },
   {
    "duration": 81,
    "start_time": "2024-02-25T18:07:09.490Z"
   },
   {
    "duration": 4,
    "start_time": "2024-02-25T18:07:09.572Z"
   },
   {
    "duration": 68222,
    "start_time": "2024-02-25T18:07:09.594Z"
   },
   {
    "duration": 7,
    "start_time": "2024-02-25T18:08:24.976Z"
   },
   {
    "duration": 125,
    "start_time": "2024-02-25T18:08:26.104Z"
   },
   {
    "duration": 39,
    "start_time": "2024-02-25T18:08:34.903Z"
   },
   {
    "duration": 875,
    "start_time": "2024-02-25T18:08:42.847Z"
   },
   {
    "duration": 111,
    "start_time": "2024-02-25T18:14:39.855Z"
   },
   {
    "duration": 9,
    "start_time": "2024-02-25T18:17:28.817Z"
   },
   {
    "duration": 1035,
    "start_time": "2024-02-25T18:17:32.690Z"
   },
   {
    "duration": 150,
    "start_time": "2024-02-25T18:17:36.114Z"
   },
   {
    "duration": 93,
    "start_time": "2024-02-25T18:18:27.035Z"
   },
   {
    "duration": 3,
    "start_time": "2024-02-25T18:18:42.537Z"
   },
   {
    "duration": 9,
    "start_time": "2024-02-25T18:25:23.395Z"
   },
   {
    "duration": 37,
    "start_time": "2024-02-25T18:25:50.665Z"
   },
   {
    "duration": 5,
    "start_time": "2024-02-25T18:28:33.811Z"
   },
   {
    "duration": 3,
    "start_time": "2024-02-25T18:28:34.314Z"
   },
   {
    "duration": 37,
    "start_time": "2024-02-25T18:30:52.213Z"
   },
   {
    "duration": 541,
    "start_time": "2024-02-25T18:31:19.077Z"
   },
   {
    "duration": 34,
    "start_time": "2024-02-25T18:32:43.270Z"
   },
   {
    "duration": 437,
    "start_time": "2024-02-25T18:32:43.606Z"
   },
   {
    "duration": 2,
    "start_time": "2024-02-25T18:36:55.418Z"
   },
   {
    "duration": 103,
    "start_time": "2024-02-25T18:37:24.866Z"
   },
   {
    "duration": 37,
    "start_time": "2024-02-25T18:37:38.403Z"
   },
   {
    "duration": 12226,
    "start_time": "2024-02-25T18:37:45.218Z"
   },
   {
    "duration": 98,
    "start_time": "2024-02-25T18:39:33.850Z"
   },
   {
    "duration": 18,
    "start_time": "2024-02-25T18:42:23.039Z"
   },
   {
    "duration": 82,
    "start_time": "2024-02-25T18:42:30.878Z"
   },
   {
    "duration": 117,
    "start_time": "2024-02-25T18:42:36.775Z"
   },
   {
    "duration": 3,
    "start_time": "2024-02-25T18:42:44.879Z"
   },
   {
    "duration": 118,
    "start_time": "2024-02-25T18:43:18.183Z"
   },
   {
    "duration": 179,
    "start_time": "2024-02-25T18:44:13.094Z"
   },
   {
    "duration": 96,
    "start_time": "2024-02-25T18:44:46.812Z"
   },
   {
    "duration": 96,
    "start_time": "2024-02-25T18:44:54.987Z"
   },
   {
    "duration": 343,
    "start_time": "2024-02-25T18:44:58.835Z"
   },
   {
    "duration": 345,
    "start_time": "2024-02-25T18:45:04.604Z"
   },
   {
    "duration": 129,
    "start_time": "2024-02-25T18:47:06.265Z"
   },
   {
    "duration": 9320,
    "start_time": "2024-02-25T18:51:17.959Z"
   },
   {
    "duration": 15,
    "start_time": "2024-02-25T18:51:54.446Z"
   },
   {
    "duration": 68,
    "start_time": "2024-02-25T18:51:55.045Z"
   },
   {
    "duration": 127,
    "start_time": "2024-02-25T18:53:20.678Z"
   },
   {
    "duration": 261,
    "start_time": "2024-02-25T18:53:21.749Z"
   },
   {
    "duration": 3,
    "start_time": "2024-02-25T18:56:08.493Z"
   },
   {
    "duration": 73,
    "start_time": "2024-02-25T18:56:10.846Z"
   },
   {
    "duration": 93,
    "start_time": "2024-02-25T19:27:45.497Z"
   },
   {
    "duration": 7534,
    "start_time": "2024-02-25T19:28:16.211Z"
   },
   {
    "duration": 1230,
    "start_time": "2024-02-25T19:28:23.747Z"
   },
   {
    "duration": 3,
    "start_time": "2024-02-25T19:28:24.979Z"
   },
   {
    "duration": 6,
    "start_time": "2024-02-25T19:28:24.985Z"
   },
   {
    "duration": 1006,
    "start_time": "2024-02-25T19:28:24.993Z"
   },
   {
    "duration": 5,
    "start_time": "2024-02-25T19:28:26.001Z"
   },
   {
    "duration": 482,
    "start_time": "2024-02-25T19:28:26.007Z"
   },
   {
    "duration": 509,
    "start_time": "2024-02-25T19:28:26.494Z"
   },
   {
    "duration": 4,
    "start_time": "2024-02-25T19:28:27.005Z"
   },
   {
    "duration": 1579,
    "start_time": "2024-02-25T19:28:27.012Z"
   },
   {
    "duration": 488,
    "start_time": "2024-02-25T19:28:28.594Z"
   },
   {
    "duration": 84,
    "start_time": "2024-02-25T19:28:29.084Z"
   },
   {
    "duration": 5,
    "start_time": "2024-02-25T19:28:29.170Z"
   },
   {
    "duration": 67283,
    "start_time": "2024-02-25T19:28:29.193Z"
   },
   {
    "duration": 17,
    "start_time": "2024-02-25T19:29:36.478Z"
   },
   {
    "duration": 140,
    "start_time": "2024-02-25T19:29:36.497Z"
   },
   {
    "duration": 36,
    "start_time": "2024-02-25T19:29:36.639Z"
   },
   {
    "duration": 900,
    "start_time": "2024-02-25T19:29:36.676Z"
   },
   {
    "duration": 41,
    "start_time": "2024-02-25T19:29:37.578Z"
   },
   {
    "duration": 426,
    "start_time": "2024-02-25T19:29:37.621Z"
   },
   {
    "duration": 54,
    "start_time": "2024-02-25T19:29:38.049Z"
   },
   {
    "duration": 11690,
    "start_time": "2024-02-25T19:29:38.105Z"
   },
   {
    "duration": 23,
    "start_time": "2024-02-25T19:29:49.796Z"
   },
   {
    "duration": 95,
    "start_time": "2024-02-25T19:29:49.820Z"
   },
   {
    "duration": 3,
    "start_time": "2024-02-25T19:29:49.917Z"
   },
   {
    "duration": 141,
    "start_time": "2024-02-25T19:29:49.921Z"
   },
   {
    "duration": 0,
    "start_time": "2024-02-25T19:29:50.064Z"
   },
   {
    "duration": 0,
    "start_time": "2024-02-25T19:29:50.065Z"
   },
   {
    "duration": 0,
    "start_time": "2024-02-25T19:29:50.066Z"
   },
   {
    "duration": 0,
    "start_time": "2024-02-25T19:29:50.067Z"
   },
   {
    "duration": 0,
    "start_time": "2024-02-25T19:29:50.068Z"
   },
   {
    "duration": 0,
    "start_time": "2024-02-25T19:29:50.069Z"
   },
   {
    "duration": 0,
    "start_time": "2024-02-25T19:29:50.070Z"
   },
   {
    "duration": 0,
    "start_time": "2024-02-25T19:29:50.071Z"
   },
   {
    "duration": 0,
    "start_time": "2024-02-25T19:29:50.072Z"
   },
   {
    "duration": 0,
    "start_time": "2024-02-25T19:29:50.073Z"
   },
   {
    "duration": 0,
    "start_time": "2024-02-25T19:29:50.074Z"
   },
   {
    "duration": 0,
    "start_time": "2024-02-25T19:29:50.074Z"
   },
   {
    "duration": 0,
    "start_time": "2024-02-25T19:29:50.075Z"
   },
   {
    "duration": 0,
    "start_time": "2024-02-25T19:29:50.094Z"
   },
   {
    "duration": 0,
    "start_time": "2024-02-25T19:29:50.095Z"
   },
   {
    "duration": 0,
    "start_time": "2024-02-25T19:29:50.096Z"
   },
   {
    "duration": 0,
    "start_time": "2024-02-25T19:29:50.097Z"
   },
   {
    "duration": 0,
    "start_time": "2024-02-25T19:29:50.098Z"
   },
   {
    "duration": 0,
    "start_time": "2024-02-25T19:29:50.099Z"
   },
   {
    "duration": 0,
    "start_time": "2024-02-25T19:29:50.100Z"
   },
   {
    "duration": 0,
    "start_time": "2024-02-25T19:29:50.101Z"
   },
   {
    "duration": 0,
    "start_time": "2024-02-25T19:29:50.102Z"
   },
   {
    "duration": 0,
    "start_time": "2024-02-25T19:29:50.103Z"
   },
   {
    "duration": 0,
    "start_time": "2024-02-25T19:29:50.104Z"
   },
   {
    "duration": 0,
    "start_time": "2024-02-25T19:29:50.105Z"
   },
   {
    "duration": 0,
    "start_time": "2024-02-25T19:29:50.106Z"
   },
   {
    "duration": 0,
    "start_time": "2024-02-25T19:29:50.107Z"
   },
   {
    "duration": 0,
    "start_time": "2024-02-25T19:29:50.108Z"
   },
   {
    "duration": 3,
    "start_time": "2024-02-25T19:31:16.283Z"
   },
   {
    "duration": 971,
    "start_time": "2024-02-25T19:31:23.736Z"
   },
   {
    "duration": 3,
    "start_time": "2024-02-25T19:31:24.709Z"
   },
   {
    "duration": 9159,
    "start_time": "2024-02-25T19:31:24.713Z"
   },
   {
    "duration": 22,
    "start_time": "2024-02-25T19:31:33.874Z"
   },
   {
    "duration": 84,
    "start_time": "2024-02-25T19:31:33.898Z"
   },
   {
    "duration": 167,
    "start_time": "2024-02-25T19:31:33.983Z"
   },
   {
    "duration": 281,
    "start_time": "2024-02-25T19:31:34.151Z"
   },
   {
    "duration": 3,
    "start_time": "2024-02-25T19:31:34.434Z"
   },
   {
    "duration": 92,
    "start_time": "2024-02-25T19:31:34.438Z"
   },
   {
    "duration": 3,
    "start_time": "2024-02-25T19:31:34.532Z"
   },
   {
    "duration": 19,
    "start_time": "2024-02-25T19:31:34.536Z"
   },
   {
    "duration": 9,
    "start_time": "2024-02-25T19:31:34.557Z"
   },
   {
    "duration": 5,
    "start_time": "2024-02-25T19:31:34.568Z"
   },
   {
    "duration": 20,
    "start_time": "2024-02-25T19:31:34.576Z"
   },
   {
    "duration": 272004,
    "start_time": "2024-02-25T19:31:34.598Z"
   },
   {
    "duration": 800,
    "start_time": "2024-02-25T19:36:06.603Z"
   },
   {
    "duration": 24,
    "start_time": "2024-02-25T19:36:07.405Z"
   },
   {
    "duration": 66,
    "start_time": "2024-02-25T19:36:07.431Z"
   },
   {
    "duration": 1617,
    "start_time": "2024-02-25T19:36:07.498Z"
   },
   {
    "duration": 36,
    "start_time": "2024-02-25T19:36:09.117Z"
   },
   {
    "duration": 55,
    "start_time": "2024-02-25T19:36:09.155Z"
   },
   {
    "duration": 39,
    "start_time": "2024-02-25T19:36:09.212Z"
   },
   {
    "duration": 17,
    "start_time": "2024-02-25T19:36:09.253Z"
   },
   {
    "duration": 34,
    "start_time": "2024-02-25T19:36:09.271Z"
   },
   {
    "duration": 14962,
    "start_time": "2024-02-25T19:36:09.306Z"
   },
   {
    "duration": 4,
    "start_time": "2024-02-25T19:36:24.269Z"
   },
   {
    "duration": 201,
    "start_time": "2024-02-25T19:36:24.274Z"
   },
   {
    "duration": 33,
    "start_time": "2024-02-25T19:36:24.477Z"
   },
   {
    "duration": 19,
    "start_time": "2024-02-25T19:36:24.512Z"
   }
  ],
  "kernelspec": {
   "display_name": "Python 3 (ipykernel)",
   "language": "python",
   "name": "python3"
  },
  "language_info": {
   "codemirror_mode": {
    "name": "ipython",
    "version": 3
   },
   "file_extension": ".py",
   "mimetype": "text/x-python",
   "name": "python",
   "nbconvert_exporter": "python",
   "pygments_lexer": "ipython3",
   "version": "3.11.5"
  },
  "toc": {
   "base_numbering": 1,
   "nav_menu": {},
   "number_sections": true,
   "sideBar": true,
   "skip_h1_title": true,
   "title_cell": "Table of Contents",
   "title_sidebar": "Contents",
   "toc_cell": false,
   "toc_position": {
    "height": "calc(100% - 180px)",
    "left": "10px",
    "top": "150px",
    "width": "342.4px"
   },
   "toc_section_display": true,
   "toc_window_display": true
  }
 },
 "nbformat": 4,
 "nbformat_minor": 4
}
