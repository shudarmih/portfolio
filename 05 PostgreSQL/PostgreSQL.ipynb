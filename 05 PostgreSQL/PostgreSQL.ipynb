{
 "cells": [
  {
   "cell_type": "markdown",
   "id": "252d486b-010d-419a-bc6a-91a79bf209fc",
   "metadata": {},
   "source": [
    "# Примеры моих запросов PostgreSQL"
   ]
  },
  {
   "cell_type": "markdown",
   "id": "0c55acba-93cc-4467-a535-e6b787c65c29",
   "metadata": {},
   "source": [
    "Ниже приведены несколько запросов. написанных мной, в рамках учебной программы."
   ]
  },
  {
   "cell_type": "markdown",
   "id": "676c5957-f186-4d66-bb70-a5876355c91a",
   "metadata": {},
   "source": [
    "## Задача 1"
   ]
  },
  {
   "cell_type": "markdown",
   "id": "58e57947-759f-48cf-9262-377a1b186df1",
   "metadata": {},
   "source": [
    "Составьте сводную таблицу и выведите среднюю сумму инвестиций для стран, в которых есть стартапы, зарегистрированные в 2011, 2012 и 2013 годах. Данные за каждый год должны быть в отдельном поле. Отсортируйте таблицу по среднему значению инвестиций за 2011 год от большего к меньшему."
   ]
  },
  {
   "cell_type": "code",
   "execution_count": null,
   "id": "cbb431c9-6c9f-4c25-834f-dffba2e7c47f",
   "metadata": {},
   "outputs": [],
   "source": [
    "WITH\n",
    "inv_2011 AS (SELECT country_code,\n",
    "                    AVG(funding_total) AS avg_2011\n",
    "             FROM company\n",
    "             WHERE EXTRACT(YEAR FROM fOunded_at) = 2011\n",
    "             GROUP BY country_code),\n",
    "\n",
    "inv_2012 AS (SELECT country_code,\n",
    "                    AVG(funding_total)  AS avg_2012\n",
    "             FROM company\n",
    "             WHERE EXTRACT(YEAR FROM fOunded_at) = 2012\n",
    "             GROUP BY country_code),\n",
    "\n",
    "inv_2013 AS (SELECT country_code,\n",
    "                    AVG(funding_total)  AS avg_2013\n",
    "             FROM company\n",
    "             WHERE EXTRACT(YEAR FROM fOunded_at) = 2013\n",
    "             GROUP BY country_code)             \n",
    "\n",
    "SELECT inv_2011.country_code,\n",
    "       inv_2011.avg_2011,\n",
    "       inv_2012.avg_2012,\n",
    "       inv_2013.avg_2013\n",
    " \n",
    "FROM  inv_2011\n",
    "INNER JOIN inv_2012 ON inv_2011.country_code = inv_2012.country_code\n",
    "INNER JOIN inv_2013 ON inv_2011.country_code = inv_2013.country_code\n",
    "ORDER BY inv_2011.avg_2011 DESC"
   ]
  },
  {
   "cell_type": "markdown",
   "id": "32f07b4f-67bd-4094-bbe2-4344e08541ea",
   "metadata": {},
   "source": [
    "Результат запроса (первые 10 строк)"
   ]
  },
  {
   "cell_type": "markdown",
   "id": "3a4f03fa-28b9-4034-aa55-079606915bbc",
   "metadata": {},
   "source": [
    "|country_code|avg_2011|avg_2012|avg_2013|\n",
    "|---|---|---|---|\n",
    "|PER|4000000|41000|25000|\n",
    "|USA|2.24396e+06|1.20671e+06|1.09336e+06|\n",
    "|HKG|2.18078e+06|226227|0|\n",
    "|PHL|1.75e+06|4218.75|2500|\n",
    "|ARE|1.718e+06|197222|35333.3|\n",
    "|JPN|1.66431e+06|674720|50000|\n",
    "|AUT|1.5342e+06|147806|85773.3|\n",
    "|BRA|1.38007e+06|240639|67944.4|\n",
    "|DEU|1.1288e+06|1.32915e+06|66612.7|\n",
    "|ISR|1.03076e+06|1.27121e+06|294022|"
   ]
  },
  {
   "cell_type": "markdown",
   "id": "9768dad1-6227-4c2c-bcdb-ccbbdb15613f",
   "metadata": {},
   "source": [
    "## Задача 2"
   ]
  },
  {
   "cell_type": "markdown",
   "id": "fcf0c474-575e-4528-a7fa-0e421ad684d6",
   "metadata": {},
   "source": [
    "Отберите данные по месяцам с 2010 по 2013 год, когда проходили инвестиционные раунды. Сгруппируйте данные по номеру месяца и получите таблицу, в которой будут поля:\n",
    "\n",
    "    номер месяца, в котором проходили раунды;\n",
    "    количество уникальных названий фондов из США, которые инвестировали в этом месяце;\n",
    "    количество компаний, купленных за этот месяц;\n",
    "    общая сумма сделок по покупкам в этом месяце."
   ]
  },
  {
   "cell_type": "code",
   "execution_count": null,
   "id": "3d006c44-bab5-4a1f-ac70-061f8ed1a6b6",
   "metadata": {},
   "outputs": [],
   "source": [
    "SELECT EXTRACT(MONTH FROM fr.funded_at) AS monthh,\n",
    "    COUNT(DISTINCT f.name) AS fund_name,\n",
    "    COUNT(a.acquired_company_id) AS purchases,\n",
    "    SUM(a.price_amount) AS sum_purchases\n",
    "    \n",
    "FROM funding_round AS fr\n",
    "INNER JOIN investment AS i ON fr.id = i.funding_round_id\n",
    "INNER JOIN fund AS f ON i.fund_id = f.id\n",
    "RIGHT OUTER JOIN company AS c ON i.company_id = c.id\n",
    "FULL OUTER JOIN acquisition AS a ON c.id = a.acquired_company_id\n",
    "\n",
    "WHERE EXTRACT(YEAR FROM fr.funded_at) BETWEEN 2010 AND 2013\n",
    "    AND f.country_code = 'USA'\n",
    "\n",
    "GROUP BY monthh"
   ]
  },
  {
   "cell_type": "markdown",
   "id": "88fdf971-1984-449b-9bbb-389c4f880c63",
   "metadata": {},
   "source": [
    "Результат запроса"
   ]
  },
  {
   "cell_type": "markdown",
   "id": "176eb09e-0cdf-4fd9-89e9-2d602dee3a73",
   "metadata": {},
   "source": [
    "|monthh|fund_name|purchases|sum_purchases|\n",
    "|---|---|---|---|\n",
    "|1|815|204|1.61211e+10|\n",
    "|2|637|129|4.04339e+10|\n",
    "|3|695|179|1.12549e+10|\n",
    "|4|718|187|4.11024e+10|\n",
    "|5|695|130|9.2698e+09|\n",
    "|6|785|205|2.10111e+10|\n",
    "|7|803|119|1.4561e+10|\n",
    "|8|726|170|1.03931e+10|\n",
    "|9|793|153|2.6312e+10|\n",
    "|10|764|156|2.4613e+10|\n",
    "|11|661|142|2.3009e+10|\n",
    "|12|590|90|6.5475e+09|\n"
   ]
  },
  {
   "cell_type": "markdown",
   "id": "ff9c5c62-f92f-4a2b-b536-43d6b9d89c78",
   "metadata": {},
   "source": [
    "## Задача 3"
   ]
  },
  {
   "cell_type": "markdown",
   "id": "2e5ac1d7-2da4-4523-acf1-893e330d5b9d",
   "metadata": {},
   "source": [
    "На сколько процентов ежегодно менялось количество заказов в Northwind с 1996 по 1998 годы. Отобразите таблицу со следующими полями:\n",
    "\n",
    "    Число года.\n",
    "    Количество заказов за год.\n",
    "    Процент, округлённый до целого числа, который показывает, насколько изменилось количество заказов в текущем году по сравнению с предыдущим. Для 1996 года выведите значение NULL."
   ]
  },
  {
   "cell_type": "code",
   "execution_count": null,
   "id": "19700920-06ae-427e-b805-ca12d33d424d",
   "metadata": {},
   "outputs": [],
   "source": [
    "SELECT *,\n",
    "ROUND(CAST(orders_count - LAG(orders_count) OVER (ORDER BY creation_year) AS numeric) / LAG(orders_count, 1, 0) OVER (ORDER BY creation_year) * 100)\n",
    "FROM (\n",
    "SELECT EXTRACT(YEAR FROM order_date) AS creation_year, \n",
    "    COUNT(order_id) AS orders_count\n",
    "FROM northwind.orders\n",
    "WHERE EXTRACT(YEAR FROM order_date) BETWEEN 1996 AND 1998\n",
    "GROUP BY creation_year\n",
    "ORDER BY EXTRACT(YEAR FROM order_date)\n",
    "    ) AS ord_num"
   ]
  },
  {
   "cell_type": "markdown",
   "id": "1362386b-1a80-4581-aef6-ec00602d2d37",
   "metadata": {},
   "source": [
    "|creation_year|orders_count|round|\n",
    "|---|---|---|\n",
    "|1996|152|[NULL]|\n",
    "|1997|408|168|\n",
    "|1998|270|-34|"
   ]
  }
 ],
 "metadata": {
  "kernelspec": {
   "display_name": "Python 3 (ipykernel)",
   "language": "python",
   "name": "python3"
  },
  "language_info": {
   "codemirror_mode": {
    "name": "ipython",
    "version": 3
   },
   "file_extension": ".py",
   "mimetype": "text/x-python",
   "name": "python",
   "nbconvert_exporter": "python",
   "pygments_lexer": "ipython3",
   "version": "3.11.5"
  }
 },
 "nbformat": 4,
 "nbformat_minor": 5
}
